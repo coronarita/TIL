{
  "nbformat": 4,
  "nbformat_minor": 0,
  "metadata": {
    "colab": {
      "provenance": [],
      "authorship_tag": "ABX9TyOMcI4ssX6ztouolo3VRNiB",
      "include_colab_link": true
    },
    "kernelspec": {
      "name": "python3",
      "display_name": "Python 3"
    },
    "language_info": {
      "name": "python"
    }
  },
  "cells": [
    {
      "cell_type": "markdown",
      "metadata": {
        "id": "view-in-github",
        "colab_type": "text"
      },
      "source": [
        "<a href=\"https://colab.research.google.com/github/coronarita/TIL/blob/main/Pypdf2.ipynb\" target=\"_parent\"><img src=\"https://colab.research.google.com/assets/colab-badge.svg\" alt=\"Open In Colab\"/></a>"
      ]
    },
    {
      "cell_type": "markdown",
      "source": [
        "### PyPDF2 설치하기\n"
      ],
      "metadata": {
        "id": "Ie_pS29YaTiZ"
      }
    },
    {
      "cell_type": "markdown",
      "source": [
        " PyPDF2의 강점 :\n",
        "* 글자, 이모지 (😀)등에 대한 인식률이 좋음\n",
        "* Free, Open Source to use\n",
        "* 비교적 쉬운 문법으로 이루어져 있다.\n"
      ],
      "metadata": {
        "id": "EDo8hGHHanjd"
      }
    },
    {
      "cell_type": "code",
      "source": [
        "!pip install PyPDF2"
      ],
      "metadata": {
        "colab": {
          "base_uri": "https://localhost:8080/"
        },
        "id": "WTwcpuKZJMoa",
        "outputId": "d9e269b5-8fea-4c1f-f6d1-2e9be5a208b9"
      },
      "execution_count": null,
      "outputs": [
        {
          "output_type": "stream",
          "name": "stdout",
          "text": [
            "Collecting PyPDF2\n",
            "  Downloading pypdf2-3.0.1-py3-none-any.whl (232 kB)\n",
            "\u001b[?25l     \u001b[90m━━━━━━━━━━━━━━━━━━━━━━━━━━━━━━━━━━━━━━━━\u001b[0m \u001b[32m0.0/232.6 kB\u001b[0m \u001b[31m?\u001b[0m eta \u001b[36m-:--:--\u001b[0m\r\u001b[2K     \u001b[91m━━━━━━━━━━━━━━━━━━━━━━━━━━━━━━━━━\u001b[0m\u001b[90m╺\u001b[0m\u001b[90m━━━━━━\u001b[0m \u001b[32m194.6/232.6 kB\u001b[0m \u001b[31m5.6 MB/s\u001b[0m eta \u001b[36m0:00:01\u001b[0m\r\u001b[2K     \u001b[90m━━━━━━━━━━━━━━━━━━━━━━━━━━━━━━━━━━━━━━━━\u001b[0m \u001b[32m232.6/232.6 kB\u001b[0m \u001b[31m5.2 MB/s\u001b[0m eta \u001b[36m0:00:00\u001b[0m\n",
            "\u001b[?25hInstalling collected packages: PyPDF2\n",
            "Successfully installed PyPDF2-3.0.1\n"
          ]
        }
      ]
    },
    {
      "cell_type": "markdown",
      "source": [
        "### PDF 페이지 정보 확인하기"
      ],
      "metadata": {
        "id": "CzAsFcBJaRE2"
      }
    },
    {
      "cell_type": "code",
      "source": [
        "from PyPDF2 import PdfWriter, PdfReader\n",
        "\n",
        "pdf_file = 'input.pdf'\n",
        "\n",
        "page = PdfReader(pdf_file)\n",
        "numPages = len(page.pages)\n",
        "print (\"document has %s pages.\" % numPages)"
      ],
      "metadata": {
        "colab": {
          "base_uri": "https://localhost:8080/"
        },
        "id": "vYUWsrRzZ_gB",
        "outputId": "7ddfc0f9-5441-4021-84de-43b8de72cfdf"
      },
      "execution_count": 43,
      "outputs": [
        {
          "output_type": "stream",
          "name": "stdout",
          "text": [
            "document has 164 pages.\n"
          ]
        }
      ]
    },
    {
      "cell_type": "code",
      "execution_count": null,
      "metadata": {
        "id": "7btsqfeiJFn-"
      },
      "outputs": [],
      "source": [
        "import PyPDF2\n",
        "\n",
        "def pick_left_pdf_pages(input_pdf_path, output_pdf_path):\n",
        "    input_pdf = PyPDF2.PdfReader(input_pdf_path)\n",
        "    output_pdf = PyPDF2.PdfWriter()\n",
        "\n",
        "    for i in range(len(input_pdf.pages)):\n",
        "        page = input_pdf.pages[i]\n",
        "\n",
        "        # 페이지를 분할하는 로직 (이 로직은 단순하게, 좌측(홀수) 페이지만 분할해주는 기능)\n",
        "        page.cropbox.lower_left = (0, 0)\n",
        "        page.cropbox.upper_right = (page.mediabox.right / 2, page.mediabox.top)\n",
        "        output_pdf.add_page(page)\n",
        "\n",
        "\n",
        "    with open(output_pdf_path, 'wb') as out:\n",
        "        output_pdf.write(out)\n",
        "\n",
        "pick_left_pdf_pages('input.pdf', 'output.pdf')"
      ]
    },
    {
      "cell_type": "markdown",
      "source": [
        "2in1페이지 -> 1페이지로 crop 후 합치기"
      ],
      "metadata": {
        "id": "7ebxTxxodGCg"
      }
    },
    {
      "cell_type": "code",
      "source": [
        "import PyPDF2\n",
        "\n",
        "def split_pdf_pages(input_pdf_path, output_pdf_path):\n",
        "    input_pdf = PyPDF2.PdfReader(input_pdf_path)\n",
        "    output_pdf = PyPDF2.PdfWriter()\n",
        "\n",
        "    for i in range(len(input_pdf.pages)):\n",
        "        page = input_pdf.pages[i]\n",
        "        upper_half = page.mediabox.upper_right\n",
        "        lower_half = page.mediabox.lower_right\n",
        "\n",
        "        # 페이지를 수직으로 나눔\n",
        "        page_left = page\n",
        "        page_left.mediabox.upper_right = (upper_half[0]/2, upper_half[1])\n",
        "\n",
        "        output_pdf.add_page(page_left)\n",
        "\n",
        "        page_right = page\n",
        "        page_right.mediabox.lower_left = (lower_half[0]/2, lower_half[1])\n",
        "        page_left.mediabox.upper_right = (upper_half[0], upper_half[1])\n",
        "\n",
        "        output_pdf.add_page(page_right)\n",
        "\n",
        "    with open(output_pdf_path, 'wb') as out:\n",
        "        output_pdf.write(out)\n",
        "\n",
        "split_pdf_pages('input.pdf', 'output.pdf')"
      ],
      "metadata": {
        "id": "240gbWlSJH2j"
      },
      "execution_count": null,
      "outputs": []
    },
    {
      "cell_type": "code",
      "source": [],
      "metadata": {
        "id": "lLiJrjmrULwC"
      },
      "execution_count": null,
      "outputs": []
    }
  ]
}