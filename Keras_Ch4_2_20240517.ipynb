{
  "nbformat": 4,
  "nbformat_minor": 0,
  "metadata": {
    "colab": {
      "provenance": [],
      "authorship_tag": "ABX9TyPfjRWt7AreFNnnFQLNfwdR",
      "include_colab_link": true
    },
    "kernelspec": {
      "name": "python3",
      "display_name": "Python 3"
    },
    "language_info": {
      "name": "python"
    }
  },
  "cells": [
    {
      "cell_type": "markdown",
      "metadata": {
        "id": "view-in-github",
        "colab_type": "text"
      },
      "source": [
        "<a href=\"https://colab.research.google.com/github/coronarita/TIL/blob/main/Keras_Ch4_2_20240517.ipynb\" target=\"_parent\"><img src=\"https://colab.research.google.com/assets/colab-badge.svg\" alt=\"Open In Colab\"/></a>"
      ]
    },
    {
      "cell_type": "markdown",
      "source": [
        "# 뉴스 기사 분류"
      ],
      "metadata": {
        "id": "Mrq80q1Vpr6N"
      }
    },
    {
      "cell_type": "markdown",
      "source": [
        "## 로이터 데이터 셋 로드"
      ],
      "metadata": {
        "id": "Q5tzSrDBYWtV"
      }
    },
    {
      "cell_type": "code",
      "source": [
        "from tensorflow.keras.datasets import reuters\n",
        "(train_data, train_labels), (test_data, test_labels) = reuters.load_data(\n",
        "    num_words=10000)"
      ],
      "metadata": {
        "id": "3XJReNOrYY0P",
        "colab": {
          "base_uri": "https://localhost:8080/"
        },
        "outputId": "aa791067-9c86-4ec4-dca2-b919332731ed"
      },
      "execution_count": null,
      "outputs": [
        {
          "output_type": "stream",
          "name": "stdout",
          "text": [
            "Downloading data from https://storage.googleapis.com/tensorflow/tf-keras-datasets/reuters.npz\n",
            "2110848/2110848 [==============================] - 1s 0us/step\n"
          ]
        }
      ]
    },
    {
      "cell_type": "code",
      "source": [
        "# 로이터 셋 디코딩\n",
        "word_index = reuters.get_word_index()\n",
        "reverse_word_index = dict([(value, key) for (key, value) in word_index.items()])\n",
        "decoded_newswire = \" \".join([reverse_word_index.get(i-3, \"?\") for i in train_data[0]])"
      ],
      "metadata": {
        "id": "LKXOb3fAYeC3",
        "colab": {
          "base_uri": "https://localhost:8080/"
        },
        "outputId": "ac4eabb8-ef63-4069-b44a-16c09d5c1a67"
      },
      "execution_count": null,
      "outputs": [
        {
          "output_type": "stream",
          "name": "stdout",
          "text": [
            "Downloading data from https://storage.googleapis.com/tensorflow/tf-keras-datasets/reuters_word_index.json\n",
            "550378/550378 [==============================] - 0s 1us/step\n"
          ]
        }
      ]
    },
    {
      "cell_type": "code",
      "source": [
        "train_labels[10]"
      ],
      "metadata": {
        "id": "jVM5ESjUYuaT",
        "colab": {
          "base_uri": "https://localhost:8080/"
        },
        "outputId": "6126144e-de09-4949-8e56-232a180a3699"
      },
      "execution_count": null,
      "outputs": [
        {
          "output_type": "execute_result",
          "data": {
            "text/plain": [
              "3"
            ]
          },
          "metadata": {},
          "execution_count": 3
        }
      ]
    },
    {
      "cell_type": "markdown",
      "source": [
        "## 데이터 셋 준비"
      ],
      "metadata": {
        "id": "rB1uLiRwKamB"
      }
    },
    {
      "cell_type": "code",
      "source": [
        "# 정수 시퀀스 -> 멀티-핫 인코딩\n",
        "\n",
        "import numpy as np\n",
        "def vectorize_sequences(sequences, dimension=10000):\n",
        "    results = np.zeros((len(sequences), dimension)) # 들어오는 데이터들 변경\n",
        "    for i, sequence in enumerate(sequences):\n",
        "        for j in sequence :\n",
        "            results[i, j] = 1.\n",
        "    return results"
      ],
      "metadata": {
        "id": "DnGa2S--qmZ7"
      },
      "execution_count": null,
      "outputs": []
    },
    {
      "cell_type": "markdown",
      "source": [
        "### Data Encoding"
      ],
      "metadata": {
        "id": "S8oETrXJYx0a"
      }
    },
    {
      "cell_type": "code",
      "source": [
        "x_train = vectorize_sequences(train_data)\n",
        "x_test = vectorize_sequences(test_data)"
      ],
      "metadata": {
        "id": "n-i2sTrvI-x0"
      },
      "execution_count": null,
      "outputs": []
    },
    {
      "cell_type": "markdown",
      "source": [
        "### Label Encoding"
      ],
      "metadata": {
        "id": "oL9ENvJYYzt8"
      }
    },
    {
      "cell_type": "code",
      "source": [
        "def to_one_hot(labels, dimension=46):\n",
        "    results = np.zeros((len(labels), dimension))\n",
        "    for i, label in enumerate(labels):\n",
        "        results[i, label] = 1.\n",
        "    return results\n",
        "\n",
        "y_train = to_one_hot(train_labels)\n",
        "y_test = to_one_hot(test_labels)"
      ],
      "metadata": {
        "id": "VRGM5JufY2DA"
      },
      "execution_count": null,
      "outputs": []
    },
    {
      "cell_type": "code",
      "source": [
        "from tensorflow.keras.utils import to_categorical\n",
        "y_train = to_categorical(train_labels)\n",
        "y_test = to_categorical(test_labels)"
      ],
      "metadata": {
        "id": "GjPzHIwQZJxP"
      },
      "execution_count": null,
      "outputs": []
    },
    {
      "cell_type": "markdown",
      "source": [
        "## Model 구성"
      ],
      "metadata": {
        "id": "VHWax-MxZR4v"
      }
    },
    {
      "cell_type": "code",
      "source": [
        "from tensorflow import keras\n",
        "from tensorflow.keras import layers"
      ],
      "metadata": {
        "id": "7JMH9Nmhqr3f"
      },
      "execution_count": null,
      "outputs": []
    },
    {
      "cell_type": "markdown",
      "source": [
        "### 모델 정의"
      ],
      "metadata": {
        "id": "tJYHEkaSau88"
      }
    },
    {
      "cell_type": "code",
      "source": [
        "model = keras.Sequential([\n",
        "    layers.Dense(64, activation=\"relu\"), # 46개의 클래스임. 정보 병목 방지를 위해 크게 지정\n",
        "    layers.Dense(64, activation=\"relu\"),\n",
        "    layers.Dense(46, activation=\"softmax\")\n",
        "])"
      ],
      "metadata": {
        "id": "zVSASo5xZUev"
      },
      "execution_count": null,
      "outputs": []
    },
    {
      "cell_type": "markdown",
      "source": [
        "### Model Compile"
      ],
      "metadata": {
        "id": "RF0NHkRdakB5"
      }
    },
    {
      "cell_type": "code",
      "source": [
        "model.compile(optimizer=\"rmsprop\",\n",
        "              loss=\"categorical_crossentropy\",\n",
        "              metrics=[\"accuracy\"])"
      ],
      "metadata": {
        "id": "YKM9UuozaeRg"
      },
      "execution_count": null,
      "outputs": []
    },
    {
      "cell_type": "markdown",
      "source": [
        "## 훈련 검증"
      ],
      "metadata": {
        "id": "F1BwXPDIaq_g"
      }
    },
    {
      "cell_type": "markdown",
      "source": [
        "### 검증 세트 준비"
      ],
      "metadata": {
        "id": "4YrC5LGha8Ja"
      }
    },
    {
      "cell_type": "code",
      "source": [
        "x_val = x_train[:1000]\n",
        "partial_x_train = x_train[1000:]\n",
        "y_val = y_train[:1000]\n",
        "partial_y_train = y_train[1000:]"
      ],
      "metadata": {
        "id": "BjzQOmxza6np"
      },
      "execution_count": null,
      "outputs": []
    },
    {
      "cell_type": "markdown",
      "source": [
        "### 모델 훈련하기"
      ],
      "metadata": {
        "id": "8yFW0NWza-m6"
      }
    },
    {
      "cell_type": "code",
      "source": [
        "history = model.fit(partial_x_train,\n",
        "                    partial_y_train,\n",
        "                    epochs=20,\n",
        "                    batch_size=512,\n",
        "                    validation_data=(x_val, y_val))"
      ],
      "metadata": {
        "id": "jebwBdlUbAaz",
        "colab": {
          "base_uri": "https://localhost:8080/"
        },
        "outputId": "335dfe61-2091-4cdf-862a-64d472b8df3b"
      },
      "execution_count": null,
      "outputs": [
        {
          "output_type": "stream",
          "name": "stdout",
          "text": [
            "Epoch 1/20\n",
            "16/16 [==============================] - 3s 113ms/step - loss: 2.8179 - accuracy: 0.4645 - val_loss: 1.9245 - val_accuracy: 0.6120\n",
            "Epoch 2/20\n",
            "16/16 [==============================] - 2s 93ms/step - loss: 1.5968 - accuracy: 0.6783 - val_loss: 1.4232 - val_accuracy: 0.6960\n",
            "Epoch 3/20\n",
            "16/16 [==============================] - 1s 94ms/step - loss: 1.2152 - accuracy: 0.7389 - val_loss: 1.2506 - val_accuracy: 0.7200\n",
            "Epoch 4/20\n",
            "16/16 [==============================] - 1s 49ms/step - loss: 0.9966 - accuracy: 0.7865 - val_loss: 1.1061 - val_accuracy: 0.7700\n",
            "Epoch 5/20\n",
            "16/16 [==============================] - 1s 54ms/step - loss: 0.8286 - accuracy: 0.8220 - val_loss: 1.0328 - val_accuracy: 0.7870\n",
            "Epoch 6/20\n",
            "16/16 [==============================] - 1s 52ms/step - loss: 0.6992 - accuracy: 0.8502 - val_loss: 0.9901 - val_accuracy: 0.7950\n",
            "Epoch 7/20\n",
            "16/16 [==============================] - 1s 51ms/step - loss: 0.5911 - accuracy: 0.8750 - val_loss: 0.9405 - val_accuracy: 0.7970\n",
            "Epoch 8/20\n",
            "16/16 [==============================] - 1s 54ms/step - loss: 0.5002 - accuracy: 0.8936 - val_loss: 0.9212 - val_accuracy: 0.8150\n",
            "Epoch 9/20\n",
            "16/16 [==============================] - 1s 51ms/step - loss: 0.4276 - accuracy: 0.9098 - val_loss: 0.8949 - val_accuracy: 0.8100\n",
            "Epoch 10/20\n",
            "16/16 [==============================] - 1s 49ms/step - loss: 0.3655 - accuracy: 0.9230 - val_loss: 0.9025 - val_accuracy: 0.8120\n",
            "Epoch 11/20\n",
            "16/16 [==============================] - 1s 50ms/step - loss: 0.3202 - accuracy: 0.9328 - val_loss: 0.8931 - val_accuracy: 0.8100\n",
            "Epoch 12/20\n",
            "16/16 [==============================] - 1s 50ms/step - loss: 0.2774 - accuracy: 0.9366 - val_loss: 0.8882 - val_accuracy: 0.8150\n",
            "Epoch 13/20\n",
            "16/16 [==============================] - 1s 50ms/step - loss: 0.2493 - accuracy: 0.9434 - val_loss: 0.9071 - val_accuracy: 0.8080\n",
            "Epoch 14/20\n",
            "16/16 [==============================] - 1s 50ms/step - loss: 0.2170 - accuracy: 0.9476 - val_loss: 0.9362 - val_accuracy: 0.8000\n",
            "Epoch 15/20\n",
            "16/16 [==============================] - 1s 52ms/step - loss: 0.1980 - accuracy: 0.9509 - val_loss: 0.9415 - val_accuracy: 0.8100\n",
            "Epoch 16/20\n",
            "16/16 [==============================] - 1s 88ms/step - loss: 0.1837 - accuracy: 0.9515 - val_loss: 0.9053 - val_accuracy: 0.8180\n",
            "Epoch 17/20\n",
            "16/16 [==============================] - 2s 103ms/step - loss: 0.1680 - accuracy: 0.9529 - val_loss: 0.9352 - val_accuracy: 0.8050\n",
            "Epoch 18/20\n",
            "16/16 [==============================] - 1s 85ms/step - loss: 0.1605 - accuracy: 0.9549 - val_loss: 1.0295 - val_accuracy: 0.7940\n",
            "Epoch 19/20\n",
            "16/16 [==============================] - 1s 64ms/step - loss: 0.1462 - accuracy: 0.9565 - val_loss: 0.9638 - val_accuracy: 0.8080\n",
            "Epoch 20/20\n",
            "16/16 [==============================] - 1s 50ms/step - loss: 0.1400 - accuracy: 0.9582 - val_loss: 1.0068 - val_accuracy: 0.8070\n"
          ]
        }
      ]
    },
    {
      "cell_type": "markdown",
      "source": [
        "### 훈련과 검증 손실 그리기"
      ],
      "metadata": {
        "id": "3m3bPBLBbEbU"
      }
    },
    {
      "cell_type": "code",
      "source": [
        "import matplotlib.pyplot as plt"
      ],
      "metadata": {
        "id": "G5ONhUySq_Ou"
      },
      "execution_count": null,
      "outputs": []
    },
    {
      "cell_type": "code",
      "source": [
        "loss = history.history[\"loss\"]\n",
        "val_loss = history.history[\"val_loss\"]\n",
        "epochs = range(1, len(loss) + 1)\n",
        "plt.plot(epochs, loss, \"bo\", label=\"Training loss\")\n",
        "plt.plot(epochs, val_loss, \"b\", label=\"Validation loss\")\n",
        "plt.title(\"Training and validation loss\")\n",
        "plt.xlabel(\"Epochs\")\n",
        "plt.ylabel(\"Loss\")\n",
        "plt.legend()\n",
        "plt.show()"
      ],
      "metadata": {
        "id": "d5FwdBkBbGRC",
        "colab": {
          "base_uri": "https://localhost:8080/",
          "height": 472
        },
        "outputId": "2461a1cd-2592-4bf3-f062-c9542457d0cb"
      },
      "execution_count": null,
      "outputs": [
        {
          "output_type": "display_data",
          "data": {
            "text/plain": [
              "<Figure size 640x480 with 1 Axes>"
            ],
            "image/png": "[encoded data removed]"
          },
          "metadata": {}
        }
      ]
    },
    {
      "cell_type": "markdown",
      "source": [
        "### 훈련, 검증 정확도그리기"
      ],
      "metadata": {
        "id": "O1uEJfjBbI6z"
      }
    },
    {
      "cell_type": "code",
      "source": [
        "plt.clf()\n",
        "acc = history.history[\"accuracy\"]\n",
        "val_acc = history.history[\"val_accuracy\"]\n",
        "plt.plot(epochs, acc, \"bo\", label=\"Training accuracy\")\n",
        "plt.plot(epochs, val_acc, \"b\", label=\"Validation accuracy\")\n",
        "plt.title(\"Training and validation accuracy\")\n",
        "plt.xlabel(\"Epochs\")\n",
        "plt.ylabel(\"Accuracy\")\n",
        "plt.legend()\n",
        "plt.show()"
      ],
      "metadata": {
        "id": "yzzCYC3MbKx5",
        "colab": {
          "base_uri": "https://localhost:8080/",
          "height": 472
        },
        "outputId": "5a9a2a64-232d-4e17-9626-3b7ee1a98f0c"
      },
      "execution_count": null,
      "outputs": [
        {
          "output_type": "display_data",
          "data": {
            "text/plain": [
              "<Figure size 640x480 with 1 Axes>"
            ],
            "image/png": "[encoded data removed]"
          },
          "metadata": {}
        }
      ]
    },
    {
      "cell_type": "markdown",
      "source": [
        "### 모델 처음부터 다시 훈련하기"
      ],
      "metadata": {
        "id": "Ax1FKZz7bI3h"
      }
    },
    {
      "cell_type": "code",
      "source": [
        "model = keras.Sequential([\n",
        "  layers.Dense(64, activation=\"relu\"),\n",
        "  layers.Dense(64, activation=\"relu\"),\n",
        "  layers.Dense(46, activation=\"softmax\")\n",
        "])\n",
        "model.compile(optimizer=\"rmsprop\",\n",
        "              loss=\"categorical_crossentropy\",\n",
        "              metrics=[\"accuracy\"])\n",
        "\n",
        "model.fit(x_train,\n",
        "          y_train,\n",
        "          epochs=9,\n",
        "          batch_size=512)\n",
        "results = model.evaluate(x_test, y_test)"
      ],
      "metadata": {
        "id": "XACBhLiLbSyP",
        "colab": {
          "base_uri": "https://localhost:8080/"
        },
        "outputId": "7c3f6ae9-6a8e-4ebd-e8aa-3b611b2680a9"
      },
      "execution_count": null,
      "outputs": [
        {
          "output_type": "stream",
          "name": "stdout",
          "text": [
            "Epoch 1/9\n",
            "18/18 [==============================] - 4s 125ms/step - loss: 2.5550 - accuracy: 0.4823\n",
            "Epoch 2/9\n",
            "18/18 [==============================] - 1s 61ms/step - loss: 1.4613 - accuracy: 0.6883\n",
            "Epoch 3/9\n",
            "18/18 [==============================] - 1s 42ms/step - loss: 1.1332 - accuracy: 0.7492\n",
            "Epoch 4/9\n",
            "18/18 [==============================] - 1s 47ms/step - loss: 0.9314 - accuracy: 0.7963\n",
            "Epoch 5/9\n",
            "18/18 [==============================] - 1s 47ms/step - loss: 0.7758 - accuracy: 0.8293\n",
            "Epoch 6/9\n",
            "18/18 [==============================] - 1s 46ms/step - loss: 0.6464 - accuracy: 0.8586\n",
            "Epoch 7/9\n",
            "18/18 [==============================] - 1s 47ms/step - loss: 0.5404 - accuracy: 0.8839\n",
            "Epoch 8/9\n",
            "18/18 [==============================] - 1s 47ms/step - loss: 0.4523 - accuracy: 0.9035\n",
            "Epoch 9/9\n",
            "18/18 [==============================] - 1s 50ms/step - loss: 0.3833 - accuracy: 0.9206\n",
            "71/71 [==============================] - 1s 8ms/step - loss: 0.9173 - accuracy: 0.7916\n"
          ]
        }
      ]
    },
    {
      "cell_type": "code",
      "source": [
        "results"
      ],
      "metadata": {
        "id": "kr5eh4tmbUxN",
        "colab": {
          "base_uri": "https://localhost:8080/"
        },
        "outputId": "a82b4b80-7f62-452b-87d6-a47da0d29de4"
      },
      "execution_count": null,
      "outputs": [
        {
          "output_type": "execute_result",
          "data": {
            "text/plain": [
              "[0.917336106300354, 0.7916295528411865]"
            ]
          },
          "metadata": {},
          "execution_count": 27
        }
      ]
    },
    {
      "cell_type": "code",
      "source": [
        "# 무작위 분류기\n",
        "import copy\n",
        "test_labels_copy = copy.copy(test_labels)\n",
        "np.random.shuffle(test_labels_copy)\n",
        "hits_array = np.array(test_labels) == np.array(test_labels_copy)\n",
        "hits_array.mean()"
      ],
      "metadata": {
        "id": "2qGjrADdbeJt",
        "colab": {
          "base_uri": "https://localhost:8080/"
        },
        "outputId": "1fdfb95a-cd9d-4fac-850d-2bf4b4d4b849"
      },
      "execution_count": null,
      "outputs": [
        {
          "output_type": "execute_result",
          "data": {
            "text/plain": [
              "0.176313446126447"
            ]
          },
          "metadata": {},
          "execution_count": 28
        }
      ]
    },
    {
      "cell_type": "code",
      "source": [
        "predictions = model.predict(x_test)"
      ],
      "metadata": {
        "id": "rPhw09S8biwR",
        "colab": {
          "base_uri": "https://localhost:8080/"
        },
        "outputId": "27a5c5b4-c89b-4ca0-f0c3-5f91571d451e"
      },
      "execution_count": null,
      "outputs": [
        {
          "output_type": "stream",
          "name": "stdout",
          "text": [
            "71/71 [==============================] - 1s 7ms/step\n"
          ]
        }
      ]
    },
    {
      "cell_type": "code",
      "source": [
        "predictions[0].shape"
      ],
      "metadata": {
        "id": "MxNydk8BcG2O",
        "colab": {
          "base_uri": "https://localhost:8080/"
        },
        "outputId": "b3f1bc57-0050-4921-c9bc-97bf48ae208f"
      },
      "execution_count": null,
      "outputs": [
        {
          "output_type": "execute_result",
          "data": {
            "text/plain": [
              "(46,)"
            ]
          },
          "metadata": {},
          "execution_count": 30
        }
      ]
    },
    {
      "cell_type": "code",
      "source": [
        "np.sum(predictions[0])"
      ],
      "metadata": {
        "id": "hmdwgq6ecH58",
        "colab": {
          "base_uri": "https://localhost:8080/"
        },
        "outputId": "c64e6fa7-8317-4bea-af03-e2451853ebd8"
      },
      "execution_count": null,
      "outputs": [
        {
          "output_type": "execute_result",
          "data": {
            "text/plain": [
              "1.0"
            ]
          },
          "metadata": {},
          "execution_count": 31
        }
      ]
    },
    {
      "cell_type": "code",
      "source": [
        "np.argmax(predictions[0])"
      ],
      "metadata": {
        "id": "CocyaW0CcJ2B",
        "colab": {
          "base_uri": "https://localhost:8080/"
        },
        "outputId": "5f3f35a6-6686-42c7-c874-16cd5f9872aa"
      },
      "execution_count": null,
      "outputs": [
        {
          "output_type": "execute_result",
          "data": {
            "text/plain": [
              "3"
            ]
          },
          "metadata": {},
          "execution_count": 32
        }
      ]
    },
    {
      "cell_type": "markdown",
      "source": [
        "## 레이블과 손실을 다루는 다른 방법"
      ],
      "metadata": {
        "id": "VFu1plr3cM_R"
      }
    },
    {
      "cell_type": "code",
      "source": [
        "# 정수형 벡터로 다룸.\n",
        "y_train = np.array(train_labels)\n",
        "y_test = np.array(test_labels)"
      ],
      "metadata": {
        "id": "YIIthN0TcQHL"
      },
      "execution_count": null,
      "outputs": []
    },
    {
      "cell_type": "code",
      "source": [
        "model.compile(optimizer=\"rmsprop\",\n",
        "              loss=\"sparse_categorical_crossentropy\",\n",
        "              metrics=[\"accuracy\"])"
      ],
      "metadata": {
        "id": "C5cRvn4kciYh"
      },
      "execution_count": null,
      "outputs": []
    },
    {
      "cell_type": "markdown",
      "source": [
        "## 충분히 큰 중간 층을 두어야 하는 이유"
      ],
      "metadata": {
        "id": "R24dhFvTfk9L"
      }
    },
    {
      "cell_type": "markdown",
      "source": [
        "### 정보 병목이 있는 모델"
      ],
      "metadata": {
        "id": "5wzFXaEOqZdR"
      }
    },
    {
      "cell_type": "code",
      "source": [
        "model = keras.Sequential([\n",
        "    layers.Dense(64, activation=\"relu\"),\n",
        "    layers.Dense(4, activation=\"relu\"),\n",
        "    layers.Dense(46, activation=\"softmax\")\n",
        "])\n",
        "model.compile(optimizer=\"rmsprop\",\n",
        "              loss=\"categorical_crossentropy\",\n",
        "              metrics=[\"accuracy\"])\n",
        "model.fit(partial_x_train,\n",
        "          partial_y_train,\n",
        "          epochs=20,\n",
        "          batch_size=128,\n",
        "          validation_data=(x_val, y_val))\n",
        "results = model.evaluate(x_test, y_test)\n",
        "results"
      ],
      "metadata": {
        "id": "LFxWk4NQfkgp",
        "colab": {
          "base_uri": "https://localhost:8080/"
        },
        "outputId": "62fc8c6a-1a24-4964-d3ee-a8bf3bfdeb7c"
      },
      "execution_count": null,
      "outputs": [
        {
          "output_type": "stream",
          "name": "stdout",
          "text": [
            "Epoch 1/20\n",
            "63/63 [==============================] - 2s 31ms/step - loss: 2.7677 - accuracy: 0.3758 - val_loss: 1.9807 - val_accuracy: 0.5790\n",
            "Epoch 2/20\n",
            "63/63 [==============================] - 1s 18ms/step - loss: 1.6308 - accuracy: 0.6363 - val_loss: 1.4871 - val_accuracy: 0.6650\n",
            "Epoch 3/20\n",
            "63/63 [==============================] - 1s 17ms/step - loss: 1.3143 - accuracy: 0.7001 - val_loss: 1.3652 - val_accuracy: 0.6890\n",
            "Epoch 4/20\n",
            "63/63 [==============================] - 1s 17ms/step - loss: 1.1653 - accuracy: 0.7243 - val_loss: 1.3229 - val_accuracy: 0.6930\n",
            "Epoch 5/20\n",
            "63/63 [==============================] - 1s 21ms/step - loss: 1.0645 - accuracy: 0.7420 - val_loss: 1.2891 - val_accuracy: 0.6950\n",
            "Epoch 6/20\n",
            "63/63 [==============================] - 1s 20ms/step - loss: 0.9843 - accuracy: 0.7581 - val_loss: 1.2974 - val_accuracy: 0.6900\n",
            "Epoch 7/20\n",
            "63/63 [==============================] - 1s 23ms/step - loss: 0.9157 - accuracy: 0.7655 - val_loss: 1.2830 - val_accuracy: 0.7010\n",
            "Epoch 8/20\n",
            "63/63 [==============================] - 2s 27ms/step - loss: 0.8566 - accuracy: 0.7803 - val_loss: 1.2792 - val_accuracy: 0.6950\n",
            "Epoch 9/20\n",
            "63/63 [==============================] - 2s 29ms/step - loss: 0.8019 - accuracy: 0.7917 - val_loss: 1.3091 - val_accuracy: 0.6990\n",
            "Epoch 10/20\n",
            "63/63 [==============================] - 1s 20ms/step - loss: 0.7539 - accuracy: 0.8017 - val_loss: 1.3146 - val_accuracy: 0.6970\n",
            "Epoch 11/20\n",
            "63/63 [==============================] - 1s 17ms/step - loss: 0.7116 - accuracy: 0.8122 - val_loss: 1.3374 - val_accuracy: 0.6980\n",
            "Epoch 12/20\n",
            "63/63 [==============================] - 1s 16ms/step - loss: 0.6747 - accuracy: 0.8173 - val_loss: 1.3590 - val_accuracy: 0.6950\n",
            "Epoch 13/20\n",
            "63/63 [==============================] - 1s 17ms/step - loss: 0.6401 - accuracy: 0.8245 - val_loss: 1.4596 - val_accuracy: 0.6950\n",
            "Epoch 14/20\n",
            "63/63 [==============================] - 1s 21ms/step - loss: 0.6110 - accuracy: 0.8322 - val_loss: 1.4188 - val_accuracy: 0.6950\n",
            "Epoch 15/20\n",
            "63/63 [==============================] - 1s 20ms/step - loss: 0.5834 - accuracy: 0.8376 - val_loss: 1.4533 - val_accuracy: 0.6970\n",
            "Epoch 16/20\n",
            "63/63 [==============================] - 1s 17ms/step - loss: 0.5562 - accuracy: 0.8455 - val_loss: 1.5011 - val_accuracy: 0.7030\n",
            "Epoch 17/20\n",
            "63/63 [==============================] - 1s 17ms/step - loss: 0.5302 - accuracy: 0.8566 - val_loss: 1.5423 - val_accuracy: 0.7040\n",
            "Epoch 18/20\n",
            "63/63 [==============================] - 1s 17ms/step - loss: 0.5106 - accuracy: 0.8656 - val_loss: 1.5667 - val_accuracy: 0.7060\n",
            "Epoch 19/20\n",
            "63/63 [==============================] - 2s 26ms/step - loss: 0.4909 - accuracy: 0.8696 - val_loss: 1.6279 - val_accuracy: 0.7070\n",
            "Epoch 20/20\n",
            "63/63 [==============================] - 2s 28ms/step - loss: 0.4722 - accuracy: 0.8728 - val_loss: 1.6687 - val_accuracy: 0.7080\n",
            "71/71 [==============================] - 0s 4ms/step - loss: 1.7754 - accuracy: 0.6946\n"
          ]
        },
        {
          "output_type": "execute_result",
          "data": {
            "text/plain": [
              "[1.775395393371582, 0.6945680975914001]"
            ]
          },
          "metadata": {},
          "execution_count": 37
        }
      ]
    },
    {
      "cell_type": "markdown",
      "source": [
        "## 추가 실험\n",
        "- 더 크거나 작은 층(32, 128유닛)"
      ],
      "metadata": {
        "id": "OJhg6f72qjC1"
      }
    },
    {
      "cell_type": "code",
      "source": [
        "model = keras.Sequential([\n",
        "    layers.Dense(32, activation=\"relu\"),\n",
        "    layers.Dense(32, activation=\"relu\"),\n",
        "    layers.Dense(46, activation=\"softmax\")\n",
        "])\n",
        "model.compile(optimizer=\"rmsprop\",\n",
        "              loss=\"categorical_crossentropy\",\n",
        "              metrics=[\"accuracy\"])\n",
        "model.fit(partial_x_train,\n",
        "          partial_y_train,\n",
        "          epochs=20,\n",
        "          batch_size=128,\n",
        "          validation_data=(x_val, y_val))\n",
        "results = model.evaluate(x_test, y_test)\n",
        "results"
      ],
      "metadata": {
        "id": "wpKpPUUMfqRk",
        "colab": {
          "base_uri": "https://localhost:8080/"
        },
        "outputId": "e0764595-2c6c-49fa-83e3-aed48c5a10aa"
      },
      "execution_count": null,
      "outputs": [
        {
          "output_type": "stream",
          "name": "stdout",
          "text": [
            "Epoch 1/20\n",
            "63/63 [==============================] - 2s 17ms/step - loss: 2.2693 - accuracy: 0.5727 - val_loss: 1.5068 - val_accuracy: 0.6670\n",
            "Epoch 2/20\n",
            "63/63 [==============================] - 1s 16ms/step - loss: 1.2292 - accuracy: 0.7276 - val_loss: 1.1995 - val_accuracy: 0.7300\n",
            "Epoch 3/20\n",
            "63/63 [==============================] - 1s 12ms/step - loss: 0.9293 - accuracy: 0.7873 - val_loss: 1.0744 - val_accuracy: 0.7630\n",
            "Epoch 4/20\n",
            "63/63 [==============================] - 1s 12ms/step - loss: 0.7220 - accuracy: 0.8356 - val_loss: 0.9921 - val_accuracy: 0.7830\n",
            "Epoch 5/20\n",
            "63/63 [==============================] - 1s 12ms/step - loss: 0.5629 - accuracy: 0.8771 - val_loss: 0.9458 - val_accuracy: 0.8040\n",
            "Epoch 6/20\n",
            "63/63 [==============================] - 1s 19ms/step - loss: 0.4427 - accuracy: 0.9039 - val_loss: 0.9288 - val_accuracy: 0.8080\n",
            "Epoch 7/20\n",
            "63/63 [==============================] - 1s 19ms/step - loss: 0.3559 - accuracy: 0.9217 - val_loss: 0.9468 - val_accuracy: 0.8050\n",
            "Epoch 8/20\n",
            "63/63 [==============================] - 1s 19ms/step - loss: 0.2933 - accuracy: 0.9318 - val_loss: 0.9230 - val_accuracy: 0.8200\n",
            "Epoch 9/20\n",
            "63/63 [==============================] - 1s 16ms/step - loss: 0.2492 - accuracy: 0.9431 - val_loss: 0.9427 - val_accuracy: 0.8080\n",
            "Epoch 10/20\n",
            "63/63 [==============================] - 1s 19ms/step - loss: 0.2153 - accuracy: 0.9474 - val_loss: 0.9604 - val_accuracy: 0.8140\n",
            "Epoch 11/20\n",
            "63/63 [==============================] - 2s 27ms/step - loss: 0.1938 - accuracy: 0.9483 - val_loss: 1.0052 - val_accuracy: 0.8100\n",
            "Epoch 12/20\n",
            "63/63 [==============================] - 1s 19ms/step - loss: 0.1776 - accuracy: 0.9516 - val_loss: 1.0077 - val_accuracy: 0.8120\n",
            "Epoch 13/20\n",
            "63/63 [==============================] - 2s 27ms/step - loss: 0.1629 - accuracy: 0.9545 - val_loss: 1.0212 - val_accuracy: 0.8030\n",
            "Epoch 14/20\n",
            "63/63 [==============================] - 2s 32ms/step - loss: 0.1520 - accuracy: 0.9539 - val_loss: 1.0774 - val_accuracy: 0.7950\n",
            "Epoch 15/20\n",
            "63/63 [==============================] - 3s 42ms/step - loss: 0.1426 - accuracy: 0.9563 - val_loss: 1.0855 - val_accuracy: 0.7940\n",
            "Epoch 16/20\n",
            "63/63 [==============================] - 3s 50ms/step - loss: 0.1363 - accuracy: 0.9568 - val_loss: 1.0768 - val_accuracy: 0.8050\n",
            "Epoch 17/20\n",
            "63/63 [==============================] - 3s 46ms/step - loss: 0.1342 - accuracy: 0.9553 - val_loss: 1.1452 - val_accuracy: 0.7920\n",
            "Epoch 18/20\n",
            "63/63 [==============================] - 2s 32ms/step - loss: 0.1268 - accuracy: 0.9589 - val_loss: 1.1259 - val_accuracy: 0.7940\n",
            "Epoch 19/20\n",
            "63/63 [==============================] - 1s 17ms/step - loss: 0.1265 - accuracy: 0.9565 - val_loss: 1.1705 - val_accuracy: 0.7990\n",
            "Epoch 20/20\n",
            "63/63 [==============================] - 2s 25ms/step - loss: 0.1227 - accuracy: 0.9568 - val_loss: 1.1219 - val_accuracy: 0.8000\n",
            "71/71 [==============================] - 0s 4ms/step - loss: 1.2221 - accuracy: 0.7841\n"
          ]
        },
        {
          "output_type": "execute_result",
          "data": {
            "text/plain": [
              "[1.2220786809921265, 0.784060537815094]"
            ]
          },
          "metadata": {},
          "execution_count": 38
        }
      ]
    },
    {
      "cell_type": "code",
      "source": [
        " model = keras.Sequential([\n",
        "    layers.Dense(128, activation=\"relu\"),\n",
        "    layers.Dense(128, activation=\"relu\"),\n",
        "    layers.Dense(46, activation=\"softmax\")\n",
        "])\n",
        "model.compile(optimizer=\"rmsprop\",\n",
        "              loss=\"categorical_crossentropy\",\n",
        "              metrics=[\"accuracy\"])\n",
        "model.fit(partial_x_train,\n",
        "          partial_y_train,\n",
        "          epochs=20,\n",
        "          batch_size=128,\n",
        "          validation_data=(x_val, y_val))\n",
        "results = model.evaluate(x_test, y_test)\n",
        "results"
      ],
      "metadata": {
        "colab": {
          "base_uri": "https://localhost:8080/"
        },
        "id": "2tjbjnJ8sfee",
        "outputId": "7a952350-58ac-438f-abfb-89556747899d"
      },
      "execution_count": null,
      "outputs": [
        {
          "output_type": "stream",
          "name": "stdout",
          "text": [
            "Epoch 1/20\n",
            "63/63 [==============================] - 3s 42ms/step - loss: 1.6229 - accuracy: 0.6436 - val_loss: 1.1571 - val_accuracy: 0.7320\n",
            "Epoch 2/20\n",
            "63/63 [==============================] - 3s 48ms/step - loss: 0.8342 - accuracy: 0.8150 - val_loss: 0.8967 - val_accuracy: 0.7970\n",
            "Epoch 3/20\n",
            "63/63 [==============================] - 3s 41ms/step - loss: 0.5136 - accuracy: 0.8903 - val_loss: 0.8902 - val_accuracy: 0.8120\n",
            "Epoch 4/20\n",
            "63/63 [==============================] - 2s 35ms/step - loss: 0.3393 - accuracy: 0.9281 - val_loss: 0.8625 - val_accuracy: 0.8200\n",
            "Epoch 5/20\n",
            "63/63 [==============================] - 2s 28ms/step - loss: 0.2572 - accuracy: 0.9397 - val_loss: 0.8620 - val_accuracy: 0.8210\n",
            "Epoch 6/20\n",
            "63/63 [==============================] - 2s 27ms/step - loss: 0.2097 - accuracy: 0.9486 - val_loss: 0.8668 - val_accuracy: 0.8180\n",
            "Epoch 7/20\n",
            "63/63 [==============================] - 2s 29ms/step - loss: 0.1873 - accuracy: 0.9500 - val_loss: 0.9282 - val_accuracy: 0.8160\n",
            "Epoch 8/20\n",
            "63/63 [==============================] - 2s 29ms/step - loss: 0.1672 - accuracy: 0.9535 - val_loss: 0.8785 - val_accuracy: 0.8290\n",
            "Epoch 9/20\n",
            "63/63 [==============================] - 3s 44ms/step - loss: 0.1547 - accuracy: 0.9543 - val_loss: 0.9044 - val_accuracy: 0.8140\n",
            "Epoch 10/20\n",
            "63/63 [==============================] - 2s 36ms/step - loss: 0.1469 - accuracy: 0.9553 - val_loss: 0.9436 - val_accuracy: 0.8130\n",
            "Epoch 11/20\n",
            "63/63 [==============================] - 2s 27ms/step - loss: 0.1440 - accuracy: 0.9548 - val_loss: 0.9001 - val_accuracy: 0.8310\n",
            "Epoch 12/20\n",
            "63/63 [==============================] - 2s 29ms/step - loss: 0.1292 - accuracy: 0.9567 - val_loss: 0.9383 - val_accuracy: 0.8020\n",
            "Epoch 13/20\n",
            "63/63 [==============================] - 2s 28ms/step - loss: 0.1272 - accuracy: 0.9558 - val_loss: 0.9702 - val_accuracy: 0.7940\n",
            "Epoch 14/20\n",
            "63/63 [==============================] - 2s 27ms/step - loss: 0.1259 - accuracy: 0.9554 - val_loss: 0.9905 - val_accuracy: 0.7980\n",
            "Epoch 15/20\n",
            "63/63 [==============================] - 2s 35ms/step - loss: 0.1218 - accuracy: 0.9549 - val_loss: 0.9808 - val_accuracy: 0.8150\n",
            "Epoch 16/20\n",
            "63/63 [==============================] - 3s 47ms/step - loss: 0.1193 - accuracy: 0.9563 - val_loss: 1.0112 - val_accuracy: 0.7990\n",
            "Epoch 17/20\n",
            "63/63 [==============================] - 2s 30ms/step - loss: 0.1151 - accuracy: 0.9562 - val_loss: 0.9397 - val_accuracy: 0.8170\n",
            "Epoch 18/20\n",
            "63/63 [==============================] - 2s 28ms/step - loss: 0.1125 - accuracy: 0.9572 - val_loss: 1.0142 - val_accuracy: 0.7940\n",
            "Epoch 19/20\n",
            "63/63 [==============================] - 2s 28ms/step - loss: 0.1100 - accuracy: 0.9565 - val_loss: 0.9583 - val_accuracy: 0.8180\n",
            "Epoch 20/20\n",
            "63/63 [==============================] - 2s 29ms/step - loss: 0.1055 - accuracy: 0.9550 - val_loss: 1.0324 - val_accuracy: 0.8070\n",
            "71/71 [==============================] - 1s 8ms/step - loss: 1.1909 - accuracy: 0.7854\n"
          ]
        },
        {
          "output_type": "execute_result",
          "data": {
            "text/plain": [
              "[1.1908551454544067, 0.7853962779045105]"
            ]
          },
          "metadata": {},
          "execution_count": 39
        }
      ]
    },
    {
      "cell_type": "markdown",
      "source": [
        "- 중간 층 수 1, 3개 변경"
      ],
      "metadata": {
        "id": "UA6akx11q6Qn"
      }
    },
    {
      "cell_type": "code",
      "source": [
        "model = keras.Sequential([\n",
        "    layers.Dense(32, activation=\"relu\"),\n",
        "    layers.Dense(46, activation=\"softmax\")\n",
        "])\n",
        "model.compile(optimizer=\"rmsprop\",\n",
        "              loss=\"categorical_crossentropy\",\n",
        "              metrics=[\"accuracy\"])\n",
        "model.fit(partial_x_train,\n",
        "          partial_y_train,\n",
        "          epochs=20,\n",
        "          batch_size=128,\n",
        "          validation_data=(x_val, y_val))\n",
        "results = model.evaluate(x_test, y_test)\n",
        "results"
      ],
      "metadata": {
        "colab": {
          "base_uri": "https://localhost:8080/"
        },
        "id": "emZ-HO_Iq54s",
        "outputId": "9576cae9-d266-4f96-ea16-3c0314a3eb14"
      },
      "execution_count": null,
      "outputs": [
        {
          "output_type": "stream",
          "name": "stdout",
          "text": [
            "Epoch 1/20\n",
            "63/63 [==============================] - 2s 21ms/step - loss: 2.2168 - accuracy: 0.5857 - val_loss: 1.4873 - val_accuracy: 0.6850\n",
            "Epoch 2/20\n",
            "63/63 [==============================] - 1s 18ms/step - loss: 1.2372 - accuracy: 0.7425 - val_loss: 1.1580 - val_accuracy: 0.7530\n",
            "Epoch 3/20\n",
            "63/63 [==============================] - 1s 16ms/step - loss: 0.9253 - accuracy: 0.8092 - val_loss: 1.0128 - val_accuracy: 0.7940\n",
            "Epoch 4/20\n",
            "63/63 [==============================] - 1s 16ms/step - loss: 0.7251 - accuracy: 0.8490 - val_loss: 0.9234 - val_accuracy: 0.8170\n",
            "Epoch 5/20\n",
            "63/63 [==============================] - 1s 13ms/step - loss: 0.5781 - accuracy: 0.8794 - val_loss: 0.8672 - val_accuracy: 0.8180\n",
            "Epoch 6/20\n",
            "63/63 [==============================] - 1s 12ms/step - loss: 0.4683 - accuracy: 0.9013 - val_loss: 0.8387 - val_accuracy: 0.8170\n",
            "Epoch 7/20\n",
            "63/63 [==============================] - 1s 12ms/step - loss: 0.3867 - accuracy: 0.9178 - val_loss: 0.8238 - val_accuracy: 0.8200\n",
            "Epoch 8/20\n",
            "63/63 [==============================] - 1s 12ms/step - loss: 0.3245 - accuracy: 0.9311 - val_loss: 0.7924 - val_accuracy: 0.8250\n",
            "Epoch 9/20\n",
            "63/63 [==============================] - 1s 12ms/step - loss: 0.2755 - accuracy: 0.9377 - val_loss: 0.7976 - val_accuracy: 0.8310\n",
            "Epoch 10/20\n",
            "63/63 [==============================] - 1s 12ms/step - loss: 0.2395 - accuracy: 0.9439 - val_loss: 0.8039 - val_accuracy: 0.8320\n",
            "Epoch 11/20\n",
            "63/63 [==============================] - 1s 14ms/step - loss: 0.2115 - accuracy: 0.9469 - val_loss: 0.8063 - val_accuracy: 0.8290\n",
            "Epoch 12/20\n",
            "63/63 [==============================] - 1s 18ms/step - loss: 0.1893 - accuracy: 0.9514 - val_loss: 0.8217 - val_accuracy: 0.8320\n",
            "Epoch 13/20\n",
            "63/63 [==============================] - 1s 18ms/step - loss: 0.1711 - accuracy: 0.9528 - val_loss: 0.8342 - val_accuracy: 0.8250\n",
            "Epoch 14/20\n",
            "63/63 [==============================] - 1s 20ms/step - loss: 0.1571 - accuracy: 0.9550 - val_loss: 0.8273 - val_accuracy: 0.8330\n",
            "Epoch 15/20\n",
            "63/63 [==============================] - 1s 16ms/step - loss: 0.1473 - accuracy: 0.9555 - val_loss: 0.8344 - val_accuracy: 0.8260\n",
            "Epoch 16/20\n",
            "63/63 [==============================] - 1s 13ms/step - loss: 0.1393 - accuracy: 0.9545 - val_loss: 0.8535 - val_accuracy: 0.8240\n",
            "Epoch 17/20\n",
            "63/63 [==============================] - 1s 12ms/step - loss: 0.1310 - accuracy: 0.9567 - val_loss: 0.8692 - val_accuracy: 0.8170\n",
            "Epoch 18/20\n",
            "63/63 [==============================] - 1s 12ms/step - loss: 0.1258 - accuracy: 0.9565 - val_loss: 0.8884 - val_accuracy: 0.8190\n",
            "Epoch 19/20\n",
            "63/63 [==============================] - 1s 12ms/step - loss: 0.1203 - accuracy: 0.9579 - val_loss: 0.8948 - val_accuracy: 0.8120\n",
            "Epoch 20/20\n",
            "63/63 [==============================] - 1s 12ms/step - loss: 0.1163 - accuracy: 0.9564 - val_loss: 0.8908 - val_accuracy: 0.8160\n",
            "71/71 [==============================] - 0s 3ms/step - loss: 1.0351 - accuracy: 0.7930\n"
          ]
        },
        {
          "output_type": "execute_result",
          "data": {
            "text/plain": [
              "[1.0350614786148071, 0.792965292930603]"
            ]
          },
          "metadata": {},
          "execution_count": 40
        }
      ]
    },
    {
      "cell_type": "code",
      "source": [
        "model = keras.Sequential([\n",
        "    layers.Dense(32, activation=\"relu\"),\n",
        "    layers.Dense(32, activation=\"relu\"),\n",
        "    layers.Dense(32, activation=\"relu\"),\n",
        "    layers.Dense(46, activation=\"softmax\")\n",
        "])\n",
        "model.compile(optimizer=\"rmsprop\",\n",
        "              loss=\"categorical_crossentropy\",\n",
        "              metrics=[\"accuracy\"])\n",
        "model.fit(partial_x_train,\n",
        "          partial_y_train,\n",
        "          epochs=20,\n",
        "          batch_size=128,\n",
        "          validation_data=(x_val, y_val))\n",
        "results = model.evaluate(x_test, y_test)\n",
        "results"
      ],
      "metadata": {
        "colab": {
          "base_uri": "https://localhost:8080/"
        },
        "id": "ElxXqow0q7SK",
        "outputId": "80c70a88-ecc3-4736-c96e-f0d02161456e"
      },
      "execution_count": null,
      "outputs": [
        {
          "output_type": "stream",
          "name": "stdout",
          "text": [
            "Epoch 1/20\n",
            "63/63 [==============================] - 2s 17ms/step - loss: 2.0982 - accuracy: 0.5655 - val_loss: 1.4768 - val_accuracy: 0.6640\n",
            "Epoch 2/20\n",
            "63/63 [==============================] - 1s 12ms/step - loss: 1.2719 - accuracy: 0.7194 - val_loss: 1.2688 - val_accuracy: 0.7080\n",
            "Epoch 3/20\n",
            "63/63 [==============================] - 1s 13ms/step - loss: 0.9759 - accuracy: 0.7791 - val_loss: 1.1218 - val_accuracy: 0.7520\n",
            "Epoch 4/20\n",
            "63/63 [==============================] - 1s 20ms/step - loss: 0.7674 - accuracy: 0.8198 - val_loss: 1.0367 - val_accuracy: 0.7620\n",
            "Epoch 5/20\n",
            "63/63 [==============================] - 1s 18ms/step - loss: 0.5999 - accuracy: 0.8619 - val_loss: 1.0287 - val_accuracy: 0.7910\n",
            "Epoch 6/20\n",
            "63/63 [==============================] - 1s 18ms/step - loss: 0.4716 - accuracy: 0.8945 - val_loss: 1.0202 - val_accuracy: 0.8050\n",
            "Epoch 7/20\n",
            "63/63 [==============================] - 1s 18ms/step - loss: 0.3760 - accuracy: 0.9157 - val_loss: 1.0238 - val_accuracy: 0.7960\n",
            "Epoch 8/20\n",
            "63/63 [==============================] - 1s 12ms/step - loss: 0.3077 - accuracy: 0.9306 - val_loss: 1.0620 - val_accuracy: 0.7980\n",
            "Epoch 9/20\n",
            "63/63 [==============================] - 1s 12ms/step - loss: 0.2594 - accuracy: 0.9412 - val_loss: 1.1007 - val_accuracy: 0.7990\n",
            "Epoch 10/20\n",
            "63/63 [==============================] - 1s 12ms/step - loss: 0.2224 - accuracy: 0.9485 - val_loss: 1.0829 - val_accuracy: 0.8020\n",
            "Epoch 11/20\n",
            "63/63 [==============================] - 1s 16ms/step - loss: 0.1996 - accuracy: 0.9519 - val_loss: 1.1231 - val_accuracy: 0.8080\n",
            "Epoch 12/20\n",
            "63/63 [==============================] - 1s 12ms/step - loss: 0.1837 - accuracy: 0.9526 - val_loss: 1.1946 - val_accuracy: 0.7820\n",
            "Epoch 13/20\n",
            "63/63 [==============================] - 1s 12ms/step - loss: 0.1727 - accuracy: 0.9535 - val_loss: 1.1735 - val_accuracy: 0.7930\n",
            "Epoch 14/20\n",
            "63/63 [==============================] - 1s 12ms/step - loss: 0.1594 - accuracy: 0.9565 - val_loss: 1.2318 - val_accuracy: 0.7830\n",
            "Epoch 15/20\n",
            "63/63 [==============================] - 1s 12ms/step - loss: 0.1527 - accuracy: 0.9555 - val_loss: 1.1418 - val_accuracy: 0.8060\n",
            "Epoch 16/20\n",
            "63/63 [==============================] - 1s 17ms/step - loss: 0.1478 - accuracy: 0.9573 - val_loss: 1.2614 - val_accuracy: 0.7710\n",
            "Epoch 17/20\n",
            "63/63 [==============================] - 1s 12ms/step - loss: 0.1442 - accuracy: 0.9554 - val_loss: 1.2616 - val_accuracy: 0.7890\n",
            "Epoch 18/20\n",
            "63/63 [==============================] - 1s 12ms/step - loss: 0.1381 - accuracy: 0.9582 - val_loss: 1.2295 - val_accuracy: 0.7890\n",
            "Epoch 19/20\n",
            "63/63 [==============================] - 1s 12ms/step - loss: 0.1348 - accuracy: 0.9578 - val_loss: 1.3300 - val_accuracy: 0.7830\n",
            "Epoch 20/20\n",
            "63/63 [==============================] - 1s 16ms/step - loss: 0.1329 - accuracy: 0.9570 - val_loss: 1.3326 - val_accuracy: 0.7790\n",
            "71/71 [==============================] - 0s 5ms/step - loss: 1.5199 - accuracy: 0.7694\n"
          ]
        },
        {
          "output_type": "execute_result",
          "data": {
            "text/plain": [
              "[1.5199178457260132, 0.7693677544593811]"
            ]
          },
          "metadata": {},
          "execution_count": 41
        }
      ]
    },
    {
      "cell_type": "code",
      "source": [
        "import matplotlib.pyplot as plt\n",
        "import pandas as pd\n",
        "\n",
        "data = {\n",
        "    '32 Units':[95.68, 80, 78.4],\n",
        "    '128 Units':[95.5, 80.7, 78.54],\n",
        "    '1 Hidden Layer':[95.64, 81.6, 79.29],\n",
        "    '3 Hidden Layers':[95.7, 77.9, 76.93],\n",
        "}\n",
        "\n",
        "df = pd.DataFrame(data, index=['Train_acc', 'Val_acc', 'Test_acc'])\n",
        "df"
      ],
      "metadata": {
        "colab": {
          "base_uri": "https://localhost:8080/",
          "height": 143
        },
        "id": "EAE_aK25Atla",
        "outputId": "e3ffc0f3-5679-4642-91c2-d8ba8fffc4f4"
      },
      "execution_count": 20,
      "outputs": [
        {
          "output_type": "execute_result",
          "data": {
            "text/plain": [
              "           32 Units  128 Units  1 Hidden Layer  3 Hidden Layers\n",
              "Train_acc     95.68      95.50           95.64            95.70\n",
              "Val_acc       80.00      80.70           81.60            77.90\n",
              "Test_acc      78.40      78.54           79.29            76.93"
            ],
            "text/html": [
              "\n",
              "  <div id=\"df-5a80f096-29de-4d85-8502-aea0c014b013\" class=\"colab-df-container\">\n",
              "    <div>\n",
              "<style scoped>\n",
              "    .dataframe tbody tr th:only-of-type {\n",
              "        vertical-align: middle;\n",
              "    }\n",
              "\n",
              "    .dataframe tbody tr th {\n",
              "        vertical-align: top;\n",
              "    }\n",
              "\n",
              "    .dataframe thead th {\n",
              "        text-align: right;\n",
              "    }\n",
              "</style>\n",
              "<table border=\"1\" class=\"dataframe\">\n",
              "  <thead>\n",
              "    <tr style=\"text-align: right;\">\n",
              "      <th></th>\n",
              "      <th>32 Units</th>\n",
              "      <th>128 Units</th>\n",
              "      <th>1 Hidden Layer</th>\n",
              "      <th>3 Hidden Layers</th>\n",
              "    </tr>\n",
              "  </thead>\n",
              "  <tbody>\n",
              "    <tr>\n",
              "      <th>Train_acc</th>\n",
              "      <td>95.68</td>\n",
              "      <td>95.50</td>\n",
              "      <td>95.64</td>\n",
              "      <td>95.70</td>\n",
              "    </tr>\n",
              "    <tr>\n",
              "      <th>Val_acc</th>\n",
              "      <td>80.00</td>\n",
              "      <td>80.70</td>\n",
              "      <td>81.60</td>\n",
              "      <td>77.90</td>\n",
              "    </tr>\n",
              "    <tr>\n",
              "      <th>Test_acc</th>\n",
              "      <td>78.40</td>\n",
              "      <td>78.54</td>\n",
              "      <td>79.29</td>\n",
              "      <td>76.93</td>\n",
              "    </tr>\n",
              "  </tbody>\n",
              "</table>\n",
              "</div>\n",
              "    <div class=\"colab-df-buttons\">\n",
              "\n",
              "  <div class=\"colab-df-container\">\n",
              "    <button class=\"colab-df-convert\" onclick=\"convertToInteractive('df-5a80f096-29de-4d85-8502-aea0c014b013')\"\n",
              "            title=\"Convert this dataframe to an interactive table.\"\n",
              "            style=\"display:none;\">\n",
              "\n",
              "  <svg xmlns=\"http://www.w3.org/2000/svg\" height=\"24px\" viewBox=\"0 -960 960 960\">\n",
              "    <path d=\"M120-120v-720h720v720H120Zm60-500h600v-160H180v160Zm220 220h160v-160H400v160Zm0 220h160v-160H400v160ZM180-400h160v-160H180v160Zm440 0h160v-160H620v160ZM180-180h160v-160H180v160Zm440 0h160v-160H620v160Z\"/>\n",
              "  </svg>\n",
              "    </button>\n",
              "\n",
              "  <style>\n",
              "    .colab-df-container {\n",
              "      display:flex;\n",
              "      gap: 12px;\n",
              "    }\n",
              "\n",
              "    .colab-df-convert {\n",
              "      background-color: #E8F0FE;\n",
              "      border: none;\n",
              "      border-radius: 50%;\n",
              "      cursor: pointer;\n",
              "      display: none;\n",
              "      fill: #1967D2;\n",
              "      height: 32px;\n",
              "      padding: 0 0 0 0;\n",
              "      width: 32px;\n",
              "    }\n",
              "\n",
              "    .colab-df-convert:hover {\n",
              "      background-color: #E2EBFA;\n",
              "      box-shadow: 0px 1px 2px rgba(60, 64, 67, 0.3), 0px 1px 3px 1px rgba(60, 64, 67, 0.15);\n",
              "      fill: #174EA6;\n",
              "    }\n",
              "\n",
              "    .colab-df-buttons div {\n",
              "      margin-bottom: 4px;\n",
              "    }\n",
              "\n",
              "    [theme=dark] .colab-df-convert {\n",
              "      background-color: #3B4455;\n",
              "      fill: #D2E3FC;\n",
              "    }\n",
              "\n",
              "    [theme=dark] .colab-df-convert:hover {\n",
              "      background-color: #434B5C;\n",
              "      box-shadow: 0px 1px 3px 1px rgba(0, 0, 0, 0.15);\n",
              "      filter: drop-shadow(0px 1px 2px rgba(0, 0, 0, 0.3));\n",
              "      fill: #FFFFFF;\n",
              "    }\n",
              "  </style>\n",
              "\n",
              "    <script>\n",
              "      const buttonEl =\n",
              "        document.querySelector('#df-5a80f096-29de-4d85-8502-aea0c014b013 button.colab-df-convert');\n",
              "      buttonEl.style.display =\n",
              "        google.colab.kernel.accessAllowed ? 'block' : 'none';\n",
              "\n",
              "      async function convertToInteractive(key) {\n",
              "        const element = document.querySelector('#df-5a80f096-29de-4d85-8502-aea0c014b013');\n",
              "        const dataTable =\n",
              "          await google.colab.kernel.invokeFunction('convertToInteractive',\n",
              "                                                    [key], {});\n",
              "        if (!dataTable) return;\n",
              "\n",
              "        const docLinkHtml = 'Like what you see? Visit the ' +\n",
              "          '<a target=\"_blank\" href=https://colab.research.google.com/notebooks/data_table.ipynb>data table notebook</a>'\n",
              "          + ' to learn more about interactive tables.';\n",
              "        element.innerHTML = '';\n",
              "        dataTable['output_type'] = 'display_data';\n",
              "        await google.colab.output.renderOutput(dataTable, element);\n",
              "        const docLink = document.createElement('div');\n",
              "        docLink.innerHTML = docLinkHtml;\n",
              "        element.appendChild(docLink);\n",
              "      }\n",
              "    </script>\n",
              "  </div>\n",
              "\n",
              "\n",
              "<div id=\"df-fbecb104-0345-4253-b9d5-911fd8b5734e\">\n",
              "  <button class=\"colab-df-quickchart\" onclick=\"quickchart('df-fbecb104-0345-4253-b9d5-911fd8b5734e')\"\n",
              "            title=\"Suggest charts\"\n",
              "            style=\"display:none;\">\n",
              "\n",
              "<svg xmlns=\"http://www.w3.org/2000/svg\" height=\"24px\"viewBox=\"0 0 24 24\"\n",
              "     width=\"24px\">\n",
              "    <g>\n",
              "        <path d=\"M19 3H5c-1.1 0-2 .9-2 2v14c0 1.1.9 2 2 2h14c1.1 0 2-.9 2-2V5c0-1.1-.9-2-2-2zM9 17H7v-7h2v7zm4 0h-2V7h2v10zm4 0h-2v-4h2v4z\"/>\n",
              "    </g>\n",
              "</svg>\n",
              "  </button>\n",
              "\n",
              "<style>\n",
              "  .colab-df-quickchart {\n",
              "      --bg-color: #E8F0FE;\n",
              "      --fill-color: #1967D2;\n",
              "      --hover-bg-color: #E2EBFA;\n",
              "      --hover-fill-color: #174EA6;\n",
              "      --disabled-fill-color: #AAA;\n",
              "      --disabled-bg-color: #DDD;\n",
              "  }\n",
              "\n",
              "  [theme=dark] .colab-df-quickchart {\n",
              "      --bg-color: #3B4455;\n",
              "      --fill-color: #D2E3FC;\n",
              "      --hover-bg-color: #434B5C;\n",
              "      --hover-fill-color: #FFFFFF;\n",
              "      --disabled-bg-color: #3B4455;\n",
              "      --disabled-fill-color: #666;\n",
              "  }\n",
              "\n",
              "  .colab-df-quickchart {\n",
              "    background-color: var(--bg-color);\n",
              "    border: none;\n",
              "    border-radius: 50%;\n",
              "    cursor: pointer;\n",
              "    display: none;\n",
              "    fill: var(--fill-color);\n",
              "    height: 32px;\n",
              "    padding: 0;\n",
              "    width: 32px;\n",
              "  }\n",
              "\n",
              "  .colab-df-quickchart:hover {\n",
              "    background-color: var(--hover-bg-color);\n",
              "    box-shadow: 0 1px 2px rgba(60, 64, 67, 0.3), 0 1px 3px 1px rgba(60, 64, 67, 0.15);\n",
              "    fill: var(--button-hover-fill-color);\n",
              "  }\n",
              "\n",
              "  .colab-df-quickchart-complete:disabled,\n",
              "  .colab-df-quickchart-complete:disabled:hover {\n",
              "    background-color: var(--disabled-bg-color);\n",
              "    fill: var(--disabled-fill-color);\n",
              "    box-shadow: none;\n",
              "  }\n",
              "\n",
              "  .colab-df-spinner {\n",
              "    border: 2px solid var(--fill-color);\n",
              "    border-color: transparent;\n",
              "    border-bottom-color: var(--fill-color);\n",
              "    animation:\n",
              "      spin 1s steps(1) infinite;\n",
              "  }\n",
              "\n",
              "  @keyframes spin {\n",
              "    0% {\n",
              "      border-color: transparent;\n",
              "      border-bottom-color: var(--fill-color);\n",
              "      border-left-color: var(--fill-color);\n",
              "    }\n",
              "    20% {\n",
              "      border-color: transparent;\n",
              "      border-left-color: var(--fill-color);\n",
              "      border-top-color: var(--fill-color);\n",
              "    }\n",
              "    30% {\n",
              "      border-color: transparent;\n",
              "      border-left-color: var(--fill-color);\n",
              "      border-top-color: var(--fill-color);\n",
              "      border-right-color: var(--fill-color);\n",
              "    }\n",
              "    40% {\n",
              "      border-color: transparent;\n",
              "      border-right-color: var(--fill-color);\n",
              "      border-top-color: var(--fill-color);\n",
              "    }\n",
              "    60% {\n",
              "      border-color: transparent;\n",
              "      border-right-color: var(--fill-color);\n",
              "    }\n",
              "    80% {\n",
              "      border-color: transparent;\n",
              "      border-right-color: var(--fill-color);\n",
              "      border-bottom-color: var(--fill-color);\n",
              "    }\n",
              "    90% {\n",
              "      border-color: transparent;\n",
              "      border-bottom-color: var(--fill-color);\n",
              "    }\n",
              "  }\n",
              "</style>\n",
              "\n",
              "  <script>\n",
              "    async function quickchart(key) {\n",
              "      const quickchartButtonEl =\n",
              "        document.querySelector('#' + key + ' button');\n",
              "      quickchartButtonEl.disabled = true;  // To prevent multiple clicks.\n",
              "      quickchartButtonEl.classList.add('colab-df-spinner');\n",
              "      try {\n",
              "        const charts = await google.colab.kernel.invokeFunction(\n",
              "            'suggestCharts', [key], {});\n",
              "      } catch (error) {\n",
              "        console.error('Error during call to suggestCharts:', error);\n",
              "      }\n",
              "      quickchartButtonEl.classList.remove('colab-df-spinner');\n",
              "      quickchartButtonEl.classList.add('colab-df-quickchart-complete');\n",
              "    }\n",
              "    (() => {\n",
              "      let quickchartButtonEl =\n",
              "        document.querySelector('#df-fbecb104-0345-4253-b9d5-911fd8b5734e button');\n",
              "      quickchartButtonEl.style.display =\n",
              "        google.colab.kernel.accessAllowed ? 'block' : 'none';\n",
              "    })();\n",
              "  </script>\n",
              "</div>\n",
              "\n",
              "  <div id=\"id_44e72f3c-a262-4860-ae5b-63d360acd2c7\">\n",
              "    <style>\n",
              "      .colab-df-generate {\n",
              "        background-color: #E8F0FE;\n",
              "        border: none;\n",
              "        border-radius: 50%;\n",
              "        cursor: pointer;\n",
              "        display: none;\n",
              "        fill: #1967D2;\n",
              "        height: 32px;\n",
              "        padding: 0 0 0 0;\n",
              "        width: 32px;\n",
              "      }\n",
              "\n",
              "      .colab-df-generate:hover {\n",
              "        background-color: #E2EBFA;\n",
              "        box-shadow: 0px 1px 2px rgba(60, 64, 67, 0.3), 0px 1px 3px 1px rgba(60, 64, 67, 0.15);\n",
              "        fill: #174EA6;\n",
              "      }\n",
              "\n",
              "      [theme=dark] .colab-df-generate {\n",
              "        background-color: #3B4455;\n",
              "        fill: #D2E3FC;\n",
              "      }\n",
              "\n",
              "      [theme=dark] .colab-df-generate:hover {\n",
              "        background-color: #434B5C;\n",
              "        box-shadow: 0px 1px 3px 1px rgba(0, 0, 0, 0.15);\n",
              "        filter: drop-shadow(0px 1px 2px rgba(0, 0, 0, 0.3));\n",
              "        fill: #FFFFFF;\n",
              "      }\n",
              "    </style>\n",
              "    <button class=\"colab-df-generate\" onclick=\"generateWithVariable('df')\"\n",
              "            title=\"Generate code using this dataframe.\"\n",
              "            style=\"display:none;\">\n",
              "\n",
              "  <svg xmlns=\"http://www.w3.org/2000/svg\" height=\"24px\"viewBox=\"0 0 24 24\"\n",
              "       width=\"24px\">\n",
              "    <path d=\"M7,19H8.4L18.45,9,17,7.55,7,17.6ZM5,21V16.75L18.45,3.32a2,2,0,0,1,2.83,0l1.4,1.43a1.91,1.91,0,0,1,.58,1.4,1.91,1.91,0,0,1-.58,1.4L9.25,21ZM18.45,9,17,7.55Zm-12,3A5.31,5.31,0,0,0,4.9,8.1,5.31,5.31,0,0,0,1,6.5,5.31,5.31,0,0,0,4.9,4.9,5.31,5.31,0,0,0,6.5,1,5.31,5.31,0,0,0,8.1,4.9,5.31,5.31,0,0,0,12,6.5,5.46,5.46,0,0,0,6.5,12Z\"/>\n",
              "  </svg>\n",
              "    </button>\n",
              "    <script>\n",
              "      (() => {\n",
              "      const buttonEl =\n",
              "        document.querySelector('#id_44e72f3c-a262-4860-ae5b-63d360acd2c7 button.colab-df-generate');\n",
              "      buttonEl.style.display =\n",
              "        google.colab.kernel.accessAllowed ? 'block' : 'none';\n",
              "\n",
              "      buttonEl.onclick = () => {\n",
              "        google.colab.notebook.generateWithVariable('df');\n",
              "      }\n",
              "      })();\n",
              "    </script>\n",
              "  </div>\n",
              "\n",
              "    </div>\n",
              "  </div>\n"
            ],
            "application/vnd.google.colaboratory.intrinsic+json": {
              "type": "dataframe",
              "variable_name": "df",
              "summary": "{\n  \"name\": \"df\",\n  \"rows\": 3,\n  \"fields\": [\n    {\n      \"column\": \"32 Units\",\n      \"properties\": {\n        \"dtype\": \"number\",\n        \"std\": 9.548305259748107,\n        \"min\": 78.4,\n        \"max\": 95.68,\n        \"num_unique_values\": 3,\n        \"samples\": [\n          95.68,\n          80.0,\n          78.4\n        ],\n        \"semantic_type\": \"\",\n        \"description\": \"\"\n      }\n    },\n    {\n      \"column\": \"128 Units\",\n      \"properties\": {\n        \"dtype\": \"number\",\n        \"std\": 9.2317134559806,\n        \"min\": 78.54,\n        \"max\": 95.5,\n        \"num_unique_values\": 3,\n        \"samples\": [\n          95.5,\n          80.7,\n          78.54\n        ],\n        \"semantic_type\": \"\",\n        \"description\": \"\"\n      }\n    },\n    {\n      \"column\": \"1 Hidden Layer\",\n      \"properties\": {\n        \"dtype\": \"number\",\n        \"std\": 8.848542252823343,\n        \"min\": 79.29,\n        \"max\": 95.64,\n        \"num_unique_values\": 3,\n        \"samples\": [\n          95.64,\n          81.6,\n          79.29\n        ],\n        \"semantic_type\": \"\",\n        \"description\": \"\"\n      }\n    },\n    {\n      \"column\": \"3 Hidden Layers\",\n      \"properties\": {\n        \"dtype\": \"number\",\n        \"std\": 10.567984670692892,\n        \"min\": 76.93,\n        \"max\": 95.7,\n        \"num_unique_values\": 3,\n        \"samples\": [\n          95.7,\n          77.9,\n          76.93\n        ],\n        \"semantic_type\": \"\",\n        \"description\": \"\"\n      }\n    }\n  ]\n}"
            }
          },
          "metadata": {},
          "execution_count": 20
        }
      ]
    },
    {
      "cell_type": "code",
      "source": [
        "# prompt: Make comparison chart using df, The range of y is 70 to 100%\n",
        "\n",
        "import matplotlib.pyplot as plt\n",
        "\n",
        "fig, ax = plt.subplots()\n",
        "df.plot(kind='bar', title='Model Comparison', ax=ax)\n",
        "ax.set_ylim(70, 100)\n",
        "ax.set_xlabel('Model')\n",
        "ax.set_ylabel('Accuracy (%)')\n",
        "plt.xticks(rotation=45, ha='right')\n",
        "plt.tight_layout()\n",
        "plt.show()\n"
      ],
      "metadata": {
        "colab": {
          "base_uri": "https://localhost:8080/",
          "height": 466
        },
        "id": "VjiKlHWsBkS3",
        "outputId": "c77a570d-4582-49d5-97d1-9c8708f3aaeb"
      },
      "execution_count": 33,
      "outputs": [
        {
          "output_type": "display_data",
          "data": {
            "text/plain": [
              "<Figure size 640x480 with 1 Axes>"
            ],
            "image/png": "[encoded data removed]"
          },
          "metadata": {}
        }
      ]
    },
    {
      "cell_type": "markdown",
      "source": [
        "[링크 텍스트](https://)# 주택 가격 예측"
      ],
      "metadata": {
        "id": "FsJeb86GpsNT"
      }
    },
    {
      "cell_type": "markdown",
      "source": [
        "# 데이터셋 로드"
      ],
      "metadata": {
        "id": "HWgxVSs7qxWP"
      }
    },
    {
      "cell_type": "code",
      "source": [
        "from tensorflow.keras.datasets import boston_housing\n",
        "(train_data, train_targets), (test_data, test_targets) = boston_housing.load_data()"
      ],
      "metadata": {
        "id": "kmKt0xxdqxHz",
        "colab": {
          "base_uri": "https://localhost:8080/"
        },
        "outputId": "68916748-5dd7-4375-9148-a02fc8770a5e"
      },
      "execution_count": null,
      "outputs": [
        {
          "output_type": "stream",
          "name": "stdout",
          "text": [
            "Downloading data from https://storage.googleapis.com/tensorflow/tf-keras-datasets/boston_housing.npz\n",
            "57026/57026 [==============================] - 0s 1us/step\n"
          ]
        }
      ]
    },
    {
      "cell_type": "markdown",
      "source": [
        "## 데이터셋 준비(정규화)"
      ],
      "metadata": {
        "id": "bd8qqFYOq0Ik"
      }
    },
    {
      "cell_type": "code",
      "source": [
        "mean = train_data.mean(axis=0)\n",
        "train_data -= mean\n",
        "std = train_data.std(axis=0)\n",
        "train_data /= std\n",
        "\n",
        "test_data -= mean\n",
        "test_data /= std"
      ],
      "metadata": {
        "id": "hXPImTwXp27a"
      },
      "execution_count": null,
      "outputs": []
    },
    {
      "cell_type": "markdown",
      "source": [
        "## 모델 구성"
      ],
      "metadata": {
        "id": "J9P_rYO6rlvP"
      }
    },
    {
      "cell_type": "code",
      "source": [
        "def build_model():\n",
        "    model = keras.Sequential([\n",
        "        layers.Dense(64, activation=\"relu\"),\n",
        "        layers.Dense(64, activation=\"relu\"),\n",
        "        layers.Dense(1)\n",
        "    ])\n",
        "\n",
        "    model.compile(optimizer=\"rmsprop\", loss=\"mse\", metrics=[\"mae\"])\n",
        "    return model"
      ],
      "metadata": {
        "id": "BHaf0ncgrnli"
      },
      "execution_count": null,
      "outputs": []
    },
    {
      "cell_type": "markdown",
      "source": [
        "## K-fold Validation"
      ],
      "metadata": {
        "id": "RZzVbg16r1jk"
      }
    },
    {
      "cell_type": "markdown",
      "source": [
        "### k-fold 검증하기"
      ],
      "metadata": {
        "id": "hOcgRclAr5wp"
      }
    },
    {
      "cell_type": "code",
      "source": [
        "k = 4\n",
        "num_val_samples = len(train_data) // k\n",
        "num_epochs = 100\n",
        "all_scores = []\n",
        "for i in range(k):\n",
        "    print(f\"#{i}번째 폴드 처리중\")\n",
        "    val_data = train_data[i * num_val_samples: (i + 1) * num_val_samples]\n",
        "    val_targets = train_targets[i * num_val_samples: (i + 1) * num_val_samples]\n",
        "    partial_train_data = np.concatenate(\n",
        "        [train_data[:i * num_val_samples],\n",
        "         train_data[(i + 1) * num_val_samples:]],\n",
        "        axis=0)\n",
        "    partial_train_targets = np.concatenate(\n",
        "        [train_targets[:i * num_val_samples],\n",
        "         train_targets[(i + 1) * num_val_samples:]],\n",
        "        axis=0)\n",
        "    model = build_model()\n",
        "    model.fit(partial_train_data, partial_train_targets,\n",
        "              validation_data=(val_data, val_targets),\n",
        "              epochs=num_epochs, batch_size=16, verbose=0)\n",
        "    val_mse, val_mae = model.evaluate(val_data, val_targets, verbose=0)\n",
        "    all_scores.append(val_mae)"
      ],
      "metadata": {
        "id": "GdGuWSccr42x",
        "colab": {
          "base_uri": "https://localhost:8080/"
        },
        "outputId": "02f97132-af69-4d5a-ac29-5630c7b9ba30"
      },
      "execution_count": null,
      "outputs": [
        {
          "output_type": "stream",
          "name": "stdout",
          "text": [
            "#0번째 폴드 처리중\n",
            "#1번째 폴드 처리중\n",
            "#2번째 폴드 처리중\n",
            "#3번째 폴드 처리중\n"
          ]
        }
      ]
    },
    {
      "cell_type": "code",
      "source": [
        "all_scores"
      ],
      "metadata": {
        "id": "qi6tX3gBr4sS",
        "colab": {
          "base_uri": "https://localhost:8080/"
        },
        "outputId": "537b54ec-3e73-4f13-fad3-d5d0fc8a92dd"
      },
      "execution_count": null,
      "outputs": [
        {
          "output_type": "execute_result",
          "data": {
            "text/plain": [
              "[2.046107292175293, 2.465610980987549, 2.4656271934509277, 2.489896774291992]"
            ]
          },
          "metadata": {},
          "execution_count": 46
        }
      ]
    },
    {
      "cell_type": "code",
      "source": [
        "np.mean(all_scores)"
      ],
      "metadata": {
        "id": "4nGATRBrsBVJ",
        "colab": {
          "base_uri": "https://localhost:8080/"
        },
        "outputId": "4703af78-eece-4164-b9d0-54257fbe9c4b"
      },
      "execution_count": null,
      "outputs": [
        {
          "output_type": "execute_result",
          "data": {
            "text/plain": [
              "2.3668105602264404"
            ]
          },
          "metadata": {},
          "execution_count": 47
        }
      ]
    },
    {
      "cell_type": "markdown",
      "source": [
        "### 각 폴드의 검증 점수를 저장하기"
      ],
      "metadata": {
        "id": "MjL21yOOsDMv"
      }
    },
    {
      "cell_type": "code",
      "source": [
        "num_epochs = 500\n",
        "all_mae_histories = []\n",
        "for i in range(k):\n",
        "    print(f\"#{i}번째 폴드 처리중\")\n",
        "    val_data = train_data[i * num_val_samples: (i + 1) * num_val_samples]\n",
        "    val_targets = train_targets[i * num_val_samples: (i + 1) * num_val_samples]\n",
        "    partial_train_data = np.concatenate(\n",
        "        [train_data[:i * num_val_samples],\n",
        "         train_data[(i + 1) * num_val_samples:]],\n",
        "        axis=0)\n",
        "    partial_train_targets = np.concatenate(\n",
        "        [train_targets[:i * num_val_samples],\n",
        "         train_targets[(i + 1) * num_val_samples:]],\n",
        "        axis=0)\n",
        "    model = build_model()\n",
        "    history = model.fit(partial_train_data, partial_train_targets,\n",
        "                        validation_data=(val_data, val_targets),\n",
        "                        epochs=num_epochs, batch_size=16, verbose=0)\n",
        "    mae_history = history.history[\"val_mae\"]\n",
        "    all_mae_histories.append(mae_history)"
      ],
      "metadata": {
        "id": "WVmNLCH9sFqN",
        "colab": {
          "base_uri": "https://localhost:8080/"
        },
        "outputId": "54ceaecd-355e-4dd4-edf9-3948a933e97c"
      },
      "execution_count": null,
      "outputs": [
        {
          "output_type": "stream",
          "name": "stdout",
          "text": [
            "#0번째 폴드 처리중\n",
            "#1번째 폴드 처리중\n",
            "#2번째 폴드 처리중\n",
            "#3번째 폴드 처리중\n"
          ]
        }
      ]
    },
    {
      "cell_type": "markdown",
      "source": [
        "### K-겹 점수 평균 기록하기"
      ],
      "metadata": {
        "id": "4RGZiDzCsKgs"
      }
    },
    {
      "cell_type": "code",
      "source": [
        "average_mae_history =[\n",
        "    np.mean([x[i] for x in all_mae_histories]) for i in range(num_epochs)]"
      ],
      "metadata": {
        "id": "RQwe7TA-r4Px"
      },
      "execution_count": null,
      "outputs": []
    },
    {
      "cell_type": "markdown",
      "source": [
        "### 검증점수 그래프 그리기"
      ],
      "metadata": {
        "id": "Vh4jFenTvK0T"
      }
    },
    {
      "cell_type": "code",
      "source": [
        "plt.plot(range(1, len(average_mae_history) + 1), average_mae_history)\n",
        "plt.xlabel(\"Epochs\")\n",
        "plt.ylabel(\"Validation MAE\")\n",
        "plt.show()"
      ],
      "metadata": {
        "id": "Wcln8uO3vJ2e",
        "colab": {
          "base_uri": "https://localhost:8080/",
          "height": 449
        },
        "outputId": "9a71f0c0-d627-4539-8b36-f4d8246ef523"
      },
      "execution_count": null,
      "outputs": [
        {
          "output_type": "display_data",
          "data": {
            "text/plain": [
              "<Figure size 640x480 with 1 Axes>"
            ],
            "image/png": "[encoded data removed]"
          },
          "metadata": {}
        }
      ]
    },
    {
      "cell_type": "markdown",
      "source": [
        "**처음 10개의 데이터 포인트를 제외한 검증 점수 그래프 그리기**"
      ],
      "metadata": {
        "id": "x8wrwKJYvQRl"
      }
    },
    {
      "cell_type": "code",
      "source": [
        "truncated_mae_history = average_mae_history[10:]\n",
        "plt.plot(range(1, len(truncated_mae_history) + 1), truncated_mae_history)\n",
        "plt.xlabel(\"Epochs\")\n",
        "plt.ylabel(\"Validation MAE\")\n",
        "plt.show()"
      ],
      "metadata": {
        "id": "o-yOCM--sJls",
        "colab": {
          "base_uri": "https://localhost:8080/",
          "height": 450
        },
        "outputId": "599370ab-be07-43b3-a631-4d495a1a4187"
      },
      "execution_count": null,
      "outputs": [
        {
          "output_type": "display_data",
          "data": {
            "text/plain": [
              "<Figure size 640x480 with 1 Axes>"
            ],
            "image/png": "[encoded data removed]"
          },
          "metadata": {}
        }
      ]
    },
    {
      "cell_type": "markdown",
      "source": [
        "### 최종 모델 훈련하기"
      ],
      "metadata": {
        "id": "2lVSWsy8vScA"
      }
    },
    {
      "cell_type": "code",
      "source": [
        "model = build_model()\n",
        "model.fit(train_data, train_targets,\n",
        "          epochs=130, batch_size=16, verbose=0)\n",
        "test_mse_score, test_mae_score = model.evaluate(test_data, test_targets)"
      ],
      "metadata": {
        "id": "lk6YwRs3vRb2",
        "colab": {
          "base_uri": "https://localhost:8080/"
        },
        "outputId": "ed2d0740-211a-4daa-b206-cc7e2b1d9afc"
      },
      "execution_count": null,
      "outputs": [
        {
          "output_type": "stream",
          "name": "stdout",
          "text": [
            "4/4 [==============================] - 0s 5ms/step - loss: 12.4657 - mae: 2.3337\n"
          ]
        }
      ]
    },
    {
      "cell_type": "code",
      "source": [
        "test_mae_score"
      ],
      "metadata": {
        "id": "ppvhuMOavVPz",
        "colab": {
          "base_uri": "https://localhost:8080/"
        },
        "outputId": "5b881c09-9e7b-4d72-ffbb-6f94a22b0c9f"
      },
      "execution_count": null,
      "outputs": [
        {
          "output_type": "execute_result",
          "data": {
            "text/plain": [
              "2.333681583404541"
            ]
          },
          "metadata": {},
          "execution_count": 53
        }
      ]
    },
    {
      "cell_type": "markdown",
      "source": [
        "### 새로운 데이터에 대해 예측하기"
      ],
      "metadata": {
        "id": "KKGSmlAZvXN2"
      }
    },
    {
      "cell_type": "code",
      "source": [
        "predictions = model.predict(test_data)\n",
        "predictions[0]"
      ],
      "metadata": {
        "id": "2-y9fyedvWJf",
        "colab": {
          "base_uri": "https://localhost:8080/"
        },
        "outputId": "0ee6361c-2afa-4473-8d92-c463b0d1945b"
      },
      "execution_count": null,
      "outputs": [
        {
          "output_type": "stream",
          "name": "stdout",
          "text": [
            "4/4 [==============================] - 0s 4ms/step\n"
          ]
        },
        {
          "output_type": "execute_result",
          "data": {
            "text/plain": [
              "array([7.9926653], dtype=float32)"
            ]
          },
          "metadata": {},
          "execution_count": 54
        }
      ]
    },
    {
      "cell_type": "markdown",
      "source": [
        "## 추가 학습"
      ],
      "metadata": {
        "id": "ujUQ1tKXwmPC"
      }
    },
    {
      "cell_type": "code",
      "source": [],
      "metadata": {
        "id": "upeTWCPqqoQw"
      },
      "execution_count": null,
      "outputs": []
    }
  ]
}