{
 "cells": [
  {
   "cell_type": "code",
   "execution_count": 2,
   "metadata": {},
   "outputs": [
    {
     "name": "stdout",
     "output_type": "stream",
     "text": [
      "Requirement already satisfied: scikit_learn in /Users/Kimdaseul/miniforge3/lib/python3.9/site-packages (1.0.2)\n",
      "Requirement already satisfied: joblib>=0.11 in /Users/Kimdaseul/miniforge3/lib/python3.9/site-packages (from scikit_learn) (1.2.0)\n",
      "Requirement already satisfied: numpy>=1.14.6 in /Users/Kimdaseul/miniforge3/lib/python3.9/site-packages (from scikit_learn) (1.22.4)\n",
      "Requirement already satisfied: threadpoolctl>=2.0.0 in /Users/Kimdaseul/miniforge3/lib/python3.9/site-packages (from scikit_learn) (3.1.0)\n",
      "Requirement already satisfied: scipy>=1.1.0 in /Users/Kimdaseul/miniforge3/lib/python3.9/site-packages (from scikit_learn) (1.8.1)\n",
      "\n",
      "\u001b[1m[\u001b[0m\u001b[34;49mnotice\u001b[0m\u001b[1;39;49m]\u001b[0m\u001b[39;49m A new release of pip available: \u001b[0m\u001b[31;49m22.3\u001b[0m\u001b[39;49m -> \u001b[0m\u001b[32;49m22.3.1\u001b[0m\n",
      "\u001b[1m[\u001b[0m\u001b[34;49mnotice\u001b[0m\u001b[1;39;49m]\u001b[0m\u001b[39;49m To update, run: \u001b[0m\u001b[32;49mpip install --upgrade pip\u001b[0m\n"
     ]
    }
   ],
   "source": [
    "!pip install scikit_learn"
   ]
  },
  {
   "cell_type": "code",
   "execution_count": 5,
   "metadata": {},
   "outputs": [
    {
     "data": {
      "text/plain": [
       "<AxesSubplot:>"
      ]
     },
     "execution_count": 5,
     "metadata": {},
     "output_type": "execute_result"
    },
    {
     "data": {
      "image/png": "[encoded data removed]",
      "text/plain": [
       "<Figure size 640x480 with 1 Axes>"
      ]
     },
     "metadata": {},
     "output_type": "display_data"
    }
   ],
   "source": [
    "# TF - One-hot / Binary Expression\n",
    "from sklearn.feature_extraction.text import CountVectorizer\n",
    "import seaborn as sns\n",
    "%matplotlib inline\n",
    "\n",
    "corpus = ['Time flies like an arrow.',\n",
    "          'Fruit flies like a banana.']\n",
    "one_hot_vectorizer = CountVectorizer(binary= True)\n",
    "one_hot = one_hot_vectorizer.fit_transform(corpus).toarray()\n",
    "vocab = one_hot_vectorizer.get_feature_names()\n",
    "sns.heatmap(one_hot, annot=True,\n",
    "            cbar= False, xticklabels=vocab,\n",
    "            yticklabels=['Sentence 1', 'Sentence 2'])"
   ]
  },
  {
   "cell_type": "code",
   "execution_count": 7,
   "metadata": {},
   "outputs": [
    {
     "data": {
      "text/plain": [
       "<AxesSubplot:>"
      ]
     },
     "execution_count": 7,
     "metadata": {},
     "output_type": "execute_result"
    },
    {
     "data": {
      "image/png": "[encoded data removed]",
      "text/plain": [
       "<Figure size 640x480 with 1 Axes>"
      ]
     },
     "metadata": {},
     "output_type": "display_data"
    }
   ],
   "source": [
    "# TF-IDF\n",
    "from sklearn.feature_extraction.text import TfidfVectorizer\n",
    "import seaborn as sns\n",
    "\n",
    "tfidf_vectorizer = TfidfVectorizer()\n",
    "tfidf = tfidf_vectorizer.fit_transform(corpus).toarray()\n",
    "sns.heatmap(tfidf, annot=True, cbar= False, xticklabels=vocab,\n",
    "            yticklabels= ['Sentence 1', 'Sentence 2'])"
   ]
  },
  {
   "cell_type": "code",
   "execution_count": 11,
   "metadata": {},
   "outputs": [],
   "source": [
    "# helper func\n",
    "def describe(x):\n",
    "    print(\"타입: {}\".format(x.type()))\n",
    "    print(\"크기: {}\".format(x.shape))\n",
    "    print(\"값: \\n{}\".format(x))"
   ]
  },
  {
   "cell_type": "code",
   "execution_count": 13,
   "metadata": {},
   "outputs": [
    {
     "name": "stdout",
     "output_type": "stream",
     "text": [
      "타입: torch.FloatTensor\n",
      "크기: torch.Size([2, 3])\n",
      "값: \n",
      "tensor([[0., 0., 0.],\n",
      "        [0., 0., 0.]])\n"
     ]
    }
   ],
   "source": [
    "# Create Tensor\n",
    "import torch\n",
    "describe(torch.Tensor(2,3))"
   ]
  },
  {
   "cell_type": "code",
   "execution_count": 14,
   "metadata": {},
   "outputs": [
    {
     "name": "stdout",
     "output_type": "stream",
     "text": [
      "타입: torch.FloatTensor\n",
      "크기: torch.Size([2, 3])\n",
      "값: \n",
      "tensor([[0.1612, 0.4971, 0.6505],\n",
      "        [0.0543, 0.8757, 0.2767]])\n",
      "타입: torch.FloatTensor\n",
      "크기: torch.Size([2, 3])\n",
      "값: \n",
      "tensor([[-0.2497,  0.9822,  0.8037],\n",
      "        [-0.5608, -0.7205,  1.2914]])\n"
     ]
    }
   ],
   "source": [
    "# Create randomly initialized Tensor\n",
    "import torch\n",
    "describe(torch.rand(2,3)) # uniform distribution\n",
    "describe(torch.randn(2,3)) # standard uniform distribution\n",
    "\n"
   ]
  },
  {
   "cell_type": "code",
   "execution_count": 15,
   "metadata": {},
   "outputs": [
    {
     "name": "stdout",
     "output_type": "stream",
     "text": [
      "타입: torch.FloatTensor\n",
      "크기: torch.Size([2, 3])\n",
      "값: \n",
      "tensor([[0., 0., 0.],\n",
      "        [0., 0., 0.]])\n",
      "타입: torch.FloatTensor\n",
      "크기: torch.Size([2, 3])\n",
      "값: \n",
      "tensor([[1., 1., 1.],\n",
      "        [1., 1., 1.]])\n",
      "타입: torch.FloatTensor\n",
      "크기: torch.Size([2, 3])\n",
      "값: \n",
      "tensor([[5., 5., 5.],\n",
      "        [5., 5., 5.]])\n"
     ]
    }
   ],
   "source": [
    "#filled() method\n",
    "import torch\n",
    "describe(torch.zeros(2,3))\n",
    "x = torch.ones(2,3)\n",
    "describe(x)\n",
    "x.fill_(5)\n",
    "describe(x)"
   ]
  },
  {
   "cell_type": "code",
   "execution_count": 17,
   "metadata": {},
   "outputs": [
    {
     "name": "stdout",
     "output_type": "stream",
     "text": [
      "타입: torch.FloatTensor\n",
      "크기: torch.Size([2, 3])\n",
      "값: \n",
      "tensor([[1., 2., 3.],\n",
      "        [4., 5., 6.]])\n"
     ]
    }
   ],
   "source": [
    "# Tensor with list\n",
    "x= torch.Tensor([[1,2,3],\n",
    "                [4,5,6]])\n",
    "describe(x)"
   ]
  },
  {
   "cell_type": "code",
   "execution_count": 18,
   "metadata": {},
   "outputs": [
    {
     "name": "stdout",
     "output_type": "stream",
     "text": [
      "타입: torch.DoubleTensor\n",
      "크기: torch.Size([2, 3])\n",
      "값: \n",
      "tensor([[0.9734, 0.7377, 0.8121],\n",
      "        [0.1827, 0.1684, 0.3414]], dtype=torch.float64)\n"
     ]
    }
   ],
   "source": [
    "#Tensor with numpyarray \n",
    "import torch\n",
    "import numpy as np\n",
    "npy = np.random.rand(2,3)\n",
    "describe(torch.from_numpy(npy))"
   ]
  },
  {
   "cell_type": "code",
   "execution_count": 22,
   "metadata": {},
   "outputs": [
    {
     "name": "stdout",
     "output_type": "stream",
     "text": [
      "타입: torch.FloatTensor\n",
      "크기: torch.Size([2, 3])\n",
      "값: \n",
      "tensor([[1., 2., 3.],\n",
      "        [4., 5., 6.]])\n",
      "타입: torch.LongTensor\n",
      "크기: torch.Size([2, 3])\n",
      "값: \n",
      "tensor([[1, 2, 3],\n",
      "        [4, 5, 6]])\n",
      "타입: torch.LongTensor\n",
      "크기: torch.Size([2, 3])\n",
      "값: \n",
      "tensor([[1, 2, 3],\n",
      "        [4, 5, 6]])\n",
      "타입: torch.FloatTensor\n",
      "크기: torch.Size([2, 3])\n",
      "값: \n",
      "tensor([[1., 2., 3.],\n",
      "        [4., 5., 6.]])\n"
     ]
    }
   ],
   "source": [
    "# Tensor Attribution\n",
    "x = torch.FloatTensor([[1,2,3],\n",
    "                       [4,5,6]])\n",
    "describe(x)\n",
    "\n",
    "x = x.long()\n",
    "describe(x)\n",
    "\n",
    "x= torch.tensor([[1,2,3],\n",
    "                 [4,5,6]], dtype=torch.int64)\n",
    "describe(x)\n",
    "\n",
    "x=x.float()\n",
    "describe(x)"
   ]
  },
  {
   "cell_type": "code",
   "execution_count": 25,
   "metadata": {},
   "outputs": [
    {
     "name": "stdout",
     "output_type": "stream",
     "text": [
      "타입: torch.FloatTensor\n",
      "크기: torch.Size([2, 3])\n",
      "값: \n",
      "tensor([[-0.7510, -1.4914,  3.2061],\n",
      "        [-1.8603,  1.0953,  0.6035]])\n",
      "타입: torch.FloatTensor\n",
      "크기: torch.Size([2, 3])\n",
      "값: \n",
      "tensor([[-1.5020, -2.9828,  6.4121],\n",
      "        [-3.7206,  2.1905,  1.2070]])\n"
     ]
    }
   ],
   "source": [
    "import torch\n",
    "x= torch.randn(2,3)\n",
    "describe(x)\n",
    "describe(torch.add(x, x))"
   ]
  },
  {
   "cell_type": "code",
   "execution_count": 26,
   "metadata": {},
   "outputs": [
    {
     "name": "stdout",
     "output_type": "stream",
     "text": [
      "타입: torch.FloatTensor\n",
      "크기: torch.Size([2, 3])\n",
      "값: \n",
      "tensor([[-1.5020, -2.9828,  6.4121],\n",
      "        [-3.7206,  2.1905,  1.2070]])\n"
     ]
    }
   ],
   "source": [
    "describe(x+x)"
   ]
  },
  {
   "cell_type": "code",
   "execution_count": 30,
   "metadata": {},
   "outputs": [
    {
     "name": "stdout",
     "output_type": "stream",
     "text": [
      "타입: torch.LongTensor\n",
      "크기: torch.Size([6])\n",
      "값: \n",
      "tensor([0, 1, 2, 3, 4, 5])\n",
      "타입: torch.LongTensor\n",
      "크기: torch.Size([2, 3])\n",
      "값: \n",
      "tensor([[0, 1, 2],\n",
      "        [3, 4, 5]])\n",
      "타입: torch.LongTensor\n",
      "크기: torch.Size([3])\n",
      "값: \n",
      "tensor([3, 5, 7])\n",
      "타입: torch.LongTensor\n",
      "크기: torch.Size([2])\n",
      "값: \n",
      "tensor([ 3, 12])\n",
      "타입: torch.LongTensor\n",
      "크기: torch.Size([3, 2])\n",
      "값: \n",
      "tensor([[0, 3],\n",
      "        [1, 4],\n",
      "        [2, 5]])\n"
     ]
    }
   ],
   "source": [
    "# Dimensional Tensor Calculation\n",
    "import torch\n",
    "x= torch.arange(6)\n",
    "describe(x)\n",
    "\n",
    "x= x.view(2,3)\n",
    "describe(x)\n",
    "\n",
    "# arange - 지정한 값 이전까지 1씩 증가하는 텐서 생성\n",
    "# view - 동일한 데이터를 공유하는 새로운 텐서 생성;\n",
    "\n",
    "describe(torch.sum(x, dim=0))\n",
    "\n",
    "describe(torch.sum(x, dim=1))\n",
    "\n",
    "describe(torch.transpose(x, 0, 1))\n",
    "# transpose() 는 2,3번째의 매개변수 차원을 전치"
   ]
  },
  {
   "cell_type": "code",
   "execution_count": 33,
   "metadata": {},
   "outputs": [
    {
     "name": "stdout",
     "output_type": "stream",
     "text": [
      "타입: torch.LongTensor\n",
      "크기: torch.Size([2, 3])\n",
      "값: \n",
      "tensor([[0, 1, 2],\n",
      "        [3, 4, 5]])\n",
      "타입: torch.LongTensor\n",
      "크기: torch.Size([1, 2])\n",
      "값: \n",
      "tensor([[0, 1]])\n",
      "타입: torch.LongTensor\n",
      "크기: torch.Size([])\n",
      "값: \n",
      "1\n"
     ]
    }
   ],
   "source": [
    "# Tensor slicing/indexing\n",
    "import torch\n",
    "x = torch.arange(6).view(2,3)\n",
    "describe(x)\n",
    "describe(x[:1, :2])\n",
    "describe(x[0,1])"
   ]
  },
  {
   "cell_type": "code",
   "execution_count": 36,
   "metadata": {},
   "outputs": [
    {
     "name": "stdout",
     "output_type": "stream",
     "text": [
      "타입: torch.LongTensor\n",
      "크기: torch.Size([2, 2])\n",
      "값: \n",
      "tensor([[0, 2],\n",
      "        [3, 5]])\n",
      "타입: torch.LongTensor\n",
      "크기: torch.Size([2, 3])\n",
      "값: \n",
      "tensor([[0, 1, 2],\n",
      "        [0, 1, 2]])\n",
      "타입: torch.LongTensor\n",
      "크기: torch.Size([2])\n",
      "값: \n",
      "tensor([0, 4])\n"
     ]
    }
   ],
   "source": [
    "# Complicated indexing, referring non-continuous Tensor Index\n",
    "indices = torch.LongTensor([0,2])\n",
    "describe(torch.index_select(x,dim=1,index=indices))\n",
    "\n",
    "indices = torch.LongTensor([0,0])\n",
    "describe(torch.index_select(x, dim=0, index=indices))\n",
    "\n",
    "row_indices = torch.arange(2).long()\n",
    "col_indices = torch.LongTensor([0,1])\n",
    "\n",
    "describe(x[row_indices,col_indices])\n"
   ]
  },
  {
   "cell_type": "code",
   "execution_count": 41,
   "metadata": {},
   "outputs": [
    {
     "name": "stdout",
     "output_type": "stream",
     "text": [
      "타입: torch.LongTensor\n",
      "크기: torch.Size([2, 3])\n",
      "값: \n",
      "tensor([[0, 1, 2],\n",
      "        [3, 4, 5]])\n",
      "타입: torch.LongTensor\n",
      "크기: torch.Size([4, 3])\n",
      "값: \n",
      "tensor([[0, 1, 2],\n",
      "        [3, 4, 5],\n",
      "        [0, 1, 2],\n",
      "        [3, 4, 5]])\n",
      "타입: torch.LongTensor\n",
      "크기: torch.Size([2, 6])\n",
      "값: \n",
      "tensor([[0, 1, 2, 0, 1, 2],\n",
      "        [3, 4, 5, 3, 4, 5]])\n",
      "타입: torch.LongTensor\n",
      "크기: torch.Size([2, 2, 3])\n",
      "값: \n",
      "tensor([[[0, 1, 2],\n",
      "         [3, 4, 5]],\n",
      "\n",
      "        [[0, 1, 2],\n",
      "         [3, 4, 5]]])\n"
     ]
    }
   ],
   "source": [
    "import torch\n",
    "x= torch.arange(6).view(2,3)\n",
    "describe(x)\n",
    "\n",
    "describe(torch.cat([x,x], dim=0))\n",
    "describe(torch.cat([x,x], dim=1))\n",
    "describe(torch.stack([x,x])) # 3 dimension"
   ]
  },
  {
   "cell_type": "code",
   "execution_count": 45,
   "metadata": {},
   "outputs": [
    {
     "name": "stdout",
     "output_type": "stream",
     "text": [
      "타입: torch.FloatTensor\n",
      "크기: torch.Size([2, 3])\n",
      "값: \n",
      "tensor([[0., 1., 2.],\n",
      "        [3., 4., 5.]])\n",
      "타입: torch.FloatTensor\n",
      "크기: torch.Size([3, 2])\n",
      "값: \n",
      "tensor([[1., 2.],\n",
      "        [1., 2.],\n",
      "        [1., 2.]])\n",
      "타입: torch.FloatTensor\n",
      "크기: torch.Size([2, 2])\n",
      "값: \n",
      "tensor([[ 3.,  6.],\n",
      "        [12., 24.]])\n"
     ]
    }
   ],
   "source": [
    "import torch\n",
    "x1 = torch.arange(6).view(2,3).float()\n",
    "describe(x1)\n",
    "x2 = torch.ones(3,2)\n",
    "x2[:, 1] += 1\n",
    "describe(x2)\n",
    "describe(torch.mm(x1,x2))"
   ]
  },
  {
   "cell_type": "code",
   "execution_count": 48,
   "metadata": {},
   "outputs": [
    {
     "name": "stdout",
     "output_type": "stream",
     "text": [
      "타입: torch.FloatTensor\n",
      "크기: torch.Size([2, 2])\n",
      "값: \n",
      "tensor([[1., 1.],\n",
      "        [1., 1.]], requires_grad=True)\n",
      "True\n",
      "타입: torch.FloatTensor\n",
      "크기: torch.Size([2, 2])\n",
      "값: \n",
      "tensor([[21., 21.],\n",
      "        [21., 21.]], grad_fn=<AddBackward0>)\n",
      "타입: torch.FloatTensor\n",
      "크기: torch.Size([])\n",
      "값: \n",
      "21.0\n",
      "False\n"
     ]
    }
   ],
   "source": [
    "# Gradient Tensor\n",
    "import torch\n",
    "x = torch.ones(2,2, requires_grad=True)\n",
    "describe(x)\n",
    "print(x.grad is None)\n",
    "y = (x+2) *(x+5) + 3\n",
    "describe(y)\n",
    "\n",
    "z = y.mean()\n",
    "describe(z)\n",
    "z.backward()\n",
    "print(x.grad is None)"
   ]
  },
  {
   "cell_type": "code",
   "execution_count": 7,
   "metadata": {},
   "outputs": [
    {
     "name": "stdout",
     "output_type": "stream",
     "text": [
      "True\n"
     ]
    }
   ],
   "source": [
    "# Create CUDA Tensor\n",
    "import torch\n",
    "# print(torch.cuda.is_available()) # False in M1\n",
    "# mps_device = torch.device(\"mps\") 의 식으로 할당하면 됨(기존 코드에서 변경이 필요하겠지.)\n",
    "print(torch.backends.mps.is_available()) # in M1\n"
   ]
  },
  {
   "cell_type": "code",
   "execution_count": 12,
   "metadata": {},
   "outputs": [
    {
     "name": "stdout",
     "output_type": "stream",
     "text": [
      "mps\n",
      "타입: torch.mps.FloatTensor\n",
      "크기: torch.Size([3, 3])\n",
      "값: \n",
      "tensor([[0.6721, 0.7103, 0.9085],\n",
      "        [0.2950, 0.8073, 0.4788],\n",
      "        [0.3225, 0.6963, 0.7453]], device='mps:0')\n"
     ]
    }
   ],
   "source": [
    "# 바람직한 방법\n",
    "device = torch.device(\"mps\" if torch.backends.mps.is_available() else \"cpu\")\n",
    "print(device)\n",
    "\n",
    "x = torch.rand(3,3).to(device)\n",
    "describe(x)"
   ]
  },
  {
   "cell_type": "code",
   "execution_count": 13,
   "metadata": {},
   "outputs": [
    {
     "ename": "RuntimeError",
     "evalue": "Expected all tensors to be on the same device, but found at least two devices, mps:0 and cpu!",
     "output_type": "error",
     "traceback": [
      "\u001b[0;31m---------------------------------------------------------------------------\u001b[0m",
      "\u001b[0;31mRuntimeError\u001b[0m                              Traceback (most recent call last)",
      "Cell \u001b[0;32mIn [13], line 2\u001b[0m\n\u001b[1;32m      1\u001b[0m y \u001b[39m=\u001b[39m torch\u001b[39m.\u001b[39mrand(\u001b[39m3\u001b[39m, \u001b[39m3\u001b[39m)\n\u001b[0;32m----> 2\u001b[0m x\u001b[39m+\u001b[39;49my\n",
      "\u001b[0;31mRuntimeError\u001b[0m: Expected all tensors to be on the same device, but found at least two devices, mps:0 and cpu!"
     ]
    }
   ],
   "source": [
    "y = torch.rand(3, 3)\n",
    "x+y"
   ]
  },
  {
   "cell_type": "code",
   "execution_count": 14,
   "metadata": {},
   "outputs": [
    {
     "data": {
      "text/plain": [
       "tensor([[0.8214, 0.9198, 1.5541],\n",
       "        [0.9592, 1.2662, 1.0633],\n",
       "        [0.3890, 0.7017, 0.7519]])"
      ]
     },
     "execution_count": 14,
     "metadata": {},
     "output_type": "execute_result"
    }
   ],
   "source": [
    "cpu_device = torch.device(\"cpu\")\n",
    "y = y.to(cpu_device)\n",
    "x = x.to(cpu_device)\n",
    "x+ y"
   ]
  },
  {
   "cell_type": "code",
   "execution_count": 15,
   "metadata": {},
   "outputs": [],
   "source": [
    "# CUDA_VISIBLE_DEVICE=0,1,2,3 python main.py # 병렬, 다중GPU 훈련 시 사용할 수 있음"
   ]
  },
  {
   "cell_type": "markdown",
   "metadata": {},
   "source": [
    "Ch1. 연습문제"
   ]
  },
  {
   "cell_type": "markdown",
   "metadata": {},
   "source": [
    "### 1. 2D 텐서를 만들고, 차원 0 위치에 크기가 1인 차원을 추가하세요"
   ]
  },
  {
   "cell_type": "code",
   "execution_count": 36,
   "metadata": {},
   "outputs": [
    {
     "data": {
      "text/plain": [
       "tensor([[0.1690, 0.3019],\n",
       "        [0.7227, 0.7691]])"
      ]
     },
     "execution_count": 36,
     "metadata": {},
     "output_type": "execute_result"
    }
   ],
   "source": [
    "import torch\n",
    "a = torch.rand(2,2)\n",
    "a"
   ]
  },
  {
   "cell_type": "code",
   "execution_count": 40,
   "metadata": {},
   "outputs": [
    {
     "data": {
      "text/plain": [
       "torch.Size([2, 1, 2])"
      ]
     },
     "execution_count": 40,
     "metadata": {},
     "output_type": "execute_result"
    }
   ],
   "source": [
    "a.unsqueeze(dim=1).shape\n"
   ]
  },
  {
   "cell_type": "code",
   "execution_count": 45,
   "metadata": {},
   "outputs": [
    {
     "data": {
      "text/plain": [
       "torch.Size([1, 2, 2])"
      ]
     },
     "execution_count": 45,
     "metadata": {},
     "output_type": "execute_result"
    }
   ],
   "source": [
    "a.unsqueeze(0).shape\n"
   ]
  },
  {
   "cell_type": "markdown",
   "metadata": {},
   "source": [
    "### 2. 이전 텐서에 추가한 차원을 삭제하세요."
   ]
  },
  {
   "cell_type": "code",
   "execution_count": 48,
   "metadata": {},
   "outputs": [
    {
     "data": {
      "text/plain": [
       "tensor([[0.1690, 0.3019],\n",
       "        [0.7227, 0.7691]])"
      ]
     },
     "execution_count": 48,
     "metadata": {},
     "output_type": "execute_result"
    }
   ],
   "source": [
    "a.squeeze(0).shape # 2*2\n",
    "a"
   ]
  },
  {
   "cell_type": "markdown",
   "metadata": {},
   "source": [
    "### 3. 범위가 [3,7]이고 크기가 5x3인 랜덤 텐서를 만드세요."
   ]
  },
  {
   "cell_type": "code",
   "execution_count": 49,
   "metadata": {},
   "outputs": [
    {
     "data": {
      "text/plain": [
       "tensor([[4.0933, 3.6369, 3.4810],\n",
       "        [3.5014, 6.3997, 6.1683],\n",
       "        [3.9369, 6.6151, 5.5230],\n",
       "        [4.3339, 5.8684, 4.2935],\n",
       "        [3.0611, 3.7623, 4.7043]])"
      ]
     },
     "execution_count": 49,
     "metadata": {},
     "output_type": "execute_result"
    }
   ],
   "source": [
    "3+torch.rand(5,3)*(7-3)"
   ]
  },
  {
   "cell_type": "markdown",
   "metadata": {},
   "source": [
    "### 4. 정규분포를 사용해 텐서를 만드세요."
   ]
  },
  {
   "cell_type": "code",
   "execution_count": 51,
   "metadata": {},
   "outputs": [
    {
     "data": {
      "text/plain": [
       "tensor([[-1.1953, -1.4532, -1.6094],\n",
       "        [-0.9957, -0.6184,  1.1563],\n",
       "        [-1.2993, -0.4277,  0.4516]])"
      ]
     },
     "execution_count": 51,
     "metadata": {},
     "output_type": "execute_result"
    }
   ],
   "source": [
    "torch.randn(3,3) # 표준정규분포 ?"
   ]
  },
  {
   "cell_type": "code",
   "execution_count": 53,
   "metadata": {},
   "outputs": [
    {
     "data": {
      "text/plain": [
       "tensor([[ 1.7203, -0.2771,  0.9393],\n",
       "        [ 0.2260,  0.9734,  0.6109],\n",
       "        [-0.9147,  0.3354,  0.6278]])"
      ]
     },
     "execution_count": 53,
     "metadata": {},
     "output_type": "execute_result"
    }
   ],
   "source": [
    "a = torch.rand(3,3)\n",
    "a.normal_()"
   ]
  },
  {
   "cell_type": "markdown",
   "metadata": {},
   "source": [
    "### 5. 텐서 torch.Tensor([1,1,1,0,1])에서 0이 아닌 원소의 인덱스를 추출하세요."
   ]
  },
  {
   "cell_type": "code",
   "execution_count": 54,
   "metadata": {},
   "outputs": [
    {
     "data": {
      "text/plain": [
       "tensor([[0],\n",
       "        [1],\n",
       "        [2],\n",
       "        [4]])"
      ]
     },
     "execution_count": 54,
     "metadata": {},
     "output_type": "execute_result"
    }
   ],
   "source": [
    "a = torch.Tensor([1,1,1,0,1])\n",
    "torch.nonzero(a)"
   ]
  },
  {
   "cell_type": "markdown",
   "metadata": {},
   "source": [
    "### 6. 크기가 (3,1) 인 랜덤 텐서를 만들고 네벌을 복사해 쌓으세요."
   ]
  },
  {
   "cell_type": "code",
   "execution_count": 60,
   "metadata": {},
   "outputs": [
    {
     "data": {
      "text/plain": [
       "tensor([[0.9918, 0.9918, 0.9918, 0.9918],\n",
       "        [0.7137, 0.7137, 0.7137, 0.7137],\n",
       "        [0.5310, 0.5310, 0.5310, 0.5310]])"
      ]
     },
     "execution_count": 60,
     "metadata": {},
     "output_type": "execute_result"
    }
   ],
   "source": [
    "a = torch.rand(3,1)\n",
    "a.expand(3,4)"
   ]
  },
  {
   "cell_type": "markdown",
   "metadata": {},
   "source": [
    "### 7. 2차원행렬 2개의 배치행렬곱셈을 계산하세요.\n",
    "(a=torch.rand(3,4,5), b=torch.rand(3,5,4)"
   ]
  },
  {
   "cell_type": "code",
   "execution_count": 61,
   "metadata": {},
   "outputs": [
    {
     "data": {
      "text/plain": [
       "tensor([[[1.1903, 1.8970, 1.5832, 1.9694],\n",
       "         [0.4591, 0.7684, 0.5569, 0.8903],\n",
       "         [1.1050, 1.4702, 1.5285, 1.5331],\n",
       "         [1.4561, 1.9647, 2.0633, 2.0698]],\n",
       "\n",
       "        [[2.3446, 2.0164, 2.3353, 2.6836],\n",
       "         [2.3320, 2.0643, 2.2155, 2.6752],\n",
       "         [1.6610, 1.6199, 1.3083, 1.8070],\n",
       "         [2.0568, 1.7733, 1.9648, 2.2313]],\n",
       "\n",
       "        [[1.0461, 1.4591, 2.3698, 1.0070],\n",
       "         [0.8986, 0.9082, 1.6346, 0.3176],\n",
       "         [0.3759, 0.6244, 1.2711, 0.3674],\n",
       "         [1.3304, 1.8496, 2.6071, 1.0299]]])"
      ]
     },
     "execution_count": 61,
     "metadata": {},
     "output_type": "execute_result"
    }
   ],
   "source": [
    "a = torch.rand(3,4,5)\n",
    "b = torch.rand(3,5,4)\n",
    "torch.bmm(a,b)"
   ]
  },
  {
   "cell_type": "markdown",
   "metadata": {},
   "source": [
    "### 8. 3차원행렬과 2차원 행렬의 배치행렬 곱셈을 계산하세요.\n",
    "(a = torch.rand(3,4,5), b = torch.rand(5,4))"
   ]
  },
  {
   "cell_type": "code",
   "execution_count": 64,
   "metadata": {},
   "outputs": [
    {
     "data": {
      "text/plain": [
       "tensor([[[1.4036, 0.6491, 1.2449, 1.2409],\n",
       "         [1.2024, 0.7975, 0.6251, 0.8413],\n",
       "         [1.2421, 0.5799, 0.9706, 1.1044],\n",
       "         [1.9497, 0.8198, 1.7462, 1.7520]],\n",
       "\n",
       "        [[1.4723, 0.6741, 1.4406, 1.2448],\n",
       "         [1.9049, 0.9419, 1.4825, 1.8111],\n",
       "         [1.7657, 0.9662, 1.3570, 1.4655],\n",
       "         [1.1083, 0.6229, 1.1281, 1.1727]],\n",
       "\n",
       "        [[1.8019, 0.9984, 1.5718, 1.5203],\n",
       "         [1.8242, 0.8935, 2.0316, 1.7334],\n",
       "         [1.6153, 0.7560, 1.4065, 1.5219],\n",
       "         [1.9127, 1.0003, 2.0774, 1.6742]]])"
      ]
     },
     "execution_count": 64,
     "metadata": {},
     "output_type": "execute_result"
    }
   ],
   "source": [
    "a = torch.rand(3,4,5)\n",
    "b = torch.rand(5,4)\n",
    "\n",
    "torch.bmm(a,b.unsqueeze(0).expand(a.size(0), *b.size()))"
   ]
  },
  {
   "cell_type": "markdown",
   "metadata": {},
   "source": [
    "* 배치행렬곱셈 : 3차원 이상에서, 각층간의 행렬곱을 반환"
   ]
  },
  {
   "cell_type": "markdown",
   "metadata": {},
   "source": []
  }
 ],
 "metadata": {
  "kernelspec": {
   "display_name": "Python 3.9.10 ('base')",
   "language": "python",
   "name": "python3"
  },
  "language_info": {
   "codemirror_mode": {
    "name": "ipython",
    "version": 3
   },
   "file_extension": ".py",
   "mimetype": "text/x-python",
   "name": "python",
   "nbconvert_exporter": "python",
   "pygments_lexer": "ipython3",
   "version": "3.9.10"
  },
  "orig_nbformat": 4,
  "vscode": {
   "interpreter": {
    "hash": "58cfff075700c87ed9f50485baf20919590ba245c93a445b610f222ec3837e28"
   }
  }
 },
 "nbformat": 4,
 "nbformat_minor": 2
}
