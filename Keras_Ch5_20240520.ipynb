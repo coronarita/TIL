{
  "nbformat": 4,
  "nbformat_minor": 0,
  "metadata": {
    "colab": {
      "provenance": [],
      "authorship_tag": "ABX9TyPCp+rxJZBF8KJ9IDG3gPYc",
      "include_colab_link": true
    },
    "kernelspec": {
      "name": "python3",
      "display_name": "Python 3"
    },
    "language_info": {
      "name": "python"
    }
  },
  "cells": [
    {
      "cell_type": "markdown",
      "metadata": {
        "id": "view-in-github",
        "colab_type": "text"
      },
      "source": [
        "<a href=\"https://colab.research.google.com/github/coronarita/TIL/blob/main/Keras_Ch5_20240520.ipynb\" target=\"_parent\"><img src=\"https://colab.research.google.com/assets/colab-badge.svg\" alt=\"Open In Colab\"/></a>"
      ]
    },
    {
      "cell_type": "markdown",
      "source": [
        "# 머신러닝의 기본요소"
      ],
      "metadata": {
        "id": "0NPjPUYmHnJT"
      }
    },
    {
      "cell_type": "markdown",
      "source": [
        "## MNIST에 잡음 픽셀, 0 픽셀 추가하기"
      ],
      "metadata": {
        "id": "_Tv4kPr0H_Jx"
      }
    },
    {
      "cell_type": "code",
      "source": [
        "from tensorflow.keras.datasets import mnist\n",
        "import numpy as np\n",
        "\n",
        "(train_images, train_labels), _ = mnist.load_data()\n",
        "train_images = train_images.reshape((60000, 28*28))\n",
        "train_images = train_images.astype(\"float32\")/255\n",
        "\n",
        "train_images_with_noise_channels = np.concatenate(\n",
        "    [train_images, np.random.random((len(train_images), 784))], axis=1\n",
        ")\n",
        "\n",
        "train_images_with_zero_channels = np.concatenate(\n",
        "    [train_images, np.zeros((len(train_images), 784))], axis=1\n",
        ")"
      ],
      "metadata": {
        "id": "uVM664tNH98M",
        "colab": {
          "base_uri": "https://localhost:8080/"
        },
        "outputId": "d61fc634-7735-44df-8283-4d70911367fa"
      },
      "execution_count": 2,
      "outputs": [
        {
          "output_type": "stream",
          "name": "stdout",
          "text": [
            "Downloading data from https://storage.googleapis.com/tensorflow/tf-keras-datasets/mnist.npz\n",
            "11490434/11490434 [==============================] - 0s 0us/step\n"
          ]
        }
      ]
    },
    {
      "cell_type": "code",
      "execution_count": null,
      "metadata": {
        "colab": {
          "base_uri": "https://localhost:8080/"
        },
        "id": "QP5046z5HXqs",
        "outputId": "01a6e98c-5b8d-437f-8065-a63658d9cb0c"
      },
      "outputs": [
        {
          "output_type": "execute_result",
          "data": {
            "text/plain": [
              "(60000, 1568)"
            ]
          },
          "metadata": {},
          "execution_count": 12
        }
      ],
      "source": [
        "# import matplotlib.pyplot as plt\n",
        "\n",
        "# plt.imshow(train_images_with_zero_channels[0])\n",
        "# plt.show()\n",
        "\n",
        "train_images_with_noise_channels.shape"
      ]
    },
    {
      "cell_type": "code",
      "source": [
        "from tensorflow import keras\n",
        "from tensorflow.keras import layers\n",
        "\n",
        "def get_model():\n",
        "    model = keras.Sequential([\n",
        "        layers.Dense(512, activation='relu'),\n",
        "        layers.Dense(10, activation='softmax')\n",
        "    ])\n",
        "    model.compile(optimizer=\"rmsprop\",\n",
        "                  loss=\"sparse_categorical_crossentropy\",\n",
        "                  metrics=[\"accuracy\"])\n",
        "    return model\n",
        "\n",
        "model = get_model()\n",
        "history_noise = model.fit(\n",
        "    train_images_with_noise_channels, train_labels,\n",
        "    epochs=10,\n",
        "    batch_size=128,\n",
        "    validation_split=0.2\n",
        "\n",
        ")"
      ],
      "metadata": {
        "id": "hJglFT90MKw7"
      },
      "execution_count": null,
      "outputs": []
    },
    {
      "cell_type": "code",
      "source": [
        "model = get_model()\n",
        "history_zeros = model.fit(\n",
        "    train_images_with_zero_channels, train_labels,\n",
        "    epochs=10,\n",
        "    batch_size=128,\n",
        "    validation_split=0.2\n",
        ")"
      ],
      "metadata": {
        "colab": {
          "base_uri": "https://localhost:8080/"
        },
        "id": "v81xHhWcMvfA",
        "outputId": "a8b5d9ba-52b9-4313-fa45-9b21b6c7c83e"
      },
      "execution_count": null,
      "outputs": [
        {
          "output_type": "stream",
          "name": "stdout",
          "text": [
            "Epoch 1/10\n",
            "375/375 [==============================] - 9s 24ms/step - loss: 0.2985 - accuracy: 0.9143 - val_loss: 0.1579 - val_accuracy: 0.9538\n",
            "Epoch 2/10\n",
            "375/375 [==============================] - 7s 19ms/step - loss: 0.1231 - accuracy: 0.9635 - val_loss: 0.1217 - val_accuracy: 0.9632\n",
            "Epoch 3/10\n",
            "375/375 [==============================] - 8s 21ms/step - loss: 0.0804 - accuracy: 0.9759 - val_loss: 0.0885 - val_accuracy: 0.9745\n",
            "Epoch 4/10\n",
            "375/375 [==============================] - 7s 18ms/step - loss: 0.0576 - accuracy: 0.9828 - val_loss: 0.0865 - val_accuracy: 0.9743\n",
            "Epoch 5/10\n",
            "375/375 [==============================] - 8s 21ms/step - loss: 0.0426 - accuracy: 0.9873 - val_loss: 0.0802 - val_accuracy: 0.9766\n",
            "Epoch 6/10\n",
            "375/375 [==============================] - 7s 17ms/step - loss: 0.0332 - accuracy: 0.9899 - val_loss: 0.0797 - val_accuracy: 0.9753\n",
            "Epoch 7/10\n",
            "375/375 [==============================] - 8s 21ms/step - loss: 0.0241 - accuracy: 0.9935 - val_loss: 0.0728 - val_accuracy: 0.9793\n",
            "Epoch 8/10\n",
            "375/375 [==============================] - 7s 17ms/step - loss: 0.0181 - accuracy: 0.9953 - val_loss: 0.0755 - val_accuracy: 0.9791\n",
            "Epoch 9/10\n",
            "375/375 [==============================] - 8s 22ms/step - loss: 0.0141 - accuracy: 0.9962 - val_loss: 0.0726 - val_accuracy: 0.9805\n",
            "Epoch 10/10\n",
            "375/375 [==============================] - 7s 19ms/step - loss: 0.0102 - accuracy: 0.9973 - val_loss: 0.0791 - val_accuracy: 0.9790\n"
          ]
        }
      ]
    },
    {
      "cell_type": "code",
      "source": [
        "import matplotlib.pyplot as plt\n",
        "val_acc_noise = history_noise.history[\"val_accuracy\"]\n",
        "val_acc_zeros = history_zeros.history[\"val_accuracy\"]\n",
        "epochs = range(1, 11)\n",
        "plt.plot(epochs, val_acc_noise, \"b-\",\n",
        "         label=\"Validation accuracy with noise channels\")\n",
        "plt.plot(epochs, val_acc_zeros, \"b--\",\n",
        "         label=\"Validation accuracy with zeros channels\")\n",
        "plt.title(\"Effect of noise channels on validation accuracy\")\n",
        "plt.xlabel(\"Epochs\")\n",
        "plt.ylabel(\"Accuracy\")\n",
        "plt.legend()\n",
        "plt.show()"
      ],
      "metadata": {
        "colab": {
          "base_uri": "https://localhost:8080/",
          "height": 472
        },
        "id": "lY7L3UW9ONGO",
        "outputId": "b1e81e4e-4f7b-40e8-812a-18ec1fbaf99f"
      },
      "execution_count": null,
      "outputs": [
        {
          "output_type": "display_data",
          "data": {
            "text/plain": [
              "<Figure size 640x480 with 1 Axes>"
            ],
            "image/png": "[encoded data removed]"
          },
          "metadata": {}
        }
      ]
    },
    {
      "cell_type": "markdown",
      "source": [
        "- 차원이 784 추가되었지만, 분류 정확도에 영향을 받지 않는 것을 확인할 수 있음"
      ],
      "metadata": {
        "id": "XVvIqOEoP6lp"
      }
    },
    {
      "cell_type": "markdown",
      "source": [
        "## 랜덤하게 섞은 레이블로 모델 훈련하기"
      ],
      "metadata": {
        "id": "KA2LU4zQQNi8"
      }
    },
    {
      "cell_type": "code",
      "source": [
        "(train_images, train_labels), _ = mnist.load_data()\n",
        "train_images = train_images.reshape((60000, 28*28))\n",
        "train_images = train_images.astype(\"float32\")/255\n",
        "\n",
        "# shuffling labels\n",
        "random_train_labels = train_labels[:]\n",
        "np.random.shuffle(random_train_labels)\n",
        "\n",
        "model = keras.Sequential([\n",
        "        layers.Dense(512, activation='relu'),\n",
        "        layers.Dense(10, activation='softmax')\n",
        "    ])\n",
        "\n",
        "model.compile(optimizer=\"rmsprop\",\n",
        "                loss=\"sparse_categorical_crossentropy\",\n",
        "                metrics=[\"accuracy\"])\n",
        "\n",
        "model.fit(\n",
        "train_images, train_labels,\n",
        "epochs=100,\n",
        "batch_size=128,\n",
        "validation_split=0.2)"
      ],
      "metadata": {
        "colab": {
          "base_uri": "https://localhost:8080/"
        },
        "id": "3JW5kJdXQIby",
        "outputId": "3c67d674-5b46-4253-b153-545ffb9fb5cf"
      },
      "execution_count": null,
      "outputs": [
        {
          "output_type": "stream",
          "name": "stdout",
          "text": [
            "Epoch 1/100\n",
            "375/375 [==============================] - 5s 12ms/step - loss: 2.3152 - accuracy: 0.1037 - val_loss: 2.3044 - val_accuracy: 0.1061\n",
            "Epoch 2/100\n",
            "375/375 [==============================] - 6s 15ms/step - loss: 2.2996 - accuracy: 0.1130 - val_loss: 2.3107 - val_accuracy: 0.1019\n",
            "Epoch 3/100\n",
            "375/375 [==============================] - 4s 11ms/step - loss: 2.2919 - accuracy: 0.1272 - val_loss: 2.3204 - val_accuracy: 0.1010\n",
            "Epoch 4/100\n",
            "375/375 [==============================] - 4s 11ms/step - loss: 2.2806 - accuracy: 0.1377 - val_loss: 2.3271 - val_accuracy: 0.0997\n",
            "Epoch 5/100\n",
            "375/375 [==============================] - 5s 15ms/step - loss: 2.2663 - accuracy: 0.1480 - val_loss: 2.3333 - val_accuracy: 0.1023\n",
            "Epoch 6/100\n",
            "375/375 [==============================] - 4s 12ms/step - loss: 2.2465 - accuracy: 0.1634 - val_loss: 2.3431 - val_accuracy: 0.1005\n",
            "Epoch 7/100\n",
            "375/375 [==============================] - 6s 15ms/step - loss: 2.2251 - accuracy: 0.1775 - val_loss: 2.3617 - val_accuracy: 0.1001\n",
            "Epoch 8/100\n",
            "375/375 [==============================] - 5s 14ms/step - loss: 2.1988 - accuracy: 0.1932 - val_loss: 2.3732 - val_accuracy: 0.0988\n",
            "Epoch 9/100\n",
            "375/375 [==============================] - 5s 13ms/step - loss: 2.1695 - accuracy: 0.2081 - val_loss: 2.3956 - val_accuracy: 0.1002\n",
            "Epoch 10/100\n",
            "375/375 [==============================] - 6s 17ms/step - loss: 2.1381 - accuracy: 0.2241 - val_loss: 2.4171 - val_accuracy: 0.0979\n",
            "Epoch 11/100\n",
            "375/375 [==============================] - 5s 12ms/step - loss: 2.1051 - accuracy: 0.2399 - val_loss: 2.4353 - val_accuracy: 0.1017\n",
            "Epoch 12/100\n",
            "375/375 [==============================] - 4s 10ms/step - loss: 2.0696 - accuracy: 0.2585 - val_loss: 2.4624 - val_accuracy: 0.1003\n",
            "Epoch 13/100\n",
            "375/375 [==============================] - 5s 15ms/step - loss: 2.0316 - accuracy: 0.2757 - val_loss: 2.4867 - val_accuracy: 0.1023\n",
            "Epoch 14/100\n",
            "375/375 [==============================] - 4s 11ms/step - loss: 1.9935 - accuracy: 0.2930 - val_loss: 2.5183 - val_accuracy: 0.1007\n",
            "Epoch 15/100\n",
            "375/375 [==============================] - 4s 11ms/step - loss: 1.9551 - accuracy: 0.3070 - val_loss: 2.5440 - val_accuracy: 0.1009\n",
            "Epoch 16/100\n",
            "375/375 [==============================] - 5s 14ms/step - loss: 1.9170 - accuracy: 0.3240 - val_loss: 2.5966 - val_accuracy: 0.0997\n",
            "Epoch 17/100\n",
            "375/375 [==============================] - 4s 11ms/step - loss: 1.8781 - accuracy: 0.3405 - val_loss: 2.6196 - val_accuracy: 0.1007\n",
            "Epoch 18/100\n",
            "375/375 [==============================] - 4s 11ms/step - loss: 1.8391 - accuracy: 0.3588 - val_loss: 2.6465 - val_accuracy: 0.0977\n",
            "Epoch 19/100\n",
            "375/375 [==============================] - 6s 16ms/step - loss: 1.7987 - accuracy: 0.3730 - val_loss: 2.6896 - val_accuracy: 0.0985\n",
            "Epoch 20/100\n",
            "375/375 [==============================] - 4s 11ms/step - loss: 1.7627 - accuracy: 0.3883 - val_loss: 2.7437 - val_accuracy: 0.1001\n",
            "Epoch 21/100\n",
            "375/375 [==============================] - 4s 11ms/step - loss: 1.7233 - accuracy: 0.4051 - val_loss: 2.7778 - val_accuracy: 0.0991\n",
            "Epoch 22/100\n",
            "375/375 [==============================] - 6s 15ms/step - loss: 1.6876 - accuracy: 0.4179 - val_loss: 2.8214 - val_accuracy: 0.1010\n",
            "Epoch 23/100\n",
            "375/375 [==============================] - 4s 11ms/step - loss: 1.6510 - accuracy: 0.4302 - val_loss: 2.8559 - val_accuracy: 0.1007\n",
            "Epoch 24/100\n",
            "375/375 [==============================] - 4s 12ms/step - loss: 1.6140 - accuracy: 0.4460 - val_loss: 2.8997 - val_accuracy: 0.1007\n",
            "Epoch 25/100\n",
            "375/375 [==============================] - 6s 15ms/step - loss: 1.5787 - accuracy: 0.4590 - val_loss: 2.9711 - val_accuracy: 0.0992\n",
            "Epoch 26/100\n",
            "375/375 [==============================] - 4s 10ms/step - loss: 1.5452 - accuracy: 0.4727 - val_loss: 3.0017 - val_accuracy: 0.0972\n",
            "Epoch 27/100\n",
            "375/375 [==============================] - 4s 11ms/step - loss: 1.5133 - accuracy: 0.4815 - val_loss: 3.0568 - val_accuracy: 0.0967\n",
            "Epoch 28/100\n",
            "375/375 [==============================] - 6s 15ms/step - loss: 1.4799 - accuracy: 0.4949 - val_loss: 3.0849 - val_accuracy: 0.0995\n",
            "Epoch 29/100\n",
            "375/375 [==============================] - 4s 11ms/step - loss: 1.4488 - accuracy: 0.5053 - val_loss: 3.1356 - val_accuracy: 0.0974\n",
            "Epoch 30/100\n",
            "375/375 [==============================] - 4s 11ms/step - loss: 1.4183 - accuracy: 0.5192 - val_loss: 3.1771 - val_accuracy: 0.0967\n",
            "Epoch 31/100\n",
            "375/375 [==============================] - 6s 15ms/step - loss: 1.3862 - accuracy: 0.5305 - val_loss: 3.2314 - val_accuracy: 0.0961\n",
            "Epoch 32/100\n",
            "375/375 [==============================] - 4s 11ms/step - loss: 1.3582 - accuracy: 0.5399 - val_loss: 3.2709 - val_accuracy: 0.1013\n",
            "Epoch 33/100\n",
            "375/375 [==============================] - 4s 11ms/step - loss: 1.3272 - accuracy: 0.5517 - val_loss: 3.3531 - val_accuracy: 0.0995\n",
            "Epoch 34/100\n",
            "375/375 [==============================] - 5s 14ms/step - loss: 1.2997 - accuracy: 0.5612 - val_loss: 3.4061 - val_accuracy: 0.0967\n",
            "Epoch 35/100\n",
            "375/375 [==============================] - 4s 11ms/step - loss: 1.2731 - accuracy: 0.5735 - val_loss: 3.4398 - val_accuracy: 0.0948\n",
            "Epoch 36/100\n",
            "375/375 [==============================] - 4s 11ms/step - loss: 1.2463 - accuracy: 0.5814 - val_loss: 3.5405 - val_accuracy: 0.0952\n",
            "Epoch 37/100\n",
            "375/375 [==============================] - 6s 15ms/step - loss: 1.2185 - accuracy: 0.5916 - val_loss: 3.5726 - val_accuracy: 0.0976\n",
            "Epoch 38/100\n",
            "375/375 [==============================] - 4s 11ms/step - loss: 1.1938 - accuracy: 0.5984 - val_loss: 3.6224 - val_accuracy: 0.0943\n",
            "Epoch 39/100\n",
            "375/375 [==============================] - 4s 11ms/step - loss: 1.1691 - accuracy: 0.6083 - val_loss: 3.6782 - val_accuracy: 0.0966\n",
            "Epoch 40/100\n",
            "375/375 [==============================] - 5s 14ms/step - loss: 1.1450 - accuracy: 0.6187 - val_loss: 3.7327 - val_accuracy: 0.0965\n",
            "Epoch 41/100\n",
            "375/375 [==============================] - 5s 12ms/step - loss: 1.1214 - accuracy: 0.6289 - val_loss: 3.8101 - val_accuracy: 0.0967\n",
            "Epoch 42/100\n",
            "375/375 [==============================] - 5s 13ms/step - loss: 1.0974 - accuracy: 0.6356 - val_loss: 3.8719 - val_accuracy: 0.1013\n",
            "Epoch 43/100\n",
            "375/375 [==============================] - 7s 20ms/step - loss: 1.0754 - accuracy: 0.6415 - val_loss: 3.9217 - val_accuracy: 0.0997\n",
            "Epoch 44/100\n",
            "375/375 [==============================] - 4s 10ms/step - loss: 1.0534 - accuracy: 0.6510 - val_loss: 3.9621 - val_accuracy: 0.1021\n",
            "Epoch 45/100\n",
            "375/375 [==============================] - 4s 10ms/step - loss: 1.0308 - accuracy: 0.6575 - val_loss: 4.0366 - val_accuracy: 0.1008\n",
            "Epoch 46/100\n",
            "375/375 [==============================] - 5s 15ms/step - loss: 1.0104 - accuracy: 0.6645 - val_loss: 4.1197 - val_accuracy: 0.0983\n",
            "Epoch 47/100\n",
            "375/375 [==============================] - 4s 11ms/step - loss: 0.9905 - accuracy: 0.6715 - val_loss: 4.1785 - val_accuracy: 0.0945\n",
            "Epoch 48/100\n",
            "375/375 [==============================] - 4s 11ms/step - loss: 0.9712 - accuracy: 0.6809 - val_loss: 4.2309 - val_accuracy: 0.0987\n",
            "Epoch 49/100\n",
            "375/375 [==============================] - 6s 16ms/step - loss: 0.9490 - accuracy: 0.6867 - val_loss: 4.2895 - val_accuracy: 0.0997\n",
            "Epoch 50/100\n",
            "375/375 [==============================] - 4s 11ms/step - loss: 0.9313 - accuracy: 0.6943 - val_loss: 4.3659 - val_accuracy: 0.0977\n",
            "Epoch 51/100\n",
            "375/375 [==============================] - 4s 11ms/step - loss: 0.9120 - accuracy: 0.7003 - val_loss: 4.4153 - val_accuracy: 0.1010\n",
            "Epoch 52/100\n",
            "375/375 [==============================] - 6s 16ms/step - loss: 0.8965 - accuracy: 0.7060 - val_loss: 4.4731 - val_accuracy: 0.1010\n",
            "Epoch 53/100\n",
            "375/375 [==============================] - 4s 11ms/step - loss: 0.8757 - accuracy: 0.7122 - val_loss: 4.5557 - val_accuracy: 0.0982\n",
            "Epoch 54/100\n",
            "375/375 [==============================] - 4s 11ms/step - loss: 0.8581 - accuracy: 0.7204 - val_loss: 4.6181 - val_accuracy: 0.0993\n",
            "Epoch 55/100\n",
            "375/375 [==============================] - 6s 15ms/step - loss: 0.8413 - accuracy: 0.7256 - val_loss: 4.6808 - val_accuracy: 0.0982\n",
            "Epoch 56/100\n",
            "375/375 [==============================] - 4s 11ms/step - loss: 0.8228 - accuracy: 0.7315 - val_loss: 4.7362 - val_accuracy: 0.1000\n",
            "Epoch 57/100\n",
            "375/375 [==============================] - 4s 12ms/step - loss: 0.8081 - accuracy: 0.7351 - val_loss: 4.8422 - val_accuracy: 0.1020\n",
            "Epoch 58/100\n",
            "375/375 [==============================] - 6s 15ms/step - loss: 0.7930 - accuracy: 0.7419 - val_loss: 4.8483 - val_accuracy: 0.1006\n",
            "Epoch 59/100\n",
            "375/375 [==============================] - 4s 11ms/step - loss: 0.7772 - accuracy: 0.7466 - val_loss: 4.9354 - val_accuracy: 0.0973\n",
            "Epoch 60/100\n",
            "375/375 [==============================] - 4s 11ms/step - loss: 0.7603 - accuracy: 0.7534 - val_loss: 5.0342 - val_accuracy: 0.1007\n",
            "Epoch 61/100\n",
            "375/375 [==============================] - 6s 16ms/step - loss: 0.7471 - accuracy: 0.7558 - val_loss: 5.0574 - val_accuracy: 0.1021\n",
            "Epoch 62/100\n",
            "375/375 [==============================] - 4s 11ms/step - loss: 0.7331 - accuracy: 0.7624 - val_loss: 5.1544 - val_accuracy: 0.1013\n",
            "Epoch 63/100\n",
            "375/375 [==============================] - 4s 11ms/step - loss: 0.7176 - accuracy: 0.7670 - val_loss: 5.2285 - val_accuracy: 0.0985\n",
            "Epoch 64/100\n",
            "375/375 [==============================] - 6s 15ms/step - loss: 0.7053 - accuracy: 0.7704 - val_loss: 5.3058 - val_accuracy: 0.1028\n",
            "Epoch 65/100\n",
            "375/375 [==============================] - 4s 11ms/step - loss: 0.6907 - accuracy: 0.7781 - val_loss: 5.3371 - val_accuracy: 0.0990\n",
            "Epoch 66/100\n",
            "375/375 [==============================] - 4s 11ms/step - loss: 0.6797 - accuracy: 0.7809 - val_loss: 5.3861 - val_accuracy: 0.0996\n",
            "Epoch 67/100\n",
            "375/375 [==============================] - 6s 16ms/step - loss: 0.6649 - accuracy: 0.7869 - val_loss: 5.4777 - val_accuracy: 0.1024\n",
            "Epoch 68/100\n",
            "375/375 [==============================] - 4s 11ms/step - loss: 0.6515 - accuracy: 0.7898 - val_loss: 5.5390 - val_accuracy: 0.0980\n",
            "Epoch 69/100\n",
            "375/375 [==============================] - 4s 11ms/step - loss: 0.6377 - accuracy: 0.7962 - val_loss: 5.6239 - val_accuracy: 0.1017\n",
            "Epoch 70/100\n",
            "375/375 [==============================] - 6s 15ms/step - loss: 0.6262 - accuracy: 0.7986 - val_loss: 5.6779 - val_accuracy: 0.0993\n",
            "Epoch 71/100\n",
            "375/375 [==============================] - 4s 11ms/step - loss: 0.6151 - accuracy: 0.8036 - val_loss: 5.7639 - val_accuracy: 0.1007\n",
            "Epoch 72/100\n",
            "375/375 [==============================] - 4s 11ms/step - loss: 0.6014 - accuracy: 0.8102 - val_loss: 5.8324 - val_accuracy: 0.1014\n",
            "Epoch 73/100\n",
            "375/375 [==============================] - 6s 15ms/step - loss: 0.5931 - accuracy: 0.8112 - val_loss: 5.9285 - val_accuracy: 0.1020\n",
            "Epoch 74/100\n",
            "375/375 [==============================] - 4s 11ms/step - loss: 0.5793 - accuracy: 0.8153 - val_loss: 5.9786 - val_accuracy: 0.1028\n",
            "Epoch 75/100\n",
            "375/375 [==============================] - 4s 11ms/step - loss: 0.5703 - accuracy: 0.8182 - val_loss: 6.0375 - val_accuracy: 0.0999\n",
            "Epoch 76/100\n",
            "375/375 [==============================] - 6s 16ms/step - loss: 0.5596 - accuracy: 0.8244 - val_loss: 6.0715 - val_accuracy: 0.1008\n",
            "Epoch 77/100\n",
            "375/375 [==============================] - 4s 12ms/step - loss: 0.5485 - accuracy: 0.8266 - val_loss: 6.2015 - val_accuracy: 0.1005\n",
            "Epoch 78/100\n",
            "375/375 [==============================] - 4s 11ms/step - loss: 0.5386 - accuracy: 0.8306 - val_loss: 6.2548 - val_accuracy: 0.1032\n",
            "Epoch 79/100\n",
            "375/375 [==============================] - 6s 16ms/step - loss: 0.5289 - accuracy: 0.8326 - val_loss: 6.3500 - val_accuracy: 0.0998\n",
            "Epoch 80/100\n",
            "375/375 [==============================] - 4s 11ms/step - loss: 0.5198 - accuracy: 0.8372 - val_loss: 6.4407 - val_accuracy: 0.1034\n",
            "Epoch 81/100\n",
            "375/375 [==============================] - 4s 11ms/step - loss: 0.5105 - accuracy: 0.8394 - val_loss: 6.4338 - val_accuracy: 0.0988\n",
            "Epoch 82/100\n",
            "375/375 [==============================] - 6s 15ms/step - loss: 0.5017 - accuracy: 0.8420 - val_loss: 6.5051 - val_accuracy: 0.1029\n",
            "Epoch 83/100\n",
            "375/375 [==============================] - 4s 11ms/step - loss: 0.4913 - accuracy: 0.8461 - val_loss: 6.6261 - val_accuracy: 0.1007\n",
            "Epoch 84/100\n",
            "375/375 [==============================] - 4s 12ms/step - loss: 0.4843 - accuracy: 0.8470 - val_loss: 6.7192 - val_accuracy: 0.1032\n",
            "Epoch 85/100\n",
            "375/375 [==============================] - 6s 15ms/step - loss: 0.4738 - accuracy: 0.8515 - val_loss: 6.7843 - val_accuracy: 0.1044\n",
            "Epoch 86/100\n",
            "375/375 [==============================] - 4s 12ms/step - loss: 0.4631 - accuracy: 0.8555 - val_loss: 6.8386 - val_accuracy: 0.1053\n",
            "Epoch 87/100\n",
            "375/375 [==============================] - 4s 11ms/step - loss: 0.4545 - accuracy: 0.8592 - val_loss: 6.8891 - val_accuracy: 0.1018\n",
            "Epoch 88/100\n",
            "375/375 [==============================] - 6s 15ms/step - loss: 0.4494 - accuracy: 0.8580 - val_loss: 6.9858 - val_accuracy: 0.1028\n",
            "Epoch 89/100\n",
            "375/375 [==============================] - 4s 11ms/step - loss: 0.4402 - accuracy: 0.8623 - val_loss: 7.0292 - val_accuracy: 0.1010\n",
            "Epoch 90/100\n",
            "375/375 [==============================] - 4s 10ms/step - loss: 0.4303 - accuracy: 0.8664 - val_loss: 7.2217 - val_accuracy: 0.1023\n",
            "Epoch 91/100\n",
            "375/375 [==============================] - 6s 16ms/step - loss: 0.4241 - accuracy: 0.8676 - val_loss: 7.1831 - val_accuracy: 0.1011\n",
            "Epoch 92/100\n",
            "375/375 [==============================] - 4s 11ms/step - loss: 0.4169 - accuracy: 0.8705 - val_loss: 7.3228 - val_accuracy: 0.1023\n",
            "Epoch 93/100\n",
            "375/375 [==============================] - 4s 11ms/step - loss: 0.4105 - accuracy: 0.8733 - val_loss: 7.3829 - val_accuracy: 0.1005\n",
            "Epoch 94/100\n",
            "375/375 [==============================] - 6s 15ms/step - loss: 0.4021 - accuracy: 0.8755 - val_loss: 7.4139 - val_accuracy: 0.1001\n",
            "Epoch 95/100\n",
            "375/375 [==============================] - 4s 11ms/step - loss: 0.3937 - accuracy: 0.8789 - val_loss: 7.4588 - val_accuracy: 0.1024\n",
            "Epoch 96/100\n",
            "375/375 [==============================] - 4s 11ms/step - loss: 0.3875 - accuracy: 0.8799 - val_loss: 7.6033 - val_accuracy: 0.1006\n",
            "Epoch 97/100\n",
            "375/375 [==============================] - 6s 15ms/step - loss: 0.3824 - accuracy: 0.8813 - val_loss: 7.6365 - val_accuracy: 0.1035\n",
            "Epoch 98/100\n",
            "375/375 [==============================] - 5s 14ms/step - loss: 0.3755 - accuracy: 0.8835 - val_loss: 7.7337 - val_accuracy: 0.0983\n",
            "Epoch 99/100\n",
            "375/375 [==============================] - 4s 11ms/step - loss: 0.3673 - accuracy: 0.8869 - val_loss: 7.7924 - val_accuracy: 0.1024\n",
            "Epoch 100/100\n",
            "375/375 [==============================] - 6s 15ms/step - loss: 0.3613 - accuracy: 0.8888 - val_loss: 7.8636 - val_accuracy: 0.1004\n"
          ]
        },
        {
          "output_type": "execute_result",
          "data": {
            "text/plain": [
              "<keras.src.callbacks.History at 0x7cf72863b460>"
            ]
          },
          "metadata": {},
          "execution_count": 17
        }
      ]
    },
    {
      "cell_type": "markdown",
      "source": [
        "레이블 셔플이 있는데에 불구하고, loss값의 감소하는 경향은 확인할 수 있음"
      ],
      "metadata": {
        "id": "ekkanNshQpmU"
      }
    },
    {
      "cell_type": "code",
      "source": [],
      "metadata": {
        "id": "T4MYYTGKNzgh"
      },
      "execution_count": null,
      "outputs": []
    },
    {
      "cell_type": "markdown",
      "source": [
        "# 머신러닝 모델평가"
      ],
      "metadata": {
        "id": "KCzFc6VjHqO8"
      }
    },
    {
      "cell_type": "code",
      "source": [],
      "metadata": {
        "id": "ceiLEka2Huxh"
      },
      "execution_count": null,
      "outputs": []
    },
    {
      "cell_type": "markdown",
      "source": [
        "# 훈련 성능 향상하기"
      ],
      "metadata": {
        "id": "AsxG7lvvHvd3"
      }
    },
    {
      "cell_type": "markdown",
      "source": [
        "## 경사 하강법의 핵심 파라미터 튜닝하기"
      ],
      "metadata": {
        "id": "PRWLDj32rYDF"
      }
    },
    {
      "cell_type": "code",
      "source": [
        "from tensorflow import keras\n",
        "from tensorflow.keras import layers"
      ],
      "metadata": {
        "id": "4TEjhDzbsk4g"
      },
      "execution_count": 4,
      "outputs": []
    },
    {
      "cell_type": "code",
      "source": [
        "(train_images, train_labels), _ = mnist.load_data()\n",
        "train_images = train_images.reshape((60000, 28 * 28))\n",
        "train_images = train_images.astype(\"float32\") / 255\n",
        "\n",
        "model = keras.Sequential([\n",
        "    layers.Dense(512, activation=\"relu\"),\n",
        "    layers.Dense(10, activation=\"softmax\")\n",
        "])\n",
        "model.compile(optimizer=keras.optimizers.RMSprop(1.), # 높은 학습률, 잘못됨\n",
        "              loss=\"sparse_categorical_crossentropy\",\n",
        "              metrics=[\"accuracy\"])\n",
        "model.fit(train_images, train_labels,\n",
        "          epochs=10,\n",
        "          batch_size=128,\n",
        "          validation_split=0.2)"
      ],
      "metadata": {
        "id": "ivnnakw3Hy_7",
        "colab": {
          "base_uri": "https://localhost:8080/"
        },
        "outputId": "3f1f65fe-8558-4985-bb97-dbcdce29b842"
      },
      "execution_count": 5,
      "outputs": [
        {
          "output_type": "stream",
          "name": "stdout",
          "text": [
            "Epoch 1/10\n",
            "375/375 [==============================] - 5s 12ms/step - loss: 484.0150 - accuracy: 0.2791 - val_loss: 2.4155 - val_accuracy: 0.1618\n",
            "Epoch 2/10\n",
            "375/375 [==============================] - 4s 11ms/step - loss: 2.8971 - accuracy: 0.1900 - val_loss: 2.2290 - val_accuracy: 0.1806\n",
            "Epoch 3/10\n",
            "375/375 [==============================] - 4s 11ms/step - loss: 2.3937 - accuracy: 0.1757 - val_loss: 2.5273 - val_accuracy: 0.1749\n",
            "Epoch 4/10\n",
            "375/375 [==============================] - 5s 12ms/step - loss: 2.3957 - accuracy: 0.1758 - val_loss: 2.2747 - val_accuracy: 0.1902\n",
            "Epoch 5/10\n",
            "375/375 [==============================] - 4s 10ms/step - loss: 2.4706 - accuracy: 0.1818 - val_loss: 2.3931 - val_accuracy: 0.1580\n",
            "Epoch 6/10\n",
            "375/375 [==============================] - 4s 11ms/step - loss: 2.3694 - accuracy: 0.1778 - val_loss: 2.2843 - val_accuracy: 0.1726\n",
            "Epoch 7/10\n",
            "375/375 [==============================] - 5s 13ms/step - loss: 2.3633 - accuracy: 0.1660 - val_loss: 2.3870 - val_accuracy: 0.1375\n",
            "Epoch 8/10\n",
            "375/375 [==============================] - 4s 10ms/step - loss: 2.3120 - accuracy: 0.1716 - val_loss: 2.4001 - val_accuracy: 0.1753\n",
            "Epoch 9/10\n",
            "375/375 [==============================] - 4s 10ms/step - loss: 2.5299 - accuracy: 0.1813 - val_loss: 2.1694 - val_accuracy: 0.1946\n",
            "Epoch 10/10\n",
            "375/375 [==============================] - 5s 14ms/step - loss: 2.3704 - accuracy: 0.1867 - val_loss: 2.1556 - val_accuracy: 0.1972\n"
          ]
        },
        {
          "output_type": "execute_result",
          "data": {
            "text/plain": [
              "<keras.src.callbacks.History at 0x7c2ddef6fc40>"
            ]
          },
          "metadata": {},
          "execution_count": 5
        }
      ]
    },
    {
      "cell_type": "code",
      "source": [
        "model = keras.Sequential([\n",
        "    layers.Dense(512, activation=\"relu\"),\n",
        "    layers.Dense(10, activation=\"softmax\")\n",
        "])\n",
        "model.compile(optimizer=keras.optimizers.RMSprop(1e-2), # 0.01로 변경\n",
        "              loss=\"sparse_categorical_crossentropy\",\n",
        "              metrics=[\"accuracy\"])\n",
        "model.fit(train_images, train_labels,\n",
        "          epochs=10,\n",
        "          batch_size=128,\n",
        "          validation_split=0.2)"
      ],
      "metadata": {
        "colab": {
          "base_uri": "https://localhost:8080/"
        },
        "id": "siWA93kmrdzf",
        "outputId": "97432c7a-16d4-45dd-8f78-3c0c84db7f3a"
      },
      "execution_count": 6,
      "outputs": [
        {
          "output_type": "stream",
          "name": "stdout",
          "text": [
            "Epoch 1/10\n",
            "375/375 [==============================] - 4s 11ms/step - loss: 0.3505 - accuracy: 0.9130 - val_loss: 0.1633 - val_accuracy: 0.9507\n",
            "Epoch 2/10\n",
            "375/375 [==============================] - 5s 14ms/step - loss: 0.1253 - accuracy: 0.9649 - val_loss: 0.1426 - val_accuracy: 0.9608\n",
            "Epoch 3/10\n",
            "375/375 [==============================] - 5s 13ms/step - loss: 0.0954 - accuracy: 0.9738 - val_loss: 0.1201 - val_accuracy: 0.9716\n",
            "Epoch 4/10\n",
            "375/375 [==============================] - 4s 11ms/step - loss: 0.0803 - accuracy: 0.9795 - val_loss: 0.1692 - val_accuracy: 0.9638\n",
            "Epoch 5/10\n",
            "375/375 [==============================] - 5s 13ms/step - loss: 0.0712 - accuracy: 0.9824 - val_loss: 0.1510 - val_accuracy: 0.9734\n",
            "Epoch 6/10\n",
            "375/375 [==============================] - 5s 13ms/step - loss: 0.0595 - accuracy: 0.9859 - val_loss: 0.1831 - val_accuracy: 0.9666\n",
            "Epoch 7/10\n",
            "375/375 [==============================] - 4s 11ms/step - loss: 0.0524 - accuracy: 0.9877 - val_loss: 0.1968 - val_accuracy: 0.9707\n",
            "Epoch 8/10\n",
            "375/375 [==============================] - 7s 19ms/step - loss: 0.0451 - accuracy: 0.9894 - val_loss: 0.1801 - val_accuracy: 0.9731\n",
            "Epoch 9/10\n",
            "375/375 [==============================] - 4s 11ms/step - loss: 0.0391 - accuracy: 0.9909 - val_loss: 0.2118 - val_accuracy: 0.9735\n",
            "Epoch 10/10\n",
            "375/375 [==============================] - 4s 12ms/step - loss: 0.0373 - accuracy: 0.9916 - val_loss: 0.1851 - val_accuracy: 0.9762\n"
          ]
        },
        {
          "output_type": "execute_result",
          "data": {
            "text/plain": [
              "<keras.src.callbacks.History at 0x7c2ddc2a2230>"
            ]
          },
          "metadata": {},
          "execution_count": 6
        }
      ]
    },
    {
      "cell_type": "markdown",
      "source": [
        "### 구조에 대해 더 나은 가정하기"
      ],
      "metadata": {
        "id": "cgT57OfOtdso"
      }
    },
    {
      "cell_type": "markdown",
      "source": [
        "### 모델 용량 늘리기"
      ],
      "metadata": {
        "id": "Xwu7f2F0tj87"
      }
    },
    {
      "cell_type": "markdown",
      "source": [
        "#### MNIST Data를 사용한 간단한 로지스틱 회귀 모델"
      ],
      "metadata": {
        "id": "cUOVNMWmtp_w"
      }
    },
    {
      "cell_type": "code",
      "source": [
        "# 로지스틱 회귀를 10개의 유닛으로 간단하게\n",
        "model = keras.Sequential([layers.Dense(10, activation=\"softmax\")])\n",
        "model.compile(optimizer=\"rmsprop\",\n",
        "              loss=\"sparse_categorical_crossentropy\",\n",
        "              metrics=[\"accuracy\"])\n",
        "history_small_model = model.fit(\n",
        "    train_images, train_labels,\n",
        "    epochs=20,\n",
        "    batch_size=128,\n",
        "    validation_split=0.2)"
      ],
      "metadata": {
        "colab": {
          "base_uri": "https://localhost:8080/"
        },
        "id": "WGMLBNzdtt3N",
        "outputId": "f10f4596-f6f1-4f27-a024-9c9331eb779f"
      },
      "execution_count": 7,
      "outputs": [
        {
          "output_type": "stream",
          "name": "stdout",
          "text": [
            "Epoch 1/20\n",
            "375/375 [==============================] - 2s 5ms/step - loss: 0.6842 - accuracy: 0.8296 - val_loss: 0.3625 - val_accuracy: 0.9018\n",
            "Epoch 2/20\n",
            "375/375 [==============================] - 2s 6ms/step - loss: 0.3536 - accuracy: 0.9034 - val_loss: 0.3115 - val_accuracy: 0.9148\n",
            "Epoch 3/20\n",
            "375/375 [==============================] - 2s 6ms/step - loss: 0.3181 - accuracy: 0.9112 - val_loss: 0.2928 - val_accuracy: 0.9186\n",
            "Epoch 4/20\n",
            "375/375 [==============================] - 1s 3ms/step - loss: 0.3020 - accuracy: 0.9159 - val_loss: 0.2836 - val_accuracy: 0.9213\n",
            "Epoch 5/20\n",
            "375/375 [==============================] - 2s 5ms/step - loss: 0.2922 - accuracy: 0.9188 - val_loss: 0.2795 - val_accuracy: 0.9229\n",
            "Epoch 6/20\n",
            "375/375 [==============================] - 1s 4ms/step - loss: 0.2856 - accuracy: 0.9197 - val_loss: 0.2750 - val_accuracy: 0.9247\n",
            "Epoch 7/20\n",
            "375/375 [==============================] - 1s 3ms/step - loss: 0.2802 - accuracy: 0.9220 - val_loss: 0.2708 - val_accuracy: 0.9245\n",
            "Epoch 8/20\n",
            "375/375 [==============================] - 1s 3ms/step - loss: 0.2765 - accuracy: 0.9231 - val_loss: 0.2709 - val_accuracy: 0.9268\n",
            "Epoch 9/20\n",
            "375/375 [==============================] - 1s 3ms/step - loss: 0.2730 - accuracy: 0.9243 - val_loss: 0.2687 - val_accuracy: 0.9268\n",
            "Epoch 10/20\n",
            "375/375 [==============================] - 2s 5ms/step - loss: 0.2708 - accuracy: 0.9249 - val_loss: 0.2663 - val_accuracy: 0.9283\n",
            "Epoch 11/20\n",
            "375/375 [==============================] - 3s 7ms/step - loss: 0.2685 - accuracy: 0.9252 - val_loss: 0.2644 - val_accuracy: 0.9285\n",
            "Epoch 12/20\n",
            "375/375 [==============================] - 2s 6ms/step - loss: 0.2667 - accuracy: 0.9266 - val_loss: 0.2655 - val_accuracy: 0.9291\n",
            "Epoch 13/20\n",
            "375/375 [==============================] - 1s 3ms/step - loss: 0.2649 - accuracy: 0.9265 - val_loss: 0.2649 - val_accuracy: 0.9285\n",
            "Epoch 14/20\n",
            "375/375 [==============================] - 2s 5ms/step - loss: 0.2630 - accuracy: 0.9270 - val_loss: 0.2634 - val_accuracy: 0.9291\n",
            "Epoch 15/20\n",
            "375/375 [==============================] - 1s 4ms/step - loss: 0.2617 - accuracy: 0.9277 - val_loss: 0.2644 - val_accuracy: 0.9287\n",
            "Epoch 16/20\n",
            "375/375 [==============================] - 1s 3ms/step - loss: 0.2602 - accuracy: 0.9279 - val_loss: 0.2641 - val_accuracy: 0.9298\n",
            "Epoch 17/20\n",
            "375/375 [==============================] - 1s 3ms/step - loss: 0.2594 - accuracy: 0.9290 - val_loss: 0.2632 - val_accuracy: 0.9299\n",
            "Epoch 18/20\n",
            "375/375 [==============================] - 1s 3ms/step - loss: 0.2580 - accuracy: 0.9289 - val_loss: 0.2627 - val_accuracy: 0.9290\n",
            "Epoch 19/20\n",
            "375/375 [==============================] - 1s 4ms/step - loss: 0.2571 - accuracy: 0.9298 - val_loss: 0.2635 - val_accuracy: 0.9302\n",
            "Epoch 20/20\n",
            "375/375 [==============================] - 4s 10ms/step - loss: 0.2562 - accuracy: 0.9297 - val_loss: 0.2626 - val_accuracy: 0.9294\n"
          ]
        }
      ]
    },
    {
      "cell_type": "code",
      "source": [
        "import matplotlib.pyplot as plt\n",
        "val_loss = history_small_model.history[\"val_loss\"]\n",
        "epochs = range(1, 21)\n",
        "plt.plot(epochs, val_loss, \"b--\",\n",
        "         label=\"Validation loss\")\n",
        "plt.title(\"Effect of insufficient model capacity on validation loss\")\n",
        "plt.xlabel(\"Epochs\")\n",
        "plt.ylabel(\"Loss\")\n",
        "plt.legend()\n",
        "plt.show()"
      ],
      "metadata": {
        "colab": {
          "base_uri": "https://localhost:8080/",
          "height": 472
        },
        "id": "7N0E7XvSt13-",
        "outputId": "fc9eccc8-6f6c-42e1-da70-899f0374f415"
      },
      "execution_count": 8,
      "outputs": [
        {
          "output_type": "display_data",
          "data": {
            "text/plain": [
              "<Figure size 640x480 with 1 Axes>"
            ],
            "image/png": "[encoded data removed]"
          },
          "metadata": {}
        }
      ]
    },
    {
      "cell_type": "code",
      "source": [
        "# 깊은 신경망 모델로 변경\n",
        "model = keras.Sequential([\n",
        "    layers.Dense(96, activation=\"relu\"),\n",
        "    layers.Dense(96, activation=\"relu\"),\n",
        "    layers.Dense(10, activation=\"softmax\"),\n",
        "])\n",
        "model.compile(optimizer=\"rmsprop\",\n",
        "              loss=\"sparse_categorical_crossentropy\",\n",
        "              metrics=[\"accuracy\"])\n",
        "history_large_model = model.fit(\n",
        "    train_images, train_labels,\n",
        "    epochs=20,\n",
        "    batch_size=128,\n",
        "    validation_split=0.2)"
      ],
      "metadata": {
        "colab": {
          "base_uri": "https://localhost:8080/"
        },
        "id": "S11aas7St39I",
        "outputId": "bc2680e6-5541-40d7-a046-c0b3c2f0389a"
      },
      "execution_count": 9,
      "outputs": [
        {
          "output_type": "stream",
          "name": "stdout",
          "text": [
            "Epoch 1/20\n",
            "375/375 [==============================] - 3s 5ms/step - loss: 0.3634 - accuracy: 0.8981 - val_loss: 0.1846 - val_accuracy: 0.9487\n",
            "Epoch 2/20\n",
            "375/375 [==============================] - 2s 4ms/step - loss: 0.1650 - accuracy: 0.9506 - val_loss: 0.1401 - val_accuracy: 0.9602\n",
            "Epoch 3/20\n",
            "375/375 [==============================] - 2s 5ms/step - loss: 0.1182 - accuracy: 0.9646 - val_loss: 0.1196 - val_accuracy: 0.9640\n",
            "Epoch 4/20\n",
            "375/375 [==============================] - 2s 5ms/step - loss: 0.0906 - accuracy: 0.9736 - val_loss: 0.1029 - val_accuracy: 0.9706\n",
            "Epoch 5/20\n",
            "375/375 [==============================] - 3s 8ms/step - loss: 0.0736 - accuracy: 0.9778 - val_loss: 0.1068 - val_accuracy: 0.9673\n",
            "Epoch 6/20\n",
            "375/375 [==============================] - 2s 5ms/step - loss: 0.0609 - accuracy: 0.9819 - val_loss: 0.0917 - val_accuracy: 0.9735\n",
            "Epoch 7/20\n",
            "375/375 [==============================] - 2s 4ms/step - loss: 0.0515 - accuracy: 0.9845 - val_loss: 0.0987 - val_accuracy: 0.9713\n",
            "Epoch 8/20\n",
            "375/375 [==============================] - 2s 4ms/step - loss: 0.0427 - accuracy: 0.9867 - val_loss: 0.0912 - val_accuracy: 0.9744\n",
            "Epoch 9/20\n",
            "375/375 [==============================] - 2s 6ms/step - loss: 0.0360 - accuracy: 0.9892 - val_loss: 0.0943 - val_accuracy: 0.9748\n",
            "Epoch 10/20\n",
            "375/375 [==============================] - 2s 5ms/step - loss: 0.0300 - accuracy: 0.9906 - val_loss: 0.1107 - val_accuracy: 0.9720\n",
            "Epoch 11/20\n",
            "375/375 [==============================] - 3s 8ms/step - loss: 0.0266 - accuracy: 0.9918 - val_loss: 0.1050 - val_accuracy: 0.9722\n",
            "Epoch 12/20\n",
            "375/375 [==============================] - 3s 8ms/step - loss: 0.0219 - accuracy: 0.9931 - val_loss: 0.0997 - val_accuracy: 0.9768\n",
            "Epoch 13/20\n",
            "375/375 [==============================] - 2s 6ms/step - loss: 0.0188 - accuracy: 0.9939 - val_loss: 0.1015 - val_accuracy: 0.9743\n",
            "Epoch 14/20\n",
            "375/375 [==============================] - 2s 5ms/step - loss: 0.0154 - accuracy: 0.9952 - val_loss: 0.1031 - val_accuracy: 0.9756\n",
            "Epoch 15/20\n",
            "375/375 [==============================] - 2s 5ms/step - loss: 0.0140 - accuracy: 0.9960 - val_loss: 0.1048 - val_accuracy: 0.9758\n",
            "Epoch 16/20\n",
            "375/375 [==============================] - 3s 7ms/step - loss: 0.0115 - accuracy: 0.9966 - val_loss: 0.1019 - val_accuracy: 0.9767\n",
            "Epoch 17/20\n",
            "375/375 [==============================] - 4s 10ms/step - loss: 0.0104 - accuracy: 0.9971 - val_loss: 0.1158 - val_accuracy: 0.9741\n",
            "Epoch 18/20\n",
            "375/375 [==============================] - 2s 5ms/step - loss: 0.0081 - accuracy: 0.9975 - val_loss: 0.1187 - val_accuracy: 0.9762\n",
            "Epoch 19/20\n",
            "375/375 [==============================] - 3s 8ms/step - loss: 0.0076 - accuracy: 0.9979 - val_loss: 0.1201 - val_accuracy: 0.9758\n",
            "Epoch 20/20\n",
            "375/375 [==============================] - 3s 9ms/step - loss: 0.0061 - accuracy: 0.9980 - val_loss: 0.1281 - val_accuracy: 0.9761\n"
          ]
        }
      ]
    },
    {
      "cell_type": "markdown",
      "source": [
        "# 일반화 성능 향상하기"
      ],
      "metadata": {
        "id": "D4gwx5AWH0nW"
      }
    },
    {
      "cell_type": "markdown",
      "source": [
        "## 원본 모델"
      ],
      "metadata": {
        "id": "Vd_Td-YMuAH2"
      }
    },
    {
      "cell_type": "code",
      "source": [
        "from tensorflow.keras.datasets import imdb\n",
        "(train_data, train_labels), _ = imdb.load_data(num_words=10000)\n",
        "\n",
        "def vectorize_sequences(sequences, dimension=10000):\n",
        "    results = np.zeros((len(sequences), dimension))\n",
        "    for i, sequence in enumerate(sequences):\n",
        "        results[i, sequence] = 1.\n",
        "    return results\n",
        "train_data = vectorize_sequences(train_data)\n",
        "\n",
        "model = keras.Sequential([\n",
        "    layers.Dense(16, activation=\"relu\"),\n",
        "    layers.Dense(16, activation=\"relu\"),\n",
        "    layers.Dense(1, activation=\"sigmoid\")\n",
        "])\n",
        "model.compile(optimizer=\"rmsprop\",\n",
        "              loss=\"binary_crossentropy\",\n",
        "              metrics=[\"accuracy\"])\n",
        "history_original = model.fit(train_data, train_labels,\n",
        "                             epochs=20, batch_size=512, validation_split=0.4)"
      ],
      "metadata": {
        "colab": {
          "base_uri": "https://localhost:8080/"
        },
        "id": "zpe1lX9OuCcJ",
        "outputId": "eaa1ce18-5176-4025-9a2e-c543a44e1eb7"
      },
      "execution_count": 10,
      "outputs": [
        {
          "output_type": "stream",
          "name": "stdout",
          "text": [
            "Downloading data from https://storage.googleapis.com/tensorflow/tf-keras-datasets/imdb.npz\n",
            "17464789/17464789 [==============================] - 0s 0us/step\n",
            "Epoch 1/20\n",
            "30/30 [==============================] - 4s 102ms/step - loss: 0.5755 - accuracy: 0.7545 - val_loss: 0.4582 - val_accuracy: 0.8219\n",
            "Epoch 2/20\n",
            "30/30 [==============================] - 2s 62ms/step - loss: 0.3661 - accuracy: 0.8799 - val_loss: 0.3489 - val_accuracy: 0.8680\n",
            "Epoch 3/20\n",
            "30/30 [==============================] - 2s 73ms/step - loss: 0.2733 - accuracy: 0.9050 - val_loss: 0.2952 - val_accuracy: 0.8815\n",
            "Epoch 4/20\n",
            "30/30 [==============================] - 1s 48ms/step - loss: 0.2178 - accuracy: 0.9254 - val_loss: 0.2877 - val_accuracy: 0.8859\n",
            "Epoch 5/20\n",
            "30/30 [==============================] - 1s 44ms/step - loss: 0.1795 - accuracy: 0.9375 - val_loss: 0.3036 - val_accuracy: 0.8787\n",
            "Epoch 6/20\n",
            "30/30 [==============================] - 2s 56ms/step - loss: 0.1562 - accuracy: 0.9477 - val_loss: 0.3101 - val_accuracy: 0.8776\n",
            "Epoch 7/20\n",
            "30/30 [==============================] - 3s 101ms/step - loss: 0.1325 - accuracy: 0.9579 - val_loss: 0.3192 - val_accuracy: 0.8784\n",
            "Epoch 8/20\n",
            "30/30 [==============================] - 2s 64ms/step - loss: 0.1145 - accuracy: 0.9632 - val_loss: 0.3055 - val_accuracy: 0.8847\n",
            "Epoch 9/20\n",
            "30/30 [==============================] - 2s 56ms/step - loss: 0.1013 - accuracy: 0.9678 - val_loss: 0.3180 - val_accuracy: 0.8845\n",
            "Epoch 10/20\n",
            "30/30 [==============================] - 1s 35ms/step - loss: 0.0863 - accuracy: 0.9756 - val_loss: 0.3400 - val_accuracy: 0.8816\n",
            "Epoch 11/20\n",
            "30/30 [==============================] - 1s 37ms/step - loss: 0.0771 - accuracy: 0.9773 - val_loss: 0.3536 - val_accuracy: 0.8813\n",
            "Epoch 12/20\n",
            "30/30 [==============================] - 1s 39ms/step - loss: 0.0680 - accuracy: 0.9807 - val_loss: 0.3811 - val_accuracy: 0.8773\n",
            "Epoch 13/20\n",
            "30/30 [==============================] - 1s 38ms/step - loss: 0.0551 - accuracy: 0.9863 - val_loss: 0.4114 - val_accuracy: 0.8771\n",
            "Epoch 14/20\n",
            "30/30 [==============================] - 2s 80ms/step - loss: 0.0472 - accuracy: 0.9887 - val_loss: 0.4342 - val_accuracy: 0.8725\n",
            "Epoch 15/20\n",
            "30/30 [==============================] - 3s 88ms/step - loss: 0.0442 - accuracy: 0.9895 - val_loss: 0.4410 - val_accuracy: 0.8752\n",
            "Epoch 16/20\n",
            "30/30 [==============================] - 1s 49ms/step - loss: 0.0342 - accuracy: 0.9935 - val_loss: 0.4712 - val_accuracy: 0.8719\n",
            "Epoch 17/20\n",
            "30/30 [==============================] - 1s 35ms/step - loss: 0.0298 - accuracy: 0.9945 - val_loss: 0.4889 - val_accuracy: 0.8719\n",
            "Epoch 18/20\n",
            "30/30 [==============================] - 1s 34ms/step - loss: 0.0250 - accuracy: 0.9955 - val_loss: 0.5160 - val_accuracy: 0.8725\n",
            "Epoch 19/20\n",
            "30/30 [==============================] - 1s 36ms/step - loss: 0.0197 - accuracy: 0.9973 - val_loss: 0.5902 - val_accuracy: 0.8632\n",
            "Epoch 20/20\n",
            "30/30 [==============================] - 1s 32ms/step - loss: 0.0171 - accuracy: 0.9979 - val_loss: 0.5774 - val_accuracy: 0.8691\n"
          ]
        }
      ]
    },
    {
      "cell_type": "markdown",
      "source": [
        "### 작은 용량의 모델"
      ],
      "metadata": {
        "id": "vzf_QmN8uD8k"
      }
    },
    {
      "cell_type": "code",
      "source": [
        "model = keras.Sequential([\n",
        "    layers.Dense(4, activation=\"relu\"),\n",
        "    layers.Dense(4, activation=\"relu\"),\n",
        "    layers.Dense(1, activation=\"sigmoid\")\n",
        "])\n",
        "model.compile(optimizer=\"rmsprop\",\n",
        "              loss=\"binary_crossentropy\",\n",
        "              metrics=[\"accuracy\"])\n",
        "history_smaller_model = model.fit(\n",
        "    train_data, train_labels,\n",
        "    epochs=20, batch_size=512, validation_split=0.4)"
      ],
      "metadata": {
        "id": "v4-5jB_NHzn8",
        "colab": {
          "base_uri": "https://localhost:8080/"
        },
        "outputId": "e387db06-8191-4267-f0f2-076b68c31087"
      },
      "execution_count": 11,
      "outputs": [
        {
          "output_type": "stream",
          "name": "stdout",
          "text": [
            "Epoch 1/20\n",
            "30/30 [==============================] - 4s 113ms/step - loss: 0.6357 - accuracy: 0.7557 - val_loss: 0.5751 - val_accuracy: 0.8425\n",
            "Epoch 2/20\n",
            "30/30 [==============================] - 1s 33ms/step - loss: 0.5259 - accuracy: 0.8675 - val_loss: 0.4904 - val_accuracy: 0.8601\n",
            "Epoch 3/20\n",
            "30/30 [==============================] - 1s 33ms/step - loss: 0.4410 - accuracy: 0.8849 - val_loss: 0.4245 - val_accuracy: 0.8704\n",
            "Epoch 4/20\n",
            "30/30 [==============================] - 1s 33ms/step - loss: 0.3736 - accuracy: 0.8963 - val_loss: 0.3745 - val_accuracy: 0.8754\n",
            "Epoch 5/20\n",
            "30/30 [==============================] - 2s 53ms/step - loss: 0.3204 - accuracy: 0.9086 - val_loss: 0.3403 - val_accuracy: 0.8801\n",
            "Epoch 6/20\n",
            "30/30 [==============================] - 2s 55ms/step - loss: 0.2795 - accuracy: 0.9161 - val_loss: 0.3146 - val_accuracy: 0.8844\n",
            "Epoch 7/20\n",
            "30/30 [==============================] - 2s 52ms/step - loss: 0.2479 - accuracy: 0.9230 - val_loss: 0.3014 - val_accuracy: 0.8830\n",
            "Epoch 8/20\n",
            "30/30 [==============================] - 1s 35ms/step - loss: 0.2222 - accuracy: 0.9314 - val_loss: 0.2858 - val_accuracy: 0.8878\n",
            "Epoch 9/20\n",
            "30/30 [==============================] - 1s 42ms/step - loss: 0.2011 - accuracy: 0.9364 - val_loss: 0.2785 - val_accuracy: 0.8897\n",
            "Epoch 10/20\n",
            "30/30 [==============================] - 1s 37ms/step - loss: 0.1833 - accuracy: 0.9410 - val_loss: 0.2758 - val_accuracy: 0.8910\n",
            "Epoch 11/20\n",
            "30/30 [==============================] - 1s 37ms/step - loss: 0.1673 - accuracy: 0.9473 - val_loss: 0.2739 - val_accuracy: 0.8902\n",
            "Epoch 12/20\n",
            "30/30 [==============================] - 2s 54ms/step - loss: 0.1534 - accuracy: 0.9527 - val_loss: 0.2770 - val_accuracy: 0.8904\n",
            "Epoch 13/20\n",
            "30/30 [==============================] - 2s 56ms/step - loss: 0.1410 - accuracy: 0.9559 - val_loss: 0.2774 - val_accuracy: 0.8901\n",
            "Epoch 14/20\n",
            "30/30 [==============================] - 3s 92ms/step - loss: 0.1307 - accuracy: 0.9601 - val_loss: 0.2813 - val_accuracy: 0.8894\n",
            "Epoch 15/20\n",
            "30/30 [==============================] - 2s 71ms/step - loss: 0.1204 - accuracy: 0.9645 - val_loss: 0.2911 - val_accuracy: 0.8873\n",
            "Epoch 16/20\n",
            "30/30 [==============================] - 1s 33ms/step - loss: 0.1113 - accuracy: 0.9677 - val_loss: 0.2969 - val_accuracy: 0.8847\n",
            "Epoch 17/20\n",
            "30/30 [==============================] - 1s 35ms/step - loss: 0.1032 - accuracy: 0.9705 - val_loss: 0.2997 - val_accuracy: 0.8871\n",
            "Epoch 18/20\n",
            "30/30 [==============================] - 1s 34ms/step - loss: 0.0956 - accuracy: 0.9738 - val_loss: 0.3079 - val_accuracy: 0.8867\n",
            "Epoch 19/20\n",
            "30/30 [==============================] - 1s 34ms/step - loss: 0.0884 - accuracy: 0.9759 - val_loss: 0.3184 - val_accuracy: 0.8855\n",
            "Epoch 20/20\n",
            "30/30 [==============================] - 1s 33ms/step - loss: 0.0813 - accuracy: 0.9785 - val_loss: 0.3270 - val_accuracy: 0.8845\n"
          ]
        }
      ]
    },
    {
      "cell_type": "markdown",
      "source": [
        "### 큰 용량의 모델"
      ],
      "metadata": {
        "id": "-F688OGbuLJi"
      }
    },
    {
      "cell_type": "code",
      "source": [
        "model = keras.Sequential([\n",
        "    layers.Dense(512, activation=\"relu\"),\n",
        "    layers.Dense(512, activation=\"relu\"),\n",
        "    layers.Dense(1, activation=\"sigmoid\")\n",
        "])\n",
        "model.compile(optimizer=\"rmsprop\",\n",
        "              loss=\"binary_crossentropy\",\n",
        "              metrics=[\"accuracy\"])\n",
        "history_larger_model = model.fit(\n",
        "    train_data, train_labels,\n",
        "    epochs=20, batch_size=512, validation_split=0.4)"
      ],
      "metadata": {
        "colab": {
          "base_uri": "https://localhost:8080/"
        },
        "id": "HwQakmg3uHRv",
        "outputId": "b7887d9b-d70d-42a5-e998-f36407fd256c"
      },
      "execution_count": null,
      "outputs": [
        {
          "output_type": "stream",
          "name": "stdout",
          "text": [
            "Epoch 1/20\n",
            "30/30 [==============================] - 13s 413ms/step - loss: 0.5752 - accuracy: 0.7082 - val_loss: 0.5740 - val_accuracy: 0.7196\n",
            "Epoch 2/20\n",
            "19/30 [==================>...........] - ETA: 2s - loss: 0.3464 - accuracy: 0.8535"
          ]
        }
      ]
    },
    {
      "cell_type": "markdown",
      "source": [
        "## 가중치 규제 추가하기"
      ],
      "metadata": {
        "id": "_QvIqw4iuNSL"
      }
    },
    {
      "cell_type": "markdown",
      "source": [
        "### L2 가중치 추가하기"
      ],
      "metadata": {
        "id": "Wd8B2AjVuTj1"
      }
    },
    {
      "cell_type": "code",
      "source": [
        "from tensorflow.keras import regularizers\n",
        "model = keras.Sequential([\n",
        "    layers.Dense(16,\n",
        "                 kernel_regularizer=regularizers.l2(0.002), # 레이어 별 키워드파라미터를 통해 추가\n",
        "                 activation=\"relu\"),\n",
        "    layers.Dense(16,\n",
        "                 kernel_regularizer=regularizers.l2(0.002),\n",
        "                 activation=\"relu\"),\n",
        "    layers.Dense(1, activation=\"sigmoid\")\n",
        "])\n",
        "model.compile(optimizer=\"rmsprop\",\n",
        "              loss=\"binary_crossentropy\",\n",
        "              metrics=[\"accuracy\"])\n",
        "history_l2_reg = model.fit(\n",
        "    train_data, train_labels,\n",
        "    epochs=20, batch_size=512, validation_split=0.4)"
      ],
      "metadata": {
        "id": "MxnZJdNRuMTb"
      },
      "execution_count": null,
      "outputs": []
    },
    {
      "cell_type": "markdown",
      "source": [
        "### 사용할 수 있는 가중치 종류"
      ],
      "metadata": {
        "id": "EjnTcDWoucyh"
      }
    },
    {
      "cell_type": "code",
      "source": [
        "from tensorflow.keras import regularizers\n",
        "regularizers.l1(0.001)\n",
        "regularizers.l1_l2(l1=0.001, l2=0.001)"
      ],
      "metadata": {
        "id": "pzlw7BJmufAX"
      },
      "execution_count": null,
      "outputs": []
    },
    {
      "cell_type": "markdown",
      "source": [
        "## Dropout 추가"
      ],
      "metadata": {
        "id": "nf5d0uyhuhyL"
      }
    },
    {
      "cell_type": "code",
      "source": [
        "model = keras.Sequential([\n",
        "    layers.Dense(16, activation=\"relu\"),\n",
        "    layers.Dropout(0.5),\n",
        "    layers.Dense(16, activation=\"relu\"),\n",
        "    layers.Dropout(0.5),\n",
        "    layers.Dense(1, activation=\"sigmoid\")\n",
        "])\n",
        "model.compile(optimizer=\"rmsprop\",\n",
        "              loss=\"binary_crossentropy\",\n",
        "              metrics=[\"accuracy\"])\n",
        "history_dropout = model.fit(\n",
        "    train_data, train_labels,\n",
        "    epochs=20, batch_size=512, validation_split=0.4)"
      ],
      "metadata": {
        "id": "bbaM6xVSuf3J"
      },
      "execution_count": null,
      "outputs": []
    },
    {
      "cell_type": "code",
      "source": [],
      "metadata": {
        "id": "SD8G5a7Sujjl"
      },
      "execution_count": null,
      "outputs": []
    }
  ]
}