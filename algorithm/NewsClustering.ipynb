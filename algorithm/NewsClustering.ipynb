{
 "cells": [
  {
   "cell_type": "code",
   "execution_count": 5,
   "metadata": {},
   "outputs": [
    {
     "data": {
      "text/plain": [
       "65536"
      ]
     },
     "execution_count": 5,
     "metadata": {},
     "output_type": "execute_result"
    }
   ],
   "source": [
    "import re\n",
    "import math\n",
    "\n",
    "def solution(str1, str2):\n",
    "    str1 = [str1[i:i+2].lower() for i in range(0, len(str1)-1) if not re.findall('[^a-zA-z]+', str1[i:i+2])]\n",
    "    str2 = [str2[i:i+2].lower() for i in range(0, len(str2)-1) if not re.findall('[^a-zA-z]+', str2[i:i+2])]\n",
    "    \n",
    "    inter = set(str1) & set(str2)\n",
    "    union = set(str1) | set(str2)\n",
    "    \n",
    "    if len(union) == 0 :\n",
    "        return 65536\n",
    "    \n",
    "    inter_sum = sum([min(str1.count(ii), str2.count(ii)) for ii in inter])\n",
    "    union_sum = sum([min(str1.count(jj), str2.count(jj)) for jj in union])\n",
    "\n",
    "    return int((inter_sum/union_sum)*65536)\n",
    "\n",
    "solution('aa1+aa2','AAAA12')\n",
    "    "
   ]
  }
 ],
 "metadata": {
  "kernelspec": {
   "display_name": "Python 3.9.10 ('base')",
   "language": "python",
   "name": "python3"
  },
  "language_info": {
   "codemirror_mode": {
    "name": "ipython",
    "version": 3
   },
   "file_extension": ".py",
   "mimetype": "text/x-python",
   "name": "python",
   "nbconvert_exporter": "python",
   "pygments_lexer": "ipython3",
   "version": "3.9.10"
  },
  "orig_nbformat": 4,
  "vscode": {
   "interpreter": {
    "hash": "58cfff075700c87ed9f50485baf20919590ba245c93a445b610f222ec3837e28"
   }
  }
 },
 "nbformat": 4,
 "nbformat_minor": 2
}
