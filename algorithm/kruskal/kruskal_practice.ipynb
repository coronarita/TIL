{
 "cells": [
  {
   "attachments": {},
   "cell_type": "markdown",
   "metadata": {},
   "source": [
    "크루스칼 알고리즘 복습"
   ]
  },
  {
   "cell_type": "markdown",
   "metadata": {},
   "source": [
    "<img src=\"./graph.png\" width=\"223px\" height=\"340px\" title=\"graph\"/>\n"
   ]
  },
  {
   "cell_type": "code",
   "execution_count": 1,
   "metadata": {},
   "outputs": [],
   "source": [
    "mygraph = {\n",
    "    'vertices' : ['A', 'B', 'C', 'D', 'E', 'F', 'G'],\n",
    "    'edges' : # weight, start, end\n",
    "        [\n",
    "            (5, 'A', 'D'),\n",
    "            (7, 'A', 'B'),\n",
    "            (7, 'B', 'A'),\n",
    "            (8, 'B', 'C'),\n",
    "            (9, 'B', 'D'),\n",
    "            (7, 'B', 'E'),\n",
    "            (8, 'C', 'B'),\n",
    "            (5, 'C', 'E'),\n",
    "            (5, 'D', 'A'),\n",
    "            (9, 'D', 'B'),\n",
    "            (7, 'D', 'E'),\n",
    "            (6, 'D', 'F'),\n",
    "            (7, 'E', 'B'),\n",
    "            (5, 'E', 'C'),\n",
    "            (7, 'E', 'D'),\n",
    "            (8, 'E', 'F'),\n",
    "            (9, 'E', 'G'),\n",
    "            (6, 'F', 'D'),\n",
    "            (8, 'F', 'E'),\n",
    "            (11, 'F', 'G'),\n",
    "            (9, 'G', 'E'),\n",
    "            (11, 'G', 'F'),\n",
    "        ]\n",
    "        \n",
    "}"
   ]
  },
  {
   "cell_type": "code",
   "execution_count": 5,
   "metadata": {},
   "outputs": [],
   "source": [
    "parent = dict()\n",
    "rank = dict()\n",
    "\n",
    "def kruskal(graph):\n",
    "    mst = list()\n",
    "    \n",
    "    for node in graph['vertices']:\n",
    "        make_set(node)\n",
    "    \n",
    "    edges = graph['edges']\n",
    "    edges.sort()\n",
    "\n",
    "    for edge in edges : \n",
    "        weight, node_u, node_v = edge\n",
    "        if find(node_u) != find(node_v):\n",
    "            union(node_u, node_v)\n",
    "            mst.append(edge)\n",
    "    return mst\n",
    "\n",
    "\n",
    "def make_set(node):\n",
    "    parent[node] = node\n",
    "    rank[node] = 0\n",
    "\n",
    "\n",
    "def find(node):\n",
    "    if parent[node] != node :\n",
    "        parent[node] = find(parent[node])\n",
    "\n",
    "    return parent[node]\n",
    "\n",
    "\n",
    "def union(u, v):\n",
    "    root1 = find(u)\n",
    "    root2 = find(v)\n",
    "    \n",
    "    if rank[root1] > rank[root2] : \n",
    "        parent[root2] = root1 \n",
    "    else :\n",
    "        parent[root1] = root2 \n",
    "        if rank[root1] == rank[root2] : \n",
    "            rank[root2] += 1"
   ]
  },
  {
   "cell_type": "code",
   "execution_count": 6,
   "metadata": {},
   "outputs": [
    {
     "data": {
      "text/plain": [
       "[(5, 'A', 'D'),\n",
       " (5, 'C', 'E'),\n",
       " (6, 'D', 'F'),\n",
       " (7, 'A', 'B'),\n",
       " (7, 'B', 'E'),\n",
       " (9, 'E', 'G')]"
      ]
     },
     "execution_count": 6,
     "metadata": {},
     "output_type": "execute_result"
    }
   ],
   "source": [
    "kruskal(mygraph)"
   ]
  }
 ],
 "metadata": {
  "kernelspec": {
   "display_name": "base",
   "language": "python",
   "name": "python3"
  },
  "language_info": {
   "codemirror_mode": {
    "name": "ipython",
    "version": 3
   },
   "file_extension": ".py",
   "mimetype": "text/x-python",
   "name": "python",
   "nbconvert_exporter": "python",
   "pygments_lexer": "ipython3",
   "version": "3.9.10"
  },
  "orig_nbformat": 4,
  "vscode": {
   "interpreter": {
    "hash": "58cfff075700c87ed9f50485baf20919590ba245c93a445b610f222ec3837e28"
   }
  }
 },
 "nbformat": 4,
 "nbformat_minor": 2
}
