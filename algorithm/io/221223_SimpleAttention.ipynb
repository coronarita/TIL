{
 "cells": [
  {
   "attachments": {},
   "cell_type": "markdown",
   "metadata": {},
   "source": [
    "![](./Attention.png)\n"
   ]
  },
  {
   "attachments": {},
   "cell_type": "markdown",
   "metadata": {},
   "source": [
    "# Self Attention"
   ]
  },
  {
   "cell_type": "code",
   "execution_count": 1,
   "metadata": {},
   "outputs": [
    {
     "name": "stdout",
     "output_type": "stream",
     "text": [
      "1.12.1\n"
     ]
    }
   ],
   "source": [
    "import torch\n",
    "print(torch.__version__)"
   ]
  },
  {
   "attachments": {},
   "cell_type": "markdown",
   "metadata": {},
   "source": [
    "- Attention Block\n",
    "- MultiHeadAttention\n",
    "- Encoder Layer\n",
    "- Pytorch Official Implementation"
   ]
  },
  {
   "cell_type": "code",
   "execution_count": 2,
   "metadata": {},
   "outputs": [],
   "source": [
    "device = torch.device('mps')"
   ]
  },
  {
   "cell_type": "code",
   "execution_count": 3,
   "metadata": {},
   "outputs": [],
   "source": [
    "# X는 8개단어, 각 단어는 3개의 차원, \n",
    "X = torch.Tensor(torch.randn(8,3)).to(device)"
   ]
  },
  {
   "cell_type": "code",
   "execution_count": 4,
   "metadata": {},
   "outputs": [
    {
     "name": "stdout",
     "output_type": "stream",
     "text": [
      "tensor([[ 0.0675, -0.2713,  0.0818],\n",
      "        [ 2.2818,  0.8646, -1.4367],\n",
      "        [-0.4950,  0.2794,  1.2538],\n",
      "        [ 1.3112,  0.4208, -1.2282],\n",
      "        [-0.6134,  0.2767, -0.3212],\n",
      "        [-1.5270, -0.7643,  0.2412],\n",
      "        [-1.0367,  0.1147,  0.9191],\n",
      "        [ 0.7185,  0.9433,  1.1128]], device='mps:0')\n"
     ]
    }
   ],
   "source": [
    "print(X) # Vectorized Input vector"
   ]
  },
  {
   "cell_type": "code",
   "execution_count": 5,
   "metadata": {},
   "outputs": [],
   "source": [
    "W_Q = torch.nn.Parameter(torch.Tensor(torch.randn(3,2))).to(device) # Weight\n",
    "W_K = torch.nn.Parameter(torch.Tensor(torch.randn(3,2))).to(device)\n",
    "W_V = torch.nn.Parameter(torch.Tensor(torch.randn(3,2))).to(device)"
   ]
  },
  {
   "cell_type": "code",
   "execution_count": 7,
   "metadata": {},
   "outputs": [],
   "source": [
    "Q = torch.matmul(X, W_Q)\n",
    "K = torch.mm(X, W_K)\n",
    "V = X@W_V # @ : broadcast 되는게 좋아서 주로 구현 시 사용하도록 함\n",
    "X.matmul(W_K)"
   ]
  },
  {
   "cell_type": "code",
   "execution_count": 8,
   "metadata": {},
   "outputs": [],
   "source": [
    "# Attention Score : Query와 Key 가 잘 맞는 정도 ! \n",
    "# Q X KT\n",
    "\n",
    "# Q@K.T\n",
    "attention_score = Q.matmul(K.T)"
   ]
  },
  {
   "cell_type": "code",
   "execution_count": 9,
   "metadata": {},
   "outputs": [
    {
     "name": "stdout",
     "output_type": "stream",
     "text": [
      "2\n"
     ]
    }
   ],
   "source": [
    "d_k = K.shape[1]  # Scaling Factor\n",
    "print(d_k)"
   ]
  },
  {
   "cell_type": "code",
   "execution_count": 18,
   "metadata": {},
   "outputs": [],
   "source": [
    "attention_score = attention_score/(d_k**0.5)\n",
    "# attention_score = attention_score/(math.sqrt(d_k))\n",
    "# attention_score = attention_score/(torch.sqrt(torch.Tensor(d_k)))"
   ]
  },
  {
   "cell_type": "code",
   "execution_count": 28,
   "metadata": {},
   "outputs": [],
   "source": [
    "# torch.nn.Softmax  # layer\n",
    "attention_score =torch.softmax(attention_score, dim=1) # functional"
   ]
  },
  {
   "cell_type": "code",
   "execution_count": 30,
   "metadata": {},
   "outputs": [
    {
     "data": {
      "text/plain": [
       "tensor([1.0000, 1.0000, 1.0000, 1.0000, 1.0000, 1.0000, 1.0000, 1.0000],\n",
       "       device='mps:0', grad_fn=<SumBackward1>)"
      ]
     },
     "execution_count": 30,
     "metadata": {},
     "output_type": "execute_result"
    }
   ],
   "source": [
    "# attention_score[0,:].sum()\n",
    "\n",
    "attention_score.sum(dim=1)"
   ]
  },
  {
   "cell_type": "code",
   "execution_count": 32,
   "metadata": {},
   "outputs": [
    {
     "name": "stdout",
     "output_type": "stream",
     "text": [
      "torch.Size([8, 2])\n"
     ]
    }
   ],
   "source": [
    "# 구현의효율을 위해 scaling factor 을 Q에 나눠주기도 함. (Q/d_k**2)\n",
    "# 연산량이 줄어듬 (official code 참고해보면)\n",
    "\n",
    "Z = attention_score@V # Weighted sum 한 V 완성\n",
    "print(Z.shape)"
   ]
  },
  {
   "cell_type": "code",
   "execution_count": null,
   "metadata": {},
   "outputs": [],
   "source": [
    "# Attention Block을 병렬적으로 (Attention head 갯수만큼) 쌓여서 동작하는 것 : \n",
    "# 1개만 있을 경우 diversity 한정, 다양한 embedding 위해서 (feature space 한정)\n",
    "# "
   ]
  }
 ],
 "metadata": {
  "kernelspec": {
   "display_name": "base",
   "language": "python",
   "name": "python3"
  },
  "language_info": {
   "codemirror_mode": {
    "name": "ipython",
    "version": 3
   },
   "file_extension": ".py",
   "mimetype": "text/x-python",
   "name": "python",
   "nbconvert_exporter": "python",
   "pygments_lexer": "ipython3",
   "version": "3.9.10"
  },
  "orig_nbformat": 4,
  "vscode": {
   "interpreter": {
    "hash": "58cfff075700c87ed9f50485baf20919590ba245c93a445b610f222ec3837e28"
   }
  }
 },
 "nbformat": 4,
 "nbformat_minor": 2
}
