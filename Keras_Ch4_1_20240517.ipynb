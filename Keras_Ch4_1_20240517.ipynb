{
  "nbformat": 4,
  "nbformat_minor": 0,
  "metadata": {
    "colab": {
      "provenance": [],
      "authorship_tag": "ABX9TyO6Xtd/Cll4aB7g6Ki3Eu6i",
      "include_colab_link": true
    },
    "kernelspec": {
      "name": "python3",
      "display_name": "Python 3"
    },
    "language_info": {
      "name": "python"
    }
  },
  "cells": [
    {
      "cell_type": "markdown",
      "metadata": {
        "id": "view-in-github",
        "colab_type": "text"
      },
      "source": [
        "<a href=\"https://colab.research.google.com/github/coronarita/TIL/blob/main/Keras_Ch4_1_20240517.ipynb\" target=\"_parent\"><img src=\"https://colab.research.google.com/assets/colab-badge.svg\" alt=\"Open In Colab\"/></a>"
      ]
    },
    {
      "cell_type": "code",
      "source": [
        "import tensorflow as tf\n",
        "\n",
        "# 부동소수점 정밀도 낮춤\n",
        "tf.keras.backend.set_floatx('float16')"
      ],
      "metadata": {
        "id": "dZ0kcx2CI-dv"
      },
      "execution_count": 1,
      "outputs": []
    },
    {
      "cell_type": "markdown",
      "source": [
        "# 영화 리뷰 분류"
      ],
      "metadata": {
        "id": "xVR7C0Ukprhc"
      }
    },
    {
      "cell_type": "markdown",
      "source": [
        "## IMDB"
      ],
      "metadata": {
        "id": "diUOj4CuJ8qh"
      }
    },
    {
      "cell_type": "code",
      "source": [
        "from tensorflow.keras.datasets import imdb\n",
        "(train_data, train_labels), (test_data, test_labels) = imdb.load_data(\n",
        "    num_words=10000)"
      ],
      "metadata": {
        "id": "cMwZ_htaJ3je"
      },
      "execution_count": 2,
      "outputs": []
    },
    {
      "cell_type": "code",
      "source": [
        "train_data[0]"
      ],
      "metadata": {
        "colab": {
          "base_uri": "https://localhost:8080/"
        },
        "id": "OCmb8YggJt6g",
        "outputId": "74105185-196b-4284-8ba2-ebb409eae6d3"
      },
      "execution_count": 3,
      "outputs": [
        {
          "output_type": "execute_result",
          "data": {
            "text/plain": [
              "[1,\n",
              " 14,\n",
              " 22,\n",
              " 16,\n",
              " 43,\n",
              " 530,\n",
              " 973,\n",
              " 1622,\n",
              " 1385,\n",
              " 65,\n",
              " 458,\n",
              " 4468,\n",
              " 66,\n",
              " 3941,\n",
              " 4,\n",
              " 173,\n",
              " 36,\n",
              " 256,\n",
              " 5,\n",
              " 25,\n",
              " 100,\n",
              " 43,\n",
              " 838,\n",
              " 112,\n",
              " 50,\n",
              " 670,\n",
              " 2,\n",
              " 9,\n",
              " 35,\n",
              " 480,\n",
              " 284,\n",
              " 5,\n",
              " 150,\n",
              " 4,\n",
              " 172,\n",
              " 112,\n",
              " 167,\n",
              " 2,\n",
              " 336,\n",
              " 385,\n",
              " 39,\n",
              " 4,\n",
              " 172,\n",
              " 4536,\n",
              " 1111,\n",
              " 17,\n",
              " 546,\n",
              " 38,\n",
              " 13,\n",
              " 447,\n",
              " 4,\n",
              " 192,\n",
              " 50,\n",
              " 16,\n",
              " 6,\n",
              " 147,\n",
              " 2025,\n",
              " 19,\n",
              " 14,\n",
              " 22,\n",
              " 4,\n",
              " 1920,\n",
              " 4613,\n",
              " 469,\n",
              " 4,\n",
              " 22,\n",
              " 71,\n",
              " 87,\n",
              " 12,\n",
              " 16,\n",
              " 43,\n",
              " 530,\n",
              " 38,\n",
              " 76,\n",
              " 15,\n",
              " 13,\n",
              " 1247,\n",
              " 4,\n",
              " 22,\n",
              " 17,\n",
              " 515,\n",
              " 17,\n",
              " 12,\n",
              " 16,\n",
              " 626,\n",
              " 18,\n",
              " 2,\n",
              " 5,\n",
              " 62,\n",
              " 386,\n",
              " 12,\n",
              " 8,\n",
              " 316,\n",
              " 8,\n",
              " 106,\n",
              " 5,\n",
              " 4,\n",
              " 2223,\n",
              " 5244,\n",
              " 16,\n",
              " 480,\n",
              " 66,\n",
              " 3785,\n",
              " 33,\n",
              " 4,\n",
              " 130,\n",
              " 12,\n",
              " 16,\n",
              " 38,\n",
              " 619,\n",
              " 5,\n",
              " 25,\n",
              " 124,\n",
              " 51,\n",
              " 36,\n",
              " 135,\n",
              " 48,\n",
              " 25,\n",
              " 1415,\n",
              " 33,\n",
              " 6,\n",
              " 22,\n",
              " 12,\n",
              " 215,\n",
              " 28,\n",
              " 77,\n",
              " 52,\n",
              " 5,\n",
              " 14,\n",
              " 407,\n",
              " 16,\n",
              " 82,\n",
              " 2,\n",
              " 8,\n",
              " 4,\n",
              " 107,\n",
              " 117,\n",
              " 5952,\n",
              " 15,\n",
              " 256,\n",
              " 4,\n",
              " 2,\n",
              " 7,\n",
              " 3766,\n",
              " 5,\n",
              " 723,\n",
              " 36,\n",
              " 71,\n",
              " 43,\n",
              " 530,\n",
              " 476,\n",
              " 26,\n",
              " 400,\n",
              " 317,\n",
              " 46,\n",
              " 7,\n",
              " 4,\n",
              " 2,\n",
              " 1029,\n",
              " 13,\n",
              " 104,\n",
              " 88,\n",
              " 4,\n",
              " 381,\n",
              " 15,\n",
              " 297,\n",
              " 98,\n",
              " 32,\n",
              " 2071,\n",
              " 56,\n",
              " 26,\n",
              " 141,\n",
              " 6,\n",
              " 194,\n",
              " 7486,\n",
              " 18,\n",
              " 4,\n",
              " 226,\n",
              " 22,\n",
              " 21,\n",
              " 134,\n",
              " 476,\n",
              " 26,\n",
              " 480,\n",
              " 5,\n",
              " 144,\n",
              " 30,\n",
              " 5535,\n",
              " 18,\n",
              " 51,\n",
              " 36,\n",
              " 28,\n",
              " 224,\n",
              " 92,\n",
              " 25,\n",
              " 104,\n",
              " 4,\n",
              " 226,\n",
              " 65,\n",
              " 16,\n",
              " 38,\n",
              " 1334,\n",
              " 88,\n",
              " 12,\n",
              " 16,\n",
              " 283,\n",
              " 5,\n",
              " 16,\n",
              " 4472,\n",
              " 113,\n",
              " 103,\n",
              " 32,\n",
              " 15,\n",
              " 16,\n",
              " 5345,\n",
              " 19,\n",
              " 178,\n",
              " 32]"
            ]
          },
          "metadata": {},
          "execution_count": 3
        }
      ]
    },
    {
      "cell_type": "code",
      "source": [
        "max([max(sequence) for sequence in train_data])"
      ],
      "metadata": {
        "colab": {
          "base_uri": "https://localhost:8080/"
        },
        "id": "oNavwLzjOOTU",
        "outputId": "9ee9b767-dc0a-4034-f31a-a29b6f99e7f0"
      },
      "execution_count": 4,
      "outputs": [
        {
          "output_type": "execute_result",
          "data": {
            "text/plain": [
              "9999"
            ]
          },
          "metadata": {},
          "execution_count": 4
        }
      ]
    },
    {
      "cell_type": "markdown",
      "source": [
        "리뷰를 디코딩"
      ],
      "metadata": {
        "id": "ynEDp5TXOzPa"
      }
    },
    {
      "cell_type": "code",
      "source": [
        "word_index = imdb.get_word_index()\n",
        "reverse_word_index = dict(\n",
        "    [(value, key) for (key, value) in word_index.items()]\n",
        ")\n",
        "decoded_review = \" \".join(\n",
        "    [reverse_word_index.get(i-3, \"?\") for i in train_data[0]]\n",
        ")"
      ],
      "metadata": {
        "id": "OPhyvTbXOv7m"
      },
      "execution_count": 5,
      "outputs": []
    },
    {
      "cell_type": "markdown",
      "source": [
        "## 데이터 준비"
      ],
      "metadata": {
        "id": "QOMA426RPH0U"
      }
    },
    {
      "cell_type": "code",
      "source": [
        "# 정수 시퀀스 -> 멀티-핫 인코딩\n",
        "\n",
        "import numpy as np\n",
        "def vectorize_sequences(sequences, dimension=10000):\n",
        "    results = np.zeros((len(sequences), dimension)) # 들어오는 데이터들 변경\n",
        "    for i, sequence in enumerate(sequences):\n",
        "        for j in sequence :\n",
        "            results[i, j] = 1.\n",
        "    return results\n",
        "\n",
        "x_train = vectorize_sequences(train_data)\n",
        "x_test = vectorize_sequences(test_data)"
      ],
      "metadata": {
        "id": "O1xPYyCtPaXq"
      },
      "execution_count": 6,
      "outputs": []
    },
    {
      "cell_type": "code",
      "source": [
        "x_train[0]"
      ],
      "metadata": {
        "colab": {
          "base_uri": "https://localhost:8080/"
        },
        "id": "BQkoHLgoPKoz",
        "outputId": "69c6601f-b479-4f4d-e8c9-4136bb37e76d"
      },
      "execution_count": 7,
      "outputs": [
        {
          "output_type": "execute_result",
          "data": {
            "text/plain": [
              "array([0., 1., 1., ..., 0., 0., 0.])"
            ]
          },
          "metadata": {},
          "execution_count": 7
        }
      ]
    },
    {
      "cell_type": "code",
      "source": [
        "y_train = np.asarray(train_labels).astype(\"float32\")\n",
        "y_test = np.asarray(test_labels).astype(\"float32\")"
      ],
      "metadata": {
        "id": "ORRYGUA8TW0h"
      },
      "execution_count": 8,
      "outputs": []
    },
    {
      "cell_type": "markdown",
      "source": [
        "## 신경망 모델 만들기"
      ],
      "metadata": {
        "id": "yZUpopmGPWVi"
      }
    },
    {
      "cell_type": "markdown",
      "source": [
        "### 모델 정의하기"
      ],
      "metadata": {
        "id": "bn-P3MDETh3P"
      }
    },
    {
      "cell_type": "code",
      "source": [
        "from tensorflow import keras\n",
        "from tensorflow.keras import layers\n",
        "\n",
        "model = keras.Sequential([\n",
        "    layers.Dense(16, activation=\"relu\"),\n",
        "    layers.Dense(16, activation=\"relu\"),\n",
        "    layers.Dense(1, activation=\"sigmoid\")\n",
        "])"
      ],
      "metadata": {
        "id": "jF2x_5OvPYY5"
      },
      "execution_count": 9,
      "outputs": []
    },
    {
      "cell_type": "markdown",
      "source": [
        "### 모델 컴파일하기"
      ],
      "metadata": {
        "id": "-Ke2EvptTnNS"
      }
    },
    {
      "cell_type": "code",
      "source": [
        "model.compile(optimizer=\"rmsprop\",\n",
        "              loss=\"binary_crossentropy\",\n",
        "              metrics=[\"accuracy\"])"
      ],
      "metadata": {
        "id": "q3n-xesNTq2k"
      },
      "execution_count": 10,
      "outputs": []
    },
    {
      "cell_type": "markdown",
      "source": [
        "## 훈련 검증"
      ],
      "metadata": {
        "id": "f25quVCkTyI_"
      }
    },
    {
      "cell_type": "markdown",
      "source": [
        "### 검증 세트 준비하기"
      ],
      "metadata": {
        "id": "PUHkdKKpUg9e"
      }
    },
    {
      "cell_type": "code",
      "source": [
        "x_val = x_train[:10000]\n",
        "partial_x_train = x_train[10000:]\n",
        "y_val = y_train[:10000]\n",
        "partial_y_train = y_train[10000:]"
      ],
      "metadata": {
        "id": "1jgXHS29T0y8"
      },
      "execution_count": 11,
      "outputs": []
    },
    {
      "cell_type": "markdown",
      "source": [
        "### 모델 훈련하기"
      ],
      "metadata": {
        "id": "-yE9nF1mUrv0"
      }
    },
    {
      "cell_type": "code",
      "source": [
        "history = model.fit(partial_x_train,\n",
        "                    partial_y_train,\n",
        "                    epochs=5,\n",
        "                    batch_size=512,\n",
        "                    validation_data=(x_val, y_val))"
      ],
      "metadata": {
        "colab": {
          "base_uri": "https://localhost:8080/"
        },
        "id": "udUviuxGUuB7",
        "outputId": "c94c19ba-fe69-4b70-be11-b48641633df0"
      },
      "execution_count": 12,
      "outputs": [
        {
          "output_type": "stream",
          "name": "stdout",
          "text": [
            "Epoch 1/5\n",
            "30/30 [==============================] - 40s 1s/step - loss: 0.5312 - accuracy: 0.7734 - val_loss: 0.4050 - val_accuracy: 0.8682\n",
            "Epoch 2/5\n",
            "30/30 [==============================] - 43s 1s/step - loss: 0.3318 - accuracy: 0.8926 - val_loss: 0.3269 - val_accuracy: 0.8774\n",
            "Epoch 3/5\n",
            "30/30 [==============================] - 35s 1s/step - loss: 0.2507 - accuracy: 0.9194 - val_loss: 0.2871 - val_accuracy: 0.8887\n",
            "Epoch 4/5\n",
            "30/30 [==============================] - 38s 1s/step - loss: 0.2061 - accuracy: 0.9316 - val_loss: 0.2771 - val_accuracy: 0.8887\n",
            "Epoch 5/5\n",
            "30/30 [==============================] - 35s 1s/step - loss: 0.1759 - accuracy: 0.9419 - val_loss: 0.2749 - val_accuracy: 0.8882\n"
          ]
        }
      ]
    },
    {
      "cell_type": "code",
      "source": [
        "history_dict = history.history\n",
        "history_dict.keys()"
      ],
      "metadata": {
        "colab": {
          "base_uri": "https://localhost:8080/"
        },
        "id": "sbgW8phbXFxn",
        "outputId": "2bbb15ab-758e-4c6a-ebef-1a704fc6743f"
      },
      "execution_count": 13,
      "outputs": [
        {
          "output_type": "execute_result",
          "data": {
            "text/plain": [
              "dict_keys(['loss', 'accuracy', 'val_loss', 'val_accuracy'])"
            ]
          },
          "metadata": {},
          "execution_count": 13
        }
      ]
    },
    {
      "cell_type": "markdown",
      "source": [
        "## 훈련, 검증 손실 그리기"
      ],
      "metadata": {
        "id": "aoBn1ff5XLvq"
      }
    },
    {
      "cell_type": "code",
      "source": [
        "import matplotlib.pyplot as plt\n",
        "history_dict = history.history\n",
        "loss_values = history_dict[\"loss\"]\n",
        "val_loss_values = history_dict[\"val_loss\"]\n",
        "epochs = range(1, len(loss_values) + 1)\n",
        "plt.plot(epochs, loss_values, \"bo\", label=\"Training loss\")\n",
        "plt.plot(epochs, val_loss_values, \"b\", label=\"Validation loss\")\n",
        "plt.title(\"Training and validation loss\")\n",
        "plt.xlabel(\"Epochs\")\n",
        "plt.ylabel(\"Loss\")\n",
        "plt.legend()\n",
        "plt.show()"
      ],
      "metadata": {
        "colab": {
          "base_uri": "https://localhost:8080/",
          "height": 472
        },
        "id": "PKAq9a2bXQUw",
        "outputId": "3d3bd780-fa39-4054-e6d2-51288d50a790"
      },
      "execution_count": 14,
      "outputs": [
        {
          "output_type": "display_data",
          "data": {
            "text/plain": [
              "<Figure size 640x480 with 1 Axes>"
            ],
            "image/png": "[encoded data removed]"
          },
          "metadata": {}
        }
      ]
    },
    {
      "cell_type": "markdown",
      "source": [
        "### 모델 처음부터 다시 훈련"
      ],
      "metadata": {
        "id": "hdAshDOaXVeU"
      }
    },
    {
      "cell_type": "code",
      "source": [
        "model = keras.Sequential([\n",
        "    layers.Dense(16, activation=\"relu\"),\n",
        "    layers.Dense(16, activation=\"relu\"),\n",
        "    layers.Dense(1, activation=\"sigmoid\")\n",
        "])\n",
        "model.compile(optimizer=\"rmsprop\",\n",
        "              loss=\"binary_crossentropy\",\n",
        "              metrics=[\"accuracy\"])\n",
        "model.fit(x_train, y_train, epochs=4, batch_size=512)\n",
        "results = model.evaluate(x_test, y_test)"
      ],
      "metadata": {
        "colab": {
          "base_uri": "https://localhost:8080/"
        },
        "id": "LUojS6usXYT0",
        "outputId": "1adc49a1-7403-42e7-8b48-599176293e99"
      },
      "execution_count": 15,
      "outputs": [
        {
          "output_type": "stream",
          "name": "stdout",
          "text": [
            "Epoch 1/4\n",
            "49/49 [==============================] - 46s 926ms/step - loss: 0.4712 - accuracy: 0.8164\n",
            "Epoch 2/4\n",
            "49/49 [==============================] - 45s 914ms/step - loss: 0.2800 - accuracy: 0.9014\n",
            "Epoch 3/4\n",
            "49/49 [==============================] - 45s 921ms/step - loss: 0.2191 - accuracy: 0.9194\n",
            "Epoch 4/4\n",
            "49/49 [==============================] - 44s 902ms/step - loss: 0.1886 - accuracy: 0.9316\n",
            "782/782 [==============================] - 26s 34ms/step - loss: 0.2866 - accuracy: 0.9214\n"
          ]
        }
      ]
    },
    {
      "cell_type": "code",
      "source": [
        "results # 5epochs, 92.13% accuracy for train"
      ],
      "metadata": {
        "colab": {
          "base_uri": "https://localhost:8080/"
        },
        "id": "m0UPZS9mXfbD",
        "outputId": "977700ff-ccc2-41cf-a39c-dad3974e714d"
      },
      "execution_count": 16,
      "outputs": [
        {
          "output_type": "execute_result",
          "data": {
            "text/plain": [
              "[0.28662109375, 0.92138671875]"
            ]
          },
          "metadata": {},
          "execution_count": 16
        }
      ]
    },
    {
      "cell_type": "markdown",
      "source": [
        "### 훈련 된 모델로 예측"
      ],
      "metadata": {
        "id": "43b2jfvoXiKf"
      }
    },
    {
      "cell_type": "markdown",
      "source": [
        "### 추가 실험"
      ],
      "metadata": {
        "id": "58gf4scgXmt-"
      }
    },
    {
      "cell_type": "markdown",
      "source": [
        "- 표현층 수를 1, 3개로 변경"
      ],
      "metadata": {
        "id": "oH5vilVEYMct"
      }
    },
    {
      "cell_type": "code",
      "source": [
        "# 1개\n",
        "model = keras.Sequential([\n",
        "    layers.Dense(16, activation=\"relu\"),\n",
        "    layers.Dense(1, activation=\"sigmoid\")\n",
        "])\n",
        "model.compile(optimizer=\"rmsprop\",\n",
        "              loss=\"binary_crossentropy\",\n",
        "              metrics=[\"accuracy\"])\n",
        "model.fit(x_train, y_train, epochs=4, batch_size=512)\n",
        "results = model.evaluate(x_test, y_test)\n",
        "print(results[1]) # 91.79"
      ],
      "metadata": {
        "colab": {
          "base_uri": "https://localhost:8080/"
        },
        "id": "mQRk5zgwbBvT",
        "outputId": "2c441234-0250-46ae-da71-94787499938f"
      },
      "execution_count": 17,
      "outputs": [
        {
          "output_type": "stream",
          "name": "stdout",
          "text": [
            "Epoch 1/4\n",
            "49/49 [==============================] - 45s 913ms/step - loss: 0.4443 - accuracy: 0.8267\n",
            "Epoch 2/4\n",
            "49/49 [==============================] - 45s 926ms/step - loss: 0.2827 - accuracy: 0.9019\n",
            "Epoch 3/4\n",
            "49/49 [==============================] - 45s 917ms/step - loss: 0.2327 - accuracy: 0.9185\n",
            "Epoch 4/4\n",
            "49/49 [==============================] - 44s 902ms/step - loss: 0.2053 - accuracy: 0.9263\n",
            "782/782 [==============================] - 30s 38ms/step - loss: 0.2839 - accuracy: 0.9180\n",
            "0.91796875\n"
          ]
        }
      ]
    },
    {
      "cell_type": "code",
      "source": [
        "model = keras.Sequential([\n",
        "    layers.Dense(16, activation=\"relu\"),\n",
        "    layers.Dense(16, activation=\"relu\"),\n",
        "    layers.Dense(16, activation=\"relu\"),\n",
        "    layers.Dense(1, activation=\"sigmoid\")\n",
        "])\n",
        "model.compile(optimizer=\"rmsprop\",\n",
        "              loss=\"binary_crossentropy\",\n",
        "              metrics=[\"accuracy\"])\n",
        "model.fit(x_train, y_train, epochs=4, batch_size=512)\n",
        "results = model.evaluate(x_test, y_test)\n",
        "print(results[1]) # 91.84 ? Overfitted?"
      ],
      "metadata": {
        "id": "wHJq7qbNXpvl",
        "colab": {
          "base_uri": "https://localhost:8080/"
        },
        "outputId": "4337be7a-4f2a-4fda-de16-24b63771155c"
      },
      "execution_count": 18,
      "outputs": [
        {
          "output_type": "stream",
          "name": "stdout",
          "text": [
            "Epoch 1/4\n",
            "49/49 [==============================] - 46s 917ms/step - loss: 0.4854 - accuracy: 0.8105\n",
            "Epoch 2/4\n",
            "49/49 [==============================] - 55s 1s/step - loss: 0.2734 - accuracy: 0.9019\n",
            "Epoch 3/4\n",
            "49/49 [==============================] - 45s 913ms/step - loss: 0.2129 - accuracy: 0.9185\n",
            "Epoch 4/4\n",
            "49/49 [==============================] - 45s 922ms/step - loss: 0.1807 - accuracy: 0.9326\n",
            "782/782 [==============================] - 27s 35ms/step - loss: 0.2966 - accuracy: 0.9185\n",
            "0.91845703125\n"
          ]
        }
      ]
    },
    {
      "cell_type": "markdown",
      "source": [
        "\n",
        "- 층의 유닛을 변경(64, 32 등)"
      ],
      "metadata": {
        "id": "muxK1pABaJNS"
      }
    },
    {
      "cell_type": "code",
      "source": [
        "model = keras.Sequential([\n",
        "    layers.Dense(32, activation=\"relu\"),\n",
        "    layers.Dense(32, activation=\"relu\"),\n",
        "    layers.Dense(1, activation=\"sigmoid\")\n",
        "])\n",
        "model.compile(optimizer=\"rmsprop\",\n",
        "              loss=\"binary_crossentropy\",\n",
        "              metrics=[\"accuracy\"])\n",
        "model.fit(x_train, y_train, epochs=4, batch_size=512)\n",
        "results = model.evaluate(x_test, y_test)\n",
        "print(results[1])"
      ],
      "metadata": {
        "colab": {
          "base_uri": "https://localhost:8080/"
        },
        "id": "Z7GIWR3FbMe6",
        "outputId": "75b7f07b-8fea-4522-b56a-739f1bc00a79"
      },
      "execution_count": 19,
      "outputs": [
        {
          "output_type": "stream",
          "name": "stdout",
          "text": [
            "Epoch 1/4\n",
            "49/49 [==============================] - 95s 2s/step - loss: 0.4441 - accuracy: 0.8130\n",
            "Epoch 2/4\n",
            "49/49 [==============================] - 89s 2s/step - loss: 0.2644 - accuracy: 0.8989\n",
            "Epoch 3/4\n",
            "49/49 [==============================] - 88s 2s/step - loss: 0.2128 - accuracy: 0.9219\n",
            "Epoch 4/4\n",
            "49/49 [==============================] - 89s 2s/step - loss: 0.1818 - accuracy: 0.9336\n",
            "782/782 [==============================] - 50s 64ms/step - loss: 0.3020 - accuracy: 0.9160\n",
            "0.916015625\n"
          ]
        }
      ]
    },
    {
      "cell_type": "code",
      "source": [
        "model = keras.Sequential([\n",
        "    layers.Dense(64, activation=\"relu\"),\n",
        "    layers.Dense(64, activation=\"relu\"),\n",
        "    layers.Dense(1, activation=\"sigmoid\")\n",
        "])\n",
        "model.compile(optimizer=\"rmsprop\",\n",
        "              loss=\"binary_crossentropy\",\n",
        "              metrics=[\"accuracy\"])\n",
        "model.fit(x_train, y_train, epochs=4, batch_size=512)\n",
        "results = model.evaluate(x_test, y_test)\n",
        "print(results[1])"
      ],
      "metadata": {
        "colab": {
          "base_uri": "https://localhost:8080/"
        },
        "id": "NO5LWYNsaIyy",
        "outputId": "e67478b9-860f-4852-9782-3b53b5728c35"
      },
      "execution_count": 20,
      "outputs": [
        {
          "output_type": "stream",
          "name": "stdout",
          "text": [
            "Epoch 1/4\n",
            "49/49 [==============================] - 174s 4s/step - loss: 0.4465 - accuracy: 0.7964\n",
            "Epoch 2/4\n",
            "49/49 [==============================] - 175s 4s/step - loss: 0.2666 - accuracy: 0.8970\n",
            "Epoch 3/4\n",
            "49/49 [==============================] - 178s 4s/step - loss: 0.2145 - accuracy: 0.9180\n",
            "Epoch 4/4\n",
            "49/49 [==============================] - 175s 4s/step - loss: 0.1792 - accuracy: 0.9326\n",
            "782/782 [==============================] - 94s 120ms/step - loss: 0.3423 - accuracy: 0.8950\n",
            "0.89501953125\n"
          ]
        }
      ]
    },
    {
      "cell_type": "markdown",
      "source": [
        "- 손실함수를 mse로 변경"
      ],
      "metadata": {
        "id": "MhiryjOtaJio"
      }
    },
    {
      "cell_type": "code",
      "source": [
        "model = keras.Sequential([\n",
        "    layers.Dense(16, activation=\"relu\"),\n",
        "    layers.Dense(16, activation=\"relu\"),\n",
        "    layers.Dense(1, activation=\"sigmoid\")\n",
        "])\n",
        "model.compile(optimizer=\"rmsprop\",\n",
        "              loss=\"mse\",\n",
        "              metrics=[\"accuracy\"])\n",
        "model.fit(x_train, y_train, epochs=4, batch_size=512)\n",
        "results = model.evaluate(x_test, y_test)\n",
        "print(results[1])"
      ],
      "metadata": {
        "colab": {
          "base_uri": "https://localhost:8080/"
        },
        "id": "85h3lN1kaJ46",
        "outputId": "7aa4fbe4-0867-42c3-b542-abac0f191965"
      },
      "execution_count": 21,
      "outputs": [
        {
          "output_type": "stream",
          "name": "stdout",
          "text": [
            "Epoch 1/4\n",
            "49/49 [==============================] - 45s 909ms/step - loss: 0.1688 - accuracy: 0.7969\n",
            "Epoch 2/4\n",
            "49/49 [==============================] - 45s 923ms/step - loss: 0.0944 - accuracy: 0.8926\n",
            "Epoch 3/4\n",
            "49/49 [==============================] - 45s 904ms/step - loss: 0.0729 - accuracy: 0.9141\n",
            "Epoch 4/4\n",
            "49/49 [==============================] - 44s 900ms/step - loss: 0.0621 - accuracy: 0.9282\n",
            "782/782 [==============================] - 30s 38ms/step - loss: 0.0833 - accuracy: 0.9219\n",
            "0.921875\n"
          ]
        }
      ]
    },
    {
      "cell_type": "markdown",
      "source": [
        "- relu대신 tanh 적용"
      ],
      "metadata": {
        "id": "hY6JYvUkaKLc"
      }
    },
    {
      "cell_type": "code",
      "source": [
        "model = keras.Sequential([\n",
        "    layers.Dense(16, activation=\"tanh\"),\n",
        "    layers.Dense(16, activation=\"tanh\"),\n",
        "    layers.Dense(1, activation=\"sigmoid\")\n",
        "])\n",
        "model.compile(optimizer=\"rmsprop\",\n",
        "              loss=\"binary_crossentropy\",\n",
        "              metrics=[\"accuracy\"])\n",
        "model.fit(x_train, y_train, epochs=4, batch_size=512)\n",
        "results = model.evaluate(x_test, y_test)\n",
        "print(results[1])"
      ],
      "metadata": {
        "colab": {
          "base_uri": "https://localhost:8080/"
        },
        "id": "qmCUyEEZaKeg",
        "outputId": "cc1d7bf4-fafa-4c5b-b254-41fb59226168"
      },
      "execution_count": 22,
      "outputs": [
        {
          "output_type": "stream",
          "name": "stdout",
          "text": [
            "Epoch 1/4\n",
            "49/49 [==============================] - 45s 905ms/step - loss: 0.4565 - accuracy: 0.8237\n",
            "Epoch 2/4\n",
            "49/49 [==============================] - 44s 903ms/step - loss: 0.2686 - accuracy: 0.8999\n",
            "Epoch 3/4\n",
            "49/49 [==============================] - 44s 904ms/step - loss: 0.2059 - accuracy: 0.9253\n",
            "Epoch 4/4\n",
            "49/49 [==============================] - 44s 907ms/step - loss: 0.1759 - accuracy: 0.9355\n",
            "782/782 [==============================] - 26s 33ms/step - loss: 0.3096 - accuracy: 0.9097\n",
            "0.90966796875\n"
          ]
        }
      ]
    },
    {
      "cell_type": "code",
      "source": [],
      "metadata": {
        "id": "BtOCyOotwnzk"
      },
      "execution_count": null,
      "outputs": []
    }
  ]
}