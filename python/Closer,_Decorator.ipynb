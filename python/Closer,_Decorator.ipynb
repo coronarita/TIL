{
  "nbformat": 4,
  "nbformat_minor": 0,
  "metadata": {
    "colab": {
      "provenance": [],
      "authorship_tag": "ABX9TyPmTemrhzRUEaFliiwsKoTZ",
      "include_colab_link": true
    },
    "kernelspec": {
      "name": "python3",
      "display_name": "Python 3"
    },
    "language_info": {
      "name": "python"
    }
  },
  "cells": [
    {
      "cell_type": "markdown",
      "metadata": {
        "id": "view-in-github",
        "colab_type": "text"
      },
      "source": [
        "<a href=\"https://colab.research.google.com/github/coronarita/TIL/blob/main/Closer%2C_Decorator.ipynb\" target=\"_parent\"><img src=\"https://colab.research.google.com/assets/colab-badge.svg\" alt=\"Open In Colab\"/></a>"
      ]
    },
    {
      "cell_type": "code",
      "execution_count": 2,
      "metadata": {
        "id": "Cyb_kGBX_Hk0"
      },
      "outputs": [],
      "source": [
        "## Closer\n",
        "\n",
        "# Step 1\n",
        "def mul3(n):\n",
        "    return n* 3\n",
        "\n",
        "def mul5(n):\n",
        "    return n* 5\n"
      ]
    },
    {
      "cell_type": "code",
      "source": [
        "# Step 2\n",
        "class Mul:\n",
        "    def __init__(self, m):\n",
        "        self.m = m\n",
        "\n",
        "    def mul(self, n):\n",
        "        return self.m * n\n",
        "    \n",
        "if __name__ == \"__main__\":\n",
        "    mul3 = Mul(3)\n",
        "    mul5 = Mul(5)\n",
        "\n",
        "print(mul3.mul(10))\n",
        "print(mul5.mul(10))"
      ],
      "metadata": {
        "colab": {
          "base_uri": "https://localhost:8080/"
        },
        "id": "BZpvpics_Xs9",
        "outputId": "d47279d9-68ad-45aa-da0f-fdd676794faa"
      },
      "execution_count": 4,
      "outputs": [
        {
          "output_type": "stream",
          "name": "stdout",
          "text": [
            "30\n",
            "50\n"
          ]
        }
      ]
    },
    {
      "cell_type": "code",
      "source": [
        "# Step 3\n",
        "# 외부함수 mul() 안에 내부함수 wrapper()구현\n",
        "def mul(m):\n",
        "    def wrapper(n):\n",
        "        return m* n\n",
        "    return wrapper\n",
        "\n",
        "if __name__ == \"__main__\":\n",
        "    mul3 = mul(3)\n",
        "    mul5 = mul(5)\n",
        "\n",
        "print(mul3(10))\n",
        "print(mul5(10))"
      ],
      "metadata": {
        "colab": {
          "base_uri": "https://localhost:8080/"
        },
        "id": "SYdYgDkB_L-w",
        "outputId": "0f457d68-f61d-45db-8eb0-3916cf937ee7"
      },
      "execution_count": 5,
      "outputs": [
        {
          "output_type": "stream",
          "name": "stdout",
          "text": [
            "30\n",
            "50\n"
          ]
        }
      ]
    },
    {
      "cell_type": "code",
      "source": [
        "## Decorator\n",
        "# Step 1\n",
        "import time\n",
        "\n",
        "def myfunc():\n",
        "    start = time.time()\n",
        "    print(\"함수가 실행됩니다.\")\n",
        "    end = time.time()\n",
        "    print(\"함수 수행시간: %f 초\" % (end-start))\n",
        "\n",
        "myfunc()\n"
      ],
      "metadata": {
        "colab": {
          "base_uri": "https://localhost:8080/"
        },
        "id": "8CMKmDVr_MGu",
        "outputId": "6545ef6e-c1ae-4aa8-b321-e615af4bb927"
      },
      "execution_count": 6,
      "outputs": [
        {
          "output_type": "stream",
          "name": "stdout",
          "text": [
            "함수가 실행됩니다.\n",
            "함수 수행시간: 0.000125 초\n"
          ]
        }
      ]
    },
    {
      "cell_type": "code",
      "source": [
        "# Step 2\n",
        "# 모든 함수마다 start, end 넣는 것 - 비효율적. 클로즈 활용\n",
        "import time\n",
        "\n",
        "def elapsed(original_func):\n",
        "    def wrapper():\n",
        "        start = time.time()\n",
        "        result = original_func() # 기존함수 수행\n",
        "        end = time.time()\n",
        "        print(\"함수 수행시간: %f 초\" % (end-start))\n",
        "        return result\n",
        "    return wrapper\n",
        "\n",
        "def myfunc(): \n",
        "    print(\"함수가 실행됩니다.\")\n",
        "\n",
        "decorated_myfunc = elapsed(myfunc)\n",
        "decorated_myfunc()\n"
      ],
      "metadata": {
        "colab": {
          "base_uri": "https://localhost:8080/"
        },
        "id": "OKXytGk4AaWY",
        "outputId": "2cb04ec4-3b27-4894-935c-abafcd999bd5"
      },
      "execution_count": 7,
      "outputs": [
        {
          "output_type": "stream",
          "name": "stdout",
          "text": [
            "함수가 실행됩니다.\n",
            "함수 수행시간: 0.002487 초\n"
          ]
        }
      ]
    },
    {
      "cell_type": "code",
      "source": [
        "# Step 3\n",
        "# @를 활용하여서서 어노테이션으로 사용\n",
        "\n",
        "import time\n",
        "\n",
        "def elapsed(original_func):\n",
        "    def wrapper():\n",
        "        start = time.time()\n",
        "        result = original_func() # 기존함수 수행\n",
        "        end = time.time()\n",
        "        print(\"함수 수행시간: %f 초\" % (end-start))\n",
        "        return result\n",
        "    return wrapper\n",
        "\n",
        "@elapsed\n",
        "def myfunc(): \n",
        "    print(\"함수가 실행됩니다.\")\n",
        "\n",
        "# decorated_myfunc = elapsed(myfunc) # @elapsed의의 사용으로 생략 가능\n",
        "# decorated_myfunc()\n",
        "\n",
        "myfunc()"
      ],
      "metadata": {
        "colab": {
          "base_uri": "https://localhost:8080/"
        },
        "id": "FkGSnreaBA80",
        "outputId": "89fc0510-865d-426c-9249-13ee04c645f1"
      },
      "execution_count": 8,
      "outputs": [
        {
          "output_type": "stream",
          "name": "stdout",
          "text": [
            "함수가 실행됩니다.\n",
            "함수 수행시간: 0.003411 초\n"
          ]
        }
      ]
    },
    {
      "cell_type": "code",
      "source": [
        "# *args, **kwargs : 각각, 입력 인수를 튜플/ 딕셔너리로 변환하는 매개변수\n",
        "def func(*args, **kwargs):\n",
        "    print(args)\n",
        "    print(kwargs)\n",
        "\n",
        "func(1, 2, 3, 5,  name = 'foo', age = 3, sing = 'norae')"
      ],
      "metadata": {
        "colab": {
          "base_uri": "https://localhost:8080/"
        },
        "id": "J9Xz0tekB5Lc",
        "outputId": "1f287493-3125-43a0-bf53-83df55d44f62"
      },
      "execution_count": 11,
      "outputs": [
        {
          "output_type": "stream",
          "name": "stdout",
          "text": [
            "(1, 2, 3, 5)\n",
            "{'name': 'foo', 'age': 3, 'sing': 'norae'}\n"
          ]
        }
      ]
    },
    {
      "cell_type": "code",
      "source": [
        "# Step 4\n",
        "# myfunc의 함수 변경(인자 추가)\n",
        "\n",
        "import time\n",
        "\n",
        "def elapsed(original_func):\n",
        "    def wrapper(*args, **kwargs):\n",
        "        start = time.time()\n",
        "        result = original_func(*args, **kwargs) # 기존함수 수행\n",
        "        end = time.time()\n",
        "        print(\"함수 수행시간: %f 초\" % (end-start))\n",
        "        return result\n",
        "    return wrapper\n",
        "\n",
        "@elapsed\n",
        "def myfunc(msg): \n",
        "    '''\n",
        "    데코레이터 확인 함수\n",
        "    '''\n",
        "    print(\"%s를  출력합니다.\" % msg)\n",
        "\n",
        "myfunc(\"You need python\")"
      ],
      "metadata": {
        "colab": {
          "base_uri": "https://localhost:8080/"
        },
        "id": "XAVl9g9pBgJt",
        "outputId": "b573b0da-3979-4d1c-ad90-d01655367687"
      },
      "execution_count": 14,
      "outputs": [
        {
          "output_type": "stream",
          "name": "stdout",
          "text": [
            "You need python를  출력합니다.\n",
            "함수 수행시간: 0.007510 초\n"
          ]
        }
      ]
    },
    {
      "cell_type": "code",
      "source": [],
      "metadata": {
        "id": "ALeTHT-CCTxc"
      },
      "execution_count": null,
      "outputs": []
    }
  ]
}
