{
 "cells": [
  {
   "cell_type": "code",
   "execution_count": 1,
   "id": "6dedaf43",
   "metadata": {
    "ExecuteTime": {
     "end_time": "2022-12-12T04:03:06.488342Z",
     "start_time": "2022-12-12T04:03:06.482881Z"
    }
   },
   "outputs": [
    {
     "name": "stdout",
     "output_type": "stream",
     "text": [
      "one two\n"
     ]
    }
   ],
   "source": [
    "print('%s %s' % ('one', 'two'))"
   ]
  },
  {
   "cell_type": "code",
   "execution_count": 2,
   "id": "b028ce21",
   "metadata": {
    "ExecuteTime": {
     "end_time": "2022-12-12T04:03:23.000418Z",
     "start_time": "2022-12-12T04:03:22.994544Z"
    }
   },
   "outputs": [
    {
     "name": "stdout",
     "output_type": "stream",
     "text": [
      "one two\n"
     ]
    }
   ],
   "source": [
    "print('{} {}'.format('one','two'))"
   ]
  },
  {
   "cell_type": "code",
   "execution_count": 3,
   "id": "3bec706c",
   "metadata": {
    "ExecuteTime": {
     "end_time": "2022-12-12T04:03:33.002928Z",
     "start_time": "2022-12-12T04:03:32.999503Z"
    }
   },
   "outputs": [
    {
     "name": "stdout",
     "output_type": "stream",
     "text": [
      "1 2\n"
     ]
    }
   ],
   "source": [
    "print('%d %d' % (1, 2))"
   ]
  },
  {
   "cell_type": "code",
   "execution_count": 4,
   "id": "173375bf",
   "metadata": {
    "ExecuteTime": {
     "end_time": "2022-12-12T04:03:42.990811Z",
     "start_time": "2022-12-12T04:03:42.974959Z"
    }
   },
   "outputs": [
    {
     "name": "stdout",
     "output_type": "stream",
     "text": [
      "1 2\n"
     ]
    }
   ],
   "source": [
    "print('{} {}'.format(1,2))"
   ]
  },
  {
   "cell_type": "code",
   "execution_count": 6,
   "id": "1eebcf26",
   "metadata": {
    "ExecuteTime": {
     "end_time": "2022-12-12T04:18:44.996729Z",
     "start_time": "2022-12-12T04:18:44.986589Z"
    }
   },
   "outputs": [
    {
     "name": "stdout",
     "output_type": "stream",
     "text": [
      "I eat 3 apples.\n",
      "I eat five aaples.\n",
      "I ate 3 apples. I was sick for three days.\n",
      "Product: Apple, Price per unit: 5.243000.\n"
     ]
    }
   ],
   "source": [
    "print(\"I eat %d apples.\" %3)\n",
    "print(\"I eat %s aaples.\" %\"five\")\n",
    "number = 3\n",
    "day = \"three\"\n",
    "print(\"I ate %d apples. I was sick for %s days.\" %(number, day))\n",
    "print(\"Product: %s, Price per unit: %f.\" % (\"Apple\", 5.243))"
   ]
  },
  {
   "cell_type": "code",
   "execution_count": 7,
   "id": "86e4115a",
   "metadata": {
    "ExecuteTime": {
     "end_time": "2022-12-12T04:20:13.755315Z",
     "start_time": "2022-12-12T04:20:13.748099Z"
    }
   },
   "outputs": [
    {
     "name": "stdout",
     "output_type": "stream",
     "text": [
      "Product:      Apple, Price per unit        5.2.\n"
     ]
    }
   ],
   "source": [
    "# formatting\n",
    "print(\"Product: %10s, Price per unit %10.1f.\" % (\"Apple\", 5.243))"
   ]
  },
  {
   "cell_type": "code",
   "execution_count": 1,
   "id": "d9d5ffe7",
   "metadata": {
    "ExecuteTime": {
     "end_time": "2022-12-12T04:27:59.967517Z",
     "start_time": "2022-12-12T04:27:59.952744Z"
    }
   },
   "outputs": [
    {
     "name": "stdout",
     "output_type": "stream",
     "text": [
      "I'm 36 years old.\n"
     ]
    }
   ],
   "source": [
    "# format formatting\n",
    "age = 36\n",
    "name = 'Sungchul Choi'\n",
    "print(\"I'm {0} years old.\".format(age))"
   ]
  },
  {
   "cell_type": "code",
   "execution_count": 2,
   "id": "14d563fe",
   "metadata": {
    "ExecuteTime": {
     "end_time": "2022-12-12T04:30:06.723032Z",
     "start_time": "2022-12-12T04:30:06.714524Z"
    }
   },
   "outputs": [
    {
     "name": "stdout",
     "output_type": "stream",
     "text": [
      "My name is Sungchul Choi and 36 years old\n"
     ]
    }
   ],
   "source": [
    "print(\"My name is {0} and {1} years old\".format(name, age))"
   ]
  },
  {
   "cell_type": "code",
   "execution_count": 4,
   "id": "0f34fb31",
   "metadata": {
    "ExecuteTime": {
     "end_time": "2022-12-12T04:30:32.359979Z",
     "start_time": "2022-12-12T04:30:32.356011Z"
    }
   },
   "outputs": [
    {
     "name": "stdout",
     "output_type": "stream",
     "text": [
      "My name is Sungchul Choi and 36 years old\n"
     ]
    }
   ],
   "source": [
    "print(\"My name is {1} and {0} years old\".format(age, name))"
   ]
  },
  {
   "cell_type": "code",
   "execution_count": 7,
   "id": "958efe13",
   "metadata": {
    "ExecuteTime": {
     "end_time": "2022-12-12T04:32:29.610665Z",
     "start_time": "2022-12-12T04:32:29.606575Z"
    }
   },
   "outputs": [
    {
     "name": "stdout",
     "output_type": "stream",
     "text": [
      "Product: Apple, Price per unit 5.24300.\n",
      "Product: Apple     , Price per unit      5.243.\n"
     ]
    }
   ],
   "source": [
    "# padding\n",
    "print(\"Product: %5s, Price per unit %.5f.\" % (\"Apple\", 5.243))\n",
    "print(\"Product: {0:<10s}, Price per unit {1:>10.3f}.\" .format(\"Apple\", 5.243))"
   ]
  },
  {
   "cell_type": "code",
   "execution_count": 12,
   "id": "228d75c5",
   "metadata": {
    "ExecuteTime": {
     "end_time": "2022-12-12T04:35:05.880953Z",
     "start_time": "2022-12-12T04:35:05.877231Z"
    }
   },
   "outputs": [
    {
     "name": "stdout",
     "output_type": "stream",
     "text": [
      "Product:      apple, Price per unit    5.24300.\n",
      "Product: apple     , Price per unit    5.24300.\n"
     ]
    }
   ],
   "source": [
    "print(\"Product: %(name)10s, Price per unit %(price)10.5f.\" % {\"name\":\"apple\", \"price\":5.243})\n",
    "print(\"Product: {name:<10s}, Price per unit {price:>10.5f}.\".format(name=\"apple\", price=5.243))"
   ]
  },
  {
   "cell_type": "code",
   "execution_count": 13,
   "id": "5559fbbe",
   "metadata": {
    "ExecuteTime": {
     "end_time": "2022-12-12T04:35:54.162731Z",
     "start_time": "2022-12-12T04:35:54.155192Z"
    }
   },
   "outputs": [
    {
     "name": "stdout",
     "output_type": "stream",
     "text": [
      "Hello, Sungchul Choi. You are 36.\n"
     ]
    }
   ],
   "source": [
    "# fstring\n",
    "print(f\"Hello, {name}. You are {age}.\")"
   ]
  },
  {
   "cell_type": "code",
   "execution_count": 14,
   "id": "fa5b13dd",
   "metadata": {
    "ExecuteTime": {
     "end_time": "2022-12-12T04:36:10.274718Z",
     "start_time": "2022-12-12T04:36:10.271647Z"
    }
   },
   "outputs": [
    {
     "name": "stdout",
     "output_type": "stream",
     "text": [
      "Sungchul Choi       \n"
     ]
    }
   ],
   "source": [
    "print(f\"{name:20}\")"
   ]
  },
  {
   "cell_type": "code",
   "execution_count": 15,
   "id": "b959846e",
   "metadata": {
    "ExecuteTime": {
     "end_time": "2022-12-12T04:36:23.086065Z",
     "start_time": "2022-12-12T04:36:23.081880Z"
    }
   },
   "outputs": [
    {
     "name": "stdout",
     "output_type": "stream",
     "text": [
      "       Sungchul Choi\n"
     ]
    }
   ],
   "source": [
    "print(f\"{name:>20}\")"
   ]
  },
  {
   "cell_type": "code",
   "execution_count": 16,
   "id": "79a726cf",
   "metadata": {
    "ExecuteTime": {
     "end_time": "2022-12-12T04:36:46.299595Z",
     "start_time": "2022-12-12T04:36:46.296309Z"
    }
   },
   "outputs": [
    {
     "name": "stdout",
     "output_type": "stream",
     "text": [
      "Sungchul Choi*******\n"
     ]
    }
   ],
   "source": [
    "print(f\"{name:*<20}\")"
   ]
  },
  {
   "cell_type": "code",
   "execution_count": 17,
   "id": "b5603c20",
   "metadata": {
    "ExecuteTime": {
     "end_time": "2022-12-12T04:36:54.335440Z",
     "start_time": "2022-12-12T04:36:54.328888Z"
    }
   },
   "outputs": [
    {
     "name": "stdout",
     "output_type": "stream",
     "text": [
      "*******Sungchul Choi\n"
     ]
    }
   ],
   "source": [
    "print(f\"{name:*>20}\")"
   ]
  },
  {
   "cell_type": "code",
   "execution_count": 18,
   "id": "9f1b1ce1",
   "metadata": {
    "ExecuteTime": {
     "end_time": "2022-12-12T04:37:00.888951Z",
     "start_time": "2022-12-12T04:37:00.885585Z"
    }
   },
   "outputs": [
    {
     "name": "stdout",
     "output_type": "stream",
     "text": [
      "***Sungchul Choi****\n"
     ]
    }
   ],
   "source": [
    "print(f\"{name:*^20}\")"
   ]
  },
  {
   "cell_type": "code",
   "execution_count": 20,
   "id": "48406cb3",
   "metadata": {
    "ExecuteTime": {
     "end_time": "2022-12-12T04:37:39.445818Z",
     "start_time": "2022-12-12T04:37:39.442349Z"
    }
   },
   "outputs": [
    {
     "name": "stdout",
     "output_type": "stream",
     "text": [
      "3.14******\n"
     ]
    }
   ],
   "source": [
    "number = 3.141592642489783\n",
    "print(f\"{number:*<10.2f}\")"
   ]
  },
  {
   "cell_type": "code",
   "execution_count": 21,
   "id": "582e60f1",
   "metadata": {
    "ExecuteTime": {
     "end_time": "2022-12-12T04:46:26.800667Z",
     "start_time": "2022-12-12T04:46:26.790910Z"
    }
   },
   "outputs": [],
   "source": [
    "# Farenheit Converter -> vscode로 작성\n"
   ]
  },
  {
   "cell_type": "code",
   "execution_count": null,
   "id": "667c4a29",
   "metadata": {},
   "outputs": [],
   "source": []
  }
 ],
 "metadata": {
  "kernelspec": {
   "display_name": "Python 3 (ipykernel)",
   "language": "python",
   "name": "python3"
  },
  "language_info": {
   "codemirror_mode": {
    "name": "ipython",
    "version": 3
   },
   "file_extension": ".py",
   "mimetype": "text/x-python",
   "name": "python",
   "nbconvert_exporter": "python",
   "pygments_lexer": "ipython3",
   "version": "3.8.5"
  },
  "toc": {
   "base_numbering": 1,
   "nav_menu": {},
   "number_sections": true,
   "sideBar": true,
   "skip_h1_title": false,
   "title_cell": "Table of Contents",
   "title_sidebar": "Contents",
   "toc_cell": false,
   "toc_position": {},
   "toc_section_display": true,
   "toc_window_display": false
  },
  "varInspector": {
   "cols": {
    "lenName": 16,
    "lenType": 16,
    "lenVar": 40
   },
   "kernels_config": {
    "python": {
     "delete_cmd_postfix": "",
     "delete_cmd_prefix": "del ",
     "library": "var_list.py",
     "varRefreshCmd": "print(var_dic_list())"
    },
    "r": {
     "delete_cmd_postfix": ") ",
     "delete_cmd_prefix": "rm(",
     "library": "var_list.r",
     "varRefreshCmd": "cat(var_dic_list()) "
    }
   },
   "types_to_exclude": [
    "module",
    "function",
    "builtin_function_or_method",
    "instance",
    "_Feature"
   ],
   "window_display": false
  }
 },
 "nbformat": 4,
 "nbformat_minor": 5
}
