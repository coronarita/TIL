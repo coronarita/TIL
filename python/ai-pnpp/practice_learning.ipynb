{
 "cells": [
  {
   "cell_type": "code",
   "execution_count": null,
   "metadata": {},
   "outputs": [],
   "source": [
    "print(\"Hello\")"
   ]
  },
  {
   "cell_type": "code",
   "execution_count": null,
   "metadata": {},
   "outputs": [],
   "source": [
    "a = True\n",
    "b =True\n",
    "a and b"
   ]
  },
  {
   "cell_type": "code",
   "execution_count": null,
   "metadata": {},
   "outputs": [],
   "source": [
    "a = True\n",
    "b = False\n",
    "a and b"
   ]
  },
  {
   "cell_type": "code",
   "execution_count": null,
   "metadata": {},
   "outputs": [],
   "source": [
    "a = True\n",
    "b = False\n",
    "a or b"
   ]
  },
  {
   "cell_type": "code",
   "execution_count": null,
   "metadata": {},
   "outputs": [],
   "source": [
    "bool_list = [True, False, True, False, True]\n",
    "print(all(bool_list))\n",
    "print(any(bool_list))"
   ]
  },
  {
   "cell_type": "code",
   "execution_count": null,
   "metadata": {},
   "outputs": [],
   "source": [
    "# 삼항연산자(Ternary operator) - 한줄에 조건문 표시\n",
    "\n",
    "value = 12\n",
    "is_even = True if value % 2 == 0 else False\n",
    "print(is_even)"
   ]
  },
  {
   "cell_type": "code",
   "execution_count": null,
   "metadata": {},
   "outputs": [],
   "source": [
    "birth_year = int(input(\"Year\"))\n",
    "\n",
    "age = 2022 - birth_year + 1 \n",
    "message = \"\"\n",
    "\n",
    "if 20 <= age and age <= 26:\n",
    "    message = \"Undergraduate\"\n",
    "elif 17 <= age and age < 20:\n",
    "    message = \"High school student\"\n",
    "elif 14 <= age and age < 17:\n",
    "    message = \"Middle school student\"\n",
    "elif 8 <= age and age < 14:\n",
    "    message = \"Elementary school student\"\n",
    "else : \n",
    "    print(\"Not a student\")\n",
    "    \n",
    "print(message)\n"
   ]
  },
  {
   "cell_type": "code",
   "execution_count": null,
   "metadata": {},
   "outputs": [],
   "source": [
    " for looper in range(0,5):\n",
    "     print(f\"{looper} : Hello\")"
   ]
  },
  {
   "cell_type": "code",
   "execution_count": null,
   "metadata": {},
   "outputs": [],
   "source": [
    "list(range(0, 10))"
   ]
  },
  {
   "cell_type": "code",
   "execution_count": null,
   "metadata": {},
   "outputs": [],
   "source": [
    "for i in \"abcdefg\":\n",
    "    print(i)"
   ]
  },
  {
   "cell_type": "code",
   "execution_count": null,
   "metadata": {},
   "outputs": [],
   "source": [
    "for i in [\"americano\", \"latte\", \"frafuchino\"]:\n",
    "    print(i)"
   ]
  },
  {
   "cell_type": "code",
   "execution_count": null,
   "metadata": {},
   "outputs": [],
   "source": [
    "for i in range(1, 10, 2):\n",
    "    print(i)"
   ]
  },
  {
   "cell_type": "code",
   "execution_count": null,
   "metadata": {},
   "outputs": [],
   "source": [
    "for i in range(10, 1, -1):\n",
    "    print(i)"
   ]
  },
  {
   "cell_type": "code",
   "execution_count": null,
   "metadata": {},
   "outputs": [],
   "source": [
    "# 조건이 만족하는 동안\n",
    "i = 1\n",
    "while i < 10:\n",
    "    print(i)\n",
    "    i += 1"
   ]
  },
  {
   "cell_type": "code",
   "execution_count": null,
   "metadata": {},
   "outputs": [],
   "source": [
    "# for : 반복실행 횟수가 명확할 때\n",
    "# while : 반복 실행 횟수가 명확하지 않을 떄"
   ]
  },
  {
   "cell_type": "code",
   "execution_count": null,
   "metadata": {},
   "outputs": [],
   "source": [
    "#  반복의 제어, break, continue\n",
    "for i in range(10):\n",
    "    if i ==5 :\n",
    "        break\n",
    "    print(i)\n",
    "    \n",
    "print(\"EOP\")"
   ]
  },
  {
   "cell_type": "code",
   "execution_count": null,
   "metadata": {},
   "outputs": [],
   "source": [
    "#  반복의 제어\n",
    "for i in range(10):\n",
    "    if i ==5 :\n",
    "        continue\n",
    "    print(i)\n",
    "    \n",
    "print(\"EOP\")"
   ]
  },
  {
   "cell_type": "code",
   "execution_count": null,
   "metadata": {},
   "outputs": [],
   "source": [
    "print(\"구구단 몇 단을 계산할까요?\")\n",
    "num = int(input())\n",
    "print(f\"구구단 {num}단을 계산합니다.\")\n",
    "for i in range(1,10):\n",
    "    print(f\"{num} X {i} = {num*i}\")"
   ]
  },
  {
   "cell_type": "code",
   "execution_count": null,
   "metadata": {},
   "outputs": [],
   "source": [
    "# Reversely printing\n",
    "\n",
    "sentence = \"I love you\"\n",
    "rev_sentence = \"\"\n",
    "for char in sentence :\n",
    "    rev_sentence = char + rev_sentence # stack의 형태 (LIFO)\n",
    "print(rev_sentence)"
   ]
  },
  {
   "cell_type": "code",
   "execution_count": null,
   "metadata": {},
   "outputs": [],
   "source": [
    "decimal = int(input(\"십진수를 입력해주세요 : \"))\n",
    "result = \"\"\n",
    "\n",
    "while decimal > 0:\n",
    "    remainder = decimal % 2\n",
    "    decimal = decimal // 2\n",
    "    result = str(remainder) + result\n",
    "    print(f\"{decimal}\")\n",
    "print(result)"
   ]
  },
  {
   "cell_type": "code",
   "execution_count": null,
   "metadata": {},
   "outputs": [],
   "source": [
    "# Loop and control\n",
    "import random\n",
    "\n",
    "ans = random.randint(1, 100)\n",
    "print(\"숫자를 맞춰보세요 (1 ~ 100)\")\n",
    "num = 999999\n",
    "while num != ans :\n",
    "    num = int(input())\n",
    "    if num > ans :\n",
    "        print(\"숫자가 너무 큽니다\")\n",
    "    elif num < ans : \n",
    "        print(\"숫자가 너무 작습니다\")\n",
    "    else : \n",
    "        break\n",
    "\n",
    "print(f\"정답입니다. 입력한 숫자는 {ans}입니다\")"
   ]
  },
  {
   "cell_type": "code",
   "execution_count": null,
   "metadata": {},
   "outputs": [],
   "source": [
    "# 이차원 리스트 처리하기\n",
    "kor_score = [49, 79, 20, 100, 80]\n",
    "math_score = [43, 59, 85, 30, 90]\n",
    "eng_score = [49, 79, 48, 60, 100]\n",
    "midterm_score = [kor_score, math_score, eng_score]\n",
    "\n",
    "student_score = [0,0,0,0,0]\n",
    "i = 0\n",
    "\n",
    "for subject in midterm_score:\n",
    "    for score in subject:\n",
    "        # print(type(student_score[i]))\n",
    "        student_score[i] += score\n",
    "        i +=1\n",
    "    i = 0\n",
    "print(student_score)\n",
    "\n",
    "a,b,c,d,e = student_score\n",
    "student_avg = [a/3, b/3, c/3, d/3, e/3]\n",
    "print(student_avg)"
   ]
  },
  {
   "cell_type": "code",
   "execution_count": null,
   "metadata": {},
   "outputs": [],
   "source": []
  },
  {
   "cell_type": "code",
   "execution_count": null,
   "metadata": {},
   "outputs": [],
   "source": [
    "x = 2 \n",
    " y = 5\n",
    " print(x+y)"
   ]
  },
  {
   "cell_type": "code",
   "execution_count": null,
   "metadata": {},
   "outputs": [],
   "source": [
    "# string func\n",
    "title = \"TEAMLAB X Upstage\"\n",
    "title.upper()"
   ]
  },
  {
   "cell_type": "code",
   "execution_count": null,
   "metadata": {},
   "outputs": [],
   "source": [
    "title.lower()"
   ]
  },
  {
   "cell_type": "code",
   "execution_count": null,
   "metadata": {},
   "outputs": [],
   "source": [
    "title.split(\" \")"
   ]
  },
  {
   "cell_type": "code",
   "execution_count": null,
   "metadata": {},
   "outputs": [],
   "source": [
    "title.isdigit()"
   ]
  },
  {
   "cell_type": "code",
   "execution_count": null,
   "metadata": {},
   "outputs": [],
   "source": [
    "title.title() # 제목형태, 첫글자만 대문자"
   ]
  },
  {
   "cell_type": "code",
   "execution_count": null,
   "metadata": {},
   "outputs": [],
   "source": [
    "title.startswith(\"a\")"
   ]
  },
  {
   "cell_type": "code",
   "execution_count": null,
   "metadata": {},
   "outputs": [],
   "source": [
    "title.count(\"a\")"
   ]
  },
  {
   "cell_type": "code",
   "execution_count": null,
   "metadata": {},
   "outputs": [],
   "source": [
    "title.upper().count(\"a\")"
   ]
  },
  {
   "cell_type": "code",
   "execution_count": null,
   "metadata": {},
   "outputs": [],
   "source": [
    "\"12345\".isdigit()"
   ]
  },
  {
   "cell_type": "code",
   "execution_count": null,
   "metadata": {},
   "outputs": [],
   "source": [
    "title.find(\"Naver\")"
   ]
  },
  {
   "cell_type": "code",
   "execution_count": null,
   "metadata": {},
   "outputs": [],
   "source": [
    "title.upper().find(\"Naver\")"
   ]
  },
  {
   "cell_type": "code",
   "execution_count": null,
   "metadata": {},
   "outputs": [],
   "source": [
    "\"     Hello       \".strip()"
   ]
  },
  {
   "cell_type": "code",
   "execution_count": null,
   "metadata": {},
   "outputs": [],
   "source": [
    "\"A-B-C-D-E-F\".split(\"-\")"
   ]
  },
  {
   "cell_type": "code",
   "execution_count": null,
   "metadata": {},
   "outputs": [],
   "source": [
    "!wget https://raw.githubusercontent.com/Teamlab/introduction_to_python_teamlab_mooc/master/code/6/yesterday.txt"
   ]
  },
  {
   "cell_type": "code",
   "execution_count": null,
   "metadata": {},
   "outputs": [],
   "source": [
    "def spam(eggs):\n",
    "    print(eggs)\n",
    "    eggs.append(1) # 기존 객체의 주소값에 [1] 추가\n",
    "    eggs.append(5)\n",
    "    print(eggs)\n",
    "    eggs = [2, 3] # 새로운 객체 생성 - 관계가 끊김.\n",
    "    print(eggs)\n",
    "    \n",
    "ham = [0]\n",
    "spam(ham)\n",
    "print(ham)"
   ]
  },
  {
   "cell_type": "code",
   "execution_count": null,
   "metadata": {},
   "outputs": [],
   "source": [
    "def swap_value(x, y):\n",
    "    temp = x\n",
    "    x = y\n",
    "    y = temp\n",
    "    \n",
    "def swap_offset(offset_x, offset_y):\n",
    "    temp = a[offset_x]\n",
    "    a[offset_x] = a[offset_y]\n",
    "    a[offset_y] = temp\n",
    "    \n",
    "def swap_reference(l, offset_x, offset_y):\n",
    "    temp = l[offset_x]\n",
    "    l[offset_x] = l[offset_y]\n",
    "    l[offset_y] = temp"
   ]
  },
  {
   "cell_type": "code",
   "execution_count": null,
   "metadata": {},
   "outputs": [],
   "source": [
    "a = [1,2,3,4,5]\n",
    "swap_value(a[0], a[1])\n",
    "a"
   ]
  },
  {
   "cell_type": "code",
   "execution_count": null,
   "metadata": {},
   "outputs": [],
   "source": [
    "swap_offset(0,1)\n",
    "a"
   ]
  },
  {
   "cell_type": "code",
   "execution_count": null,
   "metadata": {},
   "outputs": [],
   "source": [
    "swap_offset(0,1)\n",
    "a"
   ]
  },
  {
   "cell_type": "code",
   "execution_count": null,
   "metadata": {},
   "outputs": [],
   "source": [
    "swap_reference(a, 0, 1)\n",
    "a"
   ]
  },
  {
   "cell_type": "code",
   "execution_count": null,
   "metadata": {},
   "outputs": [],
   "source": [
    "def swap_value(x, y):\n",
    "    temp = x\n",
    "    x = y\n",
    "    y = temp\n",
    "    \n",
    "def swap_offset(offset_x, offset_y):\n",
    "    temp = a[offset_x]\n",
    "    a[offset_x] = a[offset_y]\n",
    "    a[offset_y] = temp\n",
    "    \n",
    "# 이상적인 함수    \n",
    "def swap_reference(l, offset_x, offset_y):\n",
    "    temp_list = l[:]\n",
    "    temp = temp_list[offset_x]\n",
    "    temp_list[offset_x] = temp_list[offset_y]\n",
    "    temp_list[offset_y] = temp\n",
    "    return temp_list"
   ]
  },
  {
   "cell_type": "code",
   "execution_count": null,
   "metadata": {},
   "outputs": [],
   "source": [
    "ex = [1,2,3,4,5]\n",
    "ex_swap = swap_reference(ex, 2,3)\n",
    "ex_swap"
   ]
  },
  {
   "cell_type": "code",
   "execution_count": null,
   "metadata": {},
   "outputs": [],
   "source": [
    "# 실행 시 마다 swap 일어남\n",
    "ex_swap = swap_reference(ex_swap, 2,3)\n",
    "ex_swap"
   ]
  },
  {
   "cell_type": "code",
   "execution_count": null,
   "metadata": {},
   "outputs": [],
   "source": [
    "swap_reference(ex, 2,3)\n",
    "ex"
   ]
  },
  {
   "cell_type": "code",
   "execution_count": null,
   "metadata": {},
   "outputs": [],
   "source": [
    "def test(t):\n",
    "    print(x)\n",
    "    t = 20\n",
    "    print(\"In Function :\", t)\n",
    "\n",
    "x = 10\n",
    "test(x)\n",
    "print(t) # t는 local variable이기 때문에 출력되지 않음."
   ]
  },
  {
   "cell_type": "code",
   "execution_count": null,
   "metadata": {},
   "outputs": [],
   "source": [
    "def test(t):\n",
    "    t = 20\n",
    "    print(\"In Function :\", t)\n",
    "\n",
    "x= 10\n",
    "print(\"Before: \" , x)\n",
    "test(x)\n",
    "print(\"After :\", x)"
   ]
  },
  {
   "cell_type": "code",
   "execution_count": null,
   "metadata": {},
   "outputs": [],
   "source": [
    "def f():\n",
    "    s = \"I love London!\"\n",
    "    print(s)\n",
    "    \n",
    "s = \"I love Paris!\"\n",
    "f()\n",
    "print(s)\n",
    "\n",
    "# 같은 이름이지만, 함수 내외로 값이 변하지는 않음 (지역, 전역)"
   ]
  },
  {
   "cell_type": "code",
   "execution_count": null,
   "metadata": {},
   "outputs": [],
   "source": [
    "def f():\n",
    "    global s\n",
    "    s = \"I love London!\" # 전역으로 사용\n",
    "    print(s)\n",
    "    \n",
    "s = \"I love Paris!\"\n",
    "print(s)\n",
    "f()\n",
    "print(s)"
   ]
  },
  {
   "cell_type": "code",
   "execution_count": null,
   "metadata": {},
   "outputs": [],
   "source": [
    "def calculate(x, y):\n",
    "    total = x + y\n",
    "    print(\"In Function\")\n",
    "    print(\"a:\", str(a), \"b:\", \\\n",
    "        str(b), \"a+b:\", str(a+b), \"total :\", str(total))\n",
    "    return total\n",
    "    \n",
    "    \n",
    "a = 5\n",
    "b = 7\n",
    "total = 0\n",
    "print(\"In Program -1\")\n",
    "print(\"a:\", str(a), \"b:\", str(b), \"a+b:\", str(a+b))\n",
    "\n",
    "sum = calculate(a,b)\n",
    "print(\"After calculation\")\n",
    "print (\"Total:\", str(total), \"Sum:\", str(sum))"
   ]
  },
  {
   "cell_type": "code",
   "execution_count": null,
   "metadata": {},
   "outputs": [],
   "source": [
    "# 재귀함수(recursive Func)\n",
    "\n",
    "def factorial(n):\n",
    "    if n==1:\n",
    "        return 1\n",
    "    else :\n",
    "        return n * factorial(n-1)\n",
    "        \n",
    "print(factorial(int(input(\"Input Number for Factorial Calculation: \"))))"
   ]
  },
  {
   "cell_type": "code",
   "execution_count": null,
   "metadata": {},
   "outputs": [],
   "source": [
    "# for loop으로 변경\n",
    "\n",
    "def factorial_forloop(n):\n",
    "    fac = 1\n",
    "\n",
    "    for i in range(1, n+1):\n",
    "        fac *= i\n",
    "    return fac"
   ]
  },
  {
   "cell_type": "code",
   "execution_count": null,
   "metadata": {},
   "outputs": [],
   "source": [
    "factorial_forloop(5)"
   ]
  },
  {
   "cell_type": "code",
   "execution_count": null,
   "metadata": {},
   "outputs": [],
   "source": [
    "#ex : \n",
    "def insert(self, index: int, module: Module) -> None:\n",
    "    r\"\"\"Insert a given module before a given index in the list.\n",
    "    Arguments:\n",
    "        index (int): index to insert.\n",
    "        module (nn.Module): module to insert\n",
    "    \"\"\"\n",
    "    \"\"\"_summary_\n",
    "    \"\"\"    \n",
    "    \n",
    "    for i in range(len(self._modules), index, -1):\n",
    "        self._modules[str(i)] = self._modules[str(i-1)]\n",
    "    self._modules[str(index)] = module\n",
    "    "
   ]
  },
  {
   "cell_type": "code",
   "execution_count": null,
   "metadata": {},
   "outputs": [],
   "source": [
    "# 인자로 받은 값자체는 바꾸지 말 것\n",
    "def count_word(string_variable):\n",
    "    string_variable = list(string_variable)\n",
    "    return len(string_variable)\n",
    "\n",
    "count_word(\"Hello\")\n",
    "\n",
    "# 이상\n",
    "def count_word(string_variable):\n",
    "    return len(string_variable)\n",
    "\n",
    "count_word(\"Hello\")\n"
   ]
  },
  {
   "cell_type": "code",
   "execution_count": null,
   "metadata": {},
   "outputs": [],
   "source": [
    "# 복잡한 수식은 코드로\n",
    "# 예시 \n",
    "import math\n",
    "a, b, c = 1, -2, 1\n",
    "print((-b + math.sqrt(b**2 -4*a*c))/(2*a))\n",
    "print((-b - math.sqrt(b**2 -4*a*c))/(2*a))"
   ]
  },
  {
   "cell_type": "code",
   "execution_count": null,
   "metadata": {},
   "outputs": [],
   "source": [
    "# 개선\n",
    "def get_result_quadratic_equation(a,b,c):\n",
    "    values = []\n",
    "    values.append(((-b + math.sqrt(b**2 -4*a*c))/(2*a)))\n",
    "    values.append(((-b - math.sqrt(b**2 -4*a*c))/(2*a)))\n",
    "    return values\n",
    "\n",
    "print(get_result_quadratic_equation(1,-2,1))"
   ]
  },
  {
   "cell_type": "code",
   "execution_count": null,
   "metadata": {},
   "outputs": [],
   "source": [
    "# 복잡한 조건도 함수로"
   ]
  },
  {
   "cell_type": "code",
   "execution_count": null,
   "metadata": {},
   "outputs": [],
   "source": [
    "# Stack : LIFO\n",
    "word = input(\"Input a word :\")\n",
    "word_list = list(word)  # String to List\n",
    "for i in range(len(word_list)):\n",
    "    print(word_list.pop())  # 하나씩 빼면서 출력\n",
    "    print(word_list)"
   ]
  },
  {
   "cell_type": "code",
   "execution_count": null,
   "metadata": {},
   "outputs": [],
   "source": [
    "# queue : FIFO\n",
    "# list - pop(0)을 쓰면 됨! \n",
    "a = [1,2,3,4,5]\n",
    "a.append(10)\n",
    "a.append(20)\n",
    "a\n",
    "\n",
    "\n"
   ]
  },
  {
   "cell_type": "code",
   "execution_count": null,
   "metadata": {},
   "outputs": [],
   "source": [
    "first = a.pop(0)"
   ]
  },
  {
   "cell_type": "code",
   "execution_count": null,
   "metadata": {},
   "outputs": [],
   "source": [
    "first, a"
   ]
  },
  {
   "cell_type": "code",
   "execution_count": null,
   "metadata": {},
   "outputs": [],
   "source": [
    "# tuple : 값의 변경이 불가능, 나머지는 리스트와 비슷함. \n",
    "# 쓰는 이유 : 함수의 return 값\n",
    "# 학번, 이름, 우편번호 등 변경하면 안되는 자료들.. : 사용자의 실수에 의한 에러를 방지\n",
    "t = (1,2,3)"
   ]
  },
  {
   "cell_type": "code",
   "execution_count": null,
   "metadata": {},
   "outputs": [],
   "source": [
    "type(t)"
   ]
  },
  {
   "cell_type": "code",
   "execution_count": null,
   "metadata": {},
   "outputs": [],
   "source": [
    "print(t+t, t*2)"
   ]
  },
  {
   "cell_type": "code",
   "execution_count": null,
   "metadata": {},
   "outputs": [],
   "source": [
    "t[1] = 5"
   ]
  },
  {
   "cell_type": "code",
   "execution_count": null,
   "metadata": {},
   "outputs": [],
   "source": [
    "t = (1)\n",
    "type(t)"
   ]
  },
  {
   "cell_type": "code",
   "execution_count": null,
   "metadata": {},
   "outputs": [],
   "source": [
    "t = (1,)\n",
    "type(t)"
   ]
  },
  {
   "cell_type": "code",
   "execution_count": null,
   "metadata": {},
   "outputs": [],
   "source": [
    "# set : 값을 순서없이, 저장, 중복을 불허하는 자료형 ! [집합]\n",
    "s = set([1,2,3,1,2,3])\n",
    "s"
   ]
  },
  {
   "cell_type": "code",
   "execution_count": null,
   "metadata": {},
   "outputs": [],
   "source": [
    "s.add(1)"
   ]
  },
  {
   "cell_type": "code",
   "execution_count": null,
   "metadata": {},
   "outputs": [],
   "source": [
    "s"
   ]
  },
  {
   "cell_type": "code",
   "execution_count": null,
   "metadata": {},
   "outputs": [],
   "source": [
    "s.remove(1)\n",
    "s"
   ]
  },
  {
   "cell_type": "code",
   "execution_count": null,
   "metadata": {},
   "outputs": [],
   "source": [
    "s.update([1,4,5,6,7]) # 한번에 여러개 \n",
    "s"
   ]
  },
  {
   "cell_type": "code",
   "execution_count": null,
   "metadata": {},
   "outputs": [],
   "source": [
    "s.discard(3)\n",
    "s"
   ]
  },
  {
   "cell_type": "code",
   "execution_count": null,
   "metadata": {},
   "outputs": [],
   "source": [
    "s.clear()\n",
    "s"
   ]
  },
  {
   "cell_type": "code",
   "execution_count": null,
   "metadata": {},
   "outputs": [],
   "source": [
    "# union, intersection, difference (합집합, 교집합, 차집합 지원해 줌)\n",
    "s1 = set([1,2,3,4,5])\n",
    "s2 = set([3,4,5,6,7])\n",
    "s1.union(s2)"
   ]
  },
  {
   "cell_type": "code",
   "execution_count": null,
   "metadata": {},
   "outputs": [],
   "source": [
    "s1 | s2"
   ]
  },
  {
   "cell_type": "code",
   "execution_count": null,
   "metadata": {},
   "outputs": [],
   "source": [
    "s1.intersection(s2)"
   ]
  },
  {
   "cell_type": "code",
   "execution_count": null,
   "metadata": {},
   "outputs": [],
   "source": [
    "s1 & s2"
   ]
  },
  {
   "cell_type": "code",
   "execution_count": null,
   "metadata": {},
   "outputs": [],
   "source": [
    "s1.difference(s2)"
   ]
  },
  {
   "cell_type": "code",
   "execution_count": null,
   "metadata": {},
   "outputs": [],
   "source": [
    "s2.difference(s1)"
   ]
  },
  {
   "cell_type": "code",
   "execution_count": null,
   "metadata": {},
   "outputs": [],
   "source": [
    "s1-s2"
   ]
  },
  {
   "cell_type": "code",
   "execution_count": null,
   "metadata": {},
   "outputs": [],
   "source": [
    "s2-s1"
   ]
  },
  {
   "cell_type": "code",
   "execution_count": null,
   "metadata": {},
   "outputs": [],
   "source": [
    "# dict : 데이터를 구분지을 수 있는 값(identifier)를 함께 저장\n",
    "# key를 활용해서 value를 관리\n",
    "\n",
    "country_code = {}  # country_code = dict() 도 가능\n",
    "country_code = {\n",
    "    'America': 1,\n",
    "    'Korea' : 82,\n",
    "    'China' : 86,\n",
    "    'Japan' : 81,\n",
    "}\n",
    "country_code"
   ]
  },
  {
   "cell_type": "code",
   "execution_count": null,
   "metadata": {},
   "outputs": [],
   "source": [
    "for dict_items in country_code.items():\n",
    "    print(type(dict_items))"
   ]
  },
  {
   "cell_type": "code",
   "execution_count": null,
   "metadata": {},
   "outputs": [],
   "source": [
    "country_code.keys()"
   ]
  },
  {
   "cell_type": "code",
   "execution_count": null,
   "metadata": {},
   "outputs": [],
   "source": []
  },
  {
   "cell_type": "code",
   "execution_count": null,
   "metadata": {},
   "outputs": [],
   "source": [
    "country_code['Germany'] = 49\n",
    "country_code"
   ]
  },
  {
   "cell_type": "code",
   "execution_count": null,
   "metadata": {},
   "outputs": [],
   "source": [
    "country_code.values()"
   ]
  },
  {
   "cell_type": "code",
   "execution_count": null,
   "metadata": {},
   "outputs": [],
   "source": [
    "country_code.items()"
   ]
  },
  {
   "cell_type": "code",
   "execution_count": null,
   "metadata": {},
   "outputs": [],
   "source": [
    "for k, v in country_code.items():\n",
    "    print('Key : ', k)\n",
    "    print('Value: ', v)"
   ]
  },
  {
   "cell_type": "code",
   "execution_count": null,
   "metadata": {},
   "outputs": [],
   "source": [
    "'Korea' in country_code.keys() # key에 Korea가 있는지 확인"
   ]
  },
  {
   "cell_type": "code",
   "execution_count": null,
   "metadata": {},
   "outputs": [],
   "source": [
    "82 in country_code.values() "
   ]
  },
  {
   "cell_type": "code",
   "execution_count": null,
   "metadata": {},
   "outputs": [],
   "source": [
    "# collections\n",
    "'''\n",
    "from collections import deque, Counter, OrderedDict, defaultdict, namedtuple\n",
    "'''\n"
   ]
  },
  {
   "cell_type": "code",
   "execution_count": null,
   "metadata": {},
   "outputs": [],
   "source": [
    "# deque\n",
    "\n",
    "from collections import deque\n",
    "\n",
    "deque_list = deque()\n",
    "for i in range(5):\n",
    "    deque_list.append(i)\n",
    "print(deque_list)\n",
    "deque_list.appendleft(10)\n",
    "print(deque_list)\n",
    "\n",
    "# linked list의 개념 (rotate, reverse 등 (메모리에 차례대로 입력된 것이 아닌, 유연한 시퀀스형 데이터 표현))"
   ]
  },
  {
   "cell_type": "code",
   "execution_count": null,
   "metadata": {},
   "outputs": [],
   "source": [
    "deque_list.rotate(2)\n",
    "print(deque_list)"
   ]
  },
  {
   "cell_type": "code",
   "execution_count": null,
   "metadata": {},
   "outputs": [],
   "source": [
    "deque_list.rotate(2)\n",
    "print(deque_list)"
   ]
  },
  {
   "cell_type": "code",
   "execution_count": null,
   "metadata": {},
   "outputs": [],
   "source": [
    "print(deque(reversed(deque_list)))"
   ]
  },
  {
   "cell_type": "code",
   "execution_count": null,
   "metadata": {},
   "outputs": [],
   "source": [
    "deque_list.extend([5,6,7])\n",
    "print(deque_list)"
   ]
  },
  {
   "cell_type": "code",
   "execution_count": null,
   "metadata": {},
   "outputs": [],
   "source": [
    "deque_list.extendleft([5,6,7])\n",
    "print(deque_list)"
   ]
  },
  {
   "cell_type": "code",
   "execution_count": null,
   "metadata": {},
   "outputs": [],
   "source": [
    "deque_list.append(100)\n",
    "print(deque_list)"
   ]
  },
  {
   "cell_type": "code",
   "execution_count": null,
   "metadata": {},
   "outputs": [],
   "source": [
    "deque_list.appendleft(500)\n",
    "print(deque_list)"
   ]
  },
  {
   "cell_type": "code",
   "execution_count": null,
   "metadata": {},
   "outputs": [],
   "source": [
    "sorted(deque_list)"
   ]
  },
  {
   "cell_type": "code",
   "execution_count": null,
   "metadata": {},
   "outputs": [],
   "source": [
    "deque_list"
   ]
  },
  {
   "cell_type": "code",
   "execution_count": null,
   "metadata": {},
   "outputs": [],
   "source": [
    "# deque : 효율적 메모리 구조로 처리속도 항상 / 기존 리스트보다 효율적인 자료구조 제공"
   ]
  },
  {
   "cell_type": "code",
   "execution_count": null,
   "metadata": {},
   "outputs": [],
   "source": [
    "def general_list():\n",
    "    just_list = []\n",
    "    for i in range(100):\n",
    "        for j in range(100):\n",
    "            just_list.append(i)\n",
    "            just_list.pop()\n",
    "\n",
    "\n",
    "%timeit general_list()"
   ]
  },
  {
   "cell_type": "code",
   "execution_count": null,
   "metadata": {},
   "outputs": [],
   "source": [
    "from collections import deque\n",
    "\n",
    "def deque_list():\n",
    "    deque_list = deque()\n",
    "    for i in range(100):\n",
    "        for j in range(100):\n",
    "            deque_list.append(i)\n",
    "            deque_list.pop()\n",
    "            \n",
    "%timeit deque_list()\n",
    "    \n",
    "    "
   ]
  },
  {
   "cell_type": "code",
   "execution_count": null,
   "metadata": {},
   "outputs": [],
   "source": [
    "# OrderedDict\n",
    "# Dict와 달리 ***데이터를 입력한 순서대로*** dict로 반환\n",
    "# python 3.6 부터는 보장되어 deprecated 될 것임"
   ]
  },
  {
   "cell_type": "code",
   "execution_count": null,
   "metadata": {},
   "outputs": [],
   "source": [
    "# ***defaultDict****\n",
    "# Dict type의 값에 기본값을 지정, ***신규값 생성 시*** 사용하는 방법\n",
    "d = dict()\n",
    "print(d[\"first\"])"
   ]
  },
  {
   "cell_type": "code",
   "execution_count": null,
   "metadata": {},
   "outputs": [],
   "source": [
    "from collections import defaultdict\n",
    "d = defaultdict(object)  # Default dictionary 생성\n",
    "d['first']"
   ]
  },
  {
   "cell_type": "code",
   "execution_count": null,
   "metadata": {},
   "outputs": [],
   "source": [
    "d = defaultdict(lambda: 0) # 초기값을 정해줍니다.\n",
    "d['first']"
   ]
  },
  {
   "cell_type": "code",
   "execution_count": null,
   "metadata": {},
   "outputs": [],
   "source": [
    "d['second']"
   ]
  },
  {
   "cell_type": "code",
   "execution_count": null,
   "metadata": {},
   "outputs": [],
   "source": [
    "# Counter\n",
    "from collections import Counter\n",
    "c = Counter()\n",
    "c = Counter('gallhead')\n",
    "c"
   ]
  },
  {
   "cell_type": "code",
   "execution_count": null,
   "metadata": {},
   "outputs": [],
   "source": [
    "c.keys()"
   ]
  },
  {
   "cell_type": "code",
   "execution_count": null,
   "metadata": {},
   "outputs": [],
   "source": [
    "c.items()"
   ]
  },
  {
   "cell_type": "code",
   "execution_count": null,
   "metadata": {},
   "outputs": [],
   "source": [
    "c.values()"
   ]
  },
  {
   "cell_type": "code",
   "execution_count": null,
   "metadata": {},
   "outputs": [],
   "source": [
    "# Counter - set의 확장형(연산이 가능하다..)"
   ]
  },
  {
   "cell_type": "code",
   "execution_count": null,
   "metadata": {},
   "outputs": [],
   "source": [
    "#***** namedtuple******\n",
    "# Tuple형태로, Data의 구조체를 저장하는 방법\n",
    "# 저장되는 data의 variable을 사전에 약속\n",
    "\n",
    "from collections import namedtuple\n",
    "Point = namedtuple('Point', ['x', 'y'])\n",
    "p = Point(11, y=22)\n",
    "print(p[0]+p[1])"
   ]
  },
  {
   "cell_type": "code",
   "execution_count": null,
   "metadata": {},
   "outputs": [],
   "source": [
    "x , y = p"
   ]
  },
  {
   "cell_type": "code",
   "execution_count": null,
   "metadata": {},
   "outputs": [],
   "source": [
    "print(x,y)"
   ]
  },
  {
   "cell_type": "code",
   "execution_count": null,
   "metadata": {},
   "outputs": [],
   "source": [
    "print(p.x, p.y)"
   ]
  },
  {
   "cell_type": "code",
   "execution_count": null,
   "metadata": {},
   "outputs": [],
   "source": [
    "print(Point(x=11, y=22))"
   ]
  },
  {
   "cell_type": "code",
   "execution_count": null,
   "metadata": {},
   "outputs": [],
   "source": [
    "# 데이터의 체계를 묶어줄 수 있는 장점이 있음. \n",
    "# DB, 엑셀에서의 장점, 파이썬에서는 클래스를 많이 씀. c에서 쓰기 좋음 "
   ]
  },
  {
   "cell_type": "code",
   "execution_count": null,
   "metadata": {},
   "outputs": [],
   "source": [
    "# pythonic code\n",
    "# 파이썬 스타일의 코딩기법\n",
    "# 파이썬 특유의 문법을 활용하여 효율적으로 코드를 표현\n",
    "# 고급 코드를 작성할 수록 더 많이 필요\n",
    "\n",
    "# for loop 안쓰고, 한줄로 사용하려고 하는 경향"
   ]
  },
  {
   "cell_type": "code",
   "execution_count": null,
   "metadata": {},
   "outputs": [],
   "source": [
    "colors = ['red', 'blue', 'green', 'yellow']\n",
    "result = ''\n",
    "for s in colors : \n",
    "    result += s\n",
    "result"
   ]
  },
  {
   "cell_type": "code",
   "execution_count": null,
   "metadata": {},
   "outputs": [],
   "source": [
    "colors = ['red', 'blue', 'green', 'yellow']\n",
    "result.join(colors)\n",
    "result"
   ]
  },
  {
   "cell_type": "code",
   "execution_count": null,
   "metadata": {},
   "outputs": [],
   "source": [
    "# index\n",
    "'''\n",
    "split & join\n",
    "list comprehension\n",
    "enumerate & zip\n",
    "lambda & map & reduce\n",
    "generator\n",
    "asterisk\n",
    "'''\n",
    "\n",
    "# Why\n",
    "# 남 코드에 대한 이해도 : 많은 개발자들이 python 스타일로 코딩한다.\n",
    "# 효율 : 단순 for loop append 보다 list가 조금 더 빠르다. 익숙해지면 코드도 짧아진다.\n",
    "# 간지 : 잘짜는 것처럼...보임! "
   ]
  },
  {
   "cell_type": "code",
   "execution_count": null,
   "metadata": {},
   "outputs": [],
   "source": [
    "# Split and Join\n",
    "# 어떻게 자를 것인가 ? \n",
    "items = 'zero one two three'.split() # 빈칸을 기준으로 자르기\n",
    "print(items)"
   ]
  },
  {
   "cell_type": "code",
   "execution_count": null,
   "metadata": {},
   "outputs": [],
   "source": [
    "example = 'phthon,java,javascript' # ','를 기준으로 문자열 나누기\n",
    "example.split(',')"
   ]
  },
  {
   "cell_type": "code",
   "execution_count": null,
   "metadata": {},
   "outputs": [],
   "source": [
    "a, b, c = example.split(',')  # list에 있는 각 값을 a,b,c변수로 unpacking"
   ]
  },
  {
   "cell_type": "code",
   "execution_count": null,
   "metadata": {},
   "outputs": [],
   "source": [
    "example = 'teamlab.technology.io'\n",
    "subdomain, domain, tld = example.split('.')\n",
    "print(subdomain, domain, tld)"
   ]
  },
  {
   "cell_type": "code",
   "execution_count": null,
   "metadata": {},
   "outputs": [],
   "source": [
    "# join\n",
    "colors = ['red', 'blue', 'green', 'yellow']\n",
    "\"-\".join(colors)"
   ]
  },
  {
   "cell_type": "code",
   "execution_count": null,
   "metadata": {},
   "outputs": [],
   "source": [
    "a = ''\n",
    "a.join(colors)"
   ]
  },
  {
   "cell_type": "code",
   "execution_count": null,
   "metadata": {},
   "outputs": [],
   "source": [
    "# ****list comprehension****\n",
    "# 리스트를 사용하여 간단히 다른 리스트를 만드는 기법\n",
    "# 포괄적인 리스트\n",
    "# for + append보다 속도가 빠름*\n"
   ]
  },
  {
   "cell_type": "code",
   "execution_count": null,
   "metadata": {},
   "outputs": [],
   "source": [
    "result = []\n",
    "for i in range(10):\n",
    "    result.append(i)\n",
    "\n",
    "result"
   ]
  },
  {
   "cell_type": "code",
   "execution_count": null,
   "metadata": {},
   "outputs": [],
   "source": [
    "result = [i for i in range(10)]\n",
    "result"
   ]
  },
  {
   "cell_type": "code",
   "execution_count": null,
   "metadata": {},
   "outputs": [],
   "source": [
    "result = [i for i in range(10) if i%2 == 0]\n",
    "result"
   ]
  },
  {
   "cell_type": "code",
   "execution_count": null,
   "metadata": {},
   "outputs": [],
   "source": [
    "import pprint"
   ]
  },
  {
   "cell_type": "code",
   "execution_count": null,
   "metadata": {},
   "outputs": [],
   "source": [
    "word_1 = \"Hello\"\n",
    "word_2 = \"World\"\n",
    "result = [i+j for i in word_1 for j in word_2]\n",
    "result"
   ]
  },
  {
   "cell_type": "code",
   "execution_count": null,
   "metadata": {},
   "outputs": [],
   "source": [
    "# filter 개념\n",
    "case_1 = [\"A\",\"B\",\"C\"]\n",
    "case_2 = [\"D\",\"E\",\"A\"]\n",
    "result = [i+j for i in case_1 for j in  case_2]\n",
    "pprint.pprint(result)\n"
   ]
  },
  {
   "cell_type": "code",
   "execution_count": null,
   "metadata": {},
   "outputs": [],
   "source": [
    "result = [i+j for i in case_1 for j in case_2 if not(i==j)]\n",
    "result ## AA가 사라짐 ! (filtered)"
   ]
  },
  {
   "cell_type": "code",
   "execution_count": null,
   "metadata": {},
   "outputs": [],
   "source": [
    "result = [i+j if not(i==j) else 'BEE' for i in case_1 for j in case_2]\n",
    "result"
   ]
  },
  {
   "cell_type": "code",
   "execution_count": null,
   "metadata": {},
   "outputs": [],
   "source": [
    "words = 'The quick brown fox jumps over the lazy dog'.split()\n",
    "print(words)"
   ]
  },
  {
   "cell_type": "code",
   "execution_count": null,
   "metadata": {},
   "outputs": [],
   "source": [
    "stuff = [[w.upper(), w.lower(), len(w)] for w in words]\n",
    "for i in stuff:\n",
    "    print(i)"
   ]
  },
  {
   "cell_type": "code",
   "execution_count": null,
   "metadata": {},
   "outputs": [],
   "source": [
    "pprint.pprint([[w.upper(), w.lower(), len(w)] for w in words])"
   ]
  },
  {
   "cell_type": "code",
   "execution_count": null,
   "metadata": {},
   "outputs": [],
   "source": [
    "# Two dim vs One dim\n",
    "result = [[i+j for i in case_1] for j in case_2] # 뒤에 루프가 먼저(위로)) 돌아요.\n",
    "result\n"
   ]
  },
  {
   "cell_type": "code",
   "execution_count": null,
   "metadata": {},
   "outputs": [],
   "source": [
    "result = [i+j for i in case_1 for j in case_2] # 뒤에 루프가 먼저(위로)) 돌아요.\n",
    "result\n"
   ]
  },
  {
   "cell_type": "code",
   "execution_count": null,
   "metadata": {},
   "outputs": [],
   "source": [
    "# enumerate (열거하다) : list의 element를 추출할 때 번호를 붙여서 추출\n",
    "for i, v in enumerate(['tic', 'tac', 'toe']):\n",
    "    print(i, v)"
   ]
  },
  {
   "cell_type": "code",
   "execution_count": null,
   "metadata": {},
   "outputs": [],
   "source": [
    "for i, v in enumerate('ABC'):\n",
    "    print(\"{0} \\t {1}\".format(i,v))"
   ]
  },
  {
   "cell_type": "code",
   "execution_count": null,
   "metadata": {},
   "outputs": [],
   "source": [
    "my_str = \"ABCD\"\n",
    "{v:i for i, v in enumerate(my_str)}"
   ]
  },
  {
   "cell_type": "code",
   "execution_count": null,
   "metadata": {},
   "outputs": [],
   "source": [
    "text = \"Samsung Group is a South Korean multinational conglomerate headquartered in Samsung Town, Seoul, South Korea.\"\n",
    "{i : v.lower() for i, v in enumerate(text.split())}"
   ]
  },
  {
   "cell_type": "code",
   "execution_count": null,
   "metadata": {},
   "outputs": [],
   "source": [
    "set_text = list(set(text.split()))"
   ]
  },
  {
   "cell_type": "code",
   "execution_count": null,
   "metadata": {},
   "outputs": [],
   "source": [
    "{i : v.lower() for i, v in enumerate(set_text)}"
   ]
  },
  {
   "cell_type": "code",
   "execution_count": null,
   "metadata": {},
   "outputs": [],
   "source": [
    "{v.lower() :i  for i, v in enumerate(set_text)}"
   ]
  },
  {
   "cell_type": "code",
   "execution_count": null,
   "metadata": {},
   "outputs": [],
   "source": [
    "# zip : 두개의 리스트를 병렬적으로 추출함\n",
    "alist= ['a1','a2','a3']\n",
    "blist= ['b1','b2','b3']\n",
    "\n",
    "[[a,b] for a,b in zip(alist, blist)]\n",
    "\n",
    "\n"
   ]
  },
  {
   "cell_type": "code",
   "execution_count": null,
   "metadata": {},
   "outputs": [],
   "source": [
    "[c for c in zip(alist, blist)]  # tuple로 뽑아진다.\n"
   ]
  },
  {
   "cell_type": "code",
   "execution_count": null,
   "metadata": {},
   "outputs": [],
   "source": [
    "math = (100, 90, 80)\n",
    "kor = (90, 80, 70)\n",
    "eng = (90, 80, 70)\n",
    "\n",
    "[sum(value) / 3 for value in zip(math, kor, eng)]"
   ]
  },
  {
   "cell_type": "code",
   "execution_count": null,
   "metadata": {},
   "outputs": [],
   "source": [
    "zip(alist, blist)"
   ]
  },
  {
   "cell_type": "code",
   "execution_count": null,
   "metadata": {},
   "outputs": [],
   "source": [
    "list(zip(alist,blist))"
   ]
  },
  {
   "cell_type": "code",
   "execution_count": null,
   "metadata": {},
   "outputs": [],
   "source": [
    "list(enumerate(zip(alist,blist)))"
   ]
  },
  {
   "cell_type": "code",
   "execution_count": null,
   "metadata": {},
   "outputs": [],
   "source": [
    "# 같은 위치에 있는 값들을 뽑아주기 수월하다.\n",
    "\n"
   ]
  },
  {
   "cell_type": "code",
   "execution_count": null,
   "metadata": {},
   "outputs": [],
   "source": []
  },
  {
   "cell_type": "code",
   "execution_count": null,
   "metadata": {},
   "outputs": [],
   "source": [
    "# ** lambda, map, reduce **\n",
    "# lambda : 함수 이름 없이, 함수처럼 쓸 수 있는 익명함수\n",
    "# 수학의 람다 대수에서 유래함.\n",
    "\n",
    "def f(x, y):\n",
    "    return x+y\n",
    "\n",
    "print(f(1,4))"
   ]
  },
  {
   "cell_type": "code",
   "execution_count": null,
   "metadata": {},
   "outputs": [],
   "source": [
    "f = (lambda x,y : x+y)\n",
    "f(1,4)"
   ]
  },
  {
   "cell_type": "code",
   "execution_count": null,
   "metadata": {},
   "outputs": [],
   "source": [
    "(lambda x,y : x+y)(1,4)"
   ]
  },
  {
   "cell_type": "code",
   "execution_count": null,
   "metadata": {},
   "outputs": [],
   "source": [
    "up_low = lambda x : x.upper()+x.lower()\n",
    "up_low(\"My Happy\")"
   ]
  },
  {
   "cell_type": "code",
   "execution_count": null,
   "metadata": {},
   "outputs": [],
   "source": [
    "joini = lambda x : \"-\".join(x.split())\n",
    "joini(\"My Happy\")"
   ]
  },
  {
   "cell_type": "code",
   "execution_count": null,
   "metadata": {},
   "outputs": [],
   "source": [
    "# lambda :\n",
    "# 테스트의 어려움, docstring 지원 미비, 어려운 문법, 이름이 없다. --하지만 많이 쓴다.\n"
   ]
  },
  {
   "cell_type": "code",
   "execution_count": null,
   "metadata": {},
   "outputs": [],
   "source": [
    "# map : 두개 이상의 List에 적용 가능, if filter도 가능 \n",
    "\n",
    "def f(x):\n",
    "    return x+5\n",
    "\n",
    "ex = [1,2,3,4,5]\n",
    "list(map(f, ex))\n"
   ]
  },
  {
   "cell_type": "code",
   "execution_count": null,
   "metadata": {},
   "outputs": [],
   "source": [
    "g = lambda x: x**2\n",
    "\n",
    "list(map(g, ex))"
   ]
  },
  {
   "cell_type": "code",
   "execution_count": null,
   "metadata": {},
   "outputs": [],
   "source": [
    "g = lambda x, y: x+y\n",
    "list(map(g, ex, ex))\n"
   ]
  },
  {
   "cell_type": "code",
   "execution_count": null,
   "metadata": {},
   "outputs": [],
   "source": [
    "# 실행시점의 값을 생성, 메모리의 효율적\n",
    "# 단점 : 사용자가 이해하기 어려워서..\n",
    "# list comprehension을 쓰는게 더 낫지 않냐..\n",
    "\n",
    "list(map(lambda x: x**2 if x%2 ==0 else x, ex))"
   ]
  },
  {
   "cell_type": "code",
   "execution_count": null,
   "metadata": {},
   "outputs": [],
   "source": [
    "# reduce function : map function과 달리 list에 똑같은 함수를 적용해서 통합\n",
    "\n",
    "from functools import reduce\n",
    "print(reduce(lambda x, y : x+y, [1,2,3,4,5])) # 통합을할때.. 대용량 데이터를 다룰 때 ....!!@!@"
   ]
  },
  {
   "cell_type": "code",
   "execution_count": null,
   "metadata": {},
   "outputs": [],
   "source": [
    "# 직관성이 떨어지나, 레거시, 머신러닝 코드에서는 여전히 사용하는 중이다. \n"
   ]
  },
  {
   "cell_type": "code",
   "execution_count": null,
   "metadata": {},
   "outputs": [],
   "source": [
    "# iterable object\n",
    "# Seq 자료형에서 데이터를 순서대로 추출하는 Object\n",
    "# 내부적으로 __iter__, __next__가 사용됨\n",
    "\n",
    "cities = [\"Seoul\", \"Busan\", \"Jeju\"]\n",
    "\n",
    "iter_obj = iter(cities)\n",
    "\n",
    "print(next(iter_obj))\n",
    "print(next(iter_obj))\n",
    "print(next(iter_obj))\n",
    "next(iter_obj)"
   ]
  },
  {
   "cell_type": "code",
   "execution_count": null,
   "metadata": {},
   "outputs": [],
   "source": [
    "memory_address_cities = iter(cities) # 주소값을 가져옴 (다음의 위치를 가지고 있음)\n",
    "memory_address_cities"
   ]
  },
  {
   "cell_type": "code",
   "execution_count": null,
   "metadata": {},
   "outputs": [],
   "source": [
    "next(memory_address_cities)"
   ]
  },
  {
   "cell_type": "code",
   "execution_count": null,
   "metadata": {},
   "outputs": [],
   "source": [
    "next(memory_address_cities)"
   ]
  },
  {
   "cell_type": "code",
   "execution_count": null,
   "metadata": {},
   "outputs": [],
   "source": [
    "next(memory_address_cities)"
   ]
  },
  {
   "cell_type": "code",
   "execution_count": null,
   "metadata": {},
   "outputs": [],
   "source": [
    "next(memory_address_cities)"
   ]
  },
  {
   "cell_type": "code",
   "execution_count": null,
   "metadata": {},
   "outputs": [],
   "source": [
    "# generator ! \n",
    "# iterable object를 특수한 형태로 사용해주는 함수\n",
    "# element가 사용되는 시점에 값을 메모리에 반환\n",
    "# yield를 사용해 한번에 하나의 element를 반환\n",
    "\n",
    "def general_list(value):\n",
    "    result = []\n",
    "    for i in range(value):\n",
    "        result.append(i)\n",
    "    return result"
   ]
  },
  {
   "cell_type": "code",
   "execution_count": null,
   "metadata": {},
   "outputs": [],
   "source": [
    "def generator_list(value):\n",
    "    result = []\n",
    "    for i in range(value):\n",
    "        yield i # 실제 사용하는 시점에서 값이 호출됩니다. 그 전에는 주소만! \n",
    "        # 메모리 절약 가능"
   ]
  },
  {
   "cell_type": "code",
   "execution_count": null,
   "metadata": {},
   "outputs": [],
   "source": [
    "general_list(10)"
   ]
  },
  {
   "cell_type": "code",
   "execution_count": null,
   "metadata": {},
   "outputs": [],
   "source": [
    "generator_list(10)"
   ]
  },
  {
   "cell_type": "code",
   "execution_count": null,
   "metadata": {},
   "outputs": [],
   "source": [
    "import sys\n",
    "result = general_list(10)\n",
    "sys.getsizeof(result)"
   ]
  },
  {
   "cell_type": "code",
   "execution_count": null,
   "metadata": {},
   "outputs": [],
   "source": [
    "import sys\n",
    "result = generator_list(10)\n",
    "sys.getsizeof(result)"
   ]
  },
  {
   "cell_type": "code",
   "execution_count": null,
   "metadata": {},
   "outputs": [],
   "source": [
    "# generator 쓰는 것을 일반적으로 권장. 용량 절약이 가능"
   ]
  },
  {
   "cell_type": "code",
   "execution_count": null,
   "metadata": {},
   "outputs": [],
   "source": [
    "# generator comprehension\n",
    "gen_ex = (n*n for n in range(500))\n",
    "print(type(gen_ex))"
   ]
  },
  {
   "cell_type": "code",
   "execution_count": null,
   "metadata": {},
   "outputs": [],
   "source": [
    "list(gen_ex)"
   ]
  },
  {
   "cell_type": "code",
   "execution_count": null,
   "metadata": {},
   "outputs": [],
   "source": [
    "from sys import getsizeof\n",
    "\n",
    "gen_ex = (n*n for n in range(5000))\n",
    "print(getsizeof(gen_ex))\n",
    "\n",
    "print(getsizeof(list(gen_ex)))\n",
    "\n",
    "list_ex = [n*n for n in range(5000)]\n",
    "print(getsizeof(list_ex))"
   ]
  },
  {
   "cell_type": "code",
   "execution_count": null,
   "metadata": {},
   "outputs": [],
   "source": [
    "gen_ex"
   ]
  },
  {
   "cell_type": "code",
   "execution_count": null,
   "metadata": {},
   "outputs": [],
   "source": [
    "# list 타입의 데이터를 반환해주는 함수는 generator로 만들어라\n",
    "# 읽기 쉬운 장점, 중간 과정에서 LOOp 중단가능성\n",
    "# 데이터가 커도 처리의 어려움 없고\n",
    "# 파일데이터 처리 시에도 쓰다"
   ]
  },
  {
   "cell_type": "code",
   "execution_count": null,
   "metadata": {},
   "outputs": [],
   "source": [
    "# function passing arguments\n",
    "# 함수에 입력되는 ARguments\n",
    "# 1. keyword Arguments : 함수에 입력되는 PARAMeter의 변수명을 사용, ARGUments를 넘김\n",
    "def print_something(my_name, your_name):\n",
    "    print(\"Hello {0}, My name is {1}\".format(your_name, my_name))\n",
    "    \n",
    "print_something(\"Sungchul\", \"TEAMLAB\")\n",
    "print_something(your_name=\"TEAMLAB\", my_name=\"Sungchul\")  # 순서 상관없음"
   ]
  },
  {
   "cell_type": "code",
   "execution_count": null,
   "metadata": {},
   "outputs": [],
   "source": [
    "# 2. default arguments : Parameter의 기본값을 사용해서 입력하지 않을 경우 기본값 출력\n",
    "def print_something(my_name, your_name=\"TEAMLAB\"):\n",
    "    print(\"Hello {0}, My name is {1}\".format(your_name, my_name))\n",
    "    \n",
    "print_something(\"Sungchul\")\n",
    "print_something(your_name=\"NAVER\", my_name=\"Sungchul\")  # 순서 상관없음\n"
   ]
  },
  {
   "cell_type": "code",
   "execution_count": null,
   "metadata": {},
   "outputs": [],
   "source": [
    "# *** 3. Variable-length asterisk ***\n",
    "# 함수의 parameter가 정해지지 않았다 ?\n",
    "# 다항방정식 ? \n",
    "\n",
    "'''\n",
    "개수가 정해지지 않은 변수를 함수의 parameter로 사용하는법\n",
    "keyword arguments와 함께 추가 가능\n",
    "Asterisk(*) 기호를 사용하여 함수의 parameter를 표시함\n",
    "입력된 값은 tuple type으로 사용할 수 있음\n",
    "가변인자는 오직 한 개만 맨 마지막 parameter위치에 사용가능 \n",
    "'''\n",
    "\n",
    "\n"
   ]
  },
  {
   "cell_type": "code",
   "execution_count": null,
   "metadata": {},
   "outputs": [],
   "source": [
    "def asterisk_test(a, b, *args):\n",
    "    print(type(args))\n",
    "    print(list(args))\n",
    "\n",
    "    return a+b+sum(args)\n",
    "\n",
    "print(asterisk_test(1,2,3,4,5))"
   ]
  },
  {
   "cell_type": "code",
   "execution_count": null,
   "metadata": {},
   "outputs": [],
   "source": [
    "# 키워드 가변인자 : KeyWord Arguments : kwargs : **kwargs\n",
    "'''\n",
    "Parameter 이름을 따로 지정하지 않고 입력하는 방법\n",
    "asterisk(*) 두개를 사용하여 함수의 parameter를 표시함\n",
    "입력된 값은 dicttype 으로 사용할 수 있음\n",
    "가변인자는 오직 한개만 기존 가변인자 다음에 사용 \n",
    "'''"
   ]
  },
  {
   "cell_type": "code",
   "execution_count": null,
   "metadata": {},
   "outputs": [],
   "source": [
    "def kwargs_test_1(**kwargs):\n",
    "    print(kwargs)\n",
    "    print(type(kwargs))\n",
    "    \n",
    "kwargs_test_1(first = 3, second=4, third=5)\n",
    "# 머신러닝 프레임워크에서 정말 많이쓰는 방식이다."
   ]
  },
  {
   "cell_type": "code",
   "execution_count": null,
   "metadata": {},
   "outputs": [],
   "source": [
    "def kwargs_test_3(one, two=3, *args, **kwargs):\n",
    "    print(one+two+sum(args))\n",
    "    print(args)\n",
    "    print(kwargs)\n",
    "    \n",
    "kwargs_test_3(one=10, first=3, second=4, third=5)"
   ]
  },
  {
   "cell_type": "code",
   "execution_count": null,
   "metadata": {},
   "outputs": [],
   "source": [
    "# 순서대로 해야 됨.... 아니면 에러 난다. \n",
    "kwargs_test_3(3,4,5,6,7,8,9, first=3, second=4, third=5)"
   ]
  },
  {
   "cell_type": "code",
   "execution_count": null,
   "metadata": {},
   "outputs": [],
   "source": [
    "# asterisk * \n",
    "# 단순곱셈, 제곱연산, 가변인자\n",
    "\n",
    "# unpacking a container: tuple, dict 의 자료형에 풀어서 넣어줌\n",
    "def asterisk_test(a, *args):\n",
    "    print(a, *args)\n",
    "    print(a, args)\n",
    "    \n",
    "    print(type(args))\n",
    "    "
   ]
  },
  {
   "cell_type": "code",
   "execution_count": null,
   "metadata": {},
   "outputs": [],
   "source": [
    "asterisk_test(1, *(2,3,4,5,6)) # * 을 써서 tuple을 풀어주는 것 : Unpacking\n",
    "asterisk_test(1,2,3,4,5,6)"
   ]
  },
  {
   "cell_type": "code",
   "execution_count": null,
   "metadata": {},
   "outputs": [],
   "source": [
    "print(*[\"1\", \"2\", \"3\", \"4\"])"
   ]
  },
  {
   "cell_type": "code",
   "execution_count": null,
   "metadata": {},
   "outputs": [],
   "source": [
    "a,b,c = ([1,2], [3,4], [5,6])\n",
    "print(a,b,c)"
   ]
  },
  {
   "cell_type": "code",
   "execution_count": null,
   "metadata": {},
   "outputs": [],
   "source": [
    "data = ([1,2], [3,4], [5,6])\n",
    "print(*data) # 괄호 풀어준다."
   ]
  },
  {
   "cell_type": "code",
   "execution_count": null,
   "metadata": {},
   "outputs": [],
   "source": [
    "def asterisk_test(a,b,c,d,):\n",
    "    print(a,b,c,d)\n",
    "\n",
    "data = {'b':1, 'c':2, 'd':3}\n",
    "asterisk_test(10, **data)\n",
    "    "
   ]
  },
  {
   "cell_type": "code",
   "execution_count": null,
   "metadata": {},
   "outputs": [],
   "source": [
    "for data in zip(*([1,2], [3,4], [5,6])):\n",
    "    print(data)"
   ]
  },
  {
   "cell_type": "code",
   "execution_count": null,
   "metadata": {},
   "outputs": [],
   "source": [
    "ex = ([1,2], [3,4], [5,6], [5,6],[5,6])\n",
    "for value in zip(*ex):\n",
    "    print(sum(value))"
   ]
  },
  {
   "cell_type": "code",
   "execution_count": null,
   "metadata": {},
   "outputs": [],
   "source": [
    "for value in zip(ex):\n",
    "    print(value)"
   ]
  },
  {
   "cell_type": "code",
   "execution_count": null,
   "metadata": {},
   "outputs": [],
   "source": [
    "for value in ex:\n",
    "    print(value)"
   ]
  },
  {
   "attachments": {},
   "cell_type": "markdown",
   "metadata": {},
   "source": [
    "## OOP(Object Oriented Programming)"
   ]
  },
  {
   "attachments": {},
   "cell_type": "markdown",
   "metadata": {},
   "source": [
    "객체 지향 프로그래밍\n",
    "- OOP는 설계도에 해당하는 클래스와, 실제 구현체인 인스턴스로 나눔"
   ]
  },
  {
   "attachments": {},
   "cell_type": "markdown",
   "metadata": {},
   "source": [
    "- 붕어빵 틀에서 붕어빵이 나옴."
   ]
  },
  {
   "attachments": {},
   "cell_type": "markdown",
   "metadata": {},
   "source": [
    "### Objects in Python"
   ]
  },
  {
   "attachments": {},
   "cell_type": "markdown",
   "metadata": {},
   "source": [
    "함수의 명에서 사용하던 snake_case가 아닌, CamelCase로 Class 명에 사용함.\n",
    "__는 특수한 예약함수나 변수 그리고 함수명변경(맨글링)으로 사용\n",
    "__main__ __add__ __str__ __eq__\n",
    "\n",
    "ref : https://corikachu.github.io/articles/python/python-magic-method"
   ]
  },
  {
   "cell_type": "code",
   "execution_count": null,
   "metadata": {},
   "outputs": [],
   "source": [
    "# 클래스는 설계도임.\n",
    "class SoccerPlayer(object):  # 예약어 / 이름 / 상속받는 객체명\n",
    "    def __init__(self, name : str, position : str, back_number : int):\n",
    "        # 객체 초기화 예약함수 : 속성정보\n",
    "        self.name = name\n",
    "        self.position = position\n",
    "        self.back_number = back_number\n",
    "        \n",
    "    def __str__(self):\n",
    "        # print문을 찍었을 때 출력되는 함수\n",
    "        return \"Hello, My name is %s. I play in %s in center \" % \\\n",
    "            (self.name, self.position)\n",
    "            \n",
    "    def __add__(self, other):\n",
    "        # magic method : \n",
    "        return self.name + other.name\n",
    "    \n",
    "    def change_back_number(self, new_number):\n",
    "        print(\"선수의 등번호를 변경합니다 : From %d to %d\" %\\\n",
    "            (self.back_number, new_number))\n",
    "        self. back_number = new_number\n",
    "            \n",
    "jinhyun = SoccerPlayer(\"Jinhyun\", \"MF\", 10)\n",
    "print(jinhyun)"
   ]
  },
  {
   "cell_type": "code",
   "execution_count": null,
   "metadata": {},
   "outputs": [],
   "source": [
    "junghoon = SoccerPlayer(\"JH\", \"MF\", 10)\n",
    "ds = SoccerPlayer(\"DS\", \"AT\", 7)"
   ]
  },
  {
   "cell_type": "code",
   "execution_count": null,
   "metadata": {},
   "outputs": [],
   "source": [
    "junghoon + ds"
   ]
  },
  {
   "cell_type": "code",
   "execution_count": null,
   "metadata": {},
   "outputs": [],
   "source": [
    "junghoon.change_back_number(8)"
   ]
  },
  {
   "cell_type": "code",
   "execution_count": null,
   "metadata": {},
   "outputs": [],
   "source": [
    "junghoon.back_number"
   ]
  },
  {
   "cell_type": "code",
   "execution_count": null,
   "metadata": {},
   "outputs": [],
   "source": [
    "junghoon.back_number = 20\n",
    "junghoon.back_number"
   ]
  },
  {
   "cell_type": "code",
   "execution_count": null,
   "metadata": {},
   "outputs": [],
   "source": [
    "print(junghoon)\n",
    "print(ds)"
   ]
  },
  {
   "attachments": {},
   "cell_type": "markdown",
   "metadata": {},
   "source": [
    "클래스의 메소드 : 인스턴스 여부에 따라\n",
    "- static, class 메소드 : 인스턴스 하지 않아도 호출 가능 (@staticmethod, @classmethod) 등\n",
    "- instance 메소드 : 인스턴스화 했을때 만 호출 가능 (예약어 self로 속성에 액세스)\n",
    "\n",
    "self, cls 키워드 의 차이 : 인스턴스/클래스 메소드 타입에 따라... (static메소드는 키워드 없음)\n",
    "속성에 접근하기위한 방법의 차이\n",
    "super"
   ]
  },
  {
   "cell_type": "code",
   "execution_count": null,
   "metadata": {},
   "outputs": [],
   "source": [
    "class MethodTypes:\n",
    "    \n",
    "    name = \"Ragnar\"\n",
    "    \n",
    "    def instanceMethod(self):\n",
    "        # Creates an instance attribute through keword self\n",
    "        self.lastname = \"Lothbrock\"\n",
    "        print(self.name)\n",
    "        print(self.lastname)\n",
    "        \n",
    "    @classmethod\n",
    "    def classMethod(cls):\n",
    "        # Access a class attribute through keword cls\n",
    "        cls.name = \"Lagertha\"\n",
    "        print(cls.name)\n",
    "        \n",
    "    @staticmethod\n",
    "    def staticMethod():\n",
    "        print(\"This is a static method\")\n",
    "# Create an instance of the class\n",
    "\n",
    "m = MethodTypes()\n",
    "# Calls instancee method\n",
    "m.instanceMethod()\n",
    "    \n",
    "MethodTypes.classMethod()\n",
    "MethodTypes.staticMethod()"
   ]
  },
  {
   "attachments": {},
   "cell_type": "markdown",
   "metadata": {},
   "source": [
    "클래스 메소드는 인스턴스 생성이 불필요(cls), @classmethod\n",
    "인스턴스 메소드는 인스턴스 생성 후 속성에 접근(self)\n",
    "스태틱 메소드는 @staticmethod : *** 다른 속성에 액세스하거나 해당 클래스의 다른 메소드를 호출할 수 없음 ***"
   ]
  },
  {
   "cell_type": "code",
   "execution_count": null,
   "metadata": {},
   "outputs": [],
   "source": [
    "# magic method : new\n",
    "\n",
    "class NumBox:\n",
    "    def __new__(cls, *args, **kwargs):\n",
    "        if len(args) < 1:  # 인자가 들어오지 않은 경우\n",
    "            return None  # None을 반환\n",
    "        else:  # 인자가 들어오는 경우\n",
    "                return super(NumBox, cls).__new__(cls)  # object를 반환\n",
    "            \n",
    "    def __init__(self, num=None):\n",
    "        self.num = num  # 받은 인자 num을 인스턴스 변수로 지정\n",
    "        \n",
    "    def __repr__(self):\n",
    "        return str(self.num)\n",
    "    \n",
    "    def __str__(self):\n",
    "        return str(self.num+10)"
   ]
  },
  {
   "cell_type": "code",
   "execution_count": null,
   "metadata": {},
   "outputs": [],
   "source": [
    "a = NumBox()\n",
    "type(a)"
   ]
  },
  {
   "cell_type": "code",
   "execution_count": null,
   "metadata": {},
   "outputs": [],
   "source": [
    "b =NumBox(10)\n",
    "b  ## __repr__"
   ]
  },
  {
   "cell_type": "code",
   "execution_count": null,
   "metadata": {},
   "outputs": [],
   "source": [
    "print(b)  ## __str__ : 구현없으면 __repr__을 불러옴"
   ]
  },
  {
   "attachments": {},
   "cell_type": "markdown",
   "metadata": {},
   "source": [
    "- __repr__(self): 객체를 나타내는 '공식적인' 문자열\n",
    "- __str__(self) : 객체를 나타내는 '비공식적인' 문자열\n",
    "- __bytes__(self): 객체를 나타나는 byte 문자열\n",
    "- __format__(self): 객체를 나타내는 format\n"
   ]
  },
  {
   "cell_type": "code",
   "execution_count": null,
   "metadata": {},
   "outputs": [],
   "source": [
    "class StrBox:\n",
    "    def __init__(self, string):\n",
    "        self.string= string\n",
    "        \n",
    "    def __repr__(self):\n",
    "        return \"A('{}')\".format(self.string)\n",
    "    \n",
    "    def __bytes__(self):\n",
    "        return str.encode(self.string)\n",
    "    \n",
    "    def __format__(self, format):\n",
    "        if format == 'this.string':\n",
    "            return \"This string: {}\".format(self.string)\n",
    "        return self.string"
   ]
  },
  {
   "cell_type": "code",
   "execution_count": null,
   "metadata": {},
   "outputs": [],
   "source": [
    "a = StrBox('Life is short, you need python')"
   ]
  },
  {
   "cell_type": "code",
   "execution_count": null,
   "metadata": {},
   "outputs": [],
   "source": [
    "a"
   ]
  },
  {
   "cell_type": "code",
   "execution_count": null,
   "metadata": {},
   "outputs": [],
   "source": [
    "repr(a)"
   ]
  },
  {
   "cell_type": "code",
   "execution_count": null,
   "metadata": {},
   "outputs": [],
   "source": [
    "str(a)"
   ]
  },
  {
   "cell_type": "code",
   "execution_count": null,
   "metadata": {},
   "outputs": [],
   "source": [
    "bytes(a)"
   ]
  },
  {
   "attachments": {},
   "cell_type": "markdown",
   "metadata": {},
   "source": [
    "# OOP Example\n",
    "- 노트를 정리하는 프로그램\n",
    "- 사용자는 노트에 뭔가를 적을 수 있다.\n",
    "- 노트에는 Content가 있고, 내용을 제거할 수 있다.\n",
    "- 두개의 노트북을 합쳐 하나로 만들 수 있다.\n",
    "- Note는 Notebook에 삽입된다.\n",
    "- Notebook은 Note가 삽입될 때 페이지를 생성하며, 최고 300페이지까지 저장 가능\n",
    "- 300페이지가 넘으면 더이상 노트를 삽입하지 못한다."
   ]
  },
  {
   "cell_type": "code",
   "execution_count": null,
   "metadata": {},
   "outputs": [],
   "source": [
    "# Class Note, Notebook\n",
    "# Class Note\n",
    "\n",
    "\n",
    "class Note(object):\n",
    "    ## variable\n",
    "    # content\n",
    "    def __init__(self, content=None):\n",
    "        self.content = content\n",
    "\n",
    "    ## method\n",
    "    # write content\n",
    "    def write_content(self, content):\n",
    "        self.content = content\n",
    "    # remove all\n",
    "    def remove_all(self):\n",
    "        self.content = \"\"\n",
    "    # note를 하나로 합친다.     \n",
    "    def __add__(self, other):\n",
    "        return self.content + other.content\n",
    "    \n",
    "    def __str__(self):\n",
    "        return self.content\n",
    "         \n",
    "class Notebook():\n",
    "    ## variable\n",
    "    # title\n",
    "    # page_number\n",
    "    # notes\n",
    "    def __init__(self, title):\n",
    "        self.title = title\n",
    "        self.page_number = 1\n",
    "        self.notes = {}\n",
    "    \n",
    "    ## method\n",
    "    # add note\n",
    "    def add_note(self, note, page = 0):\n",
    "        if self.page_number < 300 :\n",
    "            if page == 0:\n",
    "                self.notes[self.page_number] = note\n",
    "                self.page_number += 1\n",
    "            else :\n",
    "                self.notes = {page:note}\n",
    "                self.page_number += 1\n",
    "        else : \n",
    "            print(\"Page가 모두 채워졌습니다.\")\n",
    "\n",
    "    # remove note\n",
    "    def remove_note(self, page_number):\n",
    "        if page_number in self.notes.keys():\n",
    "            return self.notes.pop(page_number)\n",
    "        else:\n",
    "            print(\"해당페이지는 존재하지 않습니다.\")\n",
    "    # get number of note\n",
    "    def get_number_of_note(self):\n",
    "        return len(self.notes.keys())\n",
    "    "
   ]
  },
  {
   "attachments": {},
   "cell_type": "markdown",
   "metadata": {},
   "source": [
    "## .py로 모듈화, 및 실행"
   ]
  },
  {
   "cell_type": "code",
   "execution_count": 1,
   "metadata": {},
   "outputs": [],
   "source": [
    "from teamlab_note import Note\n",
    "from teamlab_note import Notebook"
   ]
  },
  {
   "cell_type": "code",
   "execution_count": 2,
   "metadata": {},
   "outputs": [
    {
     "data": {
      "text/plain": [
       "<teamlab_note.Notebook at 0x107c700a0>"
      ]
     },
     "execution_count": 2,
     "metadata": {},
     "output_type": "execute_result"
    }
   ],
   "source": [
    "my_notebook = Notebook(\"팀랩 강의노동\")\n",
    "my_notebook"
   ]
  },
  {
   "cell_type": "code",
   "execution_count": 3,
   "metadata": {},
   "outputs": [
    {
     "data": {
      "text/plain": [
       "'팀랩 강의노동'"
      ]
     },
     "execution_count": 3,
     "metadata": {},
     "output_type": "execute_result"
    }
   ],
   "source": [
    "my_notebook.title"
   ]
  },
  {
   "cell_type": "code",
   "execution_count": 4,
   "metadata": {},
   "outputs": [
    {
     "name": "stdout",
     "output_type": "stream",
     "text": [
      "노트에 적힌 내용입니다.아 수업하기싫다.\n"
     ]
    }
   ],
   "source": [
    "new_note = Note(\"아 수업하기싫다.\")\n",
    "print(new_note)"
   ]
  },
  {
   "cell_type": "code",
   "execution_count": 5,
   "metadata": {},
   "outputs": [
    {
     "name": "stdout",
     "output_type": "stream",
     "text": [
      "노트에 적힌 내용입니다.파이썬 강의\n"
     ]
    }
   ],
   "source": [
    "new_note2 = Note(\"파이썬 강의\")\n",
    "print(new_note2)"
   ]
  },
  {
   "cell_type": "code",
   "execution_count": 11,
   "metadata": {},
   "outputs": [
    {
     "name": "stdout",
     "output_type": "stream",
     "text": [
      "{1: <teamlab_note.Note object at 0x107c70100>, 100: <teamlab_note.Note object at 0x107c70070>, 3: <teamlab_note.Note object at 0x107c70100>}\n"
     ]
    }
   ],
   "source": [
    "my_notebook.add_note(new_note)"
   ]
  },
  {
   "cell_type": "code",
   "execution_count": 12,
   "metadata": {},
   "outputs": [
    {
     "data": {
      "text/plain": [
       "4"
      ]
     },
     "execution_count": 12,
     "metadata": {},
     "output_type": "execute_result"
    }
   ],
   "source": [
    "my_notebook.page_number"
   ]
  },
  {
   "cell_type": "code",
   "execution_count": 13,
   "metadata": {},
   "outputs": [
    {
     "data": {
      "text/plain": [
       "{1: <teamlab_note.Note at 0x107c70100>,\n",
       " 100: <teamlab_note.Note at 0x107c70070>,\n",
       " 3: <teamlab_note.Note at 0x107c70100>}"
      ]
     },
     "execution_count": 13,
     "metadata": {},
     "output_type": "execute_result"
    }
   ],
   "source": [
    "my_notebook.notes"
   ]
  },
  {
   "cell_type": "code",
   "execution_count": 14,
   "metadata": {},
   "outputs": [
    {
     "name": "stdout",
     "output_type": "stream",
     "text": [
      "{1: <teamlab_note.Note object at 0x107c70100>, 100: <teamlab_note.Note object at 0x107c70070>, 3: <teamlab_note.Note object at 0x107c70100>}\n"
     ]
    },
    {
     "data": {
      "text/plain": [
       "{1: <teamlab_note.Note at 0x107c70100>,\n",
       " 100: <teamlab_note.Note at 0x107c70070>,\n",
       " 3: <teamlab_note.Note at 0x107c70100>}"
      ]
     },
     "execution_count": 14,
     "metadata": {},
     "output_type": "execute_result"
    }
   ],
   "source": [
    "\n",
    "my_notebook.add_note(new_note2, 100)\n",
    "my_notebook.notes"
   ]
  },
  {
   "cell_type": "code",
   "execution_count": 15,
   "metadata": {},
   "outputs": [
    {
     "data": {
      "text/plain": [
       "5"
      ]
     },
     "execution_count": 15,
     "metadata": {},
     "output_type": "execute_result"
    }
   ],
   "source": [
    "my_notebook.page_number"
   ]
  },
  {
   "cell_type": "code",
   "execution_count": 16,
   "metadata": {},
   "outputs": [
    {
     "name": "stdout",
     "output_type": "stream",
     "text": [
      "노트에 적힌 내용입니다.파이썬 강의\n"
     ]
    }
   ],
   "source": [
    "print(my_notebook.notes[100])"
   ]
  },
  {
   "cell_type": "code",
   "execution_count": 18,
   "metadata": {},
   "outputs": [
    {
     "data": {
      "text/plain": [
       "3"
      ]
     },
     "execution_count": 18,
     "metadata": {},
     "output_type": "execute_result"
    }
   ],
   "source": [
    "my_notebook.get_number_of_note()"
   ]
  },
  {
   "cell_type": "code",
   "execution_count": 20,
   "metadata": {},
   "outputs": [
    {
     "data": {
      "text/plain": [
       "{1: <teamlab_note.Note at 0x107c70100>,\n",
       " 100: <teamlab_note.Note at 0x107c70070>,\n",
       " 3: <teamlab_note.Note at 0x107c70100>,\n",
       " 2: <teamlab_note.Note at 0x107c549a0>}"
      ]
     },
     "execution_count": 20,
     "metadata": {},
     "output_type": "execute_result"
    }
   ],
   "source": [
    "my_notebook.notes[2] = Note(\"안녕\")\n",
    "my_notebook.notes"
   ]
  },
  {
   "cell_type": "code",
   "execution_count": 26,
   "metadata": {},
   "outputs": [
    {
     "name": "stdout",
     "output_type": "stream",
     "text": [
      "노트에 적힌 내용입니다.안녕\n"
     ]
    }
   ],
   "source": [
    "print(my_notebook.notes[2])"
   ]
  },
  {
   "cell_type": "markdown",
   "metadata": {},
   "source": [
    "OOP characteristics"
   ]
  },
  {
   "attachments": {},
   "cell_type": "markdown",
   "metadata": {},
   "source": [
    "객체 지향 언어의 특징 - 실제 세상을 모델링\n",
    "Inheritance(상속), Polymorphism(다형성), Visibility(가시성)\n",
    "\n",
    "굉장히 중요하나, 몰라도 코딩은 할 수 있음.\n",
    "\n",
    "- 상속 : 부모 클래스로부터 속성과 Method를 물려받은 자식 클래스를 생성하는 것"
   ]
  },
  {
   "cell_type": "code",
   "execution_count": 27,
   "metadata": {},
   "outputs": [],
   "source": [
    "class Person(object):\n",
    "    def __init__(self, name, age):\n",
    "        self.name = name\n",
    "        self.age = age\n",
    "    \n",
    "    def __str__(self):\n",
    "        \n",
    "        return \"저의 이름은 {0}입니다. 나이는 {1}입니다.\".format(\n",
    "            self.name, self.age\n",
    "        )"
   ]
  },
  {
   "cell_type": "code",
   "execution_count": 28,
   "metadata": {},
   "outputs": [],
   "source": [
    "class Korean(Person):\n",
    "    pass"
   ]
  },
  {
   "cell_type": "code",
   "execution_count": 29,
   "metadata": {},
   "outputs": [
    {
     "name": "stdout",
     "output_type": "stream",
     "text": [
      "저의 이름은 Sungchul입니다. 나이는 35입니다.\n"
     ]
    }
   ],
   "source": [
    "first_korean = Korean(\"Sungchul\", 35)\n",
    "print(first_korean)"
   ]
  },
  {
   "cell_type": "code",
   "execution_count": 30,
   "metadata": {},
   "outputs": [],
   "source": [
    "class Person:       # object 안 써줘도 초기 상속은 object로 부터 알아서 받음.\n",
    "    def __init__(self, name, age, gender):\n",
    "        self.name = name\n",
    "        self.age = age\n",
    "        self.gender = gender\n",
    "        \n",
    "    def about_me(self):  # Method 선언\n",
    "        print(\"저의 이름은 \", self.name, \"이구요, 제 나이는 \", str(self.age), \"살 입니다.\")\n",
    "        \n",
    "    def __str__(self):\n",
    "        return \"저의 이름은 \", self.name, \"이구요, 제 나이는 \", str(self.age), \"살 입니다.\"    "
   ]
  },
  {
   "cell_type": "code",
   "execution_count": 31,
   "metadata": {},
   "outputs": [],
   "source": [
    "class Employee(Person):     #  부모 클래스 Person으로부터 상속\n",
    "    # super : 부모 객체로부터 속성을 받아옴...\n",
    "    \n",
    "    def __init__(self, name, age, gender, salary, hire_date):\n",
    "        super().__init__(name, age, gender)\n",
    "        self.salary = salary\n",
    "        self.hire_date = hire_date\n",
    "        \n",
    "    def do_work(self):\n",
    "        print(\"열심히 일을 합니다.\")\n",
    "        \n",
    "    def about_me(self):  # 부모클래스 함수 재정의\n",
    "        super().about_me() # 부모 클래스 함수 사용\n",
    "        print(\"제 급여는 \", self.salary, \"원 이구요, 제 입사일은 \", self.hire_date,\" 입니다.\")"
   ]
  },
  {
   "cell_type": "code",
   "execution_count": 32,
   "metadata": {},
   "outputs": [
    {
     "name": "stdout",
     "output_type": "stream",
     "text": [
      "저의 이름은  John 이구요, 제 나이는  34 살 입니다.\n"
     ]
    }
   ],
   "source": [
    "myPerson = Person(\"John\", 34, \"Male\")\n",
    "myPerson.about_me()"
   ]
  },
  {
   "cell_type": "code",
   "execution_count": 33,
   "metadata": {},
   "outputs": [
    {
     "name": "stdout",
     "output_type": "stream",
     "text": [
      "저의 이름은  Daeho 이구요, 제 나이는  34 살 입니다.\n",
      "제 급여는  300000 원 이구요, 제 입사일은  2012/03/01  입니다.\n"
     ]
    }
   ],
   "source": [
    "myEmployee = Employee(\"Daeho\", 34, \"Male\", 300000, \"2012/03/01\")\n",
    "myEmployee.about_me()"
   ]
  },
  {
   "attachments": {},
   "cell_type": "markdown",
   "metadata": {},
   "source": [
    "- 다형성 : 같은 이름의 메소드의 내부 로직을 다르게 작성 (상속, 다르게 사용)\n",
    "- Dynamic Typing 특성으로 인해 파이썬에서는 같은 부모클래스의 상속에서 주로 발생\n",
    "- 중요한 OOP의 개념, 그러나 너무 깊이 알 필요 없음\n",
    "\n",
    "같은 일을 하는데 구현의 방법이 다름.."
   ]
  },
  {
   "cell_type": "code",
   "execution_count": 34,
   "metadata": {},
   "outputs": [],
   "source": [
    "class Animal:\n",
    "    def __init__(self, name):  # Constructor of the class\n",
    "        self.name = name\n",
    "    \n",
    "    def talk(self):  # Abstract method, defined by convention only\n",
    "        raise NotImplementedError(\"Subclass must implement abstract method\")"
   ]
  },
  {
   "cell_type": "code",
   "execution_count": 36,
   "metadata": {},
   "outputs": [],
   "source": [
    "class Cat(Animal):\n",
    "    def talk(self):\n",
    "        return 'Meow!'"
   ]
  },
  {
   "cell_type": "code",
   "execution_count": 37,
   "metadata": {},
   "outputs": [],
   "source": [
    "class Dog(Animal):\n",
    "    def talk(self):\n",
    "        return 'Woof! Woof!'"
   ]
  },
  {
   "cell_type": "code",
   "execution_count": 38,
   "metadata": {},
   "outputs": [],
   "source": [
    "animals = [Cat('Missy'),\n",
    "           Cat('Mr. Mistoffelees'),\n",
    "           Dog('Lassie')]"
   ]
  },
  {
   "cell_type": "code",
   "execution_count": 39,
   "metadata": {},
   "outputs": [
    {
     "name": "stdout",
     "output_type": "stream",
     "text": [
      "Missy: Meow!\n",
      "Mr. Mistoffelees: Meow!\n",
      "Lassie: Woof! Woof!\n"
     ]
    }
   ],
   "source": [
    "for animal in animals:\n",
    "    print(animal.name + ': '+ animal.talk())"
   ]
  },
  {
   "attachments": {},
   "cell_type": "markdown",
   "metadata": {},
   "source": [
    "- 가시성 : 객체의 정보를 볼 수 있는 레벨을 조절하는 것\n",
    "- 누구나 객체 안에 모든 변수를 볼 필요가 없음\n",
    "- 1) 객체를 사용하는 사용자가 임의로 정보 수정\n",
    "- 2) 필요없는 정보에는 접근 할 필요가 없음\n",
    "- 3) 만약 제품으로 판매한다면 ? 소스의 보호"
   ]
  },
  {
   "attachments": {},
   "cell_type": "markdown",
   "metadata": {},
   "source": [
    "Encapsulation : 캡슐화, 또는 정보 은닉\n",
    "\n",
    "Class를 설계 할 때, 클래스 간 간섭/정보공유 최소화\n",
    "\n",
    "심판 클래스 - 축구선수 클래스 가족 정보를 알아야 하나 ?\n",
    "\n",
    "캡슐을 던지듯, 인터페이스를 알아서 써야 함"
   ]
  },
  {
   "attachments": {},
   "cell_type": "markdown",
   "metadata": {},
   "source": [
    "- 예시\n",
    "- Product 객체를 Inventory 객체에 추가\n",
    "- Inventory에는 오직 Product 객체만 들어감\n",
    "- Inventory에 Product가 몇 개인지 확인이 필요\n",
    "- Inventory에 Product items는 직접 접근이 불가"
   ]
  },
  {
   "cell_type": "code",
   "execution_count": 40,
   "metadata": {},
   "outputs": [],
   "source": [
    "class Product(object):\n",
    "    pass"
   ]
  },
  {
   "cell_type": "code",
   "execution_count": 43,
   "metadata": {},
   "outputs": [],
   "source": [
    "class Inventory(object):\n",
    "    def __init__(self):\n",
    "        self.__items = []  # Private 변수 (double underscore) 로 타객체가 접근 못함\n",
    "        self.test = \"abc\"\n",
    "        \n",
    "    def add_new_item(self, product):\n",
    "        if type(product) == Product:\n",
    "            self.__items.append(product)\n",
    "            print(\"new item added\")\n",
    "            \n",
    "        else :\n",
    "            raise ValueError(\"Invalid Item\")\n",
    "        \n",
    "    def get_number_of_items(self):\n",
    "        return len(self.__items)"
   ]
  },
  {
   "cell_type": "code",
   "execution_count": 44,
   "metadata": {},
   "outputs": [
    {
     "name": "stdout",
     "output_type": "stream",
     "text": [
      "new item added\n",
      "new item added\n"
     ]
    },
    {
     "data": {
      "text/plain": [
       "<__main__.Inventory at 0x107c8a670>"
      ]
     },
     "execution_count": 44,
     "metadata": {},
     "output_type": "execute_result"
    }
   ],
   "source": [
    "my_inventory = Inventory()\n",
    "my_inventory.add_new_item(Product())\n",
    "my_inventory.add_new_item(Product())\n",
    "my_inventory"
   ]
  },
  {
   "cell_type": "code",
   "execution_count": 46,
   "metadata": {},
   "outputs": [
    {
     "ename": "AttributeError",
     "evalue": "'Inventory' object has no attribute '__items'",
     "output_type": "error",
     "traceback": [
      "\u001b[0;31m---------------------------------------------------------------------------\u001b[0m",
      "\u001b[0;31mAttributeError\u001b[0m                            Traceback (most recent call last)",
      "Cell \u001b[0;32mIn[46], line 1\u001b[0m\n\u001b[0;32m----> 1\u001b[0m my_inventory\u001b[39m.\u001b[39;49m__items\u001b[39m.\u001b[39mappend(\u001b[39m\"\u001b[39m\u001b[39mabc\u001b[39m\u001b[39m\"\u001b[39m)\n\u001b[1;32m      2\u001b[0m my_inventory\u001b[39m.\u001b[39m__items\n",
      "\u001b[0;31mAttributeError\u001b[0m: 'Inventory' object has no attribute '__items'"
     ]
    }
   ],
   "source": [
    "my_inventory.__items.append(\"abc\") # 접근이 되지 않음. 추가를 하지 못하게 막을 수 있음.\n"
   ]
  },
  {
   "cell_type": "code",
   "execution_count": 47,
   "metadata": {},
   "outputs": [
    {
     "data": {
      "text/plain": [
       "'abcdefg'"
      ]
     },
     "execution_count": 47,
     "metadata": {},
     "output_type": "execute_result"
    }
   ],
   "source": [
    "my_inventory.test += 'defg'\n",
    "my_inventory.test"
   ]
  },
  {
   "cell_type": "code",
   "execution_count": 48,
   "metadata": {},
   "outputs": [
    {
     "data": {
      "text/plain": [
       "2"
      ]
     },
     "execution_count": 48,
     "metadata": {},
     "output_type": "execute_result"
    }
   ],
   "source": [
    "my_inventory.get_number_of_items()"
   ]
  },
  {
   "attachments": {},
   "cell_type": "markdown",
   "metadata": {},
   "source": [
    "Ex 2)\n",
    "- Product 객체를 Inventory 객체에 추가\n",
    "- Inventory에는 오직 Product 객체만 들어감\n",
    "- Inventory에 Product가 몇 개인지 확인이 필요\n",
    "- Inventory에 Product items 접근 허용"
   ]
  },
  {
   "cell_type": "code",
   "execution_count": 53,
   "metadata": {},
   "outputs": [],
   "source": [
    "class Inventory(object):\n",
    "    def __init__(self):\n",
    "        self.__items = []  # Private 변수 (double underscore) 로 타객체가 접근 못함\n",
    "        self.test = \"abc\"\n",
    "        \n",
    "    @property       #property decorator 숨겨진 변수를 반환하게 해줌\n",
    "    # 함수명을 변수명 처럼 쓸 수 있게 해줌. 내부에 있는 객체를 접근할 수 있게 해주는 것\n",
    "    def items(self):\n",
    "        return self.__items\n",
    "\n",
    "    def add_new_item(self, product):\n",
    "        if type(product) == Product:\n",
    "            self.__items.append(product)\n",
    "            print(\"new item added\")\n",
    "            \n",
    "        else :\n",
    "            raise ValueError(\"Invalid Item\")\n",
    "        \n",
    "    def get_number_of_items(self):\n",
    "        return len(self.__items)"
   ]
  },
  {
   "cell_type": "code",
   "execution_count": 50,
   "metadata": {},
   "outputs": [
    {
     "name": "stdout",
     "output_type": "stream",
     "text": [
      "new item added\n",
      "new item added\n"
     ]
    },
    {
     "data": {
      "text/plain": [
       "<__main__.Inventory at 0x107c8a6d0>"
      ]
     },
     "execution_count": 50,
     "metadata": {},
     "output_type": "execute_result"
    }
   ],
   "source": [
    "my_inventory = Inventory()\n",
    "my_inventory.add_new_item(Product())\n",
    "my_inventory.add_new_item(Product())\n",
    "my_inventory"
   ]
  },
  {
   "cell_type": "code",
   "execution_count": 51,
   "metadata": {},
   "outputs": [
    {
     "ename": "AttributeError",
     "evalue": "'Inventory' object has no attribute '__items'",
     "output_type": "error",
     "traceback": [
      "\u001b[0;31m---------------------------------------------------------------------------\u001b[0m",
      "\u001b[0;31mAttributeError\u001b[0m                            Traceback (most recent call last)",
      "Cell \u001b[0;32mIn[51], line 1\u001b[0m\n\u001b[0;32m----> 1\u001b[0m my_inventory\u001b[39m.\u001b[39;49m__items\n",
      "\u001b[0;31mAttributeError\u001b[0m: 'Inventory' object has no attribute '__items'"
     ]
    }
   ],
   "source": [
    "my_inventory.__items"
   ]
  },
  {
   "cell_type": "code",
   "execution_count": 52,
   "metadata": {},
   "outputs": [
    {
     "data": {
      "text/plain": [
       "[<__main__.Product at 0x107c8a070>, <__main__.Product at 0x107c8a790>]"
      ]
     },
     "execution_count": 52,
     "metadata": {},
     "output_type": "execute_result"
    }
   ],
   "source": [
    "my_inventory.items"
   ]
  },
  {
   "cell_type": "code",
   "execution_count": 54,
   "metadata": {},
   "outputs": [],
   "source": [
    "my_inventory.items.append(\"a\")"
   ]
  },
  {
   "cell_type": "code",
   "execution_count": 55,
   "metadata": {},
   "outputs": [
    {
     "name": "stdout",
     "output_type": "stream",
     "text": [
      "[<__main__.Product object at 0x107c8a070>, <__main__.Product object at 0x107c8a790>, 'a']\n"
     ]
    }
   ],
   "source": [
    "print(my_inventory.items)"
   ]
  },
  {
   "attachments": {},
   "cell_type": "markdown",
   "metadata": {},
   "source": [
    "decorate"
   ]
  },
  {
   "attachments": {},
   "cell_type": "markdown",
   "metadata": {},
   "source": [
    "first-class objects\n",
    "\n",
    ": 일등함수 또는 일급 객체\n",
    "\n",
    "변수나 데이터 구조에 할당이 가능한 객체\n",
    "\n",
    "파라메터로 전달이 가능, + 리턴값으로 사용\n",
    "파이썬의 함수는 일급함수 -> 파라메터로, 리턴으로 사용 가능 map(f, ex)\n",
    "\n",
    "inner function\n",
    "\n",
    ": 함수 내에 또 다른 함수가 존재 \n",
    "\n",
    "decorator\n",
    "\n",
    ": "
   ]
  },
  {
   "cell_type": "code",
   "execution_count": 58,
   "metadata": {},
   "outputs": [
    {
     "data": {
      "text/plain": [
       "25"
      ]
     },
     "execution_count": 58,
     "metadata": {},
     "output_type": "execute_result"
    }
   ],
   "source": [
    "def square(x):\n",
    "    return x*x\n",
    "f= square\n",
    "f(5)"
   ]
  },
  {
   "cell_type": "code",
   "execution_count": 59,
   "metadata": {},
   "outputs": [],
   "source": [
    "def cube(x):\n",
    "    return x*x*x\n"
   ]
  },
  {
   "cell_type": "code",
   "execution_count": 60,
   "metadata": {},
   "outputs": [],
   "source": [
    "def formula(method, argument_list):\n",
    "    return [method(value) for value in argument_list]"
   ]
  },
  {
   "cell_type": "code",
   "execution_count": 61,
   "metadata": {},
   "outputs": [
    {
     "data": {
      "text/plain": [
       "[1, 4, 9, 16, 25]"
      ]
     },
     "execution_count": 61,
     "metadata": {},
     "output_type": "execute_result"
    }
   ],
   "source": [
    "formula(square, [1,2,3,4,5])"
   ]
  },
  {
   "cell_type": "code",
   "execution_count": 62,
   "metadata": {},
   "outputs": [
    {
     "data": {
      "text/plain": [
       "[1, 8, 27]"
      ]
     },
     "execution_count": 62,
     "metadata": {},
     "output_type": "execute_result"
    }
   ],
   "source": [
    "formula(cube, [1,2,3])"
   ]
  },
  {
   "cell_type": "code",
   "execution_count": 63,
   "metadata": {},
   "outputs": [
    {
     "name": "stdout",
     "output_type": "stream",
     "text": [
      "Hello, Python\n"
     ]
    }
   ],
   "source": [
    "# inner function\n",
    "\n",
    "def print_msg(msg):\n",
    "    def printer():\n",
    "        print(msg)\n",
    "    printer()\n",
    "    \n",
    "print_msg(\"Hello, Python\")"
   ]
  },
  {
   "cell_type": "code",
   "execution_count": 66,
   "metadata": {},
   "outputs": [
    {
     "name": "stdout",
     "output_type": "stream",
     "text": [
      "Hello, Python\n"
     ]
    }
   ],
   "source": [
    "# closures : inner function을 return값으로 반환\n",
    "\n",
    "another = print_msg(\"Hello, Python\")\n",
    "another"
   ]
  },
  {
   "cell_type": "code",
   "execution_count": 67,
   "metadata": {},
   "outputs": [],
   "source": [
    "# closure example\n",
    "\n",
    "def tag_func(tag, text):\n",
    "    text = text\n",
    "    tag = tag\n",
    "    \n",
    "    def inner_func():\n",
    "        return '<{0}>{1}<{0}>'.format(tag, text)\n",
    "    \n",
    "    return inner_func\n",
    "\n",
    "h1_func = tag_func('title', \"This is Python Class\")\n",
    "p_func = tag_func('p', \"Data Academy\")"
   ]
  },
  {
   "cell_type": "code",
   "execution_count": 76,
   "metadata": {},
   "outputs": [
    {
     "name": "stdout",
     "output_type": "stream",
     "text": [
      "******************************\n",
      "Hello\n",
      "******************************\n"
     ]
    }
   ],
   "source": [
    "# decorator function : 복잡한 클로져 함수를 간단하게 \n",
    "\n",
    "def star(func):\n",
    "    def inner(*args, **kwargs):\n",
    "        print(args[1]*30)\n",
    "        func(*args,**kwargs)\n",
    "        print(args[1]*30)\n",
    "    return inner\n",
    "\n",
    "@star\n",
    "def printer(msg, mark):\n",
    "    print(msg)\n",
    "printer(\"Hello\", \"*\")\n"
   ]
  },
  {
   "cell_type": "code",
   "execution_count": 77,
   "metadata": {},
   "outputs": [
    {
     "name": "stdout",
     "output_type": "stream",
     "text": [
      "&&&&&&&&&&&&&&&&&&&&&&&&&&&&&&\n",
      "HELLO\n",
      "&&&&&&&&&&&&&&&&&&&&&&&&&&&&&&\n"
     ]
    }
   ],
   "source": [
    "printer(\"HELLO\", \"&\")"
   ]
  },
  {
   "cell_type": "code",
   "execution_count": 79,
   "metadata": {},
   "outputs": [
    {
     "name": "stdout",
     "output_type": "stream",
     "text": [
      "******************************\n",
      "%%%%%%%%%%%%%%%%%%%%%%%%%%%%%%\n",
      "Hello\n",
      "%%%%%%%%%%%%%%%%%%%%%%%%%%%%%%\n",
      "******************************\n"
     ]
    }
   ],
   "source": [
    "def star(func):\n",
    "    def inner(*args, **kwargs):\n",
    "        print('*'*30)\n",
    "        func(*args,**kwargs)\n",
    "        print('*'*30)\n",
    "    return inner\n",
    "\n",
    "def percent(func):\n",
    "    def inner(*args, **kwargs):\n",
    "        print('%'*30)\n",
    "        func(*args,**kwargs)\n",
    "        print('%'*30)\n",
    "    return inner\n",
    "\n",
    "\n",
    "\n",
    "@star\n",
    "@percent\n",
    "\n",
    "def printer(msg):\n",
    "    print(msg)\n",
    "printer(\"Hello\")\n"
   ]
  },
  {
   "cell_type": "code",
   "execution_count": 90,
   "metadata": {},
   "outputs": [
    {
     "name": "stdout",
     "output_type": "stream",
     "text": [
      "65536\n"
     ]
    }
   ],
   "source": [
    "def generate_power(exponent):\n",
    "    def wrapper(f):\n",
    "        def inner(*args):\n",
    "            result = f(*args)\n",
    "            return exponent**result\n",
    "        return inner\n",
    "    return wrapper\n",
    "\n",
    "@generate_power(2)\n",
    "def raise_two(n):\n",
    "    return n**2\n",
    "\n",
    "print(raise_two(4))"
   ]
  },
  {
   "attachments": {},
   "cell_type": "markdown",
   "metadata": {},
   "source": [
    "# Module & Project"
   ]
  },
  {
   "cell_type": "code",
   "execution_count": 91,
   "metadata": {},
   "outputs": [],
   "source": [
    "# py파일을 import문을 사용해서 호출 (같은 폴더에 있어야 함! )"
   ]
  },
  {
   "cell_type": "code",
   "execution_count": 93,
   "metadata": {},
   "outputs": [],
   "source": [
    "import module_ex # main 이 아니면 실행되지 않음, 모든 코드가 메모리에 올라가는 걸 방지함 "
   ]
  },
  {
   "attachments": {},
   "cell_type": "markdown",
   "metadata": {},
   "source": [
    "namespace\n",
    "\n",
    "- 모듈 호출 범위 정하는 방법\n",
    "- 모듈 안에는 함수와 클래스 등이 존재 가능\n",
    "- 필요한 내용만 골라서 호출\n",
    "- from, import\n"
   ]
  },
  {
   "cell_type": "code",
   "execution_count": 94,
   "metadata": {},
   "outputs": [
    {
     "name": "stdout",
     "output_type": "stream",
     "text": [
      "106.88000000000001\n"
     ]
    }
   ],
   "source": [
    "# Alias 설정하기 - 모듈명을 별칭으로 써서\n",
    "import fah_converter as fah\n",
    "\n",
    "print(fah.convert_c_to_f(41.6))"
   ]
  },
  {
   "cell_type": "code",
   "execution_count": 95,
   "metadata": {},
   "outputs": [
    {
     "name": "stdout",
     "output_type": "stream",
     "text": [
      "106.88000000000001\n"
     ]
    }
   ],
   "source": [
    "# 모듈에서 특정함수, 클래스만 호출하기\n",
    "from fah_converter import convert_c_to_f\n",
    "print(convert_c_to_f(41.6))"
   ]
  },
  {
   "cell_type": "code",
   "execution_count": 97,
   "metadata": {},
   "outputs": [
    {
     "name": "stdout",
     "output_type": "stream",
     "text": [
      "106.88000000000001\n"
     ]
    }
   ],
   "source": [
    "from fah_converter import *\n",
    "print(convert_c_to_f(41.6))"
   ]
  },
  {
   "cell_type": "code",
   "execution_count": 98,
   "metadata": {},
   "outputs": [
    {
     "data": {
      "text/plain": [
       "23"
      ]
     },
     "execution_count": 98,
     "metadata": {},
     "output_type": "execute_result"
    }
   ],
   "source": [
    "# Built-in Modules\n",
    "# random\n",
    "import random\n",
    "random.randint(1,100)"
   ]
  },
  {
   "cell_type": "code",
   "execution_count": 99,
   "metadata": {},
   "outputs": [
    {
     "data": {
      "text/plain": [
       "time.struct_time(tm_year=2022, tm_mon=12, tm_mday=14, tm_hour=15, tm_min=28, tm_sec=5, tm_wday=2, tm_yday=348, tm_isdst=0)"
      ]
     },
     "execution_count": 99,
     "metadata": {},
     "output_type": "execute_result"
    }
   ],
   "source": [
    "import time\n",
    "time.localtime() # 현재시간"
   ]
  },
  {
   "cell_type": "code",
   "execution_count": 101,
   "metadata": {},
   "outputs": [
    {
     "name": "stdout",
     "output_type": "stream",
     "text": [
      "b'\\n<!doctype html>                          <html lang=\"ko\" data-dark=\"false\"> <head> <meta charset=\"utf-8\"> <title>NAVER</title> <meta http-equiv=\"X-UA-Compatible\" content=\"IE=edge\"> <meta name=\"viewport\" content=\"width=1190\"> <meta name=\"apple-mobile-web-app-title\" content=\"NAVER\"/> <meta name=\"robots\" content=\"index,nofollow\"/> <meta name=\"description\" content=\"\\xeb\\x84\\xa4\\xec\\x9d\\xb4\\xeb\\xb2\\x84 \\xeb\\xa9\\x94\\xec\\x9d\\xb8\\xec\\x97\\x90\\xec\\x84\\x9c \\xeb\\x8b\\xa4\\xec\\x96\\x91\\xed\\x95\\x9c \\xec\\xa0\\x95\\xeb\\xb3\\xb4\\xec\\x99\\x80 \\xec\\x9c\\xa0\\xec\\x9a\\xa9\\xed\\x95\\x9c \\xec\\xbb\\xa8\\xed\\x85\\x90\\xec\\xb8\\xa0\\xeb\\xa5\\xbc \\xeb\\xa7\\x8c\\xeb\\x82\\x98 \\xeb\\xb3\\xb4\\xec\\x84\\xb8\\xec\\x9a\\x94\"/> <meta property=\"og:title\" content=\"\\xeb\\x84\\xa4\\xec\\x9d\\xb4\\xeb\\xb2\\x84\"> <meta property=\"og:url\" content=\"https://www.naver.com/\"> <meta property=\"og:image\" content=\"https://s.pstatic.net/static/www/mobile/edit/2016/0705/mobile_212852414260.png\"> <meta property=\"og:description\" content=\"\\xeb\\x84\\xa4\\xec\\x9d\\xb4\\xeb\\xb2\\x84 \\xeb\\xa9\\x94\\xec\\x9d\\xb8\\xec\\x97\\x90\\xec\\x84\\x9c \\xeb\\x8b\\xa4\\xec\\x96\\x91\\xed\\x95\\x9c \\xec\\xa0\\x95\\xeb\\xb3\\xb4\\xec\\x99\\x80 \\xec\\x9c\\xa0\\xec\\x9a\\xa9\\xed\\x95\\x9c \\xec\\xbb\\xa8\\xed\\x85\\x90\\xec\\xb8\\xa0\\xeb\\xa5\\xbc \\xeb\\xa7\\x8c\\xeb\\x82\\x98 \\xeb\\xb3\\xb4\\xec\\x84\\xb8\\xec\\x9a\\x94\"/> <meta name=\"twitter:card\" content=\"summary\"> <meta name=\"twitter:title\" content=\"\"> <meta name=\"twitter:url\" content=\"https://www.naver.com/\"> <meta name=\"twitter:image\" content=\"https://s.pstatic.net/static/www/mobile/edit/2016/0705/mobile_212852414260.png\"> <meta name=\"twitter:description\" content=\"\\xeb\\x84\\xa4\\xec\\x9d\\xb4\\xeb\\xb2\\x84 \\xeb\\xa9\\x94\\xec\\x9d\\xb8\\xec\\x97\\x90\\xec\\x84\\x9c \\xeb\\x8b\\xa4\\xec\\x96\\x91\\xed\\x95\\x9c \\xec\\xa0\\x95\\xeb\\xb3\\xb4\\xec\\x99\\x80 \\xec\\x9c\\xa0\\xec\\x9a\\xa9\\xed\\x95\\x9c \\xec\\xbb\\xa8\\xed\\x85\\x90\\xec\\xb8\\xa0\\xeb\\xa5\\xbc \\xeb\\xa7\\x8c\\xeb\\x82\\x98 \\xeb\\xb3\\xb4\\xec\\x84\\xb8\\xec\\x9a\\x94\"/>  <link rel=\"stylesheet\" href=\"https://pm.pstatic.net/dist/css/nmain.20221110.css\"> <link rel=\"stylesheet\" href=\"https://ssl.pstatic.net/sstatic/search/pc/css/sp_autocomplete_220526.css\"> <link rel=\"shortcut icon\" type=\"image/x-icon\" href=\"/favicon.ico?1\"/>  <link rel=\"apple-touch-icon\" sizes=\"114x114\" href=\"https://s.pstatic.net/static/www/u/2014/0328/mma_204243574.png\"/> <link rel=\"apple-touch-icon\" href=\"https://s.pstatic.net/static/www/u/2014/0328/mma_20432863.png\"/> <script>window.nmain=window.nmain||{},window.nmain.supportFlicking=!1;var nsc=\"navertop.v4\",ua=navigator.userAgent,useIeJSFlag=\"1\";window.nmain.isIE=\"0\"===useIeJSFlag,document.getElementsByTagName(\"html\")[0].setAttribute(\"data-useragent\",ua),window.nmain.isIE&&(Object.create=function(n){function a(){}return a.prototype=n,new a})</script> <script>var darkmode= false;window.naver_corp_da=window.naver_corp_da||{main:{}},window.naver_corp_da.main=window.naver_corp_da.main||{},window.naver_corp_da.main.darkmode=darkmode,window.gladsdk=window.gladsdk||{cmd:[]},window.gladsdk.cmd.push((function(){window.gladsdk.setHostMeta(\"theme\",darkmode?\"dark\":\"light\")})),window.ndpsdk=window.ndpsdk||{cmd:[],polyfill:{cmd:[]}},window.ndpsdk.cmd.push((function(){window.ndpsdk.setHostMeta(\"theme\",darkmode?\"dark\":\"light\")}))</script>  <script async src=\"https://ssl.pstatic.net/tveta/libs/glad/prod/gfp-core.js\"></script> <script async src=\"https://ssl.pstatic.net/tveta/libs/ndpsdk/prod/ndp-loader.js\"></script>  <script> window.nmain.gv = {  isLogin: false,\\nuseId: null,   daInfo: {\"BEAUTY\":{\"menu\":\"BEAUTY\",\"childMenu\":\"\",\"adType\":\"singleDom\",\"multiDomAdUrl\":\"\",\"multiDomUnit\":\"\",\"infoList\":[{\"adposId\":\"1000163\",\"singleDomAdUrl\":\"https://siape.veta.naver.com/fxshow\",\"param\":{\"da_dom_id\":\"p_main_beauty_1\",\"tb\":\"BEAUTY_1\",\"unit\":\"SU10595\",\"calp\":\"-\"},\"type\":{\"position\":\"abs\",\"positionIndex\":4,\"subject\":\"contents\"},\"dom\":null},{\"adposId\":\"1000164\",\"singleDomAdUrl\":\"https://siape.veta.naver.com/fxshow\",\"param\":{\"da_dom_id\":\"p_main_beauty_2\",\"tb\":\"BEAUTY_1\",\"unit\":\"SU10596\",\"calp\":\"-\"},\"type\":{\"position\":\"abs\",\"positionIndex\":8,\"subject\":\"contents\"},\"dom\":null}]},\"LIVING\":{\"menu\":\"LIVING\",\"childMenu\":\"\",\"adType\":\"singleDom\",\"multiDomAdUrl\":\"\",\"multiDomUnit\":\"\",\"infoList\":[{\"adposId\":\"1000183\",\"singleDomAdUrl\":\"https://siape.veta.naver.com/fxshow\",\"param\":{\"da_dom_id\":\"p_main_living_1\",\"tb\":\"LIVING_1\",\"unit\":\"SU10597\",\"calp\":\"-\"},\"type\":{\"position\":\"abs\",\"positionIndex\":4,\"subject\":\"contents\"},\"dom\":null},{\"adposId\":\"1000184\",\"singleDomAdUrl\":\"https://siape.veta.naver.com/fxshow\",\"param\":{\"da_dom_id\":\"p_main_living_2\",\"tb\":\"LIVING_1\",\"unit\":\"SU10606\",\"calp\":\"-\"},\"type\":{\"position\":\"abs\",\"positionIndex\":8,\"subject\":\"contents\"},\"dom\":null}]},\"LIVINGHOME\":{\"menu\":\"LIVINGHOME\",\"childMenu\":\"\",\"adType\":\"singleDom\",\"multiDomAdUrl\":\"\",\"multiDomUnit\":\"\",\"infoList\":[{\"adposId\":\"1000185\",\"singleDomAdUrl\":\"https://siape.veta.naver.com/fxshow\",\"param\":{\"da_dom_id\":\"p_main_livinghome_1\",\"tb\":\"LIVINGHOME_1\",\"unit\":\"SU10571\",\"calp\":\"-\"},\"type\":{\"position\":\"abs\",\"positionIndex\":4,\"subject\":\"contents\"},\"dom\":null},{\"adposId\":\"1000186\",\"singleDomAdUrl\":\"https://siape.veta.naver.com/fxshow\",\"param\":{\"da_dom_id\":\"p_main_livinghome_2\",\"tb\":\"LIVINGHOME_1\",\"unit\":\"SU10572\",\"calp\":\"-\"},\"type\":{\"position\":\"abs\",\"positionIndex\":8,\"subject\":\"contents\"},\"dom\":null}]}},\\nsvt: 20221214152903,\\n}; </script> <script> window.nmain.newsstand = {\\nrcode: \\'02117107\\',\\nnewsCastSubsInfo: \\'\\',\\nnewsStandSubsInfo: \\'\\'\\n};\\nwindow.etc = {  };\\nwindow.svr = \"<!--cvweb02-->\"; </script> <script src=\"https://ssl.pstatic.net/tveta/libs/assets/js/pc/main/min/pc.veta.core.min.js\" defer=\"defer\"></script>   <script src=\"https://pm.pstatic.net/dist/js/external.2961eaa5.js?o=www\" type=\"text/javascript\" crossorigin=\"anonymous\" defer=\"defer\"></script> <script src=\"https://pm.pstatic.net/dist/js/preload.5fe99fda.js?o=www\" type=\"text/javascript\" crossorigin=\"anonymous\" defer=\"defer\"></script> <script src=\"https://pm.pstatic.net/dist/js/polyfill.f3c68d2d.js?o=www\" type=\"text/javascript\" crossorigin=\"anonymous\" defer=\"defer\"></script>  <script src=\"https://pm.pstatic.net/dist/js/vendors~more~nmain~notice~search~sidebar_notice.40da85e0.js?o=www\" type=\"text/javascript\" crossorigin=\"anonymous\" defer=\"defer\"></script>   <script src=\"https://pm.pstatic.net/dist/js/search.607b49e4.js?o=www\" type=\"text/javascript\" crossorigin=\"anonymous\" defer=\"defer\"></script>  <script src=\"https://pm.pstatic.net/dist/js/vendors~more~nmain~sidebar_notice.7aad5e27.js?o=www\" type=\"text/javascript\" crossorigin=\"anonymous\" defer=\"defer\"></script> <script src=\"https://pm.pstatic.net/dist/js/nmain.e31af4db.js?o=www\" type=\"text/javascript\" crossorigin=\"anonymous\" defer=\"defer\"></script> <style>:root{color-scheme:light}#_nx_kbd .setkorhelp a{display:none}</style> </head> <body> <div id=\"u_skip\"> <a href=\"#newsstand\"><span>\\xeb\\x89\\xb4\\xec\\x8a\\xa4\\xec\\x8a\\xa4\\xed\\x83\\xa0\\xeb\\x93\\x9c \\xeb\\xb0\\x94\\xeb\\xa1\\x9c\\xea\\xb0\\x80\\xea\\xb8\\xb0</span></a> <a href=\"#themecast\"><span>\\xec\\xa3\\xbc\\xec\\xa0\\x9c\\xeb\\xb3\\x84\\xec\\xba\\x90\\xec\\x8a\\xa4\\xed\\x8a\\xb8 \\xeb\\xb0\\x94\\xeb\\xa1\\x9c\\xea\\xb0\\x80\\xea\\xb8\\xb0</span></a> <a href=\"#timesquare\"><span>\\xed\\x83\\x80\\xec\\x9e\\x84\\xec\\x8a\\xa4\\xed\\x80\\x98\\xec\\x96\\xb4 \\xeb\\xb0\\x94\\xeb\\xa1\\x9c\\xea\\xb0\\x80\\xea\\xb8\\xb0</span></a> <a href=\"#shopcast\"><span>\\xec\\x87\\xbc\\xed\\x95\\x91\\xec\\xba\\x90\\xec\\x8a\\xa4\\xed\\x8a\\xb8 \\xeb\\xb0\\x94\\xeb\\xa1\\x9c\\xea\\xb0\\x80\\xea\\xb8\\xb0</span></a> <a href=\"#account\"><span>\\xeb\\xa1\\x9c\\xea\\xb7\\xb8\\xec\\x9d\\xb8 \\xeb\\xb0\\x94\\xeb\\xa1\\x9c\\xea\\xb0\\x80\\xea\\xb8\\xb0</span></a> </div> <div id=\"wrap\">         \\n<style>._1syGnXOL{padding-right:18px;font-size:14px;line-height:0;letter-spacing:-.25px;color:#000}._1syGnXOL span,._1syGnXOL strong{line-height:49px}._1syGnXOL:before{display:inline-block;content:\"\";vertical-align:top;background-image:url(https://static-whale.pstatic.net/main/sprite-20220513@2x.png);background-repeat:no-repeat;background-size:141px 112px;width:18px;height:18px;margin:16px 8px 0 0;background-position:-98px 0}[data-useragent*=\"MSIE 8\"] ._1syGnXOL:before{background-image:url(https://static-whale.pstatic.net/main/sprite-20220513.png)}._1syGnXOL._3dsvmZg2:before{background-position:-47px -85px}._1syGnXOL._1NBFx1WK:before{width:20px;height:20px;margin:15px 8px 0 0;background-position:-21px -89px}._1syGnXOL._2mcQEKCd:before{width:22px;height:22px;margin:14px 7px 0 0;background-position:-47px -63px}._1syGnXOL._36slsKuJ:before{width:21px;height:49px;margin:0 14px 0 0;background-position:0 -63px}._1syGnXOL._3qlJVWzR:before{width:24px;height:49px;margin:0 10px 0 0;background-position:-117px 0}._1syGnXOL._3di88A4c{padding-right:12px;font-size:17px}._1syGnXOL._3di88A4c:before{content:none}._1syGnXOL ._19K4X1CD{text-decoration:underline}._2aeXMlrb{display:inline-block;position:relative;font-size:12px;height:49px;width:78px;text-decoration:none;color:#fff;font-weight:700;letter-spacing:-.5px;vertical-align:top}._2aeXMlrb span{text-align:center;margin:9px 0;height:31px;display:block;line-height:31px;border-radius:15px}._2aeXMlrb span:before{display:inline-block;content:\"\";vertical-align:top;background-image:url(https://static-whale.pstatic.net/main/sprite-20220513@2x.png);background-repeat:no-repeat;background-size:141px 112px}[data-useragent*=\"MSIE 8\"] ._2aeXMlrb span:before{background-image:url(https://static-whale.pstatic.net/main/sprite-20220513.png)}._2aeXMlrb.BMgpjddw{font-size:11px;width:94px}._2aeXMlrb.BMgpjddw span:before{margin:9px 3px 0 0;width:17px;height:13px;background-position:-89px -63px}._3h-N8T9V{position:absolute;top:0;left:0;right:0;bottom:0;background:rgba(0,0,0,0)}._1KncATpM{display:inline-block;content:\"\";vertical-align:top;background-image:url(https://static-whale.pstatic.net/main/sprite-20220513@2x.png);background-repeat:no-repeat;background-size:141px 112px;margin-top:14px;float:left;width:98px;height:21px;background-position:0 -21px}[data-useragent*=\"MSIE 8\"] ._1KncATpM{background-image:url(https://static-whale.pstatic.net/main/sprite-20220513.png)}._1KncATpM._2v3uxv2x{background-position:0 0}._1KncATpM._1yl_Ow6o{background-position:0 -42px}._20PYt6lT{font-size:11px;height:49px;cursor:pointer;position:absolute;top:0;right:0;color:#666;opacity:.7}._20PYt6lT:after{width:15px;height:15px;margin-left:4px;background-position:-98px -33px;display:inline-block;content:\"\";vertical-align:top;background-image:url(https://static-whale.pstatic.net/main/sprite-20220513@2x.png);background-repeat:no-repeat;background-size:141px 112px}[data-useragent*=\"MSIE 8\"] ._20PYt6lT:after{background-image:url(https://static-whale.pstatic.net/main/sprite-20220513.png)}._20PYt6lT._39oMCV2N:after{background-position:-98px -18px}._20PYt6lT._3MOWOORv{color:#c3c2c2}._20PYt6lT._3MOWOORv:after{background-position:-80px -85px}._20PYt6lT._3wm5EzmJ{color:#fff}._20PYt6lT._3wm5EzmJ:after{background-position:-65px -85px}._1hiMWemA{height:49px}._1hiMWemA .tY_u8r23{position:relative;width:1130px;margin:0 auto}._1hiMWemA .tY_u8r23 a{text-decoration:none}._1hiMWemA._23U_6TM_{position:relative}._1hiMWemA._23U_6TM_:after{position:absolute;z-index:1;content:\"\";display:block;width:100%;height:1px;bottom:0;background-color:rgba(0,0,0,.050980392156862744)}</style>\\n<div\\nid=\"NM_TOP_BANNER\"\\ndata-clk-prefix=\"top\"\\nclass=\"_1hiMWemA\"\\nstyle=\"background-color: #21232b\"\\n>\\n<div class=\"tY_u8r23\">\\n<a\\nclass=\"_3h-N8T9V\"\\nhref=\"https://whale.naver.com/banner/details/darkmode?=main&wpid=RydDy7\"\\ndata-clk=\"dropbanner1b\"\\n></a\\n><i class=\"_1KncATpM _1yl_Ow6o\"><span class=\"blind\">NAVER whale</span></i\\n><img\\nsrc=\"https://static-whale.pstatic.net/main/img_darkmode_v12@2x.png\"\\nwidth=\"200\"\\nheight=\"49\"\\nalt=\"\"\\nstyle=\"padding-left: 100px\"\\n/><span\\nclass=\"_1syGnXOL _3di88A4c\"\\ndata-clk=\"dropbanner1b\"\\nstyle=\"padding-right: 20px; color: white; padding-left: 20px\"\\n><span>\\xeb\\x88\\x88\\xeb\\xb6\\x80\\xec\\x8b\\xac \\xec\\x97\\x86\\xeb\\x8a\\x94 \\xed\\x8e\\xb8\\xec\\x95\\x88~\\xed\\x95\\xa8 </span\\n><strong style=\"color: #22d4ad\">\\xeb\\x82\\xb4\\xea\\xb0\\x80 \\xeb\\x8b\\xa4\\xed\\x81\\xac \\xeb\\xaa\\xa8\\xeb\\x93\\x9c \\xec\\x93\\xb0\\xeb\\x8a\\x94 \\xec\\x9d\\xb4\\xec\\x9c\\xa0</strong></span\\n><a\\nhref=\"https://installer-whale.pstatic.net/downloads/banner/RydDy7/WhaleSetup.exe\"\\nclass=\"_2aeXMlrb BMgpjddw\"\\nid=\"NM_whale_download_btn\"\\ndata-clk=\"dropdownload1b\"\\n><span style=\"background-color: #03bc93\">\\xeb\\x8b\\xa4\\xec\\x9a\\xb4\\xeb\\xa1\\x9c\\xeb\\x93\\x9c</span></a\\n><button\\ntype=\"button\"\\ndata-ui-cookie-exp-days=\"3\"\\ndata-ui-cookie-key=\"NM_TOP_PROMOTION\"\\ndata-ui-cookie-value=\"1\"\\ndata-ui-hide-target=\"#NM_TOP_BANNER\"\\ndata-clk=\"dropclose1b\"\\nclass=\"_20PYt6lT _3wm5EzmJ\"\\n>\\n3\\xec\\x9d\\xbc \\xeb\\x8f\\x99\\xec\\x95\\x88 \\xeb\\xb3\\xb4\\xec\\xa7\\x80 \\xec\\x95\\x8a\\xea\\xb8\\xb0\\n</button>\\n</div>\\n</div>  <div id=\"header\" role=\"banner\">\\n\\n\\n\\n\\n\\n\\n\\n\\n<div class=\"special_bg\">\\n<div class=\"group_flex\">\\n<div class=\"logo_area\">\\n<h1 class=\"logo_default\">\\n<a href=\"/\" class=\"logo_naver\" data-clk=\"top.logo\"\\n><span class=\"blind\">\\xeb\\x84\\xa4\\xec\\x9d\\xb4\\xeb\\xb2\\x84</span></a\\n>\\n</h1>\\n</div>\\n<div class=\"service_area\">\\n<a id=\"NM_set_home_btn\" href=\"https://help.naver.com/support/welcomePage/guide.help\" class=\"link_set\" data-clk=\"top.mkhome\">\\xeb\\x84\\xa4\\xec\\x9d\\xb4\\xeb\\xb2\\x84\\xeb\\xa5\\xbc \\xec\\x8b\\x9c\\xec\\x9e\\x91\\xed\\x8e\\x98\\xec\\x9d\\xb4\\xec\\xa7\\x80\\xeb\\xa1\\x9c</a>\\n<i class=\"sa_bar\"></i>\\n<a href=\"https://jr.naver.com\" class=\"link_jrnaver\" data-clk=\"top.jrnaver\"><i class=\"ico_jrnaver\"></i><span class=\"blind\">\\xec\\xa5\\xac\\xeb\\x8b\\x88\\xec\\x96\\xb4\\xeb\\x84\\xa4\\xec\\x9d\\xb4\\xeb\\xb2\\x84</span></a>\\n<a href=\"https://happybean.naver.com\" class=\"link_happybin\" data-clk=\"top.happybean\"><i class=\"ico_happybin\"></i><span class=\"blind\">\\xed\\x95\\xb4\\xed\\x94\\xbc\\xeb\\xb9\\x88</span></a>\\n</div>\\n\\n<div id=\"search\" class=\"search_area\" data-clk-prefix=\"sch\">\\n<form id=\"sform\" name=\"sform\" action=\"https://search.naver.com/search.naver\" method=\"get\" role=\"search\">\\n<fieldset>\\n<legend class=\"blind\">\\xea\\xb2\\x80\\xec\\x83\\x89</legend>\\n<select id=\"where\" name=\"where\" title=\"\\xea\\xb2\\x80\\xec\\x83\\x89 \\xeb\\xb2\\x94\\xec\\x9c\\x84 \\xec\\x84\\xa0\\xed\\x83\\x9d\" class=\"blind\">\\n<option value=\"nexearch\" selected=\"selected\">\\xed\\x86\\xb5\\xed\\x95\\xa9\\xea\\xb2\\x80\\xec\\x83\\x89</option><option value=\"post\">\\xeb\\xb8\\x94\\xeb\\xa1\\x9c\\xea\\xb7\\xb8</option><option value=\"cafeblog\">\\xec\\xb9\\xb4\\xed\\x8e\\x98</option><option value=\"cafe\">- \\xec\\xb9\\xb4\\xed\\x8e\\x98\\xeb\\xaa\\x85</option><option value=\"article\">- \\xec\\xb9\\xb4\\xed\\x8e\\x98\\xea\\xb8\\x80</option><option value=\"kin\">\\xec\\xa7\\x80\\xec\\x8b\\x9diN</option><option value=\"news\">\\xeb\\x89\\xb4\\xec\\x8a\\xa4</option><option value=\"web\">\\xec\\x82\\xac\\xec\\x9d\\xb4\\xed\\x8a\\xb8</option><option value=\"category\">- \\xec\\xb9\\xb4\\xed\\x85\\x8c\\xea\\xb3\\xa0\\xeb\\xa6\\xac</option><option value=\"site\">- \\xec\\x82\\xac\\xec\\x9d\\xb4\\xed\\x8a\\xb8</option><option value=\"movie\">\\xec\\x98\\x81\\xed\\x99\\x94</option><option value=\"webkr\">\\xec\\x9b\\xb9\\xeb\\xac\\xb8\\xec\\x84\\x9c</option><option value=\"dic\">\\xec\\x82\\xac\\xec\\xa0\\x84</option><option value=\"100\">- \\xeb\\xb0\\xb1\\xea\\xb3\\xbc\\xec\\x82\\xac\\xec\\xa0\\x84</option><option value=\"endic\">- \\xec\\x98\\x81\\xec\\x96\\xb4\\xec\\x82\\xac\\xec\\xa0\\x84</option><option value=\"eedic\">- \\xec\\x98\\x81\\xec\\x98\\x81\\xec\\x82\\xac\\xec\\xa0\\x84</option><option value=\"krdic\">- \\xea\\xb5\\xad\\xec\\x96\\xb4\\xec\\x82\\xac\\xec\\xa0\\x84</option><option value=\"jpdic\">- \\xec\\x9d\\xbc\\xeb\\xb3\\xb8\\xec\\x96\\xb4\\xec\\x82\\xac\\xec\\xa0\\x84</option><option value=\"hanja\">- \\xed\\x95\\x9c\\xec\\x9e\\x90\\xec\\x82\\xac\\xec\\xa0\\x84</option><option value=\"terms\">- \\xec\\x9a\\xa9\\xec\\x96\\xb4\\xec\\x82\\xac\\xec\\xa0\\x84</option><option value=\"book\">\\xec\\xb1\\x85</option><option value=\"music\">\\xec\\x9d\\x8c\\xec\\x95\\x85</option><option value=\"doc\">\\xec\\xa0\\x84\\xeb\\xac\\xb8\\xec\\x9e\\x90\\xeb\\xa3\\x8c</option><option value=\"shop\">\\xec\\x87\\xbc\\xed\\x95\\x91</option><option value=\"local\">\\xec\\xa7\\x80\\xec\\x97\\xad</option><option value=\"video\">\\xeb\\x8f\\x99\\xec\\x98\\x81\\xec\\x83\\x81</option><option value=\"image\">\\xec\\x9d\\xb4\\xeb\\xaf\\xb8\\xec\\xa7\\x80</option><option value=\"mypc\">\\xeb\\x82\\xb4PC</option><optgroup label=\"\\xec\\x8a\\xa4\\xeb\\xa7\\x88\\xed\\x8a\\xb8 \\xed\\x8c\\x8c\\xec\\x9d\\xb8\\xeb\\x8d\\x94\"><option value=\"movie\">\\xec\\x98\\x81\\xed\\x99\\x94</option><option value=\"auto\">\\xec\\x9e\\x90\\xeb\\x8f\\x99\\xec\\xb0\\xa8</option><option value=\"game\">\\xea\\xb2\\x8c\\xec\\x9e\\x84</option><option value=\"health\">\\xea\\xb1\\xb4\\xea\\xb0\\x95</option><option value=\"people\">\\xec\\x9d\\xb8\\xeb\\xac\\xbc</option></optgroup><optgroup label=\"\\xeb\\x84\\xa4\\xec\\x9d\\xb4\\xeb\\xb2\\x84 \\xeb\\x9e\\xa9\"><option>\\xea\\xb8\\x8d\\xec\\xa0\\x95\\xeb\\xb6\\x80\\xec\\xa0\\x95\\xea\\xb2\\x80\\xec\\x83\\x89</option></optgroup>\\n</select>\\n<input type=\"hidden\" id=\"sm\" name=\"sm\" value=\"top_hty\" />\\n<input type=\"hidden\" id=\"fbm\" name=\"fbm\" value=\"0\" />\\n<input type=\"hidden\" id=\"acr\" name=\"acr\" value=\"\" disabled=\"disabled\" />\\n<input type=\"hidden\" id=\"acq\" name=\"acq\" value=\"\" disabled=\"disabled\" />\\n<input type=\"hidden\" id=\"qdt\" name=\"qdt\" value=\"\" disabled=\"disabled\" />\\n<input type=\"hidden\" id=\"ie\" name=\"ie\" value=\"utf8\" />\\n<input type=\"hidden\" id=\"acir\" name=\"acir\" value=\"\" disabled=\"disabled\" />\\n<input type=\"hidden\" id=\"os\" name=\"os\" value=\"\" disabled=\"disabled\" />\\n<input type=\"hidden\" id=\"bid\" name=\"bid\" value=\"\" disabled=\"disabled\" />\\n<input type=\"hidden\" id=\"pkid\" name=\"pkid\" value=\"\" disabled=\"disabled\" />\\n<input type=\"hidden\" id=\"eid\" name=\"eid\" value=\"\" disabled=\"disabled\" />\\n<input type=\"hidden\" id=\"mra\" name=\"mra\" value=\"\" disabled=\"disabled\" />\\n\\n\\n\\n<div class=\"green_window\" style=\\'\\'>\\n<!-- [AU] data-atcmp-element \\xec\\x97\\x90 \\xed\\x95\\xb4\\xeb\\x8b\\xb9\\xed\\x95\\x98\\xeb\\x8a\\x94 attribute\\xeb\\xa5\\xbc \\xec\\xb6\\x94\\xea\\xb0\\x80\\xed\\x95\\xb4\\xec\\xa3\\xbc\\xec\\x84\\xb8\\xec\\x9a\\x94. -->\\n<input id=\"query\" name=\"query\" type=\"text\" title=\"\\xea\\xb2\\x80\\xec\\x83\\x89\\xec\\x96\\xb4 \\xec\\x9e\\x85\\xeb\\xa0\\xa5\" maxlength=\"255\" class=\"input_text\" tabindex=\"1\" accesskey=\"s\" style=\"ime-mode:active;\" autocomplete=\"off\"  placeholder=\"\\xea\\xb2\\x80\\xec\\x83\\x89\\xec\\x96\\xb4\\xeb\\xa5\\xbc \\xec\\x9e\\x85\\xeb\\xa0\\xa5\\xed\\x95\\xb4 \\xec\\xa3\\xbc\\xec\\x84\\xb8\\xec\\x9a\\x94.\" onclick=\"document.getElementById(\\'fbm\\').value=1;\" value=\"\" data-atcmp-element>\\n</div>\\n<button id=\"search_btn\" type=\"submit\" title=\"\\xea\\xb2\\x80\\xec\\x83\\x89\" tabindex=\"3\" class=\"btn_submit\" onclick=\"window.nclick(this,\\'sch.action\\',\\'\\',\\'\\',event);\" style=\\'\\'>\\n<span class=\"blind\">\\xea\\xb2\\x80\\xec\\x83\\x89</span>\\n<span class=\"ico_search_submit\"></span>\\n</button>\\n</fieldset>\\n</form>\\n<!-- \\xed\\x95\\x9c\\xea\\xb8\\x80\\xec\\x9e\\x85\\xeb\\xa0\\xa5\\xea\\xb8\\xb0 -->\\n<a href=\"#\" id=\"ke_kbd_btn\" role=\"button\" class=\"btn_keyboard\" onclick=\"return false;\"><span class=\"blind\">\\xed\\x95\\x9c\\xea\\xb8\\x80 \\xec\\x9e\\x85\\xeb\\xa0\\xa5\\xea\\xb8\\xb0</span><span class=\"ico_keyboard\"></span></a>\\n<div id=\"_nx_kbd\" style=\"display:none;\"></div>\\n<div class=\"autocomplete\">\\n<!-- \\xec\\x9e\\x90\\xeb\\x8f\\x99\\xec\\x99\\x84\\xec\\x84\\xb1 \\xec\\x97\\xb4\\xeb\\xa6\\xb0 \\xea\\xb2\\xbd\\xec\\x9a\\xb0 fold \\xed\\x81\\xb4\\xeb\\x9e\\x98\\xec\\x8a\\xa4 \\xec\\xb6\\x94\\xea\\xb0\\x80, \\xeb\\x94\\xa4\\xeb\\x93\\x9c\\xec\\x9d\\xb8 \\xea\\xb2\\xbd\\xec\\x9a\\xb0 dim \\xec\\xb6\\x94\\xea\\xb0\\x80 -->\\n<a href=\"#\" role=\"button\" id=\"nautocomplete\" tabindex=\"2\" class=\"btn_arw _btn_arw fold\" aria-pressed=\"false\" data-atcmp-element><span class=\"blind\">\\xec\\x9e\\x90\\xeb\\x8f\\x99\\xec\\x99\\x84\\xec\\x84\\xb1 \\xeb\\xa0\\x88\\xec\\x9d\\xb4\\xec\\x96\\xb4</span><span class=\"ico_arr\"></span></a>\\n</div>\\n<!-- \\xec\\x9e\\x90\\xeb\\x8f\\x99\\xec\\x99\\x84\\xec\\x84\\xb1\\xeb\\xa0\\x88\\xec\\x9d\\xb4\\xec\\x96\\xb4 -->\\n<div id=\"autoFrame\" class=\"reatcmp\" style=\"display: none;\">\\n<!-- [AU] data-atcmp-element attribute\\xeb\\xa5\\xbc \\xec\\xb6\\x94\\xea\\xb0\\x80\\xed\\x95\\xb4\\xec\\xa3\\xbc\\xec\\x84\\xb8\\xec\\x9a\\x94. -->\\n<div class=\"ly_atcmp\" data-atcmp-element>\\n<div class=\"api_atcmp_wrap\">\\n<!-- \\xec\\xb5\\x9c\\xea\\xb7\\xbc\\xea\\xb2\\x80\\xec\\x83\\x89\\xec\\x96\\xb4 -->\\n<!-- [AU] _recent_layer \\xed\\x81\\xb4\\xeb\\x9e\\x98\\xec\\x8a\\xa4\\xeb\\xa5\\xbc \\xec\\xb6\\x94\\xea\\xb0\\x80\\xed\\x95\\xb4\\xec\\xa3\\xbc\\xec\\x84\\xb8\\xec\\x9a\\x94. -->\\n<div class=\"atcmp_fixer _recent_layer\" style=\"display:none;\">\\n<!-- [AU] _recent_header \\xed\\x81\\xb4\\xeb\\x9e\\x98\\xec\\x8a\\xa4\\xeb\\xa5\\xbc \\xec\\xb6\\x94\\xea\\xb0\\x80\\xed\\x95\\xb4\\xec\\xa3\\xbc\\xec\\x84\\xb8\\xec\\x9a\\x94. -->\\n<div class=\"atcmp_header _recent_header\">\\n<strong class=\"tit\">\\xec\\xb5\\x9c\\xea\\xb7\\xbc\\xea\\xb2\\x80\\xec\\x83\\x89\\xec\\x96\\xb4</strong>\\n<div class=\"option\">\\n<!-- [AU] _delAll \\xed\\x81\\xb4\\xeb\\x9e\\x98\\xec\\x8a\\xa4\\xeb\\xa5\\xbc \\xec\\xb6\\x94\\xea\\xb0\\x80\\xed\\x95\\xb4\\xec\\xa3\\xbc\\xec\\x84\\xb8\\xec\\x9a\\x94. -->\\n<a role=\"button\" href=\"#\" class=\"item _delAll\" aria-pressed=\"false\">\\xec\\xa0\\x84\\xec\\xb2\\xb4\\xec\\x82\\xad\\xec\\xa0\\x9c</a>\\n</div>\\n</div>\\n<div class=\"atcmp_container\">\\n<!-- [AU] _recent \\xed\\x81\\xb4\\xeb\\x9e\\x98\\xec\\x8a\\xa4\\xeb\\xa5\\xbc \\xec\\xb6\\x94\\xea\\xb0\\x80\\xed\\x95\\xb4\\xec\\xa3\\xbc\\xec\\x84\\xb8\\xec\\x9a\\x94. -->\\n<ul class=\"kwd_lst _recent\">\\n<!-- \\xec\\xb5\\x9c\\xea\\xb7\\xbc\\xea\\xb2\\x80\\xec\\x83\\x89\\xec\\x96\\xb4 \\xed\\x85\\x9c\\xed\\x94\\x8c\\xeb\\xa6\\xbf -->\\n<!-- [AU] _item \\xed\\x81\\xb4\\xeb\\x9e\\x98\\xec\\x8a\\xa4\\xeb\\xa5\\xbc \\xec\\xb6\\x94\\xea\\xb0\\x80\\xed\\x95\\xb4\\xec\\xa3\\xbc\\xec\\x84\\xb8\\xec\\x9a\\x94. -->\\n<!-- [AU] data-template-type=\"history\" data-keyword=\"@in_txt@\" attribute\\xeb\\xa5\\xbc \\xec\\xb6\\x94\\xea\\xb0\\x80\\xed\\x95\\xb4\\xec\\xa3\\xbc\\xec\\x84\\xb8\\xec\\x9a\\x94. -->\\n<li class=\"item _item\" data-rank=\"@rank@\" data-template-type=\"history\" data-keyword=\"@in_txt@\">\\n<a href=\"#\" class=\"kwd\">\\n<span class=\"fix\"><span class=\"common_ico_kwd\"><i class=\"imsc ico_search\"></i></span><span>@txt@</span></span>\\n</a>\\n<span class=\"etc\">\\n<em class=\"date\">@date@.</em>\\n<!-- [AU] _del \\xed\\x81\\xb4\\xeb\\x9e\\x98\\xec\\x8a\\xa4\\xeb\\xa5\\xbc \\xec\\xb6\\x94\\xea\\xb0\\x80\\xed\\x95\\xb4\\xec\\xa3\\xbc\\xec\\x84\\xb8\\xec\\x9a\\x94. -->\\n<a href=\"#\" role=\"button\" class=\"bt_item _del\" aria-pressed=\"false\"><i class=\"imsc ico_del\">\\xec\\x82\\xad\\xec\\xa0\\x9c</i></a>\\n</span>\\n</li>\\n</ul>\\n<!-- [D] \\xea\\xb2\\x80\\xec\\x83\\x89\\xec\\x96\\xb4 \\xec\\xa0\\x80\\xec\\x9e\\xa5 \\xea\\xba\\xbc\\xec\\xa7\\x84 \\xea\\xb2\\xbd\\xec\\x9a\\xb0 atcmp_fixer\\xec\\x97\\x90 type_off \\xec\\xb6\\x94\\xea\\xb0\\x80 -->\\n<!-- [AU] _offMsg \\xed\\x81\\xb4\\xeb\\x9e\\x98\\xec\\x8a\\xa4\\xeb\\xa5\\xbc \\xec\\xb6\\x94\\xea\\xb0\\x80\\xed\\x95\\xb4\\xec\\xa3\\xbc\\xec\\x84\\xb8\\xec\\x9a\\x94. -->\\n<div class=\"kwd_info kwd_off _offMsg\" style=\"display: none;\">\\xea\\xb2\\x80\\xec\\x83\\x89\\xec\\x96\\xb4 \\xec\\xa0\\x80\\xec\\x9e\\xa5 \\xea\\xb8\\xb0\\xeb\\x8a\\xa5\\xec\\x9d\\xb4 \\xea\\xba\\xbc\\xec\\xa0\\xb8 \\xec\\x9e\\x88\\xec\\x8a\\xb5\\xeb\\x8b\\x88\\xeb\\x8b\\xa4.<br><span class=\"kwd_dsc\">\\xec\\x84\\xa4\\xec\\xa0\\x95\\xec\\x9d\\xb4 \\xec\\xb4\\x88\\xea\\xb8\\xb0\\xed\\x99\\x94 \\xeb\\x90\\x9c\\xeb\\x8b\\xa4\\xeb\\xa9\\xb4 <a href=\"https://help.naver.com/support/alias/search/word/word_29.naver\" class=\"kwd_help\" data-clk=\"sly.help\" target=\"_blank\">\\xeb\\x8f\\x84\\xec\\x9b\\x80\\xeb\\xa7\\x90</a>\\xec\\x9d\\x84 \\xed\\x99\\x95\\xec\\x9d\\xb8\\xed\\x95\\xb4\\xec\\xa3\\xbc\\xec\\x84\\xb8\\xec\\x9a\\x94.</span></div>\\n<!-- [D] \\xea\\xb2\\x80\\xec\\x83\\x89\\xec\\x96\\xb4 \\xeb\\x82\\xb4\\xec\\x97\\xad \\xec\\x97\\x86\\xeb\\x8a\\x94 \\xea\\xb2\\xbd\\xec\\x9a\\xb0 atcmp_fixer\\xec\\x97\\x90 type_off \\xec\\xb6\\x94\\xea\\xb0\\x80 -->\\n<!-- [AU] _recentNone \\xed\\x81\\xb4\\xeb\\x9e\\x98\\xec\\x8a\\xa4\\xeb\\xa5\\xbc \\xec\\xb6\\x94\\xea\\xb0\\x80\\xed\\x95\\xb4\\xec\\xa3\\xbc\\xec\\x84\\xb8\\xec\\x9a\\x94. -->\\n<div class=\"kwd_info kwd_none _recentNone\" style=\"display: none;\">\\xec\\xb5\\x9c\\xea\\xb7\\xbc \\xea\\xb2\\x80\\xec\\x83\\x89\\xec\\x96\\xb4 \\xeb\\x82\\xb4\\xec\\x97\\xad\\xec\\x9d\\xb4 \\xec\\x97\\x86\\xec\\x8a\\xb5\\xeb\\x8b\\x88\\xeb\\x8b\\xa4.<br><span class=\"kwd_dsc\">\\xec\\x84\\xa4\\xec\\xa0\\x95\\xec\\x9d\\xb4 \\xec\\xb4\\x88\\xea\\xb8\\xb0\\xed\\x99\\x94 \\xeb\\x90\\x9c\\xeb\\x8b\\xa4\\xeb\\xa9\\xb4 <a href=\"https://help.naver.com/support/alias/search/word/word_29.naver\" class=\"kwd_help\" data-clk=\"sly.help\" target=\"_blank\">\\xeb\\x8f\\x84\\xec\\x9b\\x80\\xeb\\xa7\\x90</a>\\xec\\x9d\\x84 \\xed\\x99\\x95\\xec\\x9d\\xb8\\xed\\x95\\xb4\\xec\\xa3\\xbc\\xec\\x84\\xb8\\xec\\x9a\\x94.</span></div>\\n</div>\\n<div class=\"atcmp_footer\">\\n<span class=\"side_opt_area\">\\n<span class=\"opt_item\"><a href=\"https://help.naver.com/support/service/main.help?serviceNo=605&amp;categoryNo=1991\" data-clk=\"sly.help\" target=\"_blank\">\\xeb\\x8f\\x84\\xec\\x9b\\x80\\xeb\\xa7\\x90</a></span>\\n</span>\\n<span class=\"rside_opt_area\">\\n<span class=\"opt_item\">\\n<!-- [AU] _keywordOnOff \\xed\\x81\\xb4\\xeb\\x9e\\x98\\xec\\x8a\\xa4\\xeb\\xa5\\xbc \\xec\\xb6\\x94\\xea\\xb0\\x80\\xed\\x95\\xb4\\xec\\xa3\\xbc\\xec\\x84\\xb8\\xec\\x9a\\x94. -->\\n<a href=\"#\" class=\"close _keywordOnOff\">\\xec\\x9e\\x90\\xeb\\x8f\\x99\\xec\\xa0\\x80\\xec\\x9e\\xa5 \\xeb\\x81\\x84\\xea\\xb8\\xb0</a>\\n</span>\\n</span>\\n</div>\\n</div>\\n<!-- \\xec\\x9e\\x90\\xeb\\x8f\\x99\\xec\\x99\\x84\\xec\\x84\\xb1 -->\\n<!-- [AU] _atcmp_layer \\xed\\x81\\xb4\\xeb\\x9e\\x98\\xec\\x8a\\xa4\\xeb\\xa5\\xbc \\xec\\xb6\\x94\\xea\\xb0\\x80\\xed\\x95\\xb4\\xec\\xa3\\xbc\\xec\\x84\\xb8\\xec\\x9a\\x94. -->\\n<div class=\"atcmp_fixer _atcmp_layer\" style=\"display:none;\">\\n<!-- [AU] _words \\xed\\x81\\xb4\\xeb\\x9e\\x98\\xec\\x8a\\xa4\\xeb\\xa5\\xbc \\xec\\xb6\\x94\\xea\\xb0\\x80\\xed\\x95\\xb4\\xec\\xa3\\xbc\\xec\\x84\\xb8\\xec\\x9a\\x94. -->\\n<div class=\"atcmp_container _words\">\\n<!-- \\xec\\xa0\\x95\\xeb\\x8b\\xb5\\xed\\x98\\x95 \\xed\\x85\\x9c\\xed\\x94\\x8c\\xeb\\xa6\\xbf : \\xeb\\xa1\\x9c\\xeb\\x98\\x90\\xeb\\x8b\\xb9\\xec\\xb2\\xa8\\xeb\\xb2\\x88\\xed\\x98\\xb8 -->\\n<!-- [AU] _answer \\xed\\x81\\xb4\\xeb\\x9e\\x98\\xec\\x8a\\xa4\\xeb\\xa5\\xbc \\xec\\xb6\\x94\\xea\\xb0\\x80\\xed\\x95\\xb4\\xec\\xa3\\xbc\\xec\\x84\\xb8\\xec\\x9a\\x94. -->\\n<!-- [AU] data-template-type=\"answer_3\" data-code=\"@code@\" data-keyword=\"@1@\" attribute\\xeb\\xa5\\xbc \\xec\\xb6\\x94\\xea\\xb0\\x80\\xed\\x95\\xb4\\xec\\xa3\\xbc\\xec\\x84\\xb8\\xec\\x9a\\x94. -->\\n<div class=\"atcmp_correct type_lotto _answer\" data-template-type=\"answer_3\" data-code=\"@code@\" data-keyword=\"@1@\">\\n<a href=\"#\" class=\"link_item\">\\n<span class=\"common_ico_kwd\"><i class=\"imsc ico_search\"></i></span>\\n<div class=\"dsc_area\">\\n<span class=\"tit\">@5@\\xed\\x9a\\x8c\\xec\\xb0\\xa8 \\xeb\\x8b\\xb9\\xec\\xb2\\xa8\\xeb\\xb2\\x88\\xed\\x98\\xb8</span>\\n<span class=\"dsc\">\\n<span class=\"item\">\\xec\\xb6\\x94\\xec\\xb2\\xa8 @13@.</span><span class=\"item\">\\xec\\xa7\\x80\\xea\\xb8\\x89\\xea\\xb8\\xb0\\xed\\x95\\x9c 1\\xeb\\x85\\x84</span>\\n</span>\\n</div>\\n<span class=\"etc_area\">\\n<span class=\"etc lotto\">\\n<em class=\"n@6@\">@6@</em><em class=\"n@7@\">@7@</em><em class=\"n@8@\">@8@</em><em class=\"n@9@\">@9@</em><em class=\"n@10@\">@10@</em><em class=\"n@11@\">@11@</em><em class=\"imsc_bf bonus n@12@\">@12@</em>\\n</span>\\n</span>\\n</a>\\n</div>\\n<!-- \\xec\\xa0\\x95\\xeb\\x8b\\xb5\\xed\\x98\\x95 \\xed\\x85\\x9c\\xed\\x94\\x8c\\xeb\\xa6\\xbf : \\xed\\x99\\x98\\xec\\x9c\\xa8 -->\\n<!-- [AU] _answer \\xed\\x81\\xb4\\xeb\\x9e\\x98\\xec\\x8a\\xa4\\xeb\\xa5\\xbc \\xec\\xb6\\x94\\xea\\xb0\\x80\\xed\\x95\\xb4\\xec\\xa3\\xbc\\xec\\x84\\xb8\\xec\\x9a\\x94. -->\\n<!-- [AU] data-template-type=\"answer_9\" data-code=\"@code@\" data-keyword=\"@1@\" attribute\\xeb\\xa5\\xbc \\xec\\xb6\\x94\\xea\\xb0\\x80\\xed\\x95\\xb4\\xec\\xa3\\xbc\\xec\\x84\\xb8\\xec\\x9a\\x94. -->\\n<div class=\"atcmp_correct type_exchange _answer\" data-template-type=\"answer_9\" data-code=\"@code@\" data-keyword=\"@1@\">\\n<!-- [D] \\xec\\x83\\x81\\xec\\x8a\\xb9 up, \\xed\\x95\\x98\\xeb\\x9d\\xbd down \\xec\\xb6\\x94\\xea\\xb0\\x80 -->\\n<a href=\"#\" class=\"link_item @11@\">\\n<!-- [D] \\xea\\xb5\\xad\\xea\\xb0\\x80\\xeb\\xb3\\x84 class \\xea\\xb0\\x80\\xeb\\x82\\x98\\xeb\\x8b\\xa4\\xec\\x88\\x9c\\nZAR \\xeb\\x82\\xa8\\xec\\x95\\x84\\xed\\x94\\x84\\xeb\\xa6\\xac\\xec\\xb9\\xb4 \\xea\\xb3\\xb5\\xed\\x99\\x94\\xea\\xb5\\xad\\nNPR \\xeb\\x84\\xa4\\xed\\x8c\\x94\\nNOK \\xeb\\x85\\xb8\\xeb\\xa5\\xb4\\xec\\x9b\\xa8\\xec\\x9d\\xb4\\nNZD \\xeb\\x89\\xb4\\xec\\xa7\\x88\\xeb\\x9e\\x9c\\xeb\\x93\\x9c\\nTWD \\xeb\\x8c\\x80\\xeb\\xa7\\x8c\\nDKK \\xeb\\x8d\\xb4\\xeb\\xa7\\x88\\xed\\x81\\xac\\nRUB \\xeb\\x9f\\xac\\xec\\x8b\\x9c\\xec\\x95\\x84\\nMOP \\xeb\\xa7\\x88\\xec\\xb9\\xb4\\xec\\x98\\xa4\\nMYR \\xeb\\xa7\\x90\\xeb\\xa0\\x88\\xec\\x9d\\xb4\\xec\\x8b\\x9c\\xec\\x95\\x84\\nMXN \\xeb\\xa9\\x95\\xec\\x8b\\x9c\\xec\\xbd\\x94\\nMNT \\xeb\\xaa\\xbd\\xea\\xb3\\xa8\\nUSD \\xeb\\xaf\\xb8\\xea\\xb5\\xad\\nBHD \\xeb\\xb0\\x94\\xeb\\xa0\\x88\\xec\\x9d\\xb8\\nBDT \\xeb\\xb0\\xa9\\xea\\xb8\\x80\\xeb\\x9d\\xbc\\xeb\\x8d\\xb0\\xec\\x8b\\x9c\\nVND \\xeb\\xb2\\xa0\\xed\\x8a\\xb8\\xeb\\x82\\xa8\\nBRL \\xeb\\xb8\\x8c\\xeb\\x9d\\xbc\\xec\\xa7\\x88\\nSAR \\xec\\x82\\xac\\xec\\x9a\\xb0\\xeb\\x94\\x94\\xec\\x95\\x84\\xeb\\x9d\\xbc\\xeb\\xb9\\x84\\xec\\x95\\x84\\nSEK \\xec\\x8a\\xa4\\xec\\x9b\\xa8\\xeb\\x8d\\xb4\\nCHF \\xec\\x8a\\xa4\\xec\\x9c\\x84\\xec\\x8a\\xa4\\nSGD \\xec\\x8b\\xb1\\xea\\xb0\\x80\\xed\\x8f\\xac\\xeb\\xa5\\xb4\\nAED \\xec\\x95\\x84\\xeb\\x9e\\x8d\\xec\\x97\\x90\\xeb\\xaf\\xb8\\xeb\\xa6\\xac\\xed\\x8a\\xb8\\nGBP \\xec\\x98\\x81\\xea\\xb5\\xad\\nEUR \\xec\\x9c\\xa0\\xeb\\x9f\\xbd\\xec\\x97\\xb0\\xed\\x95\\xa9\\nILS \\xec\\x9d\\xb4\\xec\\x8a\\xa4\\xeb\\x9d\\xbc\\xec\\x97\\x98\\nEGP \\xec\\x9d\\xb4\\xec\\xa7\\x91\\xed\\x8a\\xb8\\nINR \\xec\\x9d\\xb8\\xeb\\x8f\\x84\\nIDR \\xec\\x9d\\xb8\\xeb\\x8f\\x84\\xeb\\x84\\xa4\\xec\\x8b\\x9c\\xec\\x95\\x84\\nJPY \\xec\\x9d\\xbc\\xeb\\xb3\\xb8\\nCNY \\xec\\xa4\\x91\\xea\\xb5\\xad\\nCZK \\xec\\xb2\\xb4\\xec\\xbd\\x94\\nCLP \\xec\\xb9\\xa0\\xeb\\xa0\\x88\\nKZT \\xec\\xb9\\xb4\\xec\\x9e\\x90\\xed\\x9d\\x90\\xec\\x8a\\xa4\\xed\\x83\\x84\\nQAR \\xec\\xb9\\xb4\\xed\\x83\\x80\\xeb\\xa5\\xb4\\nCAD \\xec\\xba\\x90\\xeb\\x82\\x98\\xeb\\x8b\\xa4\\nKWD \\xec\\xbf\\xa0\\xec\\x9b\\xa8\\xec\\x9d\\xb4\\xed\\x8a\\xb8\\nTHB \\xed\\x83\\x9c\\xea\\xb5\\xad\\nTRY \\xed\\x84\\xb0\\xed\\x82\\xa4\\nPKR \\xed\\x8c\\x8c\\xed\\x82\\xa4\\xec\\x8a\\xa4\\xed\\x83\\x84\\nPLN \\xed\\x8f\\xb4\\xeb\\x9e\\x80\\xeb\\x93\\x9c\\nPHP \\xed\\x95\\x84\\xeb\\xa6\\xac\\xed\\x95\\x80\\nHUF \\xed\\x97\\x9d\\xea\\xb0\\x80\\xeb\\xa6\\xac\\nAUD \\xed\\x98\\xb8\\xec\\xa3\\xbc\\nHKD \\xed\\x99\\x8d\\xec\\xbd\\xa9\\n-->\\n<span class=\"common_ico_kwd\"><i class=\"imsc ico @12@\">@14@</i></span>\\n<div class=\"dsc_area\">\\n<span class=\"tit\">@txt@<span class=\"sub\">@currency@</span></span>\\n<span class=\"dsc\">\\n<span class=\"item\"><i class=\"imsc ico_arr\"></i>@8@(@9@%)</span>\\n</span>\\n</div>\\n<span class=\"etc_area\">\\n<span class=\"etc\"><em class=\"num\">@6@</em>\\xec\\x9b\\x90</span>\\n</span>\\n</a>\\n</div>\\n<!-- \\xec\\xa0\\x95\\xeb\\x8b\\xb5\\xed\\x98\\x95 \\xed\\x85\\x9c\\xed\\x94\\x8c\\xeb\\xa6\\xbf : \\xeb\\x82\\xa0\\xec\\x94\\xa8(\\xea\\xb5\\xad\\xeb\\x82\\xb411, \\xed\\x95\\xb4\\xec\\x99\\xb812) -->\\n<!-- [AU] _answer \\xed\\x81\\xb4\\xeb\\x9e\\x98\\xec\\x8a\\xa4\\xeb\\xa5\\xbc \\xec\\xb6\\x94\\xea\\xb0\\x80\\xed\\x95\\xb4\\xec\\xa3\\xbc\\xec\\x84\\xb8\\xec\\x9a\\x94. -->\\n<!-- [AU] data-template-type=\"answer_11\" data-code=\"@code@\" data-keyword=\"@1@\" attribute\\xeb\\xa5\\xbc \\xec\\xb6\\x94\\xea\\xb0\\x80\\xed\\x95\\xb4\\xec\\xa3\\xbc\\xec\\x84\\xb8\\xec\\x9a\\x94. -->\\n<div class=\"atcmp_correct type_weather _answer\" data-template-type=\"answer_11\" data-code=\"@code@\" data-keyword=\"@1@\">\\n<!-- [D] \\xec\\x83\\x81\\xec\\x8a\\xb9 up, \\xed\\x95\\x98\\xeb\\x9d\\xbd down \\xec\\xb6\\x94\\xea\\xb0\\x80 -->\\n<a href=\"#\" class=\"link_item @12@\">\\n<span class=\"common_ico_kwd\"><i class=\"imsc ico_search\"></i></span>\\n<div class=\"dsc_area\">\\n<span class=\"tit\">@txt@</span>\\n<span class=\"dsc\">\\n<span class=\"item\">@7@, @message@</span>\\n</span>\\n</div>\\n<span class=\"etc_area\">\\n<span class=\"etc\">\\n<!-- [D] \\xeb\\x82\\xa0\\xec\\x94\\xa8\\xeb\\xb3\\x84 class\\nico1 \\xeb\\xa7\\x91\\xec\\x9d\\x8c(\\xeb\\x82\\xae)\\nico2 \\xeb\\xa7\\x91\\xec\\x9d\\x8c(\\xeb\\xb0\\xa4)\\nico3 \\xea\\xb5\\xac\\xeb\\xa6\\x84\\xec\\xa1\\xb0\\xea\\xb8\\x88(\\xeb\\x82\\xae)\\nico4 \\xea\\xb5\\xac\\xeb\\xa6\\x84\\xec\\xa1\\xb0\\xea\\xb8\\x88(\\xeb\\xb0\\xa4)\\nico5 \\xea\\xb5\\xac\\xeb\\xa6\\x84\\xeb\\xa7\\x8e\\xec\\x9d\\x8c(\\xeb\\x82\\xae)\\nico6 \\xea\\xb5\\xac\\xeb\\xa6\\x84\\xeb\\xa7\\x8e\\xec\\x9d\\x8c(\\xeb\\xb0\\xa4)\\nico7 \\xed\\x9d\\x90\\xeb\\xa6\\xbc\\nico8 \\xec\\x95\\xbd\\xed\\x95\\x9c\\xeb\\xb9\\x84\\nico9 \\xeb\\xb9\\x84\\nico10 \\xea\\xb0\\x95\\xed\\x95\\x9c\\xeb\\xb9\\x84\\nico11 \\xec\\x95\\xbd\\xed\\x95\\x9c\\xeb\\x88\\x88\\nico12 \\xeb\\x88\\x88\\nico13 \\xea\\xb0\\x95\\xed\\x95\\x9c\\xeb\\x88\\x88\\nico14 \\xec\\xa7\\x84\\xeb\\x88\\x88\\xea\\xb9\\xa8\\xeb\\xb9\\x84\\nico15 \\xec\\x86\\x8c\\xeb\\x82\\x98\\xea\\xb8\\xb0\\nico16 \\xec\\x95\\x88\\xea\\xb0\\x9c\\nico17 \\xec\\x86\\x8c\\xeb\\x82\\x99\\xeb\\x88\\x88\\nico18 \\xeb\\xb2\\x88\\xea\\xb0\\x9c\\xeb\\x87\\x8c\\xec\\x9a\\xb0\\nico19 \\xec\\x9a\\xb0\\xeb\\xb0\\x95\\nico20 \\xed\\x99\\xa9\\xec\\x82\\xac\\nico21 \\xeb\\xb9\\x84\\xeb\\x98\\x90\\xeb\\x8a\\x94\\xeb\\x88\\x88\\nico22 \\xea\\xb0\\x80\\xeb\\x81\\x94\\xeb\\xb9\\x84\\nico23 \\xea\\xb0\\x80\\xeb\\x81\\x94\\xeb\\x88\\x88\\nico24 \\xea\\xb0\\x80\\xeb\\x81\\x94\\xeb\\xb9\\x84\\xeb\\x98\\x90\\xeb\\x8a\\x94\\xeb\\x88\\x88\\nico25 \\xed\\x9d\\x90\\xeb\\xa6\\xb0\\xed\\x9b\\x84\\xea\\xb0\\xac\\nico26 \\xeb\\x87\\x8c\\xec\\x9a\\xb0\\xed\\x9b\\x84\\xea\\xb0\\xac\\nico27 \\xeb\\xb9\\x84\\xed\\x9b\\x84\\xea\\xb0\\xac\\nico28 \\xeb\\x88\\x88\\xed\\x9b\\x84\\xea\\xb0\\xac\\nico29 \\xed\\x9d\\x90\\xeb\\xa0\\xa4\\xec\\xa0\\xb8\\xeb\\xb9\\x84\\nico30 \\xed\\x9d\\x90\\xeb\\xa0\\xa4\\xec\\xa0\\xb8\\xeb\\x88\\x88\\n-->\\n<span class=\"ico_weather\"><i class=\"imsc ico ico@iconNo@\">@7@</i></span>\\n<em class=\"degree\">@8@<sup class=\"celsius\">\\xc2\\xb0</sup></em>\\n</span>\\n</span>\\n</a>\\n</div>\\n<!-- \\xec\\xa0\\x95\\xeb\\x8b\\xb5\\xed\\x98\\x95 \\xed\\x85\\x9c\\xed\\x94\\x8c\\xeb\\xa6\\xbf : \\xec\\x82\\xac\\xec\\x9d\\xb4\\xed\\x8a\\xb8 \\xeb\\xb0\\x94\\xeb\\xa1\\x9c\\xea\\xb0\\x80\\xea\\xb8\\xb0 -->\\n<!-- [AU] _answer \\xed\\x81\\xb4\\xeb\\x9e\\x98\\xec\\x8a\\xa4\\xeb\\xa5\\xbc \\xec\\xb6\\x94\\xea\\xb0\\x80\\xed\\x95\\xb4\\xec\\xa3\\xbc\\xec\\x84\\xb8\\xec\\x9a\\x94. -->\\n<!-- [AU] data-template-type=\"answer_17\" data-code=\"@code@\" data-keyword=\"@1@\" attribute\\xeb\\xa5\\xbc \\xec\\xb6\\x94\\xea\\xb0\\x80\\xed\\x95\\xb4\\xec\\xa3\\xbc\\xec\\x84\\xb8\\xec\\x9a\\x94. -->\\n<div class=\"atcmp_correct type_site _answer\" data-template-type=\"answer_17\" data-code=\"@code@\" data-keyword=\"@1@\">\\n<a href=\"@5@\" class=\"link_item\" target=\"_blank\">\\n<span class=\"common_ico_kwd\"><i class=\"imsc ico_url\"></i></span>\\n<div class=\"dsc_area\">\\n<span class=\"tit\">@txt@</span>\\n<span class=\"dsc\">\\n<span class=\"item\">@5@</span>\\n</span>\\n</div>\\n<span class=\"etc_area\">\\n<span class=\"etc\">\\xeb\\xb0\\x94\\xeb\\xa1\\x9c\\xea\\xb0\\x80\\xea\\xb8\\xb0</span>\\n</span>\\n</a>\\n</div>\\n<!-- [AU] _kwd_list \\xed\\x81\\xb4\\xeb\\x9e\\x98\\xec\\x8a\\xa4\\xeb\\xa5\\xbc \\xec\\xb6\\x94\\xea\\xb0\\x80\\xed\\x95\\xb4\\xec\\xa3\\xbc\\xec\\x84\\xb8\\xec\\x9a\\x94. -->\\n<ul class=\"kwd_lst _kwd_list\">\\n<!-- [AU] \\xec\\x9e\\x90\\xeb\\x8f\\x99\\xec\\x99\\x84\\xec\\x84\\xb1 \\xea\\xb2\\x80\\xec\\x83\\x89\\xec\\x96\\xb4 \\xed\\x85\\x9c\\xed\\x94\\x8c\\xeb\\xa6\\xbf -->\\n<!-- [AU] _item \\xed\\x81\\xb4\\xeb\\x9e\\x98\\xec\\x8a\\xa4\\xeb\\xa5\\xbc \\xec\\xb6\\x94\\xea\\xb0\\x80\\xed\\x95\\xb4\\xec\\xa3\\xbc\\xec\\x84\\xb8\\xec\\x9a\\x94. -->\\n<!-- [AU] data-rank=\"@rank@\" data-template-type=\"suggestion\" data-keyword=\"@in_txt@\" attribute\\xeb\\xa5\\xbc \\xec\\xb6\\x94\\xea\\xb0\\x80\\xed\\x95\\xb4\\xec\\xa3\\xbc\\xec\\x84\\xb8\\xec\\x9a\\x94. -->\\n<li class=\"item _item\" data-rank=\"@rank@\" data-template-type=\"suggestion\" data-keyword=\"@in_txt@\">\\n<a href=\"#\" class=\"kwd\">\\n<span class=\"fix\"><span class=\"common_ico_kwd\"><i class=\"imsc ico_search\"></i></span>@txt@</span>\\n</a>\\n<span class=\"etc\">\\n<a href=\"#\" role=\"button\" class=\"bt_item _add\" aria-pressed=\"false\"><i class=\"imsc ico_insert\">\\xec\\xb6\\x94\\xea\\xb0\\x80</i></a>\\n</span>\\n</li>\\n<!-- [AU] \\xec\\xb5\\x9c\\xea\\xb7\\xbc\\xea\\xb2\\x80\\xec\\x83\\x89\\xec\\x96\\xb4 \\xed\\x85\\x9c\\xed\\x94\\x8c\\xeb\\xa6\\xbf -->\\n<!-- [AU] _item \\xed\\x81\\xb4\\xeb\\x9e\\x98\\xec\\x8a\\xa4\\xeb\\xa5\\xbc \\xec\\xb6\\x94\\xea\\xb0\\x80\\xed\\x95\\xb4\\xec\\xa3\\xbc\\xec\\x84\\xb8\\xec\\x9a\\x94. -->\\n<!-- [AU] data-rank=\"@rank@\" data-template-type=\"history\" data-keyword=\"@in_txt@\" attribute\\xeb\\xa5\\xbc \\xec\\xb6\\x94\\xea\\xb0\\x80\\xed\\x95\\xb4\\xec\\xa3\\xbc\\xec\\x84\\xb8\\xec\\x9a\\x94. -->\\n<li class=\"item has_correct _item\" data-rank=\"@rank@\" data-template-type=\"history\" data-keyword=\"@in_txt@\">\\n<a href=\"#\" class=\"kwd\">\\n<span class=\"fix\"><span class=\"common_ico_kwd\"><i class=\"imsc ico_search\"></i></span>@txt@</span>\\n</a>\\n<span class=\"etc\">\\n<!-- \\xec\\xb5\\x9c\\xea\\xb7\\xbc\\xea\\xb2\\x80\\xec\\x83\\x89\\xec\\x96\\xb4 \\xec\\x9e\\x88\\xec\\x9c\\xbc\\xeb\\xa9\\xb4 \\xeb\\x82\\xa0\\xec\\xa7\\x9c \\xed\\x91\\x9c\\xec\\x8b\\x9c -->\\n<em class=\"date\">@date@.</em>\\n<a href=\"#\" role=\"button\" class=\"bt_item _add\" aria-pressed=\"false\"><i class=\"imsc ico_insert\">\\xec\\xb6\\x94\\xea\\xb0\\x80</i></a>\\n</span>\\n</li>\\n</ul>\\n<!-- [AU] \\xeb\\xac\\xb8\\xeb\\xa7\\xa5\\xea\\xb2\\x80\\xec\\x83\\x89 \\xed\\x85\\x9c\\xed\\x94\\x8c\\xeb\\xa6\\xbf -->\\n<!-- [AU] _item \\xed\\x81\\xb4\\xeb\\x9e\\x98\\xec\\x8a\\xa4\\xeb\\xa5\\xbc \\xec\\xb6\\x94\\xea\\xb0\\x80\\xed\\x95\\xb4\\xec\\xa3\\xbc\\xec\\x84\\xb8\\xec\\x9a\\x94. -->\\n<!-- [AU] data-rank=\"@rank@\" data-template-type=\"intend\" data-keyword=\"@transQuery@\" attribute\\xeb\\xa5\\xbc \\xec\\xb6\\x94\\xea\\xb0\\x80\\xed\\x95\\xb4\\xec\\xa3\\xbc\\xec\\x84\\xb8\\xec\\x9a\\x94. -->\\n<li class=\"item has_correct _item\" data-rank=\"@rank@\" data-intend-rank=\"@intendRank@\" data-template-type=\"intend\" data-keyword=\"@transQuery@\">\\n<a href=\"#\" class=\"kwd\">\\n<span class=\"fix\"><span class=\"common_ico_kwd\"><i class=\"imsc ico_search\"></i></span>@query@ <span class=\"context\">@intend@</span></span>\\n</a>\\n<span class=\"etc\">\\n<a href=\"#\" role=\"button\" class=\"bt_item _add\" aria-pressed=\"false\"><i class=\"imsc ico_insert\">\\xec\\xb6\\x94\\xea\\xb0\\x80</i></a>\\n</span>\\n</li>\\n<!-- [D] \\xec\\x84\\xa0\\xea\\xb1\\xb0\\xec\\x95\\x88\\xeb\\x82\\xb4\\xeb\\xac\\xb8\\xea\\xb5\\xac -->\\n<!-- [AU] _alert \\xed\\x81\\xb4\\xeb\\x9e\\x98\\xec\\x8a\\xa4\\xeb\\xa5\\xbc \\xec\\xb6\\x94\\xea\\xb0\\x80\\xed\\x95\\xb4\\xec\\xa3\\xbc\\xec\\x84\\xb8\\xec\\x9a\\x94. -->\\n<div class=\"atcmp_alert _alert\">\\n<div class=\"dsc_election\">\\n<p class=\"dsc\">\\n<i class=\"imsc ico_election\"></i><span class=\"_alert_passage\"></span>\\n</p>\\n<span class=\"dsc_inner\">\\n<!-- [AU] _alert_passage2 \\xed\\x81\\xb4\\xeb\\x9e\\x98\\xec\\x8a\\xa4\\xeb\\xa5\\xbc \\xec\\xb6\\x94\\xea\\xb0\\x80\\xed\\x95\\xb4\\xec\\xa3\\xbc\\xec\\x84\\xb8\\xec\\x9a\\x94. -->\\n<span class=\"_alert_passage2\"></span>\\n<!-- [AU] _alert_link \\xed\\x81\\xb4\\xeb\\x9e\\x98\\xec\\x8a\\xa4\\xeb\\xa5\\xbc \\xec\\xb6\\x94\\xea\\xb0\\x80\\xed\\x95\\xb4\\xec\\xa3\\xbc\\xec\\x84\\xb8\\xec\\x9a\\x94. -->\\n<a href=\"#\" class=\"link _alert_link\" target=\"_blank\">\\xec\\x9e\\x90\\xec\\x84\\xb8\\xed\\x9e\\x88\\xeb\\xb3\\xb4\\xea\\xb8\\xb0</a>\\n</span>\\n</div>\\n</div>\\n<!-- [AU] _plus \\xed\\x81\\xb4\\xeb\\x9e\\x98\\xec\\x8a\\xa4\\xeb\\xa5\\xbc \\xec\\xb6\\x94\\xea\\xb0\\x80\\xed\\x95\\xb4\\xec\\xa3\\xbc\\xec\\x84\\xb8\\xec\\x9a\\x94. -->\\n<div class=\"atcmp_plus _plus\">\\n<div class=\"dsc_plus\">\\n<a href=\"https://help.naver.com/support/alias/search/word/word_16.naver\" class=\"link_dsc\" data-clk=\"sug.cxhelp\" target=\"_blank\">\\xea\\xb4\\x80\\xec\\x8b\\xac\\xec\\x82\\xac\\xeb\\xa5\\xbc \\xeb\\xb0\\x98\\xec\\x98\\x81\\xed\\x95\\x9c \\xec\\xbb\\xa8\\xed\\x85\\x8d\\xec\\x8a\\xa4\\xed\\x8a\\xb8 \\xec\\x9e\\x90\\xeb\\x8f\\x99\\xec\\x99\\x84\\xec\\x84\\xb1<i class=\"imsc ico_help\">\\xeb\\x8f\\x84\\xec\\x9b\\x80\\xeb\\xa7\\x90</i></a>\\n</div>\\n<div class=\"switch\">\\n<!-- [D] \\xec\\x84\\xa0\\xed\\x83\\x9d\\xec\\x8b\\x9c aria-pressed=\"ture/false\" -->\\n<!-- [AU] _plus_btn \\xed\\x81\\xb4\\xeb\\x9e\\x98\\xec\\x8a\\xa4\\xeb\\xa5\\xbc \\xec\\xb6\\x94\\xea\\xb0\\x80\\xed\\x95\\xb4\\xec\\xa3\\xbc\\xec\\x84\\xb8\\xec\\x9a\\x94. -->\\n<a role=\"button\" href=\"#\" class=\"bt_switch active _plus_btn\" aria-pressed=\"false\"><i class=\"imsc ico_option\">\\xec\\xbb\\xa8\\xed\\x85\\x8d\\xec\\x8a\\xa4\\xed\\x8a\\xb8 \\xec\\x9e\\x90\\xeb\\x8f\\x99\\xec\\x99\\x84\\xec\\x84\\xb1</i></a>\\n</div>\\n<!-- [AU] _plus_layer \\xed\\x81\\xb4\\xeb\\x9e\\x98\\xec\\x8a\\xa4\\xeb\\xa5\\xbc \\xec\\xb6\\x94\\xea\\xb0\\x80\\xed\\x95\\xb4\\xec\\xa3\\xbc\\xec\\x84\\xb8\\xec\\x9a\\x94. -->\\n<div class=\"layer_plus _plus_layer\">\\n<strong class=\"tit\">\\xec\\xbb\\xa8\\xed\\x85\\x8d\\xec\\x8a\\xa4\\xed\\x8a\\xb8 \\xec\\x9e\\x90\\xeb\\x8f\\x99\\xec\\x99\\x84\\xec\\x84\\xb1</strong>\\n<!-- [AU] _plus_layer_isloggedin \\xed\\x81\\xb4\\xeb\\x9e\\x98\\xec\\x8a\\xa4\\xeb\\xa5\\xbc \\xec\\xb6\\x94\\xea\\xb0\\x80\\xed\\x95\\xb4\\xec\\xa3\\xbc\\xec\\x84\\xb8\\xec\\x9a\\x94. -->\\n<!-- [AU] style=\"display:none\" \\xec\\xb6\\x94\\xea\\xb0\\x80\\xed\\x95\\xb4\\xec\\xa3\\xbc\\xec\\x84\\xb8\\xec\\x9a\\x94. -->\\n<div class=\"_plus_layer_isloggedin\" style=\"display:none\">\\n<p class=\"dsc\">ON/OFF \\xec\\x84\\xa4\\xec\\xa0\\x95\\xec\\x9d\\x80<br>\\xed\\x95\\xb4\\xeb\\x8b\\xb9\\xea\\xb8\\xb0\\xea\\xb8\\xb0(\\xeb\\xb8\\x8c\\xeb\\x9d\\xbc\\xec\\x9a\\xb0\\xec\\xa0\\x80)\\xec\\x97\\x90 \\xec\\xa0\\x80\\xec\\x9e\\xa5\\xeb\\x90\\xa9\\xeb\\x8b\\x88\\xeb\\x8b\\xa4.</p>\\n<div class=\"btn_area\">\\n<a href=\"https://help.naver.com/support/alias/search/word/word_16.naver\" class=\"btn btn_view\" data-clk=\"sug.cxlink\" target=\"_blank\">\\xec\\x9e\\x90\\xec\\x84\\xb8\\xed\\x9e\\x88</a>\\n</div>\\n</div>\\n<!-- [AU] _plus_layer_isnotloggedin \\xed\\x81\\xb4\\xeb\\x9e\\x98\\xec\\x8a\\xa4\\xeb\\xa5\\xbc \\xec\\xb6\\x94\\xea\\xb0\\x80\\xed\\x95\\xb4\\xec\\xa3\\xbc\\xec\\x84\\xb8\\xec\\x9a\\x94. -->\\n<!-- [AU] style=\"display:none\" \\xec\\xb6\\x94\\xea\\xb0\\x80\\xed\\x95\\xb4\\xec\\xa3\\xbc\\xec\\x84\\xb8\\xec\\x9a\\x94. -->\\n<div class=\"_plus_layer_isnotloggedin\" style=\"display:none\">\\n<p class=\"dsc\"><em class=\"txt\">\\xeb\\x8f\\x99\\xec\\x9d\\xbc\\xed\\x95\\x9c \\xec\\x8b\\x9c\\xea\\xb0\\x84\\xeb\\x8c\\x80/\\xec\\x97\\xb0\\xeb\\xa0\\xb9/\\xeb\\x82\\xa8\\xeb\\x85\\x80\\xeb\\xb3\\x84</em> \\xec\\x82\\xac\\xec\\x9a\\xa9\\xec\\x9e\\x90 \\xea\\xb7\\xb8\\xeb\\xa3\\xb9\\xec\\x9d\\x98<br>\\xea\\xb4\\x80\\xec\\x8b\\xac\\xec\\x82\\xac\\xec\\x97\\x90 \\xeb\\xa7\\x9e\\xec\\xb6\\xb0 \\xec\\x9e\\x90\\xeb\\x8f\\x99\\xec\\x99\\x84\\xec\\x84\\xb1\\xec\\x9d\\x84 \\xec\\xa0\\x9c\\xea\\xb3\\xb5\\xed\\x95\\xa9\\xeb\\x8b\\x88\\xeb\\x8b\\xa4.</p>\\n<div class=\"btn_area\">\\n<a href=\"https://nid.naver.com/nidlogin.login\" class=\"btn btn_login\" data-clk=\"sug.cxlogin\">\\xeb\\xa1\\x9c\\xea\\xb7\\xb8\\xec\\x9d\\xb8</a>\\n<a href=\"https://help.naver.com/support/alias/search/word/word_16.naver\" class=\"btn btn_view\" data-clk=\"sug.cxlink\" target=\"_blank\">\\xec\\x9e\\x90\\xec\\x84\\xb8\\xed\\x9e\\x88</a>\\n</div>\\n</div>\\n<!-- [AU] _plus_layer_close \\xed\\x81\\xb4\\xeb\\x9e\\x98\\xec\\x8a\\xa4\\xeb\\xa5\\xbc \\xec\\xb6\\x94\\xea\\xb0\\x80\\xed\\x95\\xb4\\xec\\xa3\\xbc\\xec\\x84\\xb8\\xec\\x9a\\x94. -->\\n<a href=\"#\" role=\"button\" class=\"btn_close _plus_layer_close\"><i class=\"imsc ico_close\">\\xec\\xbb\\xa8\\xed\\x85\\x8d\\xec\\x8a\\xa4\\xed\\x8a\\xb8 \\xec\\x9e\\x90\\xeb\\x8f\\x99\\xec\\x99\\x84\\xec\\x84\\xb1 \\xeb\\xa0\\x88\\xec\\x9d\\xb4\\xec\\x96\\xb4 \\xeb\\x8b\\xab\\xea\\xb8\\xb0</i></a>\\n</div>\\n</div>\\n</div>\\n<div class=\"atcmp_footer\">\\n<span class=\"side_opt_area\">\\n<span class=\"opt_item\"><a href=\"https://help.naver.com/alias/search/word/word_17.naver\" data-clk=\"sug.help\" target=\"_blank\">\\xeb\\x8f\\x84\\xec\\x9b\\x80\\xeb\\xa7\\x90</a></span>\\n<span class=\"opt_item\"><a href=\"https://help.naver.com/support/contents/contents.help?serviceNo=605&categoryNo=18215\" class=\"report\" data-clk=\"sug.report\" target=\"_blank\">\\xec\\x8b\\xa0\\xea\\xb3\\xa0</a></span>\\n</span>\\n<span class=\"rside_opt_area\">\\n<span class=\"opt_item\">\\n<!-- [AU] _suggestOnOff \\xed\\x81\\xb4\\xeb\\x9e\\x98\\xec\\x8a\\xa4\\xeb\\xa5\\xbc \\xec\\xb6\\x94\\xea\\xb0\\x80\\xed\\x95\\xb4\\xec\\xa3\\xbc\\xec\\x84\\xb8\\xec\\x9a\\x94. -->\\n<a href=\"#\" class=\"close _suggestOnOff\">\\xec\\x9e\\x90\\xeb\\x8f\\x99\\xec\\x99\\x84\\xec\\x84\\xb1 \\xeb\\x81\\x84\\xea\\xb8\\xb0</a>\\n</span>\\n</span>\\n</div>\\n</div>\\n</div>\\n</div>\\n</div>\\n</div>\\n\\n</div>\\n</div>\\n\\n<!--EMPTY-->\\n<div id=\"gnb\" role=\"navigation\">\\n<div id=\"NM_FAVORITE\" class=\"gnb_inner\">\\n<div class=\"group_nav\">\\n<ul class=\"list_nav type_fix\">\\n<li class=\"nav_item\">\\n<a href=\"https://mail.naver.com/\" class=\"nav\" data-clk=\"svc.mail\"><i class=\"ico_mail\"></i>\\xeb\\xa9\\x94\\xec\\x9d\\xbc</a>\\n</li>\\n<li class=\"nav_item\"><a href=\"https://section.cafe.naver.com/\" class=\"nav\" data-clk=\"svc.cafe\">\\xec\\xb9\\xb4\\xed\\x8e\\x98</a></li>\\n<li class=\"nav_item\"><a href=\"https://section.blog.naver.com/\" class=\"nav\" data-clk=\"svc.blog\">\\xeb\\xb8\\x94\\xeb\\xa1\\x9c\\xea\\xb7\\xb8</a></li>\\n<li class=\"nav_item\"><a href=\"https://kin.naver.com/\" class=\"nav\" data-clk=\"svc.kin\">\\xec\\xa7\\x80\\xec\\x8b\\x9diN</a></li>\\n<li class=\"nav_item\"><a href=\"https://shopping.naver.com/\" class=\"nav shop\" data-clk=\"svc.shopping\"><span class=\"blind\">\\xec\\x87\\xbc\\xed\\x95\\x91</span></a></li>\\n<li class=\"nav_item\"><a href=\"https://shoppinglive.naver.com/home\" class=\"nav shoplive\"\\ndata-clk=\"svc.shoppinglive\"><span class=\"blind\">\\xec\\x87\\xbc\\xed\\x95\\x91LIVE</span></a></li>\\n<li class=\"nav_item\"><a href=\"https://order.pay.naver.com/home\" class=\"nav\" data-clk=\"svc.pay\">Pay</a></li>\\n<li class=\"nav_item\">\\n<a href=\"https://tv.naver.com/\" class=\"nav\" data-clk=\"svc.tvcast\"><i class=\"ico_tv\"></i>TV</a>\\n</li>\\n</ul>\\n<ul\\nclass=\"list_nav NM_FAVORITE_LIST\"\\n>\\n<li class=\"nav_item\"><a href=\"https://dict.naver.com/\" class=\"nav\" data-clk=\"svc.dic\">\\xec\\x82\\xac\\xec\\xa0\\x84</a></li>\\n<li class=\"nav_item\"><a href=\"https://news.naver.com/\" class=\"nav\" data-clk=\"svc.news\">\\xeb\\x89\\xb4\\xec\\x8a\\xa4</a></li>\\n<li class=\"nav_item\"><a href=\"https://finance.naver.com/\" class=\"nav\" data-clk=\"svc.stock\">\\xec\\xa6\\x9d\\xea\\xb6\\x8c</a></li>\\n<li class=\"nav_item\"><a href=\"https://land.naver.com/\" class=\"nav\" data-clk=\"svc.land\">\\xeb\\xb6\\x80\\xeb\\x8f\\x99\\xec\\x82\\xb0</a></li>\\n<li class=\"nav_item\"><a href=\"https://map.naver.com/\" class=\"nav\" data-clk=\"svc.map\">\\xec\\xa7\\x80\\xeb\\x8f\\x84</a></li>\\n<li class=\"nav_item\"><a href=\"https://vibe.naver.com/?from&#x3D;naver_main&amp;utm_source&#x3D;naver_main&amp;utm_medium&#x3D;naver_main_pcweb&amp;utm_campaign&#x3D;naver_main_redirect\" class=\"nav\" data-clk=\"svc.vibe\">VIBE</a></li>\\n<li class=\"nav_item\"><a href=\"https://search.shopping.naver.com/book/home\" class=\"nav\" data-clk=\"svc.book\">\\xeb\\x8f\\x84\\xec\\x84\\x9c</a></li>\\n<li class=\"nav_item\"><a href=\"https://comic.naver.com/\" class=\"nav\" data-clk=\"svc.webtoon\">\\xec\\x9b\\xb9\\xed\\x88\\xb0</a></li>\\n\\n</ul>\\n<ul class=\"list_nav type_empty\" style=\"display: none;\"></ul>\\n<a href=\"#\" role=\"button\" class=\"btn_more\" data-clk=\"svc.more\">\\xeb\\x8d\\x94\\xeb\\xb3\\xb4\\xea\\xb8\\xb0</a>\\n<div class=\"ly_btn_area\">\\n<a href=\"more.html\" class=\"btn NM_FAVORITE_ALL\" data-clk=\"map.svcmore\">\\xec\\x84\\x9c\\xeb\\xb9\\x84\\xec\\x8a\\xa4 \\xec\\xa0\\x84\\xec\\xb2\\xb4\\xeb\\xb3\\xb4\\xea\\xb8\\xb0</a>\\n<a href=\"#\" role=\"button\" class=\"btn btn_set\" data-clk=\"map.edit\">\\xeb\\xa9\\x94\\xeb\\x89\\xb4\\xec\\x84\\xa4\\xec\\xa0\\x95</a>\\n<a href=\"#\" role=\"button\" class=\"btn btn_reset\" data-clk=\"edt.reset\">\\xec\\xb4\\x88\\xea\\xb8\\xb0\\xed\\x99\\x94</a>\\n<a href=\"#\" role=\"button\" class=\"btn btn_save\" data-clk=\"edt.save\">\\xec\\xa0\\x80\\xec\\x9e\\xa5</a>\\n</div>\\n</div>\\n<div id=\"NM_WEATHER\" class=\"group_weather\">\\n<div>\\n<a data-clk=\"squ.weat\" href=\"https://weather.naver.com/today/02117107?cpName=KMA\" class=\"weather_area ico_w01\">\\n<div class=\"current_box\">\\n<strong class=\"current\" aria-label=\"\\xed\\x98\\x84\\xec\\x9e\\xac\\xea\\xb8\\xb0\\xec\\x98\\xa8\">-5.7\\xc2\\xb0</strong><strong class=\"state\">\\xeb\\xa7\\x91\\xec\\x9d\\x8c</strong>\\n</div>\\n<div class=\"degree_box\">\\n<span class=\"min\" aria-label=\"\\xec\\xb5\\x9c\\xec\\xa0\\x80\\xea\\xb8\\xb0\\xec\\x98\\xa8\">-10.0\\xc2\\xb0</span><span class=\"max\" aria-label=\"\\xec\\xb5\\x9c\\xea\\xb3\\xa0\\xea\\xb8\\xb0\\xec\\x98\\xa8\">-3.0\\xc2\\xb0</span>\\n</div>\\n<span class=\"location\">\\xeb\\xa7\\x9d\\xed\\x8f\\xac\\xeb\\x8f\\x99</span>\\n</a>\\n</div>\\n<div>\\n<a data-clk=\"squ.dust\" href=\"https://weather.naver.com/today/02117107?cpName=KMA\" class=\"air_area\">\\n<ul class=\"list_air\">\\n<li class=\"air_item\">\\xeb\\xaf\\xb8\\xec\\x84\\xb8<strong class=\"state state_normal\">\\xeb\\xb3\\xb4\\xed\\x86\\xb5</strong></li>\\n<li class=\"air_item\">\\xec\\xb4\\x88\\xeb\\xaf\\xb8\\xec\\x84\\xb8<strong class=\"state state_good\">\\xec\\xa2\\x8b\\xec\\x9d\\x8c</strong></li>\\n</ul>\\n<span class=\"location\">\\xeb\\xa7\\x9d\\xed\\x8f\\xac\\xeb\\x8f\\x99</span>\\n</a>\\n</div>\\n\\n</div>\\n</div>\\n<div class=\"ly_service\">\\n<div class=\"group_service NM_FAVORITE_ALL_LY\"></div>\\n<div class=\"group_service NM_FAVORITE_EDIT_LY\" style=\"display: none;\"></div>\\n</div>\\n</div>\\n</div>\\n <div id=\"container\" role=\"main\"> <div style=\"position:relative;width:1130px;margin:0 auto;z-index:11\"> <div id=\"da_top\"></div> <div id=\"da_expwide\"></div> </div> <div id=\"NM_INT_LEFT\" class=\"column_left\"> <div id=\"veta_top\"> <div id=\"veta_top_inner\" style=\"height:135px\"> </div> <span class=\"veta_bd_t\"></span> <span class=\"veta_bd_b\"></span> <span class=\"veta_bd_l\"></span> <span class=\"veta_bd_r\"></span> </div> <div id=\"newsstand\" class=\"sc_newscast\"> <h2 class=\"blind\">\\xeb\\x89\\xb4\\xec\\x8a\\xa4\\xec\\x8a\\xa4\\xed\\x83\\xa0\\xeb\\x93\\x9c</h2> <div id=\"NM_NEWSSTAND_HEADER\" class=\"group_issue\" data-clk-prefix=\"ncy\"> <div class=\"issue_area\"> <a class=\"link_media\" href=\"https://news.naver.com/main/list.naver?mode=LPOD&mid=sec&sid1=001&sid2=140&oid=001&isYeonhapFlash=Y\" data-clk=\"newsflash\">\\xec\\x97\\xb0\\xed\\x95\\xa9\\xeb\\x89\\xb4\\xec\\x8a\\xa4</a> <div id=\"NM_ONELINE_ROLLING\" class=\"list_issue\" data-nm-ui=\"rolling\"> <div><a href=\"https://news.naver.com/main/list.naver?mode=LPOD&mid=sec&sid1=001&sid2=140&oid=001&isYeonhapFlash=Y&aid=0013641361\" class=\"issue\" data-clk=\"quickarticle\">\\xec\\x9e\\x91\\xeb\\x85\\x84\\xec\\x97\\x90\\xeb\\xa7\\x8c 3\\xec\\xb2\\x9c378\\xeb\\xaa\\x85\\xec\\x9d\\xb4 \\'\\xec\\x93\\xb8\\xec\\x93\\xb8\\xed\\x95\\x9c \\xec\\xa3\\xbd\\xec\\x9d\\x8c\\'\\xe2\\x80\\xa6\\xea\\xb3\\xa0\\xeb\\x8f\\x85\\xec\\x82\\xac \\xec\\xb2\\xab \\xec\\x8b\\xa4\\xed\\x83\\x9c\\xec\\xa1\\xb0\\xec\\x82\\xac</a></div>\\n<div><a href=\"https://news.naver.com/main/list.naver?mode=LPOD&mid=sec&sid1=001&sid2=140&oid=001&isYeonhapFlash=Y&aid=0013641362\" class=\"issue\" data-clk=\"quickarticle\">5\\xeb\\x85\\x84\\xec\\x83\\x88 40% \\xea\\xb8\\x89\\xec\\xa6\\x9d\\xed\\x95\\x9c \\xea\\xb3\\xa0\\xeb\\x8f\\x85\\xec\\x82\\xac\\xe2\\x80\\xa650\\xe2\\x88\\xbc60\\xeb\\x8c\\x80 \\xeb\\x82\\xa8\\xec\\x84\\xb1\\xec\\x97\\x90\\xea\\xb2\\x8c \\xed\\x8a\\xb9\\xed\\x9e\\x88 \\xea\\xb0\\x80\\xed\\x98\\xb9\\xed\\x96\\x88\\xeb\\x8b\\xa4</a></div>\\n<div><a href=\"https://news.naver.com/main/list.naver?mode=LPOD&mid=sec&sid1=001&sid2=140&oid=001&isYeonhapFlash=Y&aid=0013641594\" class=\"issue\" data-clk=\"quickarticle\">\\xeb\\x8c\\x80\\xec\\x9e\\xa5\\xeb\\x8f\\x99\\xec\\x97\\x90 \\xec\\x96\\xb4\\xeb\\xa5\\xb8\\xeb\\x8c\\x80\\xeb\\x8a\\x94 \\'\\xec\\xa1\\xb0\\xed\\x8f\\xad \\xea\\xb7\\xb8\\xeb\\xa6\\xbc\\xec\\x9e\\x90\\'\\xe2\\x80\\xa6\\xec\\x9e\\x90\\xea\\xb8\\x88\\xec\\x84\\xb8\\xed\\x83\\x81 \\xed\\x86\\xb5\\xeb\\xa1\\x9c\\xec\\x98\\x80\\xeb\\x82\\x98</a></div>\\n<div><a href=\"https://news.naver.com/main/list.naver?mode=LPOD&mid=sec&sid1=001&sid2=140&oid=001&isYeonhapFlash=Y&aid=0013641597\" class=\"issue\" data-clk=\"quickarticle\">\\xeb\\x8d\\x94\\xed\\x83\\x90\\xec\\x82\\xac \\xea\\xb8\\xb0\\xec\\x9e\\x90 \"\\xed\\x95\\x9c\\xeb\\x8f\\x99\\xed\\x9b\\x88, \\xec\\xb7\\xa8\\xec\\x9e\\xac\\xea\\xb6\\x8c\\xeb\\xa6\\xac \\xeb\\xb2\\x94\\xec\\xa3\\x84\\xeb\\xa1\\x9c \\xeb\\x82\\x99\\xec\\x9d\\xb8\\xec\\xb0\\x8d\\xec\\x96\\xb4\"</a></div>\\n<div><a href=\"https://news.naver.com/main/list.naver?mode=LPOD&mid=sec&sid1=001&sid2=140&oid=001&isYeonhapFlash=Y&aid=0013641669\" class=\"issue\" data-clk=\"quickarticle\">[\\xed\\x8c\\xa9\\xed\\x8a\\xb8\\xec\\xb2\\xb4\\xed\\x81\\xac] \\xed\\x99\\x94\\xeb\\xac\\xbc\\xec\\x97\\xb0\\xeb\\x8c\\x80 \\xed\\x8c\\x8c\\xec\\x97\\x85 \\xeb\\x95\\x8c\\xeb\\xac\\xb8\\xec\\x97\\x90 11\\xec\\x9b\\x94 \\xec\\x88\\x98\\xec\\xb6\\x9c\\xec\\x95\\xa1\\xec\\x9d\\xb4 \\xea\\xb0\\x90\\xec\\x86\\x8c\\xed\\x96\\x88\\xeb\\x8b\\xa4?</a></div>\\n<div><a href=\"https://news.naver.com/main/list.naver?mode=LPOD&mid=sec&sid1=001&sid2=140&oid=001&isYeonhapFlash=Y&aid=0013641202\" class=\"issue\" data-clk=\"quickarticle\">\\xec\\xa4\\x91\\xeb\\xb6\\x80\\xec\\x97\\x90 \\xeb\\x82\\xb4\\xec\\x9d\\xbc \\xeb\\x98\\x90 \\xeb\\x88\\x88\\xe2\\x80\\xa6\\xec\\xa3\\xbc\\xeb\\xa7\\x90, \\xec\\x98\\xa4\\xeb\\x8a\\x98\\xeb\\xb3\\xb4\\xeb\\x8b\\xa4 \\xeb\\x8d\\x94 \\xec\\xb6\\xa5\\xea\\xb3\\xa0 \\xec\\xa0\\x9c\\xec\\xa3\\xbc\\xec\\x97\\x90 \\'\\xeb\\x88\\x88\\xeb\\xb3\\xb4\\xeb\\x9d\\xbc\\'</a></div>\\n<div><a href=\"https://news.naver.com/main/list.naver?mode=LPOD&mid=sec&sid1=001&sid2=140&oid=001&isYeonhapFlash=Y&aid=0013640818\" class=\"issue\" data-clk=\"quickarticle\">\\xeb\\xb0\\x95\\xec\\xa7\\x80\\xec\\x9b\\x90 \\xea\\xb2\\x80\\xec\\xb0\\xb0 \\xec\\xb6\\x9c\\xec\\x84\\x9d\\xe2\\x80\\xa6\"\\xeb\\xac\\xb8\\xec\\x9e\\xac\\xec\\x9d\\xb8\\xc2\\xb7\\xec\\x84\\x9c\\xed\\x9b\\x88, \\xec\\x82\\xad\\xec\\xa0\\x9c \\xec\\xa7\\x80\\xec\\x8b\\x9c \\xec\\x97\\x86\\xec\\x97\\x88\\xeb\\x8b\\xa4\"</a></div>\\n<div><a href=\"https://news.naver.com/main/list.naver?mode=LPOD&mid=sec&sid1=001&sid2=140&oid=001&isYeonhapFlash=Y&aid=0013641168\" class=\"issue\" data-clk=\"quickarticle\">\"\\xeb\\x85\\xb8\\xed\\x9b\\x84\\xec\\x83\\x9d\\xed\\x99\\x9c \\xea\\xb0\\x80\\xeb\\x8a\\xa5\\xed\\x95\\x98\\xea\\xb2\\x8c\" \"\\xea\\xb8\\xb0\\xec\\xb4\\x88\\xec\\x97\\xb0\\xea\\xb8\\x88 \\xea\\xb0\\x90\\xec\\x95\\xa1 \\xec\\x97\\x86\\xea\\xb2\\x8c\"\\xe2\\x80\\xa6\\xea\\xb5\\xad\\xeb\\xaf\\xbc\\xec\\x9d\\xb4 \\xeb\\xb0\\x94\\xeb\\x9d\\xbc\\xeb\\x8a\\x94 \\xec\\x97\\xb0\\xea\\xb8\\x88</a></div>\\n<div><a href=\"https://news.naver.com/main/list.naver?mode=LPOD&mid=sec&sid1=001&sid2=140&oid=001&isYeonhapFlash=Y&aid=0013641203\" class=\"issue\" data-clk=\"quickarticle\">\\xec\\x98\\x88\\xec\\x82\\xb0 \\xed\\x98\\x91\\xec\\x83\\x81\\xec\\x8b\\x9c\\xed\\x95\\x9c D-1 \\xeb\\xb2\\xbc\\xeb\\x9e\\x91\\xeb\\x81\\x9d \\xeb\\x8c\\x80\\xec\\xb9\\x98\\xe2\\x80\\xa6\\xec\\xb2\\xab \\'\\xe9\\x87\\x8e \\xeb\\x8b\\xa8\\xeb\\x8f\\x85\\xec\\xb2\\x98\\xeb\\xa6\\xac\\' \\xed\\x98\\x84\\xec\\x8b\\xa4\\xed\\x99\\x94\\xed\\x95\\x98\\xeb\\x82\\x98</a></div>\\n<div><a href=\"https://news.naver.com/main/list.naver?mode=LPOD&mid=sec&sid1=001&sid2=140&oid=001&isYeonhapFlash=Y&aid=0013641204\" class=\"issue\" data-clk=\"quickarticle\">\\xec\\x9d\\xb4\\xed\\x83\\x9c\\xec\\x9b\\x90\\xec\\x84\\x9c \\xec\\xb9\\x9c\\xea\\xb5\\xac \\xec\\x9e\\x83\\xea\\xb3\\xa0 \\xec\\x82\\xb4\\xec\\x95\\x84\\xeb\\x82\\xa8\\xec\\x95\\x84\\xe2\\x80\\xa6\\xeb\\x81\\x9d\\xeb\\x82\\xb4 \\xea\\xb7\\xb9\\xeb\\xb3\\xb5 \\xeb\\xaa\\xbb\\xed\\x95\\x9c \\xed\\x8a\\xb8\\xeb\\x9d\\xbc\\xec\\x9a\\xb0\\xeb\\xa7\\x88</a></div> </div> </div> <div class=\"direct_area\"> <a href=\"https://m.sports.naver.com/qatar2022/index\" class=\"link_worldcup\" data-clk=\"qatar2022\"><span class=\"blind\">QATAR 2022</span></a> <a href=\"http://news.naver.com/\" class=\"link_news\" data-clk=\"newshome\">\\xeb\\x89\\xb4\\xec\\x8a\\xa4\\xed\\x99\\x88</a>\\n<a href=\"http://entertain.naver.com/home\" class=\"link_direct\" data-clk=\"entertainment\">\\xec\\x97\\xb0\\xec\\x98\\x88</a>\\n<a href=\"http://sports.news.naver.com/\" class=\"link_direct\" data-clk=\"sports\">\\xec\\x8a\\xa4\\xed\\x8f\\xac\\xec\\xb8\\xa0</a>\\n<a href=\"http://news.naver.com/main/main.naver?mode=LSD&mid=shm&sid1=101\" class=\"link_direct\" data-clk=\"economy\">\\xea\\xb2\\xbd\\xec\\xa0\\x9c</a> </div> </div>        <div id=\"NM_NEWSSTAND_TITLE\" class=\"group_title\" data-clk-prefix=\"nsd\"> <a href=\"http://newsstand.naver.com/\" class=\"link_newsstand\" data-clk=\"title\" target=\"_blank\">\\xeb\\x89\\xb4\\xec\\x8a\\xa4\\xec\\x8a\\xa4\\xed\\x83\\xa0\\xeb\\x93\\x9c</a> <div id=\"NM_NEWSSTAND_data_buttons\" class=\"sort_area\" role=\"tablist\">  <a href=\"#\" role=\"tab\" data-type=\"my\" data-clk=\"my\" class=\"btn_sort\" aria-controls=\"NM_NEWSSTAND_MY_LIST\" aria-selected=\"false\">\\xea\\xb5\\xac\\xeb\\x8f\\x85\\xed\\x95\\x9c \\xec\\x96\\xb8\\xeb\\xa1\\xa0\\xec\\x82\\xac</a> <a href=\"#\" role=\"tab\" data-type=\"all\" data-clk=\"all\" class=\"btn_sort\" aria-controls=\"NM_NEWSSTAND_DEFAULT_THUMB\" aria-selected=\"true\">\\xec\\xa0\\x84\\xec\\xb2\\xb4\\xec\\x96\\xb8\\xeb\\xa1\\xa0\\xec\\x82\\xac</a>  </div> <div id=\"NM_NEWSSTAND_view_buttons\" class=\"set_area\" role=\"tablist\">  <a href=\"#\" role=\"tab\" data-type=\"list\" data-clk=\"articleview\" class=\"btn_set\" aria-controls=\"NM_NEWSSTAND_DEFAULT_LIST\" aria-selected=\"false\"> <i class=\"ico_list\"><span class=\"blind\">\\xeb\\xa6\\xac\\xec\\x8a\\xa4\\xed\\x8a\\xb8\\xed\\x98\\x95</span></i></a> <a href=\"#\" role=\"tab\" data-type=\"thumb\" data-clk=\"pressview\" class=\"btn_set\" aria-controls=\"NM_NEWSSTAND_DEFAULT_THUMB\" aria-selected=\"true\"> <i class=\"ico_tile\"><span class=\"blind\">\\xec\\x8d\\xb8\\xeb\\x84\\xa4\\xec\\x9d\\xbc\\xed\\x98\\x95</span></i></a>  <a href=\"http://newsstand.naver.com/config.html\" class=\"btn_set\" data-clk=\"set\" target=\"_blank\"> <i class=\"ico_set\"><span class=\"blind\">\\xec\\x84\\xa4\\xec\\xa0\\x95</span></i></a> </div> </div> <div id=\"NM_NEWSSTAND_VIEW_CONTAINER\" style=\"position:relative\"> <div id=\"NM_NEWSSTAND_DEFAULT_LIST\" class=\"group_news\" role=\"tabpanel\" style=\"display:none\" data-clk-prefix=\"nsd_all\"> <a href=\"#\" role=\"button\" class=\"pm_btn_prev_l _NM_NEWSSTAND_LIST_prev_btn\" data-clk-custom=\"prev\"><i class=\"ico_btn\"><span class=\"blind\">\\xec\\x9d\\xb4\\xec\\xa0\\x84</span></i></a> <a href=\"#\" role=\"button\" class=\"pm_btn_next_l _NM_NEWSSTAND_LIST_next_btn\" data-clk-custom=\"next\"><i class=\"ico_btn\"><span class=\"blind\">\\xeb\\x8b\\xa4\\xec\\x9d\\x8c</span></i></a> <div class=\"list_view\"> <div class=\"option_area\"> <div class=\"list_option_wrap\"> <ul class=\"list_option\"> <li class=\"option_item\" data-cateid=\"ct2\"><a href=\"#\" class=\"option\" data-clk=\"daei\">\\xec\\xa2\\x85\\xed\\x95\\xa9/\\xea\\xb2\\xbd\\xec\\xa0\\x9c</a></li> <li class=\"option_item\" data-cateid=\"ct3\"><a href=\"#\" class=\"option\" data-clk=\"dtvcom\">\\xeb\\xb0\\xa9\\xec\\x86\\xa1/\\xed\\x86\\xb5\\xec\\x8b\\xa0</a></li> <li class=\"option_item\" data-cateid=\"ct4\"><a href=\"#\" class=\"option\" data-clk=\"dit\">IT</a></li> <li class=\"option_item\" data-cateid=\"ct5\"><a href=\"#\" class=\"option\" data-clk=\"deng\">\\xec\\x98\\x81\\xec\\x9e\\x90\\xec\\xa7\\x80</a></li> <li class=\"option_item\" data-cateid=\"ct6\"><a href=\"#\" class=\"option\" data-clk=\"dsporent\">\\xec\\x8a\\xa4\\xed\\x8f\\xac\\xec\\xb8\\xa0/\\xec\\x97\\xb0\\xec\\x98\\x88</a></li> <li class=\"option_item\" data-cateid=\"ct7\"><a href=\"#\" class=\"option\" data-clk=\"dmagtec\">\\xeb\\xa7\\xa4\\xea\\xb1\\xb0\\xec\\xa7\\x84/\\xec\\xa0\\x84\\xeb\\xac\\xb8\\xec\\xa7\\x80</a></li> <li class=\"option_item\" data-cateid=\"ct8\"><a href=\"#\" class=\"option\" data-clk=\"dloc\">\\xec\\xa7\\x80\\xec\\x97\\xad</a></li> </ul> </div> </div> <div class=\"_NM_NEWSSTAND_ARTICLE_CONTAINER\" data-clk-sub=\"*a\"></div> </div> <div class=\"ly_popup NM_NEWSSTAND_POPUP NM_NEWSSTAND_invalid\" style=\"display:none\" data-clk-sub=\"*a\"> <a href=\"#\" role=\"button\" class=\"btn_close NM_NEWSSTAND_POPUP_CLOSE\"><i class=\"ico_close\"></i><span class=\"blind\">\\xeb\\x8b\\xab\\xea\\xb8\\xb0</span></a> <p class=\"popup_msg\">\\xed\\x95\\xb4\\xeb\\x8b\\xb9 \\xec\\x96\\xb8\\xeb\\xa1\\xa0\\xec\\x82\\xac \\xec\\x82\\xac\\xec\\xa0\\x95\\xec\\x9c\\xbc\\xeb\\xa1\\x9c \\xec\\xa0\\x91\\xea\\xb7\\xbc\\xec\\x9d\\xb4 \\xec\\xa0\\x9c\\xed\\x95\\x9c\\xeb\\x90\\xa9\\xeb\\x8b\\x88\\xeb\\x8b\\xa4.</p> <div class=\"popup_btn\"> <a href=\"#\" role=\"button\" class=\"btn_confirm NM_NEWSSTAND_POPUP_CLOSE\">\\xed\\x99\\x95\\xec\\x9d\\xb8</a> </div> </div> <div class=\"ly_popup NM_NEWSSTAND_POPUP NM_NEWSSTAND_undescribe_confirm\" style=\"display:none\" data-clk-sub=\"*a\"> <a href=\"#\" role=\"button\" class=\"btn_close NM_NEWSSTAND_POPUP_CLOSE\" data-clk=\"usclose\"><i class=\"ico_close\"></i><span class=\"blind\">\\xeb\\x8b\\xab\\xea\\xb8\\xb0</span></a> <p class=\"popup_msg\"><strong class=\"NM_NEWSSTAND_POPUP_PNAME\"></strong>\\xec\\x9d\\x84(\\xeb\\xa5\\xbc)<br>\\xea\\xb5\\xac\\xeb\\x8f\\x85\\xed\\x95\\xb4\\xec\\xa7\\x80 \\xed\\x95\\x98\\xec\\x8b\\x9c\\xea\\xb2\\xa0\\xec\\x8a\\xb5\\xeb\\x8b\\x88\\xea\\xb9\\x8c?</p> <div class=\"popup_btn\"> <a href=\"#\" role=\"button\" class=\"btn_confirm NM_NEWSSTAND_POPUP_CONFIRM\" data-clk=\"usdone\">\\xed\\x99\\x95\\xec\\x9d\\xb8</a> <a href=\"#\" role=\"button\" class=\"btn_confirm NM_NEWSSTAND_POPUP_CLOSE\" data-clk=\"uscancel\">\\xec\\xb7\\xa8\\xec\\x86\\x8c</a> </div> </div> <div class=\"ly_toast NM_NEWSSTAND_TOAST\" style=\"display:none\"> <p class=\"toast_msg\">\\xea\\xb5\\xac\\xeb\\x8f\\x85\\xed\\x95\\x9c \\xec\\x96\\xb8\\xeb\\xa1\\xa0\\xec\\x82\\xac\\xec\\x97\\x90 \\xec\\xb6\\x94\\xea\\xb0\\x80\\xeb\\x90\\x98\\xec\\x97\\x88\\xec\\x8a\\xb5\\xeb\\x8b\\x88\\xeb\\x8b\\xa4.</p> </div> </div>   <div id=\"NM_NEWSSTAND_DEFAULT_THUMB\" class=\"group_news\" role=\"tabpanel\" style=\"display:block\" data-clk-prefix=\"nsd_all\"> <a href=\"#\" role=\"button\" class=\"pm_btn_prev_l _NM_UI_PAGE_PREV\" data-clk-custom=\"prev\"><i class=\"ico_btn\"><span class=\"blind\">\\xec\\x9d\\xb4\\xec\\xa0\\x84</span></i></a> <a href=\"#\" role=\"button\" class=\"pm_btn_next_l _NM_UI_PAGE_NEXT\" data-clk-custom=\"next\"><i class=\"ico_btn\"><span class=\"blind\">\\xeb\\x8b\\xa4\\xec\\x9d\\x8c</span></i></a> <div class=\"_NM_UI_PAGE_CONTAINER\" style=\"height:100%;overflow:hidden\" data-clk-sub=\"*p\">   <div style=\"width: 750px; float: left;\">\\n<div class=\"tile_view\">\\n<div class=\"frame_area\">\\n<i class=\"line to_right1\"></i>\\n<i class=\"line to_right2\"></i>\\n<i class=\"line to_right3\"></i>\\n<i class=\"line to_bottom1\"></i>\\n<i class=\"line to_bottom2\"></i>\\n<i class=\"line to_bottom3\"></i>\\n<i class=\"line to_bottom4\"></i>\\n<i class=\"line to_bottom5\"></i>\\n</div>\\n<div class=\"thumb_area\">\\n<div\\nclass=\"thumb_box _NM_NEWSSTAND_THUMB _NM_NEWSSTAND_THUMB_press_valid\"\\ndata-pid=\"081\"\\n>\\n<a href=\"#\" class=\"thumb\">\\n<img\\nsrc=\"https://s.pstatic.net/static/newsstand/up/2022/0208/nsd16121208.png\"\\nheight=\"20\"\\nalt=\"\\xec\\x84\\x9c\\xec\\x9a\\xb8\\xec\\x8b\\xa0\\xeb\\xac\\xb8\"\\nclass=\"news_logo\"\\n/>\\n<span class=\"thumb_dim\"></span\\n></a>\\n<div class=\"popup_wrap\">\\n<a\\nhref=\"#\"\\nrole=\"button\"\\nclass=\"btn_popup _NM_NEWSSTAND_THUMB_subscribe_press\"\\ndata-pid=\"081\"\\ndata-clk=\"sub\"\\n>\\xea\\xb5\\xac\\xeb\\x8f\\x85</a\\n>\\n<a\\nhref=\"#\"\\nrole=\"button\"\\nclass=\"btn_popup _NM_NEWSSTAND_THUMB_unsubscribe_press\"\\ndata-pid=\"081\"\\ndata-clk=\"unsub\"\\n>\\xed\\x95\\xb4\\xec\\xa7\\x80</a\\n>\\n<a\\nhref=\"http://newsstand.naver.com/?list=&pcode=081\"\\ntarget=\"_blank\"\\nclass=\"btn_popup\"\\ndata-clk=\"logo\"\\ndata-pid=\"081\"\\n>\\xea\\xb8\\xb0\\xec\\x82\\xac\\xeb\\xb3\\xb4\\xea\\xb8\\xb0</a\\n>\\n</div>\\n</div>\\n<div\\nclass=\"thumb_box _NM_NEWSSTAND_THUMB _NM_NEWSSTAND_THUMB_press_valid\"\\ndata-pid=\"006\"\\n>\\n<a href=\"#\" class=\"thumb\">\\n<img\\nsrc=\"https://s.pstatic.net/static/newsstand/2020/logo/light/0604/006.png\"\\nheight=\"20\"\\nalt=\"\\xeb\\xaf\\xb8\\xeb\\x94\\x94\\xec\\x96\\xb4\\xec\\x98\\xa4\\xeb\\x8a\\x98\"\\nclass=\"news_logo\"\\n/>\\n<span class=\"thumb_dim\"></span\\n></a>\\n<div class=\"popup_wrap\">\\n<a\\nhref=\"#\"\\nrole=\"button\"\\nclass=\"btn_popup _NM_NEWSSTAND_THUMB_subscribe_press\"\\ndata-pid=\"006\"\\ndata-clk=\"sub\"\\n>\\xea\\xb5\\xac\\xeb\\x8f\\x85</a\\n>\\n<a\\nhref=\"#\"\\nrole=\"button\"\\nclass=\"btn_popup _NM_NEWSSTAND_THUMB_unsubscribe_press\"\\ndata-pid=\"006\"\\ndata-clk=\"unsub\"\\n>\\xed\\x95\\xb4\\xec\\xa7\\x80</a\\n>\\n<a\\nhref=\"http://newsstand.naver.com/?list=&pcode=006\"\\ntarget=\"_blank\"\\nclass=\"btn_popup\"\\ndata-clk=\"logo\"\\ndata-pid=\"006\"\\n>\\xea\\xb8\\xb0\\xec\\x82\\xac\\xeb\\xb3\\xb4\\xea\\xb8\\xb0</a\\n>\\n</div>\\n</div>\\n<div\\nclass=\"thumb_box _NM_NEWSSTAND_THUMB _NM_NEWSSTAND_THUMB_press_valid\"\\ndata-pid=\"030\"\\n>\\n<a href=\"#\" class=\"thumb\">\\n<img\\nsrc=\"https://s.pstatic.net/static/newsstand/2020/logo/light/0604/030.png\"\\nheight=\"20\"\\nalt=\"\\xec\\xa0\\x84\\xec\\x9e\\x90\\xec\\x8b\\xa0\\xeb\\xac\\xb8\"\\nclass=\"news_logo\"\\n/>\\n<span class=\"thumb_dim\"></span\\n></a>\\n<div class=\"popup_wrap\">\\n<a\\nhref=\"#\"\\nrole=\"button\"\\nclass=\"btn_popup _NM_NEWSSTAND_THUMB_subscribe_press\"\\ndata-pid=\"030\"\\ndata-clk=\"sub\"\\n>\\xea\\xb5\\xac\\xeb\\x8f\\x85</a\\n>\\n<a\\nhref=\"#\"\\nrole=\"button\"\\nclass=\"btn_popup _NM_NEWSSTAND_THUMB_unsubscribe_press\"\\ndata-pid=\"030\"\\ndata-clk=\"unsub\"\\n>\\xed\\x95\\xb4\\xec\\xa7\\x80</a\\n>\\n<a\\nhref=\"http://newsstand.naver.com/?list=&pcode=030\"\\ntarget=\"_blank\"\\nclass=\"btn_popup\"\\ndata-clk=\"logo\"\\ndata-pid=\"030\"\\n>\\xea\\xb8\\xb0\\xec\\x82\\xac\\xeb\\xb3\\xb4\\xea\\xb8\\xb0</a\\n>\\n</div>\\n</div>\\n<div\\nclass=\"thumb_box _NM_NEWSSTAND_THUMB _NM_NEWSSTAND_THUMB_press_valid\"\\ndata-pid=\"326\"\\n>\\n<a href=\"#\" class=\"thumb\">\\n<img\\nsrc=\"https://s.pstatic.net/static/newsstand/2020/logo/light/0604/326.png\"\\nheight=\"20\"\\nalt=\"KBS World\"\\nclass=\"news_logo\"\\n/>\\n<span class=\"thumb_dim\"></span\\n></a>\\n<div class=\"popup_wrap\">\\n<a\\nhref=\"#\"\\nrole=\"button\"\\nclass=\"btn_popup _NM_NEWSSTAND_THUMB_subscribe_press\"\\ndata-pid=\"326\"\\ndata-clk=\"sub\"\\n>\\xea\\xb5\\xac\\xeb\\x8f\\x85</a\\n>\\n<a\\nhref=\"#\"\\nrole=\"button\"\\nclass=\"btn_popup _NM_NEWSSTAND_THUMB_unsubscribe_press\"\\ndata-pid=\"326\"\\ndata-clk=\"unsub\"\\n>\\xed\\x95\\xb4\\xec\\xa7\\x80</a\\n>\\n<a\\nhref=\"http://newsstand.naver.com/?list=&pcode=326\"\\ntarget=\"_blank\"\\nclass=\"btn_popup\"\\ndata-clk=\"logo\"\\ndata-pid=\"326\"\\n>\\xea\\xb8\\xb0\\xec\\x82\\xac\\xeb\\xb3\\xb4\\xea\\xb8\\xb0</a\\n>\\n</div>\\n</div>\\n<div\\nclass=\"thumb_box _NM_NEWSSTAND_THUMB _NM_NEWSSTAND_THUMB_press_valid\"\\ndata-pid=\"014\"\\n>\\n<a href=\"#\" class=\"thumb\">\\n<img\\nsrc=\"https://s.pstatic.net/static/newsstand/2020/logo/light/0604/014.png\"\\nheight=\"20\"\\nalt=\"\\xed\\x8c\\x8c\\xec\\x9d\\xb4\\xeb\\x82\\xb8\\xec\\x85\\x9c\\xeb\\x89\\xb4\\xec\\x8a\\xa4\"\\nclass=\"news_logo\"\\n/>\\n<span class=\"thumb_dim\"></span\\n></a>\\n<div class=\"popup_wrap\">\\n<a\\nhref=\"#\"\\nrole=\"button\"\\nclass=\"btn_popup _NM_NEWSSTAND_THUMB_subscribe_press\"\\ndata-pid=\"014\"\\ndata-clk=\"sub\"\\n>\\xea\\xb5\\xac\\xeb\\x8f\\x85</a\\n>\\n<a\\nhref=\"#\"\\nrole=\"button\"\\nclass=\"btn_popup _NM_NEWSSTAND_THUMB_unsubscribe_press\"\\ndata-pid=\"014\"\\ndata-clk=\"unsub\"\\n>\\xed\\x95\\xb4\\xec\\xa7\\x80</a\\n>\\n<a\\nhref=\"http://newsstand.naver.com/?list=&pcode=014\"\\ntarget=\"_blank\"\\nclass=\"btn_popup\"\\ndata-clk=\"logo\"\\ndata-pid=\"014\"\\n>\\xea\\xb8\\xb0\\xec\\x82\\xac\\xeb\\xb3\\xb4\\xea\\xb8\\xb0</a\\n>\\n</div>\\n</div>\\n<div\\nclass=\"thumb_box _NM_NEWSSTAND_THUMB _NM_NEWSSTAND_THUMB_press_valid\"\\ndata-pid=\"330\"\\n>\\n<a href=\"#\" class=\"thumb\">\\n<img\\nsrc=\"https://s.pstatic.net/static/newsstand/2020/logo/light/0604/330.png\"\\nheight=\"20\"\\nalt=\"\\xec\\xa4\\x91\\xec\\x95\\x99\\xeb\\x8d\\xb0\\xec\\x9d\\xbc\\xeb\\xa6\\xac\"\\nclass=\"news_logo\"\\n/>\\n<span class=\"thumb_dim\"></span\\n></a>\\n<div class=\"popup_wrap\">\\n<a\\nhref=\"#\"\\nrole=\"button\"\\nclass=\"btn_popup _NM_NEWSSTAND_THUMB_subscribe_press\"\\ndata-pid=\"330\"\\ndata-clk=\"sub\"\\n>\\xea\\xb5\\xac\\xeb\\x8f\\x85</a\\n>\\n<a\\nhref=\"#\"\\nrole=\"button\"\\nclass=\"btn_popup _NM_NEWSSTAND_THUMB_unsubscribe_press\"\\ndata-pid=\"330\"\\ndata-clk=\"unsub\"\\n>\\xed\\x95\\xb4\\xec\\xa7\\x80</a\\n>\\n<a\\nhref=\"http://newsstand.naver.com/?list=&pcode=330\"\\ntarget=\"_blank\"\\nclass=\"btn_popup\"\\ndata-clk=\"logo\"\\ndata-pid=\"330\"\\n>\\xea\\xb8\\xb0\\xec\\x82\\xac\\xeb\\xb3\\xb4\\xea\\xb8\\xb0</a\\n>\\n</div>\\n</div>\\n<div\\nclass=\"thumb_box _NM_NEWSSTAND_THUMB _NM_NEWSSTAND_THUMB_press_valid\"\\ndata-pid=\"368\"\\n>\\n<a href=\"#\" class=\"thumb\">\\n<img\\nsrc=\"https://s.pstatic.net/static/newsstand/2020/logo/light/0604/368.png\"\\nheight=\"20\"\\nalt=\"\\xeb\\x8d\\xb0\\xec\\x9d\\xbc\\xeb\\xa6\\xac\\xec\\x95\\x88\"\\nclass=\"news_logo\"\\n/>\\n<span class=\"thumb_dim\"></span\\n></a>\\n<div class=\"popup_wrap\">\\n<a\\nhref=\"#\"\\nrole=\"button\"\\nclass=\"btn_popup _NM_NEWSSTAND_THUMB_subscribe_press\"\\ndata-pid=\"368\"\\ndata-clk=\"sub\"\\n>\\xea\\xb5\\xac\\xeb\\x8f\\x85</a\\n>\\n<a\\nhref=\"#\"\\nrole=\"button\"\\nclass=\"btn_popup _NM_NEWSSTAND_THUMB_unsubscribe_press\"\\ndata-pid=\"368\"\\ndata-clk=\"unsub\"\\n>\\xed\\x95\\xb4\\xec\\xa7\\x80</a\\n>\\n<a\\nhref=\"http://newsstand.naver.com/?list=&pcode=368\"\\ntarget=\"_blank\"\\nclass=\"btn_popup\"\\ndata-clk=\"logo\"\\ndata-pid=\"368\"\\n>\\xea\\xb8\\xb0\\xec\\x82\\xac\\xeb\\xb3\\xb4\\xea\\xb8\\xb0</a\\n>\\n</div>\\n</div>\\n<div\\nclass=\"thumb_box _NM_NEWSSTAND_THUMB _NM_NEWSSTAND_THUMB_press_valid\"\\ndata-pid=\"038\"\\n>\\n<a href=\"#\" class=\"thumb\">\\n<img\\nsrc=\"https://s.pstatic.net/static/newsstand/2020/logo/light/0604/038.png\"\\nheight=\"20\"\\nalt=\"\\xed\\x95\\x9c\\xea\\xb5\\xad\\xec\\x9d\\xbc\\xeb\\xb3\\xb4\"\\nclass=\"news_logo\"\\n/>\\n<span class=\"thumb_dim\"></span\\n></a>\\n<div class=\"popup_wrap\">\\n<a\\nhref=\"#\"\\nrole=\"button\"\\nclass=\"btn_popup _NM_NEWSSTAND_THUMB_subscribe_press\"\\ndata-pid=\"038\"\\ndata-clk=\"sub\"\\n>\\xea\\xb5\\xac\\xeb\\x8f\\x85</a\\n>\\n<a\\nhref=\"#\"\\nrole=\"button\"\\nclass=\"btn_popup _NM_NEWSSTAND_THUMB_unsubscribe_press\"\\ndata-pid=\"038\"\\ndata-clk=\"unsub\"\\n>\\xed\\x95\\xb4\\xec\\xa7\\x80</a\\n>\\n<a\\nhref=\"http://newsstand.naver.com/?list=&pcode=038\"\\ntarget=\"_blank\"\\nclass=\"btn_popup\"\\ndata-clk=\"logo\"\\ndata-pid=\"038\"\\n>\\xea\\xb8\\xb0\\xec\\x82\\xac\\xeb\\xb3\\xb4\\xea\\xb8\\xb0</a\\n>\\n</div>\\n</div>\\n<div\\nclass=\"thumb_box _NM_NEWSSTAND_THUMB _NM_NEWSSTAND_THUMB_press_valid\"\\ndata-pid=\"005\"\\n>\\n<a href=\"#\" class=\"thumb\">\\n<img\\nsrc=\"https://s.pstatic.net/static/newsstand/2020/logo/light/0604/005.png\"\\nheight=\"20\"\\nalt=\"\\xea\\xb5\\xad\\xeb\\xaf\\xbc\\xec\\x9d\\xbc\\xeb\\xb3\\xb4\"\\nclass=\"news_logo\"\\n/>\\n<span class=\"thumb_dim\"></span\\n></a>\\n<div class=\"popup_wrap\">\\n<a\\nhref=\"#\"\\nrole=\"button\"\\nclass=\"btn_popup _NM_NEWSSTAND_THUMB_subscribe_press\"\\ndata-pid=\"005\"\\ndata-clk=\"sub\"\\n>\\xea\\xb5\\xac\\xeb\\x8f\\x85</a\\n>\\n<a\\nhref=\"#\"\\nrole=\"button\"\\nclass=\"btn_popup _NM_NEWSSTAND_THUMB_unsubscribe_press\"\\ndata-pid=\"005\"\\ndata-clk=\"unsub\"\\n>\\xed\\x95\\xb4\\xec\\xa7\\x80</a\\n>\\n<a\\nhref=\"http://newsstand.naver.com/?list=&pcode=005\"\\ntarget=\"_blank\"\\nclass=\"btn_popup\"\\ndata-clk=\"logo\"\\ndata-pid=\"005\"\\n>\\xea\\xb8\\xb0\\xec\\x82\\xac\\xeb\\xb3\\xb4\\xea\\xb8\\xb0</a\\n>\\n</div>\\n</div>\\n<div\\nclass=\"thumb_box _NM_NEWSSTAND_THUMB _NM_NEWSSTAND_THUMB_press_valid\"\\ndata-pid=\"241\"\\n>\\n<a href=\"#\" class=\"thumb\">\\n<img\\nsrc=\"https://s.pstatic.net/static/newsstand/2020/logo/light/0604/241.png\"\\nheight=\"20\"\\nalt=\"\\xec\\x9d\\xbc\\xea\\xb0\\x84\\xec\\x8a\\xa4\\xed\\x8f\\xac\\xec\\xb8\\xa0\"\\nclass=\"news_logo\"\\n/>\\n<span class=\"thumb_dim\"></span\\n></a>\\n<div class=\"popup_wrap\">\\n<a\\nhref=\"#\"\\nrole=\"button\"\\nclass=\"btn_popup _NM_NEWSSTAND_THUMB_subscribe_press\"\\ndata-pid=\"241\"\\ndata-clk=\"sub\"\\n>\\xea\\xb5\\xac\\xeb\\x8f\\x85</a\\n>\\n<a\\nhref=\"#\"\\nrole=\"button\"\\nclass=\"btn_popup _NM_NEWSSTAND_THUMB_unsubscribe_press\"\\ndata-pid=\"241\"\\ndata-clk=\"unsub\"\\n>\\xed\\x95\\xb4\\xec\\xa7\\x80</a\\n>\\n<a\\nhref=\"http://newsstand.naver.com/?list=&pcode=241\"\\ntarget=\"_blank\"\\nclass=\"btn_popup\"\\ndata-clk=\"logo\"\\ndata-pid=\"241\"\\n>\\xea\\xb8\\xb0\\xec\\x82\\xac\\xeb\\xb3\\xb4\\xea\\xb8\\xb0</a\\n>\\n</div>\\n</div>\\n<div\\nclass=\"thumb_box _NM_NEWSSTAND_THUMB _NM_NEWSSTAND_THUMB_press_valid\"\\ndata-pid=\"215\"\\n>\\n<a href=\"#\" class=\"thumb\">\\n<img\\nsrc=\"https://s.pstatic.net/static/newsstand/2020/logo/light/0604/215.png\"\\nheight=\"20\"\\nalt=\"\\xed\\x95\\x9c\\xea\\xb5\\xad\\xea\\xb2\\xbd\\xec\\xa0\\x9cTV\"\\nclass=\"news_logo\"\\n/>\\n<span class=\"thumb_dim\"></span\\n></a>\\n<div class=\"popup_wrap\">\\n<a\\nhref=\"#\"\\nrole=\"button\"\\nclass=\"btn_popup _NM_NEWSSTAND_THUMB_subscribe_press\"\\ndata-pid=\"215\"\\ndata-clk=\"sub\"\\n>\\xea\\xb5\\xac\\xeb\\x8f\\x85</a\\n>\\n<a\\nhref=\"#\"\\nrole=\"button\"\\nclass=\"btn_popup _NM_NEWSSTAND_THUMB_unsubscribe_press\"\\ndata-pid=\"215\"\\ndata-clk=\"unsub\"\\n>\\xed\\x95\\xb4\\xec\\xa7\\x80</a\\n>\\n<a\\nhref=\"http://newsstand.naver.com/?list=&pcode=215\"\\ntarget=\"_blank\"\\nclass=\"btn_popup\"\\ndata-clk=\"logo\"\\ndata-pid=\"215\"\\n>\\xea\\xb8\\xb0\\xec\\x82\\xac\\xeb\\xb3\\xb4\\xea\\xb8\\xb0</a\\n>\\n</div>\\n</div>\\n<div\\nclass=\"thumb_box _NM_NEWSSTAND_THUMB _NM_NEWSSTAND_THUMB_press_valid\"\\ndata-pid=\"057\"\\n>\\n<a href=\"#\" class=\"thumb\">\\n<img\\nsrc=\"https://s.pstatic.net/static/newsstand/2020/logo/light/0604/057.png\"\\nheight=\"20\"\\nalt=\"MBN\"\\nclass=\"news_logo\"\\n/>\\n<span class=\"thumb_dim\"></span\\n></a>\\n<div class=\"popup_wrap\">\\n<a\\nhref=\"#\"\\nrole=\"button\"\\nclass=\"btn_popup _NM_NEWSSTAND_THUMB_subscribe_press\"\\ndata-pid=\"057\"\\ndata-clk=\"sub\"\\n>\\xea\\xb5\\xac\\xeb\\x8f\\x85</a\\n>\\n<a\\nhref=\"#\"\\nrole=\"button\"\\nclass=\"btn_popup _NM_NEWSSTAND_THUMB_unsubscribe_press\"\\ndata-pid=\"057\"\\ndata-clk=\"unsub\"\\n>\\xed\\x95\\xb4\\xec\\xa7\\x80</a\\n>\\n<a\\nhref=\"http://newsstand.naver.com/?list=&pcode=057\"\\ntarget=\"_blank\"\\nclass=\"btn_popup\"\\ndata-clk=\"logo\"\\ndata-pid=\"057\"\\n>\\xea\\xb8\\xb0\\xec\\x82\\xac\\xeb\\xb3\\xb4\\xea\\xb8\\xb0</a\\n>\\n</div>\\n</div>\\n<div\\nclass=\"thumb_box _NM_NEWSSTAND_THUMB _NM_NEWSSTAND_THUMB_press_valid\"\\ndata-pid=\"023\"\\n>\\n<a href=\"#\" class=\"thumb\">\\n<img\\nsrc=\"https://s.pstatic.net/static/newsstand/up/2020/0903/nsd185255316.png\"\\nheight=\"20\"\\nalt=\"\\xec\\xa1\\xb0\\xec\\x84\\xa0\\xec\\x9d\\xbc\\xeb\\xb3\\xb4\"\\nclass=\"news_logo\"\\n/>\\n<span class=\"thumb_dim\"></span\\n></a>\\n<div class=\"popup_wrap\">\\n<a\\nhref=\"#\"\\nrole=\"button\"\\nclass=\"btn_popup _NM_NEWSSTAND_THUMB_subscribe_press\"\\ndata-pid=\"023\"\\ndata-clk=\"sub\"\\n>\\xea\\xb5\\xac\\xeb\\x8f\\x85</a\\n>\\n<a\\nhref=\"#\"\\nrole=\"button\"\\nclass=\"btn_popup _NM_NEWSSTAND_THUMB_unsubscribe_press\"\\ndata-pid=\"023\"\\ndata-clk=\"unsub\"\\n>\\xed\\x95\\xb4\\xec\\xa7\\x80</a\\n>\\n<a\\nhref=\"http://newsstand.naver.com/?list=&pcode=023\"\\ntarget=\"_blank\"\\nclass=\"btn_popup\"\\ndata-clk=\"logo\"\\ndata-pid=\"023\"\\n>\\xea\\xb8\\xb0\\xec\\x82\\xac\\xeb\\xb3\\xb4\\xea\\xb8\\xb0</a\\n>\\n</div>\\n</div>\\n<div\\nclass=\"thumb_box _NM_NEWSSTAND_THUMB _NM_NEWSSTAND_THUMB_press_valid\"\\ndata-pid=\"025\"\\n>\\n<a href=\"#\" class=\"thumb\">\\n<img\\nsrc=\"https://s.pstatic.net/static/newsstand/up/2021/0824/nsd115034872.png\"\\nheight=\"20\"\\nalt=\"\\xec\\xa4\\x91\\xec\\x95\\x99\\xec\\x9d\\xbc\\xeb\\xb3\\xb4\"\\nclass=\"news_logo\"\\n/>\\n<span class=\"thumb_dim\"></span\\n></a>\\n<div class=\"popup_wrap\">\\n<a\\nhref=\"#\"\\nrole=\"button\"\\nclass=\"btn_popup _NM_NEWSSTAND_THUMB_subscribe_press\"\\ndata-pid=\"025\"\\ndata-clk=\"sub\"\\n>\\xea\\xb5\\xac\\xeb\\x8f\\x85</a\\n>\\n<a\\nhref=\"#\"\\nrole=\"button\"\\nclass=\"btn_popup _NM_NEWSSTAND_THUMB_unsubscribe_press\"\\ndata-pid=\"025\"\\ndata-clk=\"unsub\"\\n>\\xed\\x95\\xb4\\xec\\xa7\\x80</a\\n>\\n<a\\nhref=\"http://newsstand.naver.com/?list=&pcode=025\"\\ntarget=\"_blank\"\\nclass=\"btn_popup\"\\ndata-clk=\"logo\"\\ndata-pid=\"025\"\\n>\\xea\\xb8\\xb0\\xec\\x82\\xac\\xeb\\xb3\\xb4\\xea\\xb8\\xb0</a\\n>\\n</div>\\n</div>\\n<div\\nclass=\"thumb_box _NM_NEWSSTAND_THUMB _NM_NEWSSTAND_THUMB_press_valid\"\\ndata-pid=\"117\"\\n>\\n<a href=\"#\" class=\"thumb\">\\n<img\\nsrc=\"https://s.pstatic.net/static/newsstand/2020/logo/light/0604/117.png\"\\nheight=\"20\"\\nalt=\"\\xeb\\xa7\\x88\\xec\\x9d\\xb4\\xeb\\x8d\\xb0\\xec\\x9d\\xbc\\xeb\\xa6\\xac\"\\nclass=\"news_logo\"\\n/>\\n<span class=\"thumb_dim\"></span\\n></a>\\n<div class=\"popup_wrap\">\\n<a\\nhref=\"#\"\\nrole=\"button\"\\nclass=\"btn_popup _NM_NEWSSTAND_THUMB_subscribe_press\"\\ndata-pid=\"117\"\\ndata-clk=\"sub\"\\n>\\xea\\xb5\\xac\\xeb\\x8f\\x85</a\\n>\\n<a\\nhref=\"#\"\\nrole=\"button\"\\nclass=\"btn_popup _NM_NEWSSTAND_THUMB_unsubscribe_press\"\\ndata-pid=\"117\"\\ndata-clk=\"unsub\"\\n>\\xed\\x95\\xb4\\xec\\xa7\\x80</a\\n>\\n<a\\nhref=\"http://newsstand.naver.com/?list=&pcode=117\"\\ntarget=\"_blank\"\\nclass=\"btn_popup\"\\ndata-clk=\"logo\"\\ndata-pid=\"117\"\\n>\\xea\\xb8\\xb0\\xec\\x82\\xac\\xeb\\xb3\\xb4\\xea\\xb8\\xb0</a\\n>\\n</div>\\n</div>\\n<div\\nclass=\"thumb_box _NM_NEWSSTAND_THUMB _NM_NEWSSTAND_THUMB_press_valid\"\\ndata-pid=\"909\"\\n>\\n<a href=\"#\" class=\"thumb\">\\n<img\\nsrc=\"https://s.pstatic.net/static/newsstand/2020/logo/light/0604/909.png\"\\nheight=\"20\"\\nalt=\"\\xea\\xb8\\xb0\\xed\\x98\\xb8\\xec\\x9d\\xbc\\xeb\\xb3\\xb4\"\\nclass=\"news_logo\"\\n/>\\n<span class=\"thumb_dim\"></span\\n></a>\\n<div class=\"popup_wrap\">\\n<a\\nhref=\"#\"\\nrole=\"button\"\\nclass=\"btn_popup _NM_NEWSSTAND_THUMB_subscribe_press\"\\ndata-pid=\"909\"\\ndata-clk=\"sub\"\\n>\\xea\\xb5\\xac\\xeb\\x8f\\x85</a\\n>\\n<a\\nhref=\"#\"\\nrole=\"button\"\\nclass=\"btn_popup _NM_NEWSSTAND_THUMB_unsubscribe_press\"\\ndata-pid=\"909\"\\ndata-clk=\"unsub\"\\n>\\xed\\x95\\xb4\\xec\\xa7\\x80</a\\n>\\n<a\\nhref=\"http://newsstand.naver.com/?list=&pcode=909\"\\ntarget=\"_blank\"\\nclass=\"btn_popup\"\\ndata-clk=\"logo\"\\ndata-pid=\"909\"\\n>\\xea\\xb8\\xb0\\xec\\x82\\xac\\xeb\\xb3\\xb4\\xea\\xb8\\xb0</a\\n>\\n</div>\\n</div>\\n<div\\nclass=\"thumb_box _NM_NEWSSTAND_THUMB _NM_NEWSSTAND_THUMB_press_valid\"\\ndata-pid=\"339\"\\n>\\n<a href=\"#\" class=\"thumb\">\\n<img\\nsrc=\"https://s.pstatic.net/static/newsstand/2020/logo/light/0604/339.png\"\\nheight=\"20\"\\nalt=\"\\xea\\xb2\\xbd\\xea\\xb8\\xb0\\xec\\x9d\\xbc\\xeb\\xb3\\xb4\"\\nclass=\"news_logo\"\\n/>\\n<span class=\"thumb_dim\"></span\\n></a>\\n<div class=\"popup_wrap\">\\n<a\\nhref=\"#\"\\nrole=\"button\"\\nclass=\"btn_popup _NM_NEWSSTAND_THUMB_subscribe_press\"\\ndata-pid=\"339\"\\ndata-clk=\"sub\"\\n>\\xea\\xb5\\xac\\xeb\\x8f\\x85</a\\n>\\n<a\\nhref=\"#\"\\nrole=\"button\"\\nclass=\"btn_popup _NM_NEWSSTAND_THUMB_unsubscribe_press\"\\ndata-pid=\"339\"\\ndata-clk=\"unsub\"\\n>\\xed\\x95\\xb4\\xec\\xa7\\x80</a\\n>\\n<a\\nhref=\"http://newsstand.naver.com/?list=&pcode=339\"\\ntarget=\"_blank\"\\nclass=\"btn_popup\"\\ndata-clk=\"logo\"\\ndata-pid=\"339\"\\n>\\xea\\xb8\\xb0\\xec\\x82\\xac\\xeb\\xb3\\xb4\\xea\\xb8\\xb0</a\\n>\\n</div>\\n</div>\\n<div\\nclass=\"thumb_box _NM_NEWSSTAND_THUMB _NM_NEWSSTAND_THUMB_press_valid\"\\ndata-pid=\"926\"\\n>\\n<a href=\"#\" class=\"thumb\">\\n<img\\nsrc=\"https://s.pstatic.net/static/newsstand/up/2022/0704/nsd231551300.png\"\\nheight=\"20\"\\nalt=\"\\xec\\xa4\\x91\\xeb\\xb6\\x80\\xec\\x9d\\xbc\\xeb\\xb3\\xb4\"\\nclass=\"news_logo\"\\n/>\\n<span class=\"thumb_dim\"></span\\n></a>\\n<div class=\"popup_wrap\">\\n<a\\nhref=\"#\"\\nrole=\"button\"\\nclass=\"btn_popup _NM_NEWSSTAND_THUMB_subscribe_press\"\\ndata-pid=\"926\"\\ndata-clk=\"sub\"\\n>\\xea\\xb5\\xac\\xeb\\x8f\\x85</a\\n>\\n<a\\nhref=\"#\"\\nrole=\"button\"\\nclass=\"btn_popup _NM_NEWSSTAND_THUMB_unsubscribe_press\"\\ndata-pid=\"926\"\\ndata-clk=\"unsub\"\\n>\\xed\\x95\\xb4\\xec\\xa7\\x80</a\\n>\\n<a\\nhref=\"http://newsstand.naver.com/?list=&pcode=926\"\\ntarget=\"_blank\"\\nclass=\"btn_popup\"\\ndata-clk=\"logo\"\\ndata-pid=\"926\"\\n>\\xea\\xb8\\xb0\\xec\\x82\\xac\\xeb\\xb3\\xb4\\xea\\xb8\\xb0</a\\n>\\n</div>\\n</div>\\n<div\\nclass=\"thumb_box _NM_NEWSSTAND_THUMB _NM_NEWSSTAND_THUMB_press_valid\"\\ndata-pid=\"143\"\\n>\\n<a href=\"#\" class=\"thumb\">\\n<img\\nsrc=\"https://s.pstatic.net/static/newsstand/up/2022/0823/nsd105911492.png\"\\nheight=\"20\"\\nalt=\"\\xec\\xbf\\xa0\\xed\\x82\\xa4\\xeb\\x89\\xb4\\xec\\x8a\\xa4\"\\nclass=\"news_logo\"\\n/>\\n<span class=\"thumb_dim\"></span\\n></a>\\n<div class=\"popup_wrap\">\\n<a\\nhref=\"#\"\\nrole=\"button\"\\nclass=\"btn_popup _NM_NEWSSTAND_THUMB_subscribe_press\"\\ndata-pid=\"143\"\\ndata-clk=\"sub\"\\n>\\xea\\xb5\\xac\\xeb\\x8f\\x85</a\\n>\\n<a\\nhref=\"#\"\\nrole=\"button\"\\nclass=\"btn_popup _NM_NEWSSTAND_THUMB_unsubscribe_press\"\\ndata-pid=\"143\"\\ndata-clk=\"unsub\"\\n>\\xed\\x95\\xb4\\xec\\xa7\\x80</a\\n>\\n<a\\nhref=\"http://newsstand.naver.com/?list=&pcode=143\"\\ntarget=\"_blank\"\\nclass=\"btn_popup\"\\ndata-clk=\"logo\"\\ndata-pid=\"143\"\\n>\\xea\\xb8\\xb0\\xec\\x82\\xac\\xeb\\xb3\\xb4\\xea\\xb8\\xb0</a\\n>\\n</div>\\n</div>\\n<div\\nclass=\"thumb_box _NM_NEWSSTAND_THUMB _NM_NEWSSTAND_THUMB_press_valid\"\\ndata-pid=\"539\"\\n>\\n<a href=\"#\" class=\"thumb\">\\n<img\\nsrc=\"https://s.pstatic.net/static/newsstand/2020/logo/light/0604/539.png\"\\nheight=\"20\"\\nalt=\"\\xec\\x9c\\x84\\xed\\x82\\xa4\\xed\\x8a\\xb8\\xeb\\xa6\\xac\"\\nclass=\"news_logo\"\\n/>\\n<span class=\"thumb_dim\"></span\\n></a>\\n<div class=\"popup_wrap\">\\n<a\\nhref=\"#\"\\nrole=\"button\"\\nclass=\"btn_popup _NM_NEWSSTAND_THUMB_subscribe_press\"\\ndata-pid=\"539\"\\ndata-clk=\"sub\"\\n>\\xea\\xb5\\xac\\xeb\\x8f\\x85</a\\n>\\n<a\\nhref=\"#\"\\nrole=\"button\"\\nclass=\"btn_popup _NM_NEWSSTAND_THUMB_unsubscribe_press\"\\ndata-pid=\"539\"\\ndata-clk=\"unsub\"\\n>\\xed\\x95\\xb4\\xec\\xa7\\x80</a\\n>\\n<a\\nhref=\"http://newsstand.naver.com/?list=&pcode=539\"\\ntarget=\"_blank\"\\nclass=\"btn_popup\"\\ndata-clk=\"logo\"\\ndata-pid=\"539\"\\n>\\xea\\xb8\\xb0\\xec\\x82\\xac\\xeb\\xb3\\xb4\\xea\\xb8\\xb0</a\\n>\\n</div>\\n</div>\\n<div\\nclass=\"thumb_box _NM_NEWSSTAND_THUMB _NM_NEWSSTAND_THUMB_press_valid\"\\ndata-pid=\"923\"\\n>\\n<a href=\"#\" class=\"thumb\">\\n<img\\nsrc=\"https://s.pstatic.net/static/newsstand/2020/logo/light/0604/923.png\"\\nheight=\"20\"\\nalt=\"\\xec\\x9d\\xb8\\xeb\\xaf\\xbc\\xeb\\xa7\\x9d\"\\nclass=\"news_logo\"\\n/>\\n<span class=\"thumb_dim\"></span\\n></a>\\n<div class=\"popup_wrap\">\\n<a\\nhref=\"#\"\\nrole=\"button\"\\nclass=\"btn_popup _NM_NEWSSTAND_THUMB_subscribe_press\"\\ndata-pid=\"923\"\\ndata-clk=\"sub\"\\n>\\xea\\xb5\\xac\\xeb\\x8f\\x85</a\\n>\\n<a\\nhref=\"#\"\\nrole=\"button\"\\nclass=\"btn_popup _NM_NEWSSTAND_THUMB_unsubscribe_press\"\\ndata-pid=\"923\"\\ndata-clk=\"unsub\"\\n>\\xed\\x95\\xb4\\xec\\xa7\\x80</a\\n>\\n<a\\nhref=\"http://newsstand.naver.com/?list=&pcode=923\"\\ntarget=\"_blank\"\\nclass=\"btn_popup\"\\ndata-clk=\"logo\"\\ndata-pid=\"923\"\\n>\\xea\\xb8\\xb0\\xec\\x82\\xac\\xeb\\xb3\\xb4\\xea\\xb8\\xb0</a\\n>\\n</div>\\n</div>\\n<div\\nclass=\"thumb_box _NM_NEWSSTAND_THUMB _NM_NEWSSTAND_THUMB_press_valid\"\\ndata-pid=\"687\"\\n>\\n<a href=\"#\" class=\"thumb\">\\n<img\\nsrc=\"https://s.pstatic.net/static/newsstand/up/2022/1006/nsd205818702.png\"\\nheight=\"20\"\\nalt=\"\\xeb\\x89\\xb4\\xec\\x8a\\xa4\\xed\\x81\\xb4\\xeb\\xa0\\x88\\xec\\x9e\\x84\"\\nclass=\"news_logo\"\\n/>\\n<span class=\"thumb_dim\"></span\\n></a>\\n<div class=\"popup_wrap\">\\n<a\\nhref=\"#\"\\nrole=\"button\"\\nclass=\"btn_popup _NM_NEWSSTAND_THUMB_subscribe_press\"\\ndata-pid=\"687\"\\ndata-clk=\"sub\"\\n>\\xea\\xb5\\xac\\xeb\\x8f\\x85</a\\n>\\n<a\\nhref=\"#\"\\nrole=\"button\"\\nclass=\"btn_popup _NM_NEWSSTAND_THUMB_unsubscribe_press\"\\ndata-pid=\"687\"\\ndata-clk=\"unsub\"\\n>\\xed\\x95\\xb4\\xec\\xa7\\x80</a\\n>\\n<a\\nhref=\"http://newsstand.naver.com/?list=&pcode=687\"\\ntarget=\"_blank\"\\nclass=\"btn_popup\"\\ndata-clk=\"logo\"\\ndata-pid=\"687\"\\n>\\xea\\xb8\\xb0\\xec\\x82\\xac\\xeb\\xb3\\xb4\\xea\\xb8\\xb0</a\\n>\\n</div>\\n</div>\\n<div\\nclass=\"thumb_box _NM_NEWSSTAND_THUMB _NM_NEWSSTAND_THUMB_press_valid\"\\ndata-pid=\"973\"\\n>\\n<a href=\"#\" class=\"thumb\">\\n<img\\nsrc=\"https://s.pstatic.net/static/newsstand/2020/logo/light/0604/973.png\"\\nheight=\"20\"\\nalt=\"\\xeb\\xb9\\x84\\xec\\xa6\\x88\\xed\\x95\\x9c\\xea\\xb5\\xad\"\\nclass=\"news_logo\"\\n/>\\n<span class=\"thumb_dim\"></span\\n></a>\\n<div class=\"popup_wrap\">\\n<a\\nhref=\"#\"\\nrole=\"button\"\\nclass=\"btn_popup _NM_NEWSSTAND_THUMB_subscribe_press\"\\ndata-pid=\"973\"\\ndata-clk=\"sub\"\\n>\\xea\\xb5\\xac\\xeb\\x8f\\x85</a\\n>\\n<a\\nhref=\"#\"\\nrole=\"button\"\\nclass=\"btn_popup _NM_NEWSSTAND_THUMB_unsubscribe_press\"\\ndata-pid=\"973\"\\ndata-clk=\"unsub\"\\n>\\xed\\x95\\xb4\\xec\\xa7\\x80</a\\n>\\n<a\\nhref=\"http://newsstand.naver.com/?list=&pcode=973\"\\ntarget=\"_blank\"\\nclass=\"btn_popup\"\\ndata-clk=\"logo\"\\ndata-pid=\"973\"\\n>\\xea\\xb8\\xb0\\xec\\x82\\xac\\xeb\\xb3\\xb4\\xea\\xb8\\xb0</a\\n>\\n</div>\\n</div>\\n<div\\nclass=\"thumb_box _NM_NEWSSTAND_THUMB _NM_NEWSSTAND_THUMB_press_valid\"\\ndata-pid=\"310\"\\n>\\n<a href=\"#\" class=\"thumb\">\\n<img\\nsrc=\"https://s.pstatic.net/static/newsstand/2020/logo/light/0604/310.png\"\\nheight=\"20\"\\nalt=\"\\xec\\x97\\xac\\xec\\x84\\xb1\\xec\\x8b\\xa0\\xeb\\xac\\xb8\"\\nclass=\"news_logo\"\\n/>\\n<span class=\"thumb_dim\"></span\\n></a>\\n<div class=\"popup_wrap\">\\n<a\\nhref=\"#\"\\nrole=\"button\"\\nclass=\"btn_popup _NM_NEWSSTAND_THUMB_subscribe_press\"\\ndata-pid=\"310\"\\ndata-clk=\"sub\"\\n>\\xea\\xb5\\xac\\xeb\\x8f\\x85</a\\n>\\n<a\\nhref=\"#\"\\nrole=\"button\"\\nclass=\"btn_popup _NM_NEWSSTAND_THUMB_unsubscribe_press\"\\ndata-pid=\"310\"\\ndata-clk=\"unsub\"\\n>\\xed\\x95\\xb4\\xec\\xa7\\x80</a\\n>\\n<a\\nhref=\"http://newsstand.naver.com/?list=&pcode=310\"\\ntarget=\"_blank\"\\nclass=\"btn_popup\"\\ndata-clk=\"logo\"\\ndata-pid=\"310\"\\n>\\xea\\xb8\\xb0\\xec\\x82\\xac\\xeb\\xb3\\xb4\\xea\\xb8\\xb0</a\\n>\\n</div>\\n</div>\\n</div>\\n</div>\\n</div>\\n  </div> <div class=\"ly_popup NM_NEWSSTAND_POPUP NM_NEWSSTAND_invalid\" style=\"display:none\"> <a href=\"#\" role=\"button\" class=\"btn_close NM_NEWSSTAND_POPUP_CLOSE\"><i class=\"ico_close\"></i><span class=\"blind\">\\xeb\\x8b\\xab\\xea\\xb8\\xb0</span></a> <p class=\"popup_msg\">\\xed\\x95\\xb4\\xeb\\x8b\\xb9 \\xec\\x96\\xb8\\xeb\\xa1\\xa0\\xec\\x82\\xac \\xec\\x82\\xac\\xec\\xa0\\x95\\xec\\x9c\\xbc\\xeb\\xa1\\x9c \\xec\\xa0\\x91\\xea\\xb7\\xbc\\xec\\x9d\\xb4 \\xec\\xa0\\x9c\\xed\\x95\\x9c\\xeb\\x90\\xa9\\xeb\\x8b\\x88\\xeb\\x8b\\xa4.</p> <div class=\"popup_btn\"> <a href=\"#\" role=\"button\" class=\"btn_confirm NM_NEWSSTAND_POPUP_CLOSE\">\\xed\\x99\\x95\\xec\\x9d\\xb8</a> </div> </div> <div class=\"ly_popup NM_NEWSSTAND_POPUP NM_NEWSSTAND_undescribe_confirm\" style=\"display:none\" data-clk-sub=\"*a\"> <a href=\"#\" role=\"button\" class=\"btn_close NM_NEWSSTAND_POPUP_CLOSE\" data-clk=\"usclose\"><i class=\"ico_close\"></i><span class=\"blind\">\\xeb\\x8b\\xab\\xea\\xb8\\xb0</span></a> <p class=\"popup_msg\"><strong class=\"NM_NEWSSTAND_POPUP_PNAME\"></strong>\\xec\\x9d\\x84(\\xeb\\xa5\\xbc)<br/>\\xea\\xb5\\xac\\xeb\\x8f\\x85\\xed\\x95\\xb4\\xec\\xa7\\x80 \\xed\\x95\\x98\\xec\\x8b\\x9c\\xea\\xb2\\xa0\\xec\\x8a\\xb5\\xeb\\x8b\\x88\\xea\\xb9\\x8c?</p> <div class=\"popup_btn\"> <a href=\"#\" role=\"button\" class=\"btn_confirm NM_NEWSSTAND_POPUP_CONFIRM\" data-clk=\"usdone\">\\xed\\x99\\x95\\xec\\x9d\\xb8</a> <a href=\"#\" role=\"button\" class=\"btn_confirm NM_NEWSSTAND_POPUP_CLOSE\" data-clk=\"uscancel\">\\xec\\xb7\\xa8\\xec\\x86\\x8c</a> </div> </div> <div class=\"ly_toast NM_NEWSSTAND_TOAST\" style=\"display:none\"> <p class=\"toast_msg\">\\xea\\xb5\\xac\\xeb\\x8f\\x85\\xed\\x95\\x9c \\xec\\x96\\xb8\\xeb\\xa1\\xa0\\xec\\x82\\xac\\xec\\x97\\x90 \\xec\\xb6\\x94\\xea\\xb0\\x80\\xeb\\x90\\x98\\xec\\x97\\x88\\xec\\x8a\\xb5\\xeb\\x8b\\x88\\xeb\\x8b\\xa4.</p> </div> </div> <div id=\"NM_NEWSSTAND_MY_LIST\" class=\"group_news\" role=\"tabpanel\" style=\"display:none\" data-clk-prefix=\"nsd_myn\"> <a href=\"#\" role=\"button\" class=\"pm_btn_prev_l _NM_NEWSSTAND_LIST_prev_btn\" data-clk-custom=\"prev\"><i class=\"ico_btn\"></i><span class=\"blind\">\\xec\\x9d\\xb4\\xec\\xa0\\x84</span></a> <a href=\"#\" role=\"button\" class=\"pm_btn_next_l _NM_NEWSSTAND_LIST_next_btn\" data-clk-custom=\"next\"><i class=\"ico_btn\"></i><span class=\"blind\">\\xeb\\x8b\\xa4\\xec\\x9d\\x8c</span><span class=\"blind\">\\xeb\\x8b\\xa4\\xec\\x9d\\x8c</span></a> <div class=\"list_view\"> <div class=\"option_area\"> <div class=\"list_option_wrap\"> <ul class=\"list_option _NM_NEWSSTAND_MY_presslist\"> <!-- nvpaperlist:empty --> </ul> </div> </div> <div class=\"_NM_NEWSSTAND_ARTICLE_CONTAINER\" data-clk-sub=\"*a\">  </div> </div> <div class=\"ly_popup NM_NEWSSTAND_POPUP NM_NEWSSTAND_invalid\" style=\"display:none\"> <a href=\"#\" role=\"button\" class=\"btn_close NM_NEWSSTAND_POPUP_CLOSE\"><i class=\"ico_close\"></i><span class=\"blind\">\\xeb\\x8b\\xab\\xea\\xb8\\xb0</span></a> <p class=\"popup_msg\">\\xed\\x95\\xb4\\xeb\\x8b\\xb9 \\xec\\x96\\xb8\\xeb\\xa1\\xa0\\xec\\x82\\xac \\xec\\x82\\xac\\xec\\xa0\\x95\\xec\\x9c\\xbc\\xeb\\xa1\\x9c \\xec\\xa0\\x91\\xea\\xb7\\xbc\\xec\\x9d\\xb4 \\xec\\x9d\\xbc\\xec\\x8b\\x9c \\xec\\xa0\\x9c\\xed\\x95\\x9c\\xeb\\x90\\xa9\\xeb\\x8b\\x88\\xeb\\x8b\\xa4.</p> <div class=\"popup_btn\"> <a href=\"#\" role=\"button\" class=\"btn_confirm NM_NEWSSTAND_POPUP_CLOSE\">\\xed\\x99\\x95\\xec\\x9d\\xb8</a> </div> </div> <div class=\"ly_popup NM_NEWSSTAND_POPUP NM_NEWSSTAND_undescribe_confirm\" style=\"display:none\" data-clk-sub=\"*a\"> <a href=\"#\" role=\"button\" class=\"btn_close NM_NEWSSTAND_POPUP_CLOSE\" data-clk=\"usclose\"><i class=\"ico_close\"></i><span class=\"blind\">\\xeb\\x8b\\xab\\xea\\xb8\\xb0</span></a> <p class=\"popup_msg\"><strong class=\"NM_NEWSSTAND_POPUP_PNAME\"></strong>\\xec\\x9d\\x84(\\xeb\\xa5\\xbc)<br>\\xea\\xb5\\xac\\xeb\\x8f\\x85\\xed\\x95\\xb4\\xec\\xa7\\x80 \\xed\\x95\\x98\\xec\\x8b\\x9c\\xea\\xb2\\xa0\\xec\\x8a\\xb5\\xeb\\x8b\\x88\\xea\\xb9\\x8c?</p> <div class=\"popup_btn\"> <a href=\"#\" role=\"button\" class=\"btn_confirm NM_NEWSSTAND_POPUP_CONFIRM\" data-clk=\"usdone\">\\xed\\x99\\x95\\xec\\x9d\\xb8</a> <a href=\"#\" role=\"button\" class=\"btn_confirm NM_NEWSSTAND_POPUP_CLOSE\" data-clk=\"uscancel\">\\xec\\xb7\\xa8\\xec\\x86\\x8c</a> </div> </div> </div> <div id=\"NM_NEWSSTAND_MY_THUMB\" class=\"group_news\" role=\"tabpanel\" style=\"display:none\" data-clk-prefix=\"nsd_myn\"> <a href=\"#\" role=\"button\" class=\"pm_btn_prev_l _NM_UI_PAGE_PREV\" data-clk-custom=\"prev\"><i class=\"ico_btn\"><span class=\"blind\">\\xec\\x9d\\xb4\\xec\\xa0\\x84</span></i></a> <a href=\"#\" role=\"button\" class=\"pm_btn_next_l _NM_UI_PAGE_NEXT\" data-clk-custom=\"next\"><i class=\"ico_btn\"><span class=\"blind\">\\xeb\\x8b\\xa4\\xec\\x9d\\x8c</span></i></a> <div class=\"_NM_UI_PAGE_CONTAINER\" data-clk-sub=\"*p\"></div> <div class=\"ly_popup NM_NEWSSTAND_POPUP NM_NEWSSTAND_invalid\" style=\"display:none\"> <a href=\"#\" role=\"button\" class=\"btn_close NM_NEWSSTAND_POPUP_CLOSE\"><i class=\"ico_close\"></i><span class=\"blind\">\\xeb\\x8b\\xab\\xea\\xb8\\xb0</span></a> <p class=\"popup_msg\">\\xed\\x95\\xb4\\xeb\\x8b\\xb9 \\xec\\x96\\xb8\\xeb\\xa1\\xa0\\xec\\x82\\xac \\xec\\x82\\xac\\xec\\xa0\\x95\\xec\\x9c\\xbc\\xeb\\xa1\\x9c \\xec\\xa0\\x91\\xea\\xb7\\xbc\\xec\\x9d\\xb4 \\xec\\xa0\\x9c\\xed\\x95\\x9c\\xeb\\x90\\xa9\\xeb\\x8b\\x88\\xeb\\x8b\\xa4.</p> <div class=\"popup_btn\"> <a href=\"#\" role=\"button\" class=\"btn_confirm NM_NEWSSTAND_POPUP_CLOSE\">\\xed\\x99\\x95\\xec\\x9d\\xb8</a> </div> </div> <div class=\"ly_popup NM_NEWSSTAND_POPUP NM_NEWSSTAND_undescribe_confirm\" style=\"display:none\" data-clk-sub=\"*a\"> <a href=\"#\" role=\"button\" class=\"btn_close NM_NEWSSTAND_POPUP_CLOSE\" data-clk=\"usclose\"><i class=\"ico_close\"></i><span class=\"blind\">\\xeb\\x8b\\xab\\xea\\xb8\\xb0</span></a> <p class=\"popup_msg\"><strong class=\"NM_NEWSSTAND_POPUP_PNAME\"></strong>\\xec\\x9d\\x84(\\xeb\\xa5\\xbc)<br>\\xea\\xb5\\xac\\xeb\\x8f\\x85\\xed\\x95\\xb4\\xec\\xa7\\x80 \\xed\\x95\\x98\\xec\\x8b\\x9c\\xea\\xb2\\xa0\\xec\\x8a\\xb5\\xeb\\x8b\\x88\\xea\\xb9\\x8c?</p> <div class=\"popup_btn\"> <a href=\"#\" role=\"button\" class=\"btn_confirm NM_NEWSSTAND_POPUP_CONFIRM\" data-clk=\"usdone\">\\xed\\x99\\x95\\xec\\x9d\\xb8</a> <a href=\"#\" role=\"button\" class=\"btn_confirm NM_NEWSSTAND_POPUP_CLOSE\" data-clk=\"uscancel\">\\xec\\xb7\\xa8\\xec\\x86\\x8c</a> </div> </div> </div> <div id=\"NM_NEWSSTAND_MY_EMPTY\" class=\"group_news\" role=\"tabpanel\" style=\"display:none\"> <div class=\"error_view\"> <div class=\"error_area\"> <strong class=\"error_msg\">\\xea\\xb5\\xac\\xeb\\x8f\\x85\\xed\\x95\\x9c \\xec\\x96\\xb8\\xeb\\xa1\\xa0\\xec\\x82\\xac\\xea\\xb0\\x80 \\xec\\x97\\x86\\xec\\x8a\\xb5\\xeb\\x8b\\x88\\xeb\\x8b\\xa4.</strong> <p class=\"dsc_msg\">\\xec\\x96\\xb8\\xeb\\xa1\\xa0\\xec\\x82\\xac \\xea\\xb5\\xac\\xeb\\x8f\\x85 \\xec\\x84\\xa4\\xec\\xa0\\x95\\xec\\x97\\x90\\xec\\x84\\x9c \\xea\\xb4\\x80\\xec\\x8b\\xac\\xec\\x9e\\x88\\xeb\\x8a\\x94 \\xec\\x96\\xb8\\xeb\\xa1\\xa0\\xec\\x82\\xac\\xeb\\xa5\\xbc \\xea\\xb5\\xac\\xeb\\x8f\\x85\\xed\\x95\\x98\\xec\\x8b\\x9c\\xeb\\xa9\\xb4<br>\\xec\\x96\\xb8\\xeb\\xa1\\xa0\\xec\\x82\\xac\\xea\\xb0\\x80 \\xec\\xa7\\x81\\xec\\xa0\\x91 \\xed\\x8e\\xb8\\xec\\xa7\\x91\\xed\\x95\\x9c \\xeb\\x89\\xb4\\xec\\x8a\\xa4\\xeb\\x93\\xa4\\xec\\x9d\\x84 \\xeb\\x84\\xa4\\xec\\x9d\\xb4\\xeb\\xb2\\x84 \\xed\\x99\\x88\\xec\\x97\\x90\\xec\\x84\\x9c \\xeb\\xb0\\x94\\xeb\\xa1\\x9c \\xeb\\xb3\\xb4\\xec\\x8b\\xa4 \\xec\\x88\\x98 \\xec\\x9e\\x88\\xec\\x8a\\xb5\\xeb\\x8b\\x88\\xeb\\x8b\\xa4.</p> <a href=\"http://newsstand.naver.com/config.html\" class=\"link_redirect\" target=\"_blank\">\\xec\\x96\\xb8\\xeb\\xa1\\xa0\\xec\\x82\\xac \\xea\\xb5\\xac\\xeb\\x8f\\x85 \\xec\\x84\\xa4\\xec\\xa0\\x95\\xed\\x95\\x98\\xea\\xb8\\xb0</a> </div> </div> </div> </div> </div> <!-- EMPTY -->  <div id=\"NM_THEMECAST_CONTENTS_CONTAINER\"> <div id=\"themecast\" class=\"sc_themecast id_enter\" >\\n\\t<h2 class=\"blind\">\\xec\\xa3\\xbc\\xec\\xa0\\x9c\\xeb\\xb3\\x84 \\xec\\xba\\x90\\xec\\x8a\\xa4\\xed\\x8a\\xb8</h2>\\n\\t<div class=\"theme_head\">\\n\\t\\t<div class=\"group_title\">\\n\\t<div class=\"title_area\">\\n\\t\\t<strong class=\"title\">\\xec\\x98\\xa4\\xeb\\x8a\\x98 \\xec\\x9d\\xbd\\xec\\x9d\\x84\\xeb\\xa7\\x8c\\xed\\x95\\x9c \\xea\\xb8\\x80</strong><span class=\"dsc\">\\xec\\xa3\\xbc\\xec\\xa0\\x9c\\xeb\\xb3\\x84\\xeb\\xa1\\x9c \\xeb\\xb6\\x84\\xeb\\xa5\\x98\\xeb\\x90\\x9c \\xeb\\x8b\\xa4\\xec\\x96\\x91\\xed\\x95\\x9c \\xea\\xb8\\x80 \\xeb\\xaa\\xa8\\xec\\x9d\\x8c</span>\\n\\t</div>\\n\\t<div class=\"info_area\">\\n\\t\\t\\n\\t\\t\\t<span class=\"info\"><strong class=\"new\">685</strong> \\xea\\xb0\\x9c\\xec\\x9d\\x98 \\xea\\xb8\\x80</span>\\n\\t\\t\\n\\t\\t<a id=\"NM_THEME_EDIT_SET\" href=\"#\" role=\"button\" class=\"btn_set\" data-clk=\"tca.like\">\\xea\\xb4\\x80\\xec\\x8b\\xac\\xec\\xa3\\xbc\\xec\\xa0\\x9c \\xec\\x84\\xa4\\xec\\xa0\\x95</a>\\n\\t</div>\\n</div>\\n<div id=\"NM_THEME_CATE_GROUPS\" class=\"group_category\" data-demo-key=\"default\">\\n\\t<div class=\"main_category\">\\n\\t\\t<a href=\"#\" role=\"button\" class=\"pm_btn_prev NM_THEME_PREV\" data-clk=\"tct.prev\" style=\"display: none;\">\\n\\t\\t\\t<i class=\"ico_btn\"><span class=\"blind\">\\xec\\x9d\\xb4\\xec\\xa0\\x84</span></i>\\n\\t\\t</a>\\n\\t\\t<a href=\"#\" role=\"button\" class=\"pm_btn_next NM_THEME_NEXT\" data-clk=\"tct.next\" style=\"display: none;\">\\n\\t\\t\\t<i class=\"ico_btn\"><span class=\"blind\">\\xeb\\x8b\\xa4\\xec\\x9d\\x8c</span></i>\\n\\t\\t</a>\\n\\t\\t<div class=\"list_category_wrap\">\\n\\t\\t\\t<ul id=\"NM_THEME_CATE_LIST\" class=\"list_category\" role=\"tablist\" data-index=\"0\">\\n\\t\\t\\t\\t\\n\\t\\t\\t\\t\\t<li class=\"category_item\" role=\"presentation\">\\n\\t\\t\\t\\t\\t\\t\\n\\t\\t\\t\\t\\t\\t\\n\\t\\t\\t\\t\\t\\t<a href=\"#\" role=\"tab\" class=\"_NM_THEME_CATE tab id_enter\"\\n\\t\\t\\t\\t\\t\\t   aria-selected=\"true\"\\n\\t\\t\\t\\t\\t\\t   aria-controls=\"NM_THEME_CONTAINER\"\\n\\t\\t\\t\\t\\t\\t   data-clk=\"tct.tvc\" data-panel-code=\"ENTER\">\\xec\\x97\\x94\\xed\\x84\\xb0</a>\\n\\t\\t\\t\\t\\t</li>\\n\\t\\t\\t\\t\\n\\t\\t\\t\\t\\t<li class=\"category_item\" role=\"presentation\">\\n\\t\\t\\t\\t\\t\\t\\n\\t\\t\\t\\t\\t\\t\\n\\t\\t\\t\\t\\t\\t<a href=\"#\" role=\"tab\" class=\"_NM_THEME_CATE tab id_sports\"\\n\\t\\t\\t\\t\\t\\t   aria-selected=\"false\"\\n\\t\\t\\t\\t\\t\\t   aria-controls=\"NM_THEME_CONTAINER\"\\n\\t\\t\\t\\t\\t\\t   data-clk=\"tct.spo\" data-panel-code=\"SPORTS\">\\xec\\x8a\\xa4\\xed\\x8f\\xac\\xec\\xb8\\xa0</a>\\n\\t\\t\\t\\t\\t</li>\\n\\t\\t\\t\\t\\n\\t\\t\\t\\t\\t<li class=\"category_item\" role=\"presentation\">\\n\\t\\t\\t\\t\\t\\t\\n\\t\\t\\t\\t\\t\\t\\n\\t\\t\\t\\t\\t\\t<a href=\"#\" role=\"tab\" class=\"_NM_THEME_CATE tab id_cargame\"\\n\\t\\t\\t\\t\\t\\t   aria-selected=\"false\"\\n\\t\\t\\t\\t\\t\\t   aria-controls=\"NM_THEME_CONTAINER\"\\n\\t\\t\\t\\t\\t\\t   data-clk=\"tct.aut\" data-panel-code=\"CARGAME\">\\xec\\x9e\\x90\\xeb\\x8f\\x99\\xec\\xb0\\xa8</a>\\n\\t\\t\\t\\t\\t</li>\\n\\t\\t\\t\\t\\n\\t\\t\\t\\t\\t<li class=\"category_item\" role=\"presentation\">\\n\\t\\t\\t\\t\\t\\t\\n\\t\\t\\t\\t\\t\\t\\n\\t\\t\\t\\t\\t\\t<a href=\"#\" role=\"tab\" class=\"_NM_THEME_CATE tab id_bboom\"\\n\\t\\t\\t\\t\\t\\t   aria-selected=\"false\"\\n\\t\\t\\t\\t\\t\\t   aria-controls=\"NM_THEME_CONTAINER\"\\n\\t\\t\\t\\t\\t\\t   data-clk=\"tct.web\" data-panel-code=\"BBOOM\">\\xec\\x9b\\xb9\\xed\\x88\\xb0</a>\\n\\t\\t\\t\\t\\t</li>\\n\\t\\t\\t\\t\\n\\t\\t\\t\\t\\t<li class=\"category_item\" role=\"presentation\">\\n\\t\\t\\t\\t\\t\\t\\n\\t\\t\\t\\t\\t\\t\\n\\t\\t\\t\\t\\t\\t<a href=\"#\" role=\"tab\" class=\"_NM_THEME_CATE tab id_finance\"\\n\\t\\t\\t\\t\\t\\t   aria-selected=\"false\"\\n\\t\\t\\t\\t\\t\\t   aria-controls=\"NM_THEME_CONTAINER\"\\n\\t\\t\\t\\t\\t\\t   data-clk=\"tct.fin\" data-panel-code=\"FINANCE\">\\xea\\xb2\\xbd\\xec\\xa0\\x9c</a>\\n\\t\\t\\t\\t\\t</li>\\n\\t\\t\\t\\t\\n\\t\\t\\t\\t\\t<li class=\"category_item\" role=\"presentation\">\\n\\t\\t\\t\\t\\t\\t\\n\\t\\t\\t\\t\\t\\t\\n\\t\\t\\t\\t\\t\\t<a href=\"#\" role=\"tab\" class=\"_NM_THEME_CATE tab id_myfeed\"\\n\\t\\t\\t\\t\\t\\t   aria-selected=\"false\"\\n\\t\\t\\t\\t\\t\\t   aria-controls=\"NM_THEME_CONTAINER\"\\n\\t\\t\\t\\t\\t\\t   data-clk=\"tct.sub\" data-panel-code=\"MYFEED\">\\xec\\xb6\\x94\\xec\\xb2\\x9c<span class=\\'ico_middot\\'></span>\\xea\\xb5\\xac\\xeb\\x8f\\x85</a>\\n\\t\\t\\t\\t\\t</li>\\n\\t\\t\\t\\t\\n\\t\\t\\t\\t\\t<li class=\"category_item\" role=\"presentation\">\\n\\t\\t\\t\\t\\t\\t\\n\\t\\t\\t\\t\\t\\t\\n\\t\\t\\t\\t\\t\\t<a href=\"#\" role=\"tab\" class=\"_NM_THEME_CATE tab id_living\"\\n\\t\\t\\t\\t\\t\\t   aria-selected=\"false\"\\n\\t\\t\\t\\t\\t\\t   aria-controls=\"NM_THEME_CONTAINER\"\\n\\t\\t\\t\\t\\t\\t   data-clk=\"tct.fod\" data-panel-code=\"LIVING\">\\xeb\\xa0\\x88\\xec\\x8b\\x9c\\xed\\x94\\xbc</a>\\n\\t\\t\\t\\t\\t</li>\\n\\t\\t\\t\\t\\n\\t\\t\\t\\t\\t<li class=\"category_item\" role=\"presentation\">\\n\\t\\t\\t\\t\\t\\t\\n\\t\\t\\t\\t\\t\\t\\n\\t\\t\\t\\t\\t\\t<a href=\"#\" role=\"tab\" class=\"_NM_THEME_CATE tab id_livinghome\"\\n\\t\\t\\t\\t\\t\\t   aria-selected=\"false\"\\n\\t\\t\\t\\t\\t\\t   aria-controls=\"NM_THEME_CONTAINER\"\\n\\t\\t\\t\\t\\t\\t   data-clk=\"tct.lif\" data-panel-code=\"LIVINGHOME\">\\xeb\\xa6\\xac\\xeb\\xb9\\x99</a>\\n\\t\\t\\t\\t\\t</li>\\n\\t\\t\\t\\t\\n\\t\\t\\t\\t\\t<li class=\"category_item\" role=\"presentation\">\\n\\t\\t\\t\\t\\t\\t\\n\\t\\t\\t\\t\\t\\t\\n\\t\\t\\t\\t\\t\\t<a href=\"#\" role=\"tab\" class=\"_NM_THEME_CATE tab id_culture\"\\n\\t\\t\\t\\t\\t\\t   aria-selected=\"false\"\\n\\t\\t\\t\\t\\t\\t   aria-controls=\"NM_THEME_CONTAINER\"\\n\\t\\t\\t\\t\\t\\t   data-clk=\"tct.bok\" data-panel-code=\"CULTURE\">\\xec\\xb1\\x85\\xeb\\xb0\\xa9</a>\\n\\t\\t\\t\\t\\t</li>\\n\\t\\t\\t\\t\\n\\t\\t\\t\\t\\t<li class=\"category_item\" role=\"presentation\">\\n\\t\\t\\t\\t\\t\\t\\n\\t\\t\\t\\t\\t\\t\\n\\t\\t\\t\\t\\t\\t<a href=\"#\" role=\"tab\" class=\"_NM_THEME_CATE tab id_beauty\"\\n\\t\\t\\t\\t\\t\\t   aria-selected=\"false\"\\n\\t\\t\\t\\t\\t\\t   aria-controls=\"NM_THEME_CONTAINER\"\\n\\t\\t\\t\\t\\t\\t   data-clk=\"tct.bty\" data-panel-code=\"BEAUTY\">\\xed\\x8c\\xa8\\xec\\x85\\x98\\xeb\\xb7\\xb0\\xed\\x8b\\xb0</a>\\n\\t\\t\\t\\t\\t</li>\\n\\t\\t\\t\\t\\n\\t\\t\\t</ul>\\n\\t\\t</div>\\n\\t</div>\\n</div>\\n\\n\\t</div>\\n\\t<div id=\"NM_THEME_CONTAINER\" class=\"theme_cont\" role=\"tabpanel\" data-panel-code=\"ENTER\" data-parent-code=\"\">\\n\\t\\t<div class=\"group_topstory\" data-block-id=\"6398452c2dcb8bdfd71d0b0c\" data-block-code=\"PC-THEME-ENTER-EDIT-AREA\" data-block-type=\"BLOCKS\" data-template-code=\"PC-THEMECAST-EDIT-AREA\"\\n\\n\\t data-da=\"margin-top\"\\n\\t >\\n\\n\\t<div class=\"topstory_inner\" data-block-id=\"6398451e02b1f0e0111ef096\" data-block-code=\"PC-THEME-ENTER-EDIT-AREA-ITEM\" data-block-type=\"A-MATERIAL\" data-template-code=\"IMAGE1\"\\n\\n\\t >\\n\\n\\t\\n\\t\\t<div class=\"topstory_view \">\\n\\n\\t\\t\\t\\n\\t\\t\\t\\n\\t\\t\\t<a href=\"https://tv.naver.com/v/31568051\" class=\"topstory_thumb\"\\n\\t\\t\\t   data-clk=\"tcc_tvc.editbigimg1\"\\n\\t\\t\\t   target=\"_blank\">\\n\\t\\t\\t\\t<img src=\"https://s.pstatic.net/static/www/mobile/edit/20221213/cropImg_728x360_112863967208229026.jpeg\" data-src=\"https://s.pstatic.net/static/www/mobile/edit/20221213/cropImg_728x360_112863967208229026.jpeg\" alt=\"\\xec\\xa7\\x80\\xec\\x98\\xa5\\xeb\\x8f\\x84\\xec\\x9d\\x98 \\xec\\x83\\x88\\xeb\\xa1\\x9c\\xec\\x9a\\xb4 \\xec\\xa3\\xbc\\xeb\\xaf\\xbc\\xeb\\x93\\xa4\\xec\\x9d\\x84 \\xec\\x86\\x8c\\xea\\xb0\\x9c\\xed\\x95\\xa9\\xeb\\x8b\\x88\\xeb\\x8b\\xa4\" width=\"364\" height=\"180\" onerror=\"this.outerHTML=\\'<span class=\\\\\\'pm_noimg\\\\\\'><span class=\\\\\\'noimg_text\\\\\\'>\\xec\\x9d\\xb4\\xeb\\xaf\\xb8\\xec\\xa7\\x80 \\xec\\xa4\\x80\\xeb\\xb9\\x84\\xec\\xa4\\x91</span></span>\\'\">\\n\\n\\t\\t\\t\\t\\n\\t\\t\\t\\t\\t<span class=\"thumb_bd\"></span>\\n\\t\\t\\t\\t\\n\\t\\t\\t</a>\\n\\t\\t\\t<a href=\"https://tv.naver.com/v/31568051\" class=\"topstory_info\"\\n\\t\\t\\t   data-clk=\"tcc_tvc.editbigtxt1\"\\n\\t\\t\\t   target=\"_blank\">\\n\\t\\t\\t\\t\\n\\t\\t\\t\\t\\t<em class=\"theme_category\">\\xec\\x86\\x94\\xeb\\xa1\\x9c\\xec\\xa7\\x80\\xec\\x98\\xa52</em>\\n\\t\\t\\t\\t\\n\\n\\t\\t\\t\\t<strong class=\"title  \">\\xec\\xa7\\x80\\xec\\x98\\xa5\\xeb\\x8f\\x84\\xec\\x9d\\x98 \\xec\\x83\\x88\\xeb\\xa1\\x9c\\xec\\x9a\\xb4 \\xec\\xa3\\xbc\\xeb\\xaf\\xbc\\xeb\\x93\\xa4\\xec\\x9d\\x84 \\xec\\x86\\x8c\\xea\\xb0\\x9c\\xed\\x95\\xa9\\xeb\\x8b\\x88\\xeb\\x8b\\xa4</strong>\\n\\t\\t\\t\\t\\n\\t\\t\\t\\t\\t<p class=\"desc\">\\r\\n </p>\\n\\t\\t\\t\\t\\n\\n\\t\\t\\t\\t\\n\\t\\t\\t\\t\\t<div class=\"source_area\">\\n\\t\\t\\t\\t\\t\\t<span class=\"source\"><span class=\"source_inner\">Netflix Korea</span></span>\\n\\t\\t\\t\\t\\t</div>\\n\\t\\t\\t\\t\\n\\t\\t\\t</a>\\n\\t\\t\\t\\n\\t\\t</div>\\n\\t\\n</div>\\n<div class=\"topstory_inner\" data-block-id=\"6398447929d918d593bc61e1\" data-block-code=\"PC-THEME-ENTER-EDIT-AREA-ITEM\" data-block-type=\"MATERIALS\" data-template-code=\"IMAGE3\"\\n\\n\\t >\\n\\n\\t<div class=\"list_theme_wrap type_topstory\">\\n\\t\\t<ul class=\"list_theme\">\\n\\t\\t\\t\\n\\t\\t\\t<li class=\"theme_item\">\\n\\t\\t\\t\\t\\n\\t\\t\\t\\t\\n\\t\\t\\t\\t<a href=\"https://tv.naver.com/v/31545898\" class=\"theme_thumb\" data-clk=\"tcc_tvc.editsmallimg1\" target=\"_blank\">\\n\\t\\t\\t\\t\\t<img src=\"https://s.pstatic.net/static/www/mobile/edit/20221213/cropImg_196x196_112863914793939020.jpeg\" data-src=\"https://s.pstatic.net/static/www/mobile/edit/20221213/cropImg_196x196_112863914793939020.jpeg\" alt=\"\\xeb\\x8f\\x8c\\xec\\x95\\x84\\xec\\x98\\xa8 \\xeb\\x8f\\x84\\xec\\xbf\\x84, \\xea\\xb7\\xb8\\xeb\\xa6\\xac\\xea\\xb3\\xa0 \\xeb\\xaf\\xb8\\xec\\x84\\xa0\" width=\"98\" height=\"98\" onerror=\"this.outerHTML=\\'<span class=\\\\\\'pm_noimg\\\\\\'><span class=\\\\\\'noimg_text\\\\\\'>\\xec\\x9d\\xb4\\xeb\\xaf\\xb8\\xec\\xa7\\x80 \\xec\\xa4\\x80\\xeb\\xb9\\x84\\xec\\xa4\\x91</span></span>\\'\">\\n\\n\\t\\t\\t\\t\\t\\n\\t\\t\\t\\t\\t\\t<span class=\"thumb_bd\"></span>\\n\\t\\t\\t\\t\\t\\n\\t\\t\\t\\t</a>\\n\\t\\t\\t\\t<a href=\"https://tv.naver.com/v/31545898\" class=\"theme_info\" data-clk=\"tcc_tvc.editsmalltxt1\" target=\"_blank\">\\n\\t\\t\\t\\t\\t<em class=\"theme_category\">\\xec\\xa2\\x85\\xec\\x9d\\xb4\\xec\\x9d\\x98 \\xec\\xa7\\x91: \\xea\\xb3\\xb5\\xeb\\x8f\\x99\\xea\\xb2\\xbd\\xec\\xa0\\x9c\\xea\\xb5\\xac\\xec\\x97\\xad \\xed\\x8c\\x8c\\xed\\x8a\\xb82</em>\\n\\t\\t\\t\\t\\t<strong class=\"title\">\\xeb\\x8f\\x8c\\xec\\x95\\x84\\xec\\x98\\xa8 \\xeb\\x8f\\x84\\xec\\xbf\\x84, \\xea\\xb7\\xb8\\xeb\\xa6\\xac\\xea\\xb3\\xa0 \\xeb\\xaf\\xb8\\xec\\x84\\xa0 </strong>\\n\\t\\t\\t\\t\\t<div class=\"source_box\">\\n\\t\\t\\t\\t\\t\\t<span class=\"source\"><span class=\"source_inner\">Netflix Korea</span></span>\\n\\t\\t\\t\\t\\t</div>\\n\\t\\t\\t\\t</a>\\n\\t\\t\\t</li>\\n\\t\\t\\t\\n\\t\\t\\t<li class=\"theme_item\">\\n\\t\\t\\t\\t\\n\\t\\t\\t\\t\\n\\t\\t\\t\\t<a href=\"https://tv.naver.com/v/31560747\" class=\"theme_thumb\" data-clk=\"tcc_tvc.editsmallimg2\" target=\"_blank\">\\n\\t\\t\\t\\t\\t<img src=\"https://s.pstatic.net/static/www/mobile/edit/20221213/cropImg_196x196_112863920297129066.jpeg\" data-src=\"https://s.pstatic.net/static/www/mobile/edit/20221213/cropImg_196x196_112863920297129066.jpeg\" alt=\"26\\xea\\xb0\\x9c\\xec\\x9b\\x94\\xea\\xb0\\x84\\xec\\x9d\\x98 \\xea\\xb8\\x88\\xec\\xa3\\xbc\\xeb\\xa5\\xbc \\xeb\\x81\\x9d\\xeb\\x82\\xb8 \\xec\\x88\\xa0\\xeb\\x8f\\x84\\xeb\\x85\\x80, \\xeb\\x88\\x88\\xeb\\xac\\xbc\\xec\\x9d\\x98 \\xeb\\xa7\\xa5\\xec\\xa3\\xbc \\xed\\x95\\x9c\\xec\\x9e\\x94\" width=\"98\" height=\"98\" onerror=\"this.outerHTML=\\'<span class=\\\\\\'pm_noimg\\\\\\'><span class=\\\\\\'noimg_text\\\\\\'>\\xec\\x9d\\xb4\\xeb\\xaf\\xb8\\xec\\xa7\\x80 \\xec\\xa4\\x80\\xeb\\xb9\\x84\\xec\\xa4\\x91</span></span>\\'\">\\n\\n\\t\\t\\t\\t\\t\\n\\t\\t\\t\\t\\t\\t<span class=\"thumb_bd\"></span>\\n\\t\\t\\t\\t\\t\\n\\t\\t\\t\\t</a>\\n\\t\\t\\t\\t<a href=\"https://tv.naver.com/v/31560747\" class=\"theme_info\" data-clk=\"tcc_tvc.editsmalltxt2\" target=\"_blank\">\\n\\t\\t\\t\\t\\t<em class=\"theme_category\">\\xec\\x88\\xa0\\xea\\xbe\\xbc\\xeb\\x8f\\x84\\xec\\x8b\\x9c\\xec\\x97\\xac\\xec\\x9e\\x90\\xeb\\x93\\xa42</em>\\n\\t\\t\\t\\t\\t<strong class=\"title\">26\\xea\\xb0\\x9c\\xec\\x9b\\x94\\xea\\xb0\\x84\\xec\\x9d\\x98 \\xea\\xb8\\x88\\xec\\xa3\\xbc\\xeb\\xa5\\xbc \\xeb\\x81\\x9d\\xeb\\x82\\xb8 \\xec\\x88\\xa0\\xeb\\x8f\\x84\\xeb\\x85\\x80, \\xeb\\x88\\x88\\xeb\\xac\\xbc\\xec\\x9d\\x98 \\xeb\\xa7\\xa5\\xec\\xa3\\xbc \\xed\\x95\\x9c\\xec\\x9e\\x94 </strong>\\n\\t\\t\\t\\t\\t<div class=\"source_box\">\\n\\t\\t\\t\\t\\t\\t<span class=\"source\"><span class=\"source_inner\">\\xed\\x8b\\xb0\\xeb\\xb9\\x99(TVING)</span></span>\\n\\t\\t\\t\\t\\t</div>\\n\\t\\t\\t\\t</a>\\n\\t\\t\\t</li>\\n\\t\\t\\t\\n\\t\\t\\t<li class=\"theme_item\">\\n\\t\\t\\t\\t\\n\\t\\t\\t\\t\\n\\t\\t\\t\\t<a href=\"https://tv.naver.com/v/31544975\" class=\"theme_thumb\" data-clk=\"tcc_tvc.editsmallimg3\" target=\"_blank\">\\n\\t\\t\\t\\t\\t<img src=\"https://s.pstatic.net/static/www/mobile/edit/20221213/cropImg_196x196_112863925379751947.jpeg\" data-src=\"https://s.pstatic.net/static/www/mobile/edit/20221213/cropImg_196x196_112863925379751947.jpeg\" alt=\"\\xea\\xb0\\x93\\xea\\xb8\\xb0 \\xea\\xb3\\xa0\\xeb\\x94\\xa9\\xec\\xbb\\xa4\\xed\\x94\\x8c \\xec\\xb0\\xac\\xeb\\xaf\\xb8,\\xec\\x88\\x98\\xed\\x97\\x8c \\xed\\x95\\x98\\xea\\xb3\\xa0 \\xec\\x8b\\xb6\\xec\\x9d\\x80 \\xea\\xb1\\xb0 \\xeb\\x8b\\xa4 \\xed\\x95\\xb4!\\xf0\\x9f\\xa5\\xb0\" width=\"98\" height=\"98\" onerror=\"this.outerHTML=\\'<span class=\\\\\\'pm_noimg\\\\\\'><span class=\\\\\\'noimg_text\\\\\\'>\\xec\\x9d\\xb4\\xeb\\xaf\\xb8\\xec\\xa7\\x80 \\xec\\xa4\\x80\\xeb\\xb9\\x84\\xec\\xa4\\x91</span></span>\\'\">\\n\\n\\t\\t\\t\\t\\t\\n\\t\\t\\t\\t\\t\\t<span class=\"thumb_bd\"></span>\\n\\t\\t\\t\\t\\t\\n\\t\\t\\t\\t</a>\\n\\t\\t\\t\\t<a href=\"https://tv.naver.com/v/31544975\" class=\"theme_info\" data-clk=\"tcc_tvc.editsmalltxt3\" target=\"_blank\">\\n\\t\\t\\t\\t\\t<em class=\"theme_category\">3\\xec\\x9d\\xb8\\xec\\xb9\\xad \\xeb\\xb3\\xb5\\xec\\x88\\x98</em>\\n\\t\\t\\t\\t\\t<strong class=\"title\">\\xea\\xb0\\x93\\xea\\xb8\\xb0 \\xea\\xb3\\xa0\\xeb\\x94\\xa9\\xec\\xbb\\xa4\\xed\\x94\\x8c \\xec\\xb0\\xac\\xeb\\xaf\\xb8,\\xec\\x88\\x98\\xed\\x97\\x8c \\xed\\x95\\x98\\xea\\xb3\\xa0 \\xec\\x8b\\xb6\\xec\\x9d\\x80 \\xea\\xb1\\xb0 \\xeb\\x8b\\xa4 \\xed\\x95\\xb4!\\xf0\\x9f\\xa5\\xb0 </strong>\\n\\t\\t\\t\\t\\t<div class=\"source_box\">\\n\\t\\t\\t\\t\\t\\t<span class=\"source\"><span class=\"source_inner\">\\xeb\\x94\\x94\\xec\\xa6\\x88\\xeb\\x8b\\x88+ \\xec\\xbd\\x94\\xeb\\xa6\\xac\\xec\\x95\\x84</span></span>\\n\\t\\t\\t\\t\\t</div>\\n\\t\\t\\t\\t</a>\\n\\t\\t\\t</li>\\n\\t\\t\\t\\n\\t\\t</ul>\\n\\t</div>\\n</div>\\n</div>\\n<div class=\"theme_link\" data-block-id=\"6143f896a10d300685314343\" data-block-code=\"\" data-block-type=\"MATERIALS\" data-template-code=\"THEME-SHORTCUT\"\\n\\n\\t >\\n\\n\\t\\n\\t\\t<a href=\"https://entertain.naver.com/home\" class=\"link_enter\" data-clk=\"tcc_tvc.short1\" target=\"_blank\">\\xec\\x97\\xb0\\xec\\x98\\x88 \\xed\\x99\\x88</a>\\n\\t\\n\\t<ul class=\"list_service\">\\n\\t\\t\\n\\t\\t\\t\\n\\t\\t\\n\\t\\t\\t\\n\\t\\t\\t\\t<li class=\"service_item\" data-gdid=\"\">\\n\\t\\t\\t\\t\\t<a href=\"https://now.naver.com/\" class=\"service\" data-clk=\"tcc_tvc.short3\" target=\"_blank\">\\xeb\\x84\\xa4\\xec\\x9d\\xb4\\xeb\\xb2\\x84 NOW.</a>\\n\\t\\t\\t\\t</li>\\n\\t\\t\\t\\n\\t\\t\\n\\t\\t\\t\\n\\t\\t\\t\\t<li class=\"service_item\" data-gdid=\"\">\\n\\t\\t\\t\\t\\t<a href=\"https://tv.naver.com/\" class=\"service\" data-clk=\"tcc_tvc.short4\" target=\"_blank\">\\xeb\\x84\\xa4\\xec\\x9d\\xb4\\xeb\\xb2\\x84 TV\\xed\\x99\\x88</a>\\n\\t\\t\\t\\t</li>\\n\\t\\t\\t\\n\\t\\t\\n\\t\\t\\t\\n\\t\\t\\t\\t<li class=\"service_item\" data-gdid=\"\">\\n\\t\\t\\t\\t\\t<a href=\"https://tv.naver.com/r\" class=\"service\" data-clk=\"tcc_tvc.short5\" target=\"_blank\">TOP100</a>\\n\\t\\t\\t\\t</li>\\n\\t\\t\\t\\n\\t\\t\\n\\t\\t\\t\\n\\t\\t\\t\\t<li class=\"service_item\" data-gdid=\"\">\\n\\t\\t\\t\\t\\t<a href=\"https://series.naver.com/broadcasting/home.nhn\" class=\"service\" data-clk=\"tcc_tvc.short6\" target=\"_blank\">\\xec\\x8b\\x9c\\xeb\\xa6\\xac\\xec\\xa6\\x88\\xec\\x98\\xa8</a>\\n\\t\\t\\t\\t</li>\\n\\t\\t\\t\\n\\t\\t\\n\\t\\t\\t\\n\\t\\t\\t\\t<li class=\"service_item\" data-gdid=\"\">\\n\\t\\t\\t\\t\\t<a href=\"https://www.vlive.tv/home/\" class=\"service\" data-clk=\"tcc_tvc.short7\" target=\"_blank\">V LIVE</a>\\n\\t\\t\\t\\t</li>\\n\\t\\t\\t\\n\\t\\t\\n\\t\\t\\t\\n\\t\\t\\t\\t<li class=\"service_item\" data-gdid=\"\">\\n\\t\\t\\t\\t\\t<a href=\"https://vibe.naver.com\" class=\"service\" data-clk=\"tcc_tvc.short8\" target=\"_blank\">VIBE</a>\\n\\t\\t\\t\\t</li>\\n\\t\\t\\t\\n\\t\\t\\n\\t</ul>\\n</div>\\n<div class=\"group_theme\" data-block-id=\"5db0bbf2d6902f284eaffba7\" data-block-code=\"PC-THEME-ENTER-RANKING-0\" data-block-type=\"MATERIALS\" data-template-code=\"3X3\"\\n\\n     data-page=\"1\"\\n     >\\n\\n\\t<div class=\"media_view_wrap type_column\">\\n\\t\\t<div class=\"media_view\">\\n\\t\\t\\t\\n\\t\\t\\t\\t\\n\\t\\t\\t\\t\\t<a href=\"https://tv.naver.com/v/31428596\" class=\"media_area\" data-da-position=\"true\" data-gdid=\"PC-THEME-ENTER-RANKING-0[materials][0]\"\\n\\t\\t\\t\\t\\t   data-clk=\"tcc_tvc.list1cont1\" target=\"_blank\">\\n\\t\\t\\t\\t\\t\\t<div class=\"media_thumb\">\\n\\t\\t\\t\\t\\t\\t\\t<img src=\"https://s.pstatic.net/dthumb.phinf/?src&#x3D;%22https%3A%2F%2Fs.pstatic.net%2Ftvcast.phinf%2F20221208_190%2F4IRTW_1670425599918iaCXk_JPEG%2FC202200138_3_202212071146393541.jpg%22&amp;type&#x3D;nf464_260\"\\n\\t\\t\\t\\t\\t\\t\\t     data-src=\"https://s.pstatic.net/dthumb.phinf/?src&#x3D;%22https%3A%2F%2Fs.pstatic.net%2Ftvcast.phinf%2F20221208_190%2F4IRTW_1670425599918iaCXk_JPEG%2FC202200138_3_202212071146393541.jpg%22&amp;type&#x3D;nf464_260\" alt=\"\" width=\"232\" height=\"130\"\\n\\t\\t\\t\\t\\t\\t\\t     onerror=\"this.outerHTML=\\'<span class=\\\\\\'pm_noimg\\\\\\'><span class=\\\\\\'noimg_text\\\\\\'>\\xec\\x9d\\xb4\\xeb\\xaf\\xb8\\xec\\xa7\\x80 \\xec\\xa4\\x80\\xeb\\xb9\\x84\\xec\\xa4\\x91</span></span>\\'\">\\n\\n\\t\\t\\t\\t\\t\\t\\t\\n\\t\\t\\t\\t\\t\\t\\t\\t<span class=\"thumb_dim\"></span>\\n\\t\\t\\t\\t\\t\\t\\t\\t<span class=\"thumb_bd\"></span>\\n\\t\\t\\t\\t\\t\\t\\t\\t<i class=\"pm_ico_play\"><span class=\"blind\">\\xec\\x9e\\xac\\xec\\x83\\x9d</span></i>\\n\\t\\t\\t\\t\\t\\t\\t\\t<span class=\"theme_runtime\"><span class=\"runtime_bg\">\\xec\\x9e\\xac\\xec\\x83\\x9d\\xec\\x8b\\x9c\\xea\\xb0\\x84</span><em\\n\\t\\t\\t\\t\\t\\t\\t\\t\\t\\tclass=\"time\">4:07</em></span>\\n\\t\\t\\t\\t\\t\\t\\t\\n\\t\\t\\t\\t\\t\\t</div>\\n\\t\\t\\t\\t\\t\\t<div class=\"media_info\">\\n\\t\\t\\t\\t\\t\\t\\t<div class=\"info_box\">\\n\\t\\t\\t\\t\\t\\t\\t\\t\\n\\t\\t\\t\\t\\t\\t\\t\\t\\t<em class=\"theme_category\">TV \\xec\\x98\\x88\\xeb\\x8a\\xa5</em>\\n\\t\\t\\t\\t\\t\\t\\t\\t\\n\\t\\t\\t\\t\\t\\t\\t\\t\\n\\t\\t\\t\\t\\t\\t\\t\\t<strong class=\"title \">\\xed\\x98\\xb8\\xed\\x9d\\xa1 \\xea\\xb0\\x95\\xec\\x95\\xbd \\xec\\xa1\\xb0\\xec\\xa0\\x88\\xeb\\xa1\\x9c \\xeb\\xaa\\xb0\\xec\\x9e\\x85\\xeb\\x8f\\x84 100% \\xe2\\x80\\x98\\xec\\xb2\\x9c\\xec\\x83\\x81\\xec\\x9e\\xac\\xed\\x9a\\x8c\\xe2\\x80\\x99\\xe2\\x99\\xaa TV CHOSUN 221207 \\xeb\\xb0\\xa9\\xec\\x86\\xa1</strong>\\n\\t\\t\\t\\t\\t\\t\\t\\t<div class=\"source_wrap\">\\n\\t\\t\\t\\t\\t\\t\\t\\t\\t\\n\\t\\t\\t\\t\\t\\t\\t\\t\\t\\t<span class=\"date\">6\\xec\\x9d\\xbc \\xec\\xa0\\x84</span>\\n\\t\\t\\t\\t\\t\\t\\t\\t\\t\\t<span class=\"source\">\\n\\t\\t\\t\\t\\t\\t\\t\\t\\t\\t\\t\\n\\t\\t\\t\\t\\t\\t\\t\\t\\t\\t<span class=\"source_inner\">\\xeb\\xb3\\xb5\\xeb\\x8d\\xa9\\xec\\x9d\\xb4\\xeb\\x93\\xa4\\xea\\xb3\\xa0(GO)</span>\\n\\t\\t\\t\\t\\t\\t\\t\\t\\t\\t</span>\\n\\t\\t\\t\\t\\t\\t\\t\\t\\t\\n\\t\\t\\t\\t\\t\\t\\t\\t</div>\\n\\t\\t\\t\\t\\t\\t\\t</div>\\n\\t\\t\\t\\t\\t\\t</div>\\n\\t\\t\\t\\t\\t</a>\\n\\t\\t\\t\\t\\n\\t\\t\\t\\n\\t\\t\\t\\t\\n\\t\\t\\t\\t\\t<a href=\"https://tv.naver.com/v/28210510\" class=\"media_area\" data-da-position=\"true\" data-gdid=\"PC-THEME-ENTER-RANKING-0[materials][1]\"\\n\\t\\t\\t\\t\\t   data-clk=\"tcc_tvc.list1cont2\" target=\"_blank\">\\n\\t\\t\\t\\t\\t\\t<div class=\"media_thumb\">\\n\\t\\t\\t\\t\\t\\t\\t<img src=\"https://s.pstatic.net/dthumb.phinf/?src&#x3D;%22https%3A%2F%2Fphinf.pstatic.net%2Ftvcast%2F20220728_92%2FHcBIm_1658982543418t4gMh_PNG%2F1658982539647.png%22&amp;type&#x3D;nf464_260\"\\n\\t\\t\\t\\t\\t\\t\\t     data-src=\"https://s.pstatic.net/dthumb.phinf/?src&#x3D;%22https%3A%2F%2Fphinf.pstatic.net%2Ftvcast%2F20220728_92%2FHcBIm_1658982543418t4gMh_PNG%2F1658982539647.png%22&amp;type&#x3D;nf464_260\" alt=\"\" width=\"232\" height=\"130\"\\n\\t\\t\\t\\t\\t\\t\\t     onerror=\"this.outerHTML=\\'<span class=\\\\\\'pm_noimg\\\\\\'><span class=\\\\\\'noimg_text\\\\\\'>\\xec\\x9d\\xb4\\xeb\\xaf\\xb8\\xec\\xa7\\x80 \\xec\\xa4\\x80\\xeb\\xb9\\x84\\xec\\xa4\\x91</span></span>\\'\">\\n\\n\\t\\t\\t\\t\\t\\t\\t\\n\\t\\t\\t\\t\\t\\t\\t\\t<span class=\"thumb_dim\"></span>\\n\\t\\t\\t\\t\\t\\t\\t\\t<span class=\"thumb_bd\"></span>\\n\\t\\t\\t\\t\\t\\t\\t\\t<i class=\"pm_ico_play\"><span class=\"blind\">\\xec\\x9e\\xac\\xec\\x83\\x9d</span></i>\\n\\t\\t\\t\\t\\t\\t\\t\\t<span class=\"theme_runtime\"><span class=\"runtime_bg\">\\xec\\x9e\\xac\\xec\\x83\\x9d\\xec\\x8b\\x9c\\xea\\xb0\\x84</span><em\\n\\t\\t\\t\\t\\t\\t\\t\\t\\t\\tclass=\"time\">0:59</em></span>\\n\\t\\t\\t\\t\\t\\t\\t\\n\\t\\t\\t\\t\\t\\t</div>\\n\\t\\t\\t\\t\\t\\t<div class=\"media_info\">\\n\\t\\t\\t\\t\\t\\t\\t<div class=\"info_box\">\\n\\t\\t\\t\\t\\t\\t\\t\\t\\n\\t\\t\\t\\t\\t\\t\\t\\t\\t<em class=\"theme_category\">\\xec\\x9b\\xb9\\xec\\x98\\x88\\xeb\\x8a\\xa5</em>\\n\\t\\t\\t\\t\\t\\t\\t\\t\\n\\t\\t\\t\\t\\t\\t\\t\\t\\n\\t\\t\\t\\t\\t\\t\\t\\t<strong class=\"title \">[\\xec\\x8d\\xb8\\xed\\x95\\x91] \\xeb\\x8b\\xb9\\xec\\x8b\\xa0\\xec\\x9d\\x80 \\xed\\x94\\x8c\\xeb\\x9f\\xac\\xed\\x8c\\x85\\xec\\x9d\\x98 \\xeb\\xa7\\x88\\xeb\\xb2\\x95\\xec\\x9d\\x84 \\xeb\\xaf\\xbf\\xeb\\x82\\x98\\xec\\x9a\\x94? | 1\\xec\\xb0\\xa8 \\xed\\x8b\\xb0\\xec\\xa0\\x80</strong>\\n\\t\\t\\t\\t\\t\\t\\t\\t<div class=\"source_wrap\">\\n\\t\\t\\t\\t\\t\\t\\t\\t\\t\\n\\t\\t\\t\\t\\t\\t\\t\\t\\t\\t<span class=\"date\">8\\xeb\\xb6\\x84 \\xec\\xa0\\x84</span>\\n\\t\\t\\t\\t\\t\\t\\t\\t\\t\\t<span class=\"source\">\\n\\t\\t\\t\\t\\t\\t\\t\\t\\t\\t\\t\\n\\t\\t\\t\\t\\t\\t\\t\\t\\t\\t<span class=\"source_inner\">\\xec\\x94\\xac\\xec\\xba\\x90\\xec\\xb2\\x98</span>\\n\\t\\t\\t\\t\\t\\t\\t\\t\\t\\t</span>\\n\\t\\t\\t\\t\\t\\t\\t\\t\\t\\n\\t\\t\\t\\t\\t\\t\\t\\t</div>\\n\\t\\t\\t\\t\\t\\t\\t</div>\\n\\t\\t\\t\\t\\t\\t</div>\\n\\t\\t\\t\\t\\t</a>\\n\\t\\t\\t\\t\\n\\t\\t\\t\\n\\t\\t\\t\\t\\n\\t\\t\\t\\t\\t<a href=\"https://tv.naver.com/v/31574987\" class=\"media_area\" data-da-position=\"true\" data-gdid=\"PC-THEME-ENTER-RANKING-0[materials][2]\"\\n\\t\\t\\t\\t\\t   data-clk=\"tcc_tvc.list1cont3\" target=\"_blank\">\\n\\t\\t\\t\\t\\t\\t<div class=\"media_thumb\">\\n\\t\\t\\t\\t\\t\\t\\t<img src=\"https://s.pstatic.net/dthumb.phinf/?src&#x3D;%22https%3A%2F%2Fs.pstatic.net%2Ftvcast.phinf%2F20221213_258%2FwVv7n_1670920894023u1FAO_JPEG%2F20221213_173444_451_1.jpg%22&amp;type&#x3D;nf464_260\"\\n\\t\\t\\t\\t\\t\\t\\t     data-src=\"https://s.pstatic.net/dthumb.phinf/?src&#x3D;%22https%3A%2F%2Fs.pstatic.net%2Ftvcast.phinf%2F20221213_258%2FwVv7n_1670920894023u1FAO_JPEG%2F20221213_173444_451_1.jpg%22&amp;type&#x3D;nf464_260\" alt=\"\" width=\"232\" height=\"130\"\\n\\t\\t\\t\\t\\t\\t\\t     onerror=\"this.outerHTML=\\'<span class=\\\\\\'pm_noimg\\\\\\'><span class=\\\\\\'noimg_text\\\\\\'>\\xec\\x9d\\xb4\\xeb\\xaf\\xb8\\xec\\xa7\\x80 \\xec\\xa4\\x80\\xeb\\xb9\\x84\\xec\\xa4\\x91</span></span>\\'\">\\n\\n\\t\\t\\t\\t\\t\\t\\t\\n\\t\\t\\t\\t\\t\\t\\t\\t<span class=\"thumb_dim\"></span>\\n\\t\\t\\t\\t\\t\\t\\t\\t<span class=\"thumb_bd\"></span>\\n\\t\\t\\t\\t\\t\\t\\t\\t<i class=\"pm_ico_play\"><span class=\"blind\">\\xec\\x9e\\xac\\xec\\x83\\x9d</span></i>\\n\\t\\t\\t\\t\\t\\t\\t\\t<span class=\"theme_runtime\"><span class=\"runtime_bg\">\\xec\\x9e\\xac\\xec\\x83\\x9d\\xec\\x8b\\x9c\\xea\\xb0\\x84</span><em\\n\\t\\t\\t\\t\\t\\t\\t\\t\\t\\tclass=\"time\">22:09</em></span>\\n\\t\\t\\t\\t\\t\\t\\t\\n\\t\\t\\t\\t\\t\\t</div>\\n\\t\\t\\t\\t\\t\\t<div class=\"media_info\">\\n\\t\\t\\t\\t\\t\\t\\t<div class=\"info_box\">\\n\\t\\t\\t\\t\\t\\t\\t\\t\\n\\t\\t\\t\\t\\t\\t\\t\\t\\t<em class=\"theme_category\">TV \\xeb\\x93\\x9c\\xeb\\x9d\\xbc\\xeb\\xa7\\x88</em>\\n\\t\\t\\t\\t\\t\\t\\t\\t\\n\\t\\t\\t\\t\\t\\t\\t\\t\\n\\t\\t\\t\\t\\t\\t\\t\\t<strong class=\"title \">[\\xec\\x8a\\xa4\\xed\\x8e\\x98\\xec\\x85\\x9c] \\xec\\x9d\\xb4\\xeb\\x9f\\xb0 \\xea\\xb1\\xb4 \\xeb\\x8f\\x88 \\xec\\xa3\\xbc\\xea\\xb3\\xa0 \\xeb\\xb4\\x90\\xec\\x95\\xbc \\xeb\\x90\\x98\\xeb\\x8a\\x94 \\xea\\xb1\\xb0 \\xec\\x95\\x84\\xeb\\x8b\\x88\\xec\\x95\\xbc..? \\xec\\x9d\\xb4\\xec\\x84\\xb1\\xeb\\xaf\\xbc\\xec\\x9d\\x98 \\xeb\\xaf\\xb8\\xec\\xb9\\x9c \\xec\\x97\\xb0\\xea\\xb8\\xb0 \\xeb\\xaa\\xa8\\xec\\x9d\\x8c (\\xec\\x8b\\x9c\\xec\\xb2\\xad\\xeb\\xa3\\x8c=\\xec\\xa1\\xb0\\xed\\x9a\\x8c \\xec\\x88\\x98\\xe1\\x83\\xa6) | JTBC 221211 \\xeb\\xb0\\xa9\\xec\\x86\\xa1</strong>\\n\\t\\t\\t\\t\\t\\t\\t\\t<div class=\"source_wrap\">\\n\\t\\t\\t\\t\\t\\t\\t\\t\\t\\n\\t\\t\\t\\t\\t\\t\\t\\t\\t\\t<span class=\"date\">21\\xec\\x8b\\x9c\\xea\\xb0\\x84 \\xec\\xa0\\x84</span>\\n\\t\\t\\t\\t\\t\\t\\t\\t\\t\\t<span class=\"source\">\\n\\t\\t\\t\\t\\t\\t\\t\\t\\t\\t\\t\\n\\t\\t\\t\\t\\t\\t\\t\\t\\t\\t<span class=\"source_inner\">\\xec\\x9e\\xac\\xeb\\xb2\\x8c\\xec\\xa7\\x91 \\xeb\\xa7\\x89\\xeb\\x82\\xb4\\xec\\x95\\x84\\xeb\\x93\\xa4</span>\\n\\t\\t\\t\\t\\t\\t\\t\\t\\t\\t</span>\\n\\t\\t\\t\\t\\t\\t\\t\\t\\t\\n\\t\\t\\t\\t\\t\\t\\t\\t</div>\\n\\t\\t\\t\\t\\t\\t\\t</div>\\n\\t\\t\\t\\t\\t\\t</div>\\n\\t\\t\\t\\t\\t</a>\\n\\t\\t\\t\\t\\n\\t\\t\\t\\n\\t\\t\\t\\t\\n\\t\\t\\t\\t\\t<a href=\"https://tv.naver.com/v/29995979\" class=\"media_area\" data-da-position=\"true\" data-gdid=\"PC-THEME-ENTER-RANKING-0[materials][3]\"\\n\\t\\t\\t\\t\\t   data-clk=\"tcc_tvc.list1cont4\" target=\"_blank\">\\n\\t\\t\\t\\t\\t\\t<div class=\"media_thumb\">\\n\\t\\t\\t\\t\\t\\t\\t<img src=\"https://s.pstatic.net/dthumb.phinf/?src&#x3D;%22https%3A%2F%2Fphinf.pstatic.net%2Ftvcast%2F20221017_264%2FwjLa0_1666006620457Hvcck_JPEG%2F393ee7df-2c61-49c7-a956-ca6b51dc7d60_B.jpg%22&amp;type&#x3D;nf464_260\"\\n\\t\\t\\t\\t\\t\\t\\t     data-src=\"https://s.pstatic.net/dthumb.phinf/?src&#x3D;%22https%3A%2F%2Fphinf.pstatic.net%2Ftvcast%2F20221017_264%2FwjLa0_1666006620457Hvcck_JPEG%2F393ee7df-2c61-49c7-a956-ca6b51dc7d60_B.jpg%22&amp;type&#x3D;nf464_260\" alt=\"\" width=\"232\" height=\"130\"\\n\\t\\t\\t\\t\\t\\t\\t     onerror=\"this.outerHTML=\\'<span class=\\\\\\'pm_noimg\\\\\\'><span class=\\\\\\'noimg_text\\\\\\'>\\xec\\x9d\\xb4\\xeb\\xaf\\xb8\\xec\\xa7\\x80 \\xec\\xa4\\x80\\xeb\\xb9\\x84\\xec\\xa4\\x91</span></span>\\'\">\\n\\n\\t\\t\\t\\t\\t\\t\\t\\n\\t\\t\\t\\t\\t\\t\\t\\t<span class=\"thumb_dim\"></span>\\n\\t\\t\\t\\t\\t\\t\\t\\t<span class=\"thumb_bd\"></span>\\n\\t\\t\\t\\t\\t\\t\\t\\t<i class=\"pm_ico_play\"><span class=\"blind\">\\xec\\x9e\\xac\\xec\\x83\\x9d</span></i>\\n\\t\\t\\t\\t\\t\\t\\t\\t<span class=\"theme_runtime\"><span class=\"runtime_bg\">\\xec\\x9e\\xac\\xec\\x83\\x9d\\xec\\x8b\\x9c\\xea\\xb0\\x84</span><em\\n\\t\\t\\t\\t\\t\\t\\t\\t\\t\\tclass=\"time\">3:40</em></span>\\n\\t\\t\\t\\t\\t\\t\\t\\n\\t\\t\\t\\t\\t\\t</div>\\n\\t\\t\\t\\t\\t\\t<div class=\"media_info\">\\n\\t\\t\\t\\t\\t\\t\\t<div class=\"info_box\">\\n\\t\\t\\t\\t\\t\\t\\t\\t\\n\\t\\t\\t\\t\\t\\t\\t\\t\\t<em class=\"theme_category\">\\xec\\x9b\\xb9\\xec\\x98\\x88\\xeb\\x8a\\xa5</em>\\n\\t\\t\\t\\t\\t\\t\\t\\t\\n\\t\\t\\t\\t\\t\\t\\t\\t\\n\\t\\t\\t\\t\\t\\t\\t\\t<strong class=\"title \">[\\xec\\xb5\\x9c\\xec\\xb4\\x88\\xea\\xb3\\xb5\\xea\\xb0\\x9c] LE SSERAFIM(\\xeb\\xa5\\xb4\\xec\\x84\\xb8\\xeb\\x9d\\xbc\\xed\\x95\\x8c) - ANTIFRAGILE | LE SSERAFIM COMEBACKSHOW | M2 221017 \\xeb\\xb0\\xa9\\xec\\x86\\xa1</strong>\\n\\t\\t\\t\\t\\t\\t\\t\\t<div class=\"source_wrap\">\\n\\t\\t\\t\\t\\t\\t\\t\\t\\t\\n\\t\\t\\t\\t\\t\\t\\t\\t\\t\\t<span class=\"date\">8\\xeb\\xb6\\x84 \\xec\\xa0\\x84</span>\\n\\t\\t\\t\\t\\t\\t\\t\\t\\t\\t<span class=\"source\">\\n\\t\\t\\t\\t\\t\\t\\t\\t\\t\\t\\t\\n\\t\\t\\t\\t\\t\\t\\t\\t\\t\\t<span class=\"source_inner\">Mnet M2 (\\xec\\x97\\xa0\\xed\\x88\\xac)</span>\\n\\t\\t\\t\\t\\t\\t\\t\\t\\t\\t</span>\\n\\t\\t\\t\\t\\t\\t\\t\\t\\t\\n\\t\\t\\t\\t\\t\\t\\t\\t</div>\\n\\t\\t\\t\\t\\t\\t\\t</div>\\n\\t\\t\\t\\t\\t\\t</div>\\n\\t\\t\\t\\t\\t</a>\\n\\t\\t\\t\\t\\n\\t\\t\\t\\n\\t\\t\\t\\t\\n\\t\\t\\t\\t\\t<a href=\"https://tv.naver.com/v/31428603\" class=\"media_area\" data-da-position=\"true\" data-gdid=\"PC-THEME-ENTER-RANKING-0[materials][4]\"\\n\\t\\t\\t\\t\\t   data-clk=\"tcc_tvc.list1cont5\" target=\"_blank\">\\n\\t\\t\\t\\t\\t\\t<div class=\"media_thumb\">\\n\\t\\t\\t\\t\\t\\t\\t<img src=\"https://s.pstatic.net/dthumb.phinf/?src&#x3D;%22https%3A%2F%2Fs.pstatic.net%2Ftvcast.phinf%2F20221208_18%2FIBQGA_1670425608340I2xss_JPEG%2FC202200138_3_202212071148120391.jpg%22&amp;type&#x3D;nf464_260\"\\n\\t\\t\\t\\t\\t\\t\\t     data-src=\"https://s.pstatic.net/dthumb.phinf/?src&#x3D;%22https%3A%2F%2Fs.pstatic.net%2Ftvcast.phinf%2F20221208_18%2FIBQGA_1670425608340I2xss_JPEG%2FC202200138_3_202212071148120391.jpg%22&amp;type&#x3D;nf464_260\" alt=\"\" width=\"232\" height=\"130\"\\n\\t\\t\\t\\t\\t\\t\\t     onerror=\"this.outerHTML=\\'<span class=\\\\\\'pm_noimg\\\\\\'><span class=\\\\\\'noimg_text\\\\\\'>\\xec\\x9d\\xb4\\xeb\\xaf\\xb8\\xec\\xa7\\x80 \\xec\\xa4\\x80\\xeb\\xb9\\x84\\xec\\xa4\\x91</span></span>\\'\">\\n\\n\\t\\t\\t\\t\\t\\t\\t\\n\\t\\t\\t\\t\\t\\t\\t\\t<span class=\"thumb_dim\"></span>\\n\\t\\t\\t\\t\\t\\t\\t\\t<span class=\"thumb_bd\"></span>\\n\\t\\t\\t\\t\\t\\t\\t\\t<i class=\"pm_ico_play\"><span class=\"blind\">\\xec\\x9e\\xac\\xec\\x83\\x9d</span></i>\\n\\t\\t\\t\\t\\t\\t\\t\\t<span class=\"theme_runtime\"><span class=\"runtime_bg\">\\xec\\x9e\\xac\\xec\\x83\\x9d\\xec\\x8b\\x9c\\xea\\xb0\\x84</span><em\\n\\t\\t\\t\\t\\t\\t\\t\\t\\t\\tclass=\"time\">4:44</em></span>\\n\\t\\t\\t\\t\\t\\t\\t\\n\\t\\t\\t\\t\\t\\t</div>\\n\\t\\t\\t\\t\\t\\t<div class=\"media_info\">\\n\\t\\t\\t\\t\\t\\t\\t<div class=\"info_box\">\\n\\t\\t\\t\\t\\t\\t\\t\\t\\n\\t\\t\\t\\t\\t\\t\\t\\t\\t<em class=\"theme_category\">TV \\xec\\x98\\x88\\xeb\\x8a\\xa5</em>\\n\\t\\t\\t\\t\\t\\t\\t\\t\\n\\t\\t\\t\\t\\t\\t\\t\\t\\n\\t\\t\\t\\t\\t\\t\\t\\t<strong class=\"title \">\\xea\\xbf\\x88\\xec\\x9d\\x84 \\xec\\xb0\\xbe\\xec\\x9c\\xbc\\xeb\\x9f\\xac \\xea\\xb3\\xa0\\xed\\x96\\xa5\\xec\\x9d\\x84 \\xeb\\x96\\xa0\\xeb\\x82\\x9c \\xec\\x82\\xac\\xeb\\x9e\\x8c\\xeb\\x93\\xa4\\xec\\x9d\\x84 \\xec\\x9c\\x84\\xed\\x95\\x9c \\xeb\\x85\\xb8\\xeb\\x9e\\x98\\xf0\\x9f\\x8e\\xa4 \\xe2\\x80\\x98\\xea\\xbf\\x88\\xe2\\x80\\x99\\xe2\\x99\\xaa TV CHOSUN 221207 \\xeb\\xb0\\xa9\\xec\\x86\\xa1</strong>\\n\\t\\t\\t\\t\\t\\t\\t\\t<div class=\"source_wrap\">\\n\\t\\t\\t\\t\\t\\t\\t\\t\\t\\n\\t\\t\\t\\t\\t\\t\\t\\t\\t\\t<span class=\"date\">6\\xec\\x9d\\xbc \\xec\\xa0\\x84</span>\\n\\t\\t\\t\\t\\t\\t\\t\\t\\t\\t<span class=\"source\">\\n\\t\\t\\t\\t\\t\\t\\t\\t\\t\\t\\t\\n\\t\\t\\t\\t\\t\\t\\t\\t\\t\\t<span class=\"source_inner\">\\xeb\\xb3\\xb5\\xeb\\x8d\\xa9\\xec\\x9d\\xb4\\xeb\\x93\\xa4\\xea\\xb3\\xa0(GO)</span>\\n\\t\\t\\t\\t\\t\\t\\t\\t\\t\\t</span>\\n\\t\\t\\t\\t\\t\\t\\t\\t\\t\\n\\t\\t\\t\\t\\t\\t\\t\\t</div>\\n\\t\\t\\t\\t\\t\\t\\t</div>\\n\\t\\t\\t\\t\\t\\t</div>\\n\\t\\t\\t\\t\\t</a>\\n\\t\\t\\t\\t\\n\\t\\t\\t\\n\\t\\t\\t\\t\\n\\t\\t\\t\\t\\t<a href=\"https://tv.naver.com/v/31590846\" class=\"media_area\" data-da-position=\"true\" data-gdid=\"PC-THEME-ENTER-RANKING-0[materials][5]\"\\n\\t\\t\\t\\t\\t   data-clk=\"tcc_tvc.list1cont6\" target=\"_blank\">\\n\\t\\t\\t\\t\\t\\t<div class=\"media_thumb\">\\n\\t\\t\\t\\t\\t\\t\\t<img src=\"https://s.pstatic.net/dthumb.phinf/?src&#x3D;%22https%3A%2F%2Fs.pstatic.net%2Ftvcast.phinf%2F20221214_300%2FjnFCN_1670993794707Xn52a_JPEG%2F8fa9d5ab-9352-4892-8973-8b449681b9fa_B.jpg%22&amp;type&#x3D;nf464_260\"\\n\\t\\t\\t\\t\\t\\t\\t     data-src=\"https://s.pstatic.net/dthumb.phinf/?src&#x3D;%22https%3A%2F%2Fs.pstatic.net%2Ftvcast.phinf%2F20221214_300%2FjnFCN_1670993794707Xn52a_JPEG%2F8fa9d5ab-9352-4892-8973-8b449681b9fa_B.jpg%22&amp;type&#x3D;nf464_260\" alt=\"\" width=\"232\" height=\"130\"\\n\\t\\t\\t\\t\\t\\t\\t     onerror=\"this.outerHTML=\\'<span class=\\\\\\'pm_noimg\\\\\\'><span class=\\\\\\'noimg_text\\\\\\'>\\xec\\x9d\\xb4\\xeb\\xaf\\xb8\\xec\\xa7\\x80 \\xec\\xa4\\x80\\xeb\\xb9\\x84\\xec\\xa4\\x91</span></span>\\'\">\\n\\n\\t\\t\\t\\t\\t\\t\\t\\n\\t\\t\\t\\t\\t\\t\\t\\t<span class=\"thumb_dim\"></span>\\n\\t\\t\\t\\t\\t\\t\\t\\t<span class=\"thumb_bd\"></span>\\n\\t\\t\\t\\t\\t\\t\\t\\t<i class=\"pm_ico_play\"><span class=\"blind\">\\xec\\x9e\\xac\\xec\\x83\\x9d</span></i>\\n\\t\\t\\t\\t\\t\\t\\t\\t<span class=\"theme_runtime\"><span class=\"runtime_bg\">\\xec\\x9e\\xac\\xec\\x83\\x9d\\xec\\x8b\\x9c\\xea\\xb0\\x84</span><em\\n\\t\\t\\t\\t\\t\\t\\t\\t\\t\\tclass=\"time\">2:40</em></span>\\n\\t\\t\\t\\t\\t\\t\\t\\n\\t\\t\\t\\t\\t\\t</div>\\n\\t\\t\\t\\t\\t\\t<div class=\"media_info\">\\n\\t\\t\\t\\t\\t\\t\\t<div class=\"info_box\">\\n\\t\\t\\t\\t\\t\\t\\t\\t\\n\\t\\t\\t\\t\\t\\t\\t\\t\\t<em class=\"theme_category\">TV \\xec\\x98\\x88\\xeb\\x8a\\xa5</em>\\n\\t\\t\\t\\t\\t\\t\\t\\t\\n\\t\\t\\t\\t\\t\\t\\t\\t\\n\\t\\t\\t\\t\\t\\t\\t\\t<strong class=\"title \">[\\xec\\x84\\xa0\\xea\\xb3\\xb5\\xea\\xb0\\x9c] \\xec\\x9e\\xac\\xec\\x84\\x9d \\xed\\x98\\x95, \\xec\\x84\\xb8\\xed\\x98\\xb8 \\xed\\x98\\x95(?) \\xeb\\xa7\\x8c\\xeb\\x82\\x98\\xeb\\x9f\\xac \\xec\\x98\\xa8 \\xec\\x86\\x90\\xec\\x9b\\x85\\xec\\xa0\\x95 \\xec\\x9e\\x90\\xea\\xb8\\xb0\\xeb\\x8b\\x98\\xeb\\xb6\\x80\\xed\\x84\\xb0 \\xeb\\x89\\xb4\\xec\\xa7\\x84\\xec\\x8a\\xa4\\xec\\x99\\x80\\xec\\x9d\\x98 \\xeb\\x89\\xb4\\xed\\x80\\xb4\\xec\\xa6\\x88 \\xed\\x83\\x80\\xec\\x9e\\x84\\xea\\xb9\\x8c\\xec\\xa7\\x80</strong>\\n\\t\\t\\t\\t\\t\\t\\t\\t<div class=\"source_wrap\">\\n\\t\\t\\t\\t\\t\\t\\t\\t\\t\\n\\t\\t\\t\\t\\t\\t\\t\\t\\t\\t<span class=\"date\">5\\xec\\x8b\\x9c\\xea\\xb0\\x84 \\xec\\xa0\\x84</span>\\n\\t\\t\\t\\t\\t\\t\\t\\t\\t\\t<span class=\"source\">\\n\\t\\t\\t\\t\\t\\t\\t\\t\\t\\t\\t\\n\\t\\t\\t\\t\\t\\t\\t\\t\\t\\t<span class=\"source_inner\">\\xec\\x9c\\xa0 \\xed\\x80\\xb4\\xec\\xa6\\x88 \\xec\\x98\\xa8 \\xeb\\x8d\\x94 \\xeb\\xb8\\x94\\xeb\\x9f\\xad</span>\\n\\t\\t\\t\\t\\t\\t\\t\\t\\t\\t</span>\\n\\t\\t\\t\\t\\t\\t\\t\\t\\t\\n\\t\\t\\t\\t\\t\\t\\t\\t</div>\\n\\t\\t\\t\\t\\t\\t\\t</div>\\n\\t\\t\\t\\t\\t\\t</div>\\n\\t\\t\\t\\t\\t</a>\\n\\t\\t\\t\\t\\n\\t\\t\\t\\n\\t\\t\\t\\t\\n\\t\\t\\t\\t\\t<a href=\"https://tv.naver.com/v/31587861\" class=\"media_area\" data-da-position=\"true\" data-gdid=\"PC-THEME-ENTER-RANKING-0[materials][6]\"\\n\\t\\t\\t\\t\\t   data-clk=\"tcc_tvc.list1cont7\" target=\"_blank\">\\n\\t\\t\\t\\t\\t\\t<div class=\"media_thumb\">\\n\\t\\t\\t\\t\\t\\t\\t<img src=\"https://s.pstatic.net/dthumb.phinf/?src&#x3D;%22https%3A%2F%2Fs.pstatic.net%2Ftvcast.phinf%2F20221214_14%2FtT4gB_1670958356757OGCdJ_JPEG%2F1670958327040.jpg%22&amp;type&#x3D;nf464_260\"\\n\\t\\t\\t\\t\\t\\t\\t     data-src=\"https://s.pstatic.net/dthumb.phinf/?src&#x3D;%22https%3A%2F%2Fs.pstatic.net%2Ftvcast.phinf%2F20221214_14%2FtT4gB_1670958356757OGCdJ_JPEG%2F1670958327040.jpg%22&amp;type&#x3D;nf464_260\" alt=\"\" width=\"232\" height=\"130\"\\n\\t\\t\\t\\t\\t\\t\\t     onerror=\"this.outerHTML=\\'<span class=\\\\\\'pm_noimg\\\\\\'><span class=\\\\\\'noimg_text\\\\\\'>\\xec\\x9d\\xb4\\xeb\\xaf\\xb8\\xec\\xa7\\x80 \\xec\\xa4\\x80\\xeb\\xb9\\x84\\xec\\xa4\\x91</span></span>\\'\">\\n\\n\\t\\t\\t\\t\\t\\t\\t\\n\\t\\t\\t\\t\\t\\t\\t\\t<span class=\"thumb_dim\"></span>\\n\\t\\t\\t\\t\\t\\t\\t\\t<span class=\"thumb_bd\"></span>\\n\\t\\t\\t\\t\\t\\t\\t\\t<i class=\"pm_ico_play\"><span class=\"blind\">\\xec\\x9e\\xac\\xec\\x83\\x9d</span></i>\\n\\t\\t\\t\\t\\t\\t\\t\\t<span class=\"theme_runtime\"><span class=\"runtime_bg\">\\xec\\x9e\\xac\\xec\\x83\\x9d\\xec\\x8b\\x9c\\xea\\xb0\\x84</span><em\\n\\t\\t\\t\\t\\t\\t\\t\\t\\t\\tclass=\"time\">8:12</em></span>\\n\\t\\t\\t\\t\\t\\t\\t\\n\\t\\t\\t\\t\\t\\t</div>\\n\\t\\t\\t\\t\\t\\t<div class=\"media_info\">\\n\\t\\t\\t\\t\\t\\t\\t<div class=\"info_box\">\\n\\t\\t\\t\\t\\t\\t\\t\\t\\n\\t\\t\\t\\t\\t\\t\\t\\t\\t<em class=\"theme_category\">TV \\xeb\\x93\\x9c\\xeb\\x9d\\xbc\\xeb\\xa7\\x88</em>\\n\\t\\t\\t\\t\\t\\t\\t\\t\\n\\t\\t\\t\\t\\t\\t\\t\\t\\n\\t\\t\\t\\t\\t\\t\\t\\t<strong class=\"title \">[AAA\\xec\\xa7\\x81\\xec\\xba\\xa0] \\xec\\x9e\\x84\\xec\\x98\\x81\\xec\\x9b\\x85 (Lim Youngwoong) \\xe2\\x80\\x98\\xeb\\x8b\\xa4\\xec\\x8b\\x9c \\xeb\\xa7\\x8c\\xeb\\x82\\xa0 \\xec\\x88\\x98 \\xec\\x9e\\x88\\xec\\x9d\\x84\\xea\\xb9\\x8c+Polaroid\\xe2\\x80\\x99 4K (Lim Youngwoong Fancam)</strong>\\n\\t\\t\\t\\t\\t\\t\\t\\t<div class=\"source_wrap\">\\n\\t\\t\\t\\t\\t\\t\\t\\t\\t\\n\\t\\t\\t\\t\\t\\t\\t\\t\\t\\t<span class=\"date\">11\\xec\\x8b\\x9c\\xea\\xb0\\x84 \\xec\\xa0\\x84</span>\\n\\t\\t\\t\\t\\t\\t\\t\\t\\t\\t<span class=\"source\">\\n\\t\\t\\t\\t\\t\\t\\t\\t\\t\\t\\t\\n\\t\\t\\t\\t\\t\\t\\t\\t\\t\\t<span class=\"source_inner\">Asia Artist Awards</span>\\n\\t\\t\\t\\t\\t\\t\\t\\t\\t\\t</span>\\n\\t\\t\\t\\t\\t\\t\\t\\t\\t\\n\\t\\t\\t\\t\\t\\t\\t\\t</div>\\n\\t\\t\\t\\t\\t\\t\\t</div>\\n\\t\\t\\t\\t\\t\\t</div>\\n\\t\\t\\t\\t\\t</a>\\n\\t\\t\\t\\t\\n\\t\\t\\t\\n\\t\\t\\t\\t\\n\\t\\t\\t\\t\\t<a href=\"https://tv.naver.com/v/31568051\" class=\"media_area\" data-da-position=\"true\" data-gdid=\"PC-THEME-ENTER-RANKING-0[materials][7]\"\\n\\t\\t\\t\\t\\t   data-clk=\"tcc_tvc.list1cont8\" target=\"_blank\">\\n\\t\\t\\t\\t\\t\\t<div class=\"media_thumb\">\\n\\t\\t\\t\\t\\t\\t\\t<img src=\"https://s.pstatic.net/dthumb.phinf/?src&#x3D;%22https%3A%2F%2Fs.pstatic.net%2Ftvcast.phinf%2F20221213_213%2Fw3x1C_16709231083885R6AV_JPEG%2F1670923106351.jpg%22&amp;type&#x3D;nf464_260\"\\n\\t\\t\\t\\t\\t\\t\\t     data-src=\"https://s.pstatic.net/dthumb.phinf/?src&#x3D;%22https%3A%2F%2Fs.pstatic.net%2Ftvcast.phinf%2F20221213_213%2Fw3x1C_16709231083885R6AV_JPEG%2F1670923106351.jpg%22&amp;type&#x3D;nf464_260\" alt=\"\" width=\"232\" height=\"130\"\\n\\t\\t\\t\\t\\t\\t\\t     onerror=\"this.outerHTML=\\'<span class=\\\\\\'pm_noimg\\\\\\'><span class=\\\\\\'noimg_text\\\\\\'>\\xec\\x9d\\xb4\\xeb\\xaf\\xb8\\xec\\xa7\\x80 \\xec\\xa4\\x80\\xeb\\xb9\\x84\\xec\\xa4\\x91</span></span>\\'\">\\n\\n\\t\\t\\t\\t\\t\\t\\t\\n\\t\\t\\t\\t\\t\\t\\t\\t<span class=\"thumb_dim\"></span>\\n\\t\\t\\t\\t\\t\\t\\t\\t<span class=\"thumb_bd\"></span>\\n\\t\\t\\t\\t\\t\\t\\t\\t<i class=\"pm_ico_play\"><span class=\"blind\">\\xec\\x9e\\xac\\xec\\x83\\x9d</span></i>\\n\\t\\t\\t\\t\\t\\t\\t\\t<span class=\"theme_runtime\"><span class=\"runtime_bg\">\\xec\\x9e\\xac\\xec\\x83\\x9d\\xec\\x8b\\x9c\\xea\\xb0\\x84</span><em\\n\\t\\t\\t\\t\\t\\t\\t\\t\\t\\tclass=\"time\">6:02</em></span>\\n\\t\\t\\t\\t\\t\\t\\t\\n\\t\\t\\t\\t\\t\\t</div>\\n\\t\\t\\t\\t\\t\\t<div class=\"media_info\">\\n\\t\\t\\t\\t\\t\\t\\t<div class=\"info_box\">\\n\\t\\t\\t\\t\\t\\t\\t\\t\\n\\t\\t\\t\\t\\t\\t\\t\\t\\t<em class=\"theme_category\">TV \\xeb\\x93\\x9c\\xeb\\x9d\\xbc\\xeb\\xa7\\x88</em>\\n\\t\\t\\t\\t\\t\\t\\t\\t\\n\\t\\t\\t\\t\\t\\t\\t\\t\\n\\t\\t\\t\\t\\t\\t\\t\\t<strong class=\"title \">[\\xeb\\x84\\xb7\\xed\\x94\\x8c\\xeb\\xa6\\xad\\xec\\x8a\\xa4] \\xec\\xa7\\x80\\xec\\x98\\xa5\\xeb\\x8f\\x84\\xec\\x9d\\x98 \\xec\\x83\\x88\\xeb\\xa1\\x9c\\xec\\x9a\\xb4 \\xec\\xa3\\xbc\\xeb\\xaf\\xbc\\xeb\\x93\\xa4\\xec\\x9d\\x84 \\xec\\x86\\x8c\\xea\\xb0\\x9c\\xed\\x95\\xa9\\xeb\\x8b\\x88\\xeb\\x8b\\xa4 | \\xec\\x86\\x94\\xeb\\xa1\\x9c\\xec\\xa7\\x80\\xec\\x98\\xa5 \\xec\\x8b\\x9c\\xec\\xa6\\x8c2</strong>\\n\\t\\t\\t\\t\\t\\t\\t\\t<div class=\"source_wrap\">\\n\\t\\t\\t\\t\\t\\t\\t\\t\\t\\n\\t\\t\\t\\t\\t\\t\\t\\t\\t\\t<span class=\"date\">21\\xec\\x8b\\x9c\\xea\\xb0\\x84 \\xec\\xa0\\x84</span>\\n\\t\\t\\t\\t\\t\\t\\t\\t\\t\\t<span class=\"source\">\\n\\t\\t\\t\\t\\t\\t\\t\\t\\t\\t\\t\\n\\t\\t\\t\\t\\t\\t\\t\\t\\t\\t<span class=\"source_inner\">Netflix Korea</span>\\n\\t\\t\\t\\t\\t\\t\\t\\t\\t\\t</span>\\n\\t\\t\\t\\t\\t\\t\\t\\t\\t\\n\\t\\t\\t\\t\\t\\t\\t\\t</div>\\n\\t\\t\\t\\t\\t\\t\\t</div>\\n\\t\\t\\t\\t\\t\\t</div>\\n\\t\\t\\t\\t\\t</a>\\n\\t\\t\\t\\t\\n\\t\\t\\t\\n\\t\\t\\t\\t\\n\\t\\t\\t\\t\\t<a href=\"https://tv.naver.com/v/21756475\" class=\"media_area\" data-da-position=\"true\" data-gdid=\"PC-THEME-ENTER-RANKING-0[materials][8]\"\\n\\t\\t\\t\\t\\t   data-clk=\"tcc_tvc.list1cont9\" target=\"_blank\">\\n\\t\\t\\t\\t\\t\\t<div class=\"media_thumb\">\\n\\t\\t\\t\\t\\t\\t\\t<img src=\"https://s.pstatic.net/dthumb.phinf/?src&#x3D;%22https%3A%2F%2Fphinf.pstatic.net%2Ftvcast%2F20210808_213%2FLsP41_1628421531141ucQPk_PNG%2F1628421453988.png%22&amp;type&#x3D;nf464_260\"\\n\\t\\t\\t\\t\\t\\t\\t     data-src=\"https://s.pstatic.net/dthumb.phinf/?src&#x3D;%22https%3A%2F%2Fphinf.pstatic.net%2Ftvcast%2F20210808_213%2FLsP41_1628421531141ucQPk_PNG%2F1628421453988.png%22&amp;type&#x3D;nf464_260\" alt=\"\" width=\"232\" height=\"130\"\\n\\t\\t\\t\\t\\t\\t\\t     onerror=\"this.outerHTML=\\'<span class=\\\\\\'pm_noimg\\\\\\'><span class=\\\\\\'noimg_text\\\\\\'>\\xec\\x9d\\xb4\\xeb\\xaf\\xb8\\xec\\xa7\\x80 \\xec\\xa4\\x80\\xeb\\xb9\\x84\\xec\\xa4\\x91</span></span>\\'\">\\n\\n\\t\\t\\t\\t\\t\\t\\t\\n\\t\\t\\t\\t\\t\\t\\t\\t<span class=\"thumb_dim\"></span>\\n\\t\\t\\t\\t\\t\\t\\t\\t<span class=\"thumb_bd\"></span>\\n\\t\\t\\t\\t\\t\\t\\t\\t<i class=\"pm_ico_play\"><span class=\"blind\">\\xec\\x9e\\xac\\xec\\x83\\x9d</span></i>\\n\\t\\t\\t\\t\\t\\t\\t\\t<span class=\"theme_runtime\"><span class=\"runtime_bg\">\\xec\\x9e\\xac\\xec\\x83\\x9d\\xec\\x8b\\x9c\\xea\\xb0\\x84</span><em\\n\\t\\t\\t\\t\\t\\t\\t\\t\\t\\tclass=\"time\">2:16</em></span>\\n\\t\\t\\t\\t\\t\\t\\t\\n\\t\\t\\t\\t\\t\\t</div>\\n\\t\\t\\t\\t\\t\\t<div class=\"media_info\">\\n\\t\\t\\t\\t\\t\\t\\t<div class=\"info_box\">\\n\\t\\t\\t\\t\\t\\t\\t\\t\\n\\t\\t\\t\\t\\t\\t\\t\\t\\t<em class=\"theme_category\">\\xec\\x9b\\xb9\\xeb\\x93\\x9c\\xeb\\x9d\\xbc\\xeb\\xa7\\x88</em>\\n\\t\\t\\t\\t\\t\\t\\t\\t\\n\\t\\t\\t\\t\\t\\t\\t\\t\\n\\t\\t\\t\\t\\t\\t\\t\\t<strong class=\"title \">[\\xed\\x88\\xb0\\xeb\\xb0\\xa4\\xec\\xa7\\x80\\xea\\xb8\\xb0] \\xed\\x9a\\x8c\\xec\\x82\\xac \\xeb\\x8f\\x99\\xeb\\xa3\\x8c\\xec\\x99\\x80 \\xed\\x95\\x98\\xeb\\xa3\\xbb\\xeb\\xb0\\xa4\\xec\\x9d\\x84 \\xeb\\xb3\\xb4\\xeb\\x83\\x88\\xec\\x8a\\xb5\\xeb\\x8b\\x88\\xeb\\x8b\\xa4..</strong>\\n\\t\\t\\t\\t\\t\\t\\t\\t<div class=\"source_wrap\">\\n\\t\\t\\t\\t\\t\\t\\t\\t\\t\\n\\t\\t\\t\\t\\t\\t\\t\\t\\t\\t<span class=\"date\">8\\xeb\\xb6\\x84 \\xec\\xa0\\x84</span>\\n\\t\\t\\t\\t\\t\\t\\t\\t\\t\\t<span class=\"source\">\\n\\t\\t\\t\\t\\t\\t\\t\\t\\t\\t\\t\\n\\t\\t\\t\\t\\t\\t\\t\\t\\t\\t<span class=\"source_inner\">\\xeb\\x84\\xa4\\xec\\x9d\\xb4\\xeb\\xb2\\x84 \\xec\\x9b\\xb9\\xed\\x88\\xb0</span>\\n\\t\\t\\t\\t\\t\\t\\t\\t\\t\\t</span>\\n\\t\\t\\t\\t\\t\\t\\t\\t\\t\\n\\t\\t\\t\\t\\t\\t\\t\\t</div>\\n\\t\\t\\t\\t\\t\\t\\t</div>\\n\\t\\t\\t\\t\\t\\t</div>\\n\\t\\t\\t\\t\\t</a>\\n\\t\\t\\t\\t\\n\\t\\t\\t\\n\\t\\t</div>\\n\\t</div>\\n</div>\\n\\n<div class=\"group_theme\" data-block-id=\"5e5753e0d6902f284e257c65\" data-block-code=\"PC-THEME-ENTER-MUSIC-DOMESTIC-TOP100-REALTIME\" data-block-type=\"BLOCKS\" data-template-code=\"THEME-MUSIC-DOMESTIC-TOP100-REALTIME\"\\n >\\n  <div class=\"theme_title\">\\n    <a href=\"https://vibe.naver.com/chart/domestic\" class=\"title\" target=\"_blank\"\\n      data-clk=\"tcc_tvc.mrankmore\">\\xeb\\xae\\xa4\\xec\\xa7\\x81 \\xea\\xb8\\x89\\xec\\x83\\x81\\xec\\x8a\\xb9 \\xec\\xb0\\xa8\\xed\\x8a\\xb8</a>\\n    <div class=\"right_box\">\\n      <span class=\"dsc\">\\xec\\x98\\xa4\\xed\\x9b\\x84 3\\xec\\x8b\\x9c \\xec\\x97\\x85\\xeb\\x8d\\xb0\\xec\\x9d\\xb4\\xed\\x8a\\xb8</span>\\n    </div>\\n  </div>\\n  <div class=\"chart_view_wrap type_music\">\\n    \\n    <div class=\"chart_view\">\\n      \\n      <div class=\"chart_area\">\\n        <div class=\"chart_rank\">\\n          <em class=\"rank\">1<span class=\"blind\">\\xec\\x9c\\x84</span></em>\\n          \\n          \\n        </div>\\n        <div class=\"chart_info\">\\n          <a href=\"https://vibe.naver.com/track/58929723\" target=\"_blank\" class=\"thumb_box\"\\n            data-clk=\"tcc_tvc.mrankcover1\"><img\\n              src=\"https://s.pstatic.net/dthumb.phinf/?src&#x3D;%22https%3A%2F%2Fmusicmeta-phinf.pstatic.net%2Falbum%2F008%2F424%2F8424248.jpg%3Ftype%3Dr480Fll%26v%3D20221207184408%22&amp;type&#x3D;navermain_n96_96\" alt=\"\\xeb\\xa9\\x94\\xeb\\xa6\\xac \\xeb\\xa9\\x94\\xeb\\xa6\\xac \\xed\\x81\\xac\\xeb\\xa6\\xac\\xec\\x8a\\xa4\\xeb\\xa7\\x88\\xec\\x8a\\xa4\" height=\"48\" width=\"48\" onerror=\"this.outerHTML=\\'<span class=\\\\\\'pm_noimg_s\\\\\\'><span class=\\\\\\'blind\\\\\\'>\\xec\\x9d\\xb4\\xeb\\xaf\\xb8\\xec\\xa7\\x80 \\xec\\xa4\\x80\\xeb\\xb9\\x84\\xec\\xa4\\x91</span></span>\\'\"><span\\n              class=\"thumb_bd\"></span></a>\\n          <div class=\"info_box\">\\n            <a href=\"https://vibe.naver.com/track/58929723\" target=\"_blank\" class=\"title\"\\n              data-clk=\"tcc_tvc.mranksong1\">\\xeb\\xa9\\x94\\xeb\\xa6\\xac \\xeb\\xa9\\x94\\xeb\\xa6\\xac \\xed\\x81\\xac\\xeb\\xa6\\xac\\xec\\x8a\\xa4\\xeb\\xa7\\x88\\xec\\x8a\\xa4</a>\\n            <div class=\"dsc_wrap\"><span class=\"dsc\">\\n                \\n                <a href=\"https://vibe.naver.com/artist/15649\" target=\"_blank\"\\n                  data-clk=\"tcc_tvc.mranksinger1\">\\xec\\x9c\\xa4\\xed\\x95\\x98</a>,\\n                \\n                <a href=\"https://vibe.naver.com/artist/107868\" target=\"_blank\"\\n                  data-clk=\"tcc_tvc.mranksinger1\">\\xec\\x9d\\xb4\\xec\\x84\\x9d\\xed\\x9b\\x88</a>,\\n                \\n                <a href=\"https://vibe.naver.com/artist/2941978\" target=\"_blank\"\\n                  data-clk=\"tcc_tvc.mranksinger1\">CIX(\\xec\\x94\\xa8\\xec\\x95\\x84\\xec\\x9d\\xb4\\xec\\x97\\x91\\xec\\x8a\\xa4)</a>,\\n                \\n                <a href=\"https://vibe.naver.com/artist/3531958\" target=\"_blank\"\\n                  data-clk=\"tcc_tvc.mranksinger1\">cignature(\\xec\\x8b\\x9c\\xea\\xb7\\xb8\\xeb\\x8b\\x88\\xec\\xb2\\x98)</a>,\\n                \\n                <a href=\"https://vibe.naver.com/artist/4473531\" target=\"_blank\"\\n                  data-clk=\"tcc_tvc.mranksinger1\">EPEX(\\xec\\x9d\\xb4\\xed\\x8e\\x99\\xec\\x8a\\xa4)</a>\\n                \\n              </span><span class=\"dsc\"><a href=\"https://vibe.naver.com/album/8424248\" target=\"_blank\"\\n                  data-clk=\"tcc_tvc.mrankalbum1\">C9 Single Album &#x27;2022 C9 Christmas&#x27;</a></span>\\n            </div>\\n          </div>\\n        </div>\\n        <div class=\"chart_link\">\\n          <a href=\"https://vibe.naver.com/track/58929723\" target=\"_blank\" class=\"link_play\"\\n            data-clk=\"tcc_tvc.mrankplay1\"><span\\n              class=\"blind\">\\xec\\x9e\\xac\\xec\\x83\\x9d</span></a><a href=\"https://vibe.naver.com/track/58929723\" target=\"_blank\" class=\"link_lyrics\"\\n            data-clk=\"tcc_tvc.mranklyrics1\"><span\\n              class=\"blind\">\\xea\\xb0\\x80\\xec\\x82\\xac</span></a>\\n        </div>\\n      </div>\\n      \\n      <div class=\"chart_area\">\\n        <div class=\"chart_rank\">\\n          <em class=\"rank\">2<span class=\"blind\">\\xec\\x9c\\x84</span></em>\\n          \\n          \\n        </div>\\n        <div class=\"chart_info\">\\n          <a href=\"https://vibe.naver.com/track/58890992\" target=\"_blank\" class=\"thumb_box\"\\n            data-clk=\"tcc_tvc.mrankcover2\"><img\\n              src=\"https://s.pstatic.net/dthumb.phinf/?src&#x3D;%22https%3A%2F%2Fmusicmeta-phinf.pstatic.net%2Falbum%2F008%2F416%2F8416775.jpg%3Ftype%3Dr480Fll%26v%3D20221213094606%22&amp;type&#x3D;navermain_n96_96\" alt=\"\\xec\\x95\\x88\\xeb\\x85\\x95\\xec\\x9d\\x84\" height=\"48\" width=\"48\" onerror=\"this.outerHTML=\\'<span class=\\\\\\'pm_noimg_s\\\\\\'><span class=\\\\\\'blind\\\\\\'>\\xec\\x9d\\xb4\\xeb\\xaf\\xb8\\xec\\xa7\\x80 \\xec\\xa4\\x80\\xeb\\xb9\\x84\\xec\\xa4\\x91</span></span>\\'\"><span\\n              class=\"thumb_bd\"></span></a>\\n          <div class=\"info_box\">\\n            <a href=\"https://vibe.naver.com/track/58890992\" target=\"_blank\" class=\"title\"\\n              data-clk=\"tcc_tvc.mranksong2\">\\xec\\x95\\x88\\xeb\\x85\\x95\\xec\\x9d\\x84</a>\\n            <div class=\"dsc_wrap\"><span class=\"dsc\">\\n                \\n                <a href=\"https://vibe.naver.com/artist/8427\" target=\"_blank\"\\n                  data-clk=\"tcc_tvc.mranksinger2\">\\xec\\x97\\xa0\\xec\\x94\\xa8\\xeb\\x8d\\x94\\xeb\\xa7\\xa5\\xec\\x8a\\xa4(M.C the MAX)</a>\\n                \\n              </span><span class=\"dsc\"><a href=\"https://vibe.naver.com/album/8416775\" target=\"_blank\"\\n                  data-clk=\"tcc_tvc.mrankalbum2\">\\xed\\x9d\\xa9\\xec\\x96\\xb4\\xec\\xa7\\x80\\xec\\xa7\\x80 \\xec\\x95\\x8a\\xea\\xb2\\x8c</a></span>\\n            </div>\\n          </div>\\n        </div>\\n        <div class=\"chart_link\">\\n          <a href=\"https://vibe.naver.com/track/58890992\" target=\"_blank\" class=\"link_play\"\\n            data-clk=\"tcc_tvc.mrankplay2\"><span\\n              class=\"blind\">\\xec\\x9e\\xac\\xec\\x83\\x9d</span></a><a href=\"https://vibe.naver.com/track/58890992\" target=\"_blank\" class=\"link_lyrics\"\\n            data-clk=\"tcc_tvc.mranklyrics2\"><span\\n              class=\"blind\">\\xea\\xb0\\x80\\xec\\x82\\xac</span></a>\\n        </div>\\n      </div>\\n      \\n      <div class=\"chart_area\">\\n        <div class=\"chart_rank\">\\n          <em class=\"rank\">3<span class=\"blind\">\\xec\\x9c\\x84</span></em>\\n          \\n          <div class=\"state\"><i class=\"ico_up\"><span class=\"blind\">\\xec\\x83\\x81\\xec\\x8a\\xb9</span></i></div>\\n          \\n          \\n        </div>\\n        <div class=\"chart_info\">\\n          <a href=\"https://vibe.naver.com/track/58952251\" target=\"_blank\" class=\"thumb_box\"\\n            data-clk=\"tcc_tvc.mrankcover3\"><img\\n              src=\"https://s.pstatic.net/dthumb.phinf/?src&#x3D;%22https%3A%2F%2Fmusicmeta-phinf.pstatic.net%2Falbum%2F008%2F427%2F8427802.jpg%3Ftype%3Dr480Fll%26v%3D20221207175924%22&amp;type&#x3D;navermain_n96_96\" alt=\"\\xed\\x81\\xac\\xeb\\xa6\\xac\\xec\\x8a\\xa4\\xeb\\xa7\\x88\\xec\\x8a\\xa4 \\xec\\x95\\x88\\xeb\\xb6\\x80\" height=\"48\" width=\"48\" onerror=\"this.outerHTML=\\'<span class=\\\\\\'pm_noimg_s\\\\\\'><span class=\\\\\\'blind\\\\\\'>\\xec\\x9d\\xb4\\xeb\\xaf\\xb8\\xec\\xa7\\x80 \\xec\\xa4\\x80\\xeb\\xb9\\x84\\xec\\xa4\\x91</span></span>\\'\"><span\\n              class=\"thumb_bd\"></span></a>\\n          <div class=\"info_box\">\\n            <a href=\"https://vibe.naver.com/track/58952251\" target=\"_blank\" class=\"title\"\\n              data-clk=\"tcc_tvc.mranksong3\">\\xed\\x81\\xac\\xeb\\xa6\\xac\\xec\\x8a\\xa4\\xeb\\xa7\\x88\\xec\\x8a\\xa4 \\xec\\x95\\x88\\xeb\\xb6\\x80</a>\\n            <div class=\"dsc_wrap\"><span class=\"dsc\">\\n                \\n                <a href=\"https://vibe.naver.com/artist/134346\" target=\"_blank\"\\n                  data-clk=\"tcc_tvc.mranksinger3\">\\xec\\x8a\\xa4\\xed\\x83\\xa0\\xeb\\x94\\xa9 \\xec\\x97\\x90\\xea\\xb7\\xb8(Standing Egg)</a>\\n                \\n              </span><span class=\"dsc\"><a href=\"https://vibe.naver.com/album/8427802\" target=\"_blank\"\\n                  data-clk=\"tcc_tvc.mrankalbum3\">Winter Songs</a></span>\\n            </div>\\n          </div>\\n        </div>\\n        <div class=\"chart_link\">\\n          <a href=\"https://vibe.naver.com/track/58952251\" target=\"_blank\" class=\"link_play\"\\n            data-clk=\"tcc_tvc.mrankplay3\"><span\\n              class=\"blind\">\\xec\\x9e\\xac\\xec\\x83\\x9d</span></a><a href=\"https://vibe.naver.com/track/58952251\" target=\"_blank\" class=\"link_lyrics\"\\n            data-clk=\"tcc_tvc.mranklyrics3\"><span\\n              class=\"blind\">\\xea\\xb0\\x80\\xec\\x82\\xac</span></a>\\n        </div>\\n      </div>\\n      \\n      <div class=\"chart_area\">\\n        <div class=\"chart_rank\">\\n          <em class=\"rank\">4<span class=\"blind\">\\xec\\x9c\\x84</span></em>\\n          \\n          \\n          <div class=\"state\"><i class=\"ico_down\"><span class=\"blind\">\\xed\\x95\\x98\\xeb\\x9d\\xbd</span></i></div>\\n          \\n        </div>\\n        <div class=\"chart_info\">\\n          <a href=\"https://vibe.naver.com/track/58543375\" target=\"_blank\" class=\"thumb_box\"\\n            data-clk=\"tcc_tvc.mrankcover4\"><img\\n              src=\"https://s.pstatic.net/dthumb.phinf/?src&#x3D;%22https%3A%2F%2Fmusicmeta-phinf.pstatic.net%2Falbum%2F008%2F326%2F8326631.jpg%3Ftype%3Dr480Fll%26v%3D20221114115929%22&amp;type&#x3D;navermain_n96_96\" alt=\"\\xeb\\x93\\xa4\\xeb\\xa6\\xac\\xeb\\x82\\x98\\xec\\x9a\\x94 (2022)\" height=\"48\" width=\"48\" onerror=\"this.outerHTML=\\'<span class=\\\\\\'pm_noimg_s\\\\\\'><span class=\\\\\\'blind\\\\\\'>\\xec\\x9d\\xb4\\xeb\\xaf\\xb8\\xec\\xa7\\x80 \\xec\\xa4\\x80\\xeb\\xb9\\x84\\xec\\xa4\\x91</span></span>\\'\"><span\\n              class=\"thumb_bd\"></span></a>\\n          <div class=\"info_box\">\\n            <a href=\"https://vibe.naver.com/track/58543375\" target=\"_blank\" class=\"title\"\\n              data-clk=\"tcc_tvc.mranksong4\">\\xeb\\x93\\xa4\\xeb\\xa6\\xac\\xeb\\x82\\x98\\xec\\x9a\\x94 (2022)</a>\\n            <div class=\"dsc_wrap\"><span class=\"dsc\">\\n                \\n                <a href=\"https://vibe.naver.com/artist/4066414\" target=\"_blank\"\\n                  data-clk=\"tcc_tvc.mranksinger4\">\\xec\\x88\\x98\\xec\\xa7\\x80(SUZI)</a>\\n                \\n              </span><span class=\"dsc\"><a href=\"https://vibe.naver.com/album/8326631\" target=\"_blank\"\\n                  data-clk=\"tcc_tvc.mrankalbum4\">\\xeb\\x93\\xa4\\xeb\\xa6\\xac\\xeb\\x82\\x98\\xec\\x9a\\x94 (2022)</a></span>\\n            </div>\\n          </div>\\n        </div>\\n        <div class=\"chart_link\">\\n          <a href=\"https://vibe.naver.com/track/58543375\" target=\"_blank\" class=\"link_play\"\\n            data-clk=\"tcc_tvc.mrankplay4\"><span\\n              class=\"blind\">\\xec\\x9e\\xac\\xec\\x83\\x9d</span></a><a href=\"https://vibe.naver.com/track/58543375\" target=\"_blank\" class=\"link_lyrics\"\\n            data-clk=\"tcc_tvc.mranklyrics4\"><span\\n              class=\"blind\">\\xea\\xb0\\x80\\xec\\x82\\xac</span></a>\\n        </div>\\n      </div>\\n      \\n      <div class=\"chart_area\">\\n        <div class=\"chart_rank\">\\n          <em class=\"rank\">5<span class=\"blind\">\\xec\\x9c\\x84</span></em>\\n          \\n          \\n          <div class=\"state\"><i class=\"ico_down\"><span class=\"blind\">\\xed\\x95\\x98\\xeb\\x9d\\xbd</span></i></div>\\n          \\n        </div>\\n        <div class=\"chart_info\">\\n          <a href=\"https://vibe.naver.com/track/58689112\" target=\"_blank\" class=\"thumb_box\"\\n            data-clk=\"tcc_tvc.mrankcover5\"><img\\n              src=\"https://s.pstatic.net/dthumb.phinf/?src&#x3D;%22https%3A%2F%2Fmusicmeta-phinf.pstatic.net%2Falbum%2F008%2F366%2F8366808.jpg%3Ftype%3Dr480Fll%26v%3D20221123175910%22&amp;type&#x3D;navermain_n96_96\" alt=\"Funky Glitter Christmas\" height=\"48\" width=\"48\" onerror=\"this.outerHTML=\\'<span class=\\\\\\'pm_noimg_s\\\\\\'><span class=\\\\\\'blind\\\\\\'>\\xec\\x9d\\xb4\\xeb\\xaf\\xb8\\xec\\xa7\\x80 \\xec\\xa4\\x80\\xeb\\xb9\\x84\\xec\\xa4\\x91</span></span>\\'\"><span\\n              class=\"thumb_bd\"></span></a>\\n          <div class=\"info_box\">\\n            <a href=\"https://vibe.naver.com/track/58689112\" target=\"_blank\" class=\"title\"\\n              data-clk=\"tcc_tvc.mranksong5\">Funky Glitter Christmas</a>\\n            <div class=\"dsc_wrap\"><span class=\"dsc\">\\n                \\n                <a href=\"https://vibe.naver.com/artist/5176052\" target=\"_blank\"\\n                  data-clk=\"tcc_tvc.mranksinger5\">NMIXX</a>\\n                \\n              </span><span class=\"dsc\"><a href=\"https://vibe.naver.com/album/8366808\" target=\"_blank\"\\n                  data-clk=\"tcc_tvc.mrankalbum5\">1st Intermixxion Single &lt;Funky Glitter Christmas&gt;</a></span>\\n            </div>\\n          </div>\\n        </div>\\n        <div class=\"chart_link\">\\n          <a href=\"https://vibe.naver.com/track/58689112\" target=\"_blank\" class=\"link_play\"\\n            data-clk=\"tcc_tvc.mrankplay5\"><span\\n              class=\"blind\">\\xec\\x9e\\xac\\xec\\x83\\x9d</span></a><a href=\"https://vibe.naver.com/track/58689112\" target=\"_blank\" class=\"link_lyrics\"\\n            data-clk=\"tcc_tvc.mranklyrics5\"><span\\n              class=\"blind\">\\xea\\xb0\\x80\\xec\\x82\\xac</span></a>\\n        </div>\\n      </div>\\n      \\n    </div>\\n    \\n    <div class=\"chart_view\">\\n      \\n      <div class=\"chart_area\">\\n        <div class=\"chart_rank\">\\n          <em class=\"rank\">6<span class=\"blind\">\\xec\\x9c\\x84</span></em>\\n          \\n          <div class=\"state\"><i class=\"ico_up\"><span class=\"blind\">\\xec\\x83\\x81\\xec\\x8a\\xb9</span></i></div>\\n          \\n          \\n        </div>\\n        <div class=\"chart_info\">\\n          <a href=\"https://vibe.naver.com/track/58969089\" target=\"_blank\" class=\"thumb_box\"\\n            data-clk=\"tcc_tvc.mrankcover6\"><img\\n              src=\"https://s.pstatic.net/dthumb.phinf/?src&#x3D;%22https%3A%2F%2Fmusicmeta-phinf.pstatic.net%2Falbum%2F008%2F432%2F8432279.jpg%3Ftype%3Dr480Fll%26v%3D20221208175916%22&amp;type&#x3D;navermain_n96_96\" alt=\"Love Again\" height=\"48\" width=\"48\" onerror=\"this.outerHTML=\\'<span class=\\\\\\'pm_noimg_s\\\\\\'><span class=\\\\\\'blind\\\\\\'>\\xec\\x9d\\xb4\\xeb\\xaf\\xb8\\xec\\xa7\\x80 \\xec\\xa4\\x80\\xeb\\xb9\\x84\\xec\\xa4\\x91</span></span>\\'\"><span\\n              class=\"thumb_bd\"></span></a>\\n          <div class=\"info_box\">\\n            <a href=\"https://vibe.naver.com/track/58969089\" target=\"_blank\" class=\"title\"\\n              data-clk=\"tcc_tvc.mranksong6\">Love Again</a>\\n            <div class=\"dsc_wrap\"><span class=\"dsc\">\\n                \\n                <a href=\"https://vibe.naver.com/artist/143190\" target=\"_blank\"\\n                  data-clk=\"tcc_tvc.mranksinger6\">\\xec\\xa1\\xb4\\xeb\\xb0\\x95</a>\\n                \\n              </span><span class=\"dsc\"><a href=\"https://vibe.naver.com/album/8432279\" target=\"_blank\"\\n                  data-clk=\"tcc_tvc.mrankalbum6\">Love Again</a></span>\\n            </div>\\n          </div>\\n        </div>\\n        <div class=\"chart_link\">\\n          <a href=\"https://vibe.naver.com/track/58969089\" target=\"_blank\" class=\"link_play\"\\n            data-clk=\"tcc_tvc.mrankplay6\"><span\\n              class=\"blind\">\\xec\\x9e\\xac\\xec\\x83\\x9d</span></a><a href=\"https://vibe.naver.com/track/58969089\" target=\"_blank\" class=\"link_lyrics\"\\n            data-clk=\"tcc_tvc.mranklyrics6\"><span\\n              class=\"blind\">\\xea\\xb0\\x80\\xec\\x82\\xac</span></a>\\n        </div>\\n      </div>\\n      \\n      <div class=\"chart_area\">\\n        <div class=\"chart_rank\">\\n          <em class=\"rank\">7<span class=\"blind\">\\xec\\x9c\\x84</span></em>\\n          \\n          <div class=\"state\"><i class=\"ico_up\"><span class=\"blind\">\\xec\\x83\\x81\\xec\\x8a\\xb9</span></i></div>\\n          \\n          \\n        </div>\\n        <div class=\"chart_info\">\\n          <a href=\"https://vibe.naver.com/track/58969509\" target=\"_blank\" class=\"thumb_box\"\\n            data-clk=\"tcc_tvc.mrankcover7\"><img\\n              src=\"https://s.pstatic.net/dthumb.phinf/?src&#x3D;%22https%3A%2F%2Fmusicmeta-phinf.pstatic.net%2Falbum%2F008%2F432%2F8432348.jpg%3Ftype%3Dr480Fll%26v%3D20221208175915%22&amp;type&#x3D;navermain_n96_96\" alt=\"\\xec\\x84\\x9c\\xec\\x9a\\xb8\\xec\\x9d\\x98 \\xeb\\x8b\\xac\" height=\"48\" width=\"48\" onerror=\"this.outerHTML=\\'<span class=\\\\\\'pm_noimg_s\\\\\\'><span class=\\\\\\'blind\\\\\\'>\\xec\\x9d\\xb4\\xeb\\xaf\\xb8\\xec\\xa7\\x80 \\xec\\xa4\\x80\\xeb\\xb9\\x84\\xec\\xa4\\x91</span></span>\\'\"><span\\n              class=\"thumb_bd\"></span></a>\\n          <div class=\"info_box\">\\n            <a href=\"https://vibe.naver.com/track/58969509\" target=\"_blank\" class=\"title\"\\n              data-clk=\"tcc_tvc.mranksong7\">\\xec\\x84\\x9c\\xec\\x9a\\xb8\\xec\\x9d\\x98 \\xeb\\x8b\\xac</a>\\n            <div class=\"dsc_wrap\"><span class=\"dsc\">\\n                \\n                <a href=\"https://vibe.naver.com/artist/8498\" target=\"_blank\"\\n                  data-clk=\"tcc_tvc.mranksinger7\">\\xeb\\xb9\\x85\\xeb\\xa7\\x88\\xeb\\xa7\\x88</a>\\n                \\n              </span><span class=\"dsc\"><a href=\"https://vibe.naver.com/album/8432348\" target=\"_blank\"\\n                  data-clk=\"tcc_tvc.mrankalbum7\">\\xec\\x88\\xa0\\xea\\xbe\\xbc\\xeb\\x8f\\x84\\xec\\x8b\\x9c\\xec\\x97\\xac\\xec\\x9e\\x90\\xeb\\x93\\xa42 OST Part 1</a></span>\\n            </div>\\n          </div>\\n        </div>\\n        <div class=\"chart_link\">\\n          <a href=\"https://vibe.naver.com/track/58969509\" target=\"_blank\" class=\"link_play\"\\n            data-clk=\"tcc_tvc.mrankplay7\"><span\\n              class=\"blind\">\\xec\\x9e\\xac\\xec\\x83\\x9d</span></a><a href=\"https://vibe.naver.com/track/58969509\" target=\"_blank\" class=\"link_lyrics\"\\n            data-clk=\"tcc_tvc.mranklyrics7\"><span\\n              class=\"blind\">\\xea\\xb0\\x80\\xec\\x82\\xac</span></a>\\n        </div>\\n      </div>\\n      \\n      <div class=\"chart_area\">\\n        <div class=\"chart_rank\">\\n          <em class=\"rank\">8<span class=\"blind\">\\xec\\x9c\\x84</span></em>\\n          \\n          \\n          <div class=\"state\"><i class=\"ico_down\"><span class=\"blind\">\\xed\\x95\\x98\\xeb\\x9d\\xbd</span></i></div>\\n          \\n        </div>\\n        <div class=\"chart_info\">\\n          <a href=\"https://vibe.naver.com/track/58563037\" target=\"_blank\" class=\"thumb_box\"\\n            data-clk=\"tcc_tvc.mrankcover8\"><img\\n              src=\"https://s.pstatic.net/dthumb.phinf/?src&#x3D;%22https%3A%2F%2Fmusicmeta-phinf.pstatic.net%2Falbum%2F008%2F332%2F8332476.jpg%3Ftype%3Dr480Fll%26v%3D20221115175912%22&amp;type&#x3D;navermain_n96_96\" alt=\"London Boy\" height=\"48\" width=\"48\" onerror=\"this.outerHTML=\\'<span class=\\\\\\'pm_noimg_s\\\\\\'><span class=\\\\\\'blind\\\\\\'>\\xec\\x9d\\xb4\\xeb\\xaf\\xb8\\xec\\xa7\\x80 \\xec\\xa4\\x80\\xeb\\xb9\\x84\\xec\\xa4\\x91</span></span>\\'\"><span\\n              class=\"thumb_bd\"></span></a>\\n          <div class=\"info_box\">\\n            <a href=\"https://vibe.naver.com/track/58563037\" target=\"_blank\" class=\"title\"\\n              data-clk=\"tcc_tvc.mranksong8\">London Boy</a>\\n            <div class=\"dsc_wrap\"><span class=\"dsc\">\\n                \\n                <a href=\"https://vibe.naver.com/artist/451341\" target=\"_blank\"\\n                  data-clk=\"tcc_tvc.mranksinger8\">\\xec\\x9e\\x84\\xec\\x98\\x81\\xec\\x9b\\x85</a>\\n                \\n              </span><span class=\"dsc\"><a href=\"https://vibe.naver.com/album/8332476\" target=\"_blank\"\\n                  data-clk=\"tcc_tvc.mrankalbum8\">Polaroid</a></span>\\n            </div>\\n          </div>\\n        </div>\\n        <div class=\"chart_link\">\\n          <a href=\"https://vibe.naver.com/track/58563037\" target=\"_blank\" class=\"link_play\"\\n            data-clk=\"tcc_tvc.mrankplay8\"><span\\n              class=\"blind\">\\xec\\x9e\\xac\\xec\\x83\\x9d</span></a><a href=\"https://vibe.naver.com/track/58563037\" target=\"_blank\" class=\"link_lyrics\"\\n            data-clk=\"tcc_tvc.mranklyrics8\"><span\\n              class=\"blind\">\\xea\\xb0\\x80\\xec\\x82\\xac</span></a>\\n        </div>\\n      </div>\\n      \\n      <div class=\"chart_area\">\\n        <div class=\"chart_rank\">\\n          <em class=\"rank\">9<span class=\"blind\">\\xec\\x9c\\x84</span></em>\\n          \\n          \\n        </div>\\n        <div class=\"chart_info\">\\n          <a href=\"https://vibe.naver.com/track/58563038\" target=\"_blank\" class=\"thumb_box\"\\n            data-clk=\"tcc_tvc.mrankcover9\"><img\\n              src=\"https://s.pstatic.net/dthumb.phinf/?src&#x3D;%22https%3A%2F%2Fmusicmeta-phinf.pstatic.net%2Falbum%2F008%2F332%2F8332476.jpg%3Ftype%3Dr480Fll%26v%3D20221115175912%22&amp;type&#x3D;navermain_n96_96\" alt=\"Polaroid\" height=\"48\" width=\"48\" onerror=\"this.outerHTML=\\'<span class=\\\\\\'pm_noimg_s\\\\\\'><span class=\\\\\\'blind\\\\\\'>\\xec\\x9d\\xb4\\xeb\\xaf\\xb8\\xec\\xa7\\x80 \\xec\\xa4\\x80\\xeb\\xb9\\x84\\xec\\xa4\\x91</span></span>\\'\"><span\\n              class=\"thumb_bd\"></span></a>\\n          <div class=\"info_box\">\\n            <a href=\"https://vibe.naver.com/track/58563038\" target=\"_blank\" class=\"title\"\\n              data-clk=\"tcc_tvc.mranksong9\">Polaroid</a>\\n            <div class=\"dsc_wrap\"><span class=\"dsc\">\\n                \\n                <a href=\"https://vibe.naver.com/artist/451341\" target=\"_blank\"\\n                  data-clk=\"tcc_tvc.mranksinger9\">\\xec\\x9e\\x84\\xec\\x98\\x81\\xec\\x9b\\x85</a>\\n                \\n              </span><span class=\"dsc\"><a href=\"https://vibe.naver.com/album/8332476\" target=\"_blank\"\\n                  data-clk=\"tcc_tvc.mrankalbum9\">Polaroid</a></span>\\n            </div>\\n          </div>\\n        </div>\\n        <div class=\"chart_link\">\\n          <a href=\"https://vibe.naver.com/track/58563038\" target=\"_blank\" class=\"link_play\"\\n            data-clk=\"tcc_tvc.mrankplay9\"><span\\n              class=\"blind\">\\xec\\x9e\\xac\\xec\\x83\\x9d</span></a><a href=\"https://vibe.naver.com/track/58563038\" target=\"_blank\" class=\"link_lyrics\"\\n            data-clk=\"tcc_tvc.mranklyrics9\"><span\\n              class=\"blind\">\\xea\\xb0\\x80\\xec\\x82\\xac</span></a>\\n        </div>\\n      </div>\\n      \\n      <div class=\"chart_area\">\\n        <div class=\"chart_rank\">\\n          <em class=\"rank\">10<span class=\"blind\">\\xec\\x9c\\x84</span></em>\\n          \\n          \\n        </div>\\n        <div class=\"chart_info\">\\n          <a href=\"https://vibe.naver.com/track/58646566\" target=\"_blank\" class=\"thumb_box\"\\n            data-clk=\"tcc_tvc.mrankcover10\"><img\\n              src=\"https://s.pstatic.net/dthumb.phinf/?src&#x3D;%22https%3A%2F%2Fmusicmeta-phinf.pstatic.net%2Falbum%2F008%2F354%2F8354911.jpg%3Ftype%3Dr480Fll%26v%3D20221121175913%22&amp;type&#x3D;navermain_n96_96\" alt=\"\\xec\\x9a\\xb0\\xeb\\xa6\\xac\\xea\\xb0\\x80 \\xec\\x9a\\xb0\\xeb\\xa6\\xac\\xec\\x98\\x80\\xec\\x97\\x88\\xeb\\x8d\\x98 \\xeb\\x82\\xa0\\xeb\\x93\\xa4\" height=\"48\" width=\"48\" onerror=\"this.outerHTML=\\'<span class=\\\\\\'pm_noimg_s\\\\\\'><span class=\\\\\\'blind\\\\\\'>\\xec\\x9d\\xb4\\xeb\\xaf\\xb8\\xec\\xa7\\x80 \\xec\\xa4\\x80\\xeb\\xb9\\x84\\xec\\xa4\\x91</span></span>\\'\"><span\\n              class=\"thumb_bd\"></span></a>\\n          <div class=\"info_box\">\\n            <a href=\"https://vibe.naver.com/track/58646566\" target=\"_blank\" class=\"title\"\\n              data-clk=\"tcc_tvc.mranksong10\">\\xec\\x9a\\xb0\\xeb\\xa6\\xac\\xea\\xb0\\x80 \\xec\\x9a\\xb0\\xeb\\xa6\\xac\\xec\\x98\\x80\\xec\\x97\\x88\\xeb\\x8d\\x98 \\xeb\\x82\\xa0\\xeb\\x93\\xa4</a>\\n            <div class=\"dsc_wrap\"><span class=\"dsc\">\\n                \\n                <a href=\"https://vibe.naver.com/artist/90123\" target=\"_blank\"\\n                  data-clk=\"tcc_tvc.mranksinger10\">\\xec\\x86\\x94\\xec\\xa7\\x80</a>\\n                \\n              </span><span class=\"dsc\"><a href=\"https://vibe.naver.com/album/8354911\" target=\"_blank\"\\n                  data-clk=\"tcc_tvc.mrankalbum10\">\\xec\\x9a\\xb0\\xeb\\xa6\\xac\\xea\\xb0\\x80 \\xec\\x9a\\xb0\\xeb\\xa6\\xac\\xec\\x98\\x80\\xec\\x97\\x88\\xeb\\x8d\\x98 \\xeb\\x82\\xa0\\xeb\\x93\\xa4</a></span>\\n            </div>\\n          </div>\\n        </div>\\n        <div class=\"chart_link\">\\n          <a href=\"https://vibe.naver.com/track/58646566\" target=\"_blank\" class=\"link_play\"\\n            data-clk=\"tcc_tvc.mrankplay10\"><span\\n              class=\"blind\">\\xec\\x9e\\xac\\xec\\x83\\x9d</span></a><a href=\"https://vibe.naver.com/track/58646566\" target=\"_blank\" class=\"link_lyrics\"\\n            data-clk=\"tcc_tvc.mranklyrics10\"><span\\n              class=\"blind\">\\xea\\xb0\\x80\\xec\\x82\\xac</span></a>\\n        </div>\\n      </div>\\n      \\n    </div>\\n    \\n  </div>\\n</div>\\n<div class=\"group_theme\" data-block-id=\"5db0bbf2d6902f284eaffb63\" data-block-code=\"PC-THEME-ENTER-RANKING-1\" data-block-type=\"MATERIALS\" data-template-code=\"3X3\"\\n\\n     data-page=\"1\"\\n     >\\n\\n\\t<div class=\"media_view_wrap type_column\">\\n\\t\\t<div class=\"media_view\">\\n\\t\\t\\t\\n\\t\\t\\t\\t\\n\\t\\t\\t\\t\\t<a href=\"https://tv.naver.com/v/30897585\" class=\"media_area\" data-da-position=\"true\" data-gdid=\"PC-THEME-ENTER-RANKING-1[materials][0]\"\\n\\t\\t\\t\\t\\t   data-clk=\"tcc_tvc.list2cont1\" target=\"_blank\">\\n\\t\\t\\t\\t\\t\\t<div class=\"media_thumb\">\\n\\t\\t\\t\\t\\t\\t\\t<img src=\"https://s.pstatic.net/dthumb.phinf/?src&#x3D;%22https%3A%2F%2Fphinf.pstatic.net%2Ftvcast%2F20221119_170%2FczvFh_16688196428598qxQ6_JPEG%2F1668819457407.jpg%22&amp;type&#x3D;nf464_260\"\\n\\t\\t\\t\\t\\t\\t\\t     data-src=\"https://s.pstatic.net/dthumb.phinf/?src&#x3D;%22https%3A%2F%2Fphinf.pstatic.net%2Ftvcast%2F20221119_170%2FczvFh_16688196428598qxQ6_JPEG%2F1668819457407.jpg%22&amp;type&#x3D;nf464_260\" alt=\"\" width=\"232\" height=\"130\"\\n\\t\\t\\t\\t\\t\\t\\t     onerror=\"this.outerHTML=\\'<span class=\\\\\\'pm_noimg\\\\\\'><span class=\\\\\\'noimg_text\\\\\\'>\\xec\\x9d\\xb4\\xeb\\xaf\\xb8\\xec\\xa7\\x80 \\xec\\xa4\\x80\\xeb\\xb9\\x84\\xec\\xa4\\x91</span></span>\\'\">\\n\\n\\t\\t\\t\\t\\t\\t\\t\\n\\t\\t\\t\\t\\t\\t\\t\\t<span class=\"thumb_dim\"></span>\\n\\t\\t\\t\\t\\t\\t\\t\\t<span class=\"thumb_bd\"></span>\\n\\t\\t\\t\\t\\t\\t\\t\\t<i class=\"pm_ico_play\"><span class=\"blind\">\\xec\\x9e\\xac\\xec\\x83\\x9d</span></i>\\n\\t\\t\\t\\t\\t\\t\\t\\t<span class=\"theme_runtime\"><span class=\"runtime_bg\">\\xec\\x9e\\xac\\xec\\x83\\x9d\\xec\\x8b\\x9c\\xea\\xb0\\x84</span><em\\n\\t\\t\\t\\t\\t\\t\\t\\t\\t\\tclass=\"time\">0:40</em></span>\\n\\t\\t\\t\\t\\t\\t\\t\\n\\t\\t\\t\\t\\t\\t</div>\\n\\t\\t\\t\\t\\t\\t<div class=\"media_info\">\\n\\t\\t\\t\\t\\t\\t\\t<div class=\"info_box\">\\n\\t\\t\\t\\t\\t\\t\\t\\t\\n\\t\\t\\t\\t\\t\\t\\t\\t\\t<em class=\"theme_category\">\\xec\\x9b\\xb9\\xeb\\x93\\x9c\\xeb\\x9d\\xbc\\xeb\\xa7\\x88</em>\\n\\t\\t\\t\\t\\t\\t\\t\\t\\n\\t\\t\\t\\t\\t\\t\\t\\t\\n\\t\\t\\t\\t\\t\\t\\t\\t<strong class=\"title \">\\xed\\x99\\x94\\xec\\xa0\\x9c\\xec\\x9d\\x98 \\xeb\\x93\\x9c\\xeb\\x9d\\xbc\\xeb\\xa7\\x88 \\xe2\\x80\\x98\\xec\\x9e\\xac\\xeb\\xb2\\x8c\\xec\\xa7\\x91 \\xeb\\xa7\\x89\\xeb\\x82\\xb4\\xec\\x95\\x84\\xeb\\x93\\xa4\\' \\xea\\xb7\\xb8 \\xec\\x9b\\x90\\xec\\x9e\\x91 \\xec\\x8a\\xa4\\xed\\x86\\xa0\\xeb\\xa6\\xac</strong>\\n\\t\\t\\t\\t\\t\\t\\t\\t<div class=\"source_wrap\">\\n\\t\\t\\t\\t\\t\\t\\t\\t\\t\\n\\t\\t\\t\\t\\t\\t\\t\\t\\t\\t<span class=\"date\">8\\xeb\\xb6\\x84 \\xec\\xa0\\x84</span>\\n\\t\\t\\t\\t\\t\\t\\t\\t\\t\\t<span class=\"source\">\\n\\t\\t\\t\\t\\t\\t\\t\\t\\t\\t\\t\\n\\t\\t\\t\\t\\t\\t\\t\\t\\t\\t<span class=\"source_inner\">\\xeb\\x84\\xa4\\xec\\x9d\\xb4\\xeb\\xb2\\x84 \\xec\\x9b\\xb9\\xed\\x88\\xb0</span>\\n\\t\\t\\t\\t\\t\\t\\t\\t\\t\\t</span>\\n\\t\\t\\t\\t\\t\\t\\t\\t\\t\\n\\t\\t\\t\\t\\t\\t\\t\\t</div>\\n\\t\\t\\t\\t\\t\\t\\t</div>\\n\\t\\t\\t\\t\\t\\t</div>\\n\\t\\t\\t\\t\\t</a>\\n\\t\\t\\t\\t\\n\\t\\t\\t\\n\\t\\t\\t\\t\\n\\t\\t\\t\\t\\t<a href=\"https://tv.naver.com/v/27211619\" class=\"media_area\" data-da-position=\"true\" data-gdid=\"PC-THEME-ENTER-RANKING-1[materials][1]\"\\n\\t\\t\\t\\t\\t   data-clk=\"tcc_tvc.list2cont2\" target=\"_blank\">\\n\\t\\t\\t\\t\\t\\t<div class=\"media_thumb\">\\n\\t\\t\\t\\t\\t\\t\\t<img src=\"https://s.pstatic.net/dthumb.phinf/?src&#x3D;%22https%3A%2F%2Fphinf.pstatic.net%2Ftvcast%2F20220607_24%2FNffLd_1654591171726gyofG_PNG%2F1654591045811.png%22&amp;type&#x3D;nf464_260\"\\n\\t\\t\\t\\t\\t\\t\\t     data-src=\"https://s.pstatic.net/dthumb.phinf/?src&#x3D;%22https%3A%2F%2Fphinf.pstatic.net%2Ftvcast%2F20220607_24%2FNffLd_1654591171726gyofG_PNG%2F1654591045811.png%22&amp;type&#x3D;nf464_260\" alt=\"\" width=\"232\" height=\"130\"\\n\\t\\t\\t\\t\\t\\t\\t     onerror=\"this.outerHTML=\\'<span class=\\\\\\'pm_noimg\\\\\\'><span class=\\\\\\'noimg_text\\\\\\'>\\xec\\x9d\\xb4\\xeb\\xaf\\xb8\\xec\\xa7\\x80 \\xec\\xa4\\x80\\xeb\\xb9\\x84\\xec\\xa4\\x91</span></span>\\'\">\\n\\n\\t\\t\\t\\t\\t\\t\\t\\n\\t\\t\\t\\t\\t\\t\\t\\t<span class=\"thumb_dim\"></span>\\n\\t\\t\\t\\t\\t\\t\\t\\t<span class=\"thumb_bd\"></span>\\n\\t\\t\\t\\t\\t\\t\\t\\t<i class=\"pm_ico_play\"><span class=\"blind\">\\xec\\x9e\\xac\\xec\\x83\\x9d</span></i>\\n\\t\\t\\t\\t\\t\\t\\t\\t<span class=\"theme_runtime\"><span class=\"runtime_bg\">\\xec\\x9e\\xac\\xec\\x83\\x9d\\xec\\x8b\\x9c\\xea\\xb0\\x84</span><em\\n\\t\\t\\t\\t\\t\\t\\t\\t\\t\\tclass=\"time\">0:53</em></span>\\n\\t\\t\\t\\t\\t\\t\\t\\n\\t\\t\\t\\t\\t\\t</div>\\n\\t\\t\\t\\t\\t\\t<div class=\"media_info\">\\n\\t\\t\\t\\t\\t\\t\\t<div class=\"info_box\">\\n\\t\\t\\t\\t\\t\\t\\t\\t\\n\\t\\t\\t\\t\\t\\t\\t\\t\\t<em class=\"theme_category\">\\xec\\x9b\\xb9\\xeb\\x93\\x9c\\xeb\\x9d\\xbc\\xeb\\xa7\\x88</em>\\n\\t\\t\\t\\t\\t\\t\\t\\t\\n\\t\\t\\t\\t\\t\\t\\t\\t\\n\\t\\t\\t\\t\\t\\t\\t\\t<strong class=\"title \">\\xeb\\x93\\x9c\\xeb\\x9d\\xbc\\xeb\\xa7\\x88 \\'\\xec\\x9c\\xa0\\xeb\\xaf\\xb8\\xec\\x9d\\x98 \\xec\\x84\\xb8\\xed\\x8f\\xac\\xeb\\x93\\xa4 \\xec\\x8b\\x9c\\xec\\xa6\\x8c2\\' \\xed\\x8b\\xb0\\xec\\xa0\\x80 \\xec\\x98\\x88\\xea\\xb3\\xa0\\xed\\x8e\\xb8\\xf0\\x9f\\x92\\x93</strong>\\n\\t\\t\\t\\t\\t\\t\\t\\t<div class=\"source_wrap\">\\n\\t\\t\\t\\t\\t\\t\\t\\t\\t\\n\\t\\t\\t\\t\\t\\t\\t\\t\\t\\t<span class=\"date\">8\\xeb\\xb6\\x84 \\xec\\xa0\\x84</span>\\n\\t\\t\\t\\t\\t\\t\\t\\t\\t\\t<span class=\"source\">\\n\\t\\t\\t\\t\\t\\t\\t\\t\\t\\t\\t\\n\\t\\t\\t\\t\\t\\t\\t\\t\\t\\t<span class=\"source_inner\">\\xeb\\x84\\xa4\\xec\\x9d\\xb4\\xeb\\xb2\\x84 \\xec\\x9b\\xb9\\xed\\x88\\xb0</span>\\n\\t\\t\\t\\t\\t\\t\\t\\t\\t\\t</span>\\n\\t\\t\\t\\t\\t\\t\\t\\t\\t\\n\\t\\t\\t\\t\\t\\t\\t\\t</div>\\n\\t\\t\\t\\t\\t\\t\\t</div>\\n\\t\\t\\t\\t\\t\\t</div>\\n\\t\\t\\t\\t\\t</a>\\n\\t\\t\\t\\t\\n\\t\\t\\t\\n\\t\\t\\t\\t\\n\\t\\t\\t\\t\\t<a href=\"https://tv.naver.com/v/29239922\" class=\"media_area\" data-da-position=\"true\" data-gdid=\"PC-THEME-ENTER-RANKING-1[materials][2]\"\\n\\t\\t\\t\\t\\t   data-clk=\"tcc_tvc.list2cont3\" target=\"_blank\">\\n\\t\\t\\t\\t\\t\\t<div class=\"media_thumb\">\\n\\t\\t\\t\\t\\t\\t\\t<img src=\"https://s.pstatic.net/dthumb.phinf/?src&#x3D;%22https%3A%2F%2Fphinf.pstatic.net%2Ftvcast%2F20220916_158%2FNxZDa_1663301384320GIwyC_PNG%2F1663301357388.png%22&amp;type&#x3D;nf464_260\"\\n\\t\\t\\t\\t\\t\\t\\t     data-src=\"https://s.pstatic.net/dthumb.phinf/?src&#x3D;%22https%3A%2F%2Fphinf.pstatic.net%2Ftvcast%2F20220916_158%2FNxZDa_1663301384320GIwyC_PNG%2F1663301357388.png%22&amp;type&#x3D;nf464_260\" alt=\"\" width=\"232\" height=\"130\"\\n\\t\\t\\t\\t\\t\\t\\t     onerror=\"this.outerHTML=\\'<span class=\\\\\\'pm_noimg\\\\\\'><span class=\\\\\\'noimg_text\\\\\\'>\\xec\\x9d\\xb4\\xeb\\xaf\\xb8\\xec\\xa7\\x80 \\xec\\xa4\\x80\\xeb\\xb9\\x84\\xec\\xa4\\x91</span></span>\\'\">\\n\\n\\t\\t\\t\\t\\t\\t\\t\\n\\t\\t\\t\\t\\t\\t\\t\\t<span class=\"thumb_dim\"></span>\\n\\t\\t\\t\\t\\t\\t\\t\\t<span class=\"thumb_bd\"></span>\\n\\t\\t\\t\\t\\t\\t\\t\\t<i class=\"pm_ico_play\"><span class=\"blind\">\\xec\\x9e\\xac\\xec\\x83\\x9d</span></i>\\n\\t\\t\\t\\t\\t\\t\\t\\t<span class=\"theme_runtime\"><span class=\"runtime_bg\">\\xec\\x9e\\xac\\xec\\x83\\x9d\\xec\\x8b\\x9c\\xea\\xb0\\x84</span><em\\n\\t\\t\\t\\t\\t\\t\\t\\t\\t\\tclass=\"time\">2:22</em></span>\\n\\t\\t\\t\\t\\t\\t\\t\\n\\t\\t\\t\\t\\t\\t</div>\\n\\t\\t\\t\\t\\t\\t<div class=\"media_info\">\\n\\t\\t\\t\\t\\t\\t\\t<div class=\"info_box\">\\n\\t\\t\\t\\t\\t\\t\\t\\t\\n\\t\\t\\t\\t\\t\\t\\t\\t\\t<em class=\"theme_category\">\\xec\\x9b\\xb9\\xec\\x98\\x88\\xeb\\x8a\\xa5</em>\\n\\t\\t\\t\\t\\t\\t\\t\\t\\n\\t\\t\\t\\t\\t\\t\\t\\t\\n\\t\\t\\t\\t\\t\\t\\t\\t<strong class=\"title \">\\xec\\xb2\\xab \\xeb\\x8d\\xb0\\xec\\x9d\\xb4\\xed\\x8a\\xb8\\xeb\\xb6\\x80\\xed\\x84\\xb0 \\xeb\\xa7\\x88\\xec\\xa7\\x80\\xeb\\xa7\\x89 \\xec\\x88\\x9c\\xea\\xb0\\x84\\xea\\xb9\\x8c\\xec\\xa7\\x80 \\xe2\\x80\\x98\\xeb\\xbd\\x80\\xeb\\xbd\\x80\\xe2\\x80\\x99\\xeb\\xa1\\x9c \\xec\\x9e\\xa5\\xec\\x8b\\x9d\\xed\\x95\\x9c \\xec\\xbb\\xa4\\xed\\x94\\x8c\\xe2\\x99\\xa5 | \\xec\\x8d\\xb8\\xed\\x95\\x91</strong>\\n\\t\\t\\t\\t\\t\\t\\t\\t<div class=\"source_wrap\">\\n\\t\\t\\t\\t\\t\\t\\t\\t\\t\\n\\t\\t\\t\\t\\t\\t\\t\\t\\t\\t<span class=\"date\">8\\xeb\\xb6\\x84 \\xec\\xa0\\x84</span>\\n\\t\\t\\t\\t\\t\\t\\t\\t\\t\\t<span class=\"source\">\\n\\t\\t\\t\\t\\t\\t\\t\\t\\t\\t\\t\\n\\t\\t\\t\\t\\t\\t\\t\\t\\t\\t<span class=\"source_inner\">\\xec\\x94\\xac\\xec\\xba\\x90\\xec\\xb2\\x98</span>\\n\\t\\t\\t\\t\\t\\t\\t\\t\\t\\t</span>\\n\\t\\t\\t\\t\\t\\t\\t\\t\\t\\n\\t\\t\\t\\t\\t\\t\\t\\t</div>\\n\\t\\t\\t\\t\\t\\t\\t</div>\\n\\t\\t\\t\\t\\t\\t</div>\\n\\t\\t\\t\\t\\t</a>\\n\\t\\t\\t\\t\\n\\t\\t\\t\\n\\t\\t\\t\\t\\n\\t\\t\\t\\t\\t<a href=\"https://tv.naver.com/v/31585516\" class=\"media_area\" data-da-position=\"true\" data-gdid=\"PC-THEME-ENTER-RANKING-1[materials][3]\"\\n\\t\\t\\t\\t\\t   data-clk=\"tcc_tvc.list2cont4\" target=\"_blank\">\\n\\t\\t\\t\\t\\t\\t<div class=\"media_thumb\">\\n\\t\\t\\t\\t\\t\\t\\t<img src=\"https://s.pstatic.net/dthumb.phinf/?src&#x3D;%22https%3A%2F%2Fs.pstatic.net%2Ftvcast.phinf%2F20221214_214%2FntCWB_1670944889746AFfrq_JPEG%2FtSyrM8iDyJZi.jpg%22&amp;type&#x3D;nf464_260\"\\n\\t\\t\\t\\t\\t\\t\\t     data-src=\"https://s.pstatic.net/dthumb.phinf/?src&#x3D;%22https%3A%2F%2Fs.pstatic.net%2Ftvcast.phinf%2F20221214_214%2FntCWB_1670944889746AFfrq_JPEG%2FtSyrM8iDyJZi.jpg%22&amp;type&#x3D;nf464_260\" alt=\"\" width=\"232\" height=\"130\"\\n\\t\\t\\t\\t\\t\\t\\t     onerror=\"this.outerHTML=\\'<span class=\\\\\\'pm_noimg\\\\\\'><span class=\\\\\\'noimg_text\\\\\\'>\\xec\\x9d\\xb4\\xeb\\xaf\\xb8\\xec\\xa7\\x80 \\xec\\xa4\\x80\\xeb\\xb9\\x84\\xec\\xa4\\x91</span></span>\\'\">\\n\\n\\t\\t\\t\\t\\t\\t\\t\\n\\t\\t\\t\\t\\t\\t\\t\\t<span class=\"thumb_dim\"></span>\\n\\t\\t\\t\\t\\t\\t\\t\\t<span class=\"thumb_bd\"></span>\\n\\t\\t\\t\\t\\t\\t\\t\\t<i class=\"pm_ico_play\"><span class=\"blind\">\\xec\\x9e\\xac\\xec\\x83\\x9d</span></i>\\n\\t\\t\\t\\t\\t\\t\\t\\t<span class=\"theme_runtime\"><span class=\"runtime_bg\">\\xec\\x9e\\xac\\xec\\x83\\x9d\\xec\\x8b\\x9c\\xea\\xb0\\x84</span><em\\n\\t\\t\\t\\t\\t\\t\\t\\t\\t\\tclass=\"time\">19:08</em></span>\\n\\t\\t\\t\\t\\t\\t\\t\\n\\t\\t\\t\\t\\t\\t</div>\\n\\t\\t\\t\\t\\t\\t<div class=\"media_info\">\\n\\t\\t\\t\\t\\t\\t\\t<div class=\"info_box\">\\n\\t\\t\\t\\t\\t\\t\\t\\t\\n\\t\\t\\t\\t\\t\\t\\t\\t\\t<em class=\"theme_category\">TV \\xeb\\x93\\x9c\\xeb\\x9d\\xbc\\xeb\\xa7\\x88</em>\\n\\t\\t\\t\\t\\t\\t\\t\\t\\n\\t\\t\\t\\t\\t\\t\\t\\t\\n\\t\\t\\t\\t\\t\\t\\t\\t<strong class=\"title \">[12\\xed\\x9a\\x8c#\\xed\\x95\\x98\\xec\\x9d\\xb4\\xeb\\x9d\\xbc\\xec\\x9d\\xb4\\xed\\x8a\\xb8#] \\xef\\xbc\\x82\\xeb\\x82\\x98\\xeb\\x8f\\x84 \\xeb\\x84\\x88 \\xec\\xa2\\x8b\\xec\\x95\\x84\\xed\\x95\\xb4\\xef\\xbc\\x82 \\xeb\\x93\\x9c\\xeb\\x94\\x94\\xec\\x96\\xb4 \\xec\\x8b\\x9c\\xec\\x9e\\x91\\xeb\\x90\\x98\\xeb\\x8a\\x94 \\xeb\\x9f\\xbd\\xeb\\x9d\\xbc\\xec\\x9d\\xb8?\\xf0\\x9f\\x92\\x98  12\\xed\\x9a\\x8c zip. | KBS \\xeb\\xb0\\xa9\\xec\\x86\\xa1</strong>\\n\\t\\t\\t\\t\\t\\t\\t\\t<div class=\"source_wrap\">\\n\\t\\t\\t\\t\\t\\t\\t\\t\\t\\n\\t\\t\\t\\t\\t\\t\\t\\t\\t\\t<span class=\"date\">15\\xec\\x8b\\x9c\\xea\\xb0\\x84 \\xec\\xa0\\x84</span>\\n\\t\\t\\t\\t\\t\\t\\t\\t\\t\\t<span class=\"source\">\\n\\t\\t\\t\\t\\t\\t\\t\\t\\t\\t\\t\\n\\t\\t\\t\\t\\t\\t\\t\\t\\t\\t<span class=\"source_inner\">\\xec\\xbb\\xa4\\xed\\x8a\\xbc\\xec\\xbd\\x9c</span>\\n\\t\\t\\t\\t\\t\\t\\t\\t\\t\\t</span>\\n\\t\\t\\t\\t\\t\\t\\t\\t\\t\\n\\t\\t\\t\\t\\t\\t\\t\\t</div>\\n\\t\\t\\t\\t\\t\\t\\t</div>\\n\\t\\t\\t\\t\\t\\t</div>\\n\\t\\t\\t\\t\\t</a>\\n\\t\\t\\t\\t\\n\\t\\t\\t\\n\\t\\t\\t\\t\\n\\t\\t\\t\\t\\t<a href=\"https://tv.naver.com/v/31518060\" class=\"media_area\" data-da-position=\"true\" data-gdid=\"PC-THEME-ENTER-RANKING-1[materials][4]\"\\n\\t\\t\\t\\t\\t   data-clk=\"tcc_tvc.list2cont5\" target=\"_blank\">\\n\\t\\t\\t\\t\\t\\t<div class=\"media_thumb\">\\n\\t\\t\\t\\t\\t\\t\\t<img src=\"https://s.pstatic.net/dthumb.phinf/?src&#x3D;%22https%3A%2F%2Fs.pstatic.net%2Ftvcast.phinf%2F20221211_295%2FB8747_1670750197761oHAhb_JPEG%2F61449f2e-5fe0-4dd1-9298-0ace7df03fdb_B.jpg%22&amp;type&#x3D;nf464_260\"\\n\\t\\t\\t\\t\\t\\t\\t     data-src=\"https://s.pstatic.net/dthumb.phinf/?src&#x3D;%22https%3A%2F%2Fs.pstatic.net%2Ftvcast.phinf%2F20221211_295%2FB8747_1670750197761oHAhb_JPEG%2F61449f2e-5fe0-4dd1-9298-0ace7df03fdb_B.jpg%22&amp;type&#x3D;nf464_260\" alt=\"\" width=\"232\" height=\"130\"\\n\\t\\t\\t\\t\\t\\t\\t     onerror=\"this.outerHTML=\\'<span class=\\\\\\'pm_noimg\\\\\\'><span class=\\\\\\'noimg_text\\\\\\'>\\xec\\x9d\\xb4\\xeb\\xaf\\xb8\\xec\\xa7\\x80 \\xec\\xa4\\x80\\xeb\\xb9\\x84\\xec\\xa4\\x91</span></span>\\'\">\\n\\n\\t\\t\\t\\t\\t\\t\\t\\n\\t\\t\\t\\t\\t\\t\\t\\t<span class=\"thumb_dim\"></span>\\n\\t\\t\\t\\t\\t\\t\\t\\t<span class=\"thumb_bd\"></span>\\n\\t\\t\\t\\t\\t\\t\\t\\t<i class=\"pm_ico_play\"><span class=\"blind\">\\xec\\x9e\\xac\\xec\\x83\\x9d</span></i>\\n\\t\\t\\t\\t\\t\\t\\t\\t<span class=\"theme_runtime\"><span class=\"runtime_bg\">\\xec\\x9e\\xac\\xec\\x83\\x9d\\xec\\x8b\\x9c\\xea\\xb0\\x84</span><em\\n\\t\\t\\t\\t\\t\\t\\t\\t\\t\\tclass=\"time\">1:50</em></span>\\n\\t\\t\\t\\t\\t\\t\\t\\n\\t\\t\\t\\t\\t\\t</div>\\n\\t\\t\\t\\t\\t\\t<div class=\"media_info\">\\n\\t\\t\\t\\t\\t\\t\\t<div class=\"info_box\">\\n\\t\\t\\t\\t\\t\\t\\t\\t\\n\\t\\t\\t\\t\\t\\t\\t\\t\\t<em class=\"theme_category\">TV \\xec\\x98\\x88\\xeb\\x8a\\xa5</em>\\n\\t\\t\\t\\t\\t\\t\\t\\t\\n\\t\\t\\t\\t\\t\\t\\t\\t\\n\\t\\t\\t\\t\\t\\t\\t\\t<strong class=\"title \">[\\xec\\x98\\x88\\xea\\xb3\\xa0] \\xec\\x86\\x90\\xec\\x9b\\x85\\xec\\xa0\\x95=\\xeb\\xaa\\x85\\xec\\x96\\xb8 \\xec\\x9e\\x90\\xed\\x8c\\x90\\xea\\xb8\\xb0!? \\xec\\x9e\\x90\\xea\\xb8\\xb0\\xeb\\x8b\\x98\\xec\\x9d\\xb4 \\xec\\xa7\\x81\\xec\\xa0\\x91 \\xec\\x95\\x8c\\xeb\\xa0\\xa4\\xec\\xa3\\xbc\\xeb\\x8a\\x94 \\xe2\\x80\\x98\\xec\\x86\\x90\\xed\\x9d\\xa5\\xeb\\xaf\\xbc \\xec\\x84\\xa0\\xec\\x88\\x98 \\xea\\xb5\\x90\\xec\\x9c\\xa1\\xeb\\xb2\\x95\\xe2\\x80\\x99\\xea\\xb9\\x8c\\xec\\xa7\\x80 \\xe3\\x85\\x870\\xe3\\x85\\x87</strong>\\n\\t\\t\\t\\t\\t\\t\\t\\t<div class=\"source_wrap\">\\n\\t\\t\\t\\t\\t\\t\\t\\t\\t\\n\\t\\t\\t\\t\\t\\t\\t\\t\\t\\t<span class=\"date\">2\\xec\\x9d\\xbc \\xec\\xa0\\x84</span>\\n\\t\\t\\t\\t\\t\\t\\t\\t\\t\\t<span class=\"source\">\\n\\t\\t\\t\\t\\t\\t\\t\\t\\t\\t\\t\\n\\t\\t\\t\\t\\t\\t\\t\\t\\t\\t<span class=\"source_inner\">\\xec\\x9c\\xa0 \\xed\\x80\\xb4\\xec\\xa6\\x88 \\xec\\x98\\xa8 \\xeb\\x8d\\x94 \\xeb\\xb8\\x94\\xeb\\x9f\\xad</span>\\n\\t\\t\\t\\t\\t\\t\\t\\t\\t\\t</span>\\n\\t\\t\\t\\t\\t\\t\\t\\t\\t\\n\\t\\t\\t\\t\\t\\t\\t\\t</div>\\n\\t\\t\\t\\t\\t\\t\\t</div>\\n\\t\\t\\t\\t\\t\\t</div>\\n\\t\\t\\t\\t\\t</a>\\n\\t\\t\\t\\t\\n\\t\\t\\t\\n\\t\\t\\t\\t\\n\\t\\t\\t\\t\\t<a href=\"https://tv.naver.com/v/31438435\" class=\"media_area\" data-da-position=\"true\" data-gdid=\"PC-THEME-ENTER-RANKING-1[materials][5]\"\\n\\t\\t\\t\\t\\t   data-clk=\"tcc_tvc.list2cont6\" target=\"_blank\">\\n\\t\\t\\t\\t\\t\\t<div class=\"media_thumb\">\\n\\t\\t\\t\\t\\t\\t\\t<img src=\"https://s.pstatic.net/dthumb.phinf/?src&#x3D;%22https%3A%2F%2Fs.pstatic.net%2Ftvcast.phinf%2F20221208_215%2F64v6A_1670472393056tj3nk_JPEG%2FXD31670387505498-1280-0.jpg%22&amp;type&#x3D;nf464_260\"\\n\\t\\t\\t\\t\\t\\t\\t     data-src=\"https://s.pstatic.net/dthumb.phinf/?src&#x3D;%22https%3A%2F%2Fs.pstatic.net%2Ftvcast.phinf%2F20221208_215%2F64v6A_1670472393056tj3nk_JPEG%2FXD31670387505498-1280-0.jpg%22&amp;type&#x3D;nf464_260\" alt=\"\" width=\"232\" height=\"130\"\\n\\t\\t\\t\\t\\t\\t\\t     onerror=\"this.outerHTML=\\'<span class=\\\\\\'pm_noimg\\\\\\'><span class=\\\\\\'noimg_text\\\\\\'>\\xec\\x9d\\xb4\\xeb\\xaf\\xb8\\xec\\xa7\\x80 \\xec\\xa4\\x80\\xeb\\xb9\\x84\\xec\\xa4\\x91</span></span>\\'\">\\n\\n\\t\\t\\t\\t\\t\\t\\t\\n\\t\\t\\t\\t\\t\\t\\t\\t<span class=\"thumb_dim\"></span>\\n\\t\\t\\t\\t\\t\\t\\t\\t<span class=\"thumb_bd\"></span>\\n\\t\\t\\t\\t\\t\\t\\t\\t<i class=\"pm_ico_play\"><span class=\"blind\">\\xec\\x9e\\xac\\xec\\x83\\x9d</span></i>\\n\\t\\t\\t\\t\\t\\t\\t\\t<span class=\"theme_runtime\"><span class=\"runtime_bg\">\\xec\\x9e\\xac\\xec\\x83\\x9d\\xec\\x8b\\x9c\\xea\\xb0\\x84</span><em\\n\\t\\t\\t\\t\\t\\t\\t\\t\\t\\tclass=\"time\">0:30</em></span>\\n\\t\\t\\t\\t\\t\\t\\t\\n\\t\\t\\t\\t\\t\\t</div>\\n\\t\\t\\t\\t\\t\\t<div class=\"media_info\">\\n\\t\\t\\t\\t\\t\\t\\t<div class=\"info_box\">\\n\\t\\t\\t\\t\\t\\t\\t\\t\\n\\t\\t\\t\\t\\t\\t\\t\\t\\t<em class=\"theme_category\">TV \\xec\\x98\\x88\\xeb\\x8a\\xa5</em>\\n\\t\\t\\t\\t\\t\\t\\t\\t\\n\\t\\t\\t\\t\\t\\t\\t\\t\\n\\t\\t\\t\\t\\t\\t\\t\\t<strong class=\"title \">[\\xeb\\x82\\x98\\xeb\\x8a\\x94\\xec\\x86\\x94\\xeb\\xa1\\x9c 75\\xed\\x9a\\x8c \\xec\\x98\\x88\\xea\\xb3\\xa0] \\xeb\\x82\\x98\\xeb\\x9d\\xbc 11\\xea\\xb8\\xb0 \\xec\\x97\\x94\\xeb\\x94\\xa9! \\xed\\x9d\\x94\\xeb\\x93\\xa4\\xeb\\xa6\\xac\\xeb\\x8a\\x94 \\xec\\x86\\x94\\xeb\\xa1\\x9c\\xeb\\x82\\xa8\\xeb\\x85\\x80\\xeb\\x93\\xa4...? \\xea\\xb3\\xbc\\xec\\x97\\xb0 \\xea\\xb7\\xb8\\xeb\\x93\\xa4\\xec\\x9d\\x98 \\xeb\\xa7\\x88\\xec\\x9d\\x8c\\xec\\x9d\\x80 \\xec\\x84\\x9c\\xeb\\xa1\\x9c\\xeb\\xa5\\xbc \\xed\\x96\\xa5\\xed\\x95\\xa0\\xea\\xb9\\x8c?\\xe3\\x85\\xa3\\xeb\\x82\\x98\\xeb\\x8a\\x94\\xec\\x86\\x94\\xeb\\xa1\\x9c EP.75\\xe3\\x85\\xa3SBSPLUS\\xe3\\x85\\xa3\\xeb\\xa7\\xa4\\xec\\xa3\\xbc \\xec\\x88\\x98\\xec\\x9a\\x94\\xec\\x9d\\xbc \\xeb\\xb0\\xa4 10\\xec\\x8b\\x9c 30\\xeb\\xb6\\x84 \\xeb\\xb0\\xa9\\xec\\x86\\xa1</strong>\\n\\t\\t\\t\\t\\t\\t\\t\\t<div class=\"source_wrap\">\\n\\t\\t\\t\\t\\t\\t\\t\\t\\t\\n\\t\\t\\t\\t\\t\\t\\t\\t\\t\\t<span class=\"date\">6\\xec\\x9d\\xbc \\xec\\xa0\\x84</span>\\n\\t\\t\\t\\t\\t\\t\\t\\t\\t\\t<span class=\"source\">\\n\\t\\t\\t\\t\\t\\t\\t\\t\\t\\t\\t\\n\\t\\t\\t\\t\\t\\t\\t\\t\\t\\t<span class=\"source_inner\">\\xeb\\x82\\x98\\xeb\\x8a\\x94 SOLO</span>\\n\\t\\t\\t\\t\\t\\t\\t\\t\\t\\t</span>\\n\\t\\t\\t\\t\\t\\t\\t\\t\\t\\n\\t\\t\\t\\t\\t\\t\\t\\t</div>\\n\\t\\t\\t\\t\\t\\t\\t</div>\\n\\t\\t\\t\\t\\t\\t</div>\\n\\t\\t\\t\\t\\t</a>\\n\\t\\t\\t\\t\\n\\t\\t\\t\\n\\t\\t\\t\\t\\n\\t\\t\\t\\t\\t<a href=\"https://tv.naver.com/v/30944228\" class=\"media_area\" data-da-position=\"true\" data-gdid=\"PC-THEME-ENTER-RANKING-1[materials][6]\"\\n\\t\\t\\t\\t\\t   data-clk=\"tcc_tvc.list2cont7\" target=\"_blank\">\\n\\t\\t\\t\\t\\t\\t<div class=\"media_thumb\">\\n\\t\\t\\t\\t\\t\\t\\t<img src=\"https://s.pstatic.net/dthumb.phinf/?src&#x3D;%22https%3A%2F%2Fphinf.pstatic.net%2Ftvcast%2F20221121_167%2FVggHF_1669006728118x5Wmp_JPEG%2F1669006664998.jpg%22&amp;type&#x3D;nf464_260\"\\n\\t\\t\\t\\t\\t\\t\\t     data-src=\"https://s.pstatic.net/dthumb.phinf/?src&#x3D;%22https%3A%2F%2Fphinf.pstatic.net%2Ftvcast%2F20221121_167%2FVggHF_1669006728118x5Wmp_JPEG%2F1669006664998.jpg%22&amp;type&#x3D;nf464_260\" alt=\"\" width=\"232\" height=\"130\"\\n\\t\\t\\t\\t\\t\\t\\t     onerror=\"this.outerHTML=\\'<span class=\\\\\\'pm_noimg\\\\\\'><span class=\\\\\\'noimg_text\\\\\\'>\\xec\\x9d\\xb4\\xeb\\xaf\\xb8\\xec\\xa7\\x80 \\xec\\xa4\\x80\\xeb\\xb9\\x84\\xec\\xa4\\x91</span></span>\\'\">\\n\\n\\t\\t\\t\\t\\t\\t\\t\\n\\t\\t\\t\\t\\t\\t\\t\\t<span class=\"thumb_dim\"></span>\\n\\t\\t\\t\\t\\t\\t\\t\\t<span class=\"thumb_bd\"></span>\\n\\t\\t\\t\\t\\t\\t\\t\\t<i class=\"pm_ico_play\"><span class=\"blind\">\\xec\\x9e\\xac\\xec\\x83\\x9d</span></i>\\n\\t\\t\\t\\t\\t\\t\\t\\t<span class=\"theme_runtime\"><span class=\"runtime_bg\">\\xec\\x9e\\xac\\xec\\x83\\x9d\\xec\\x8b\\x9c\\xea\\xb0\\x84</span><em\\n\\t\\t\\t\\t\\t\\t\\t\\t\\t\\tclass=\"time\">1:0</em></span>\\n\\t\\t\\t\\t\\t\\t\\t\\n\\t\\t\\t\\t\\t\\t</div>\\n\\t\\t\\t\\t\\t\\t<div class=\"media_info\">\\n\\t\\t\\t\\t\\t\\t\\t<div class=\"info_box\">\\n\\t\\t\\t\\t\\t\\t\\t\\t\\n\\t\\t\\t\\t\\t\\t\\t\\t\\t<em class=\"theme_category\">\\xec\\x9b\\xb9\\xeb\\x93\\x9c\\xeb\\x9d\\xbc\\xeb\\xa7\\x88</em>\\n\\t\\t\\t\\t\\t\\t\\t\\t\\n\\t\\t\\t\\t\\t\\t\\t\\t\\n\\t\\t\\t\\t\\t\\t\\t\\t<strong class=\"title \">\\xec\\x82\\xac\\xeb\\x9d\\xbc\\xec\\xa7\\x84 \\xec\\xb2\\x9c\\xec\\x9e\\xac CEO, \\xec\\x8a\\xa4\\xeb\\xa7\\x88\\xed\\x8a\\xb8\\xed\\x8f\\xb0\\xec\\x97\\x90 \\xea\\xb0\\x87\\xed\\x98\\x94\\xeb\\x8b\\xa4..? \\'\\xec\\x82\\xac\\xec\\x9e\\xa5\\xeb\\x8b\\x98\\xec\\x9d\\x84 \\xec\\x9e\\xa0\\xea\\xb8\\x88\\xed\\x95\\xb4\\xec\\xa0\\x9c\\'</strong>\\n\\t\\t\\t\\t\\t\\t\\t\\t<div class=\"source_wrap\">\\n\\t\\t\\t\\t\\t\\t\\t\\t\\t\\n\\t\\t\\t\\t\\t\\t\\t\\t\\t\\t<span class=\"date\">8\\xeb\\xb6\\x84 \\xec\\xa0\\x84</span>\\n\\t\\t\\t\\t\\t\\t\\t\\t\\t\\t<span class=\"source\">\\n\\t\\t\\t\\t\\t\\t\\t\\t\\t\\t\\t\\n\\t\\t\\t\\t\\t\\t\\t\\t\\t\\t<span class=\"source_inner\">\\xeb\\x84\\xa4\\xec\\x9d\\xb4\\xeb\\xb2\\x84 \\xec\\x9b\\xb9\\xed\\x88\\xb0</span>\\n\\t\\t\\t\\t\\t\\t\\t\\t\\t\\t</span>\\n\\t\\t\\t\\t\\t\\t\\t\\t\\t\\n\\t\\t\\t\\t\\t\\t\\t\\t</div>\\n\\t\\t\\t\\t\\t\\t\\t</div>\\n\\t\\t\\t\\t\\t\\t</div>\\n\\t\\t\\t\\t\\t</a>\\n\\t\\t\\t\\t\\n\\t\\t\\t\\n\\t\\t\\t\\t\\n\\t\\t\\t\\t\\t<a href=\"https://tv.naver.com/v/28359959\" class=\"media_area\" data-da-position=\"true\" data-gdid=\"PC-THEME-ENTER-RANKING-1[materials][7]\"\\n\\t\\t\\t\\t\\t   data-clk=\"tcc_tvc.list2cont8\" target=\"_blank\">\\n\\t\\t\\t\\t\\t\\t<div class=\"media_thumb\">\\n\\t\\t\\t\\t\\t\\t\\t<img src=\"https://s.pstatic.net/dthumb.phinf/?src&#x3D;%22https%3A%2F%2Fphinf.pstatic.net%2Ftvcast%2F20220804_222%2FbXyeG_1659578602297hVpsm_PNG%2F1659578598547.png%22&amp;type&#x3D;nf464_260\"\\n\\t\\t\\t\\t\\t\\t\\t     data-src=\"https://s.pstatic.net/dthumb.phinf/?src&#x3D;%22https%3A%2F%2Fphinf.pstatic.net%2Ftvcast%2F20220804_222%2FbXyeG_1659578602297hVpsm_PNG%2F1659578598547.png%22&amp;type&#x3D;nf464_260\" alt=\"\" width=\"232\" height=\"130\"\\n\\t\\t\\t\\t\\t\\t\\t     onerror=\"this.outerHTML=\\'<span class=\\\\\\'pm_noimg\\\\\\'><span class=\\\\\\'noimg_text\\\\\\'>\\xec\\x9d\\xb4\\xeb\\xaf\\xb8\\xec\\xa7\\x80 \\xec\\xa4\\x80\\xeb\\xb9\\x84\\xec\\xa4\\x91</span></span>\\'\">\\n\\n\\t\\t\\t\\t\\t\\t\\t\\n\\t\\t\\t\\t\\t\\t\\t\\t<span class=\"thumb_dim\"></span>\\n\\t\\t\\t\\t\\t\\t\\t\\t<span class=\"thumb_bd\"></span>\\n\\t\\t\\t\\t\\t\\t\\t\\t<i class=\"pm_ico_play\"><span class=\"blind\">\\xec\\x9e\\xac\\xec\\x83\\x9d</span></i>\\n\\t\\t\\t\\t\\t\\t\\t\\t<span class=\"theme_runtime\"><span class=\"runtime_bg\">\\xec\\x9e\\xac\\xec\\x83\\x9d\\xec\\x8b\\x9c\\xea\\xb0\\x84</span><em\\n\\t\\t\\t\\t\\t\\t\\t\\t\\t\\tclass=\"time\">2:6</em></span>\\n\\t\\t\\t\\t\\t\\t\\t\\n\\t\\t\\t\\t\\t\\t</div>\\n\\t\\t\\t\\t\\t\\t<div class=\"media_info\">\\n\\t\\t\\t\\t\\t\\t\\t<div class=\"info_box\">\\n\\t\\t\\t\\t\\t\\t\\t\\t\\n\\t\\t\\t\\t\\t\\t\\t\\t\\t<em class=\"theme_category\">\\xec\\x9b\\xb9\\xec\\x98\\x88\\xeb\\x8a\\xa5</em>\\n\\t\\t\\t\\t\\t\\t\\t\\t\\n\\t\\t\\t\\t\\t\\t\\t\\t\\n\\t\\t\\t\\t\\t\\t\\t\\t<strong class=\"title \">[\\xec\\x8d\\xb8\\xed\\x95\\x91] \\xeb\\x84\\x98\\xec\\xb3\\x90\\xeb\\x82\\x98\\xeb\\x8a\\x94 \\xec\\x8d\\xb8 \\xec\\x8b\\x9c\\xea\\xb7\\xb8\\xeb\\x84\\x90,  5\\xec\\x9d\\xb8 5\\xec\\x83\\x89 \\xea\\xb3\\xbc\\xeb\\xaa\\xb0\\xec\\x9e\\x85 \\xec\\x8b\\x9c\\xec\\x9e\\x91\\xed\\x95\\xa9\\xeb\\x8b\\x88\\xeb\\x8b\\xa4! | 2\\xec\\xb0\\xa8 \\xed\\x8b\\xb0\\xec\\xa0\\x80</strong>\\n\\t\\t\\t\\t\\t\\t\\t\\t<div class=\"source_wrap\">\\n\\t\\t\\t\\t\\t\\t\\t\\t\\t\\n\\t\\t\\t\\t\\t\\t\\t\\t\\t\\t<span class=\"date\">8\\xeb\\xb6\\x84 \\xec\\xa0\\x84</span>\\n\\t\\t\\t\\t\\t\\t\\t\\t\\t\\t<span class=\"source\">\\n\\t\\t\\t\\t\\t\\t\\t\\t\\t\\t\\t\\n\\t\\t\\t\\t\\t\\t\\t\\t\\t\\t<span class=\"source_inner\">\\xec\\x94\\xac\\xec\\xba\\x90\\xec\\xb2\\x98</span>\\n\\t\\t\\t\\t\\t\\t\\t\\t\\t\\t</span>\\n\\t\\t\\t\\t\\t\\t\\t\\t\\t\\n\\t\\t\\t\\t\\t\\t\\t\\t</div>\\n\\t\\t\\t\\t\\t\\t\\t</div>\\n\\t\\t\\t\\t\\t\\t</div>\\n\\t\\t\\t\\t\\t</a>\\n\\t\\t\\t\\t\\n\\t\\t\\t\\n\\t\\t\\t\\t\\n\\t\\t\\t\\t\\t<a href=\"https://tv.naver.com/v/21621585\" class=\"media_area\" data-da-position=\"true\" data-gdid=\"PC-THEME-ENTER-RANKING-1[materials][8]\"\\n\\t\\t\\t\\t\\t   data-clk=\"tcc_tvc.list2cont9\" target=\"_blank\">\\n\\t\\t\\t\\t\\t\\t<div class=\"media_thumb\">\\n\\t\\t\\t\\t\\t\\t\\t<img src=\"https://s.pstatic.net/dthumb.phinf/?src&#x3D;%22https%3A%2F%2Fphinf.pstatic.net%2Ftvcast%2F20210730_176%2FORGwT_1627642187310e1AsQ_JPEG%2Fb8a3e430-f123-11eb-8111-505dac8c381b_03.jpg%22&amp;type&#x3D;nf464_260\"\\n\\t\\t\\t\\t\\t\\t\\t     data-src=\"https://s.pstatic.net/dthumb.phinf/?src&#x3D;%22https%3A%2F%2Fphinf.pstatic.net%2Ftvcast%2F20210730_176%2FORGwT_1627642187310e1AsQ_JPEG%2Fb8a3e430-f123-11eb-8111-505dac8c381b_03.jpg%22&amp;type&#x3D;nf464_260\" alt=\"\" width=\"232\" height=\"130\"\\n\\t\\t\\t\\t\\t\\t\\t     onerror=\"this.outerHTML=\\'<span class=\\\\\\'pm_noimg\\\\\\'><span class=\\\\\\'noimg_text\\\\\\'>\\xec\\x9d\\xb4\\xeb\\xaf\\xb8\\xec\\xa7\\x80 \\xec\\xa4\\x80\\xeb\\xb9\\x84\\xec\\xa4\\x91</span></span>\\'\">\\n\\n\\t\\t\\t\\t\\t\\t\\t\\n\\t\\t\\t\\t\\t\\t\\t\\t<span class=\"thumb_dim\"></span>\\n\\t\\t\\t\\t\\t\\t\\t\\t<span class=\"thumb_bd\"></span>\\n\\t\\t\\t\\t\\t\\t\\t\\t<i class=\"pm_ico_play\"><span class=\"blind\">\\xec\\x9e\\xac\\xec\\x83\\x9d</span></i>\\n\\t\\t\\t\\t\\t\\t\\t\\t<span class=\"theme_runtime\"><span class=\"runtime_bg\">\\xec\\x9e\\xac\\xec\\x83\\x9d\\xec\\x8b\\x9c\\xea\\xb0\\x84</span><em\\n\\t\\t\\t\\t\\t\\t\\t\\t\\t\\tclass=\"time\">0:15</em></span>\\n\\t\\t\\t\\t\\t\\t\\t\\n\\t\\t\\t\\t\\t\\t</div>\\n\\t\\t\\t\\t\\t\\t<div class=\"media_info\">\\n\\t\\t\\t\\t\\t\\t\\t<div class=\"info_box\">\\n\\t\\t\\t\\t\\t\\t\\t\\t\\n\\t\\t\\t\\t\\t\\t\\t\\t\\t<em class=\"theme_category\">\\xec\\x9b\\xb9\\xeb\\x93\\x9c\\xeb\\x9d\\xbc\\xeb\\xa7\\x88</em>\\n\\t\\t\\t\\t\\t\\t\\t\\t\\n\\t\\t\\t\\t\\t\\t\\t\\t\\n\\t\\t\\t\\t\\t\\t\\t\\t<strong class=\"title \">\\xe2\\xad\\x90\\xec\\xb6\\x95\\xe2\\xad\\x90\\xec\\x98\\xa4\\xed\\x94\\xbc\\xec\\x8a\\xa4 \\xec\\x8b\\x9c\\xed\\x8a\\xb8\\xec\\xbd\\xa4 \\'\\xec\\xa1\\xb0\\xec\\xa1\\xb0\\xec\\xbd\\x94\\xeb\\xaf\\xb9\\xec\\x8a\\xa4\\'\\xeb\\xa1\\x9c \\xeb\\x8f\\x8c\\xec\\x95\\x84\\xec\\x98\\xa8 \\xeb\\xac\\xb4\\xeb\\xb9\\x99\\xea\\xb1\\xb4 \\xec\\x9e\\x91\\xea\\xb0\\x80!</strong>\\n\\t\\t\\t\\t\\t\\t\\t\\t<div class=\"source_wrap\">\\n\\t\\t\\t\\t\\t\\t\\t\\t\\t\\n\\t\\t\\t\\t\\t\\t\\t\\t\\t\\t<span class=\"date\">8\\xeb\\xb6\\x84 \\xec\\xa0\\x84</span>\\n\\t\\t\\t\\t\\t\\t\\t\\t\\t\\t<span class=\"source\">\\n\\t\\t\\t\\t\\t\\t\\t\\t\\t\\t\\t\\n\\t\\t\\t\\t\\t\\t\\t\\t\\t\\t<span class=\"source_inner\">\\xeb\\x84\\xa4\\xec\\x9d\\xb4\\xeb\\xb2\\x84 \\xec\\x9b\\xb9\\xed\\x88\\xb0</span>\\n\\t\\t\\t\\t\\t\\t\\t\\t\\t\\t</span>\\n\\t\\t\\t\\t\\t\\t\\t\\t\\t\\n\\t\\t\\t\\t\\t\\t\\t\\t</div>\\n\\t\\t\\t\\t\\t\\t\\t</div>\\n\\t\\t\\t\\t\\t\\t</div>\\n\\t\\t\\t\\t\\t</a>\\n\\t\\t\\t\\t\\n\\t\\t\\t\\n\\t\\t</div>\\n\\t</div>\\n</div>\\n\\n<div class=\"group_theme _NM_API_UI\" data-ui-circular=\"false\" data-block-id=\"5e5753e0d6902f284e257c99\" data-block-code=\"PC-THEME-ENTER-VIBE-MAGAZINES\" data-block-type=\"BLOCKS\" data-template-code=\"THEME-ENTER-VIBE-MAGAZINES\"\\n\\n\\t>\\n  <div class=\"theme_title\">\\n    <a href=\"https://vibe.naver.com/magazines\" target=\"_blank\" class=\"title\"\\n      data-clk=\"tcc_tvc.vmagmore\">VIBE MAG</a>\\n  </div>\\n  <div class=\"poster_view_wrap type_album \">\\n    <a href=\"#\" target=\"_blank\" role=\"button\" class=\"pm_btn_prev _NM_UI_PAGE_PREV\"\\n      data-clk=\"tcc_tvc.vmagflkp\"><i class=\"ico_btn\"><span class=\"blind\">\\xec\\x9d\\xb4\\xec\\xa0\\x84</span></i></a>\\n    <a href=\"#\" target=\"_blank\" role=\"button\" class=\"pm_btn_next _NM_UI_PAGE_NEXT\"\\n      data-clk=\"tcc_tvc.vmagflkn\"><i class=\"ico_btn\"><span class=\"blind\">\\xeb\\x8b\\xa4\\xec\\x9d\\x8c</span></i></a>\\n    <div class=\"_NM_UI_PAGE_CONTAINER\" style=\"height: 254px;\">\\n      \\n      <div class=\"poster_view\" style=\"width: 100%;\">\\n        \\n        <a href=\"https://vibe.naver.com/magazines/62246\" target=\"_blank\" class=\"poster_area\"\\n          data-clk=\"tcc_tvc.vmagcontent1\">\\n          <div class=\"poster_thumb\"><img src=\"https://s.pstatic.net/dthumb.phinf/?src&#x3D;%22https%3A%2F%2Fmusic-phinf.pstatic.net%2F20221213_1%2F1670917023512Y42AW_JPEG%2F%25C4%25BF%25B9%25F61.jpg%22&amp;type&#x3D;navermain_n260_260\" alt=\"\" width=\"130\"\\n              height=\"130\" onerror=\"this.outerHTML=\\'<span class=\\\\\\'pm_noimg\\\\\\'><span class=\\\\\\'noimg_text\\\\\\'>\\xec\\x9d\\xb4\\xeb\\xaf\\xb8\\xec\\xa7\\x80 \\xec\\xa4\\x80\\xeb\\xb9\\x84\\xec\\xa4\\x91</span></span>\\'\"><span class=\"thumb_bd\"></span></div>\\n          <div class=\"poster_info\">\\n            <strong class=\"title\">New Release #122 :  \\xeb\\xaf\\xbc\\xed\\x98\\xb8, \\xec\\x8b\\x9c\\xec\\xa0\\x80</strong>\\n            <span class=\"dsc\">2022.12.13</span>\\n          </div>\\n        </a>\\n        \\n        <a href=\"https://vibe.naver.com/magazines/62245\" target=\"_blank\" class=\"poster_area\"\\n          data-clk=\"tcc_tvc.vmagcontent2\">\\n          <div class=\"poster_thumb\"><img src=\"https://s.pstatic.net/dthumb.phinf/?src&#x3D;%22https%3A%2F%2Fmusic-phinf.pstatic.net%2F20221206_51%2F1670304686445OnYOy_JPEG%2F%25C4%25BF%25B9%25F61.jpg%22&amp;type&#x3D;navermain_n260_260\" alt=\"\" width=\"130\"\\n              height=\"130\" onerror=\"this.outerHTML=\\'<span class=\\\\\\'pm_noimg\\\\\\'><span class=\\\\\\'noimg_text\\\\\\'>\\xec\\x9d\\xb4\\xeb\\xaf\\xb8\\xec\\xa7\\x80 \\xec\\xa4\\x80\\xeb\\xb9\\x84\\xec\\xa4\\x91</span></span>\\'\"><span class=\"thumb_bd\"></span></div>\\n          <div class=\"poster_info\">\\n            <strong class=\"title\">\\xec\\x9d\\xb4\\xec\\xa3\\xbc\\xec\\x9d\\x98 \\xeb\\x94\\x94\\xea\\xb9\\x85 #148  \\xeb\\x93\\x9c\\xeb\\xa0\\x88\\xec\\x9d\\xb4\\xed\\x81\\xac</strong>\\n            <span class=\"dsc\">2022.12.06</span>\\n          </div>\\n        </a>\\n        \\n        <a href=\"https://vibe.naver.com/magazines/62244\" target=\"_blank\" class=\"poster_area\"\\n          data-clk=\"tcc_tvc.vmagcontent3\">\\n          <div class=\"poster_thumb\"><img src=\"https://s.pstatic.net/dthumb.phinf/?src&#x3D;%22https%3A%2F%2Fmusic-phinf.pstatic.net%2F20221205_282%2F1670225500747aIc8T_JPEG%2F%25C4%25BF%25B9%25F61.jpg%22&amp;type&#x3D;navermain_n260_260\" alt=\"\" width=\"130\"\\n              height=\"130\" onerror=\"this.outerHTML=\\'<span class=\\\\\\'pm_noimg\\\\\\'><span class=\\\\\\'noimg_text\\\\\\'>\\xec\\x9d\\xb4\\xeb\\xaf\\xb8\\xec\\xa7\\x80 \\xec\\xa4\\x80\\xeb\\xb9\\x84\\xec\\xa4\\x91</span></span>\\'\"><span class=\"thumb_bd\"></span></div>\\n          <div class=\"poster_info\">\\n            <strong class=\"title\">New Release #121 :  RM, \\xed\\x8a\\xb8\\xeb\\xa1\\x9c\\xec\\x9d\\xb4 \\xec\\x8b\\x9c\\xeb\\xb0\\x98</strong>\\n            <span class=\"dsc\">2022.12.05</span>\\n          </div>\\n        </a>\\n        \\n        <a href=\"https://vibe.naver.com/magazines/62243\" target=\"_blank\" class=\"poster_area\"\\n          data-clk=\"tcc_tvc.vmagcontent4\">\\n          <div class=\"poster_thumb\"><img src=\"https://s.pstatic.net/dthumb.phinf/?src&#x3D;%22https%3A%2F%2Fmusic-phinf.pstatic.net%2F20221202_178%2F1669965733146Y9uBA_JPEG%2F%25C4%25BF%25B9%25F61.jpg%22&amp;type&#x3D;navermain_n260_260\" alt=\"\" width=\"130\"\\n              height=\"130\" onerror=\"this.outerHTML=\\'<span class=\\\\\\'pm_noimg\\\\\\'><span class=\\\\\\'noimg_text\\\\\\'>\\xec\\x9d\\xb4\\xeb\\xaf\\xb8\\xec\\xa7\\x80 \\xec\\xa4\\x80\\xeb\\xb9\\x84\\xec\\xa4\\x91</span></span>\\'\"><span class=\"thumb_bd\"></span></div>\\n          <div class=\"poster_info\">\\n            <strong class=\"title\">\\xec\\x88\\x8f\\xed\\x8f\\xbc\\xec\\x9c\\xbc\\xeb\\xa1\\x9c \\xec\\x97\\xad\\xec\\xa3\\xbc\\xed\\x96\\x89 :  \\xec\\x9c\\xa4\\xed\\x95\\x98, \\xeb\\xb0\\xb1\\xec\\x95\\x84</strong>\\n            <span class=\"dsc\">2022.12.02</span>\\n          </div>\\n        </a>\\n        \\n        <a href=\"https://vibe.naver.com/magazines/62242\" target=\"_blank\" class=\"poster_area\"\\n          data-clk=\"tcc_tvc.vmagcontent5\">\\n          <div class=\"poster_thumb\"><img src=\"https://s.pstatic.net/dthumb.phinf/?src&#x3D;%22https%3A%2F%2Fmusic-phinf.pstatic.net%2F20221128_268%2F166961871726150irh_JPEG%2F%25C4%25BF%25B9%25F61.jpg%22&amp;type&#x3D;navermain_n260_260\" alt=\"\" width=\"130\"\\n              height=\"130\" onerror=\"this.outerHTML=\\'<span class=\\\\\\'pm_noimg\\\\\\'><span class=\\\\\\'noimg_text\\\\\\'>\\xec\\x9d\\xb4\\xeb\\xaf\\xb8\\xec\\xa7\\x80 \\xec\\xa4\\x80\\xeb\\xb9\\x84\\xec\\xa4\\x91</span></span>\\'\"><span class=\"thumb_bd\"></span></div>\\n          <div class=\"poster_info\">\\n            <strong class=\"title\">New Release #120 :  \\xeb\\xb3\\xb4\\xec\\x95\\x84, \\xec\\xa7\\x80\\xeb\\xaf\\xb8 \\xed\\x97\\xa8\\xeb\\x93\\x9c\\xeb\\xa6\\xad\\xec\\x8a\\xa4</strong>\\n            <span class=\"dsc\">2022.11.28</span>\\n          </div>\\n        </a>\\n        \\n      </div>\\n      \\n      <div class=\"poster_view\" style=\"width: 100%;\">\\n        \\n        <a href=\"https://vibe.naver.com/magazines/62238\" target=\"_blank\" class=\"poster_area\"\\n          data-clk=\"tcc_tvc.vmagcontent6\">\\n          <div class=\"poster_thumb\"><img src=\"https://s.pstatic.net/dthumb.phinf/?src&#x3D;%22https%3A%2F%2Fmusic-phinf.pstatic.net%2F20221125_16%2F1669365474335untU3_JPEG%2F%25C4%25BF%25B9%25F61.jpg%22&amp;type&#x3D;navermain_n260_260\" alt=\"\" width=\"130\"\\n              height=\"130\" onerror=\"this.outerHTML=\\'<span class=\\\\\\'pm_noimg\\\\\\'><span class=\\\\\\'noimg_text\\\\\\'>\\xec\\x9d\\xb4\\xeb\\xaf\\xb8\\xec\\xa7\\x80 \\xec\\xa4\\x80\\xeb\\xb9\\x84\\xec\\xa4\\x91</span></span>\\'\"><span class=\"thumb_bd\"></span></div>\\n          <div class=\"poster_info\">\\n            <strong class=\"title\">\\xeb\\xa0\\x88\\xec\\xa0\\x84\\xeb\\x93\\x9c \\xea\\xb7\\xb8 \\xec\\x9e\\x90\\xec\\xb2\\xb4  \\xed\\x9e\\x99\\xed\\x95\\xa9\\xed\\x8c\\x80</strong>\\n            <span class=\"dsc\">2022.11.25</span>\\n          </div>\\n        </a>\\n        \\n        <a href=\"https://vibe.naver.com/magazines/62234\" target=\"_blank\" class=\"poster_area\"\\n          data-clk=\"tcc_tvc.vmagcontent7\">\\n          <div class=\"poster_thumb\"><img src=\"https://s.pstatic.net/dthumb.phinf/?src&#x3D;%22https%3A%2F%2Fmusic-phinf.pstatic.net%2F20221123_28%2F1669182829681BKTIW_JPEG%2F%25C4%25BF%25B9%25F61.jpg%22&amp;type&#x3D;navermain_n260_260\" alt=\"\" width=\"130\"\\n              height=\"130\" onerror=\"this.outerHTML=\\'<span class=\\\\\\'pm_noimg\\\\\\'><span class=\\\\\\'noimg_text\\\\\\'>\\xec\\x9d\\xb4\\xeb\\xaf\\xb8\\xec\\xa7\\x80 \\xec\\xa4\\x80\\xeb\\xb9\\x84\\xec\\xa4\\x91</span></span>\\'\"><span class=\"thumb_bd\"></span></div>\\n          <div class=\"poster_info\">\\n            <strong class=\"title\">Only  \\xea\\xb0\\x80\\xed\\x98\\xb8</strong>\\n            <span class=\"dsc\">2022.11.23</span>\\n          </div>\\n        </a>\\n        \\n        <a href=\"https://vibe.naver.com/magazines/62233\" target=\"_blank\" class=\"poster_area\"\\n          data-clk=\"tcc_tvc.vmagcontent8\">\\n          <div class=\"poster_thumb\"><img src=\"https://s.pstatic.net/dthumb.phinf/?src&#x3D;%22https%3A%2F%2Fmusic-phinf.pstatic.net%2F20221122_92%2F1669080444505USy6g_JPEG%2F%25C4%25BF%25B9%25F61.jpg%22&amp;type&#x3D;navermain_n260_260\" alt=\"\" width=\"130\"\\n              height=\"130\" onerror=\"this.outerHTML=\\'<span class=\\\\\\'pm_noimg\\\\\\'><span class=\\\\\\'noimg_text\\\\\\'>\\xec\\x9d\\xb4\\xeb\\xaf\\xb8\\xec\\xa7\\x80 \\xec\\xa4\\x80\\xeb\\xb9\\x84\\xec\\xa4\\x91</span></span>\\'\"><span class=\"thumb_bd\"></span></div>\\n          <div class=\"poster_info\">\\n            <strong class=\"title\">\\xec\\x9d\\xb4\\xec\\xa3\\xbc\\xec\\x9d\\x98 \\xeb\\x94\\x94\\xea\\xb9\\x85 #147  \\xec\\xa1\\xb0\\xec\\x9a\\xa9\\xed\\x95\\x84</strong>\\n            <span class=\"dsc\">2022.11.22</span>\\n          </div>\\n        </a>\\n        \\n        <a href=\"https://vibe.naver.com/magazines/62232\" target=\"_blank\" class=\"poster_area\"\\n          data-clk=\"tcc_tvc.vmagcontent9\">\\n          <div class=\"poster_thumb\"><img src=\"https://s.pstatic.net/dthumb.phinf/?src&#x3D;%22https%3A%2F%2Fmusic-phinf.pstatic.net%2F20221121_142%2F1669015645587rXJAz_JPEG%2F%25C4%25BF%25B9%25F61.jpg%22&amp;type&#x3D;navermain_n260_260\" alt=\"\" width=\"130\"\\n              height=\"130\" onerror=\"this.outerHTML=\\'<span class=\\\\\\'pm_noimg\\\\\\'><span class=\\\\\\'noimg_text\\\\\\'>\\xec\\x9d\\xb4\\xeb\\xaf\\xb8\\xec\\xa7\\x80 \\xec\\xa4\\x80\\xeb\\xb9\\x84\\xec\\xa4\\x91</span></span>\\'\"><span class=\"thumb_bd\"></span></div>\\n          <div class=\"poster_info\">\\n            <strong class=\"title\">New Release #119 :  \\xec\\xa1\\xb4 \\xec\\xbc\\x80\\xec\\x9d\\xb4, \\xec\\xa1\\xb0\\xec\\x9a\\xa9\\xed\\x95\\x84</strong>\\n            <span class=\"dsc\">2022.11.21</span>\\n          </div>\\n        </a>\\n        \\n        <a href=\"https://vibe.naver.com/magazines/62230\" target=\"_blank\" class=\"poster_area\"\\n          data-clk=\"tcc_tvc.vmagcontent10\">\\n          <div class=\"poster_thumb\"><img src=\"https://s.pstatic.net/dthumb.phinf/?src&#x3D;%22https%3A%2F%2Fmusic-phinf.pstatic.net%2F20221116_253%2F1668565137519Wl1R0_JPEG%2F%25C4%25BF%25B9%25F61.jpg%22&amp;type&#x3D;navermain_n260_260\" alt=\"\" width=\"130\"\\n              height=\"130\" onerror=\"this.outerHTML=\\'<span class=\\\\\\'pm_noimg\\\\\\'><span class=\\\\\\'noimg_text\\\\\\'>\\xec\\x9d\\xb4\\xeb\\xaf\\xb8\\xec\\xa7\\x80 \\xec\\xa4\\x80\\xeb\\xb9\\x84\\xec\\xa4\\x91</span></span>\\'\"><span class=\"thumb_bd\"></span></div>\\n          <div class=\"poster_info\">\\n            <strong class=\"title\">NEXTREND :  CLASS:y(\\xed\\x81\\xb4\\xeb\\x9d\\xbc\\xec\\x94\\xa8)</strong>\\n            <span class=\"dsc\">2022.11.16</span>\\n          </div>\\n        </a>\\n        \\n      </div>\\n      \\n    </div>\\n  </div>\\n</div>\\n\\n<div class=\"group_theme\" data-block-id=\"5db0bbf2d6902f284eaffb6d\" data-block-code=\"PC-THEME-ENTER-RANKING-2\" data-block-type=\"MATERIALS\" data-template-code=\"3X3\"\\n\\n     data-page=\"2\"\\n     style=\"display:none\">\\n\\n\\t<div class=\"media_view_wrap type_column\">\\n\\t\\t<div class=\"media_view\">\\n\\t\\t\\t\\n\\t\\t\\t\\t\\n\\t\\t\\t\\t\\t<a href=\"https://tv.naver.com/v/28322412\" class=\"media_area\" data-da-position=\"true\" data-gdid=\"PC-THEME-ENTER-RANKING-2[materials][0]\"\\n\\t\\t\\t\\t\\t   data-clk=\"tcc_tvc.list3cont1\" target=\"_blank\">\\n\\t\\t\\t\\t\\t\\t<div class=\"media_thumb\">\\n\\t\\t\\t\\t\\t\\t\\t<img \\n\\t\\t\\t\\t\\t\\t\\t     data-src=\"https://s.pstatic.net/dthumb.phinf/?src&#x3D;%22https%3A%2F%2Fphinf.pstatic.net%2Ftvcast%2F20220802_282%2FysUgc_1659429648996mjp3T_JPEG%2F04ca6a72-123e-11ed-9d93-d4f5ef590144_01.jpg%22&amp;type&#x3D;nf464_260\" alt=\"\" width=\"232\" height=\"130\"\\n\\t\\t\\t\\t\\t\\t\\t     onerror=\"this.outerHTML=\\'<span class=\\\\\\'pm_noimg\\\\\\'><span class=\\\\\\'noimg_text\\\\\\'>\\xec\\x9d\\xb4\\xeb\\xaf\\xb8\\xec\\xa7\\x80 \\xec\\xa4\\x80\\xeb\\xb9\\x84\\xec\\xa4\\x91</span></span>\\'\">\\n\\n\\t\\t\\t\\t\\t\\t\\t\\n\\t\\t\\t\\t\\t\\t\\t\\t<span class=\"thumb_dim\"></span>\\n\\t\\t\\t\\t\\t\\t\\t\\t<span class=\"thumb_bd\"></span>\\n\\t\\t\\t\\t\\t\\t\\t\\t<i class=\"pm_ico_play\"><span class=\"blind\">\\xec\\x9e\\xac\\xec\\x83\\x9d</span></i>\\n\\t\\t\\t\\t\\t\\t\\t\\t<span class=\"theme_runtime\"><span class=\"runtime_bg\">\\xec\\x9e\\xac\\xec\\x83\\x9d\\xec\\x8b\\x9c\\xea\\xb0\\x84</span><em\\n\\t\\t\\t\\t\\t\\t\\t\\t\\t\\tclass=\"time\">1:15</em></span>\\n\\t\\t\\t\\t\\t\\t\\t\\n\\t\\t\\t\\t\\t\\t</div>\\n\\t\\t\\t\\t\\t\\t<div class=\"media_info\">\\n\\t\\t\\t\\t\\t\\t\\t<div class=\"info_box\">\\n\\t\\t\\t\\t\\t\\t\\t\\t\\n\\t\\t\\t\\t\\t\\t\\t\\t\\t<em class=\"theme_category\">\\xec\\x9b\\xb9\\xec\\x98\\x88\\xeb\\x8a\\xa5</em>\\n\\t\\t\\t\\t\\t\\t\\t\\t\\n\\t\\t\\t\\t\\t\\t\\t\\t\\n\\t\\t\\t\\t\\t\\t\\t\\t<strong class=\"title \">\\xec\\xa7\\x84~\\xec\\xa7\\x9c \\xec\\x9e\\x98\\xeb\\x82\\x98\\xea\\xb0\\x80\\xeb\\x8a\\x94 5\\xeb\\xaa\\x85\\xec\\x9d\\xb4 \\xec\\x99\\x9c \\xea\\xb0\\x99\\xec\\x9d\\xb4 \\xec\\x9e\\x88\\xec\\xa3\\xa0?</strong>\\n\\t\\t\\t\\t\\t\\t\\t\\t<div class=\"source_wrap\">\\n\\t\\t\\t\\t\\t\\t\\t\\t\\t\\n\\t\\t\\t\\t\\t\\t\\t\\t\\t\\t<span class=\"date\">8\\xeb\\xb6\\x84 \\xec\\xa0\\x84</span>\\n\\t\\t\\t\\t\\t\\t\\t\\t\\t\\t<span class=\"source\">\\n\\t\\t\\t\\t\\t\\t\\t\\t\\t\\t\\t\\n\\t\\t\\t\\t\\t\\t\\t\\t\\t\\t<span class=\"source_inner\">\\xec\\x94\\xac\\xec\\xba\\x90\\xec\\xb2\\x98</span>\\n\\t\\t\\t\\t\\t\\t\\t\\t\\t\\t</span>\\n\\t\\t\\t\\t\\t\\t\\t\\t\\t\\n\\t\\t\\t\\t\\t\\t\\t\\t</div>\\n\\t\\t\\t\\t\\t\\t\\t</div>\\n\\t\\t\\t\\t\\t\\t</div>\\n\\t\\t\\t\\t\\t</a>\\n\\t\\t\\t\\t\\n\\t\\t\\t\\n\\t\\t\\t\\t\\n\\t\\t\\t\\t\\t<a href=\"https://tv.naver.com/v/26605099\" class=\"media_area\" data-da-position=\"true\" data-gdid=\"PC-THEME-ENTER-RANKING-2[materials][1]\"\\n\\t\\t\\t\\t\\t   data-clk=\"tcc_tvc.list3cont2\" target=\"_blank\">\\n\\t\\t\\t\\t\\t\\t<div class=\"media_thumb\">\\n\\t\\t\\t\\t\\t\\t\\t<img \\n\\t\\t\\t\\t\\t\\t\\t     data-src=\"https://s.pstatic.net/dthumb.phinf/?src&#x3D;%22https%3A%2F%2Fphinf.pstatic.net%2Ftvcast%2F20220504_251%2F9TzRx_1651657193399xUXmF_JPEG%2F1651656998195.jpg%22&amp;type&#x3D;nf464_260\" alt=\"\" width=\"232\" height=\"130\"\\n\\t\\t\\t\\t\\t\\t\\t     onerror=\"this.outerHTML=\\'<span class=\\\\\\'pm_noimg\\\\\\'><span class=\\\\\\'noimg_text\\\\\\'>\\xec\\x9d\\xb4\\xeb\\xaf\\xb8\\xec\\xa7\\x80 \\xec\\xa4\\x80\\xeb\\xb9\\x84\\xec\\xa4\\x91</span></span>\\'\">\\n\\n\\t\\t\\t\\t\\t\\t\\t\\n\\t\\t\\t\\t\\t\\t\\t\\t<span class=\"thumb_dim\"></span>\\n\\t\\t\\t\\t\\t\\t\\t\\t<span class=\"thumb_bd\"></span>\\n\\t\\t\\t\\t\\t\\t\\t\\t<i class=\"pm_ico_play\"><span class=\"blind\">\\xec\\x9e\\xac\\xec\\x83\\x9d</span></i>\\n\\t\\t\\t\\t\\t\\t\\t\\t<span class=\"theme_runtime\"><span class=\"runtime_bg\">\\xec\\x9e\\xac\\xec\\x83\\x9d\\xec\\x8b\\x9c\\xea\\xb0\\x84</span><em\\n\\t\\t\\t\\t\\t\\t\\t\\t\\t\\tclass=\"time\">0:53</em></span>\\n\\t\\t\\t\\t\\t\\t\\t\\n\\t\\t\\t\\t\\t\\t</div>\\n\\t\\t\\t\\t\\t\\t<div class=\"media_info\">\\n\\t\\t\\t\\t\\t\\t\\t<div class=\"info_box\">\\n\\t\\t\\t\\t\\t\\t\\t\\t\\n\\t\\t\\t\\t\\t\\t\\t\\t\\t<em class=\"theme_category\">\\xec\\x9b\\xb9\\xeb\\x93\\x9c\\xeb\\x9d\\xbc\\xeb\\xa7\\x88</em>\\n\\t\\t\\t\\t\\t\\t\\t\\t\\n\\t\\t\\t\\t\\t\\t\\t\\t\\n\\t\\t\\t\\t\\t\\t\\t\\t<strong class=\"title \">\\xeb\\x84\\xb7\\xed\\x94\\x8c\\xeb\\xa6\\xad\\xec\\x8a\\xa4 \\xec\\x8b\\x9c\\xeb\\xa6\\xac\\xec\\xa6\\x88 \\'\\xec\\x95\\x88\\xeb\\x82\\x98\\xeb\\x9d\\xbc\\xec\\x88\\x98\\xeb\\xa7\\x88\\xeb\\x82\\x98\\xeb\\x9d\\xbc\\'\\xec\\x9d\\x98 \\xec\\x9b\\x90\\xec\\x9e\\x91 \\xec\\x9b\\xb9\\xed\\x88\\xb0</strong>\\n\\t\\t\\t\\t\\t\\t\\t\\t<div class=\"source_wrap\">\\n\\t\\t\\t\\t\\t\\t\\t\\t\\t\\n\\t\\t\\t\\t\\t\\t\\t\\t\\t\\t<span class=\"date\">8\\xeb\\xb6\\x84 \\xec\\xa0\\x84</span>\\n\\t\\t\\t\\t\\t\\t\\t\\t\\t\\t<span class=\"source\">\\n\\t\\t\\t\\t\\t\\t\\t\\t\\t\\t\\t\\n\\t\\t\\t\\t\\t\\t\\t\\t\\t\\t<span class=\"source_inner\">\\xeb\\x84\\xa4\\xec\\x9d\\xb4\\xeb\\xb2\\x84 \\xec\\x9b\\xb9\\xed\\x88\\xb0</span>\\n\\t\\t\\t\\t\\t\\t\\t\\t\\t\\t</span>\\n\\t\\t\\t\\t\\t\\t\\t\\t\\t\\n\\t\\t\\t\\t\\t\\t\\t\\t</div>\\n\\t\\t\\t\\t\\t\\t\\t</div>\\n\\t\\t\\t\\t\\t\\t</div>\\n\\t\\t\\t\\t\\t</a>\\n\\t\\t\\t\\t\\n\\t\\t\\t\\n\\t\\t\\t\\t\\n\\t\\t\\t\\t\\t<a href=\"https://tv.naver.com/v/31590842\" class=\"media_area\" data-da-position=\"true\" data-gdid=\"PC-THEME-ENTER-RANKING-2[materials][2]\"\\n\\t\\t\\t\\t\\t   data-clk=\"tcc_tvc.list3cont3\" target=\"_blank\">\\n\\t\\t\\t\\t\\t\\t<div class=\"media_thumb\">\\n\\t\\t\\t\\t\\t\\t\\t<img \\n\\t\\t\\t\\t\\t\\t\\t     data-src=\"https://s.pstatic.net/dthumb.phinf/?src&#x3D;%22https%3A%2F%2Fs.pstatic.net%2Ftvcast.phinf%2F20221214_76%2FKiChN_1670979993426sk95t_JPEG%2F7c424637-7278-456b-9b54-ff688a4b470d.jpg%22&amp;type&#x3D;nf464_260\" alt=\"\" width=\"232\" height=\"130\"\\n\\t\\t\\t\\t\\t\\t\\t     onerror=\"this.outerHTML=\\'<span class=\\\\\\'pm_noimg\\\\\\'><span class=\\\\\\'noimg_text\\\\\\'>\\xec\\x9d\\xb4\\xeb\\xaf\\xb8\\xec\\xa7\\x80 \\xec\\xa4\\x80\\xeb\\xb9\\x84\\xec\\xa4\\x91</span></span>\\'\">\\n\\n\\t\\t\\t\\t\\t\\t\\t\\n\\t\\t\\t\\t\\t\\t\\t\\t<span class=\"thumb_dim\"></span>\\n\\t\\t\\t\\t\\t\\t\\t\\t<span class=\"thumb_bd\"></span>\\n\\t\\t\\t\\t\\t\\t\\t\\t<i class=\"pm_ico_play\"><span class=\"blind\">\\xec\\x9e\\xac\\xec\\x83\\x9d</span></i>\\n\\t\\t\\t\\t\\t\\t\\t\\t<span class=\"theme_runtime\"><span class=\"runtime_bg\">\\xec\\x9e\\xac\\xec\\x83\\x9d\\xec\\x8b\\x9c\\xea\\xb0\\x84</span><em\\n\\t\\t\\t\\t\\t\\t\\t\\t\\t\\tclass=\"time\">3:27</em></span>\\n\\t\\t\\t\\t\\t\\t\\t\\n\\t\\t\\t\\t\\t\\t</div>\\n\\t\\t\\t\\t\\t\\t<div class=\"media_info\">\\n\\t\\t\\t\\t\\t\\t\\t<div class=\"info_box\">\\n\\t\\t\\t\\t\\t\\t\\t\\t\\n\\t\\t\\t\\t\\t\\t\\t\\t\\t<em class=\"theme_category\">TV \\xec\\x98\\x88\\xeb\\x8a\\xa5</em>\\n\\t\\t\\t\\t\\t\\t\\t\\t\\n\\t\\t\\t\\t\\t\\t\\t\\t\\n\\t\\t\\t\\t\\t\\t\\t\\t<strong class=\"title \">[\\xec\\x84\\xa0\\xea\\xb3\\xb5\\xea\\xb0\\x9c] \\xea\\xb5\\xac\\xec\\xb2\\x99\\xec\\x9e\\xa5\\xec\\x8b\\xa0vs\\xed\\x83\\x91\\xea\\xb1\\xb8\\xec\\x9d\\x98 1\\xec\\x9c\\x84 \\xea\\xb2\\xb0\\xec\\xa0\\x95\\xec\\xa0\\x84, \\xea\\xb7\\xb8\\xeb\\xa6\\xac\\xea\\xb3\\xa0 \\xec\\x9b\\x94\\xeb\\x93\\x9c\\xec\\xbb\\xb5 \\xec\\x8a\\xa4\\xed\\x83\\x80 \\xec\\xa1\\xb0\\xea\\xb7\\x9c\\xec\\x84\\xb1 \\xea\\xb9\\x9c\\xec\\xa7\\x9d \\xeb\\xb9\\x84\\xed\\x95\\x98\\xec\\x9d\\xb8\\xeb\\x93\\x9c</strong>\\n\\t\\t\\t\\t\\t\\t\\t\\t<div class=\"source_wrap\">\\n\\t\\t\\t\\t\\t\\t\\t\\t\\t\\n\\t\\t\\t\\t\\t\\t\\t\\t\\t\\t<span class=\"date\">5\\xec\\x8b\\x9c\\xea\\xb0\\x84 \\xec\\xa0\\x84</span>\\n\\t\\t\\t\\t\\t\\t\\t\\t\\t\\t<span class=\"source\">\\n\\t\\t\\t\\t\\t\\t\\t\\t\\t\\t\\t\\n\\t\\t\\t\\t\\t\\t\\t\\t\\t\\t<span class=\"source_inner\">\\xea\\xb3\\xa8 \\xeb\\x95\\x8c\\xeb\\xa6\\xac\\xeb\\x8a\\x94 \\xea\\xb7\\xb8\\xeb\\x85\\x80\\xeb\\x93\\xa4</span>\\n\\t\\t\\t\\t\\t\\t\\t\\t\\t\\t</span>\\n\\t\\t\\t\\t\\t\\t\\t\\t\\t\\n\\t\\t\\t\\t\\t\\t\\t\\t</div>\\n\\t\\t\\t\\t\\t\\t\\t</div>\\n\\t\\t\\t\\t\\t\\t</div>\\n\\t\\t\\t\\t\\t</a>\\n\\t\\t\\t\\t\\n\\t\\t\\t\\n\\t\\t\\t\\t\\n\\t\\t\\t\\t\\t<a href=\"https://tv.naver.com/v/31568251\" class=\"media_area\" data-da-position=\"true\" data-gdid=\"PC-THEME-ENTER-RANKING-2[materials][3]\"\\n\\t\\t\\t\\t\\t   data-clk=\"tcc_tvc.list3cont4\" target=\"_blank\">\\n\\t\\t\\t\\t\\t\\t<div class=\"media_thumb\">\\n\\t\\t\\t\\t\\t\\t\\t<img \\n\\t\\t\\t\\t\\t\\t\\t     data-src=\"https://s.pstatic.net/dthumb.phinf/?src&#x3D;%22https%3A%2F%2Fs.pstatic.net%2Ftvcast.phinf%2F20221213_212%2FrX9Yt_1670909192623U84B2_JPEG%2F20221213_141836_899_1.jpg%22&amp;type&#x3D;nf464_260\" alt=\"\" width=\"232\" height=\"130\"\\n\\t\\t\\t\\t\\t\\t\\t     onerror=\"this.outerHTML=\\'<span class=\\\\\\'pm_noimg\\\\\\'><span class=\\\\\\'noimg_text\\\\\\'>\\xec\\x9d\\xb4\\xeb\\xaf\\xb8\\xec\\xa7\\x80 \\xec\\xa4\\x80\\xeb\\xb9\\x84\\xec\\xa4\\x91</span></span>\\'\">\\n\\n\\t\\t\\t\\t\\t\\t\\t\\n\\t\\t\\t\\t\\t\\t\\t\\t<span class=\"thumb_dim\"></span>\\n\\t\\t\\t\\t\\t\\t\\t\\t<span class=\"thumb_bd\"></span>\\n\\t\\t\\t\\t\\t\\t\\t\\t<i class=\"pm_ico_play\"><span class=\"blind\">\\xec\\x9e\\xac\\xec\\x83\\x9d</span></i>\\n\\t\\t\\t\\t\\t\\t\\t\\t<span class=\"theme_runtime\"><span class=\"runtime_bg\">\\xec\\x9e\\xac\\xec\\x83\\x9d\\xec\\x8b\\x9c\\xea\\xb0\\x84</span><em\\n\\t\\t\\t\\t\\t\\t\\t\\t\\t\\tclass=\"time\">5:17</em></span>\\n\\t\\t\\t\\t\\t\\t\\t\\n\\t\\t\\t\\t\\t\\t</div>\\n\\t\\t\\t\\t\\t\\t<div class=\"media_info\">\\n\\t\\t\\t\\t\\t\\t\\t<div class=\"info_box\">\\n\\t\\t\\t\\t\\t\\t\\t\\t\\n\\t\\t\\t\\t\\t\\t\\t\\t\\t<em class=\"theme_category\">TV \\xeb\\x93\\x9c\\xeb\\x9d\\xbc\\xeb\\xa7\\x88</em>\\n\\t\\t\\t\\t\\t\\t\\t\\t\\n\\t\\t\\t\\t\\t\\t\\t\\t\\n\\t\\t\\t\\t\\t\\t\\t\\t<strong class=\"title \">[\\xeb\\xa9\\x94\\xec\\x9d\\xb4\\xed\\x82\\xb9] \\'\\xea\\xb3\\xa0\\xeb\\xaa\\xa8 \\xeb\\x8f\\x84\\xec\\x9e\\xa5 \\xec\\xb0\\x8d\\xec\\x9c\\xbc\\xec\\x84\\xb8\\xec\\x9a\\x94^^\\' \\xea\\xb3\\xa0\\xeb\\xaa\\xa8 \\xed\\x8f\\xad\\xed\\x92\\x8d \\xeb\\x88\\x88\\xeb\\xac\\xbc \\xec\\x97\\xb0\\xea\\xb8\\xb0\\xec\\x97\\x90 \\xe2\\x9c\\x8c\\xec\\x9b\\x83\\xec\\xb0\\xb8\\xec\\xb1\\x8c \\xec\\xa4\\x91\\xec\\x9d\\xb8 \\xeb\\x8f\\x84\\xec\\xa4\\x80, \\xec\\xa6\\x9d\\xea\\xb1\\xb0\\xeb\\x93\\xa4\\xea\\xb3\\xa0 \\xec\\x98\\xa8 \\xeb\\xaf\\xbc\\xec\\x98\\x81?! | \\xec\\x9e\\xac\\xeb\\xb2\\x8c\\xec\\xa7\\x91 \\xeb\\xa7\\x89\\xeb\\x82\\xb4\\xec\\x95\\x84\\xeb\\x93\\xa4 \\xf0\\x9f\\x95\\xa5 EP.25</strong>\\n\\t\\t\\t\\t\\t\\t\\t\\t<div class=\"source_wrap\">\\n\\t\\t\\t\\t\\t\\t\\t\\t\\t\\n\\t\\t\\t\\t\\t\\t\\t\\t\\t\\t<span class=\"date\">\\xec\\x96\\xb4\\xec\\xa0\\x9c</span>\\n\\t\\t\\t\\t\\t\\t\\t\\t\\t\\t<span class=\"source\">\\n\\t\\t\\t\\t\\t\\t\\t\\t\\t\\t\\t\\n\\t\\t\\t\\t\\t\\t\\t\\t\\t\\t<span class=\"source_inner\">\\xec\\x9e\\xac\\xeb\\xb2\\x8c\\xec\\xa7\\x91 \\xeb\\xa7\\x89\\xeb\\x82\\xb4\\xec\\x95\\x84\\xeb\\x93\\xa4</span>\\n\\t\\t\\t\\t\\t\\t\\t\\t\\t\\t</span>\\n\\t\\t\\t\\t\\t\\t\\t\\t\\t\\n\\t\\t\\t\\t\\t\\t\\t\\t</div>\\n\\t\\t\\t\\t\\t\\t\\t</div>\\n\\t\\t\\t\\t\\t\\t</div>\\n\\t\\t\\t\\t\\t</a>\\n\\t\\t\\t\\t\\n\\t\\t\\t\\n\\t\\t\\t\\t\\n\\t\\t\\t\\t\\t<a href=\"https://tv.naver.com/v/25007383\" class=\"media_area\" data-da-position=\"true\" data-gdid=\"PC-THEME-ENTER-RANKING-2[materials][4]\"\\n\\t\\t\\t\\t\\t   data-clk=\"tcc_tvc.list3cont5\" target=\"_blank\">\\n\\t\\t\\t\\t\\t\\t<div class=\"media_thumb\">\\n\\t\\t\\t\\t\\t\\t\\t<img \\n\\t\\t\\t\\t\\t\\t\\t     data-src=\"https://s.pstatic.net/dthumb.phinf/?src&#x3D;%22https%3A%2F%2Fphinf.pstatic.net%2Ftvcast%2F20220208_90%2FZ7uWG_1644314034580RHv4q_PNG%2F1644313896713.png%22&amp;type&#x3D;nf464_260\" alt=\"\" width=\"232\" height=\"130\"\\n\\t\\t\\t\\t\\t\\t\\t     onerror=\"this.outerHTML=\\'<span class=\\\\\\'pm_noimg\\\\\\'><span class=\\\\\\'noimg_text\\\\\\'>\\xec\\x9d\\xb4\\xeb\\xaf\\xb8\\xec\\xa7\\x80 \\xec\\xa4\\x80\\xeb\\xb9\\x84\\xec\\xa4\\x91</span></span>\\'\">\\n\\n\\t\\t\\t\\t\\t\\t\\t\\n\\t\\t\\t\\t\\t\\t\\t\\t<span class=\"thumb_dim\"></span>\\n\\t\\t\\t\\t\\t\\t\\t\\t<span class=\"thumb_bd\"></span>\\n\\t\\t\\t\\t\\t\\t\\t\\t<i class=\"pm_ico_play\"><span class=\"blind\">\\xec\\x9e\\xac\\xec\\x83\\x9d</span></i>\\n\\t\\t\\t\\t\\t\\t\\t\\t<span class=\"theme_runtime\"><span class=\"runtime_bg\">\\xec\\x9e\\xac\\xec\\x83\\x9d\\xec\\x8b\\x9c\\xea\\xb0\\x84</span><em\\n\\t\\t\\t\\t\\t\\t\\t\\t\\t\\tclass=\"time\">1:35</em></span>\\n\\t\\t\\t\\t\\t\\t\\t\\n\\t\\t\\t\\t\\t\\t</div>\\n\\t\\t\\t\\t\\t\\t<div class=\"media_info\">\\n\\t\\t\\t\\t\\t\\t\\t<div class=\"info_box\">\\n\\t\\t\\t\\t\\t\\t\\t\\t\\n\\t\\t\\t\\t\\t\\t\\t\\t\\t<em class=\"theme_category\">\\xec\\x9b\\xb9\\xec\\x98\\x88\\xeb\\x8a\\xa5</em>\\n\\t\\t\\t\\t\\t\\t\\t\\t\\n\\t\\t\\t\\t\\t\\t\\t\\t\\n\\t\\t\\t\\t\\t\\t\\t\\t<strong class=\"title \">[\\xed\\x99\\x80\\xec\\x9d\\xb8\\xeb\\x9f\\xac\\xeb\\xb8\\x8c] \\xeb\\x93\\xb1\\xec\\x9e\\xa5 \\xed\\x95\\x9c \\xeb\\xb2\\x88\\xec\\x97\\x90 \\xeb\\xaa\\xa8\\xeb\\x93\\xa0 \\xec\\x8b\\x9c\\xec\\x84\\xa0 \\xec\\xa7\\x91\\xec\\xa4\\x91 \\xec\\x8b\\x9c\\xed\\x82\\xa8 \\xea\\xb7\\xb8\\xeb\\x85\\x80\\xec\\x9d\\x98 \\xec\\x95\\x84\\xec\\x9a\\xb0\\xeb\\x9d\\xbc\\xe2\\x9c\\xa8</strong>\\n\\t\\t\\t\\t\\t\\t\\t\\t<div class=\"source_wrap\">\\n\\t\\t\\t\\t\\t\\t\\t\\t\\t\\n\\t\\t\\t\\t\\t\\t\\t\\t\\t\\t<span class=\"date\">8\\xeb\\xb6\\x84 \\xec\\xa0\\x84</span>\\n\\t\\t\\t\\t\\t\\t\\t\\t\\t\\t<span class=\"source\">\\n\\t\\t\\t\\t\\t\\t\\t\\t\\t\\t\\t\\n\\t\\t\\t\\t\\t\\t\\t\\t\\t\\t<span class=\"source_inner\">\\xec\\x94\\xac\\xec\\xba\\x90\\xec\\xb2\\x98</span>\\n\\t\\t\\t\\t\\t\\t\\t\\t\\t\\t</span>\\n\\t\\t\\t\\t\\t\\t\\t\\t\\t\\n\\t\\t\\t\\t\\t\\t\\t\\t</div>\\n\\t\\t\\t\\t\\t\\t\\t</div>\\n\\t\\t\\t\\t\\t\\t</div>\\n\\t\\t\\t\\t\\t</a>\\n\\t\\t\\t\\t\\n\\t\\t\\t\\n\\t\\t\\t\\t\\n\\t\\t\\t\\t\\t<a href=\"https://tv.naver.com/v/31560747\" class=\"media_area\" data-da-position=\"true\" data-gdid=\"PC-THEME-ENTER-RANKING-2[materials][5]\"\\n\\t\\t\\t\\t\\t   data-clk=\"tcc_tvc.list3cont6\" target=\"_blank\">\\n\\t\\t\\t\\t\\t\\t<div class=\"media_thumb\">\\n\\t\\t\\t\\t\\t\\t\\t<img \\n\\t\\t\\t\\t\\t\\t\\t     data-src=\"https://s.pstatic.net/dthumb.phinf/?src&#x3D;%22https%3A%2F%2Fs.pstatic.net%2Ftvcast.phinf%2F20221213_56%2Fn8I0o_1670893654790ESmwa_JPEG%2F1670893559314.jpg%22&amp;type&#x3D;nf464_260\" alt=\"\" width=\"232\" height=\"130\"\\n\\t\\t\\t\\t\\t\\t\\t     onerror=\"this.outerHTML=\\'<span class=\\\\\\'pm_noimg\\\\\\'><span class=\\\\\\'noimg_text\\\\\\'>\\xec\\x9d\\xb4\\xeb\\xaf\\xb8\\xec\\xa7\\x80 \\xec\\xa4\\x80\\xeb\\xb9\\x84\\xec\\xa4\\x91</span></span>\\'\">\\n\\n\\t\\t\\t\\t\\t\\t\\t\\n\\t\\t\\t\\t\\t\\t\\t\\t<span class=\"thumb_dim\"></span>\\n\\t\\t\\t\\t\\t\\t\\t\\t<span class=\"thumb_bd\"></span>\\n\\t\\t\\t\\t\\t\\t\\t\\t<i class=\"pm_ico_play\"><span class=\"blind\">\\xec\\x9e\\xac\\xec\\x83\\x9d</span></i>\\n\\t\\t\\t\\t\\t\\t\\t\\t<span class=\"theme_runtime\"><span class=\"runtime_bg\">\\xec\\x9e\\xac\\xec\\x83\\x9d\\xec\\x8b\\x9c\\xea\\xb0\\x84</span><em\\n\\t\\t\\t\\t\\t\\t\\t\\t\\t\\tclass=\"time\">3:34</em></span>\\n\\t\\t\\t\\t\\t\\t\\t\\n\\t\\t\\t\\t\\t\\t</div>\\n\\t\\t\\t\\t\\t\\t<div class=\"media_info\">\\n\\t\\t\\t\\t\\t\\t\\t<div class=\"info_box\">\\n\\t\\t\\t\\t\\t\\t\\t\\t\\n\\t\\t\\t\\t\\t\\t\\t\\t\\t<em class=\"theme_category\">TV \\xeb\\x93\\x9c\\xeb\\x9d\\xbc\\xeb\\xa7\\x88</em>\\n\\t\\t\\t\\t\\t\\t\\t\\t\\n\\t\\t\\t\\t\\t\\t\\t\\t\\n\\t\\t\\t\\t\\t\\t\\t\\t<strong class=\"title \">[\\xec\\x88\\xa0\\xea\\xbe\\xbc\\xeb\\x8f\\x84\\xec\\x8b\\x9c\\xec\\x97\\xac\\xec\\x9e\\x90\\xeb\\x93\\xa42] 26\\xea\\xb0\\x9c\\xec\\x9b\\x94\\xea\\xb0\\x84\\xec\\x9d\\x98 \\xea\\xb8\\x88\\xec\\xa3\\xbc\\xeb\\xa5\\xbc \\xeb\\x81\\x9d\\xeb\\x82\\xb8 \\xec\\x88\\xa0\\xeb\\x8f\\x84\\xeb\\x85\\x80, \\xeb\\x88\\x88\\xeb\\xac\\xbc\\xec\\x9d\\x98 \\xeb\\xa7\\xa5\\xec\\xa3\\xbc \\xed\\x95\\x9c\\xec\\x9e\\x94 | 2\\xed\\x99\\x94 \\xed\\x81\\xb4\\xeb\\xa6\\xbd</strong>\\n\\t\\t\\t\\t\\t\\t\\t\\t<div class=\"source_wrap\">\\n\\t\\t\\t\\t\\t\\t\\t\\t\\t\\n\\t\\t\\t\\t\\t\\t\\t\\t\\t\\t<span class=\"date\">\\xec\\x96\\xb4\\xec\\xa0\\x9c</span>\\n\\t\\t\\t\\t\\t\\t\\t\\t\\t\\t<span class=\"source\">\\n\\t\\t\\t\\t\\t\\t\\t\\t\\t\\t\\t\\n\\t\\t\\t\\t\\t\\t\\t\\t\\t\\t<span class=\"source_inner\">\\xed\\x8b\\xb0\\xeb\\xb9\\x99(TVING)</span>\\n\\t\\t\\t\\t\\t\\t\\t\\t\\t\\t</span>\\n\\t\\t\\t\\t\\t\\t\\t\\t\\t\\n\\t\\t\\t\\t\\t\\t\\t\\t</div>\\n\\t\\t\\t\\t\\t\\t\\t</div>\\n\\t\\t\\t\\t\\t\\t</div>\\n\\t\\t\\t\\t\\t</a>\\n\\t\\t\\t\\t\\n\\t\\t\\t\\n\\t\\t\\t\\t\\n\\t\\t\\t\\t\\t<a href=\"https://tv.naver.com/v/15641298\" class=\"media_area\" data-da-position=\"true\" data-gdid=\"PC-THEME-ENTER-RANKING-2[materials][6]\"\\n\\t\\t\\t\\t\\t   data-clk=\"tcc_tvc.list3cont7\" target=\"_blank\">\\n\\t\\t\\t\\t\\t\\t<div class=\"media_thumb\">\\n\\t\\t\\t\\t\\t\\t\\t<img \\n\\t\\t\\t\\t\\t\\t\\t     data-src=\"https://s.pstatic.net/dthumb.phinf/?src&#x3D;%22https%3A%2F%2Fphinf.pstatic.net%2Ftvcast%2F20200907_99%2FjjPoQ_1599463911338F9i0U_JPEG%2F1599463705095.jpg%22&amp;type&#x3D;nf464_260\" alt=\"\" width=\"232\" height=\"130\"\\n\\t\\t\\t\\t\\t\\t\\t     onerror=\"this.outerHTML=\\'<span class=\\\\\\'pm_noimg\\\\\\'><span class=\\\\\\'noimg_text\\\\\\'>\\xec\\x9d\\xb4\\xeb\\xaf\\xb8\\xec\\xa7\\x80 \\xec\\xa4\\x80\\xeb\\xb9\\x84\\xec\\xa4\\x91</span></span>\\'\">\\n\\n\\t\\t\\t\\t\\t\\t\\t\\n\\t\\t\\t\\t\\t\\t\\t\\t<span class=\"thumb_dim\"></span>\\n\\t\\t\\t\\t\\t\\t\\t\\t<span class=\"thumb_bd\"></span>\\n\\t\\t\\t\\t\\t\\t\\t\\t<i class=\"pm_ico_play\"><span class=\"blind\">\\xec\\x9e\\xac\\xec\\x83\\x9d</span></i>\\n\\t\\t\\t\\t\\t\\t\\t\\t<span class=\"theme_runtime\"><span class=\"runtime_bg\">\\xec\\x9e\\xac\\xec\\x83\\x9d\\xec\\x8b\\x9c\\xea\\xb0\\x84</span><em\\n\\t\\t\\t\\t\\t\\t\\t\\t\\t\\tclass=\"time\">3:14</em></span>\\n\\t\\t\\t\\t\\t\\t\\t\\n\\t\\t\\t\\t\\t\\t</div>\\n\\t\\t\\t\\t\\t\\t<div class=\"media_info\">\\n\\t\\t\\t\\t\\t\\t\\t<div class=\"info_box\">\\n\\t\\t\\t\\t\\t\\t\\t\\t\\n\\t\\t\\t\\t\\t\\t\\t\\t\\t<em class=\"theme_category\">\\xec\\x9b\\xb9\\xeb\\x93\\x9c\\xeb\\x9d\\xbc\\xeb\\xa7\\x88</em>\\n\\t\\t\\t\\t\\t\\t\\t\\t\\n\\t\\t\\t\\t\\t\\t\\t\\t\\n\\t\\t\\t\\t\\t\\t\\t\\t<strong class=\"title \">\\'\\xec\\x97\\xb0\\xec\\x95\\xa0\\xed\\x98\\x81\\xeb\\xaa\\x85 - \\xea\\xb3\\xb5\\xec\\xa3\\xbc\\xec\\x98\\x81 \\xec\\x9e\\x90\\xec\\xb7\\xa8\\xeb\\xb0\\xa9 \\xec\\xa7\\x91\\xeb\\x93\\xa4\\xec\\x9d\\xb4 \\xed\\x92\\x80\\xeb\\xb2\\x84\\xec\\xa0\\x84 \\xeb\\x8c\\x80\\xea\\xb3\\xb5\\xea\\xb0\\x9c!</strong>\\n\\t\\t\\t\\t\\t\\t\\t\\t<div class=\"source_wrap\">\\n\\t\\t\\t\\t\\t\\t\\t\\t\\t\\n\\t\\t\\t\\t\\t\\t\\t\\t\\t\\t<span class=\"date\">8\\xeb\\xb6\\x84 \\xec\\xa0\\x84</span>\\n\\t\\t\\t\\t\\t\\t\\t\\t\\t\\t<span class=\"source\">\\n\\t\\t\\t\\t\\t\\t\\t\\t\\t\\t\\t\\n\\t\\t\\t\\t\\t\\t\\t\\t\\t\\t<span class=\"source_inner\">\\xeb\\x84\\xa4\\xec\\x9d\\xb4\\xeb\\xb2\\x84 \\xec\\x9b\\xb9\\xed\\x88\\xb0</span>\\n\\t\\t\\t\\t\\t\\t\\t\\t\\t\\t</span>\\n\\t\\t\\t\\t\\t\\t\\t\\t\\t\\n\\t\\t\\t\\t\\t\\t\\t\\t</div>\\n\\t\\t\\t\\t\\t\\t\\t</div>\\n\\t\\t\\t\\t\\t\\t</div>\\n\\t\\t\\t\\t\\t</a>\\n\\t\\t\\t\\t\\n\\t\\t\\t\\n\\t\\t\\t\\t\\n\\t\\t\\t\\t\\t<a href=\"https://tv.naver.com/v/23824208\" class=\"media_area\" data-da-position=\"true\" data-gdid=\"PC-THEME-ENTER-RANKING-2[materials][7]\"\\n\\t\\t\\t\\t\\t   data-clk=\"tcc_tvc.list3cont8\" target=\"_blank\">\\n\\t\\t\\t\\t\\t\\t<div class=\"media_thumb\">\\n\\t\\t\\t\\t\\t\\t\\t<img \\n\\t\\t\\t\\t\\t\\t\\t     data-src=\"https://s.pstatic.net/dthumb.phinf/?src&#x3D;%22https%3A%2F%2Fphinf.pstatic.net%2Ftvcast%2F20211130_55%2Fa8bxc_1638273537905gzd7h_JPEG%2F1638273388256.jpg%22&amp;type&#x3D;nf464_260\" alt=\"\" width=\"232\" height=\"130\"\\n\\t\\t\\t\\t\\t\\t\\t     onerror=\"this.outerHTML=\\'<span class=\\\\\\'pm_noimg\\\\\\'><span class=\\\\\\'noimg_text\\\\\\'>\\xec\\x9d\\xb4\\xeb\\xaf\\xb8\\xec\\xa7\\x80 \\xec\\xa4\\x80\\xeb\\xb9\\x84\\xec\\xa4\\x91</span></span>\\'\">\\n\\n\\t\\t\\t\\t\\t\\t\\t\\n\\t\\t\\t\\t\\t\\t\\t\\t<span class=\"thumb_dim\"></span>\\n\\t\\t\\t\\t\\t\\t\\t\\t<span class=\"thumb_bd\"></span>\\n\\t\\t\\t\\t\\t\\t\\t\\t<i class=\"pm_ico_play\"><span class=\"blind\">\\xec\\x9e\\xac\\xec\\x83\\x9d</span></i>\\n\\t\\t\\t\\t\\t\\t\\t\\t<span class=\"theme_runtime\"><span class=\"runtime_bg\">\\xec\\x9e\\xac\\xec\\x83\\x9d\\xec\\x8b\\x9c\\xea\\xb0\\x84</span><em\\n\\t\\t\\t\\t\\t\\t\\t\\t\\t\\tclass=\"time\">0:37</em></span>\\n\\t\\t\\t\\t\\t\\t\\t\\n\\t\\t\\t\\t\\t\\t</div>\\n\\t\\t\\t\\t\\t\\t<div class=\"media_info\">\\n\\t\\t\\t\\t\\t\\t\\t<div class=\"info_box\">\\n\\t\\t\\t\\t\\t\\t\\t\\t\\n\\t\\t\\t\\t\\t\\t\\t\\t\\t<em class=\"theme_category\">\\xec\\x9b\\xb9\\xeb\\x93\\x9c\\xeb\\x9d\\xbc\\xeb\\xa7\\x88</em>\\n\\t\\t\\t\\t\\t\\t\\t\\t\\n\\t\\t\\t\\t\\t\\t\\t\\t\\n\\t\\t\\t\\t\\t\\t\\t\\t<strong class=\"title \">\\xeb\\x84\\xb7\\xed\\x94\\x8c\\xeb\\xa6\\xad\\xec\\x8a\\xa4 \\'\\xec\\xa7\\x80\\xec\\x98\\xa5\\' \\xec\\x9b\\x90\\xec\\x9e\\x91 \\xec\\x9b\\xb9\\xed\\x88\\xb0 - \\xeb\\x82\\xb4 \\xec\\xa3\\xbd\\xec\\x9d\\x8c\\xec\\x9d\\x84 \\xeb\\xaa\\xa8\\xeb\\x91\\x90\\xea\\xb0\\x80 \\xec\\xa7\\x80\\xec\\xbc\\x9c\\xeb\\xb3\\xb4\\xea\\xb3\\xa0 \\xec\\x9e\\x88\\xeb\\x8b\\xa4.</strong>\\n\\t\\t\\t\\t\\t\\t\\t\\t<div class=\"source_wrap\">\\n\\t\\t\\t\\t\\t\\t\\t\\t\\t\\n\\t\\t\\t\\t\\t\\t\\t\\t\\t\\t<span class=\"date\">8\\xeb\\xb6\\x84 \\xec\\xa0\\x84</span>\\n\\t\\t\\t\\t\\t\\t\\t\\t\\t\\t<span class=\"source\">\\n\\t\\t\\t\\t\\t\\t\\t\\t\\t\\t\\t\\n\\t\\t\\t\\t\\t\\t\\t\\t\\t\\t<span class=\"source_inner\">\\xeb\\x84\\xa4\\xec\\x9d\\xb4\\xeb\\xb2\\x84 \\xec\\x9b\\xb9\\xed\\x88\\xb0</span>\\n\\t\\t\\t\\t\\t\\t\\t\\t\\t\\t</span>\\n\\t\\t\\t\\t\\t\\t\\t\\t\\t\\n\\t\\t\\t\\t\\t\\t\\t\\t</div>\\n\\t\\t\\t\\t\\t\\t\\t</div>\\n\\t\\t\\t\\t\\t\\t</div>\\n\\t\\t\\t\\t\\t</a>\\n\\t\\t\\t\\t\\n\\t\\t\\t\\n\\t\\t\\t\\t\\n\\t\\t\\t\\t\\t<a href=\"https://tv.naver.com/v/31590382\" class=\"media_area\" data-da-position=\"true\" data-gdid=\"PC-THEME-ENTER-RANKING-2[materials][8]\"\\n\\t\\t\\t\\t\\t   data-clk=\"tcc_tvc.list3cont9\" target=\"_blank\">\\n\\t\\t\\t\\t\\t\\t<div class=\"media_thumb\">\\n\\t\\t\\t\\t\\t\\t\\t<img \\n\\t\\t\\t\\t\\t\\t\\t     data-src=\"https://s.pstatic.net/dthumb.phinf/?src&#x3D;%22https%3A%2F%2Fs.pstatic.net%2Ftvcast.phinf%2F20221214_275%2Fr6PR0_1670977593487EOPiQ_JPEG%2FlubogQFSgDe2.jpg%22&amp;type&#x3D;nf464_260\" alt=\"\" width=\"232\" height=\"130\"\\n\\t\\t\\t\\t\\t\\t\\t     onerror=\"this.outerHTML=\\'<span class=\\\\\\'pm_noimg\\\\\\'><span class=\\\\\\'noimg_text\\\\\\'>\\xec\\x9d\\xb4\\xeb\\xaf\\xb8\\xec\\xa7\\x80 \\xec\\xa4\\x80\\xeb\\xb9\\x84\\xec\\xa4\\x91</span></span>\\'\">\\n\\n\\t\\t\\t\\t\\t\\t\\t\\n\\t\\t\\t\\t\\t\\t\\t\\t<span class=\"thumb_dim\"></span>\\n\\t\\t\\t\\t\\t\\t\\t\\t<span class=\"thumb_bd\"></span>\\n\\t\\t\\t\\t\\t\\t\\t\\t<i class=\"pm_ico_play\"><span class=\"blind\">\\xec\\x9e\\xac\\xec\\x83\\x9d</span></i>\\n\\t\\t\\t\\t\\t\\t\\t\\t<span class=\"theme_runtime\"><span class=\"runtime_bg\">\\xec\\x9e\\xac\\xec\\x83\\x9d\\xec\\x8b\\x9c\\xea\\xb0\\x84</span><em\\n\\t\\t\\t\\t\\t\\t\\t\\t\\t\\tclass=\"time\">1:25</em></span>\\n\\t\\t\\t\\t\\t\\t\\t\\n\\t\\t\\t\\t\\t\\t</div>\\n\\t\\t\\t\\t\\t\\t<div class=\"media_info\">\\n\\t\\t\\t\\t\\t\\t\\t<div class=\"info_box\">\\n\\t\\t\\t\\t\\t\\t\\t\\t\\n\\t\\t\\t\\t\\t\\t\\t\\t\\t<em class=\"theme_category\">TV \\xec\\x98\\x88\\xeb\\x8a\\xa5</em>\\n\\t\\t\\t\\t\\t\\t\\t\\t\\n\\t\\t\\t\\t\\t\\t\\t\\t\\n\\t\\t\\t\\t\\t\\t\\t\\t<strong class=\"title \">[\\xeb\\x8b\\xa8\\xeb\\x8f\\x85\\xec\\x84\\xa0\\xea\\xb3\\xb5\\xea\\xb0\\x9c]\\xe2\\x80\\x98\\xeb\\xb6\\x80\\xeb\\xb6\\x80\\xec\\x9d\\x98 \\xec\\x84\\xb8\\xea\\xb3\\x84\\xe2\\x80\\x99 \\xe2\\x80\\x98\\xea\\xb5\\xad\\xeb\\xaf\\xbc \\xeb\\xb6\\x88\\xeb\\xa5\\x9c\\xeb\\x82\\xa8\\xe2\\x80\\x99 \\xea\\xb9\\x80\\xec\\x98\\x81\\xeb\\xaf\\xbc, \\xea\\xb9\\x80\\xec\\xa2\\x85\\xea\\xb5\\xad\\xec\\x9d\\x80 \\xeb\\xb6\\x88\\xeb\\xa5\\x9c\\xeb\\x82\\xa8 \\xec\\x97\\xad(?)\\xec\\x97\\x90 \\xec\\xb0\\xb0\\xeb\\x96\\xa1\\xec\\x9d\\xb4\\xeb\\x8b\\xa4?!\\xf0\\x9f\\xa4\\xa3 | KBS \\xeb\\xb0\\xa9\\xec\\x86\\xa1</strong>\\n\\t\\t\\t\\t\\t\\t\\t\\t<div class=\"source_wrap\">\\n\\t\\t\\t\\t\\t\\t\\t\\t\\t\\n\\t\\t\\t\\t\\t\\t\\t\\t\\t\\t<span class=\"date\">6\\xec\\x8b\\x9c\\xea\\xb0\\x84 \\xec\\xa0\\x84</span>\\n\\t\\t\\t\\t\\t\\t\\t\\t\\t\\t<span class=\"source\">\\n\\t\\t\\t\\t\\t\\t\\t\\t\\t\\t\\t\\n\\t\\t\\t\\t\\t\\t\\t\\t\\t\\t<span class=\"source_inner\">\\xec\\x98\\xa5\\xed\\x83\\x91\\xeb\\xb0\\xa9\\xec\\x9d\\x98 \\xeb\\xac\\xb8\\xec\\xa0\\x9c\\xec\\x95\\x84\\xeb\\x93\\xa4</span>\\n\\t\\t\\t\\t\\t\\t\\t\\t\\t\\t</span>\\n\\t\\t\\t\\t\\t\\t\\t\\t\\t\\n\\t\\t\\t\\t\\t\\t\\t\\t</div>\\n\\t\\t\\t\\t\\t\\t\\t</div>\\n\\t\\t\\t\\t\\t\\t</div>\\n\\t\\t\\t\\t\\t</a>\\n\\t\\t\\t\\t\\n\\t\\t\\t\\n\\t\\t</div>\\n\\t</div>\\n</div>\\n\\n<div class=\"group_theme\" data-block-id=\"5db0bbf2d6902f284eaffbab\" data-block-code=\"PC-THEME-ENTER-RANKING-3\" data-block-type=\"MATERIALS\" data-template-code=\"3X3\"\\n\\n     data-page=\"2\"\\n     style=\"display:none\">\\n\\n\\t<div class=\"media_view_wrap type_column\">\\n\\t\\t<div class=\"media_view\">\\n\\t\\t\\t\\n\\t\\t\\t\\t\\n\\t\\t\\t\\t\\t<a href=\"https://tv.naver.com/v/9911128\" class=\"media_area\" data-da-position=\"true\" data-gdid=\"PC-THEME-ENTER-RANKING-3[materials][0]\"\\n\\t\\t\\t\\t\\t   data-clk=\"tcc_tvc.list4cont1\" target=\"_blank\">\\n\\t\\t\\t\\t\\t\\t<div class=\"media_thumb\">\\n\\t\\t\\t\\t\\t\\t\\t<img \\n\\t\\t\\t\\t\\t\\t\\t     data-src=\"https://s.pstatic.net/dthumb.phinf/?src&#x3D;%22https%3A%2F%2Fphinf.pstatic.net%2Ftvcast%2F20190919_66%2FdgLmk_1568876096128Br3yQ_PNG%2F1568875784042.png%22&amp;type&#x3D;nf464_260\" alt=\"\" width=\"232\" height=\"130\"\\n\\t\\t\\t\\t\\t\\t\\t     onerror=\"this.outerHTML=\\'<span class=\\\\\\'pm_noimg\\\\\\'><span class=\\\\\\'noimg_text\\\\\\'>\\xec\\x9d\\xb4\\xeb\\xaf\\xb8\\xec\\xa7\\x80 \\xec\\xa4\\x80\\xeb\\xb9\\x84\\xec\\xa4\\x91</span></span>\\'\">\\n\\n\\t\\t\\t\\t\\t\\t\\t\\n\\t\\t\\t\\t\\t\\t\\t\\t<span class=\"thumb_dim\"></span>\\n\\t\\t\\t\\t\\t\\t\\t\\t<span class=\"thumb_bd\"></span>\\n\\t\\t\\t\\t\\t\\t\\t\\t<i class=\"pm_ico_play\"><span class=\"blind\">\\xec\\x9e\\xac\\xec\\x83\\x9d</span></i>\\n\\t\\t\\t\\t\\t\\t\\t\\t<span class=\"theme_runtime\"><span class=\"runtime_bg\">\\xec\\x9e\\xac\\xec\\x83\\x9d\\xec\\x8b\\x9c\\xea\\xb0\\x84</span><em\\n\\t\\t\\t\\t\\t\\t\\t\\t\\t\\tclass=\"time\">19:59</em></span>\\n\\t\\t\\t\\t\\t\\t\\t\\n\\t\\t\\t\\t\\t\\t</div>\\n\\t\\t\\t\\t\\t\\t<div class=\"media_info\">\\n\\t\\t\\t\\t\\t\\t\\t<div class=\"info_box\">\\n\\t\\t\\t\\t\\t\\t\\t\\t\\n\\t\\t\\t\\t\\t\\t\\t\\t\\t<em class=\"theme_category\">\\xec\\x9b\\xb9\\xec\\x98\\x88\\xeb\\x8a\\xa5</em>\\n\\t\\t\\t\\t\\t\\t\\t\\t\\n\\t\\t\\t\\t\\t\\t\\t\\t\\n\\t\\t\\t\\t\\t\\t\\t\\t<strong class=\"title \">[\\xec\\x9b\\xb9\\xec\\x8b\\x9c\\xed\\x8a\\xb8\\xec\\xbd\\xa4 \\xec\\x98\\xa4\\xeb\\x8a\\x98\\xeb\\x8f\\x84 \\xeb\\x82\\xa8\\xed\\x98\\x84\\xed\\x95\\x9c \\xed\\x95\\x98\\xeb\\xa3\\xa8] \\xeb\\xaa\\xb0\\xec\\x95\\x84\\xeb\\xb3\\xb4\\xea\\xb8\\xb0</strong>\\n\\t\\t\\t\\t\\t\\t\\t\\t<div class=\"source_wrap\">\\n\\t\\t\\t\\t\\t\\t\\t\\t\\t\\n\\t\\t\\t\\t\\t\\t\\t\\t\\t\\t<span class=\"date\">8\\xeb\\xb6\\x84 \\xec\\xa0\\x84</span>\\n\\t\\t\\t\\t\\t\\t\\t\\t\\t\\t<span class=\"source\">\\n\\t\\t\\t\\t\\t\\t\\t\\t\\t\\t\\t\\n\\t\\t\\t\\t\\t\\t\\t\\t\\t\\t<span class=\"source_inner\">\\xeb\\x9d\\xbc\\xeb\\xa9\\xb4\\xea\\xb3\\xb5\\xec\\x9e\\x91\\xec\\x86\\x8c</span>\\n\\t\\t\\t\\t\\t\\t\\t\\t\\t\\t</span>\\n\\t\\t\\t\\t\\t\\t\\t\\t\\t\\n\\t\\t\\t\\t\\t\\t\\t\\t</div>\\n\\t\\t\\t\\t\\t\\t\\t</div>\\n\\t\\t\\t\\t\\t\\t</div>\\n\\t\\t\\t\\t\\t</a>\\n\\t\\t\\t\\t\\n\\t\\t\\t\\n\\t\\t\\t\\t\\n\\t\\t\\t\\t\\t<a href=\"https://tv.naver.com/v/28529069\" class=\"media_area\" data-da-position=\"true\" data-gdid=\"PC-THEME-ENTER-RANKING-3[materials][1]\"\\n\\t\\t\\t\\t\\t   data-clk=\"tcc_tvc.list4cont2\" target=\"_blank\">\\n\\t\\t\\t\\t\\t\\t<div class=\"media_thumb\">\\n\\t\\t\\t\\t\\t\\t\\t<img \\n\\t\\t\\t\\t\\t\\t\\t     data-src=\"https://s.pstatic.net/dthumb.phinf/?src&#x3D;%22https%3A%2F%2Fphinf.pstatic.net%2Ftvcast%2F20220812_290%2FsmovP_1660278883932BIeO5_PNG%2F1660278827662.png%22&amp;type&#x3D;nf464_260\" alt=\"\" width=\"232\" height=\"130\"\\n\\t\\t\\t\\t\\t\\t\\t     onerror=\"this.outerHTML=\\'<span class=\\\\\\'pm_noimg\\\\\\'><span class=\\\\\\'noimg_text\\\\\\'>\\xec\\x9d\\xb4\\xeb\\xaf\\xb8\\xec\\xa7\\x80 \\xec\\xa4\\x80\\xeb\\xb9\\x84\\xec\\xa4\\x91</span></span>\\'\">\\n\\n\\t\\t\\t\\t\\t\\t\\t\\n\\t\\t\\t\\t\\t\\t\\t\\t<span class=\"thumb_dim\"></span>\\n\\t\\t\\t\\t\\t\\t\\t\\t<span class=\"thumb_bd\"></span>\\n\\t\\t\\t\\t\\t\\t\\t\\t<i class=\"pm_ico_play\"><span class=\"blind\">\\xec\\x9e\\xac\\xec\\x83\\x9d</span></i>\\n\\t\\t\\t\\t\\t\\t\\t\\t<span class=\"theme_runtime\"><span class=\"runtime_bg\">\\xec\\x9e\\xac\\xec\\x83\\x9d\\xec\\x8b\\x9c\\xea\\xb0\\x84</span><em\\n\\t\\t\\t\\t\\t\\t\\t\\t\\t\\tclass=\"time\">2:50</em></span>\\n\\t\\t\\t\\t\\t\\t\\t\\n\\t\\t\\t\\t\\t\\t</div>\\n\\t\\t\\t\\t\\t\\t<div class=\"media_info\">\\n\\t\\t\\t\\t\\t\\t\\t<div class=\"info_box\">\\n\\t\\t\\t\\t\\t\\t\\t\\t\\n\\t\\t\\t\\t\\t\\t\\t\\t\\t<em class=\"theme_category\">\\xec\\x9b\\xb9\\xec\\x98\\x88\\xeb\\x8a\\xa5</em>\\n\\t\\t\\t\\t\\t\\t\\t\\t\\n\\t\\t\\t\\t\\t\\t\\t\\t\\n\\t\\t\\t\\t\\t\\t\\t\\t<strong class=\"title \">\\xec\\xb2\\xab \\xeb\\xa7\\x8c\\xeb\\x82\\xa8\\xeb\\xb6\\x80\\xed\\x84\\xb0 \\xec\\x84\\xb1\\xec\\x9d\\xb8\\xec\\x9a\\xa9\\xed\\x92\\x88 \\xed\\x86\\xa0\\xed\\x81\\xac \\xea\\xb0\\x80\\xeb\\x8a\\xa5?!\\xf0\\x9f\\x92\\x8b | EP.1-1 | \\xec\\x8d\\xb8\\xed\\x95\\x91</strong>\\n\\t\\t\\t\\t\\t\\t\\t\\t<div class=\"source_wrap\">\\n\\t\\t\\t\\t\\t\\t\\t\\t\\t\\n\\t\\t\\t\\t\\t\\t\\t\\t\\t\\t<span class=\"date\">8\\xeb\\xb6\\x84 \\xec\\xa0\\x84</span>\\n\\t\\t\\t\\t\\t\\t\\t\\t\\t\\t<span class=\"source\">\\n\\t\\t\\t\\t\\t\\t\\t\\t\\t\\t\\t\\n\\t\\t\\t\\t\\t\\t\\t\\t\\t\\t<span class=\"source_inner\">\\xec\\x94\\xac\\xec\\xba\\x90\\xec\\xb2\\x98</span>\\n\\t\\t\\t\\t\\t\\t\\t\\t\\t\\t</span>\\n\\t\\t\\t\\t\\t\\t\\t\\t\\t\\n\\t\\t\\t\\t\\t\\t\\t\\t</div>\\n\\t\\t\\t\\t\\t\\t\\t</div>\\n\\t\\t\\t\\t\\t\\t</div>\\n\\t\\t\\t\\t\\t</a>\\n\\t\\t\\t\\t\\n\\t\\t\\t\\n\\t\\t\\t\\t\\n\\t\\t\\t\\t\\t<a href=\"https://tv.naver.com/v/31427856\" class=\"media_area\" data-da-position=\"true\" data-gdid=\"PC-THEME-ENTER-RANKING-3[materials][2]\"\\n\\t\\t\\t\\t\\t   data-clk=\"tcc_tvc.list4cont3\" target=\"_blank\">\\n\\t\\t\\t\\t\\t\\t<div class=\"media_thumb\">\\n\\t\\t\\t\\t\\t\\t\\t<img \\n\\t\\t\\t\\t\\t\\t\\t     data-src=\"https://s.pstatic.net/dthumb.phinf/?src&#x3D;%22https%3A%2F%2Fs.pstatic.net%2Ftvcast.phinf%2F20221207_241%2FcPa0k_1670423491757rJVfa_JPEG%2FxJQ1670311549915-1280-0.jpg%22&amp;type&#x3D;nf464_260\" alt=\"\" width=\"232\" height=\"130\"\\n\\t\\t\\t\\t\\t\\t\\t     onerror=\"this.outerHTML=\\'<span class=\\\\\\'pm_noimg\\\\\\'><span class=\\\\\\'noimg_text\\\\\\'>\\xec\\x9d\\xb4\\xeb\\xaf\\xb8\\xec\\xa7\\x80 \\xec\\xa4\\x80\\xeb\\xb9\\x84\\xec\\xa4\\x91</span></span>\\'\">\\n\\n\\t\\t\\t\\t\\t\\t\\t\\n\\t\\t\\t\\t\\t\\t\\t\\t<span class=\"thumb_dim\"></span>\\n\\t\\t\\t\\t\\t\\t\\t\\t<span class=\"thumb_bd\"></span>\\n\\t\\t\\t\\t\\t\\t\\t\\t<i class=\"pm_ico_play\"><span class=\"blind\">\\xec\\x9e\\xac\\xec\\x83\\x9d</span></i>\\n\\t\\t\\t\\t\\t\\t\\t\\t<span class=\"theme_runtime\"><span class=\"runtime_bg\">\\xec\\x9e\\xac\\xec\\x83\\x9d\\xec\\x8b\\x9c\\xea\\xb0\\x84</span><em\\n\\t\\t\\t\\t\\t\\t\\t\\t\\t\\tclass=\"time\">9:37</em></span>\\n\\t\\t\\t\\t\\t\\t\\t\\n\\t\\t\\t\\t\\t\\t</div>\\n\\t\\t\\t\\t\\t\\t<div class=\"media_info\">\\n\\t\\t\\t\\t\\t\\t\\t<div class=\"info_box\">\\n\\t\\t\\t\\t\\t\\t\\t\\t\\n\\t\\t\\t\\t\\t\\t\\t\\t\\t<em class=\"theme_category\">TV \\xec\\x98\\x88\\xeb\\x8a\\xa5</em>\\n\\t\\t\\t\\t\\t\\t\\t\\t\\n\\t\\t\\t\\t\\t\\t\\t\\t\\n\\t\\t\\t\\t\\t\\t\\t\\t<strong class=\"title \">\\xeb\\x82\\x9c \\xeb\\xaa\\xa8\\xeb\\x93\\xa0 \\xea\\xb2\\x8c \\xeb\\x81\\x9d, \\xec\\x86\\x94\\xeb\\xa1\\x9c\\xeb\\xa1\\x9c \\xed\\x87\\xb4\\xec\\x86\\x8c? \\xed\\x95\\xa0 \\xeb\\xa7\\x8c\\xed\\x81\\xbc \\xed\\x95\\xb4\\xec\\x84\\x9c \\xeb\\x8d\\x94 \\xec\\x86\\x8d\\xec\\x83\\x81\\xed\\x95\\x9c \\xec\\xa0\\x95\\xec\\x88\\x99\\xec\\x9d\\x98 \\xeb\\x88\\x88\\xeb\\xac\\xbc...?\\xe3\\x85\\xa3\\xeb\\x82\\x98\\xeb\\x8a\\x94\\xec\\x86\\x94\\xeb\\xa1\\x9c EP.74\\xe3\\x85\\xa3SBSPLUS\\xe3\\x85\\xa3\\xeb\\xa7\\xa4\\xec\\xa3\\xbc \\xec\\x88\\x98\\xec\\x9a\\x94\\xec\\x9d\\xbc \\xeb\\xb0\\xa4 10\\xec\\x8b\\x9c 30\\xeb\\xb6\\x84 \\xeb\\xb0\\xa9\\xec\\x86\\xa1</strong>\\n\\t\\t\\t\\t\\t\\t\\t\\t<div class=\"source_wrap\">\\n\\t\\t\\t\\t\\t\\t\\t\\t\\t\\n\\t\\t\\t\\t\\t\\t\\t\\t\\t\\t<span class=\"date\">6\\xec\\x9d\\xbc \\xec\\xa0\\x84</span>\\n\\t\\t\\t\\t\\t\\t\\t\\t\\t\\t<span class=\"source\">\\n\\t\\t\\t\\t\\t\\t\\t\\t\\t\\t\\t\\n\\t\\t\\t\\t\\t\\t\\t\\t\\t\\t<span class=\"source_inner\">\\xeb\\x82\\x98\\xeb\\x8a\\x94 SOLO</span>\\n\\t\\t\\t\\t\\t\\t\\t\\t\\t\\t</span>\\n\\t\\t\\t\\t\\t\\t\\t\\t\\t\\n\\t\\t\\t\\t\\t\\t\\t\\t</div>\\n\\t\\t\\t\\t\\t\\t\\t</div>\\n\\t\\t\\t\\t\\t\\t</div>\\n\\t\\t\\t\\t\\t</a>\\n\\t\\t\\t\\t\\n\\t\\t\\t\\n\\t\\t\\t\\t\\n\\t\\t\\t\\t\\t<a href=\"https://tv.naver.com/v/31487802\" class=\"media_area\" data-da-position=\"true\" data-gdid=\"PC-THEME-ENTER-RANKING-3[materials][3]\"\\n\\t\\t\\t\\t\\t   data-clk=\"tcc_tvc.list4cont4\" target=\"_blank\">\\n\\t\\t\\t\\t\\t\\t<div class=\"media_thumb\">\\n\\t\\t\\t\\t\\t\\t\\t<img \\n\\t\\t\\t\\t\\t\\t\\t     data-src=\"https://s.pstatic.net/dthumb.phinf/?src&#x3D;%22https%3A%2F%2Fs.pstatic.net%2Ftvcast.phinf%2F20221209_42%2FNUZVD_1670592091563q9zcD_JPEG%2F63932d8363714b9795d4c040_upload_1670590676743.jpeg%22&amp;type&#x3D;nf464_260\" alt=\"\" width=\"232\" height=\"130\"\\n\\t\\t\\t\\t\\t\\t\\t     onerror=\"this.outerHTML=\\'<span class=\\\\\\'pm_noimg\\\\\\'><span class=\\\\\\'noimg_text\\\\\\'>\\xec\\x9d\\xb4\\xeb\\xaf\\xb8\\xec\\xa7\\x80 \\xec\\xa4\\x80\\xeb\\xb9\\x84\\xec\\xa4\\x91</span></span>\\'\">\\n\\n\\t\\t\\t\\t\\t\\t\\t\\n\\t\\t\\t\\t\\t\\t\\t\\t<span class=\"thumb_dim\"></span>\\n\\t\\t\\t\\t\\t\\t\\t\\t<span class=\"thumb_bd\"></span>\\n\\t\\t\\t\\t\\t\\t\\t\\t<i class=\"pm_ico_play\"><span class=\"blind\">\\xec\\x9e\\xac\\xec\\x83\\x9d</span></i>\\n\\t\\t\\t\\t\\t\\t\\t\\t<span class=\"theme_runtime\"><span class=\"runtime_bg\">\\xec\\x9e\\xac\\xec\\x83\\x9d\\xec\\x8b\\x9c\\xea\\xb0\\x84</span><em\\n\\t\\t\\t\\t\\t\\t\\t\\t\\t\\tclass=\"time\">9:02</em></span>\\n\\t\\t\\t\\t\\t\\t\\t\\n\\t\\t\\t\\t\\t\\t</div>\\n\\t\\t\\t\\t\\t\\t<div class=\"media_info\">\\n\\t\\t\\t\\t\\t\\t\\t<div class=\"info_box\">\\n\\t\\t\\t\\t\\t\\t\\t\\t\\n\\t\\t\\t\\t\\t\\t\\t\\t\\t<em class=\"theme_category\">TV \\xec\\x98\\x88\\xeb\\x8a\\xa5</em>\\n\\t\\t\\t\\t\\t\\t\\t\\t\\n\\t\\t\\t\\t\\t\\t\\t\\t\\n\\t\\t\\t\\t\\t\\t\\t\\t<strong class=\"title \">\\xec\\xb0\\xac\\xeb\\x98\\x90\\xeb\\xb0\\xb1\\xeb\\xb0\\x98\\xec\\xa7\\x91 \\xec\\x98\\xa4\\xed\\x94\\x88\\xe2\\x98\\x85\\xec\\xb0\\xac\\xec\\x9b\\x90 \\xec\\x86\\x90\\xeb\\xa7\\x9b \\xea\\xb0\\x80\\xeb\\x93\\x9d \\xeb\\xb0\\xb1\\xeb\\xb0\\x98\\xeb\\xb6\\x80\\xed\\x84\\xb0 \\xec\\x84\\xb8\\xec\\x8b\\xac\\xed\\x95\\x9c \\xec\\x84\\x9c\\xeb\\xb9\\x99\\xec\\x97\\x90 \\xea\\xb0\\x90\\xeb\\x8f\\x99\\xed\\x95\\x9c \\xec\\x86\\x90\\xeb\\x8b\\x98\\xeb\\x93\\xa4 | KBS 221209 \\xeb\\xb0\\xa9\\xec\\x86\\xa1</strong>\\n\\t\\t\\t\\t\\t\\t\\t\\t<div class=\"source_wrap\">\\n\\t\\t\\t\\t\\t\\t\\t\\t\\t\\n\\t\\t\\t\\t\\t\\t\\t\\t\\t\\t<span class=\"date\">4\\xec\\x9d\\xbc \\xec\\xa0\\x84</span>\\n\\t\\t\\t\\t\\t\\t\\t\\t\\t\\t<span class=\"source\">\\n\\t\\t\\t\\t\\t\\t\\t\\t\\t\\t\\t\\n\\t\\t\\t\\t\\t\\t\\t\\t\\t\\t<span class=\"source_inner\">\\xec\\x8b\\xa0\\xec\\x83\\x81\\xec\\xb6\\x9c\\xec\\x8b\\x9c \\xed\\x8e\\xb8\\xec\\x8a\\xa4\\xed\\x86\\xa0\\xeb\\x9e\\x91</span>\\n\\t\\t\\t\\t\\t\\t\\t\\t\\t\\t</span>\\n\\t\\t\\t\\t\\t\\t\\t\\t\\t\\n\\t\\t\\t\\t\\t\\t\\t\\t</div>\\n\\t\\t\\t\\t\\t\\t\\t</div>\\n\\t\\t\\t\\t\\t\\t</div>\\n\\t\\t\\t\\t\\t</a>\\n\\t\\t\\t\\t\\n\\t\\t\\t\\n\\t\\t\\t\\t\\n\\t\\t\\t\\t\\t<a href=\"https://tv.naver.com/v/31583379\" class=\"media_area\" data-da-position=\"true\" data-gdid=\"PC-THEME-ENTER-RANKING-3[materials][4]\"\\n\\t\\t\\t\\t\\t   data-clk=\"tcc_tvc.list4cont5\" target=\"_blank\">\\n\\t\\t\\t\\t\\t\\t<div class=\"media_thumb\">\\n\\t\\t\\t\\t\\t\\t\\t<img \\n\\t\\t\\t\\t\\t\\t\\t     data-src=\"https://s.pstatic.net/dthumb.phinf/?src&#x3D;%22https%3A%2F%2Fs.pstatic.net%2Ftvcast.phinf%2F20221213_209%2FFXBBE_1670939494869yzn5E_JPEG%2F63987d9163714b9795d525bf_upload_1670938512657.jpeg%22&amp;type&#x3D;nf464_260\" alt=\"\" width=\"232\" height=\"130\"\\n\\t\\t\\t\\t\\t\\t\\t     onerror=\"this.outerHTML=\\'<span class=\\\\\\'pm_noimg\\\\\\'><span class=\\\\\\'noimg_text\\\\\\'>\\xec\\x9d\\xb4\\xeb\\xaf\\xb8\\xec\\xa7\\x80 \\xec\\xa4\\x80\\xeb\\xb9\\x84\\xec\\xa4\\x91</span></span>\\'\">\\n\\n\\t\\t\\t\\t\\t\\t\\t\\n\\t\\t\\t\\t\\t\\t\\t\\t<span class=\"thumb_dim\"></span>\\n\\t\\t\\t\\t\\t\\t\\t\\t<span class=\"thumb_bd\"></span>\\n\\t\\t\\t\\t\\t\\t\\t\\t<i class=\"pm_ico_play\"><span class=\"blind\">\\xec\\x9e\\xac\\xec\\x83\\x9d</span></i>\\n\\t\\t\\t\\t\\t\\t\\t\\t<span class=\"theme_runtime\"><span class=\"runtime_bg\">\\xec\\x9e\\xac\\xec\\x83\\x9d\\xec\\x8b\\x9c\\xea\\xb0\\x84</span><em\\n\\t\\t\\t\\t\\t\\t\\t\\t\\t\\tclass=\"time\">2:24</em></span>\\n\\t\\t\\t\\t\\t\\t\\t\\n\\t\\t\\t\\t\\t\\t</div>\\n\\t\\t\\t\\t\\t\\t<div class=\"media_info\">\\n\\t\\t\\t\\t\\t\\t\\t<div class=\"info_box\">\\n\\t\\t\\t\\t\\t\\t\\t\\t\\n\\t\\t\\t\\t\\t\\t\\t\\t\\t<em class=\"theme_category\">TV \\xeb\\x93\\x9c\\xeb\\x9d\\xbc\\xeb\\xa7\\x88</em>\\n\\t\\t\\t\\t\\t\\t\\t\\t\\n\\t\\t\\t\\t\\t\\t\\t\\t\\n\\t\\t\\t\\t\\t\\t\\t\\t<strong class=\"title \">\\xef\\xbc\\x82\\xec\\x9d\\xbc\\xec\\xb0\\x8d \\xec\\xa2\\x80 \\xec\\x98\\xa4\\xec\\xa7\\x80..\\xef\\xbc\\x82\\xec\\x95\\x84\\xec\\x89\\xac\\xec\\x9b\\x80\\xec\\x9d\\xb4 \\xea\\xb0\\x80\\xeb\\x93\\x9d\\xed\\x95\\x9c \\xec\\xb5\\x9c\\xeb\\x8c\\x80\\xed\\x9b\\x88\\xec\\x9d\\x98 \\xec\\x86\\x8d\\xeb\\xa7\\x88\\xec\\x9d\\x8c, \\xec\\x9d\\xb4\\xeb\\x9f\\xac\\xeb\\x82\\x98 \\xec\\xa0\\x80\\xeb\\x9f\\xac\\xeb\\x82\\x98 \\xed\\x95\\xa0\\xeb\\xa8\\xb8\\xeb\\x8b\\x88\\xea\\xb0\\x80 \\xec\\xa0\\x9c\\xec\\x9d\\xbc \\xec\\x9a\\xb0\\xec\\x84\\xa0! | KBS 221213 \\xeb\\xb0\\xa9\\xec\\x86\\xa1</strong>\\n\\t\\t\\t\\t\\t\\t\\t\\t<div class=\"source_wrap\">\\n\\t\\t\\t\\t\\t\\t\\t\\t\\t\\n\\t\\t\\t\\t\\t\\t\\t\\t\\t\\t<span class=\"date\">16\\xec\\x8b\\x9c\\xea\\xb0\\x84 \\xec\\xa0\\x84</span>\\n\\t\\t\\t\\t\\t\\t\\t\\t\\t\\t<span class=\"source\">\\n\\t\\t\\t\\t\\t\\t\\t\\t\\t\\t\\t\\n\\t\\t\\t\\t\\t\\t\\t\\t\\t\\t<span class=\"source_inner\">\\xec\\xbb\\xa4\\xed\\x8a\\xbc\\xec\\xbd\\x9c</span>\\n\\t\\t\\t\\t\\t\\t\\t\\t\\t\\t</span>\\n\\t\\t\\t\\t\\t\\t\\t\\t\\t\\n\\t\\t\\t\\t\\t\\t\\t\\t</div>\\n\\t\\t\\t\\t\\t\\t\\t</div>\\n\\t\\t\\t\\t\\t\\t</div>\\n\\t\\t\\t\\t\\t</a>\\n\\t\\t\\t\\t\\n\\t\\t\\t\\n\\t\\t\\t\\t\\n\\t\\t\\t\\t\\t<a href=\"https://tv.naver.com/v/31575482\" class=\"media_area\" data-da-position=\"true\" data-gdid=\"PC-THEME-ENTER-RANKING-3[materials][5]\"\\n\\t\\t\\t\\t\\t   data-clk=\"tcc_tvc.list4cont6\" target=\"_blank\">\\n\\t\\t\\t\\t\\t\\t<div class=\"media_thumb\">\\n\\t\\t\\t\\t\\t\\t\\t<img \\n\\t\\t\\t\\t\\t\\t\\t     data-src=\"https://s.pstatic.net/dthumb.phinf/?src&#x3D;%22https%3A%2F%2Fs.pstatic.net%2Ftvcast.phinf%2F20221213_9%2F6ucAR_1670921794836PXP7l_JPEG%2F940b3290-48ae-4105-8496-4dbd92b9e415_B.jpg%22&amp;type&#x3D;nf464_260\" alt=\"\" width=\"232\" height=\"130\"\\n\\t\\t\\t\\t\\t\\t\\t     onerror=\"this.outerHTML=\\'<span class=\\\\\\'pm_noimg\\\\\\'><span class=\\\\\\'noimg_text\\\\\\'>\\xec\\x9d\\xb4\\xeb\\xaf\\xb8\\xec\\xa7\\x80 \\xec\\xa4\\x80\\xeb\\xb9\\x84\\xec\\xa4\\x91</span></span>\\'\">\\n\\n\\t\\t\\t\\t\\t\\t\\t\\n\\t\\t\\t\\t\\t\\t\\t\\t<span class=\"thumb_dim\"></span>\\n\\t\\t\\t\\t\\t\\t\\t\\t<span class=\"thumb_bd\"></span>\\n\\t\\t\\t\\t\\t\\t\\t\\t<i class=\"pm_ico_play\"><span class=\"blind\">\\xec\\x9e\\xac\\xec\\x83\\x9d</span></i>\\n\\t\\t\\t\\t\\t\\t\\t\\t<span class=\"theme_runtime\"><span class=\"runtime_bg\">\\xec\\x9e\\xac\\xec\\x83\\x9d\\xec\\x8b\\x9c\\xea\\xb0\\x84</span><em\\n\\t\\t\\t\\t\\t\\t\\t\\t\\t\\tclass=\"time\">25:26</em></span>\\n\\t\\t\\t\\t\\t\\t\\t\\n\\t\\t\\t\\t\\t\\t</div>\\n\\t\\t\\t\\t\\t\\t<div class=\"media_info\">\\n\\t\\t\\t\\t\\t\\t\\t<div class=\"info_box\">\\n\\t\\t\\t\\t\\t\\t\\t\\t\\n\\t\\t\\t\\t\\t\\t\\t\\t\\t<em class=\"theme_category\">TV \\xeb\\x93\\x9c\\xeb\\x9d\\xbc\\xeb\\xa7\\x88</em>\\n\\t\\t\\t\\t\\t\\t\\t\\t\\n\\t\\t\\t\\t\\t\\t\\t\\t\\n\\t\\t\\t\\t\\t\\t\\t\\t<strong class=\"title \">[\\xec\\x88\\xa0\\xec\\x82\\xac\\xeb\\x93\\xa4\\xec\\x9d\\x98 \\xeb\\xaf\\xb8\\xeb\\x8b\\x88 \\xed\\x86\\xa0\\xed\\x81\\xac\\xec\\x87\\xbc] \\xed\\x99\\x98\\xed\\x98\\xbc\\xec\\xa6\\x88\\xea\\xb0\\x80 \\xeb\\x8b\\xa4 \\xec\\x95\\x8c\\xeb\\xa0\\xa4\\xeb\\x93\\x9c\\xeb\\xa6\\xbd\\xeb\\x8b\\x88\\xeb\\x8b\\xa4! 1-2\\xed\\x99\\x94 \\xeb\\xb9\\x84\\xed\\x95\\x98\\xec\\x9d\\xb8\\xeb\\x93\\x9c\\xeb\\xb6\\x80\\xed\\x84\\xb0 3-4\\xed\\x99\\x94 \\xec\\x8a\\xa4\\xed\\x8f\\xac\\xea\\xb9\\x8c\\xec\\xa7\\x80\\xe2\\x98\\x85</strong>\\n\\t\\t\\t\\t\\t\\t\\t\\t<div class=\"source_wrap\">\\n\\t\\t\\t\\t\\t\\t\\t\\t\\t\\n\\t\\t\\t\\t\\t\\t\\t\\t\\t\\t<span class=\"date\">21\\xec\\x8b\\x9c\\xea\\xb0\\x84 \\xec\\xa0\\x84</span>\\n\\t\\t\\t\\t\\t\\t\\t\\t\\t\\t<span class=\"source\">\\n\\t\\t\\t\\t\\t\\t\\t\\t\\t\\t\\t\\n\\t\\t\\t\\t\\t\\t\\t\\t\\t\\t<span class=\"source_inner\">\\xed\\x99\\x98\\xed\\x98\\xbc: \\xeb\\xb9\\x9b\\xea\\xb3\\xbc \\xea\\xb7\\xb8\\xeb\\xa6\\xbc\\xec\\x9e\\x90</span>\\n\\t\\t\\t\\t\\t\\t\\t\\t\\t\\t</span>\\n\\t\\t\\t\\t\\t\\t\\t\\t\\t\\n\\t\\t\\t\\t\\t\\t\\t\\t</div>\\n\\t\\t\\t\\t\\t\\t\\t</div>\\n\\t\\t\\t\\t\\t\\t</div>\\n\\t\\t\\t\\t\\t</a>\\n\\t\\t\\t\\t\\n\\t\\t\\t\\n\\t\\t\\t\\t\\n\\t\\t\\t\\t\\t<a href=\"https://tv.naver.com/v/26089862\" class=\"media_area\" data-da-position=\"true\" data-gdid=\"PC-THEME-ENTER-RANKING-3[materials][6]\"\\n\\t\\t\\t\\t\\t   data-clk=\"tcc_tvc.list4cont7\" target=\"_blank\">\\n\\t\\t\\t\\t\\t\\t<div class=\"media_thumb\">\\n\\t\\t\\t\\t\\t\\t\\t<img \\n\\t\\t\\t\\t\\t\\t\\t     data-src=\"https://s.pstatic.net/dthumb.phinf/?src&#x3D;%22https%3A%2F%2Fphinf.pstatic.net%2Ftvcast%2F20220407_92%2FHC8C8_1649302841919TEKmh_JPEG%2F1649302731434.jpg%22&amp;type&#x3D;nf464_260\" alt=\"\" width=\"232\" height=\"130\"\\n\\t\\t\\t\\t\\t\\t\\t     onerror=\"this.outerHTML=\\'<span class=\\\\\\'pm_noimg\\\\\\'><span class=\\\\\\'noimg_text\\\\\\'>\\xec\\x9d\\xb4\\xeb\\xaf\\xb8\\xec\\xa7\\x80 \\xec\\xa4\\x80\\xeb\\xb9\\x84\\xec\\xa4\\x91</span></span>\\'\">\\n\\n\\t\\t\\t\\t\\t\\t\\t\\n\\t\\t\\t\\t\\t\\t\\t\\t<span class=\"thumb_dim\"></span>\\n\\t\\t\\t\\t\\t\\t\\t\\t<span class=\"thumb_bd\"></span>\\n\\t\\t\\t\\t\\t\\t\\t\\t<i class=\"pm_ico_play\"><span class=\"blind\">\\xec\\x9e\\xac\\xec\\x83\\x9d</span></i>\\n\\t\\t\\t\\t\\t\\t\\t\\t<span class=\"theme_runtime\"><span class=\"runtime_bg\">\\xec\\x9e\\xac\\xec\\x83\\x9d\\xec\\x8b\\x9c\\xea\\xb0\\x84</span><em\\n\\t\\t\\t\\t\\t\\t\\t\\t\\t\\tclass=\"time\">0:32</em></span>\\n\\t\\t\\t\\t\\t\\t\\t\\n\\t\\t\\t\\t\\t\\t</div>\\n\\t\\t\\t\\t\\t\\t<div class=\"media_info\">\\n\\t\\t\\t\\t\\t\\t\\t<div class=\"info_box\">\\n\\t\\t\\t\\t\\t\\t\\t\\t\\n\\t\\t\\t\\t\\t\\t\\t\\t\\t<em class=\"theme_category\">\\xec\\x9b\\xb9\\xeb\\x93\\x9c\\xeb\\x9d\\xbc\\xeb\\xa7\\x88</em>\\n\\t\\t\\t\\t\\t\\t\\t\\t\\n\\t\\t\\t\\t\\t\\t\\t\\t\\n\\t\\t\\t\\t\\t\\t\\t\\t<strong class=\"title \">\\xeb\\x93\\x9c\\xeb\\x9d\\xbc\\xeb\\xa7\\x88 \\'\\xeb\\x82\\xb4\\xec\\x9d\\xbc\\'\\xec\\x9d\\x98 \\xec\\x9b\\x90\\xec\\x9e\\x91 \\xec\\x9b\\xb9\\xed\\x88\\xb0 - \\xec\\xb2\\xab \\xec\\xa7\\x81\\xec\\x9e\\xa5\\xec\\x9d\\xb4 \\xec\\xa0\\x80\\xec\\x8a\\xb9\\xec\\x9d\\xb4 \\xeb\\x90\\x98\\xec\\x96\\xb4\\xeb\\xb2\\x84\\xeb\\xa6\\xb0 \\xec\\xb7\\xa8\\xec\\xa4\\x80\\xec\\x83\\x9d #\\xec\\x9b\\xb9\\xed\\x88\\xb0\\xeb\\x82\\xb4\\xec\\x9d\\xbc</strong>\\n\\t\\t\\t\\t\\t\\t\\t\\t<div class=\"source_wrap\">\\n\\t\\t\\t\\t\\t\\t\\t\\t\\t\\n\\t\\t\\t\\t\\t\\t\\t\\t\\t\\t<span class=\"date\">8\\xeb\\xb6\\x84 \\xec\\xa0\\x84</span>\\n\\t\\t\\t\\t\\t\\t\\t\\t\\t\\t<span class=\"source\">\\n\\t\\t\\t\\t\\t\\t\\t\\t\\t\\t\\t\\n\\t\\t\\t\\t\\t\\t\\t\\t\\t\\t<span class=\"source_inner\">\\xeb\\x84\\xa4\\xec\\x9d\\xb4\\xeb\\xb2\\x84 \\xec\\x9b\\xb9\\xed\\x88\\xb0</span>\\n\\t\\t\\t\\t\\t\\t\\t\\t\\t\\t</span>\\n\\t\\t\\t\\t\\t\\t\\t\\t\\t\\n\\t\\t\\t\\t\\t\\t\\t\\t</div>\\n\\t\\t\\t\\t\\t\\t\\t</div>\\n\\t\\t\\t\\t\\t\\t</div>\\n\\t\\t\\t\\t\\t</a>\\n\\t\\t\\t\\t\\n\\t\\t\\t\\n\\t\\t\\t\\t\\n\\t\\t\\t\\t\\t<a href=\"https://tv.naver.com/v/25021698\" class=\"media_area\" data-da-position=\"true\" data-gdid=\"PC-THEME-ENTER-RANKING-3[materials][7]\"\\n\\t\\t\\t\\t\\t   data-clk=\"tcc_tvc.list4cont8\" target=\"_blank\">\\n\\t\\t\\t\\t\\t\\t<div class=\"media_thumb\">\\n\\t\\t\\t\\t\\t\\t\\t<img \\n\\t\\t\\t\\t\\t\\t\\t     data-src=\"https://s.pstatic.net/dthumb.phinf/?src&#x3D;%22https%3A%2F%2Fphinf.pstatic.net%2Ftvcast%2F20220209_39%2Fv7fJd_164438162266270Jhm_PNG%2F1644381616731.png%22&amp;type&#x3D;nf464_260\" alt=\"\" width=\"232\" height=\"130\"\\n\\t\\t\\t\\t\\t\\t\\t     onerror=\"this.outerHTML=\\'<span class=\\\\\\'pm_noimg\\\\\\'><span class=\\\\\\'noimg_text\\\\\\'>\\xec\\x9d\\xb4\\xeb\\xaf\\xb8\\xec\\xa7\\x80 \\xec\\xa4\\x80\\xeb\\xb9\\x84\\xec\\xa4\\x91</span></span>\\'\">\\n\\n\\t\\t\\t\\t\\t\\t\\t\\n\\t\\t\\t\\t\\t\\t\\t\\t<span class=\"thumb_dim\"></span>\\n\\t\\t\\t\\t\\t\\t\\t\\t<span class=\"thumb_bd\"></span>\\n\\t\\t\\t\\t\\t\\t\\t\\t<i class=\"pm_ico_play\"><span class=\"blind\">\\xec\\x9e\\xac\\xec\\x83\\x9d</span></i>\\n\\t\\t\\t\\t\\t\\t\\t\\t<span class=\"theme_runtime\"><span class=\"runtime_bg\">\\xec\\x9e\\xac\\xec\\x83\\x9d\\xec\\x8b\\x9c\\xea\\xb0\\x84</span><em\\n\\t\\t\\t\\t\\t\\t\\t\\t\\t\\tclass=\"time\">0:57</em></span>\\n\\t\\t\\t\\t\\t\\t\\t\\n\\t\\t\\t\\t\\t\\t</div>\\n\\t\\t\\t\\t\\t\\t<div class=\"media_info\">\\n\\t\\t\\t\\t\\t\\t\\t<div class=\"info_box\">\\n\\t\\t\\t\\t\\t\\t\\t\\t\\n\\t\\t\\t\\t\\t\\t\\t\\t\\t<em class=\"theme_category\">\\xec\\x9b\\xb9\\xec\\x98\\x88\\xeb\\x8a\\xa5</em>\\n\\t\\t\\t\\t\\t\\t\\t\\t\\n\\t\\t\\t\\t\\t\\t\\t\\t\\n\\t\\t\\t\\t\\t\\t\\t\\t<strong class=\"title \">[\\xed\\x99\\x80\\xec\\x9d\\xb8\\xeb\\x9f\\xac\\xeb\\xb8\\x8c] \\xec\\xb0\\xa8\\xea\\xb0\\x91\\xea\\xb2\\x8c\\xeb\\xa7\\x8c \\xeb\\xb3\\xb4\\xec\\x9d\\xb4\\xeb\\x8d\\x98 \\xea\\xb7\\xb8\\xeb\\x85\\x80\\xeb\\x8a\\x94 \\xec\\x8a\\xa4\\xec\\x9c\\x97\\xed\\x95\\x9c \\xe2\\x80\\x98\\xea\\xb0\\x80\\xec\\xa3\\xbd\\xea\\xb3\\xb5\\xeb\\xb0\\xa9 \\xec\\x84\\xa0\\xec\\x83\\x9d\\xeb\\x8b\\x98\\xe2\\x80\\x99?\\xf0\\x9f\\x98\\xb2</strong>\\n\\t\\t\\t\\t\\t\\t\\t\\t<div class=\"source_wrap\">\\n\\t\\t\\t\\t\\t\\t\\t\\t\\t\\n\\t\\t\\t\\t\\t\\t\\t\\t\\t\\t<span class=\"date\">8\\xeb\\xb6\\x84 \\xec\\xa0\\x84</span>\\n\\t\\t\\t\\t\\t\\t\\t\\t\\t\\t<span class=\"source\">\\n\\t\\t\\t\\t\\t\\t\\t\\t\\t\\t\\t\\n\\t\\t\\t\\t\\t\\t\\t\\t\\t\\t<span class=\"source_inner\">\\xec\\x94\\xac\\xec\\xba\\x90\\xec\\xb2\\x98</span>\\n\\t\\t\\t\\t\\t\\t\\t\\t\\t\\t</span>\\n\\t\\t\\t\\t\\t\\t\\t\\t\\t\\n\\t\\t\\t\\t\\t\\t\\t\\t</div>\\n\\t\\t\\t\\t\\t\\t\\t</div>\\n\\t\\t\\t\\t\\t\\t</div>\\n\\t\\t\\t\\t\\t</a>\\n\\t\\t\\t\\t\\n\\t\\t\\t\\n\\t\\t\\t\\t\\n\\t\\t\\t\\t\\t<a href=\"https://tv.naver.com/v/31542066\" class=\"media_area\" data-da-position=\"true\" data-gdid=\"PC-THEME-ENTER-RANKING-3[materials][8]\"\\n\\t\\t\\t\\t\\t   data-clk=\"tcc_tvc.list4cont9\" target=\"_blank\">\\n\\t\\t\\t\\t\\t\\t<div class=\"media_thumb\">\\n\\t\\t\\t\\t\\t\\t\\t<img \\n\\t\\t\\t\\t\\t\\t\\t     data-src=\"https://s.pstatic.net/dthumb.phinf/?src&#x3D;%22https%3A%2F%2Fs.pstatic.net%2Ftvcast.phinf%2F20221212_128%2FGHfzS_167083329342892IRP_JPEG%2F20221212_165724_566_1.jpg%22&amp;type&#x3D;nf464_260\" alt=\"\" width=\"232\" height=\"130\"\\n\\t\\t\\t\\t\\t\\t\\t     onerror=\"this.outerHTML=\\'<span class=\\\\\\'pm_noimg\\\\\\'><span class=\\\\\\'noimg_text\\\\\\'>\\xec\\x9d\\xb4\\xeb\\xaf\\xb8\\xec\\xa7\\x80 \\xec\\xa4\\x80\\xeb\\xb9\\x84\\xec\\xa4\\x91</span></span>\\'\">\\n\\n\\t\\t\\t\\t\\t\\t\\t\\n\\t\\t\\t\\t\\t\\t\\t\\t<span class=\"thumb_dim\"></span>\\n\\t\\t\\t\\t\\t\\t\\t\\t<span class=\"thumb_bd\"></span>\\n\\t\\t\\t\\t\\t\\t\\t\\t<i class=\"pm_ico_play\"><span class=\"blind\">\\xec\\x9e\\xac\\xec\\x83\\x9d</span></i>\\n\\t\\t\\t\\t\\t\\t\\t\\t<span class=\"theme_runtime\"><span class=\"runtime_bg\">\\xec\\x9e\\xac\\xec\\x83\\x9d\\xec\\x8b\\x9c\\xea\\xb0\\x84</span><em\\n\\t\\t\\t\\t\\t\\t\\t\\t\\t\\tclass=\"time\">15:12</em></span>\\n\\t\\t\\t\\t\\t\\t\\t\\n\\t\\t\\t\\t\\t\\t</div>\\n\\t\\t\\t\\t\\t\\t<div class=\"media_info\">\\n\\t\\t\\t\\t\\t\\t\\t<div class=\"info_box\">\\n\\t\\t\\t\\t\\t\\t\\t\\t\\n\\t\\t\\t\\t\\t\\t\\t\\t\\t<em class=\"theme_category\">TV \\xeb\\x93\\x9c\\xeb\\x9d\\xbc\\xeb\\xa7\\x88</em>\\n\\t\\t\\t\\t\\t\\t\\t\\t\\n\\t\\t\\t\\t\\t\\t\\t\\t\\n\\t\\t\\t\\t\\t\\t\\t\\t<strong class=\"title \">[\\xec\\x8a\\xa4\\xed\\x8e\\x98\\xec\\x85\\x9c] \\xeb\\xb0\\xa5 \\xea\\xb7\\xb8\\xeb\\xa6\\x87 \\xec\\xb1\\x99\\xea\\xb8\\xb0\\xea\\xb8\\xb0 \\xeb\\xb0\\x94\\xec\\x81\\x9c \\xec\\x88\\x9c\\xec\\x96\\x91\\xea\\xb0\\x80\\xec\\x97\\x90\\xec\\x84\\x9c \\xec\\x9c\\xa0\\xec\\x9d\\xbc\\xed\\x95\\x9c \\xec\\x95\\x84\\xeb\\x93\\xa4 \\xeb\\xb0\\x94\\xeb\\x9d\\xbc\\xea\\xb8\\xb0 \\xea\\xb9\\x80\\xec\\x98\\x81\\xec\\x9e\\xac\\xe2\\x9d\\xa4 \\xec\\xa7\\x84\\xeb\\x8f\\x84\\xec\\xa4\\x80X\\xec\\xa7\\x84\\xec\\x9c\\xa4\\xea\\xb8\\xb0 \\xec\\x8a\\xa4\\xed\\x8e\\x98\\xec\\x85\\x9c | JTBC 221211 \\xeb\\xb0\\xa9\\xec\\x86\\xa1</strong>\\n\\t\\t\\t\\t\\t\\t\\t\\t<div class=\"source_wrap\">\\n\\t\\t\\t\\t\\t\\t\\t\\t\\t\\n\\t\\t\\t\\t\\t\\t\\t\\t\\t\\t<span class=\"date\">\\xec\\x96\\xb4\\xec\\xa0\\x9c</span>\\n\\t\\t\\t\\t\\t\\t\\t\\t\\t\\t<span class=\"source\">\\n\\t\\t\\t\\t\\t\\t\\t\\t\\t\\t\\t\\n\\t\\t\\t\\t\\t\\t\\t\\t\\t\\t<span class=\"source_inner\">\\xec\\x9e\\xac\\xeb\\xb2\\x8c\\xec\\xa7\\x91 \\xeb\\xa7\\x89\\xeb\\x82\\xb4\\xec\\x95\\x84\\xeb\\x93\\xa4</span>\\n\\t\\t\\t\\t\\t\\t\\t\\t\\t\\t</span>\\n\\t\\t\\t\\t\\t\\t\\t\\t\\t\\n\\t\\t\\t\\t\\t\\t\\t\\t</div>\\n\\t\\t\\t\\t\\t\\t\\t</div>\\n\\t\\t\\t\\t\\t\\t</div>\\n\\t\\t\\t\\t\\t</a>\\n\\t\\t\\t\\t\\n\\t\\t\\t\\n\\t\\t</div>\\n\\t</div>\\n</div>\\n\\n<div class=\"group_theme\" data-block-id=\"5db0bbf2d6902f284eaffb93\" data-block-code=\"PC-THEME-ENTER-RANKING-4\" data-block-type=\"MATERIALS\" data-template-code=\"3X3\"\\n\\n     data-page=\"3\"\\n     style=\"display:none\">\\n\\n\\t<div class=\"media_view_wrap type_column\">\\n\\t\\t<div class=\"media_view\">\\n\\t\\t\\t\\n\\t\\t\\t\\t\\n\\t\\t\\t\\t\\t<a href=\"https://tv.naver.com/v/15583729\" class=\"media_area\" data-da-position=\"true\" data-gdid=\"PC-THEME-ENTER-RANKING-4[materials][0]\"\\n\\t\\t\\t\\t\\t   data-clk=\"tcc_tvc.list5cont1\" target=\"_blank\">\\n\\t\\t\\t\\t\\t\\t<div class=\"media_thumb\">\\n\\t\\t\\t\\t\\t\\t\\t<img \\n\\t\\t\\t\\t\\t\\t\\t     data-src=\"https://s.pstatic.net/dthumb.phinf/?src&#x3D;%22https%3A%2F%2Fphinf.pstatic.net%2Ftvcast%2F20200903_147%2FmPPRy_1599117956868vxcsW_JPEG%2F1599117677709.jpg%22&amp;type&#x3D;nf464_260\" alt=\"\" width=\"232\" height=\"130\"\\n\\t\\t\\t\\t\\t\\t\\t     onerror=\"this.outerHTML=\\'<span class=\\\\\\'pm_noimg\\\\\\'><span class=\\\\\\'noimg_text\\\\\\'>\\xec\\x9d\\xb4\\xeb\\xaf\\xb8\\xec\\xa7\\x80 \\xec\\xa4\\x80\\xeb\\xb9\\x84\\xec\\xa4\\x91</span></span>\\'\">\\n\\n\\t\\t\\t\\t\\t\\t\\t\\n\\t\\t\\t\\t\\t\\t\\t\\t<span class=\"thumb_dim\"></span>\\n\\t\\t\\t\\t\\t\\t\\t\\t<span class=\"thumb_bd\"></span>\\n\\t\\t\\t\\t\\t\\t\\t\\t<i class=\"pm_ico_play\"><span class=\"blind\">\\xec\\x9e\\xac\\xec\\x83\\x9d</span></i>\\n\\t\\t\\t\\t\\t\\t\\t\\t<span class=\"theme_runtime\"><span class=\"runtime_bg\">\\xec\\x9e\\xac\\xec\\x83\\x9d\\xec\\x8b\\x9c\\xea\\xb0\\x84</span><em\\n\\t\\t\\t\\t\\t\\t\\t\\t\\t\\tclass=\"time\">1:40</em></span>\\n\\t\\t\\t\\t\\t\\t\\t\\n\\t\\t\\t\\t\\t\\t</div>\\n\\t\\t\\t\\t\\t\\t<div class=\"media_info\">\\n\\t\\t\\t\\t\\t\\t\\t<div class=\"info_box\">\\n\\t\\t\\t\\t\\t\\t\\t\\t\\n\\t\\t\\t\\t\\t\\t\\t\\t\\t<em class=\"theme_category\">\\xec\\x9b\\xb9\\xeb\\x93\\x9c\\xeb\\x9d\\xbc\\xeb\\xa7\\x88</em>\\n\\t\\t\\t\\t\\t\\t\\t\\t\\n\\t\\t\\t\\t\\t\\t\\t\\t\\n\\t\\t\\t\\t\\t\\t\\t\\t<strong class=\"title \">\\'\\xec\\x97\\xb0\\xec\\x95\\xa0\\xed\\x98\\x81\\xeb\\xaa\\x85\\' - \"4\\xf0\\x9f\\x91\\x82\\xf0\\x9f\\x8f\\xbb\\xf0\\x9f\\x93\\x8f\\xe2\\x80\\x9d \\xec\\x8b\\xa4\\xec\\x82\\xac\\xeb\\xa1\\x9c \\xeb\\xb3\\xb4\\xeb\\x8b\\x88 \\xeb\\x8d\\x94 \\xec\\x8b\\xac\\xec\\xbf\\xb5!?</strong>\\n\\t\\t\\t\\t\\t\\t\\t\\t<div class=\"source_wrap\">\\n\\t\\t\\t\\t\\t\\t\\t\\t\\t\\n\\t\\t\\t\\t\\t\\t\\t\\t\\t\\t<span class=\"date\">8\\xeb\\xb6\\x84 \\xec\\xa0\\x84</span>\\n\\t\\t\\t\\t\\t\\t\\t\\t\\t\\t<span class=\"source\">\\n\\t\\t\\t\\t\\t\\t\\t\\t\\t\\t\\t\\n\\t\\t\\t\\t\\t\\t\\t\\t\\t\\t<span class=\"source_inner\">\\xeb\\x84\\xa4\\xec\\x9d\\xb4\\xeb\\xb2\\x84 \\xec\\x9b\\xb9\\xed\\x88\\xb0</span>\\n\\t\\t\\t\\t\\t\\t\\t\\t\\t\\t</span>\\n\\t\\t\\t\\t\\t\\t\\t\\t\\t\\n\\t\\t\\t\\t\\t\\t\\t\\t</div>\\n\\t\\t\\t\\t\\t\\t\\t</div>\\n\\t\\t\\t\\t\\t\\t</div>\\n\\t\\t\\t\\t\\t</a>\\n\\t\\t\\t\\t\\n\\t\\t\\t\\n\\t\\t\\t\\t\\n\\t\\t\\t\\t\\t<a href=\"https://tv.naver.com/v/31549598\" class=\"media_area\" data-da-position=\"true\" data-gdid=\"PC-THEME-ENTER-RANKING-4[materials][1]\"\\n\\t\\t\\t\\t\\t   data-clk=\"tcc_tvc.list5cont2\" target=\"_blank\">\\n\\t\\t\\t\\t\\t\\t<div class=\"media_thumb\">\\n\\t\\t\\t\\t\\t\\t\\t<img \\n\\t\\t\\t\\t\\t\\t\\t     data-src=\"https://s.pstatic.net/dthumb.phinf/?src&#x3D;%22https%3A%2F%2Fs.pstatic.net%2Ftvcast.phinf%2F20221212_7%2Frdlq7_1670848291743XdY34_JPEG%2Fc1c36f24-5101-48c0-9e76-a7d2c6169bfd_B.jpg%22&amp;type&#x3D;nf464_260\" alt=\"\" width=\"232\" height=\"130\"\\n\\t\\t\\t\\t\\t\\t\\t     onerror=\"this.outerHTML=\\'<span class=\\\\\\'pm_noimg\\\\\\'><span class=\\\\\\'noimg_text\\\\\\'>\\xec\\x9d\\xb4\\xeb\\xaf\\xb8\\xec\\xa7\\x80 \\xec\\xa4\\x80\\xeb\\xb9\\x84\\xec\\xa4\\x91</span></span>\\'\">\\n\\n\\t\\t\\t\\t\\t\\t\\t\\n\\t\\t\\t\\t\\t\\t\\t\\t<span class=\"thumb_dim\"></span>\\n\\t\\t\\t\\t\\t\\t\\t\\t<span class=\"thumb_bd\"></span>\\n\\t\\t\\t\\t\\t\\t\\t\\t<i class=\"pm_ico_play\"><span class=\"blind\">\\xec\\x9e\\xac\\xec\\x83\\x9d</span></i>\\n\\t\\t\\t\\t\\t\\t\\t\\t<span class=\"theme_runtime\"><span class=\"runtime_bg\">\\xec\\x9e\\xac\\xec\\x83\\x9d\\xec\\x8b\\x9c\\xea\\xb0\\x84</span><em\\n\\t\\t\\t\\t\\t\\t\\t\\t\\t\\tclass=\"time\">39:55</em></span>\\n\\t\\t\\t\\t\\t\\t\\t\\n\\t\\t\\t\\t\\t\\t</div>\\n\\t\\t\\t\\t\\t\\t<div class=\"media_info\">\\n\\t\\t\\t\\t\\t\\t\\t<div class=\"info_box\">\\n\\t\\t\\t\\t\\t\\t\\t\\t\\n\\t\\t\\t\\t\\t\\t\\t\\t\\t<em class=\"theme_category\">TV \\xeb\\x93\\x9c\\xeb\\x9d\\xbc\\xeb\\xa7\\x88</em>\\n\\t\\t\\t\\t\\t\\t\\t\\t\\n\\t\\t\\t\\t\\t\\t\\t\\t\\n\\t\\t\\t\\t\\t\\t\\t\\t<strong class=\"title \">[\\xeb\\xb9\\x9b\\xea\\xb3\\xbc \\xea\\xb7\\xb8\\xeb\\xa6\\xbc\\xec\\x9e\\x90\\xec\\x9d\\x98 \\xea\\xb8\\xb0\\xeb\\xa1\\x9d #1] \\xec\\x9d\\xb4\\xec\\x9e\\xac\\xec\\x9a\\xb1X\\xea\\xb3\\xa0\\xec\\x9c\\xa4\\xec\\xa0\\x95\\xec\\x9d\\x98 \\xec\\x9a\\xb4\\xeb\\xaa\\x85\\xec\\xa0\\x81 \\xeb\\xa7\\x8c\\xeb\\x82\\xa8\\xe2\\x99\\xa5 \\xeb\\xa7\\x8c\\xeb\\x82\\x98\\xec\\x9e\\x90\\xeb\\xa7\\x88\\xec\\x9e\\x90 \\xea\\xb9\\x9c\\xec\\xa7\\x9d \\xed\\x98\\xbc\\xec\\x9d\\xb8 \\xeb\\xb0\\x9c\\xed\\x91\\x9c!?</strong>\\n\\t\\t\\t\\t\\t\\t\\t\\t<div class=\"source_wrap\">\\n\\t\\t\\t\\t\\t\\t\\t\\t\\t\\n\\t\\t\\t\\t\\t\\t\\t\\t\\t\\t<span class=\"date\">\\xec\\x96\\xb4\\xec\\xa0\\x9c</span>\\n\\t\\t\\t\\t\\t\\t\\t\\t\\t\\t<span class=\"source\">\\n\\t\\t\\t\\t\\t\\t\\t\\t\\t\\t\\t\\n\\t\\t\\t\\t\\t\\t\\t\\t\\t\\t<span class=\"source_inner\">\\xed\\x99\\x98\\xed\\x98\\xbc: \\xeb\\xb9\\x9b\\xea\\xb3\\xbc \\xea\\xb7\\xb8\\xeb\\xa6\\xbc\\xec\\x9e\\x90</span>\\n\\t\\t\\t\\t\\t\\t\\t\\t\\t\\t</span>\\n\\t\\t\\t\\t\\t\\t\\t\\t\\t\\n\\t\\t\\t\\t\\t\\t\\t\\t</div>\\n\\t\\t\\t\\t\\t\\t\\t</div>\\n\\t\\t\\t\\t\\t\\t</div>\\n\\t\\t\\t\\t\\t</a>\\n\\t\\t\\t\\t\\n\\t\\t\\t\\n\\t\\t\\t\\t\\n\\t\\t\\t\\t\\t<a href=\"https://tv.naver.com/v/31335222\" class=\"media_area\" data-da-position=\"true\" data-gdid=\"PC-THEME-ENTER-RANKING-4[materials][2]\"\\n\\t\\t\\t\\t\\t   data-clk=\"tcc_tvc.list5cont3\" target=\"_blank\">\\n\\t\\t\\t\\t\\t\\t<div class=\"media_thumb\">\\n\\t\\t\\t\\t\\t\\t\\t<img \\n\\t\\t\\t\\t\\t\\t\\t     data-src=\"https://s.pstatic.net/dthumb.phinf/?src&#x3D;%22https%3A%2F%2Fs.pstatic.net%2Ftvcast.phinf%2F20221205_130%2Fxq7Ji_1670203347837mJJ5j_JPEG%2FC202100015_8_202212020400423421.jpg%22&amp;type&#x3D;nf464_260\" alt=\"\" width=\"232\" height=\"130\"\\n\\t\\t\\t\\t\\t\\t\\t     onerror=\"this.outerHTML=\\'<span class=\\\\\\'pm_noimg\\\\\\'><span class=\\\\\\'noimg_text\\\\\\'>\\xec\\x9d\\xb4\\xeb\\xaf\\xb8\\xec\\xa7\\x80 \\xec\\xa4\\x80\\xeb\\xb9\\x84\\xec\\xa4\\x91</span></span>\\'\">\\n\\n\\t\\t\\t\\t\\t\\t\\t\\n\\t\\t\\t\\t\\t\\t\\t\\t<span class=\"thumb_dim\"></span>\\n\\t\\t\\t\\t\\t\\t\\t\\t<span class=\"thumb_bd\"></span>\\n\\t\\t\\t\\t\\t\\t\\t\\t<i class=\"pm_ico_play\"><span class=\"blind\">\\xec\\x9e\\xac\\xec\\x83\\x9d</span></i>\\n\\t\\t\\t\\t\\t\\t\\t\\t<span class=\"theme_runtime\"><span class=\"runtime_bg\">\\xec\\x9e\\xac\\xec\\x83\\x9d\\xec\\x8b\\x9c\\xea\\xb0\\x84</span><em\\n\\t\\t\\t\\t\\t\\t\\t\\t\\t\\tclass=\"time\">0:47</em></span>\\n\\t\\t\\t\\t\\t\\t\\t\\n\\t\\t\\t\\t\\t\\t</div>\\n\\t\\t\\t\\t\\t\\t<div class=\"media_info\">\\n\\t\\t\\t\\t\\t\\t\\t<div class=\"info_box\">\\n\\t\\t\\t\\t\\t\\t\\t\\t\\n\\t\\t\\t\\t\\t\\t\\t\\t\\t<em class=\"theme_category\">TV \\xec\\x98\\x88\\xeb\\x8a\\xa5</em>\\n\\t\\t\\t\\t\\t\\t\\t\\t\\n\\t\\t\\t\\t\\t\\t\\t\\t\\n\\t\\t\\t\\t\\t\\t\\t\\t<strong class=\"title \">[\\xeb\\xaf\\xb8\\xec\\x8a\\xa4\\xed\\x84\\xb0\\xed\\x8a\\xb8\\xeb\\xa1\\xaf2] \\xeb\\xb0\\x95\\xec\\x84\\x9c\\xec\\xa7\\x84 - \\xec\\x98\\x88\\xec\\x84\\xa0\\xec\\xb0\\xb8\\xea\\xb0\\x80\\xec\\x9e\\x90</strong>\\n\\t\\t\\t\\t\\t\\t\\t\\t<div class=\"source_wrap\">\\n\\t\\t\\t\\t\\t\\t\\t\\t\\t\\n\\t\\t\\t\\t\\t\\t\\t\\t\\t\\t<span class=\"date\">1\\xec\\xa3\\xbc\\xec\\x9d\\xbc \\xec\\xa0\\x84</span>\\n\\t\\t\\t\\t\\t\\t\\t\\t\\t\\t<span class=\"source\">\\n\\t\\t\\t\\t\\t\\t\\t\\t\\t\\t\\t\\n\\t\\t\\t\\t\\t\\t\\t\\t\\t\\t<span class=\"source_inner\">\\xeb\\xaf\\xb8\\xec\\x8a\\xa4\\xed\\x84\\xb0\\xed\\x8a\\xb8\\xeb\\xa1\\xaf2</span>\\n\\t\\t\\t\\t\\t\\t\\t\\t\\t\\t</span>\\n\\t\\t\\t\\t\\t\\t\\t\\t\\t\\n\\t\\t\\t\\t\\t\\t\\t\\t</div>\\n\\t\\t\\t\\t\\t\\t\\t</div>\\n\\t\\t\\t\\t\\t\\t</div>\\n\\t\\t\\t\\t\\t</a>\\n\\t\\t\\t\\t\\n\\t\\t\\t\\n\\t\\t\\t\\t\\n\\t\\t\\t\\t\\t<a href=\"https://tv.naver.com/v/30777559\" class=\"media_area\" data-da-position=\"true\" data-gdid=\"PC-THEME-ENTER-RANKING-4[materials][3]\"\\n\\t\\t\\t\\t\\t   data-clk=\"tcc_tvc.list5cont4\" target=\"_blank\">\\n\\t\\t\\t\\t\\t\\t<div class=\"media_thumb\">\\n\\t\\t\\t\\t\\t\\t\\t<img \\n\\t\\t\\t\\t\\t\\t\\t     data-src=\"https://s.pstatic.net/dthumb.phinf/?src&#x3D;%22https%3A%2F%2Fphinf.pstatic.net%2Ftvcast%2F20221115_244%2Fvwjmw_1668480168601fESgn_JPEG%2F1668479907266.jpg%22&amp;type&#x3D;nf464_260\" alt=\"\" width=\"232\" height=\"130\"\\n\\t\\t\\t\\t\\t\\t\\t     onerror=\"this.outerHTML=\\'<span class=\\\\\\'pm_noimg\\\\\\'><span class=\\\\\\'noimg_text\\\\\\'>\\xec\\x9d\\xb4\\xeb\\xaf\\xb8\\xec\\xa7\\x80 \\xec\\xa4\\x80\\xeb\\xb9\\x84\\xec\\xa4\\x91</span></span>\\'\">\\n\\n\\t\\t\\t\\t\\t\\t\\t\\n\\t\\t\\t\\t\\t\\t\\t\\t<span class=\"thumb_dim\"></span>\\n\\t\\t\\t\\t\\t\\t\\t\\t<span class=\"thumb_bd\"></span>\\n\\t\\t\\t\\t\\t\\t\\t\\t<i class=\"pm_ico_play\"><span class=\"blind\">\\xec\\x9e\\xac\\xec\\x83\\x9d</span></i>\\n\\t\\t\\t\\t\\t\\t\\t\\t<span class=\"theme_runtime\"><span class=\"runtime_bg\">\\xec\\x9e\\xac\\xec\\x83\\x9d\\xec\\x8b\\x9c\\xea\\xb0\\x84</span><em\\n\\t\\t\\t\\t\\t\\t\\t\\t\\t\\tclass=\"time\">2:0</em></span>\\n\\t\\t\\t\\t\\t\\t\\t\\n\\t\\t\\t\\t\\t\\t</div>\\n\\t\\t\\t\\t\\t\\t<div class=\"media_info\">\\n\\t\\t\\t\\t\\t\\t\\t<div class=\"info_box\">\\n\\t\\t\\t\\t\\t\\t\\t\\t\\n\\t\\t\\t\\t\\t\\t\\t\\t\\t<em class=\"theme_category\">\\xec\\x9b\\xb9\\xeb\\x93\\x9c\\xeb\\x9d\\xbc\\xeb\\xa7\\x88</em>\\n\\t\\t\\t\\t\\t\\t\\t\\t\\n\\t\\t\\t\\t\\t\\t\\t\\t\\n\\t\\t\\t\\t\\t\\t\\t\\t<strong class=\"title \">\\xec\\x9b\\x90\\xed\\x83\\x91 \\xed\\x95\\x99\\xec\\x9b\\x90\\xeb\\xac\\xbc\\xec\\x9d\\xb4 \\xec\\x97\\xb0\\xea\\xb8\\xb0\\xed\\x8c\\x8c \\xeb\\xb0\\xb0\\xec\\x9a\\xb0\\xeb\\x93\\xa4\\xec\\x9d\\x84 \\xeb\\xa7\\x8c\\xeb\\x82\\x98\\xeb\\xa9\\xb4? - \\xeb\\x93\\x9c\\xeb\\x9d\\xbc\\xeb\\xa7\\x88 \\xe2\\x80\\x98\\xec\\x95\\xbd\\xed\\x95\\x9c\\xec\\x98\\x81\\xec\\x9b\\x85\\' \\xec\\xba\\x90\\xeb\\xa6\\xad\\xed\\x84\\xb0 \\xec\\x86\\x8c\\xea\\xb0\\x9c</strong>\\n\\t\\t\\t\\t\\t\\t\\t\\t<div class=\"source_wrap\">\\n\\t\\t\\t\\t\\t\\t\\t\\t\\t\\n\\t\\t\\t\\t\\t\\t\\t\\t\\t\\t<span class=\"date\">8\\xeb\\xb6\\x84 \\xec\\xa0\\x84</span>\\n\\t\\t\\t\\t\\t\\t\\t\\t\\t\\t<span class=\"source\">\\n\\t\\t\\t\\t\\t\\t\\t\\t\\t\\t\\t\\n\\t\\t\\t\\t\\t\\t\\t\\t\\t\\t<span class=\"source_inner\">\\xeb\\x84\\xa4\\xec\\x9d\\xb4\\xeb\\xb2\\x84 \\xec\\x9b\\xb9\\xed\\x88\\xb0</span>\\n\\t\\t\\t\\t\\t\\t\\t\\t\\t\\t</span>\\n\\t\\t\\t\\t\\t\\t\\t\\t\\t\\n\\t\\t\\t\\t\\t\\t\\t\\t</div>\\n\\t\\t\\t\\t\\t\\t\\t</div>\\n\\t\\t\\t\\t\\t\\t</div>\\n\\t\\t\\t\\t\\t</a>\\n\\t\\t\\t\\t\\n\\t\\t\\t\\n\\t\\t\\t\\t\\n\\t\\t\\t\\t\\t<a href=\"https://tv.naver.com/v/31551383\" class=\"media_area\" data-da-position=\"true\" data-gdid=\"PC-THEME-ENTER-RANKING-4[materials][4]\"\\n\\t\\t\\t\\t\\t   data-clk=\"tcc_tvc.list5cont5\" target=\"_blank\">\\n\\t\\t\\t\\t\\t\\t<div class=\"media_thumb\">\\n\\t\\t\\t\\t\\t\\t\\t<img \\n\\t\\t\\t\\t\\t\\t\\t     data-src=\"https://s.pstatic.net/dthumb.phinf/?src&#x3D;%22https%3A%2F%2Fs.pstatic.net%2Ftvcast.phinf%2F20221212_190%2FaRmfT_1670851650601HFfD8_JPEG%2F63972730c0c963e649776a78_upload_1670850879857.jpeg%22&amp;type&#x3D;nf464_260\" alt=\"\" width=\"232\" height=\"130\"\\n\\t\\t\\t\\t\\t\\t\\t     onerror=\"this.outerHTML=\\'<span class=\\\\\\'pm_noimg\\\\\\'><span class=\\\\\\'noimg_text\\\\\\'>\\xec\\x9d\\xb4\\xeb\\xaf\\xb8\\xec\\xa7\\x80 \\xec\\xa4\\x80\\xeb\\xb9\\x84\\xec\\xa4\\x91</span></span>\\'\">\\n\\n\\t\\t\\t\\t\\t\\t\\t\\n\\t\\t\\t\\t\\t\\t\\t\\t<span class=\"thumb_dim\"></span>\\n\\t\\t\\t\\t\\t\\t\\t\\t<span class=\"thumb_bd\"></span>\\n\\t\\t\\t\\t\\t\\t\\t\\t<i class=\"pm_ico_play\"><span class=\"blind\">\\xec\\x9e\\xac\\xec\\x83\\x9d</span></i>\\n\\t\\t\\t\\t\\t\\t\\t\\t<span class=\"theme_runtime\"><span class=\"runtime_bg\">\\xec\\x9e\\xac\\xec\\x83\\x9d\\xec\\x8b\\x9c\\xea\\xb0\\x84</span><em\\n\\t\\t\\t\\t\\t\\t\\t\\t\\t\\tclass=\"time\">2:59</em></span>\\n\\t\\t\\t\\t\\t\\t\\t\\n\\t\\t\\t\\t\\t\\t</div>\\n\\t\\t\\t\\t\\t\\t<div class=\"media_info\">\\n\\t\\t\\t\\t\\t\\t\\t<div class=\"info_box\">\\n\\t\\t\\t\\t\\t\\t\\t\\t\\n\\t\\t\\t\\t\\t\\t\\t\\t\\t<em class=\"theme_category\">TV \\xeb\\x93\\x9c\\xeb\\x9d\\xbc\\xeb\\xa7\\x88</em>\\n\\t\\t\\t\\t\\t\\t\\t\\t\\n\\t\\t\\t\\t\\t\\t\\t\\t\\n\\t\\t\\t\\t\\t\\t\\t\\t<strong class=\"title \">\\xeb\\x85\\xb8\\xec\\x83\\x81\\xed\\x98\\x84\\xec\\x97\\x90 \\xec\\xa1\\xb0\\xec\\x8b\\xac\\xec\\x8a\\xa4\\xeb\\xa0\\x88 \\xea\\xb0\\x95\\xed\\x95\\x98\\xeb\\x8a\\x98\\xea\\xb3\\xbc \\xeb\\xa7\\x8c\\xeb\\x82\\x9c \\xec\\x9d\\xb4\\xec\\x95\\xbc\\xea\\xb8\\xb0\\xeb\\xa5\\xbc \\xea\\xba\\xbc\\xeb\\x82\\xb4\\xeb\\x8a\\x94 \\xea\\xb3\\xa0\\xeb\\x91\\x90\\xec\\x8b\\xac\\xc2\\xb7\\xc2\\xb7\\xc2\\xb7 \\xe2\\x80\\x9c\\xec\\x86\\x90\\xec\\x9e\\x90\\xea\\xb0\\x80 \\xec\\xb0\\xbe\\xec\\x95\\x84\\xec\\x99\\x94\\xec\\x86\\x8c\\xe2\\x80\\x9d | KBS 221212 \\xeb\\xb0\\xa9\\xec\\x86\\xa1</strong>\\n\\t\\t\\t\\t\\t\\t\\t\\t<div class=\"source_wrap\">\\n\\t\\t\\t\\t\\t\\t\\t\\t\\t\\n\\t\\t\\t\\t\\t\\t\\t\\t\\t\\t<span class=\"date\">\\xec\\x96\\xb4\\xec\\xa0\\x9c</span>\\n\\t\\t\\t\\t\\t\\t\\t\\t\\t\\t<span class=\"source\">\\n\\t\\t\\t\\t\\t\\t\\t\\t\\t\\t\\t\\n\\t\\t\\t\\t\\t\\t\\t\\t\\t\\t<span class=\"source_inner\">\\xec\\xbb\\xa4\\xed\\x8a\\xbc\\xec\\xbd\\x9c</span>\\n\\t\\t\\t\\t\\t\\t\\t\\t\\t\\t</span>\\n\\t\\t\\t\\t\\t\\t\\t\\t\\t\\n\\t\\t\\t\\t\\t\\t\\t\\t</div>\\n\\t\\t\\t\\t\\t\\t\\t</div>\\n\\t\\t\\t\\t\\t\\t</div>\\n\\t\\t\\t\\t\\t</a>\\n\\t\\t\\t\\t\\n\\t\\t\\t\\n\\t\\t\\t\\t\\n\\t\\t\\t\\t\\t<a href=\"https://tv.naver.com/v/15541717\" class=\"media_area\" data-da-position=\"true\" data-gdid=\"PC-THEME-ENTER-RANKING-4[materials][5]\"\\n\\t\\t\\t\\t\\t   data-clk=\"tcc_tvc.list5cont6\" target=\"_blank\">\\n\\t\\t\\t\\t\\t\\t<div class=\"media_thumb\">\\n\\t\\t\\t\\t\\t\\t\\t<img \\n\\t\\t\\t\\t\\t\\t\\t     data-src=\"https://s.pstatic.net/dthumb.phinf/?src&#x3D;%22https%3A%2F%2Fphinf.pstatic.net%2Ftvcast%2F20200901_41%2FLRZkh_1598931189167PP675_JPEG%2F1598930958646.jpg%22&amp;type&#x3D;nf464_260\" alt=\"\" width=\"232\" height=\"130\"\\n\\t\\t\\t\\t\\t\\t\\t     onerror=\"this.outerHTML=\\'<span class=\\\\\\'pm_noimg\\\\\\'><span class=\\\\\\'noimg_text\\\\\\'>\\xec\\x9d\\xb4\\xeb\\xaf\\xb8\\xec\\xa7\\x80 \\xec\\xa4\\x80\\xeb\\xb9\\x84\\xec\\xa4\\x91</span></span>\\'\">\\n\\n\\t\\t\\t\\t\\t\\t\\t\\n\\t\\t\\t\\t\\t\\t\\t\\t<span class=\"thumb_dim\"></span>\\n\\t\\t\\t\\t\\t\\t\\t\\t<span class=\"thumb_bd\"></span>\\n\\t\\t\\t\\t\\t\\t\\t\\t<i class=\"pm_ico_play\"><span class=\"blind\">\\xec\\x9e\\xac\\xec\\x83\\x9d</span></i>\\n\\t\\t\\t\\t\\t\\t\\t\\t<span class=\"theme_runtime\"><span class=\"runtime_bg\">\\xec\\x9e\\xac\\xec\\x83\\x9d\\xec\\x8b\\x9c\\xea\\xb0\\x84</span><em\\n\\t\\t\\t\\t\\t\\t\\t\\t\\t\\tclass=\"time\">0:18</em></span>\\n\\t\\t\\t\\t\\t\\t\\t\\n\\t\\t\\t\\t\\t\\t</div>\\n\\t\\t\\t\\t\\t\\t<div class=\"media_info\">\\n\\t\\t\\t\\t\\t\\t\\t<div class=\"info_box\">\\n\\t\\t\\t\\t\\t\\t\\t\\t\\n\\t\\t\\t\\t\\t\\t\\t\\t\\t<em class=\"theme_category\">\\xec\\x9b\\xb9\\xeb\\x93\\x9c\\xeb\\x9d\\xbc\\xeb\\xa7\\x88</em>\\n\\t\\t\\t\\t\\t\\t\\t\\t\\n\\t\\t\\t\\t\\t\\t\\t\\t\\n\\t\\t\\t\\t\\t\\t\\t\\t<strong class=\"title \">\\'\\xec\\x97\\xb0\\xec\\x95\\xa0\\xed\\x98\\x81\\xeb\\xaa\\x85\\' - \\xeb\\x93\\x9c\\xeb\\x9d\\xbc\\xeb\\xa7\\x88 9\\xec\\x9b\\x941\\xec\\x9d\\xbc \\xec\\xb2\\xab\\xeb\\xb0\\xa9 \\xeb\\xac\\xb4\\xeb\\xa3\\x8c \\xea\\xb3\\xb5\\xea\\xb0\\x9c!</strong>\\n\\t\\t\\t\\t\\t\\t\\t\\t<div class=\"source_wrap\">\\n\\t\\t\\t\\t\\t\\t\\t\\t\\t\\n\\t\\t\\t\\t\\t\\t\\t\\t\\t\\t<span class=\"date\">8\\xeb\\xb6\\x84 \\xec\\xa0\\x84</span>\\n\\t\\t\\t\\t\\t\\t\\t\\t\\t\\t<span class=\"source\">\\n\\t\\t\\t\\t\\t\\t\\t\\t\\t\\t\\t\\n\\t\\t\\t\\t\\t\\t\\t\\t\\t\\t<span class=\"source_inner\">\\xeb\\x84\\xa4\\xec\\x9d\\xb4\\xeb\\xb2\\x84 \\xec\\x9b\\xb9\\xed\\x88\\xb0</span>\\n\\t\\t\\t\\t\\t\\t\\t\\t\\t\\t</span>\\n\\t\\t\\t\\t\\t\\t\\t\\t\\t\\n\\t\\t\\t\\t\\t\\t\\t\\t</div>\\n\\t\\t\\t\\t\\t\\t\\t</div>\\n\\t\\t\\t\\t\\t\\t</div>\\n\\t\\t\\t\\t\\t</a>\\n\\t\\t\\t\\t\\n\\t\\t\\t\\n\\t\\t\\t\\t\\n\\t\\t\\t\\t\\t<a href=\"https://tv.naver.com/v/25021715\" class=\"media_area\" data-da-position=\"true\" data-gdid=\"PC-THEME-ENTER-RANKING-4[materials][6]\"\\n\\t\\t\\t\\t\\t   data-clk=\"tcc_tvc.list5cont7\" target=\"_blank\">\\n\\t\\t\\t\\t\\t\\t<div class=\"media_thumb\">\\n\\t\\t\\t\\t\\t\\t\\t<img \\n\\t\\t\\t\\t\\t\\t\\t     data-src=\"https://s.pstatic.net/dthumb.phinf/?src&#x3D;%22https%3A%2F%2Fphinf.pstatic.net%2Ftvcast%2F20220209_239%2FLcGFB_1644382713037NEMLx_PNG%2F1644382704930.png%22&amp;type&#x3D;nf464_260\" alt=\"\" width=\"232\" height=\"130\"\\n\\t\\t\\t\\t\\t\\t\\t     onerror=\"this.outerHTML=\\'<span class=\\\\\\'pm_noimg\\\\\\'><span class=\\\\\\'noimg_text\\\\\\'>\\xec\\x9d\\xb4\\xeb\\xaf\\xb8\\xec\\xa7\\x80 \\xec\\xa4\\x80\\xeb\\xb9\\x84\\xec\\xa4\\x91</span></span>\\'\">\\n\\n\\t\\t\\t\\t\\t\\t\\t\\n\\t\\t\\t\\t\\t\\t\\t\\t<span class=\"thumb_dim\"></span>\\n\\t\\t\\t\\t\\t\\t\\t\\t<span class=\"thumb_bd\"></span>\\n\\t\\t\\t\\t\\t\\t\\t\\t<i class=\"pm_ico_play\"><span class=\"blind\">\\xec\\x9e\\xac\\xec\\x83\\x9d</span></i>\\n\\t\\t\\t\\t\\t\\t\\t\\t<span class=\"theme_runtime\"><span class=\"runtime_bg\">\\xec\\x9e\\xac\\xec\\x83\\x9d\\xec\\x8b\\x9c\\xea\\xb0\\x84</span><em\\n\\t\\t\\t\\t\\t\\t\\t\\t\\t\\tclass=\"time\">0:42</em></span>\\n\\t\\t\\t\\t\\t\\t\\t\\n\\t\\t\\t\\t\\t\\t</div>\\n\\t\\t\\t\\t\\t\\t<div class=\"media_info\">\\n\\t\\t\\t\\t\\t\\t\\t<div class=\"info_box\">\\n\\t\\t\\t\\t\\t\\t\\t\\t\\n\\t\\t\\t\\t\\t\\t\\t\\t\\t<em class=\"theme_category\">\\xec\\x9b\\xb9\\xec\\x98\\x88\\xeb\\x8a\\xa5</em>\\n\\t\\t\\t\\t\\t\\t\\t\\t\\n\\t\\t\\t\\t\\t\\t\\t\\t\\n\\t\\t\\t\\t\\t\\t\\t\\t<strong class=\"title \">[\\xed\\x99\\x80\\xec\\x9d\\xb8\\xeb\\x9f\\xac\\xeb\\xb8\\x8c] \\xec\\x97\\xad\\xeb\\x8c\\x80\\xea\\xb8\\x89 \\xe2\\x80\\x98\\xec\\xa7\\x81\\xec\\xa7\\x84\\xe2\\x80\\x99\\xeb\\x82\\xa8 \\xea\\xb9\\x80\\xea\\xb0\\x95\\xec\\x97\\xb4\\xeb\\x8f\\x84 \\xeb\\xb0\\x98\\xed\\x95\\x9c \\xeb\\xa7\\xa4\\xeb\\x84\\x88\\xeb\\x82\\xa8\\xec\\x9d\\x98 \\xe2\\x80\\x98\\xec\\xa0\\x95.\\xec\\x84\\x9d\\xe2\\x80\\x99 (ft. \\xed\\x8b\\xb0\\xec\\x8a\\x88)</strong>\\n\\t\\t\\t\\t\\t\\t\\t\\t<div class=\"source_wrap\">\\n\\t\\t\\t\\t\\t\\t\\t\\t\\t\\n\\t\\t\\t\\t\\t\\t\\t\\t\\t\\t<span class=\"date\">8\\xeb\\xb6\\x84 \\xec\\xa0\\x84</span>\\n\\t\\t\\t\\t\\t\\t\\t\\t\\t\\t<span class=\"source\">\\n\\t\\t\\t\\t\\t\\t\\t\\t\\t\\t\\t\\n\\t\\t\\t\\t\\t\\t\\t\\t\\t\\t<span class=\"source_inner\">\\xec\\x94\\xac\\xec\\xba\\x90\\xec\\xb2\\x98</span>\\n\\t\\t\\t\\t\\t\\t\\t\\t\\t\\t</span>\\n\\t\\t\\t\\t\\t\\t\\t\\t\\t\\n\\t\\t\\t\\t\\t\\t\\t\\t</div>\\n\\t\\t\\t\\t\\t\\t\\t</div>\\n\\t\\t\\t\\t\\t\\t</div>\\n\\t\\t\\t\\t\\t</a>\\n\\t\\t\\t\\t\\n\\t\\t\\t\\n\\t\\t\\t\\t\\n\\t\\t\\t\\t\\t<a href=\"https://tv.naver.com/v/31342744\" class=\"media_area\" data-da-position=\"true\" data-gdid=\"PC-THEME-ENTER-RANKING-4[materials][7]\"\\n\\t\\t\\t\\t\\t   data-clk=\"tcc_tvc.list5cont8\" target=\"_blank\">\\n\\t\\t\\t\\t\\t\\t<div class=\"media_thumb\">\\n\\t\\t\\t\\t\\t\\t\\t<img \\n\\t\\t\\t\\t\\t\\t\\t     data-src=\"https://s.pstatic.net/dthumb.phinf/?src&#x3D;%22https%3A%2F%2Fs.pstatic.net%2Ftvcast.phinf%2F20221205_260%2FofLJ2_1670218291601GsCdW_JPEG%2FC202200138_3_202212050219386451.jpg%22&amp;type&#x3D;nf464_260\" alt=\"\" width=\"232\" height=\"130\"\\n\\t\\t\\t\\t\\t\\t\\t     onerror=\"this.outerHTML=\\'<span class=\\\\\\'pm_noimg\\\\\\'><span class=\\\\\\'noimg_text\\\\\\'>\\xec\\x9d\\xb4\\xeb\\xaf\\xb8\\xec\\xa7\\x80 \\xec\\xa4\\x80\\xeb\\xb9\\x84\\xec\\xa4\\x91</span></span>\\'\">\\n\\n\\t\\t\\t\\t\\t\\t\\t\\n\\t\\t\\t\\t\\t\\t\\t\\t<span class=\"thumb_dim\"></span>\\n\\t\\t\\t\\t\\t\\t\\t\\t<span class=\"thumb_bd\"></span>\\n\\t\\t\\t\\t\\t\\t\\t\\t<i class=\"pm_ico_play\"><span class=\"blind\">\\xec\\x9e\\xac\\xec\\x83\\x9d</span></i>\\n\\t\\t\\t\\t\\t\\t\\t\\t<span class=\"theme_runtime\"><span class=\"runtime_bg\">\\xec\\x9e\\xac\\xec\\x83\\x9d\\xec\\x8b\\x9c\\xea\\xb0\\x84</span><em\\n\\t\\t\\t\\t\\t\\t\\t\\t\\t\\tclass=\"time\">2:01</em></span>\\n\\t\\t\\t\\t\\t\\t\\t\\n\\t\\t\\t\\t\\t\\t</div>\\n\\t\\t\\t\\t\\t\\t<div class=\"media_info\">\\n\\t\\t\\t\\t\\t\\t\\t<div class=\"info_box\">\\n\\t\\t\\t\\t\\t\\t\\t\\t\\n\\t\\t\\t\\t\\t\\t\\t\\t\\t<em class=\"theme_category\">TV \\xec\\x98\\x88\\xeb\\x8a\\xa5</em>\\n\\t\\t\\t\\t\\t\\t\\t\\t\\n\\t\\t\\t\\t\\t\\t\\t\\t\\n\\t\\t\\t\\t\\t\\t\\t\\t<strong class=\"title \">[\\xeb\\xaf\\xb8\\xeb\\xb0\\xa9\\xeb\\xb6\\x84] \\xea\\xb3\\xa0\\xeb\\x8f\\x85\\xed\\x95\\x9c \\xeb\\xaf\\xb8\\xec\\x8b\\x9d\\xea\\xb0\\x80 \\xed\\x98\\xb8\\xec\\xa4\\x91\\xec\\x9d\\xb4\\xec\\x9d\\x98 \\xed\\x83\\x9c\\xea\\xb5\\xad \\xec\\x9d\\x8c\\xec\\x8b\\x9d \\xeb\\xa8\\xb9\\xeb\\xb0\\xa9 TV CHOSUN 221130 \\xeb\\xb0\\xa9\\xec\\x86\\xa1</strong>\\n\\t\\t\\t\\t\\t\\t\\t\\t<div class=\"source_wrap\">\\n\\t\\t\\t\\t\\t\\t\\t\\t\\t\\n\\t\\t\\t\\t\\t\\t\\t\\t\\t\\t<span class=\"date\">1\\xec\\xa3\\xbc\\xec\\x9d\\xbc \\xec\\xa0\\x84</span>\\n\\t\\t\\t\\t\\t\\t\\t\\t\\t\\t<span class=\"source\">\\n\\t\\t\\t\\t\\t\\t\\t\\t\\t\\t\\t\\n\\t\\t\\t\\t\\t\\t\\t\\t\\t\\t<span class=\"source_inner\">\\xeb\\xb3\\xb5\\xeb\\x8d\\xa9\\xec\\x9d\\xb4\\xeb\\x93\\xa4\\xea\\xb3\\xa0(GO)</span>\\n\\t\\t\\t\\t\\t\\t\\t\\t\\t\\t</span>\\n\\t\\t\\t\\t\\t\\t\\t\\t\\t\\n\\t\\t\\t\\t\\t\\t\\t\\t</div>\\n\\t\\t\\t\\t\\t\\t\\t</div>\\n\\t\\t\\t\\t\\t\\t</div>\\n\\t\\t\\t\\t\\t</a>\\n\\t\\t\\t\\t\\n\\t\\t\\t\\n\\t\\t\\t\\t\\n\\t\\t\\t\\t\\t<a href=\"https://tv.naver.com/v/31546281\" class=\"media_area\" data-da-position=\"true\" data-gdid=\"PC-THEME-ENTER-RANKING-4[materials][8]\"\\n\\t\\t\\t\\t\\t   data-clk=\"tcc_tvc.list5cont9\" target=\"_blank\">\\n\\t\\t\\t\\t\\t\\t<div class=\"media_thumb\">\\n\\t\\t\\t\\t\\t\\t\\t<img \\n\\t\\t\\t\\t\\t\\t\\t     data-src=\"https://s.pstatic.net/dthumb.phinf/?src&#x3D;%22https%3A%2F%2Fs.pstatic.net%2Ftvcast.phinf%2F20221212_70%2FIF2l5_1670847696331Vh6hx_JPEG%2F20221212_211206_662_1.jpg%22&amp;type&#x3D;nf464_260\" alt=\"\" width=\"232\" height=\"130\"\\n\\t\\t\\t\\t\\t\\t\\t     onerror=\"this.outerHTML=\\'<span class=\\\\\\'pm_noimg\\\\\\'><span class=\\\\\\'noimg_text\\\\\\'>\\xec\\x9d\\xb4\\xeb\\xaf\\xb8\\xec\\xa7\\x80 \\xec\\xa4\\x80\\xeb\\xb9\\x84\\xec\\xa4\\x91</span></span>\\'\">\\n\\n\\t\\t\\t\\t\\t\\t\\t\\n\\t\\t\\t\\t\\t\\t\\t\\t<span class=\"thumb_dim\"></span>\\n\\t\\t\\t\\t\\t\\t\\t\\t<span class=\"thumb_bd\"></span>\\n\\t\\t\\t\\t\\t\\t\\t\\t<i class=\"pm_ico_play\"><span class=\"blind\">\\xec\\x9e\\xac\\xec\\x83\\x9d</span></i>\\n\\t\\t\\t\\t\\t\\t\\t\\t<span class=\"theme_runtime\"><span class=\"runtime_bg\">\\xec\\x9e\\xac\\xec\\x83\\x9d\\xec\\x8b\\x9c\\xea\\xb0\\x84</span><em\\n\\t\\t\\t\\t\\t\\t\\t\\t\\t\\tclass=\"time\">3:47</em></span>\\n\\t\\t\\t\\t\\t\\t\\t\\n\\t\\t\\t\\t\\t\\t</div>\\n\\t\\t\\t\\t\\t\\t<div class=\"media_info\">\\n\\t\\t\\t\\t\\t\\t\\t<div class=\"info_box\">\\n\\t\\t\\t\\t\\t\\t\\t\\t\\n\\t\\t\\t\\t\\t\\t\\t\\t\\t<em class=\"theme_category\">TV \\xec\\x98\\x88\\xeb\\x8a\\xa5</em>\\n\\t\\t\\t\\t\\t\\t\\t\\t\\n\\t\\t\\t\\t\\t\\t\\t\\t\\n\\t\\t\\t\\t\\t\\t\\t\\t<strong class=\"title \">[\\xeb\\xaf\\xb8\\xea\\xb3\\xb5\\xea\\xb0\\x9c] \\xec\\xa0\\x84\\xed\\x98\\x84\\xeb\\xac\\xb4\\xec\\x97\\x90\\xea\\xb2\\x8c \\xec\\x8b\\x9c~\\xec\\x9b\\x90\\xed\\x95\\x98\\xea\\xb2\\x8c \\xeb\\xaa\\x85\\xed\\x92\\x88(=\\xeb\\xa3\\xa8\\xec\\x9d\\xb4\\xeb\\xb9\\x84X) FLEX\\xed\\x95\\x9c \\xed\\x8c\\x94\\xeb\\xb0\\xa9\\xeb\\xaf\\xb8\\xec\\x9d\\xb8 \\xec\\x9d\\xb4\\xec\\xb0\\xac\\xec\\x9b\\x90\\xf0\\x9f\\x99\\x8a?! | JTBC 221212 \\xeb\\xb0\\xa9\\xec\\x86\\xa1</strong>\\n\\t\\t\\t\\t\\t\\t\\t\\t<div class=\"source_wrap\">\\n\\t\\t\\t\\t\\t\\t\\t\\t\\t\\n\\t\\t\\t\\t\\t\\t\\t\\t\\t\\t<span class=\"date\">\\xec\\x96\\xb4\\xec\\xa0\\x9c</span>\\n\\t\\t\\t\\t\\t\\t\\t\\t\\t\\t<span class=\"source\">\\n\\t\\t\\t\\t\\t\\t\\t\\t\\t\\t\\t\\n\\t\\t\\t\\t\\t\\t\\t\\t\\t\\t<span class=\"source_inner\">\\xed\\x86\\xa1\\xed\\x8c\\x8c\\xec\\x9b\\x90 25\\xec\\x8b\\x9c</span>\\n\\t\\t\\t\\t\\t\\t\\t\\t\\t\\t</span>\\n\\t\\t\\t\\t\\t\\t\\t\\t\\t\\n\\t\\t\\t\\t\\t\\t\\t\\t</div>\\n\\t\\t\\t\\t\\t\\t\\t</div>\\n\\t\\t\\t\\t\\t\\t</div>\\n\\t\\t\\t\\t\\t</a>\\n\\t\\t\\t\\t\\n\\t\\t\\t\\n\\t\\t</div>\\n\\t</div>\\n</div>\\n\\n<div class=\"group_theme\" data-block-id=\"5db0bbf2d6902f284eaffbb2\" data-block-code=\"PC-THEME-ENTER-RANKING-5\" data-block-type=\"MATERIALS\" data-template-code=\"3X3\"\\n\\n     data-page=\"3\"\\n     style=\"display:none\">\\n\\n\\t<div class=\"media_view_wrap type_column\">\\n\\t\\t<div class=\"media_view\">\\n\\t\\t\\t\\n\\t\\t\\t\\t\\n\\t\\t\\t\\t\\t<a href=\"https://tv.naver.com/v/29239777\" class=\"media_area\" data-da-position=\"true\" data-gdid=\"PC-THEME-ENTER-RANKING-5[materials][0]\"\\n\\t\\t\\t\\t\\t   data-clk=\"tcc_tvc.list6cont1\" target=\"_blank\">\\n\\t\\t\\t\\t\\t\\t<div class=\"media_thumb\">\\n\\t\\t\\t\\t\\t\\t\\t<img \\n\\t\\t\\t\\t\\t\\t\\t     data-src=\"https://s.pstatic.net/dthumb.phinf/?src&#x3D;%22https%3A%2F%2Fphinf.pstatic.net%2Ftvcast%2F20220916_1%2FGWT0P_1663301059714WlHst_PNG%2F1663301036761.png%22&amp;type&#x3D;nf464_260\" alt=\"\" width=\"232\" height=\"130\"\\n\\t\\t\\t\\t\\t\\t\\t     onerror=\"this.outerHTML=\\'<span class=\\\\\\'pm_noimg\\\\\\'><span class=\\\\\\'noimg_text\\\\\\'>\\xec\\x9d\\xb4\\xeb\\xaf\\xb8\\xec\\xa7\\x80 \\xec\\xa4\\x80\\xeb\\xb9\\x84\\xec\\xa4\\x91</span></span>\\'\">\\n\\n\\t\\t\\t\\t\\t\\t\\t\\n\\t\\t\\t\\t\\t\\t\\t\\t<span class=\"thumb_dim\"></span>\\n\\t\\t\\t\\t\\t\\t\\t\\t<span class=\"thumb_bd\"></span>\\n\\t\\t\\t\\t\\t\\t\\t\\t<i class=\"pm_ico_play\"><span class=\"blind\">\\xec\\x9e\\xac\\xec\\x83\\x9d</span></i>\\n\\t\\t\\t\\t\\t\\t\\t\\t<span class=\"theme_runtime\"><span class=\"runtime_bg\">\\xec\\x9e\\xac\\xec\\x83\\x9d\\xec\\x8b\\x9c\\xea\\xb0\\x84</span><em\\n\\t\\t\\t\\t\\t\\t\\t\\t\\t\\tclass=\"time\">2:1</em></span>\\n\\t\\t\\t\\t\\t\\t\\t\\n\\t\\t\\t\\t\\t\\t</div>\\n\\t\\t\\t\\t\\t\\t<div class=\"media_info\">\\n\\t\\t\\t\\t\\t\\t\\t<div class=\"info_box\">\\n\\t\\t\\t\\t\\t\\t\\t\\t\\n\\t\\t\\t\\t\\t\\t\\t\\t\\t<em class=\"theme_category\">\\xec\\x9b\\xb9\\xec\\x98\\x88\\xeb\\x8a\\xa5</em>\\n\\t\\t\\t\\t\\t\\t\\t\\t\\n\\t\\t\\t\\t\\t\\t\\t\\t\\n\\t\\t\\t\\t\\t\\t\\t\\t<strong class=\"title \">\\xec\\xb9\\xa8\\xeb\\x8c\\x80 \\xec\\x9c\\x84\\xec\\x97\\x90\\xec\\x84\\x9c \\xeb\\xac\\xb4\\xec\\x8a\\xa8 \\xec\\x9d\\xbc\\xec\\x9d\\xb4...?! \\xec\\x9e\\xac\\xec\\x9b\\x90X\\xed\\x95\\x9c\\xec\\x8a\\xac \\xec\\xa7\\x9c\\xeb\\xa6\\xbf\\xed\\x95\\x9c \\xeb\\x91\\x98\\xeb\\xa7\\x8c\\xec\\x9d\\x98 \\xeb\\x8d\\xb0\\xec\\x9d\\xb4\\xed\\x8a\\xb8\\xe2\\x99\\xa5 | \\xec\\x8d\\xb8\\xed\\x95\\x91</strong>\\n\\t\\t\\t\\t\\t\\t\\t\\t<div class=\"source_wrap\">\\n\\t\\t\\t\\t\\t\\t\\t\\t\\t\\n\\t\\t\\t\\t\\t\\t\\t\\t\\t\\t<span class=\"date\">8\\xeb\\xb6\\x84 \\xec\\xa0\\x84</span>\\n\\t\\t\\t\\t\\t\\t\\t\\t\\t\\t<span class=\"source\">\\n\\t\\t\\t\\t\\t\\t\\t\\t\\t\\t\\t\\n\\t\\t\\t\\t\\t\\t\\t\\t\\t\\t<span class=\"source_inner\">\\xec\\x94\\xac\\xec\\xba\\x90\\xec\\xb2\\x98</span>\\n\\t\\t\\t\\t\\t\\t\\t\\t\\t\\t</span>\\n\\t\\t\\t\\t\\t\\t\\t\\t\\t\\n\\t\\t\\t\\t\\t\\t\\t\\t</div>\\n\\t\\t\\t\\t\\t\\t\\t</div>\\n\\t\\t\\t\\t\\t\\t</div>\\n\\t\\t\\t\\t\\t</a>\\n\\t\\t\\t\\t\\n\\t\\t\\t\\n\\t\\t\\t\\t\\n\\t\\t\\t\\t\\t<a href=\"https://tv.naver.com/v/31585324\" class=\"media_area\" data-da-position=\"true\" data-gdid=\"PC-THEME-ENTER-RANKING-5[materials][1]\"\\n\\t\\t\\t\\t\\t   data-clk=\"tcc_tvc.list6cont2\" target=\"_blank\">\\n\\t\\t\\t\\t\\t\\t<div class=\"media_thumb\">\\n\\t\\t\\t\\t\\t\\t\\t<img \\n\\t\\t\\t\\t\\t\\t\\t     data-src=\"https://s.pstatic.net/dthumb.phinf/?src&#x3D;%22https%3A%2F%2Fs.pstatic.net%2Ftvcast.phinf%2F20221214_61%2Fg09n7_1670944291966i6mrE_JPEG%2FGUmQSuOLPeVu.jpg%22&amp;type&#x3D;nf464_260\" alt=\"\" width=\"232\" height=\"130\"\\n\\t\\t\\t\\t\\t\\t\\t     onerror=\"this.outerHTML=\\'<span class=\\\\\\'pm_noimg\\\\\\'><span class=\\\\\\'noimg_text\\\\\\'>\\xec\\x9d\\xb4\\xeb\\xaf\\xb8\\xec\\xa7\\x80 \\xec\\xa4\\x80\\xeb\\xb9\\x84\\xec\\xa4\\x91</span></span>\\'\">\\n\\n\\t\\t\\t\\t\\t\\t\\t\\n\\t\\t\\t\\t\\t\\t\\t\\t<span class=\"thumb_dim\"></span>\\n\\t\\t\\t\\t\\t\\t\\t\\t<span class=\"thumb_bd\"></span>\\n\\t\\t\\t\\t\\t\\t\\t\\t<i class=\"pm_ico_play\"><span class=\"blind\">\\xec\\x9e\\xac\\xec\\x83\\x9d</span></i>\\n\\t\\t\\t\\t\\t\\t\\t\\t<span class=\"theme_runtime\"><span class=\"runtime_bg\">\\xec\\x9e\\xac\\xec\\x83\\x9d\\xec\\x8b\\x9c\\xea\\xb0\\x84</span><em\\n\\t\\t\\t\\t\\t\\t\\t\\t\\t\\tclass=\"time\">0:40</em></span>\\n\\t\\t\\t\\t\\t\\t\\t\\n\\t\\t\\t\\t\\t\\t</div>\\n\\t\\t\\t\\t\\t\\t<div class=\"media_info\">\\n\\t\\t\\t\\t\\t\\t\\t<div class=\"info_box\">\\n\\t\\t\\t\\t\\t\\t\\t\\t\\n\\t\\t\\t\\t\\t\\t\\t\\t\\t<em class=\"theme_category\">TV \\xeb\\x93\\x9c\\xeb\\x9d\\xbc\\xeb\\xa7\\x88</em>\\n\\t\\t\\t\\t\\t\\t\\t\\t\\n\\t\\t\\t\\t\\t\\t\\t\\t\\n\\t\\t\\t\\t\\t\\t\\t\\t<strong class=\"title \">[13\\xed\\x9a\\x8c \\xec\\x98\\x88\\xea\\xb3\\xa0] \\xeb\\xaa\\xa8\\xeb\\xa5\\xb8 \\xec\\xb2\\x99 \\xeb\\x96\\xa0\\xeb\\x82\\x98\\xec\\xa4\\x98\\xec\\x9a\\x94 | KBS \\xeb\\xb0\\xa9\\xec\\x86\\xa1</strong>\\n\\t\\t\\t\\t\\t\\t\\t\\t<div class=\"source_wrap\">\\n\\t\\t\\t\\t\\t\\t\\t\\t\\t\\n\\t\\t\\t\\t\\t\\t\\t\\t\\t\\t<span class=\"date\">15\\xec\\x8b\\x9c\\xea\\xb0\\x84 \\xec\\xa0\\x84</span>\\n\\t\\t\\t\\t\\t\\t\\t\\t\\t\\t<span class=\"source\">\\n\\t\\t\\t\\t\\t\\t\\t\\t\\t\\t\\t\\n\\t\\t\\t\\t\\t\\t\\t\\t\\t\\t<span class=\"source_inner\">\\xec\\xbb\\xa4\\xed\\x8a\\xbc\\xec\\xbd\\x9c</span>\\n\\t\\t\\t\\t\\t\\t\\t\\t\\t\\t</span>\\n\\t\\t\\t\\t\\t\\t\\t\\t\\t\\n\\t\\t\\t\\t\\t\\t\\t\\t</div>\\n\\t\\t\\t\\t\\t\\t\\t</div>\\n\\t\\t\\t\\t\\t\\t</div>\\n\\t\\t\\t\\t\\t</a>\\n\\t\\t\\t\\t\\n\\t\\t\\t\\n\\t\\t\\t\\t\\n\\t\\t\\t\\t\\t<a href=\"https://tv.naver.com/v/28483865\" class=\"media_area\" data-da-position=\"true\" data-gdid=\"PC-THEME-ENTER-RANKING-5[materials][2]\"\\n\\t\\t\\t\\t\\t   data-clk=\"tcc_tvc.list6cont3\" target=\"_blank\">\\n\\t\\t\\t\\t\\t\\t<div class=\"media_thumb\">\\n\\t\\t\\t\\t\\t\\t\\t<img \\n\\t\\t\\t\\t\\t\\t\\t     data-src=\"https://s.pstatic.net/dthumb.phinf/?src&#x3D;%22https%3A%2F%2Fphinf.pstatic.net%2Ftvcast%2F20220810_206%2Fv6g8H_1660118439697Hd7vl_PNG%2F1660118376139.png%22&amp;type&#x3D;nf464_260\" alt=\"\" width=\"232\" height=\"130\"\\n\\t\\t\\t\\t\\t\\t\\t     onerror=\"this.outerHTML=\\'<span class=\\\\\\'pm_noimg\\\\\\'><span class=\\\\\\'noimg_text\\\\\\'>\\xec\\x9d\\xb4\\xeb\\xaf\\xb8\\xec\\xa7\\x80 \\xec\\xa4\\x80\\xeb\\xb9\\x84\\xec\\xa4\\x91</span></span>\\'\">\\n\\n\\t\\t\\t\\t\\t\\t\\t\\n\\t\\t\\t\\t\\t\\t\\t\\t<span class=\"thumb_dim\"></span>\\n\\t\\t\\t\\t\\t\\t\\t\\t<span class=\"thumb_bd\"></span>\\n\\t\\t\\t\\t\\t\\t\\t\\t<i class=\"pm_ico_play\"><span class=\"blind\">\\xec\\x9e\\xac\\xec\\x83\\x9d</span></i>\\n\\t\\t\\t\\t\\t\\t\\t\\t<span class=\"theme_runtime\"><span class=\"runtime_bg\">\\xec\\x9e\\xac\\xec\\x83\\x9d\\xec\\x8b\\x9c\\xea\\xb0\\x84</span><em\\n\\t\\t\\t\\t\\t\\t\\t\\t\\t\\tclass=\"time\">5:35</em></span>\\n\\t\\t\\t\\t\\t\\t\\t\\n\\t\\t\\t\\t\\t\\t</div>\\n\\t\\t\\t\\t\\t\\t<div class=\"media_info\">\\n\\t\\t\\t\\t\\t\\t\\t<div class=\"info_box\">\\n\\t\\t\\t\\t\\t\\t\\t\\t\\n\\t\\t\\t\\t\\t\\t\\t\\t\\t<em class=\"theme_category\">\\xec\\x9b\\xb9\\xec\\x98\\x88\\xeb\\x8a\\xa5</em>\\n\\t\\t\\t\\t\\t\\t\\t\\t\\n\\t\\t\\t\\t\\t\\t\\t\\t\\n\\t\\t\\t\\t\\t\\t\\t\\t<strong class=\"title \">[\\xec\\x84\\xa0\\xea\\xb3\\xb5\\xea\\xb0\\x9c] \\xeb\\xac\\xb4\\xed\\x95\\x9c \\xed\\x94\\x8c\\xeb\\x9f\\xac\\xed\\x8c\\x85\\xec\\x9d\\x98 \\xec\\x84\\x9c\\xeb\\xa7\\x89... \"Welcome to \\xec\\x8d\\xb8\\xed\\x86\\xa0\\xed\\x94\\xbc\\xec\\x95\\x84\" | EP.1 | \\xec\\x8d\\xb8\\xed\\x95\\x91</strong>\\n\\t\\t\\t\\t\\t\\t\\t\\t<div class=\"source_wrap\">\\n\\t\\t\\t\\t\\t\\t\\t\\t\\t\\n\\t\\t\\t\\t\\t\\t\\t\\t\\t\\t<span class=\"date\">8\\xeb\\xb6\\x84 \\xec\\xa0\\x84</span>\\n\\t\\t\\t\\t\\t\\t\\t\\t\\t\\t<span class=\"source\">\\n\\t\\t\\t\\t\\t\\t\\t\\t\\t\\t\\t\\n\\t\\t\\t\\t\\t\\t\\t\\t\\t\\t<span class=\"source_inner\">\\xec\\x94\\xac\\xec\\xba\\x90\\xec\\xb2\\x98</span>\\n\\t\\t\\t\\t\\t\\t\\t\\t\\t\\t</span>\\n\\t\\t\\t\\t\\t\\t\\t\\t\\t\\n\\t\\t\\t\\t\\t\\t\\t\\t</div>\\n\\t\\t\\t\\t\\t\\t\\t</div>\\n\\t\\t\\t\\t\\t\\t</div>\\n\\t\\t\\t\\t\\t</a>\\n\\t\\t\\t\\t\\n\\t\\t\\t\\n\\t\\t\\t\\t\\n\\t\\t\\t\\t\\t<a href=\"https://tv.naver.com/v/29239794\" class=\"media_area\" data-da-position=\"true\" data-gdid=\"PC-THEME-ENTER-RANKING-5[materials][3]\"\\n\\t\\t\\t\\t\\t   data-clk=\"tcc_tvc.list6cont4\" target=\"_blank\">\\n\\t\\t\\t\\t\\t\\t<div class=\"media_thumb\">\\n\\t\\t\\t\\t\\t\\t\\t<img \\n\\t\\t\\t\\t\\t\\t\\t     data-src=\"https://s.pstatic.net/dthumb.phinf/?src&#x3D;%22https%3A%2F%2Fphinf.pstatic.net%2Ftvcast%2F20220916_291%2F3AaOO_1663301105191JAbbQ_PNG%2F1663301101869.png%22&amp;type&#x3D;nf464_260\" alt=\"\" width=\"232\" height=\"130\"\\n\\t\\t\\t\\t\\t\\t\\t     onerror=\"this.outerHTML=\\'<span class=\\\\\\'pm_noimg\\\\\\'><span class=\\\\\\'noimg_text\\\\\\'>\\xec\\x9d\\xb4\\xeb\\xaf\\xb8\\xec\\xa7\\x80 \\xec\\xa4\\x80\\xeb\\xb9\\x84\\xec\\xa4\\x91</span></span>\\'\">\\n\\n\\t\\t\\t\\t\\t\\t\\t\\n\\t\\t\\t\\t\\t\\t\\t\\t<span class=\"thumb_dim\"></span>\\n\\t\\t\\t\\t\\t\\t\\t\\t<span class=\"thumb_bd\"></span>\\n\\t\\t\\t\\t\\t\\t\\t\\t<i class=\"pm_ico_play\"><span class=\"blind\">\\xec\\x9e\\xac\\xec\\x83\\x9d</span></i>\\n\\t\\t\\t\\t\\t\\t\\t\\t<span class=\"theme_runtime\"><span class=\"runtime_bg\">\\xec\\x9e\\xac\\xec\\x83\\x9d\\xec\\x8b\\x9c\\xea\\xb0\\x84</span><em\\n\\t\\t\\t\\t\\t\\t\\t\\t\\t\\tclass=\"time\">5:39</em></span>\\n\\t\\t\\t\\t\\t\\t\\t\\n\\t\\t\\t\\t\\t\\t</div>\\n\\t\\t\\t\\t\\t\\t<div class=\"media_info\">\\n\\t\\t\\t\\t\\t\\t\\t<div class=\"info_box\">\\n\\t\\t\\t\\t\\t\\t\\t\\t\\n\\t\\t\\t\\t\\t\\t\\t\\t\\t<em class=\"theme_category\">\\xec\\x9b\\xb9\\xec\\x98\\x88\\xeb\\x8a\\xa5</em>\\n\\t\\t\\t\\t\\t\\t\\t\\t\\n\\t\\t\\t\\t\\t\\t\\t\\t\\n\\t\\t\\t\\t\\t\\t\\t\\t<strong class=\"title \">\\xec\\xb9\\xa8\\xeb\\x8c\\x80 \\xec\\x9c\\x84 \\xec\\xb9\\xb4\\xeb\\xa9\\x94\\xeb\\x9d\\xbc\\xea\\xb9\\x8c\\xec\\xa7\\x80 \\xea\\xb0\\x80\\xeb\\xa0\\xa4\\xeb\\xb2\\x84\\xeb\\xa6\\xac\\xeb\\x8a\\x94 \\xec\\x84\\x9c\\xed\\x98\\x84... \\xec\\xb9\\xb4\\xeb\\xa9\\x94\\xeb\\x9d\\xbc\\xeb\\x8a\\x94 \\xec\\x99\\x9c \\xea\\xb0\\x80\\xeb\\xa0\\xa4...?\\xe3\\x84\\xb7\\xe3\\x84\\xb7 | \\xec\\x8d\\xb8\\xed\\x95\\x91</strong>\\n\\t\\t\\t\\t\\t\\t\\t\\t<div class=\"source_wrap\">\\n\\t\\t\\t\\t\\t\\t\\t\\t\\t\\n\\t\\t\\t\\t\\t\\t\\t\\t\\t\\t<span class=\"date\">8\\xeb\\xb6\\x84 \\xec\\xa0\\x84</span>\\n\\t\\t\\t\\t\\t\\t\\t\\t\\t\\t<span class=\"source\">\\n\\t\\t\\t\\t\\t\\t\\t\\t\\t\\t\\t\\n\\t\\t\\t\\t\\t\\t\\t\\t\\t\\t<span class=\"source_inner\">\\xec\\x94\\xac\\xec\\xba\\x90\\xec\\xb2\\x98</span>\\n\\t\\t\\t\\t\\t\\t\\t\\t\\t\\t</span>\\n\\t\\t\\t\\t\\t\\t\\t\\t\\t\\n\\t\\t\\t\\t\\t\\t\\t\\t</div>\\n\\t\\t\\t\\t\\t\\t\\t</div>\\n\\t\\t\\t\\t\\t\\t</div>\\n\\t\\t\\t\\t\\t</a>\\n\\t\\t\\t\\t\\n\\t\\t\\t\\n\\t\\t\\t\\t\\n\\t\\t\\t\\t\\t<a href=\"https://tv.naver.com/v/21621573\" class=\"media_area\" data-da-position=\"true\" data-gdid=\"PC-THEME-ENTER-RANKING-5[materials][4]\"\\n\\t\\t\\t\\t\\t   data-clk=\"tcc_tvc.list6cont5\" target=\"_blank\">\\n\\t\\t\\t\\t\\t\\t<div class=\"media_thumb\">\\n\\t\\t\\t\\t\\t\\t\\t<img \\n\\t\\t\\t\\t\\t\\t\\t     data-src=\"https://s.pstatic.net/dthumb.phinf/?src&#x3D;%22https%3A%2F%2Fphinf.pstatic.net%2Ftvcast%2F20210730_26%2FIAG7s_1627642118367FQLFE_JPEG%2F5ba76ba4-f123-11eb-8678-48df379cca40_03.jpg%22&amp;type&#x3D;nf464_260\" alt=\"\" width=\"232\" height=\"130\"\\n\\t\\t\\t\\t\\t\\t\\t     onerror=\"this.outerHTML=\\'<span class=\\\\\\'pm_noimg\\\\\\'><span class=\\\\\\'noimg_text\\\\\\'>\\xec\\x9d\\xb4\\xeb\\xaf\\xb8\\xec\\xa7\\x80 \\xec\\xa4\\x80\\xeb\\xb9\\x84\\xec\\xa4\\x91</span></span>\\'\">\\n\\n\\t\\t\\t\\t\\t\\t\\t\\n\\t\\t\\t\\t\\t\\t\\t\\t<span class=\"thumb_dim\"></span>\\n\\t\\t\\t\\t\\t\\t\\t\\t<span class=\"thumb_bd\"></span>\\n\\t\\t\\t\\t\\t\\t\\t\\t<i class=\"pm_ico_play\"><span class=\"blind\">\\xec\\x9e\\xac\\xec\\x83\\x9d</span></i>\\n\\t\\t\\t\\t\\t\\t\\t\\t<span class=\"theme_runtime\"><span class=\"runtime_bg\">\\xec\\x9e\\xac\\xec\\x83\\x9d\\xec\\x8b\\x9c\\xea\\xb0\\x84</span><em\\n\\t\\t\\t\\t\\t\\t\\t\\t\\t\\tclass=\"time\">0:15</em></span>\\n\\t\\t\\t\\t\\t\\t\\t\\n\\t\\t\\t\\t\\t\\t</div>\\n\\t\\t\\t\\t\\t\\t<div class=\"media_info\">\\n\\t\\t\\t\\t\\t\\t\\t<div class=\"info_box\">\\n\\t\\t\\t\\t\\t\\t\\t\\t\\n\\t\\t\\t\\t\\t\\t\\t\\t\\t<em class=\"theme_category\">\\xec\\x9b\\xb9\\xeb\\x93\\x9c\\xeb\\x9d\\xbc\\xeb\\xa7\\x88</em>\\n\\t\\t\\t\\t\\t\\t\\t\\t\\n\\t\\t\\t\\t\\t\\t\\t\\t\\n\\t\\t\\t\\t\\t\\t\\t\\t<strong class=\"title \">\\xf0\\x9f\\x94\\xa5\\xec\\x9c\\xa0\\xeb\\xaf\\xb8\\xec\\x9d\\x98 \\xec\\x84\\xb8\\xed\\x8f\\xac\\xeb\\x93\\xa4 \\xec\\x9d\\xb4\\xeb\\x8f\\x99\\xea\\xb1\\xb4 \\xec\\x9e\\x91\\xea\\xb0\\x80\\xec\\x9d\\x98 \\xec\\x8b\\xa0\\xec\\x9e\\x91 \\'\\xec\\xa1\\xb0\\xec\\xa1\\xb0\\xec\\xbd\\x94\\xeb\\xaf\\xb9\\xec\\x8a\\xa4\\'</strong>\\n\\t\\t\\t\\t\\t\\t\\t\\t<div class=\"source_wrap\">\\n\\t\\t\\t\\t\\t\\t\\t\\t\\t\\n\\t\\t\\t\\t\\t\\t\\t\\t\\t\\t<span class=\"date\">8\\xeb\\xb6\\x84 \\xec\\xa0\\x84</span>\\n\\t\\t\\t\\t\\t\\t\\t\\t\\t\\t<span class=\"source\">\\n\\t\\t\\t\\t\\t\\t\\t\\t\\t\\t\\t\\n\\t\\t\\t\\t\\t\\t\\t\\t\\t\\t<span class=\"source_inner\">\\xeb\\x84\\xa4\\xec\\x9d\\xb4\\xeb\\xb2\\x84 \\xec\\x9b\\xb9\\xed\\x88\\xb0</span>\\n\\t\\t\\t\\t\\t\\t\\t\\t\\t\\t</span>\\n\\t\\t\\t\\t\\t\\t\\t\\t\\t\\n\\t\\t\\t\\t\\t\\t\\t\\t</div>\\n\\t\\t\\t\\t\\t\\t\\t</div>\\n\\t\\t\\t\\t\\t\\t</div>\\n\\t\\t\\t\\t\\t</a>\\n\\t\\t\\t\\t\\n\\t\\t\\t\\n\\t\\t\\t\\t\\n\\t\\t\\t\\t\\t<a href=\"https://tv.naver.com/v/15480543\" class=\"media_area\" data-da-position=\"true\" data-gdid=\"PC-THEME-ENTER-RANKING-5[materials][5]\"\\n\\t\\t\\t\\t\\t   data-clk=\"tcc_tvc.list6cont6\" target=\"_blank\">\\n\\t\\t\\t\\t\\t\\t<div class=\"media_thumb\">\\n\\t\\t\\t\\t\\t\\t\\t<img \\n\\t\\t\\t\\t\\t\\t\\t     data-src=\"https://s.pstatic.net/dthumb.phinf/?src&#x3D;%22https%3A%2F%2Fphinf.pstatic.net%2Ftvcast%2F20200828_232%2F9QcqM_1598584075890C8r1R_JPEG%2F1598583304539.jpg%22&amp;type&#x3D;nf464_260\" alt=\"\" width=\"232\" height=\"130\"\\n\\t\\t\\t\\t\\t\\t\\t     onerror=\"this.outerHTML=\\'<span class=\\\\\\'pm_noimg\\\\\\'><span class=\\\\\\'noimg_text\\\\\\'>\\xec\\x9d\\xb4\\xeb\\xaf\\xb8\\xec\\xa7\\x80 \\xec\\xa4\\x80\\xeb\\xb9\\x84\\xec\\xa4\\x91</span></span>\\'\">\\n\\n\\t\\t\\t\\t\\t\\t\\t\\n\\t\\t\\t\\t\\t\\t\\t\\t<span class=\"thumb_dim\"></span>\\n\\t\\t\\t\\t\\t\\t\\t\\t<span class=\"thumb_bd\"></span>\\n\\t\\t\\t\\t\\t\\t\\t\\t<i class=\"pm_ico_play\"><span class=\"blind\">\\xec\\x9e\\xac\\xec\\x83\\x9d</span></i>\\n\\t\\t\\t\\t\\t\\t\\t\\t<span class=\"theme_runtime\"><span class=\"runtime_bg\">\\xec\\x9e\\xac\\xec\\x83\\x9d\\xec\\x8b\\x9c\\xea\\xb0\\x84</span><em\\n\\t\\t\\t\\t\\t\\t\\t\\t\\t\\tclass=\"time\">1:58</em></span>\\n\\t\\t\\t\\t\\t\\t\\t\\n\\t\\t\\t\\t\\t\\t</div>\\n\\t\\t\\t\\t\\t\\t<div class=\"media_info\">\\n\\t\\t\\t\\t\\t\\t\\t<div class=\"info_box\">\\n\\t\\t\\t\\t\\t\\t\\t\\t\\n\\t\\t\\t\\t\\t\\t\\t\\t\\t<em class=\"theme_category\">\\xec\\x9b\\xb9\\xeb\\x93\\x9c\\xeb\\x9d\\xbc\\xeb\\xa7\\x88</em>\\n\\t\\t\\t\\t\\t\\t\\t\\t\\n\\t\\t\\t\\t\\t\\t\\t\\t\\n\\t\\t\\t\\t\\t\\t\\t\\t<strong class=\"title \"><\\xec\\x97\\xb0\\xec\\x95\\xa0\\xed\\x98\\x81\\xeb\\xaa\\x85> \\xec\\x9b\\xb9\\xeb\\x93\\x9c\\xeb\\x9d\\xbc\\xeb\\xa7\\x88 9\\xec\\x9b\\x941\\xec\\x9d\\xbc \\xeb\\xa1\\xa0\\xec\\xb9\\xad! (feat.\\xec\\xbf\\xa0\\xed\\x82\\xa4\\xec\\x9d\\xb4\\xeb\\xb2\\xa4\\xed\\x8a\\xb8!)</strong>\\n\\t\\t\\t\\t\\t\\t\\t\\t<div class=\"source_wrap\">\\n\\t\\t\\t\\t\\t\\t\\t\\t\\t\\n\\t\\t\\t\\t\\t\\t\\t\\t\\t\\t<span class=\"date\">8\\xeb\\xb6\\x84 \\xec\\xa0\\x84</span>\\n\\t\\t\\t\\t\\t\\t\\t\\t\\t\\t<span class=\"source\">\\n\\t\\t\\t\\t\\t\\t\\t\\t\\t\\t\\t\\n\\t\\t\\t\\t\\t\\t\\t\\t\\t\\t<span class=\"source_inner\">\\xeb\\x84\\xa4\\xec\\x9d\\xb4\\xeb\\xb2\\x84 \\xec\\x9b\\xb9\\xed\\x88\\xb0</span>\\n\\t\\t\\t\\t\\t\\t\\t\\t\\t\\t</span>\\n\\t\\t\\t\\t\\t\\t\\t\\t\\t\\n\\t\\t\\t\\t\\t\\t\\t\\t</div>\\n\\t\\t\\t\\t\\t\\t\\t</div>\\n\\t\\t\\t\\t\\t\\t</div>\\n\\t\\t\\t\\t\\t</a>\\n\\t\\t\\t\\t\\n\\t\\t\\t\\n\\t\\t\\t\\t\\n\\t\\t\\t\\t\\t<a href=\"https://tv.naver.com/v/28529157\" class=\"media_area\" data-da-position=\"true\" data-gdid=\"PC-THEME-ENTER-RANKING-5[materials][6]\"\\n\\t\\t\\t\\t\\t   data-clk=\"tcc_tvc.list6cont7\" target=\"_blank\">\\n\\t\\t\\t\\t\\t\\t<div class=\"media_thumb\">\\n\\t\\t\\t\\t\\t\\t\\t<img \\n\\t\\t\\t\\t\\t\\t\\t     data-src=\"https://s.pstatic.net/dthumb.phinf/?src&#x3D;%22https%3A%2F%2Fphinf.pstatic.net%2Ftvcast%2F20220812_212%2FSYXS8_1660279118078DSRrq_PNG%2F1660279088457.png%22&amp;type&#x3D;nf464_260\" alt=\"\" width=\"232\" height=\"130\"\\n\\t\\t\\t\\t\\t\\t\\t     onerror=\"this.outerHTML=\\'<span class=\\\\\\'pm_noimg\\\\\\'><span class=\\\\\\'noimg_text\\\\\\'>\\xec\\x9d\\xb4\\xeb\\xaf\\xb8\\xec\\xa7\\x80 \\xec\\xa4\\x80\\xeb\\xb9\\x84\\xec\\xa4\\x91</span></span>\\'\">\\n\\n\\t\\t\\t\\t\\t\\t\\t\\n\\t\\t\\t\\t\\t\\t\\t\\t<span class=\"thumb_dim\"></span>\\n\\t\\t\\t\\t\\t\\t\\t\\t<span class=\"thumb_bd\"></span>\\n\\t\\t\\t\\t\\t\\t\\t\\t<i class=\"pm_ico_play\"><span class=\"blind\">\\xec\\x9e\\xac\\xec\\x83\\x9d</span></i>\\n\\t\\t\\t\\t\\t\\t\\t\\t<span class=\"theme_runtime\"><span class=\"runtime_bg\">\\xec\\x9e\\xac\\xec\\x83\\x9d\\xec\\x8b\\x9c\\xea\\xb0\\x84</span><em\\n\\t\\t\\t\\t\\t\\t\\t\\t\\t\\tclass=\"time\">4:24</em></span>\\n\\t\\t\\t\\t\\t\\t\\t\\n\\t\\t\\t\\t\\t\\t</div>\\n\\t\\t\\t\\t\\t\\t<div class=\"media_info\">\\n\\t\\t\\t\\t\\t\\t\\t<div class=\"info_box\">\\n\\t\\t\\t\\t\\t\\t\\t\\t\\n\\t\\t\\t\\t\\t\\t\\t\\t\\t<em class=\"theme_category\">\\xec\\x9b\\xb9\\xec\\x98\\x88\\xeb\\x8a\\xa5</em>\\n\\t\\t\\t\\t\\t\\t\\t\\t\\n\\t\\t\\t\\t\\t\\t\\t\\t\\n\\t\\t\\t\\t\\t\\t\\t\\t<strong class=\"title \">\"\\xec\\x9a\\xb0\\xeb\\xa6\\xac\\xeb\\x81\\xbc\\xeb\\xa6\\xac \\xec\\xa0\\x80\\xea\\xb8\\xb0 \\xea\\xb0\\x80\\xec\\x84\\x9c \\xec\\x96\\x98\\xea\\xb8\\xb0\\xed\\x95\\x98\\xec\\x9e\\x90\" \\xea\\xb0\\x91.\\xeb\\xb6\\x84 \\xeb\\x91\\x98\\xeb\\xa7\\x8c\\xec\\x9d\\x98 \\xed\\x8a\\x9c\\xeb\\xb8\\x8c \\xeb\\x8d\\xb0\\xec\\x9d\\xb4\\xed\\x8a\\xb8\\xe2\\x99\\xa5 | EP.1-2 | \\xec\\x8d\\xb8\\xed\\x95\\x91</strong>\\n\\t\\t\\t\\t\\t\\t\\t\\t<div class=\"source_wrap\">\\n\\t\\t\\t\\t\\t\\t\\t\\t\\t\\n\\t\\t\\t\\t\\t\\t\\t\\t\\t\\t<span class=\"date\">8\\xeb\\xb6\\x84 \\xec\\xa0\\x84</span>\\n\\t\\t\\t\\t\\t\\t\\t\\t\\t\\t<span class=\"source\">\\n\\t\\t\\t\\t\\t\\t\\t\\t\\t\\t\\t\\n\\t\\t\\t\\t\\t\\t\\t\\t\\t\\t<span class=\"source_inner\">\\xec\\x94\\xac\\xec\\xba\\x90\\xec\\xb2\\x98</span>\\n\\t\\t\\t\\t\\t\\t\\t\\t\\t\\t</span>\\n\\t\\t\\t\\t\\t\\t\\t\\t\\t\\n\\t\\t\\t\\t\\t\\t\\t\\t</div>\\n\\t\\t\\t\\t\\t\\t\\t</div>\\n\\t\\t\\t\\t\\t\\t</div>\\n\\t\\t\\t\\t\\t</a>\\n\\t\\t\\t\\t\\n\\t\\t\\t\\n\\t\\t\\t\\t\\n\\t\\t\\t\\t\\t<a href=\"https://tv.naver.com/v/31435709\" class=\"media_area\" data-da-position=\"true\" data-gdid=\"PC-THEME-ENTER-RANKING-5[materials][7]\"\\n\\t\\t\\t\\t\\t   data-clk=\"tcc_tvc.list6cont8\" target=\"_blank\">\\n\\t\\t\\t\\t\\t\\t<div class=\"media_thumb\">\\n\\t\\t\\t\\t\\t\\t\\t<img \\n\\t\\t\\t\\t\\t\\t\\t     data-src=\"https://s.pstatic.net/dthumb.phinf/?src&#x3D;%22https%3A%2F%2Fs.pstatic.net%2Ftvcast.phinf%2F20221208_68%2FbcsWB_1670466996055cSmk2_JPEG%2F4e9227bd-11af-4017-a04c-9bf7d70f437a_B.jpg%22&amp;type&#x3D;nf464_260\" alt=\"\" width=\"232\" height=\"130\"\\n\\t\\t\\t\\t\\t\\t\\t     onerror=\"this.outerHTML=\\'<span class=\\\\\\'pm_noimg\\\\\\'><span class=\\\\\\'noimg_text\\\\\\'>\\xec\\x9d\\xb4\\xeb\\xaf\\xb8\\xec\\xa7\\x80 \\xec\\xa4\\x80\\xeb\\xb9\\x84\\xec\\xa4\\x91</span></span>\\'\">\\n\\n\\t\\t\\t\\t\\t\\t\\t\\n\\t\\t\\t\\t\\t\\t\\t\\t<span class=\"thumb_dim\"></span>\\n\\t\\t\\t\\t\\t\\t\\t\\t<span class=\"thumb_bd\"></span>\\n\\t\\t\\t\\t\\t\\t\\t\\t<i class=\"pm_ico_play\"><span class=\"blind\">\\xec\\x9e\\xac\\xec\\x83\\x9d</span></i>\\n\\t\\t\\t\\t\\t\\t\\t\\t<span class=\"theme_runtime\"><span class=\"runtime_bg\">\\xec\\x9e\\xac\\xec\\x83\\x9d\\xec\\x8b\\x9c\\xea\\xb0\\x84</span><em\\n\\t\\t\\t\\t\\t\\t\\t\\t\\t\\tclass=\"time\">2:20</em></span>\\n\\t\\t\\t\\t\\t\\t\\t\\n\\t\\t\\t\\t\\t\\t</div>\\n\\t\\t\\t\\t\\t\\t<div class=\"media_info\">\\n\\t\\t\\t\\t\\t\\t\\t<div class=\"info_box\">\\n\\t\\t\\t\\t\\t\\t\\t\\t\\n\\t\\t\\t\\t\\t\\t\\t\\t\\t<em class=\"theme_category\">TV \\xec\\x98\\x88\\xeb\\x8a\\xa5</em>\\n\\t\\t\\t\\t\\t\\t\\t\\t\\n\\t\\t\\t\\t\\t\\t\\t\\t\\n\\t\\t\\t\\t\\t\\t\\t\\t<strong class=\"title \">[\\xec\\x98\\x88\\xea\\xb3\\xa0] \\xec\\xa1\\xb4\\xec\\x9e\\xac \\xec\\x9e\\x90\\xec\\xb2\\xb4\\xea\\xb0\\x80 \\xec\\x8b\\xa0\\xeb\\x93\\x9c\\xeb\\xa1\\xac, \\xeb\\x89\\xb4\\xec\\xa7\\x84\\xec\\x8a\\xa4 \\xeb\\x93\\xb1\\xec\\x9e\\xa5\\xe2\\x99\\xa5 \\xec\\x95\\xa8\\xeb\\xb2\\x94 \\xec\\xa4\\x80\\xeb\\xb9\\x84 \\xea\\xb3\\xbc\\xec\\xa0\\x95\\xeb\\xb6\\x80\\xed\\x84\\xb0 \\xed\\x95\\x98\\xec\\x9e\\x8e\\xeb\\xb3\\xb4\\xec\\x9d\\xb4 \\xed\\x83\\x80\\xec\\x9e\\x84\\xea\\xb9\\x8c\\xec\\xa7\\x80!</strong>\\n\\t\\t\\t\\t\\t\\t\\t\\t<div class=\"source_wrap\">\\n\\t\\t\\t\\t\\t\\t\\t\\t\\t\\n\\t\\t\\t\\t\\t\\t\\t\\t\\t\\t<span class=\"date\">6\\xec\\x9d\\xbc \\xec\\xa0\\x84</span>\\n\\t\\t\\t\\t\\t\\t\\t\\t\\t\\t<span class=\"source\">\\n\\t\\t\\t\\t\\t\\t\\t\\t\\t\\t\\t\\n\\t\\t\\t\\t\\t\\t\\t\\t\\t\\t<span class=\"source_inner\">\\xec\\x9c\\xa0 \\xed\\x80\\xb4\\xec\\xa6\\x88 \\xec\\x98\\xa8 \\xeb\\x8d\\x94 \\xeb\\xb8\\x94\\xeb\\x9f\\xad</span>\\n\\t\\t\\t\\t\\t\\t\\t\\t\\t\\t</span>\\n\\t\\t\\t\\t\\t\\t\\t\\t\\t\\n\\t\\t\\t\\t\\t\\t\\t\\t</div>\\n\\t\\t\\t\\t\\t\\t\\t</div>\\n\\t\\t\\t\\t\\t\\t</div>\\n\\t\\t\\t\\t\\t</a>\\n\\t\\t\\t\\t\\n\\t\\t\\t\\n\\t\\t\\t\\t\\n\\t\\t\\t\\t\\t<a href=\"https://tv.naver.com/v/31584541\" class=\"media_area\" data-da-position=\"true\" data-gdid=\"PC-THEME-ENTER-RANKING-5[materials][8]\"\\n\\t\\t\\t\\t\\t   data-clk=\"tcc_tvc.list6cont9\" target=\"_blank\">\\n\\t\\t\\t\\t\\t\\t<div class=\"media_thumb\">\\n\\t\\t\\t\\t\\t\\t\\t<img \\n\\t\\t\\t\\t\\t\\t\\t     data-src=\"https://s.pstatic.net/dthumb.phinf/?src&#x3D;%22https%3A%2F%2Fs.pstatic.net%2Ftvcast.phinf%2F20221213_28%2F9Ix3x_1670942193917e7Um0_JPEG%2F20221213232404_21_904_1117327_1080_7.jpg%22&amp;type&#x3D;nf464_260\" alt=\"\" width=\"232\" height=\"130\"\\n\\t\\t\\t\\t\\t\\t\\t     onerror=\"this.outerHTML=\\'<span class=\\\\\\'pm_noimg\\\\\\'><span class=\\\\\\'noimg_text\\\\\\'>\\xec\\x9d\\xb4\\xeb\\xaf\\xb8\\xec\\xa7\\x80 \\xec\\xa4\\x80\\xeb\\xb9\\x84\\xec\\xa4\\x91</span></span>\\'\">\\n\\n\\t\\t\\t\\t\\t\\t\\t\\n\\t\\t\\t\\t\\t\\t\\t\\t<span class=\"thumb_dim\"></span>\\n\\t\\t\\t\\t\\t\\t\\t\\t<span class=\"thumb_bd\"></span>\\n\\t\\t\\t\\t\\t\\t\\t\\t<i class=\"pm_ico_play\"><span class=\"blind\">\\xec\\x9e\\xac\\xec\\x83\\x9d</span></i>\\n\\t\\t\\t\\t\\t\\t\\t\\t<span class=\"theme_runtime\"><span class=\"runtime_bg\">\\xec\\x9e\\xac\\xec\\x83\\x9d\\xec\\x8b\\x9c\\xea\\xb0\\x84</span><em\\n\\t\\t\\t\\t\\t\\t\\t\\t\\t\\tclass=\"time\">4:22</em></span>\\n\\t\\t\\t\\t\\t\\t\\t\\n\\t\\t\\t\\t\\t\\t</div>\\n\\t\\t\\t\\t\\t\\t<div class=\"media_info\">\\n\\t\\t\\t\\t\\t\\t\\t<div class=\"info_box\">\\n\\t\\t\\t\\t\\t\\t\\t\\t\\n\\t\\t\\t\\t\\t\\t\\t\\t\\t<em class=\"theme_category\">TV \\xec\\x98\\x88\\xeb\\x8a\\xa5</em>\\n\\t\\t\\t\\t\\t\\t\\t\\t\\n\\t\\t\\t\\t\\t\\t\\t\\t\\n\\t\\t\\t\\t\\t\\t\\t\\t<strong class=\"title \">[\\xea\\xb3\\xa0\\xeb\\x94\\xa9\\xec\\x97\\x84\\xeb\\xb9\\xa02] \\xec\\x95\\x84\\xeb\\xac\\xb4 \\xea\\xb2\\x83\\xeb\\x8f\\x84 \\xed\\x95\\x98\\xec\\xa7\\x80 \\xec\\x95\\x8a\\xeb\\x8a\\x94 \\xea\\xb3\\xa0\\xeb\\x94\\xa9\\xec\\x97\\x84\\xeb\\xa7\\x88\\xec\\x97\\x90\\xea\\xb2\\x8c \\xea\\xb2\\xb0\\xea\\xb5\\xad \\xeb\\xb6\\x84\\xeb\\x85\\xb8\\xed\\x95\\x9c \\xed\\x9d\\xac\\xec\\x9b\\x90\\xeb\\xa7\\x98! MBN 221213 \\xeb\\xb0\\xa9\\xec\\x86\\xa1</strong>\\n\\t\\t\\t\\t\\t\\t\\t\\t<div class=\"source_wrap\">\\n\\t\\t\\t\\t\\t\\t\\t\\t\\t\\n\\t\\t\\t\\t\\t\\t\\t\\t\\t\\t<span class=\"date\">15\\xec\\x8b\\x9c\\xea\\xb0\\x84 \\xec\\xa0\\x84</span>\\n\\t\\t\\t\\t\\t\\t\\t\\t\\t\\t<span class=\"source\">\\n\\t\\t\\t\\t\\t\\t\\t\\t\\t\\t\\t\\n\\t\\t\\t\\t\\t\\t\\t\\t\\t\\t<span class=\"source_inner\">\\xea\\xb3\\xa0\\xeb\\x94\\xa9\\xec\\x97\\x84\\xeb\\xb9\\xa02</span>\\n\\t\\t\\t\\t\\t\\t\\t\\t\\t\\t</span>\\n\\t\\t\\t\\t\\t\\t\\t\\t\\t\\n\\t\\t\\t\\t\\t\\t\\t\\t</div>\\n\\t\\t\\t\\t\\t\\t\\t</div>\\n\\t\\t\\t\\t\\t\\t</div>\\n\\t\\t\\t\\t\\t</a>\\n\\t\\t\\t\\t\\n\\t\\t\\t\\n\\t\\t</div>\\n\\t</div>\\n</div>\\n\\n\\n\\n\\n\\n\\t<div class=\"btn_more_wrap\">\\n\\t\\t<button type=\"button\" class=\"btn_more\" data-clk-custom=\"tcc_tvc.more\" data-next-page=\"2\"><i class=\"ico_more\"></i>\\xec\\x83\\x88\\xeb\\xa1\\x9c\\xec\\x9a\\xb4 \\xea\\xb8\\x80 \\xeb\\x8d\\x94\\xeb\\xb3\\xb4\\xea\\xb8\\xb0</button>\\n\\t</div>\\n\\n\\n<div class=\"NM_THEME_META\" style=\"display: none\" data-panel-code=\"ENTER\" data-parent-code=\"\"></div>\\n\\n\\t</div>\\n</div>\\n </div> </div> <div id=\"NM_INT_RIGHT\" class=\"column_right\"> <div class=\"column_fix_wrap\"> <div id=\"da_brand\"></div> \\n\\n\\n\\n\\n\\n<div id=\"account\" class=\"sc_login\">\\n<h2 class=\"blind\">Sign in</h2>\\n<p class=\"login_msg\">Connect with people</p>\\n<a href=\"https://nid.naver.com/nidlogin.login?mode=form&url=https%3A%2F%2Fwww.naver.com\" class=\"link_login\" data-clk=\"log_off.login\"><i class=\"ico_naver\"><span class=\"blind\">NAVER</span></i>Sign in</a>\\n<div class=\"sub_area\">\\n<div class=\"look_box\">\\n<a href=\"https://nid.naver.com/user/help.nhn?todo=idinquiry\" class=\"link_look\" data-clk=\"log_off.searchid\">Forgot Username</a>\\n<a href=\"https://nid.naver.com/nidreminder.form\" class=\"link_look\" data-clk=\"log_off.searchpass\">Password</a>\\n</div>\\n<a href=\"https://nid.naver.com/nidregister.form?url=https%3A%2F%2Fwww.naver.com\" class=\"link_join\" data-clk=\"log_off.registration\">Sign up</a>\\n</div>\\n</div>\\n\\n\\n\\n <div id=\"timesquare\" class=\"sc_timesquare\"> <h2 class=\"blind\">\\xed\\x83\\x80\\xec\\x9e\\x84\\xec\\x8a\\xa4\\xed\\x80\\x98\\xec\\x96\\xb4</h2> <div class=\"card_wrap\">\\n<div class=\"card_nav\">\\n<a href=\"#\" role=\"button\" class=\"btn_nav btn_prev\" data-clk=\"squ.pre\"><span class=\"blind\">\\xec\\x9d\\xb4\\xec\\xa0\\x84</span></a>\\n<a href=\"#\" role=\"button\" class=\"btn_nav btn_next\" data-clk=\"squ.next\"><span class=\"blind\">\\xeb\\x8b\\xa4\\xec\\x9d\\x8c</span></a>\\n</div>\\n<div id=\"NM_TS_ROLLING_WRAP\" style=\"height: 100%;\">\\n<div>\\n<a href=\"https://search.naver.com/search.naver?sm=top_hty&amp;fbm=0&amp;ie=utf8&amp;query=%EC%BD%94%EB%A1%9C%EB%82%9819\" class=\"card_news\" data-clk=\"squ.line3\"><i class=\"news_badge\">\\xec\\x9d\\xb4\\xec\\x8a\\x88</i><span class=\"news\">\\xec\\xbd\\x94\\xeb\\xa1\\x9c\\xeb\\x82\\x98\\xeb\\xb0\\x94\\xec\\x9d\\xb4\\xeb\\x9f\\xac\\xec\\x8a\\xa4\\xea\\xb0\\x90\\xec\\x97\\xbc\\xec\\xa6\\x9d-19 \\xed\\x98\\x84\\xed\\x99\\xa9</span></a>\\n</div>\\n<div>\\n<a href=\"https://finance.naver.com/sise/sise_index.nhn?code=KOSPI\" class=\"card_stock \" data-clk=\"squ.kospi\">\\n<strong class=\"stock_title\">\\xec\\xa6\\x9d\\xec\\x8b\\x9c</strong>\\n<div class=\"stock_box\">\\n<em class=\"name\">\\xec\\xbd\\x94\\xec\\x8a\\xa4\\xed\\x94\\xbc</em>\\n<strong class=\"current\">2,400.05</strong>\\n<span class=\"rate rate_up\"><span class=\"blind\">\\xec\\x83\\x81\\xec\\x8a\\xb9</span>27.65 +1.17%</span>\\n</div>\\n</a>\\n</div>\\n<div>\\n<a href=\"https://finance.naver.com/sise/sise_index.nhn?code=KOSDAQ\" class=\"card_stock \" data-clk=\"squ.kosdaq\">\\n<strong class=\"stock_title\">\\xec\\xa6\\x9d\\xec\\x8b\\x9c</strong>\\n<div class=\"stock_box\">\\n<em class=\"name\">\\xec\\xbd\\x94\\xec\\x8a\\xa4\\xeb\\x8b\\xa5</em>\\n<strong class=\"current\">728.95</strong>\\n<span class=\"rate rate_up\"><span class=\"blind\">\\xec\\x83\\x81\\xec\\x8a\\xb9</span>13.79 +1.93%</span>\\n</div>\\n</a>\\n</div>\\n<div>\\n<a href=\"https://finance.naver.com/marketindex/exchangeDetail.nhn?marketindexCd=FX_USDKRW\" class=\"card_stock type_exchange\" data-clk=\"squ.usd\">\\n<strong class=\"stock_title\">\\xed\\x99\\x98\\xec\\x9c\\xa8</strong>\\n<div class=\"stock_box\">\\n<em class=\"name\">USD</em>\\n<strong class=\"current\">1,295.00</strong>\\n<span class=\"rate rate_down\"><span class=\"blind\">\\xed\\x95\\x98\\xeb\\x9d\\xbd</span>3.00 -0.23%</span>\\n</div>\\n</a>\\n</div>\\n</div>\\n</div> <!-- EMPTY --> </div> <div id=\"veta_branding\"> <span class=\"blind\"> <script id=\"veta_service_check\"></script> </span> <div id=\"veta_branding_inner\" style=\"width:350px;height:200px\"> </div> <span class=\"veta_bd_t\"></span> <span class=\"veta_bd_b\"></span> <span class=\"veta_bd_l\"></span> <span class=\"veta_bd_r\"></span> </div> <div id=\"shopcast\" class=\"sc_shopcast\"> <iframe id=\"shopcast_iframe\" data-iframe-src=\"/shoppingbox/shoppingboxnew/main.nhn?mode=plusdeal&domain=N\" title=\"\\xec\\x87\\xbc\\xed\\x95\\x91\\xec\\xba\\x90\\xec\\x8a\\xa4\\xed\\x8a\\xb8\" width=\"350\" height=\"1809\" marginheight=\"0\" marginwidth=\"0\" scrolling=\"no\" frameborder=\"0\"></iframe> </div> </div> </div> <a id=\"NM_scroll_top_btn\" href=\"#wrap\" class=\"content_top\"><span class=\"blind\">TOP</span></a> <button id=\"NM_darkmode_btn\" type=\"button\" role=\"button\" class=\"btn_theme\" aria-pressed=\"false\"  > <span class=\"blind\">\\xeb\\x9d\\xbc\\xec\\x9d\\xb4\\xed\\x8a\\xb8 \\xeb\\xaa\\xa8\\xeb\\x93\\x9c\\xeb\\xa1\\x9c \\xeb\\xb3\\xb4\\xea\\xb8\\xb0</span> </button> </div> <div id=\"footer\" role=\"contentinfo\"> <div class=\"footer_inner\"> <div id=\"NM-FOOTER-AD\" class=\"banner_area\"> <div class=\"da_box_wrap\"> <div id=\"da_public_left\"> </div> <div id=\"da_public_right\"> </div> <div id=\"veta_time2\"> </div> </div> </div> <div class=\"notice_area\" data-clk-prefix=\"ntc\"> <div class=\"notice_box\"> <h3 class=\"title\"><a href=\"https://www.naver.com/NOTICE\">\\xea\\xb3\\xb5\\xec\\xa7\\x80\\xec\\x82\\xac\\xed\\x95\\xad</a> </h3> <a data-clk=\"notice\" href=\"https://notice.naver.com/notices/wwwpc/8960\" class=\"notice_msg\" >\\n\\xeb\\x84\\xa4\\xec\\x9d\\xb4\\xeb\\xb2\\x84\\xec\\x97\\x90\\xec\\x84\\x9c \\xed\\x98\\xb8\\xed\\x85\\x94\\xec\\x9d\\x84 \\xeb\\x8d\\x94\\xec\\x9a\\xb1 \\xed\\x8e\\xb8\\xeb\\xa6\\xac\\xed\\x95\\x98\\xea\\xb2\\x8c \\xec\\x9d\\xb4\\xec\\x9a\\xa9\\xed\\x95\\xb4\\xeb\\xb3\\xb4\\xec\\x84\\xb8\\xec\\x9a\\x94.\\n</a> </div> <a href=\"more.html\" class=\"link_all\" data-clk=\"svcmap\">\\xec\\x84\\x9c\\xeb\\xb9\\x84\\xec\\x8a\\xa4 \\xec\\xa0\\x84\\xec\\xb2\\xb4\\xeb\\xb3\\xb4\\xea\\xb8\\xb0</a> </div> <div class=\"aside_area\"> <div class=\"partner_box_wrap\"> <div class=\"partner_box\" data-clk-prefix=\"crt\"> <h3 class=\"title\">Creators</h3> <a href=\"https://www.navercorp.com/service/creators\" class=\"link_partner\" data-clk=\"creator\">\\xed\\x81\\xac\\xeb\\xa6\\xac\\xec\\x97\\x90\\xec\\x9d\\xb4\\xed\\x84\\xb0</a> <a href=\"https://www.navercorp.com/service/business\" class=\"link_partner\" data-clk=\"smbusiness\">\\xec\\x8a\\xa4\\xeb\\xaa\\xb0\\xeb\\xb9\\x84\\xec\\xa6\\x88\\xeb\\x8b\\x88\\xec\\x8a\\xa4</a> </div> <div class=\"partner_box\" data-clk-prefix=\"crt\"> <h3 class=\"title\">Partners</h3> <a href=\"https://campaign.naver.com/smefullcare/online/\" class=\"link_partner\" data-clk=\"sme\">SME \\xed\\x92\\x80\\xec\\xbc\\x80\\xec\\x96\\xb4 \\xec\\x8b\\x9c\\xec\\x8a\\xa4\\xed\\x85\\x9c</a> <a href=\"https://business.naver.com/service.html\" class=\"link_partner\" data-clk=\"service\">\\xeb\\xb9\\x84\\xec\\xa6\\x88\\xeb\\x8b\\x88\\xec\\x8a\\xa4 \\xc2\\xb7 \\xea\\xb4\\x91\\xea\\xb3\\xa0</a> <a href=\"https://sell.storefarm.naver.com/#/home/about\" class=\"link_partner\" data-clk=\"store\">\\xec\\x8a\\xa4\\xed\\x86\\xa0\\xec\\x96\\xb4 \\xea\\xb0\\x9c\\xec\\x84\\xa4</a> <a href=\"https://smartplace.naver.com\" class=\"link_partner\" data-clk=\"place\">\\xec\\xa7\\x80\\xec\\x97\\xad\\xec\\x97\\x85\\xec\\xb2\\xb4 \\xeb\\x93\\xb1\\xeb\\xa1\\x9d</a> <a href=\"https://expert.naver.com/expert/introduction?tab=guide#join\" class=\"link_partner\" data-clk=\"expert\">\\xec\\x97\\x91\\xec\\x8a\\xa4\\xed\\x8d\\xbc\\xed\\x8a\\xb8 \\xeb\\x93\\xb1\\xeb\\xa1\\x9d</a> </div> <div class=\"partner_box\" data-clk-prefix=\"crt\"> <h3 class=\"title\">Developers</h3> <a href=\"https://developers.naver.com\" class=\"link_partner\" data-clk=\"center\">\\xeb\\x84\\xa4\\xec\\x9d\\xb4\\xeb\\xb2\\x84 \\xea\\xb0\\x9c\\xeb\\xb0\\x9c\\xec\\x9e\\x90 \\xec\\x84\\xbc\\xed\\x84\\xb0</a> <a href=\"https://developers.naver.com/docs/common/openapiguide/#/apilist.md\" class=\"link_partner\" data-clk=\"openapi\">\\xec\\x98\\xa4\\xed\\x94\\x88 API</a> <a href=\"https://naver.github.io\" class=\"link_partner\" data-clk=\"opensource\">\\xec\\x98\\xa4\\xed\\x94\\x88\\xec\\x86\\x8c\\xec\\x8a\\xa4</a> <a href=\"https://d2.naver.com\" class=\"link_partner\" data-clk=\"d2\">\\xeb\\x84\\xa4\\xec\\x9d\\xb4\\xeb\\xb2\\x84 D2</a> <a href=\"http://d2startup.com\" class=\"link_partner\" data-clk=\"naverD2SF\">\\xeb\\x84\\xa4\\xec\\x9d\\xb4\\xeb\\xb2\\x84 D2SF</a> <a href=\"https://www.naverlabs.com\" class=\"link_partner\" data-clk=\"labs\">\\xeb\\x84\\xa4\\xec\\x9d\\xb4\\xeb\\xb2\\x84 \\xeb\\x9e\\xa9\\xec\\x8a\\xa4</a> </div> </div> <div class=\"service_box_wrap\"> <div class=\"service_box\" data-clk-prefix=\"wbd\"> <a href=\"http://whale.naver.com/\" class=\"service_logo\" data-clk=\"bt\"> <img src=\"data:image/png;base64,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\" alt=\"\\xec\\x9b\\xa8\\xec\\x9d\\xbc\" width=\"48\" height=\"48\"> </a> <div class=\"service_info\"> <strong class=\"title\">\\xec\\x9b\\xa8\\xec\\x9d\\xbc \\xeb\\xb8\\x8c\\xeb\\x9d\\xbc\\xec\\x9a\\xb0\\xec\\xa0\\x80</strong> <a href=\"http://whale.naver.com/\" class=\"dsc\" data-clk=\"bt\">\\xeb\\x8b\\xa4\\xec\\x9a\\xb4\\xeb\\xb0\\x9b\\xea\\xb8\\xb0</a> </div> </div> <div class=\"service_box\" data-clk-prefix=\"prj\"> <a href=\"https://search.naver.com/search.naver?where=nexearch&sm=top_hty&fbm=1&ie=utf8&query=%ED%94%84%EB%A1%9C%EC%A0%9D%ED%8A%B8%EA%BD%83\" class=\"service_logo\" data-clk=\"link\"> <img src=\"data:image/png;base64,iVBORw0KGgoAAAANSUhEUgAAAF4AAABkCAMAAAA47XeXAAAAgVBMVEUAAADN5PdGm99Gm99Gm99Gm99Gm95Gm99Gm99Gm99Gm99Gm99Gm99Gm99Gm99Gm99Gm99Gm99Gm99Gm99Gm99Gm99Gm99Gmt9Gm99Gm99Gm99Gm95Gm99Gm99Gm95Gm99Hm99Gm99Gm9/////3+/5cp+LO5PfR5/fO5fdcp+P7/f/zv5GhAAAAInRSTlMA/v7vH9u5qJNgGwb6l8a9uqF9WFUyLxYMCtbVmLCwe4OCj8gzEgAAA0NJREFUaN7NmmFz4iAQhkkwMTHGWrWtWvWuq8mF+/8/8Ey2nb0OhSwQZnw+MHQ7pbjAy2s2gsuiLPJMLpcyy4tyISZltnmHbxw3MzEVr/MUNNL5q5iCt2ccXCN9fhPB7CQYkTsRRlWDlboSAexzGCHfC28OKxhldfDOzBMwePLNTw0sauHFFphshQcLCUwkaQRfXYBPSkrEUBdv3jezcXXhw1ciUhc+fCUidQlH7qzqEk5d2dQlnHxvU5dwVgdXdSGclaiGyamt6hLO1qIu4ZASzcFE092SBprk1jagulvXAAw/qb5N7m176xQYmOPoLymYaK/X65/PNhlagE6LGUhfRM8FjNzuf/73//bHmInzoJEpjMyeWpp9RzGz/PT6+QvMNO2Q+67PPeYZY5h7jDVg5OM+/BGikd13JfDAj/Ad1WLMyEyUwKPT00ypN1GKAljQJtFiFgqRe86eYhbWIvPPPR5d+9pKiIgUwKNJdHXBvW9jyRye1EWLWYfnJcd141Byspizz7gbUyWDuqiW0v15D9g3ZgF86JwyKUgUHJaATUmS5rsEdkkTZLjZS8Alw+skFr8Nl6H6uosShaKOp3Zo+/jgFTDe+wcSfv0yFGfQaLX7tDO0reXOPRuMCG4Q11Y3IiYblWgzS7R+h31qdRtlGB7zikeUckz+AB3a8FuMqD7Cd2nhUHLOEIkLubQIkEuLxIdwEwUy3HyXxsbgPMJcGuGox+TSIugxuTQ+KHIaAS5N92eIIuMT5tJoPfHy5q9yKoXLelLuKRri0mjMQdhwTPw6Sv8pzKXhFyhNilEwkSCXRrnAnaPnJdyl0UrqXircpeHVglnv+62K4NJo3lFcGmWd79KO7OQoXAE8XNO6tIQGxj7fpfHTwk8RubQLWEGvgTNGKzj01fixunCMCCYcvSSlaFwUyKVx86J3bczpUR3zimq1LqdosAUbJF54ar+uk5Gju436mPTk8ZAXFdO93HRYTesUVgf3B+y0XdxLfdVputmfKp/iBtNjyl3c0kzUwtJIWewIPvAL9LOyWLsV9WAps3VRzh6hJBm3oOqsRKfHLGYzS/GP+iLBuBKdqkd+iWPkFZTHf4Em4us/uhI5qss/6zK5u8+AXpwAAAAASUVORK5CYII=\" alt=\"\\xea\\xbd\\x83\" width=\"47\" height=\"50\"> </a> <div class=\"service_info\"> <strong class=\"title\">\\xed\\x94\\x84\\xeb\\xa1\\x9c\\xec\\xa0\\x9d\\xed\\x8a\\xb8 \\xea\\xbd\\x83</strong> <a href=\"https://search.naver.com/search.naver?where=nexearch&sm=top_hty&fbm=1&ie=utf8&query=%ED%94%84%EB%A1%9C%EC%A0%9D%ED%8A%B8%EA%BD%83\" class=\"dsc\" data-clk=\"link\">\\xeb\\xb0\\x94\\xeb\\xa1\\x9c\\xea\\xb0\\x80\\xea\\xb8\\xb0</a> </div> </div> </div> </div> <div class=\"corp_area\" data-clk-prefix=\"plc\"> <h3 class=\"blind\">\\xeb\\x84\\xa4\\xec\\x9d\\xb4\\xeb\\xb2\\x84 \\xec\\xa0\\x95\\xec\\xb1\\x85 \\xeb\\xb0\\x8f \\xec\\x95\\xbd\\xea\\xb4\\x80</h3> <ul class=\"list_corp\"> <li class=\"corp_item\"><a href=\"https://www.navercorp.com\" data-clk=\"intronhn\">\\xed\\x9a\\x8c\\xec\\x82\\xac\\xec\\x86\\x8c\\xea\\xb0\\x9c</a></li> <li class=\"corp_item\"><a href=\"https://recruit.navercorp.com/\" data-clk=\"recruit\">\\xec\\x9d\\xb8\\xec\\x9e\\xac\\xec\\xb1\\x84\\xec\\x9a\\xa9</a></li> <li class=\"corp_item\"><a href=\"https://www.navercorp.com/naver/proposalGuide\" data-clk=\"contact\">\\xec\\xa0\\x9c\\xed\\x9c\\xb4\\xec\\xa0\\x9c\\xec\\x95\\x88</a></li> <li class=\"corp_item\"><a href=\"/policy/service.html\" data-clk=\"service\">\\xec\\x9d\\xb4\\xec\\x9a\\xa9\\xec\\x95\\xbd\\xea\\xb4\\x80</a></li> <li class=\"corp_item\"><a href=\"/policy/privacy.html\" data-clk=\"privacy\"><strong>\\xea\\xb0\\x9c\\xec\\x9d\\xb8\\xec\\xa0\\x95\\xeb\\xb3\\xb4\\xec\\xb2\\x98\\xeb\\xa6\\xac\\xeb\\xb0\\xa9\\xec\\xb9\\xa8</strong></a></li> <li class=\"corp_item\"><a href=\"/policy/youthpolicy.html\" data-clk=\"youth\">\\xec\\xb2\\xad\\xec\\x86\\x8c\\xeb\\x85\\x84\\xeb\\xb3\\xb4\\xed\\x98\\xb8\\xec\\xa0\\x95\\xec\\xb1\\x85</a></li> <li class=\"corp_item\"><a href=\"https://policy.naver.com/policy/service_group.html\" data-clk=\"policy\">\\xeb\\x84\\xa4\\xec\\x9d\\xb4\\xeb\\xb2\\x84 \\xec\\xa0\\x95\\xec\\xb1\\x85</a></li> <li class=\"corp_item\"><a href=\"https://help.naver.com/\" data-clk=\"helpcenter\">\\xea\\xb3\\xa0\\xea\\xb0\\x9d\\xec\\x84\\xbc\\xed\\x84\\xb0</a></li> </ul> <address class=\"addr\"><a href=\"https://www.navercorp.com\" target=\"_blank\" data-clk=\"nhn\">\\xe2\\x93\\x92 NAVER Corp.</a></address> </div> </div> </div> </div> <div id=\"adscript\" style=\"display:none\"></div> </body> </html>\\n'\n"
     ]
    }
   ],
   "source": [
    "import urllib.request\n",
    "response = urllib.request.urlopen(\"http://naver.com\")\n",
    "print(response.read())"
   ]
  },
  {
   "attachments": {},
   "cell_type": "markdown",
   "metadata": {},
   "source": [
    "수많은 파이썬 모듈은 어떻게 검색할 것인가 ?\n",
    ": 모듈의 적당한 키워드를 알아놓는게 중요함.\n",
    "- 구글링\n",
    "- 모듈 import 후 검색, help\n",
    "- 공식문서"
   ]
  },
  {
   "attachments": {},
   "cell_type": "markdown",
   "metadata": {},
   "source": [
    "# 패키지"
   ]
  },
  {
   "attachments": {},
   "cell_type": "markdown",
   "metadata": {},
   "source": [
    "- 하나의 대형 플젝을 만드는 코드의 묶음\n",
    "- 다양한 모듈들의 합, 폴더로 연결\n",
    "- __init__, __main__등 키워드파일명이 사용됨\n",
    "- 다양한 오픈소스들이 패키지로 관리됨"
   ]
  },
  {
   "attachments": {},
   "cell_type": "markdown",
   "metadata": {},
   "source": [
    "package namespace\n",
    "\n",
    "package 내에서 다른 폴더의 모듈을 부를 때 상대 참조로 호출하는 방법\n",
    "\n",
    "절대 참조\n",
    "\n",
    "from game.graphic.render import render_test()\n",
    "\n",
    "from .render import render_test()\n",
    "\n",
    "현재 디렉토리 기준\n",
    "\n",
    "from ..sound import echo_test()\n",
    "\n",
    "부모 디렉토리 기준\n"
   ]
  },
  {
   "attachments": {},
   "cell_type": "markdown",
   "metadata": {},
   "source": [
    "# 오픈소스 라이브러리 사용하기\n",
    "## 두개의 프로젝트 웹, 데이터분석 패키지는 둘다 설치 ?"
   ]
  },
  {
   "attachments": {},
   "cell_type": "markdown",
   "metadata": {},
   "source": [
    "### 가상환경 설정하기 (Virtual Environment)"
   ]
  },
  {
   "attachments": {},
   "cell_type": "markdown",
   "metadata": {},
   "source": [
    "프로젝트 목적에 맞춰서 새로운 환경을 설치해 주는 것"
   ]
  },
  {
   "attachments": {},
   "cell_type": "markdown",
   "metadata": {},
   "source": [
    "- 프로젝트 진행 시 필요한 패키지만 설치하는 환경\n",
    "- 기본 인터프리터 + 프로젝트 종류별 패키지 설치 (ex. Web project, data analysis project)\n",
    "- 다양한 패키지 관리도구들 사용\n"
   ]
  },
  {
   "attachments": {},
   "cell_type": "markdown",
   "metadata": {},
   "source": [
    "##### virtualenv, conda가 있음\n",
    "\n",
    "virtualenv : 레퍼런스+패키지 개수\n",
    "\n",
    "conda : 상용 가상환경도구, 설치의 용이성, Windows에서 장점"
   ]
  },
  {
   "cell_type": "markdown",
   "metadata": {},
   "source": []
  }
 ],
 "metadata": {
  "kernelspec": {
   "display_name": "py38",
   "language": "python",
   "name": "python3"
  },
  "language_info": {
   "codemirror_mode": {
    "name": "ipython",
    "version": 3
   },
   "file_extension": ".py",
   "mimetype": "text/x-python",
   "name": "python",
   "nbconvert_exporter": "python",
   "pygments_lexer": "ipython3",
   "version": "3.8.5"
  },
  "orig_nbformat": 4,
  "vscode": {
   "interpreter": {
    "hash": "397d1b55ac49f148c32fdc31a2d4cb96fd8a4febba38b1e5ec0b6f7671efd6b1"
   }
  }
 },
 "nbformat": 4,
 "nbformat_minor": 2
}
