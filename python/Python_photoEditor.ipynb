{
 "cells": [
  {
   "cell_type": "code",
   "execution_count": 1,
   "metadata": {},
   "outputs": [
    {
     "name": "stdout",
     "output_type": "stream",
     "text": [
      "/Users/Kimdaseul/Documents/dev/TIL/python\n"
     ]
    }
   ],
   "source": [
    "!pwd"
   ]
  },
  {
   "cell_type": "code",
   "execution_count": 2,
   "metadata": {},
   "outputs": [],
   "source": [
    "from PIL import Image, ImageEnhance, ImageFilter\n",
    "import os \n",
    "\n",
    "path = './imgs'\n",
    "pathOut = '/editedImgs'\n",
    "\n"
   ]
  },
  {
   "cell_type": "code",
   "execution_count": 3,
   "metadata": {},
   "outputs": [],
   "source": [
    "for filename in os.listdir(path):\n",
    "    img = Image.open(f\"{path}/{filename}\")\n",
    "    \n",
    "    edit = img.filter(ImageFilter.SHARPEN)\n",
    "    \n",
    "    clean_name = os.path.splitext(filename)[0]\n",
    "    \n",
    "    edit.save(f'.{pathOut}/{clean_name}_edited.jpg')"
   ]
  },
  {
   "cell_type": "code",
   "execution_count": null,
   "metadata": {},
   "outputs": [],
   "source": []
  }
 ],
 "metadata": {
  "kernelspec": {
   "display_name": "base",
   "language": "python",
   "name": "python3"
  },
  "language_info": {
   "codemirror_mode": {
    "name": "ipython",
    "version": 3
   },
   "file_extension": ".py",
   "mimetype": "text/x-python",
   "name": "python",
   "nbconvert_exporter": "python",
   "pygments_lexer": "ipython3",
   "version": "3.9.10"
  },
  "orig_nbformat": 4,
  "vscode": {
   "interpreter": {
    "hash": "58cfff075700c87ed9f50485baf20919590ba245c93a445b610f222ec3837e28"
   }
  }
 },
 "nbformat": 4,
 "nbformat_minor": 2
}
